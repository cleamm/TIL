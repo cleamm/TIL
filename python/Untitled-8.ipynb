{
 "cells": [
  {
   "cell_type": "code",
   "execution_count": 1,
   "metadata": {},
   "outputs": [],
   "source": [
    "import re"
   ]
  },
  {
   "cell_type": "code",
   "execution_count": 10,
   "metadata": {},
   "outputs": [
    {
     "data": {
      "text/plain": [
       "<re.Match object; span=(0, 4), match='ab7d'>"
      ]
     },
     "execution_count": 10,
     "metadata": {},
     "output_type": "execute_result"
    }
   ],
   "source": [
    "re.match('abc?d', 'abd')\n",
    "re.match('abc?d', 'abcd')\n",
    "re.match('abc?d', 'abccd')\n",
    "re.match('ab.d', 'ab')\n",
    "re.match('ab.d', 'ab7d')"
   ]
  },
  {
   "cell_type": "code",
   "execution_count": 33,
   "metadata": {},
   "outputs": [
    {
     "data": {
      "text/plain": [
       "<re.Match object; span=(0, 6), match='hihihi'>"
      ]
     },
     "execution_count": 33,
     "metadata": {},
     "output_type": "execute_result"
    }
   ],
   "source": [
    "re.match('a{3}', 'aaa') # 정확히 a가 3글자\n",
    "re.match('a{3}', 'aaaa')\n",
    "re.match('a{3}', 'baaaa')\n",
    "re.match('a{3}', 'aabaa')\n",
    "re.match('abc{3}', 'aabaa')\n",
    "re.match('abc{3}', 'abccc') # 뒤의 c 3개까지 일치해야 함\n",
    "re.match('hi{3}', 'hiiiii')\n",
    "re.match('(hi){3}', 'hiiiii') # 괄호로 묶으면 하나의 패턴으로 인식하게 되어 hi를 3번해야됨\n",
    "re.match('(hi){3}', 'hihihihihihi')"
   ]
  },
  {
   "cell_type": "code",
   "execution_count": 44,
   "metadata": {},
   "outputs": [
    {
     "data": {
      "text/plain": [
       "<re.Match object; span=(0, 13), match='010-1234-5678'>"
      ]
     },
     "execution_count": 44,
     "metadata": {},
     "output_type": "execute_result"
    }
   ],
   "source": [
    "re.match('[0-9]','5') # 문자열이어야 패턴 인식함\n",
    "re.match('[0-9]*','597841') \n",
    "re.match('[0-9]+','597841')\n",
    "re.match('[0-9]+-[0-9]+-[0-9]+','010-1234-5678')"
   ]
  },
  {
   "cell_type": "code",
   "execution_count": 46,
   "metadata": {},
   "outputs": [
    {
     "data": {
      "text/plain": [
       "'010-1234-5677'"
      ]
     },
     "execution_count": 46,
     "metadata": {},
     "output_type": "execute_result"
    }
   ],
   "source": [
    "tel=\"010-1234-56778\"\n",
    "res=re.match(\"[0-9]{2,3}-[0-9]{3,4}-[0-9]{4}\",tel)\n",
    "tel[res.span()[0]:res.span()[1]]\n",
    "res.group()"
   ]
  },
  {
   "cell_type": "code",
   "execution_count": 77,
   "metadata": {},
   "outputs": [
    {
     "data": {
      "text/plain": [
       "<re.Match object; span=(0, 9), match='Hell]o123'>"
      ]
     },
     "execution_count": 77,
     "metadata": {},
     "output_type": "execute_result"
    }
   ],
   "source": [
    "re.match('[A-Z]+[a-z]+[0-9]+', 'Hello123')\n",
    "re.match('[A-Z]{1}[a-z]+[0-9]+', 'Hello123')\n",
    "re.match('[A-Z]+[a-z0-9]+', 'Hello123')\n",
    "re.match('[A-z0-9]+', 'Hello123') # 이렇게 하면 아스키코드상 다른 특수문자가 포함될 수 있음.\n",
    "re.match('[A-z0-9]+', 'Hell]o123') # 예시 match='Hell]o123'\n",
    "# re.match('[A-z0-9]+', 'Hello123')"
   ]
  },
  {
   "cell_type": "code",
   "execution_count": 71,
   "metadata": {},
   "outputs": [
    {
     "data": {
      "text/plain": [
       "<re.Match object; span=(0, 8), match='Hello123'>"
      ]
     },
     "execution_count": 71,
     "metadata": {},
     "output_type": "execute_result"
    }
   ],
   "source": [
    "re.match('[A-Z][a-z]+[0-9]+', 'Hello123')"
   ]
  },
  {
   "cell_type": "code",
   "execution_count": 84,
   "metadata": {},
   "outputs": [],
   "source": [
    "re.match('[가-힣]+','딥러닝')\n",
    "re.match('[가-힣]+','ㄷㄹㄴ') # 자음 + 모음의 케이스만 출력\n",
    "re.match('[^0-9]+','딥러닝12023ㅁㅇ') # ^는 제외한다는 표시"
   ]
  },
  {
   "cell_type": "code",
   "execution_count": 95,
   "metadata": {},
   "outputs": [
    {
     "data": {
      "text/plain": [
       "<re.Match object; span=(0, 4), match='$300'>"
      ]
     },
     "execution_count": 95,
     "metadata": {},
     "output_type": "execute_result"
    }
   ],
   "source": [
    "re.match('[^0-9]','123')\n",
    "re.match('[^0-9]','abc')\n",
    "re.match('[^0-9]+','abc')\n",
    "re.match('[^0-9]+','abc123')\n",
    "re.match('[^0-9a-z]+','abc123')\n",
    "re.match('[^0-9a-z]+','오늘의 환율은 1300원임')\n",
    "re.match('[^a-zA-z가-힣]+','오늘의 환율은 1300원임') # 한글, 소문자, 대문자 차단ㅋ\n",
    "re.match('[^a-zA-z가-힣]+','$300') # 달러 및 다른 언어와 숫자는 표기됨"
   ]
  },
  {
   "cell_type": "code",
   "execution_count": 117,
   "metadata": {},
   "outputs": [],
   "source": [
    "re.match('[A-Z]+','Hi')\n",
    "re.match('^[A-Z]+','HELLOhi')\n",
    "re.match('^[A-Z]+','HELLOhi')\n",
    "re.match('[0-9]+$', 'saf123412') # 패턴$는 패턴으로 끝나는지 확인하지만 match로 탐색하므로 찾기가 어려워짐\n",
    "re.search('[0-9]+$', 'saf123412') # 패턴이 있는지 전체를 탐색하므로 패턴$로 끝나는 경우에 대해 탐색가능\n",
    "re.search('[0-9]+$','abc123abc') # 123이 중간에 있으므로 안됨"
   ]
  },
  {
   "cell_type": "code",
   "execution_count": 175,
   "metadata": {},
   "outputs": [
    {
     "data": {
      "text/plain": [
       "<re.Match object; span=(0, 8), match='$(print)'>"
      ]
     },
     "execution_count": 175,
     "metadata": {},
     "output_type": "execute_result"
    }
   ],
   "source": [
    "re.search('\\*+','3 ** 2') # \\를 붙이면 패턴인식 기호를 탐색할 수 있음.\n",
    "re.search('[*]+','3 ** 2') # 대괄호 안에 있는 경우도 하나의 문자로 인식하므로 사용 가능.\n",
    "re.search('[0-9]+[\" \"][*]+[\" \"][0-9]+[\" \"][/][\" \"]+[0-9]','2 ** 3 / 2')\n",
    "re.search('[$][(][a-z]+[)]','$(print)')\n",
    "re.search('[$(a-z)]+', '$(print)')"
   ]
  },
  {
   "cell_type": "code",
   "execution_count": null,
   "metadata": {},
   "outputs": [],
   "source": [
    "'''\n",
    "[0-9] == \\d\n",
    "숫자를 제외한 모든 문자 == [^0-9] == \\D\n",
    "[a-zA-Z0-9_ㄱ-ㅎ가-힣] == \\w\n",
    "[^a-zA-Z0-9_가-힣] == \\W\n",
    "즉 대문자는 반대로, 소문자의 의도대로\n",
    "'''"
   ]
  },
  {
   "cell_type": "code",
   "execution_count": 191,
   "metadata": {},
   "outputs": [
    {
     "data": {
      "text/plain": [
       "<re.Match object; span=(0, 8), match='$(print)'>"
      ]
     },
     "execution_count": 191,
     "metadata": {},
     "output_type": "execute_result"
    }
   ],
   "source": [
    "re.search(\"[$(a-z})]+\", \"$(print)\")"
   ]
  },
  {
   "cell_type": "code",
   "execution_count": 188,
   "metadata": {},
   "outputs": [
    {
     "data": {
      "text/plain": [
       "<re.Match object; span=(0, 3), match='hi '>"
      ]
     },
     "execution_count": 188,
     "metadata": {},
     "output_type": "execute_result"
    }
   ],
   "source": [
    "re.match('\\d+', '123')\n",
    "re.match('\\D+', 'hihello반가워~안녕!!')\n",
    "re.match('\\w+', 'hiHELLO_123안녕')\n",
    "re.match('\\W+', 'hiHELLO123안녕')\n",
    "re.match('[a-z]+\\s+', 'hi hello')"
   ]
  },
  {
   "cell_type": "code",
   "execution_count": 195,
   "metadata": {},
   "outputs": [
    {
     "data": {
      "text/plain": [
       "<re.Match object; span=(0, 9), match='abc123def'>"
      ]
     },
     "execution_count": 195,
     "metadata": {},
     "output_type": "execute_result"
    }
   ],
   "source": [
    "pt = re.compile('[0-9]+')\n",
    "pt.match('123')\n",
    "pt = re.compile('[0-9a-z]+')\n",
    "pt.search('abc123def')"
   ]
  },
  {
   "cell_type": "code",
   "execution_count": 201,
   "metadata": {},
   "outputs": [
    {
     "name": "stdout",
     "output_type": "stream",
     "text": [
      "매치됨 123\n",
      "<re.Match object; span=(0, 3), match='123'>\n"
     ]
    }
   ],
   "source": [
    "res = re.match('[0-9]+', '123')\n",
    "if res:\n",
    "    print('매치됨', res.group())\n",
    "else:\n",
    "    print('매치되지 않음')\n",
    "print(res)"
   ]
  },
  {
   "cell_type": "code",
   "execution_count": 202,
   "metadata": {},
   "outputs": [
    {
     "name": "stdout",
     "output_type": "stream",
     "text": [
      "매치되지 않음\n",
      "None\n"
     ]
    }
   ],
   "source": [
    "res = re.match('[0-9]+', '가123')\n",
    "if res:\n",
    "    print('매치됨', res.group())\n",
    "else:\n",
    "    print('매치되지 않음')\n",
    "print(res)"
   ]
  },
  {
   "cell_type": "code",
   "execution_count": 210,
   "metadata": {},
   "outputs": [
    {
     "name": "stdout",
     "output_type": "stream",
     "text": [
      "Do\n",
      "you\n",
      "have\n",
      "some\n",
      "money\n",
      "<re.Match object; span=(0, 2), match='Do'>\n",
      "<re.Match object; span=(3, 6), match='you'>\n",
      "<re.Match object; span=(7, 11), match='have'>\n",
      "<re.Match object; span=(12, 16), match='some'>\n",
      "<re.Match object; span=(17, 22), match='money'>\n"
     ]
    }
   ],
   "source": [
    "re.search('[a-zA-Z]+', 'Do you have some money?')\n",
    "res = re.findall('[a-zA-Z]+', 'Do you have some money?')\n",
    "for r in res:\n",
    "    print(r)\n",
    "\n",
    "res = re.finditer('[a-zA-Z]+', 'Do you have some money?')\n",
    "for r in res:\n",
    "    print(r)"
   ]
  },
  {
   "cell_type": "code",
   "execution_count": 215,
   "metadata": {},
   "outputs": [
    {
     "data": {
      "text/plain": [
       "(0, 3)"
      ]
     },
     "execution_count": 215,
     "metadata": {},
     "output_type": "execute_result"
    }
   ],
   "source": [
    "m = re.match('[0-9]+','123')\n",
    "m.start()\n",
    "m.end()\n",
    "m.span() # (start, end)\n",
    "m = re.match('[0-9]+','p 123')\n",
    "m"
   ]
  },
  {
   "cell_type": "code",
   "execution_count": 226,
   "metadata": {},
   "outputs": [
    {
     "data": {
      "text/plain": [
       "('100', '200')"
      ]
     },
     "execution_count": 226,
     "metadata": {},
     "output_type": "execute_result"
    }
   ],
   "source": [
    "# (정규식)(정규식)\n",
    "# 그룹 : (정규식)\n",
    "res = re.match('([0-9]+) ([0-9]+)', '100 200 300')\n",
    "res.group(1)\n",
    "res.group(2)\n",
    "res.group()\n",
    "res.groups() # 패턴에 매치된 문자열을 튜플형식으로 반환"
   ]
  },
  {
   "cell_type": "code",
   "execution_count": 244,
   "metadata": {},
   "outputs": [
    {
     "data": {
      "text/plain": [
       "'print'"
      ]
     },
     "execution_count": 244,
     "metadata": {},
     "output_type": "execute_result"
    }
   ],
   "source": [
    "re.match('[a-z]+','print(100)')\n",
    "re.match('([a-z]+)','print(100)') # 소괄호로 묶으면 group으로 나뉘게 됨\n",
    "re.match('[a-z()0-9]+','print(100)')\n",
    "res = re.match('(?P<func>[a-z]+)','print(100)') # func 그룹 이름에 해당되는 패턴에 매치된 문자열 반환\n",
    "res\n",
    "res = re.match('(?P<func>[a-z]+)\\((?P<arg>\\d+)\\)', 'print(100)')\n",
    "res.group('func')\n",
    "res.group('arg')"
   ]
  },
  {
   "cell_type": "code",
   "execution_count": 254,
   "metadata": {},
   "outputs": [
    {
     "data": {
      "text/plain": [
       "['10', '20', '50', '100', '200']"
      ]
     },
     "execution_count": 254,
     "metadata": {},
     "output_type": "execute_result"
    }
   ],
   "source": [
    "re.findall(\"(\\d+)\", \"10 20 sky 50 100 bird 200\")"
   ]
  },
  {
   "cell_type": "code",
   "execution_count": 260,
   "metadata": {},
   "outputs": [
    {
     "data": {
      "text/plain": [
       "['10', '20', '50', '100', '200']"
      ]
     },
     "execution_count": 260,
     "metadata": {},
     "output_type": "execute_result"
    }
   ],
   "source": [
    "list(map(int, re.findall('[0-9]+','10 20 sky 50 100 bird 200')))\n",
    "re.findall('(\\d+)','10 20 sky 50 100 bird 200')\n",
    "re.findall('(?P<lst>\\d+)','10 20 sky 50 100 bird 200')"
   ]
  },
  {
   "cell_type": "code",
   "execution_count": 266,
   "metadata": {},
   "outputs": [
    {
     "data": {
      "text/plain": [
       "'fruit fruit tree box fruit fruit fruit'"
      ]
     },
     "execution_count": 266,
     "metadata": {},
     "output_type": "execute_result"
    }
   ],
   "source": [
    "# re.sub('정규식', '바꿀 문자열', '문자열', '변경횟수')\n",
    "# 자연어 처리에서 문자열 전처리시 많이 사용되는 함수임\n",
    "\n",
    "re.sub('orange','fruit', 'orange banana tree box apple')\n",
    "re.sub('orange','fruit', 'orange banana tree box apple orange orange')\n",
    "re.sub('orange','fruit', 'orange banana tree box apple orange orange', 2)\n",
    "re.sub('orange|apple','fruit', 'orange banana tree box apple orange orange')\n",
    "re.sub('orange|apple|banana','fruit', 'orange banana tree box apple orange orange')"
   ]
  },
  {
   "cell_type": "code",
   "execution_count": 274,
   "metadata": {},
   "outputs": [
    {
     "data": {
      "text/plain": [
       "'num num sky num num bird num'"
      ]
     },
     "execution_count": 274,
     "metadata": {},
     "output_type": "execute_result"
    }
   ],
   "source": [
    "re.sub('[0-9]+', 'num', '10 20 sky 50 100 bird 200')\n",
    "re.sub('\\d+', 'num', '10 20 sky 50 100 bird 200')"
   ]
  },
  {
   "cell_type": "code",
   "execution_count": 291,
   "metadata": {},
   "outputs": [
    {
     "name": "stdout",
     "output_type": "stream",
     "text": [
      "<re.Match object; span=(0, 2), match='10'>\n",
      "<re.Match object; span=(3, 5), match='20'>\n",
      "<re.Match object; span=(10, 12), match='50'>\n",
      "<re.Match object; span=(13, 16), match='100'>\n",
      "<re.Match object; span=(22, 25), match='200'>\n"
     ]
    },
    {
     "data": {
      "text/plain": [
       "'  sky   bird '"
      ]
     },
     "execution_count": 291,
     "metadata": {},
     "output_type": "execute_result"
    }
   ],
   "source": [
    "# 변경함수(매치된객체):\n",
    "#     변경할 수식\n",
    "#re.sub(\"패턴\", 변경함수, \"문자열\", \"변경횟수\")\n",
    "\n",
    "def func_db(res):\n",
    "#변경할 수식\n",
    "    print(res)\n",
    "\n",
    "re.sub(\"\\d+\",func_db,\"10 20 sky 50 100 bird 200\")"
   ]
  },
  {
   "cell_type": "code",
   "execution_count": 303,
   "metadata": {},
   "outputs": [
    {
     "data": {
      "text/plain": [
       "'20 40 sky 100 200 bird 400'"
      ]
     },
     "execution_count": 303,
     "metadata": {},
     "output_type": "execute_result"
    }
   ],
   "source": [
    "def d(num):\n",
    "    return str(int(num.group()) * 2)\n",
    "re.sub('\\d+',d, '10 20 sky 50 100 bird 200')"
   ]
  },
  {
   "cell_type": "code",
   "execution_count": 308,
   "metadata": {},
   "outputs": [
    {
     "data": {
      "text/plain": [
       "'10 20 30 abc 40 def'"
      ]
     },
     "execution_count": 308,
     "metadata": {},
     "output_type": "execute_result"
    }
   ],
   "source": [
    "def func_data(txt):\n",
    "    return str(int(txt.group()) * 10)\n",
    "test = '1 2 3 abc 4 def'\n",
    "\n",
    "re.sub('\\d+', func_data, test)\n",
    "re.sub('\\d+', lambda x: str(int(x.group())*10), test)"
   ]
  },
  {
   "cell_type": "code",
   "execution_count": 353,
   "metadata": {},
   "outputs": [
    {
     "data": {
      "text/plain": [
       "<re.Match object; span=(0, 21), match='python@mail.example.c'>"
      ]
     },
     "execution_count": 353,
     "metadata": {},
     "output_type": "execute_result"
    }
   ],
   "source": [
    "re.match('[a-z.-]+@[a-z]+.[a-z]*.{0,1}[a-z]+', 'python@mail.example.com')\n",
    "re.match('[a-z.-/+]+@[a-z]+.[a-z]*.{0,1}[a-z]+', 'python+kr@example.com')\n",
    "re.match('[a-z./+/-]+@[a-z]+.[a-z]*.{0,1}[a-z]+', 'python-test@example.co.kr')\n",
    "re.match('[0-9a-z._/+/-]+@[a-z]+.[a-z]*.{0,1}[a-z]+', 'python_10@example.info')\n"
   ]
  },
  {
   "cell_type": "code",
   "execution_count": 418,
   "metadata": {},
   "outputs": [
    {
     "data": {
      "text/plain": [
       "<re.Match object; span=(0, 24), match='python.test@e-xample.com'>"
      ]
     },
     "execution_count": 418,
     "metadata": {},
     "output_type": "execute_result"
    }
   ],
   "source": [
    "re.match('[0-9a-z._/+/-]+@[a-z/-]+[.][a-z]*.{0,1}[a-z]+', 'python.test@e-xample.com')\n"
   ]
  },
  {
   "cell_type": "code",
   "execution_count": 415,
   "metadata": {},
   "outputs": [],
   "source": [
    "re.match('[0-9a-z._/+/-]+@[a-z]+[.][a-z]*.{0,1}[a-z]+', 'python@example')\n"
   ]
  },
  {
   "cell_type": "code",
   "execution_count": null,
   "metadata": {},
   "outputs": [],
   "source": []
  },
  {
   "cell_type": "code",
   "execution_count": 420,
   "metadata": {},
   "outputs": [
    {
     "name": "stdout",
     "output_type": "stream",
     "text": [
      "올바른 형식: ['python@mail.example.com', 'python+kr@example.com', 'python-test@example.co.kr', 'python_10@example.info', 'python.test@e-xample.com']\n",
      "잘못된 형식: ['@example.com', 'python@example', 'python@example-com']\n"
     ]
    }
   ],
   "source": [
    "emails = ['python@mail.example.com', 'python+kr@example.com',              # 올바른 형식\n",
    "          'python-test@example.co.kr', 'python_10@example.info',         # 올바른 형식\n",
    "          'python.test@e-xample.com',                                    # 올바른 형식\n",
    "          '@example.com', 'python@example', 'python@example-com']          # 잘못된 형식\n",
    "emails_true = []\n",
    "emails_false = []\n",
    "for i in emails:\n",
    "    res = re.match(\"[A-z+-_.]+@[A-z.-]+[.][A-z]+\", i)\n",
    "    if res:\n",
    "        emails_true.append(i)\n",
    "    else:\n",
    "        emails_false.append(i)\n",
    "print(\"올바른 형식: {0}\\n잘못된 형식: {1}\".format(emails_true, emails_false))"
   ]
  },
  {
   "cell_type": "code",
   "execution_count": 6,
   "metadata": {},
   "outputs": [
    {
     "name": "stdout",
     "output_type": "stream",
     "text": [
      "올바른 형식\n",
      "올바른 형식\n",
      "올바른 형식\n",
      "올바른 형식\n",
      "올바른 형식\n",
      "잘못된 형식\n",
      "잘못된 형식\n",
      "잘못된 형식\n"
     ]
    }
   ],
   "source": [
    "import re\n",
    "emails = ['python@mail.example.com', 'python+kr@example.com',              # 올바른 형식\n",
    "          'python-test@example.co.kr', 'python_10@example.info',         # 올바른 형식\n",
    "          'python.test@e-xample.com',                                    # 올바른 형식\n",
    "          '@example.com', 'python@example', 'python@example-com']          # 잘못된 형식\n",
    "\n",
    "def sub_emails(e):\n",
    "    for i in e:\n",
    "        if(re.match('[0-9a-z._+-]+@[a-z-]+[.][a-z]*.{0,1}[a-z]+', i)):\n",
    "            print('올바른 형식')\n",
    "        else:\n",
    "            print('잘못된 형식')\n",
    "\n",
    "sub_emails(emails)"
   ]
  }
 ],
 "metadata": {
  "kernelspec": {
   "display_name": "Python 3",
   "language": "python",
   "name": "python3"
  },
  "language_info": {
   "codemirror_mode": {
    "name": "ipython",
    "version": 3
   },
   "file_extension": ".py",
   "mimetype": "text/x-python",
   "name": "python",
   "nbconvert_exporter": "python",
   "pygments_lexer": "ipython3",
   "version": "3.10.9"
  }
 },
 "nbformat": 4,
 "nbformat_minor": 2
}
