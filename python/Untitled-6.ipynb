{
 "cells": [
  {
   "cell_type": "code",
   "execution_count": 24,
   "metadata": {},
   "outputs": [
    {
     "data": {
      "text/plain": [
       "['칼']"
      ]
     },
     "execution_count": 24,
     "metadata": {},
     "output_type": "execute_result"
    }
   ],
   "source": [
    "class Person:\n",
    "    bag = [] # 속성\n",
    "    def put_bag(self, stuff):\n",
    "        # self.bag.append(stuff)\n",
    "        Person.bag.append(stuff) # 클래스 속성에 접근할땐 클래스 이름으로 접근\n",
    "hgd = Person()\n",
    "hgd.put_bag('칼')\n",
    "hgd.bag"
   ]
  },
  {
   "cell_type": "code",
   "execution_count": 25,
   "metadata": {},
   "outputs": [
    {
     "data": {
      "text/plain": [
       "['칼', '휴대폰']"
      ]
     },
     "execution_count": 25,
     "metadata": {},
     "output_type": "execute_result"
    }
   ],
   "source": [
    "lss = Person()\n",
    "lss.put_bag('휴대폰')\n",
    "lss.bag\n",
    "# 위의 클래스와 같이 속성을 정의하면 공유하면 bag으로 되어버림"
   ]
  },
  {
   "cell_type": "code",
   "execution_count": 19,
   "metadata": {},
   "outputs": [],
   "source": [
    "class Person:\n",
    "    def __init__(self):\n",
    "        self.bag=[] # 이와 같이 init 안에 작성하면 각각의 객체가 갖는 데이터를 공유하지 않음\n",
    "    def put_bag(self, stuff):\n",
    "        self.bag.append(stuff) #객체가 가지고 있는 bag에 stuff을 추가"
   ]
  },
  {
   "cell_type": "code",
   "execution_count": 21,
   "metadata": {},
   "outputs": [
    {
     "data": {
      "text/plain": [
       "['휴대폰']"
      ]
     },
     "execution_count": 21,
     "metadata": {},
     "output_type": "execute_result"
    }
   ],
   "source": [
    "hgd = Person()\n",
    "hgd.bag\n",
    "hgd.put_bag('휴대폰')\n",
    "hgd.bag"
   ]
  },
  {
   "cell_type": "code",
   "execution_count": 22,
   "metadata": {},
   "outputs": [
    {
     "data": {
      "text/plain": [
       "['칼']"
      ]
     },
     "execution_count": 22,
     "metadata": {},
     "output_type": "execute_result"
    }
   ],
   "source": [
    "lss = Person()\n",
    "lss.put_bag('칼')\n",
    "lss.bag"
   ]
  },
  {
   "cell_type": "code",
   "execution_count": 42,
   "metadata": {},
   "outputs": [
    {
     "name": "stdout",
     "output_type": "stream",
     "text": [
      "can't 2/0\n"
     ]
    }
   ],
   "source": [
    "# 예외처리까지 하면 파이썬 공부는 종료될 듯함.\n",
    "# try, except\n",
    "try:\n",
    "    2/0\n",
    "except:\n",
    "    print(\"can't divide 0\")"
   ]
  },
  {
   "cell_type": "code",
   "execution_count": 45,
   "metadata": {},
   "outputs": [
    {
     "name": "stdout",
     "output_type": "stream",
     "text": [
      "0으로 나누면 안돼요\n",
      "인덱스 번호를 확인하세요\n"
     ]
    }
   ],
   "source": [
    "try:\n",
    "    2/0 #print(\"0으로 나누면 안돼요\")\n",
    "except:\n",
    "    print(\"0으로 나누면 안돼요\")\n",
    "\n",
    "try:\n",
    "    x=[10,20,30]\n",
    "    print(x[3])#print(\"인덱스 번호를 확인하세요\")\n",
    "except:\n",
    "    print(\"인덱스 번호를 확인하세요\")"
   ]
  },
  {
   "cell_type": "code",
   "execution_count": 60,
   "metadata": {},
   "outputs": [
    {
     "name": "stdout",
     "output_type": "stream",
     "text": [
      "invalid literal for int() with base 10: 'k'\n"
     ]
    }
   ],
   "source": [
    "try:\n",
    "    a = int(input())\n",
    "    # 'sdfsdf'*'sdfa'\n",
    "    # 2/0 #print(\"0으로 나누면 안돼요\")\n",
    "    x=[10,20,30]\n",
    "    print(x[3])#print(\"인덱스 번호를 확인하세요\")\n",
    "except ValueError as e:\n",
    "    print(e)\n",
    "except ZeroDivisionError as e: # 이런 명칭은 직접 에러를 터뜨려서 나오는 에러를 e에 담아 출력해도 됨\n",
    "    print(e)\n",
    "except IndexError as e:\n",
    "    print('hi') # 내맘대로 출력도 가능 ㅋ\n",
    "except TypeError as e:\n",
    "    print(e)\n",
    "except Exception as e:\n",
    "    print(e)"
   ]
  },
  {
   "cell_type": "code",
   "execution_count": 65,
   "metadata": {},
   "outputs": [
    {
     "name": "stdout",
     "output_type": "stream",
     "text": [
      "2\n",
      "hihi\n",
      "반갑다 제군\n"
     ]
    }
   ],
   "source": [
    "try:\n",
    "    age = int(input('나이 입력:'))\n",
    "    print(age)\n",
    "except:\n",
    "    print('숫자만 입력하셈.')\n",
    "else: # try문 수행중 오류발생시 except, 그렇지 않으면 else 수행\n",
    "    print('hihi')\n",
    "print('반갑다 제군')"
   ]
  },
  {
   "cell_type": "code",
   "execution_count": null,
   "metadata": {},
   "outputs": [],
   "source": [
    "try:\n",
    "    age = int(input(\"나이 입력: \"))\n",
    "except:\n",
    "    print(\"숫자만 입력하세요\")\n",
    "else:\n",
    "    if age <= 18:\n",
    "        print(\"미성년자\")\n",
    "    else:\n",
    "        print(\"환영\")"
   ]
  },
  {
   "cell_type": "code",
   "execution_count": 66,
   "metadata": {},
   "outputs": [
    {
     "name": "stdout",
     "output_type": "stream",
     "text": [
      "환영\n"
     ]
    }
   ],
   "source": [
    "try:\n",
    "    age = int(input('input your age: '))\n",
    "except:\n",
    "    print('입력 오류')\n",
    "else:\n",
    "    if(age < 19):\n",
    "        print('미성년자')\n",
    "    else:\n",
    "        print('환영')"
   ]
  },
  {
   "cell_type": "code",
   "execution_count": 68,
   "metadata": {},
   "outputs": [
    {
     "name": "stdout",
     "output_type": "stream",
     "text": [
      "1.0\n",
      "코드실행 종료\n"
     ]
    }
   ],
   "source": [
    "try:\n",
    "    x = int(input())\n",
    "    y = 1/x\n",
    "except:\n",
    "    print('0으로 못 나눔')\n",
    "else:\n",
    "    print(y)\n",
    "finally: # 그냥 try문 없이 써도 되는데 왜 쓰는진 모르겠음.\n",
    "    print('코드실행 종료')"
   ]
  },
  {
   "cell_type": "code",
   "execution_count": 84,
   "metadata": {},
   "outputs": [
    {
     "name": "stdout",
     "output_type": "stream",
     "text": [
      "0.18355038011022873\n"
     ]
    },
    {
     "data": {
      "text/plain": [
       "6"
      ]
     },
     "execution_count": 84,
     "metadata": {},
     "output_type": "execute_result"
    }
   ],
   "source": [
    "import random # 모듈\n",
    "print(random.random()) # 모듈.함수()\n",
    "random.randint(0,10)\n",
    "# 내장함수 : 기본적으로 메모리에 적재되는 함수(random, torch, time, tensorflow, numpy, pandas, ...)\n",
    "# 외장함수 : 메모리에 적재한 다음 사용할 수 있는 함수(print, range, map, filter, max,...)"
   ]
  },
  {
   "cell_type": "code",
   "execution_count": 1,
   "metadata": {},
   "outputs": [
    {
     "name": "stdout",
     "output_type": "stream",
     "text": [
      "all 1 False\n",
      "all 2 True\n",
      "true True\n",
      "True\n",
      "False\n",
      "A 가\n",
      "97\n",
      "['__add__', '__class__', '__class_getitem__', '__contains__', '__delattr__', '__delitem__', '__dir__', '__doc__', '__eq__', '__format__', '__ge__', '__getattribute__', '__getitem__', '__gt__', '__hash__', '__iadd__', '__imul__', '__init__', '__init_subclass__', '__iter__', '__le__', '__len__', '__lt__', '__mul__', '__ne__', '__new__', '__reduce__', '__reduce_ex__', '__repr__', '__reversed__', '__rmul__', '__setattr__', '__setitem__', '__sizeof__', '__str__', '__subclasshook__', 'append', 'clear', 'copy', 'count', 'extend', 'index', 'insert', 'pop', 'remove', 'reverse', 'sort']\n",
      "(1, 2)\n",
      "0 hi\n",
      "1 hello\n",
      "not eval -> 1+2 eval -> 3\n",
      "[1, 2, 3]\n",
      "0x11\n",
      "3754522518135094521036949423310775939822159736802039839718889132337380424668202771748171426049737415008372742104456962110591600569712353910068094960606371000010154197834655320775709697045385837554931640625\n",
      "4.3\n",
      "6\n",
      "[(1, 3, 5), (2, 4, 6)]\n",
      "[('a', 'd'), ('b', 'e'), ('c', 'f')]\n"
     ]
    }
   ],
   "source": [
    "# 내장 함수들\n",
    "#절대값\n",
    "abs(-1)\n",
    "\n",
    "# 모든 요소가 true -> true == and와 같음\n",
    "print('all 1',all([10,0]))\n",
    "print('all 2',all([10,20]))\n",
    "\n",
    "# 비어있는 리스트는 false\n",
    "if [0]:\n",
    "    print('true', bool([0]))\n",
    "else:\n",
    "    print('false', bool([]))\n",
    "\n",
    "# any => 리스트(튜플)의 요소 중에서 하나라도 참->참, 모두 거짓->거짓 == or과 같음.\n",
    "print(any([1,2,0]))\n",
    "print(any([0,0,0]))\n",
    "\n",
    "# chr - 유니코드 -> 문자, ord - 문자 -> 유니코드\n",
    "print(chr(65), chr(44032))\n",
    "print(ord('a'))\n",
    "\n",
    "# 변수 x에 대한 사용 가능한 상세 코드\n",
    "x = [10,20]\n",
    "print(dir(x))\n",
    "\n",
    "#몫과 나머지 출력\n",
    "print(divmod(5,3))\n",
    "\n",
    "# 반복하면서 순차적 인덱스를 생성\n",
    "for i, n in enumerate(['hi', 'hello']):\n",
    "    print(i, n)\n",
    "\n",
    "# eval - 문자열로 된 수식이나 함수를 일반 수식으로 변환해서 계산\n",
    "a = '1+2'\n",
    "print('not eval ->',a, 'eval ->',eval(a))\n",
    "print(eval('list(i for i in range(1,4))')) # 정확히는 수식만이 아니라 그냥 따옴표 제거작업을 진행하는듯\n",
    "\n",
    "# hex - 16진수\n",
    "print(hex(17))\n",
    "\n",
    "# 수의 표현 범위가 메모리가 허용하는 한 무한히 표현이 가능함\n",
    "print(12345**50)\n",
    "\n",
    "# round - 반올림\n",
    "print(round(4.35,1))\n",
    "\n",
    "# sum - 합산\n",
    "print(sum([1,2,3]))\n",
    "\n",
    "# zip() - 딕셔너리에 사용가능하며 키와 값을 묶어줌\n",
    "print(list(zip([1,2],[3,4],[5,6])))\n",
    "print(list(zip('abc','def')))"
   ]
  },
  {
   "cell_type": "code",
   "execution_count": 141,
   "metadata": {},
   "outputs": [
    {
     "name": "stdout",
     "output_type": "stream",
     "text": [
      "[1, 3, 5] [1, 3, 5]\n"
     ]
    }
   ],
   "source": [
    "x = [1,-2,3,-4,0, 5]\n",
    "y = list(i for i in x if i>0)\n",
    "z = list(filter(lambda x: x>0, x))\n",
    "print(y,z)"
   ]
  },
  {
   "cell_type": "code",
   "execution_count": 143,
   "metadata": {},
   "outputs": [
    {
     "data": {
      "text/plain": [
       "[1, 3, 5]"
      ]
     },
     "execution_count": 143,
     "metadata": {},
     "output_type": "execute_result"
    }
   ],
   "source": [
    "def f_func(data):\n",
    "    return data>0\n",
    "# filter 함수를 이용하여 다른 함수를 이용해 조건에 부합한 데이터만 필터할 수도 있음.\n",
    "list(filter(f_func,x))"
   ]
  },
  {
   "cell_type": "code",
   "execution_count": 156,
   "metadata": {},
   "outputs": [
    {
     "name": "stdout",
     "output_type": "stream",
     "text": [
      "[4, 8]\n",
      "[4, 8]\n",
      "[4, 8]\n"
     ]
    }
   ],
   "source": [
    "# 필터, 람다 사용\n",
    "\n",
    "lst = list(range(1,11))\n",
    "print(list(filter(lambda x: x % 4 == 0 , lst)))\n",
    "res = []\n",
    "for i in lst:\n",
    "    if(i % 4 == 0):\n",
    "        res.append(i)\n",
    "print(res)\n",
    "\n",
    "def fil(n):\n",
    "    if(n % 4 == 0):\n",
    "        return n\n",
    "    \n",
    "print(list(filter(fil,lst)))"
   ]
  },
  {
   "cell_type": "markdown",
   "metadata": {},
   "source": [
    "# 외장 함수"
   ]
  },
  {
   "cell_type": "code",
   "execution_count": 28,
   "metadata": {},
   "outputs": [
    {
     "data": {
      "text/plain": [
       "2"
      ]
     },
     "execution_count": 28,
     "metadata": {},
     "output_type": "execute_result"
    }
   ],
   "source": [
    "# datetime\n",
    "\n",
    "import datetime\n",
    "d1 = datetime.date(2024,3,6)\n",
    "d2 = datetime.date(2024,2,26)\n",
    "d3 = datetime.date(2024,8,19)\n",
    "ex_day = d3-d1\n",
    "ex_day.days\n",
    "d4 = datetime.date(2024,3,6)\n",
    "d4.weekday() # 0 월 1 화 ..."
   ]
  },
  {
   "cell_type": "code",
   "execution_count": 41,
   "metadata": {},
   "outputs": [
    {
     "name": "stdout",
     "output_type": "stream",
     "text": [
      "Wed Mar  6 15:39:16 2024\n",
      "Wed Mar  6 15:39:16 2024\n"
     ]
    }
   ],
   "source": [
    "# time\n",
    "import time\n",
    "time.time() # 1970.1.1~현재까지의 시간을 초로 환산\n",
    "print(time.ctime()) # 현시간 출력\n",
    "# time.localtime() # 확인하는 기기의 시간\n",
    "print(time.strftime(\"%c\",time.localtime(time.time())))\n",
    "time.sleep(2) # 지시된 시간동안 휴식"
   ]
  },
  {
   "cell_type": "code",
   "execution_count": 43,
   "metadata": {},
   "outputs": [
    {
     "data": {
      "text/plain": [
       "'test2.txt'"
      ]
     },
     "execution_count": 43,
     "metadata": {},
     "output_type": "execute_result"
    }
   ],
   "source": [
    "# shutil 파일 이동 삭제 복사 등등...\n",
    "f = open('test1.txt','w')\n",
    "f.write('hi')\n",
    "f.close()\n",
    "import shutil\n",
    "shutil.copy('test1.txt', 'test2.txt')"
   ]
  },
  {
   "cell_type": "code",
   "execution_count": 49,
   "metadata": {},
   "outputs": [
    {
     "data": {
      "text/plain": [
       "['C:/Users/fkfma/Desktop/국비교육-AI웹서비스']"
      ]
     },
     "execution_count": 49,
     "metadata": {},
     "output_type": "execute_result"
    }
   ],
   "source": [
    "# glob 드라이브 내의 파일/폴더 검색\n",
    "import glob\n",
    "a = glob.glob('C:/Users/fkfma/Desktop/국비교육-AI웹서비스')\n",
    "a"
   ]
  },
  {
   "cell_type": "code",
   "execution_count": 57,
   "metadata": {},
   "outputs": [
    {
     "name": "stdout",
     "output_type": "stream",
     "text": [
      "{1: 'python', 2: 'vs'}\n"
     ]
    }
   ],
   "source": [
    "# pickle\n",
    "import pickle\n",
    "f=open('test.txt','wb')\n",
    "data = {1:'python',2:'vs'}\n",
    "pickle.dump(data,f)\n",
    "f=open('test.txt','rb')\n",
    "d = pickle.load(f)\n",
    "print(d)\n",
    "f.close()"
   ]
  },
  {
   "cell_type": "code",
   "execution_count": 56,
   "metadata": {},
   "outputs": [],
   "source": [
    "# zipfile 파일 압축 함수\n",
    "import zipfile\n",
    "with zipfile.ZipFile('ziptext.zip','w') as zf:\n",
    "    zf.write('test.txt')\n",
    "    zf.write('test2.txt')\n",
    "    zf.write('test1.txt')"
   ]
  },
  {
   "cell_type": "code",
   "execution_count": 58,
   "metadata": {},
   "outputs": [],
   "source": [
    "# 압축해제\n",
    "with zipfile.ZipFile('ziptext.zip') as zf:\n",
    "    zf.extractall()"
   ]
  }
 ],
 "metadata": {
  "kernelspec": {
   "display_name": "Python 3",
   "language": "python",
   "name": "python3"
  },
  "language_info": {
   "codemirror_mode": {
    "name": "ipython",
    "version": 3
   },
   "file_extension": ".py",
   "mimetype": "text/x-python",
   "name": "python",
   "nbconvert_exporter": "python",
   "pygments_lexer": "ipython3",
   "version": "3.10.9"
  }
 },
 "nbformat": 4,
 "nbformat_minor": 2
}
