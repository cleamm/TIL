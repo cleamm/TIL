{
 "cells": [
  {
   "cell_type": "code",
   "execution_count": 10,
   "metadata": {},
   "outputs": [
    {
     "data": {
      "text/plain": [
       "{1: 'a', 2: 'b', 'su': 'do'}"
      ]
     },
     "execution_count": 10,
     "metadata": {},
     "output_type": "execute_result"
    }
   ],
   "source": [
    "dic = {1: 'a'}\n",
    "dic[2] = 'b'\n",
    "dic['su'] = 'do'\n",
    "dic"
   ]
  },
  {
   "cell_type": "code",
   "execution_count": 11,
   "metadata": {},
   "outputs": [
    {
     "data": {
      "text/plain": [
       "{2: 'b', 'su': 'do'}"
      ]
     },
     "execution_count": 11,
     "metadata": {},
     "output_type": "execute_result"
    }
   ],
   "source": [
    "del dic[1]\n",
    "dic"
   ]
  },
  {
   "cell_type": "code",
   "execution_count": 12,
   "metadata": {},
   "outputs": [
    {
     "data": {
      "text/plain": [
       "{2: 'b', 'su': 'do', '2': 100}"
      ]
     },
     "execution_count": 12,
     "metadata": {},
     "output_type": "execute_result"
    }
   ],
   "source": [
    "dic['2'] = 100\n",
    "dic"
   ]
  },
  {
   "cell_type": "code",
   "execution_count": 23,
   "metadata": {},
   "outputs": [
    {
     "ename": "SyntaxError",
     "evalue": "invalid syntax (41818835.py, line 6)",
     "output_type": "error",
     "traceback": [
      "\u001b[1;36m  Cell \u001b[1;32mIn[23], line 6\u001b[1;36m\u001b[0m\n\u001b[1;33m    dic6 = dict('addr':['seoul', 'busan'])\u001b[0m\n\u001b[1;37m                      ^\u001b[0m\n\u001b[1;31mSyntaxError\u001b[0m\u001b[1;31m:\u001b[0m invalid syntax\n"
     ]
    }
   ],
   "source": [
    "dic = {'name':'hong', 'age':70, 'weight': 908, 'age':99}\n",
    "dic2 = dict(age=250, name = \"f\")\n",
    "dic3 = dict(zip(['age','name'],[25, 'hong']))\n",
    "dic4 = dict([('man', 'hong'),('age',25)])\n",
    "dic5 = dict({'man': 'hong','age':25})\n",
    "# dic6 = dict('addr':['seoul', 'busan'])\n",
    "print(dic)\n",
    "print(dic2)\n",
    "print(dic3)\n",
    "print(dic4)\n",
    "print(dic5)\n",
    "# print(dic6)"
   ]
  },
  {
   "cell_type": "code",
   "execution_count": 32,
   "metadata": {},
   "outputs": [
    {
     "name": "stdout",
     "output_type": "stream",
     "text": [
      "dict_keys(['name', 'age', 'weight'])\n",
      "dict_values(['hong', 99, 908])\n",
      "dict_items([('name', 'hong'), ('age', 99), ('weight', 908)])\n",
      "['name', 'age', 'weight']\n",
      "['hong', 99, 908]\n",
      "[('name', 'hong'), ('age', 99), ('weight', 908)]\n"
     ]
    },
    {
     "data": {
      "text/plain": [
       "{}"
      ]
     },
     "execution_count": 32,
     "metadata": {},
     "output_type": "execute_result"
    }
   ],
   "source": [
    "print(dic.keys())\n",
    "print(dic.values())\n",
    "print(dic.items())\n",
    "print(list(dic.keys()))\n",
    "print(list(dic.values()))\n",
    "print(list(dic.items()))\n",
    "dic.clear()\n",
    "dic"
   ]
  },
  {
   "cell_type": "code",
   "execution_count": 45,
   "metadata": {},
   "outputs": [
    {
     "name": "stdout",
     "output_type": "stream",
     "text": [
      "hong\n",
      "hong\n",
      "seoul\n",
      "hull\n",
      "3\n"
     ]
    }
   ],
   "source": [
    "dic={'name':'hong','age':25,'bt':'O'}\n",
    "print(dic['name'])\n",
    "print(dic.get('name'))\n",
    "print(dic.get('addr','seoul'))\n",
    "if('name' in dic):\n",
    "    print('hull')\n",
    "print(len(dic))"
   ]
  },
  {
   "cell_type": "code",
   "execution_count": 53,
   "metadata": {},
   "outputs": [
    {
     "name": "stdout",
     "output_type": "stream",
     "text": [
      "{1, 2, 3}\n",
      "{'c', 'l', 's', ' ', 't', 'm', 'i', 'p', 'a', 'u'}\n"
     ]
    },
    {
     "data": {
      "text/plain": [
       "{' ', 'a', 'c', 'i', 'l', 'm', 'p', 's', 't', 'u'}"
      ]
     },
     "execution_count": 53,
     "metadata": {},
     "output_type": "execute_result"
    }
   ],
   "source": [
    "s1 = set([1,2,3,1,2,3]) # 집합이지만 중복을 제외한 유니크한 데이터만 출력함.\n",
    "s2 = set(\"multicampus ai\")\n",
    "print(s1)\n",
    "print(s2)\n",
    "s2 # set은 순서가 없이 저장됨. 즉 인덱싱하여 데이터를 탐색할 수 없음."
   ]
  },
  {
   "cell_type": "code",
   "execution_count": 69,
   "metadata": {},
   "outputs": [
    {
     "name": "stdout",
     "output_type": "stream",
     "text": [
      "{1, 2}\n",
      "{1, 2, 3, 4, 5, 13, 14, 15}\n",
      "{1, 2, 3, 4, 5, 13, 14, 15}\n",
      "{3, 4, 5}\n",
      "{3, 4, 5}\n",
      "{1, 2, 3, 4, 5, 88}\n",
      "{1, 2, 3, 4, 5, 100, 200, 300, 88}\n",
      "{2, 3, 4, 5, 100, 200, 300, 88}\n"
     ]
    },
    {
     "data": {
      "text/plain": [
       "2527833193856"
      ]
     },
     "execution_count": 69,
     "metadata": {},
     "output_type": "execute_result"
    }
   ],
   "source": [
    "s1=set([5,4,3,2,1])\n",
    "s2=set([15,14,13,2,1])\n",
    "print(s1 & s2)\n",
    "print(s1 | s2)\n",
    "print(s1.union(s2)) # 합집합\n",
    "print(s1-s2)\n",
    "print(s1.difference(s2)) # 차집합\n",
    "s1.add(88)\n",
    "print(s1)\n",
    "s1.update([100,200,300])\n",
    "print(s1)\n",
    "s1.remove(1)\n",
    "print(s1)\n",
    "id(s1) # 메모리 주소 확인. 변수를 초기화시 계속 바뀜"
   ]
  },
  {
   "cell_type": "code",
   "execution_count": 83,
   "metadata": {},
   "outputs": [
    {
     "name": "stdout",
     "output_type": "stream",
     "text": [
      "2527854028288\n",
      "2527853323264\n",
      "False\n"
     ]
    }
   ],
   "source": [
    "from copy import copy\n",
    "\n",
    "a = [10,20]\n",
    "b = copy(a)\n",
    "print(id(a))\n",
    "print(id(b))\n",
    "print(a is b) # 메모리 주소가 같은지?"
   ]
  },
  {
   "cell_type": "code",
   "execution_count": 86,
   "metadata": {},
   "outputs": [
    {
     "name": "stdout",
     "output_type": "stream",
     "text": [
      "버스...\n",
      "굶는다...\n"
     ]
    }
   ],
   "source": [
    "money = 2000\n",
    "\n",
    "if money >= 5000:\n",
    "    print(\"택시!!\")\n",
    "    print(\"나는 부자~\")\n",
    "else:\n",
    "    print(\"버스...\")\n",
    "    print(\"굶는다...\")"
   ]
  },
  {
   "cell_type": "code",
   "execution_count": 97,
   "metadata": {},
   "outputs": [
    {
     "name": "stdout",
     "output_type": "stream",
     "text": [
      "나는 부자~\n"
     ]
    }
   ],
   "source": [
    "money = 2000\n",
    "card = True\n",
    "if money >= 3000:\n",
    "    print(\"택시!!\")\n",
    "elif card:\n",
    "    print(\"나는 부자~\")\n",
    "else:\n",
    "    print(\"뚜벅이...\")\n",
    "    print(\"굶는다...\")"
   ]
  },
  {
   "cell_type": "code",
   "execution_count": 107,
   "metadata": {},
   "outputs": [
    {
     "name": "stdout",
     "output_type": "stream",
     "text": [
      "sure\n",
      "True\n"
     ]
    }
   ],
   "source": [
    "if '10' in [10,20,30]:\n",
    "    print('wow')\n",
    "else:\n",
    "    print('sure')\n",
    "print('o' in 'hello')"
   ]
  },
  {
   "cell_type": "code",
   "execution_count": 108,
   "metadata": {},
   "outputs": [
    {
     "name": "stdout",
     "output_type": "stream",
     "text": [
      "택시\n"
     ]
    }
   ],
   "source": [
    "poc = ['card', 'cellphone']\n",
    "if('card' in poc):\n",
    "    print('택시')\n",
    "elif('money' in poc):\n",
    "    print('버스')\n",
    "else:\n",
    "    print('도보')"
   ]
  },
  {
   "cell_type": "code",
   "execution_count": 109,
   "metadata": {},
   "outputs": [
    {
     "data": {
      "text/plain": [
       "'합격'"
      ]
     },
     "execution_count": 109,
     "metadata": {},
     "output_type": "execute_result"
    }
   ],
   "source": [
    "score = 90\n",
    "\n",
    "if score >= 60:\n",
    "    res = \"합격\"\n",
    "if score < 60:\n",
    "    res = \"불합격\"\n",
    "res"
   ]
  },
  {
   "cell_type": "code",
   "execution_count": 112,
   "metadata": {},
   "outputs": [
    {
     "data": {
      "text/plain": [
       "'불합격'"
      ]
     },
     "execution_count": 112,
     "metadata": {},
     "output_type": "execute_result"
    }
   ],
   "source": [
    "score = 50\n",
    "res2 = '합격' if score >=60 else \"불합격\"\n",
    "res2"
   ]
  },
  {
   "cell_type": "code",
   "execution_count": 134,
   "metadata": {},
   "outputs": [
    {
     "data": {
      "text/plain": [
       "0"
      ]
     },
     "execution_count": 134,
     "metadata": {},
     "output_type": "execute_result"
    }
   ],
   "source": [
    "x = 4;y = x if x == 5 else 0;y"
   ]
  },
  {
   "cell_type": "code",
   "execution_count": 135,
   "metadata": {},
   "outputs": [
    {
     "name": "stdout",
     "output_type": "stream",
     "text": [
      "거짓\n"
     ]
    }
   ],
   "source": [
    "st = \"\"\"\n",
    "#참에 해당하는 경우\n",
    "True\n",
    "[1,2,3]\n",
    "(1,2)\n",
    "{'a':1}\n",
    "1\n",
    "\n",
    "#거짓(False)에 해당하는 경우\n",
    "{}\n",
    "[]\n",
    "()\n",
    "0\n",
    "None\n",
    "\"\"\"\n",
    "\n",
    "if None:\n",
    "    print('참')\n",
    "else:\n",
    "    print(\"거짓\")"
   ]
  },
  {
   "cell_type": "code",
   "execution_count": 145,
   "metadata": {},
   "outputs": [
    {
     "name": "stdout",
     "output_type": "stream",
     "text": [
      "43210"
     ]
    }
   ],
   "source": [
    "for i in reversed(range(5)):\n",
    "    print(i, end='')"
   ]
  },
  {
   "cell_type": "code",
   "execution_count": 146,
   "metadata": {},
   "outputs": [
    {
     "name": "stdout",
     "output_type": "stream",
     "text": [
      "hello: 0\n",
      "hello: 1\n",
      "hello: 2\n"
     ]
    }
   ],
   "source": [
    "# loop = int(input(\"반복 횟수? \"))\n",
    "# for i in range(loop):\n",
    "#     print('hello:'+str(i))\n",
    "\n",
    "\n",
    "# for i in range(int(input(\"반복 횟수? \"))): # 다른 경우\n",
    "#     print('hello:'+str(i))\n",
    "\n",
    "l = range(int(input('반복 횟수? ')))\n",
    "for i in l:\n",
    "    print('hello:',i)"
   ]
  },
  {
   "cell_type": "code",
   "execution_count": 157,
   "metadata": {},
   "outputs": [
    {
     "name": "stdout",
     "output_type": "stream",
     "text": [
      "1번 학생 합격입니다\n",
      "2번 학생 합격입니다\n",
      "3번 학생 합격입니다\n",
      "6번 학생 합격입니다\n"
     ]
    }
   ],
   "source": [
    "score = [90, 80, 70, 60, 50, 100]\n",
    "\n",
    "# for i,s in enumerate(score):\n",
    "#     if(s > 60):\n",
    "#         print(str(i+1)+\"번 학생 합격입니다\")\n",
    "\n",
    "num = 1\n",
    "n = 1\n",
    "for s in score:\n",
    "    if(s > 60):\n",
    "        print(\"%d번 학생 합격입니다\" % (num))\n",
    "    num += 1"
   ]
  },
  {
   "cell_type": "code",
   "execution_count": 158,
   "metadata": {},
   "outputs": [
    {
     "name": "stdout",
     "output_type": "stream",
     "text": [
      "1번 학생 합격입니다\n",
      "2번 학생 합격입니다\n",
      "3번 학생 합격입니다\n",
      "6번 학생 합격입니다\n"
     ]
    }
   ],
   "source": [
    "num=0\n",
    "for s in score:\n",
    "    num+=1\n",
    "    if s<=60:\n",
    "        continue\n",
    "    print(\"%d번 학생 합격입니다\" % num)"
   ]
  },
  {
   "cell_type": "code",
   "execution_count": 160,
   "metadata": {},
   "outputs": [
    {
     "name": "stdout",
     "output_type": "stream",
     "text": [
      "2 4 6 8 10 12 14 16 18 "
     ]
    }
   ],
   "source": [
    "for i in range(2,20,2):\n",
    "    print(i, end=' ')"
   ]
  },
  {
   "cell_type": "code",
   "execution_count": 168,
   "metadata": {},
   "outputs": [
    {
     "name": "stdout",
     "output_type": "stream",
     "text": [
      "2 4 6 8 10 12 14 16 18 \n",
      "3 6 9 12 15 18 21 24 27 \n",
      "4 8 12 16 20 24 28 32 36 \n",
      "5 10 15 20 25 30 35 40 45 \n",
      "6 12 18 24 30 36 42 48 54 \n",
      "7 14 21 28 35 42 49 56 63 \n",
      "8 16 24 32 40 48 56 64 72 \n",
      "9 18 27 36 45 54 63 72 81 \n"
     ]
    }
   ],
   "source": [
    "for i in range(2, 10):\n",
    "    for j in range(1, 10):\n",
    "        print(i*j, end=' ')\n",
    "    print()"
   ]
  },
  {
   "cell_type": "code",
   "execution_count": 171,
   "metadata": {},
   "outputs": [
    {
     "data": {
      "text/plain": [
       "[2, 4, 6]"
      ]
     },
     "execution_count": 171,
     "metadata": {},
     "output_type": "execute_result"
    }
   ],
   "source": [
    "x = [1,2,3]\n",
    "res = [n*2 for n in x]\n",
    "res"
   ]
  },
  {
   "cell_type": "code",
   "execution_count": 181,
   "metadata": {},
   "outputs": [
    {
     "data": {
      "text/plain": [
       "[2, 3]"
      ]
     },
     "execution_count": 181,
     "metadata": {},
     "output_type": "execute_result"
    }
   ],
   "source": [
    "x = [1,2,3]\n",
    "res2 = [n for n in x if n>=2]\n",
    "res2"
   ]
  },
  {
   "cell_type": "code",
   "execution_count": 189,
   "metadata": {},
   "outputs": [
    {
     "data": {
      "text/plain": [
       "1"
      ]
     },
     "execution_count": 189,
     "metadata": {},
     "output_type": "execute_result"
    }
   ],
   "source": [
    "1%3"
   ]
  },
  {
   "cell_type": "code",
   "execution_count": null,
   "metadata": {},
   "outputs": [],
   "source": [
    "nums = list(range(1,101))\n",
    "li = [n for n in nums if n%3==0] # 리스트 컴프리핸션\n",
    "li"
   ]
  },
  {
   "cell_type": "code",
   "execution_count": null,
   "metadata": {},
   "outputs": [],
   "source": [
    "[i*j for i in range(2,10) for j in range(1,10)] # 이중 for문 한줄작성"
   ]
  },
  {
   "cell_type": "code",
   "execution_count": 225,
   "metadata": {},
   "outputs": [
    {
     "name": "stdout",
     "output_type": "stream",
     "text": [
      "3\n",
      "7\n",
      "15\n",
      "15\n",
      "25\n",
      "14\n"
     ]
    }
   ],
   "source": [
    "import random\n",
    "for i in range(6):\n",
    "    print(random.randrange(1,45))"
   ]
  },
  {
   "cell_type": "code",
   "execution_count": null,
   "metadata": {},
   "outputs": [],
   "source": []
  }
 ],
 "metadata": {
  "kernelspec": {
   "display_name": "Python 3",
   "language": "python",
   "name": "python3"
  },
  "language_info": {
   "codemirror_mode": {
    "name": "ipython",
    "version": 3
   },
   "file_extension": ".py",
   "mimetype": "text/x-python",
   "name": "python",
   "nbconvert_exporter": "python",
   "pygments_lexer": "ipython3",
   "version": "3.10.9"
  }
 },
 "nbformat": 4,
 "nbformat_minor": 2
}
