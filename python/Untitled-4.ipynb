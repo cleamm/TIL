{
 "cells": [
  {
   "cell_type": "code",
   "execution_count": 26,
   "metadata": {},
   "outputs": [
    {
     "data": {
      "text/plain": [
       "5"
      ]
     },
     "execution_count": 26,
     "metadata": {},
     "output_type": "execute_result"
    }
   ],
   "source": [
    "myfile = open('새파일.txt', 'w')\n",
    "myfile.write('안녕하세요')"
   ]
  },
  {
   "cell_type": "code",
   "execution_count": 28,
   "metadata": {},
   "outputs": [],
   "source": [
    "myfile = open('새파일.txt', 'a')\n",
    "myfile.write('안녕하가세요')\n",
    "myfile.close()"
   ]
  },
  {
   "cell_type": "code",
   "execution_count": 29,
   "metadata": {},
   "outputs": [],
   "source": [
    "myfile = open('새파일.txt', 'r')\n",
    "myfile.read()\n",
    "myfile.close()"
   ]
  },
  {
   "cell_type": "code",
   "execution_count": 32,
   "metadata": {},
   "outputs": [
    {
     "name": "stdout",
     "output_type": "stream",
     "text": [
      "안녕하세요안녕하가세요\n"
     ]
    }
   ],
   "source": [
    "with open(\"새파일.txt\",\"r\") as myfile:\n",
    "    s=myfile.read()\n",
    "    print(s)"
   ]
  },
  {
   "cell_type": "code",
   "execution_count": 39,
   "metadata": {},
   "outputs": [],
   "source": [
    "with open(\"여러줄파일.txt\", 'w') as myfile:\n",
    "    for i in range(5):\n",
    "        myfile.write('안녕하세요 {0}\\n'.format(i))"
   ]
  },
  {
   "cell_type": "code",
   "execution_count": 7,
   "metadata": {},
   "outputs": [],
   "source": [
    "lines = ['안녕하세요','잘가세요', '파이썬']\n",
    "with open(\"여러줄파일.txt\", 'w') as myfile:\n",
    "    # for i in lines:\n",
    "    for i in range(3):\n",
    "        # myfile.write('{0}\\n'.format(i))\n",
    "        # myfile.write(i+'\\n')\n",
    "        myfile.write(lines[i])"
   ]
  },
  {
   "cell_type": "markdown",
   "metadata": {},
   "source": [
    "1. 파일 열때 3가지가 있음. a=추가, r=읽기, w=쓰기\n",
    "2. 절차는 항상 파일 열고 파일에 쓰거나 읽기 혹은 이어쓰기를 한 뒤 닫아야 함(메모리 사용을 줄이기 위함)"
   ]
  },
  {
   "cell_type": "code",
   "execution_count": 54,
   "metadata": {},
   "outputs": [],
   "source": [
    "f = open('파일연습.txt','w', encoding='utf-8')\n",
    "for i in range(1,11):\n",
    "    txt = \"%d번째 줄\\n\" % i\n",
    "    f.write(txt)\n",
    "f.close()"
   ]
  },
  {
   "cell_type": "code",
   "execution_count": 55,
   "metadata": {},
   "outputs": [
    {
     "name": "stdout",
     "output_type": "stream",
     "text": [
      "1번째 줄\n",
      "\n"
     ]
    }
   ],
   "source": [
    "fr = open('파일연습.txt','r', encoding='utf-8')\n",
    "lines = fr.readline()\n",
    "print(lines)\n",
    "fr.close()"
   ]
  },
  {
   "cell_type": "code",
   "execution_count": null,
   "metadata": {},
   "outputs": [],
   "source": [
    "fr = open(\"파일연습.txt\", 'r', encoding='utf-8')\n",
    "while True:\n",
    "    line = fr.readline()\n",
    "    if not line:\n",
    "        break\n",
    "    print(line)"
   ]
  },
  {
   "cell_type": "code",
   "execution_count": 58,
   "metadata": {},
   "outputs": [
    {
     "name": "stdout",
     "output_type": "stream",
     "text": [
      "1번째 줄\n",
      "2번째 줄\n",
      "3번째 줄\n",
      "4번째 줄\n",
      "5번째 줄\n",
      "6번째 줄\n",
      "7번째 줄\n",
      "8번째 줄\n",
      "9번째 줄\n",
      "10번째 줄\n",
      "\n"
     ]
    }
   ],
   "source": [
    "fr = open('파일연습.txt', 'r', encoding='utf-8')\n",
    "data = fr.read()\n",
    "data\n",
    "print(data)"
   ]
  },
  {
   "cell_type": "code",
   "execution_count": null,
   "metadata": {},
   "outputs": [],
   "source": [
    "fr = open('파일연습.txt', 'r', encoding='utf-8')\n",
    "for line in fr:\n",
    "    print(line)"
   ]
  },
  {
   "cell_type": "code",
   "execution_count": null,
   "metadata": {},
   "outputs": [],
   "source": [
    "fr = open('파일연습.txt', 'r', encoding='utf-8')\n",
    "lines = fr.readlines()\n",
    "lines\n",
    "for line in lines:\n",
    "    line = line.strip() # 공백 및 줄바꿈 문자를 제거해줌\n",
    "    print(line)"
   ]
  },
  {
   "cell_type": "code",
   "execution_count": 88,
   "metadata": {},
   "outputs": [],
   "source": [
    "fr = open('파일연습.txt', 'a', encoding='utf-8')\n",
    "for i in range(11,20):\n",
    "    data = '%d번째 줄\\n' % i\n",
    "    fr.write(data)"
   ]
  },
  {
   "cell_type": "markdown",
   "metadata": {},
   "source": [
    "# 피클링: 파이썬 객체를 파일로 저장\n",
    "# 언피클링: 파일로부터 파이썬 객체를 읽기"
   ]
  },
  {
   "cell_type": "code",
   "execution_count": 90,
   "metadata": {},
   "outputs": [],
   "source": [
    "name = 'hong'\n",
    "age = 25\n",
    "addr = '장성군'\n",
    "job = ['student', 'i want job']\n",
    "\n",
    "import pickle\n",
    "with open('hgd.p', 'wb') as f:\n",
    "    pickle.dump(name, f) # dump함수로 객체 저장\n",
    "    pickle.dump(age, f)\n",
    "    pickle.dump(addr, f)\n",
    "    pickle.dump(job, f)\n"
   ]
  },
  {
   "cell_type": "code",
   "execution_count": 109,
   "metadata": {},
   "outputs": [
    {
     "name": "stdout",
     "output_type": "stream",
     "text": [
      "hong\n",
      "25\n",
      "장성군\n",
      "['student', 'i want job']\n"
     ]
    }
   ],
   "source": [
    "with open('hgd.p', 'rb') as f: # rb의 b는 binary의 약자임. 객체단위의 저장, 로드시 b를 붙여야함.\n",
    "    name = pickle.load(f)\n",
    "    age = pickle.load(f)\n",
    "    addr = pickle.load(f)\n",
    "    job = pickle.load(f)\n",
    "print(name)\n",
    "print(age)\n",
    "print(addr)\n",
    "print(job)"
   ]
  },
  {
   "cell_type": "code",
   "execution_count": 135,
   "metadata": {},
   "outputs": [
    {
     "name": "stdout",
     "output_type": "stream",
     "text": [
      "회문\n"
     ]
    }
   ],
   "source": [
    "# 회문 = 앞뒤로 읽어도 똑같은 단어는 회문이라고 함. ex- level, exe, ...\n",
    "f = open('test1.txt', 'w', encoding='utf-8')\n",
    "f.write('level')\n",
    "f = open('test1.txt', 'r', encoding='utf-8')\n",
    "a = f.read()\n",
    "\n",
    "result = True\n",
    "for i in range(len(a)):\n",
    "    if(a[i] != a[-i-1]):\n",
    "        result = False\n",
    "if(result == True):\n",
    "    print('회문')\n",
    "else:\n",
    "    print('회문아님')"
   ]
  },
  {
   "cell_type": "code",
   "execution_count": null,
   "metadata": {},
   "outputs": [],
   "source": [
    "# 문자열 처리(n-gram 기법: 문자열에서 n개의 연속된 문자열을 추출하는 기법)\n",
    "# 2-gram : 대한, 한민, 민국 3가지로 분리됨\n"
   ]
  },
  {
   "cell_type": "markdown",
   "metadata": {},
   "source": [
    "# 문자열 처리 문제"
   ]
  },
  {
   "cell_type": "code",
   "execution_count": 180,
   "metadata": {},
   "outputs": [
    {
     "name": "stdout",
     "output_type": "stream",
     "text": [
      "he\n",
      "el\n",
      "ll\n",
      "lo\n"
     ]
    }
   ],
   "source": [
    "txt = 'hello'\n",
    "for i in range(len(txt)-1):\n",
    "    print(txt[i:i+2])"
   ]
  },
  {
   "cell_type": "code",
   "execution_count": 245,
   "metadata": {},
   "outputs": [
    {
     "name": "stdout",
     "output_type": "stream",
     "text": [
      "['나는', ' 오', '늘 ', '파이', '썬 ', '문자', '열 ', '공부', '를 ', '했습', '니다']\n",
      "['오늘', '에서', '야 ', '파이', '썬 ', '문자', '열관', '련 ', '함수', '를 ', '공부', ' 했', '습니', '다']\n",
      "0.2\n"
     ]
    }
   ],
   "source": [
    "txt1 = '나는 오늘 파이썬 문자열 공부를 했습니다'\n",
    "txt2 = '오늘에서야 파이썬 문자열관련 함수를 공부 했습니다'\n",
    "txtList1 = [txt1[i:i+2] for i in range(0,len(txt1),2)]\n",
    "txtList2 = [txt2[i:i+2] for i in range(0,len(txt2),2)]\n",
    "print(txtList1)\n",
    "print(txtList2)\n",
    "\n",
    "\n",
    "gram_2_on = 0 # 분자\n",
    "for i in txtList1:\n",
    "    for j in txtList2:\n",
    "        if(i == j):\n",
    "            gram_2_on += 1\n",
    "\n",
    "gram_2_under = len(txtList1)+len(txtList2) # 분모 = 유사한 비율/ 1의 단어 개수??인듯\n",
    "print(gram_2_on/gram_2_under)"
   ]
  },
  {
   "cell_type": "code",
   "execution_count": 247,
   "metadata": {},
   "outputs": [
    {
     "name": "stdout",
     "output_type": "stream",
     "text": [
      "['나는', ' 오', '늘 ', '파이', '썬 ', '문자', '열 ', '공부', '를 ', '했습', '니다']\n",
      "['오늘', '에서', '야 ', '파이', '썬 ', '문자', '열관', '련 ', '함수', '를 ', '공부', ' 했', '습니', '다']\n",
      "0.2\n"
     ]
    }
   ],
   "source": [
    "txt1 = '나는 오늘 파이썬 문자열 공부를 했습니다'\n",
    "txt2 = '오늘에서야 파이썬 문자열관련 함수를 공부 했습니다'\n",
    "txtList1 = []\n",
    "txtList2 = []\n",
    "for i in range(0,len(txt1),2):\n",
    "    txtList1.append(str(txt1[i]) + str(txt1[i+1]))\n",
    "for i in range(0,len(txt2), 2):\n",
    "    try:\n",
    "        txtList2.append(str(txt2[i]) + str(txt2[i+1]))\n",
    "    except:\n",
    "        txtList2.append(str(txt2[i]))\n",
    "print(txtList1)\n",
    "print(txtList2)\n",
    "\n",
    "\n",
    "# 유사도\n",
    "\n",
    "gram_2_on = 0 # 분자\n",
    "for i in txtList1:\n",
    "    for j in txtList2:\n",
    "        if(i == j):\n",
    "            gram_2_on += 1\n",
    "\n",
    "gram_2_under = len(txtList1)+len(txtList2) # 분모\n",
    "\n",
    "print(gram_2_on/gram_2_under)"
   ]
  },
  {
   "cell_type": "code",
   "execution_count": 255,
   "metadata": {},
   "outputs": [
    {
     "name": "stdout",
     "output_type": "stream",
     "text": [
      "['나는', '는 ', ' 오', '오늘', '늘 ', ' 파', '파이', '이썬', '썬 ', ' 문', '문자', '자열', '열 ', ' 공', '공부', '부를', '를 ', ' 했', '했습', '습니', '니다']\n",
      "['오늘', '늘에', '에서', '서야', '야 ', ' 파', '파이', '이썬', '썬 ', ' 문', '문자', '자열', '열관', '관련', '련 ', ' 함', '함수', '수를', '를 ', ' 공', '공부', '부 ', ' 했', '했습', '습니', '니다']\n",
      "71.42857142857143\n"
     ]
    }
   ],
   "source": [
    "txt1 = '나는 오늘 파이썬 문자열 공부를 했습니다'\n",
    "txt2 = '오늘에서야 파이썬 문자열관련 함수를 공부 했습니다'\n",
    "txtList1 = []\n",
    "txtList2 = []\n",
    "for i in range(0,len(txt1)-1):\n",
    "    txtList1.append(str(txt1[i]) + str(txt1[i+1]))\n",
    "for i in range(0,len(txt2)-1):\n",
    "    try:\n",
    "        txtList2.append(str(txt2[i]) + str(txt2[i+1]))\n",
    "    except:\n",
    "        txtList2.append(str(txt2[i]))\n",
    "print(txtList1)\n",
    "print(txtList2)\n",
    "\n",
    "# 유사도\n",
    "gram_2_on = 0 # 분자\n",
    "for i in txtList1:\n",
    "    for j in txtList2:\n",
    "        if(i == j):\n",
    "            gram_2_on += 1\n",
    "gram_2_under = len(txtList1) # 유사도 = (txt1과 txt2에 있는 일치하는 2-gram 단어 총 갯수 / txt1에 대한 2-gram 단어 총 갯수)*100\n",
    "print((gram_2_on/gram_2_under) *100)"
   ]
  },
  {
   "cell_type": "code",
   "execution_count": null,
   "metadata": {},
   "outputs": [],
   "source": []
  },
  {
   "cell_type": "code",
   "execution_count": null,
   "metadata": {},
   "outputs": [],
   "source": []
  },
  {
   "cell_type": "markdown",
   "metadata": {},
   "source": [
    "# 위까지 문자열 유사도 처리 문제"
   ]
  },
  {
   "cell_type": "code",
   "execution_count": null,
   "metadata": {},
   "outputs": [],
   "source": [
    "count = int(input())\n",
    "res = 0\n",
    "for i in range(count):\n",
    "    txt = input()\n",
    "    txtList = list(txt)\n",
    "    setTxt = set(txtList)\n",
    "    for j in range(len(txtList)-2):\n",
    "        if(txtList[j] == txtList[j+1]):\n",
    "            del txtList[j]\n",
    "    if(len(txtList) == len(setTxt)):\n",
    "        res += 1\n",
    "print(res)"
   ]
  },
  {
   "cell_type": "code",
   "execution_count": 169,
   "metadata": {},
   "outputs": [
    {
     "name": "stdout",
     "output_type": "stream",
     "text": [
      "2\n"
     ]
    }
   ],
   "source": [
    "count = int(input())\n",
    "res = 0\n",
    "for i in range(count):\n",
    "    txt = input()\n",
    "    txtList = list(txt)\n",
    "    setTxt = set(txtList)\n",
    "print(res)"
   ]
  },
  {
   "cell_type": "code",
   "execution_count": 206,
   "metadata": {},
   "outputs": [
    {
     "ename": "ValueError",
     "evalue": "invalid literal for int() with base 10: 'happy'",
     "output_type": "error",
     "traceback": [
      "\u001b[1;31m---------------------------------------------------------------------------\u001b[0m",
      "\u001b[1;31mValueError\u001b[0m                                Traceback (most recent call last)",
      "Cell \u001b[1;32mIn[206], line 1\u001b[0m\n\u001b[1;32m----> 1\u001b[0m inp \u001b[38;5;241m=\u001b[39m \u001b[38;5;28;43mint\u001b[39;49m\u001b[43m(\u001b[49m\u001b[38;5;28;43minput\u001b[39;49m\u001b[43m(\u001b[49m\u001b[43m)\u001b[49m\u001b[43m)\u001b[49m\n\u001b[0;32m      2\u001b[0m res \u001b[38;5;241m=\u001b[39m \u001b[38;5;241m0\u001b[39m\n\u001b[0;32m      3\u001b[0m \u001b[38;5;28;01mfor\u001b[39;00m j \u001b[38;5;129;01min\u001b[39;00m \u001b[38;5;28mrange\u001b[39m(inp):\n",
      "\u001b[1;31mValueError\u001b[0m: invalid literal for int() with base 10: 'happy'"
     ]
    }
   ],
   "source": [
    "inp = int(input())\n",
    "res = 0\n",
    "for j in range(inp):\n",
    "    txtList = list(input())\n",
    "    setTxt = set(txtList)\n",
    "    if(len(txtList) > 2):\n",
    "        for i in range(len(txtList)-2):\n",
    "            if(txtList[i] == txtList[i+1]):\n",
    "                del txtList[i]\n",
    "        if(len(txtList) == len(setTxt)):\n",
    "            res += 1\n",
    "    else:\n",
    "        res += 1\n",
    "\n",
    "print(res)"
   ]
  },
  {
   "cell_type": "code",
   "execution_count": 314,
   "metadata": {},
   "outputs": [
    {
     "name": "stdout",
     "output_type": "stream",
     "text": [
      "3\n"
     ]
    }
   ],
   "source": [
    "count = int(input())\n",
    "res = count\n",
    "for i in range(count):\n",
    "    word = input()\n",
    "    for j in range(len(word)-1):\n",
    "        if(word[j] == word[j+1]):\n",
    "            pass\n",
    "        elif(word[j] in word[j+1:]):\n",
    "            res -= 1\n",
    "            break\n",
    "print(res)"
   ]
  },
  {
   "cell_type": "code",
   "execution_count": null,
   "metadata": {},
   "outputs": [],
   "source": [
    "N = int(input())\n",
    "cnt = N\n",
    "\n",
    "for i in range(N):\n",
    "    word = input()\n",
    "    for j in range(0, len(word)-1):\n",
    "        if word[j] == word[j+1]:\n",
    "            pass\n",
    "        elif word[j] in word[j+1:]:\n",
    "            cnt -= 1\n",
    "            break\n",
    "\n",
    "print(cnt)"
   ]
  },
  {
   "cell_type": "code",
   "execution_count": 299,
   "metadata": {},
   "outputs": [
    {
     "name": "stdout",
     "output_type": "stream",
     "text": [
      "0\n"
     ]
    }
   ],
   "source": [
    "import copy\n",
    "# aa = 'aabbaa'\n",
    "inp = int(input())\n",
    "res = 0\n",
    "for j in range(inp):\n",
    "    aa = input()\n",
    "    aset = set(aa)\n",
    "    count = 0 \n",
    "    # print(len(aset))\n",
    "    if(len(aset) == 1):\n",
    "        res += 1\n",
    "    elif(len(aa) > 2):\n",
    "        for i in range(len(aa)-1):\n",
    "            if(aa[i] == aa[i+1]):\n",
    "                count += 1\n",
    "        # print(count, aset)\n",
    "        if(count == len(aset)):\n",
    "            res += 1\n",
    "    else:\n",
    "        res += 1\n",
    "print(res)"
   ]
  },
  {
   "cell_type": "code",
   "execution_count": 304,
   "metadata": {},
   "outputs": [
    {
     "data": {
      "text/plain": [
       "3"
      ]
     },
     "execution_count": 304,
     "metadata": {},
     "output_type": "execute_result"
    }
   ],
   "source": [
    "i =3\n",
    "b = copy.copy(i)\n",
    "i = 4\n",
    "b"
   ]
  },
  {
   "cell_type": "code",
   "execution_count": 273,
   "metadata": {},
   "outputs": [
    {
     "data": {
      "text/plain": [
       "['1', '2']"
      ]
     },
     "execution_count": 273,
     "metadata": {},
     "output_type": "execute_result"
    }
   ],
   "source": [
    "l = ['1',1,'2']\n",
    "del l[1]\n",
    "l"
   ]
  }
 ],
 "metadata": {
  "kernelspec": {
   "display_name": "Python 3",
   "language": "python",
   "name": "python3"
  },
  "language_info": {
   "codemirror_mode": {
    "name": "ipython",
    "version": 3
   },
   "file_extension": ".py",
   "mimetype": "text/x-python",
   "name": "python",
   "nbconvert_exporter": "python",
   "pygments_lexer": "ipython3",
   "version": "3.10.9"
  }
 },
 "nbformat": 4,
 "nbformat_minor": 2
}
