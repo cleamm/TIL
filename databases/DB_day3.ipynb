{
 "cells": [
  {
   "cell_type": "code",
   "execution_count": null,
   "metadata": {},
   "outputs": [],
   "source": [
    "# 수를 n번 만큼 계산하는 계산기를 만드세요. 사칙연산 기능이 포함되어있어야 합니다.\n",
    "# 예:\n",
    "# 입력1: 2\n",
    "# 입력2: 8/2\n",
    "# 출력:2\n",
    "# 계산:\n",
    "# 1회 8/2=4\n",
    "# 2회 4/2=2\n",
    "# 출력:2"
   ]
  },
  {
   "cell_type": "code",
   "execution_count": 11,
   "metadata": {},
   "outputs": [
    {
     "data": {
      "text/plain": [
       "32"
      ]
     },
     "execution_count": 11,
     "metadata": {},
     "output_type": "execute_result"
    }
   ],
   "source": [
    "n1 = int(input('입력1:'))\n",
    "n2 = input('입력2:')\n",
    "\n",
    "# n1 = 3\n",
    "# n2 = '8+8'\n",
    "oper = ''\n",
    "for i in range(1):\n",
    "    datas = n2.split('*')\n",
    "    if(len(datas) > 1):\n",
    "        oper = '*'\n",
    "        break\n",
    "    datas = n2.split('/')\n",
    "    if(len(datas) > 1):\n",
    "        oper = '/'\n",
    "        break\n",
    "    datas = n2.split('+')\n",
    "    if(len(datas) > 1):\n",
    "        oper = '+'\n",
    "        break\n",
    "    datas = n2.split('-')\n",
    "    if(len(datas) > 1):\n",
    "        oper = '-'\n",
    "\n",
    "num1 = datas[0]\n",
    "num2 = datas[1]\n",
    "for i in range(n1):\n",
    "    num1 = eval(str(num1)+oper+str(num2))\n",
    "\n",
    "num1"
   ]
  }
 ],
 "metadata": {
  "kernelspec": {
   "display_name": "Python 3",
   "language": "python",
   "name": "python3"
  },
  "language_info": {
   "codemirror_mode": {
    "name": "ipython",
    "version": 3
   },
   "file_extension": ".py",
   "mimetype": "text/x-python",
   "name": "python",
   "nbconvert_exporter": "python",
   "pygments_lexer": "ipython3",
   "version": "3.10.9"
  }
 },
 "nbformat": 4,
 "nbformat_minor": 2
}
