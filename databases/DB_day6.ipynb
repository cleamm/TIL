{
 "cells": [
  {
   "cell_type": "code",
   "execution_count": 4,
   "metadata": {},
   "outputs": [
    {
     "name": "stdout",
     "output_type": "stream",
     "text": [
      "5\n",
      "가나가나가\n"
     ]
    }
   ],
   "source": [
    "# 1. 길이가 n이고, \"가나가나가나....\"와 같은 패턴을 유지하는 문자열을 리턴하는 함수, solution을 완성하세요. \n",
    "# 예를들어 n이 4이면 \"수박수박\"을 리턴하고 3이라면 \"수박수\"를 리턴하면 됩니다.\n",
    "\n",
    "# 제한 조건\n",
    "# n은 길이 10,000이하인 자연수입니다.\n",
    "# 입출력 예\n",
    "# n\treturn\n",
    "# 3\t\"가나가\"\n",
    "# 4\t\"가나가나\"\n",
    "# text는 '가나'만\n",
    "\n",
    "def solution(data):\n",
    "    cnt = data\n",
    "    res = ''\n",
    "    for i in range(cnt//2):\n",
    "        res += '가나'\n",
    "    if(cnt % 2 == 1):\n",
    "        res += '가'\n",
    "    return res\n",
    "\n",
    "loop_cnt = int(input())\n",
    "print(loop_cnt)\n",
    "print(solution(loop_cnt))"
   ]
  },
  {
   "cell_type": "code",
   "execution_count": 13,
   "metadata": {},
   "outputs": [
    {
     "name": "stdout",
     "output_type": "stream",
     "text": [
      "[[4], [6]]\n"
     ]
    }
   ],
   "source": [
    "# 2. 행렬의 덧셈은 행과 열의 크기가 같은 두 행렬의 같은 행, 같은 열의 값을 서로 더한 결과가 됩니다. \n",
    "# 2개의 행렬 arr1과 arr2를 입력받아, 행렬 덧셈의 결과를 반환하는 함수, solution을 완성해주세요.\n",
    "\n",
    "# 제한 조건\n",
    "# 행렬 arr1, arr2의 행과 열의 길이는 500을 넘지 않습니다.\n",
    "# 입출력 예\n",
    "# arr1\tarr2\treturn\n",
    "# [[1,2],[2,3]]\t[[3,4],[5,6]]\t[[4,6],[7,9]]\n",
    "# [[1],[2]]\t[[3],[4]]\t[[4],[6]]\n",
    "\n",
    "# arr1 = [[1,2],[2,3]]\n",
    "# arr2 = [[3,4],[5,6]]\n",
    "\n",
    "arr1 = [[1],[2]]\n",
    "arr2 = [[3],[4]]\n",
    "\n",
    "res = []\n",
    "for i in range(len(arr1)):\n",
    "    one_arr = []\n",
    "    for j in range(len(arr1[i])):\n",
    "        one_arr.append(arr1[i][j] + arr2[i][j])\n",
    "    res.append(one_arr)\n",
    "print(res)\n",
    "\n"
   ]
  },
  {
   "cell_type": "code",
   "execution_count": 100,
   "metadata": {},
   "outputs": [
    {
     "name": "stdout",
     "output_type": "stream",
     "text": [
      "A-10 Thunderbolt II\n",
      "B-50 Superfortress\n",
      "F-5 Freedom Fighter\n",
      "F-14 Tomcat\n"
     ]
    }
   ],
   "source": [
    "# 3. 파일명 정렬 # 카카오 문제\n",
    "\n",
    "# 저장소 서버에는 프로그램의 과거 버전을 모두 담고 있어, 이름 순으로 정렬된 파일 목록은 보기가 불편했다. 파일을 이름 순으로 정렬하면 나중에 만들어진 ver-10.zip이 ver-9.zip보다 먼저 표시되기 때문이다.\n",
    "\n",
    "# 버전 번호 외에도 숫자가 포함된 파일 목록은 여러 면에서 관리하기 불편했다. \n",
    "# 예컨대 파일 목록이 [\"img12.png\", \"img10.png\", \"img2.png\", \"img1.png\"]일 경우, \n",
    "# 일반적인 정렬은 [\"img1.png\", \"img10.png\", \"img12.png\", \"img2.png\"] 순이 되지만, \n",
    "# 숫자 순으로 정렬된 [\"img1.png\", \"img2.png\", \"img10.png\", img12.png\"] 순이 훨씬 자연스럽다.\n",
    "\n",
    "\n",
    "# 소스 파일 저장소에 저장된 파일명은 100 글자 이내로, \n",
    "# 영문 대소문자, 숫자, 공백(\" \"), 마침표(\".\"), 빼기 부호(\"-\")만으로 이루어져 있다. \n",
    "# 파일명은 영문자로 시작하며, 숫자를 하나 이상 포함하고 있다.\n",
    "\n",
    "# 파일명은 크게 HEAD, NUMBER, TAIL의 세 부분으로 구성된다.\n",
    "\n",
    "# HEAD는 숫자가 아닌 문자로 이루어져 있으며, 최소한 한 글자 이상이다.\n",
    "# NUMBER는 한 글자에서 최대 다섯 글자 사이의 연속된 숫자로 이루어져 있으며, 앞쪽에 0이 올 수 있다. 0부터 99999 사이의 숫자로, 00000이나 0101 등도 가능하다.\n",
    "# TAIL은 그 나머지 부분으로, 여기에는 숫자가 다시 나타날 수도 있으며, 아무 글자도 없을 수 있다.\n",
    "# 파일명\t         HEAD\tNUMBER\tTAIL\n",
    "# foo9.txt\t        foo\t    9\t    .txt\n",
    "# foo010bar020.zip\tfoo\t    010\t    bar020.zip\n",
    "# F-15\tF-\t15\t(빈 문자열)\n",
    "# 파일명을 세 부분으로 나눈 후, 다음 기준에 따라 파일명을 정렬한다.\n",
    "\n",
    "# 파일명은 우선 HEAD 부분을 기준으로 사전 순으로 정렬한다. 이때, 문자열 비교 시 대소문자 구분을 하지 않는다. MUZI와 muzi, MuZi는 정렬 시에 같은 순서로 취급된다.\n",
    "# 파일명의 HEAD 부분이 대소문자 차이 외에는 같을 경우, NUMBER의 숫자 순으로 정렬한다. \n",
    "# 9 < 10 < 0011 < 012 < 13 < 014 순으로 정렬된다. 숫자 앞의 0은 무시되며, \n",
    "# 012와 12는 정렬 시에 같은 같은 값으로 처리된다.\n",
    "# 두 파일의 HEAD 부분과, NUMBER의 숫자도 같을 경우, 원래 입력에 주어진 순서를 유지한다. \n",
    "# MUZI01.zip과 muzi1.png가 입력으로 들어오면, 정렬 후에도 입력 시 주어진 두 파일의 순서가 바뀌어서는 안 된다.\n",
    "# 무지를 도와 파일명 정렬 프로그램을 구현하라.\n",
    "\n",
    "# 입력 형식\n",
    "# 입력으로 배열 files가 주어진다.\n",
    "\n",
    "# files는 1000 개 이하의 파일명을 포함하는 문자열 배열이다.\n",
    "# 각 파일명은 100 글자 이하 길이로, 영문 대소문자, 숫자, 공백(\" \"), 마침표(\".\"), 빼기 부호(\"-\")만으로 이루어져 있다. 파일명은 영문자로 시작하며, 숫자를 하나 이상 포함하고 있다.\n",
    "# 중복된 파일명은 없으나, 대소문자나 숫자 앞부분의 0 차이가 있는 경우는 함께 주어질 수 있다. (muzi1.txt, MUZI1.txt, muzi001.txt, muzi1.TXT는 함께 입력으로 주어질 수 있다.)\n",
    "# 출력 형식\n",
    "# 위 기준에 따라 정렬된 배열을 출력한다.\n",
    "\n",
    "# 입출력 예제\n",
    "# 입력: [\"img12.png\", \"img10.png\", \"img02.png\", \"img1.png\", \"IMG01.GIF\", \"img2.JPG\"]\n",
    "# 출력: [\"img1.png\", \"IMG01.GIF\", \"img02.png\", \"img2.JPG\", \"img10.png\", \"img12.png\"]\n",
    "\n",
    "# 입력: [\"F-5 Freedom Fighter\", \"B-50 Superfortress\", \"A-10 Thunderbolt II\", \"F-14 Tomcat\"]\n",
    "# 출력: [\"A-10 Thunderbolt II\", \"B-50 Superfortress\", \"F-5 Freedom Fighter\", \"F-14 Tomcat\"]\n",
    "\n",
    "import re\n",
    "\n",
    "# data = [\"img12.png\", \"img10.png\", \"img02.png\", \"img1.png\", \"IMG01.GIF\", \"img2.JPG\"]\n",
    "data = [\"F-5 Freedom Fighter\", \"B-50 Superfortress\", \"A-10 Thunderbolt II\", \"F-14 Tomcat\"]\n",
    "data_split = []\n",
    "cnt = 0 # 처음 인덱스가 몇번인지 체크용\n",
    "best_len = 0\n",
    "same_num_len = ''\n",
    "for i in data: # best_len 구하는 for문\n",
    "    num = re.search('[0-9]+', i).span()\n",
    "    if(num[1]-num[0] > best_len):\n",
    "        best_len = num[1] - num[0] # 숫자의 최대 길이 기록\n",
    "    # 숫자의 길이에 의한 순서가 변경되므로 길이를 동일하게 수정\n",
    "    # 위와 동시에 리스트에 추가\n",
    "    # head는 전부 소문자로 통일\n",
    "    same_num_len = '{:0>'+str(best_len)+'}'\n",
    "    data_split.append([i[:num[0]].lower(), i[num[0]:num[1]], i[num[1]:], cnt]) # head, number, tail 분리, cnt추가\n",
    "    cnt += 1\n",
    "\n",
    "    \n",
    "for i in range(len(data_split)):\n",
    "    data_split[i][1] = same_num_len.format(data_split[i][1])\n",
    "\n",
    "sort_list = []\n",
    "for i in data_split:\n",
    "    sort_list.append([i[0]+i[1], i[3]])\n",
    "# print(sort_list)\n",
    "sort_list.sort()\n",
    "# print(sort_list)\n",
    "for i in sort_list:\n",
    "    print(data[i[1]])\n",
    "\n",
    "\n",
    "# [\"img1.png\", \"IMG01.GIF\", \"img02.png\", \"img2.JPG\", \"img10.png\", \"img12.png\"]\n",
    "# [\"A-10 Thunderbolt II\", \"B-50 Superfortress\", \"F-5 Freedom Fighter\", \"F-14 Tomcat\"]"
   ]
  },
  {
   "cell_type": "code",
   "execution_count": 62,
   "metadata": {},
   "outputs": [
    {
     "data": {
      "text/plain": [
       "['AA', 'BBB', 'aa', 'bbb']"
      ]
     },
     "execution_count": 62,
     "metadata": {},
     "output_type": "execute_result"
    }
   ],
   "source": [
    "aaaa = ['aa', 'AA', 'bbb', 'BBB']\n",
    "aaaa.sort()\n",
    "aaaa"
   ]
  },
  {
   "cell_type": "code",
   "execution_count": 44,
   "metadata": {},
   "outputs": [
    {
     "name": "stdout",
     "output_type": "stream",
     "text": [
      "55\n"
     ]
    }
   ],
   "source": [
    "cc = 2\n",
    "cccc = '{:0>'+ str(cc)+'}'\n",
    "print(cccc.format('55'))\n",
    "# \"{:0>3}\".format('4')"
   ]
  }
 ],
 "metadata": {
  "kernelspec": {
   "display_name": "Python 3",
   "language": "python",
   "name": "python3"
  },
  "language_info": {
   "codemirror_mode": {
    "name": "ipython",
    "version": 3
   },
   "file_extension": ".py",
   "mimetype": "text/x-python",
   "name": "python",
   "nbconvert_exporter": "python",
   "pygments_lexer": "ipython3",
   "version": "3.10.9"
  }
 },
 "nbformat": 4,
 "nbformat_minor": 2
}
