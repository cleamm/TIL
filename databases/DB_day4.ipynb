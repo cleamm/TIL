{
 "cells": [
  {
   "cell_type": "code",
   "execution_count": null,
   "metadata": {},
   "outputs": [],
   "source": [
    "# 코니는 영어 단어가 적힌 카드 뭉치 두 개를 선물로 받았습니다. \n",
    "# 코니는 다음과 같은 규칙으로 카드에 적힌 단어들을 사용해 원하는 순서의 단어 배열을 만들 수 있는지 알고 싶습니다.\n",
    "\n",
    "# 원하는 카드 뭉치에서 카드를 순서대로 한 장씩 사용합니다.\n",
    "# 한 번 사용한 카드는 다시 사용할 수 없습니다.\n",
    "# 카드를 사용하지 않고 다음 카드로 넘어갈 수 없습니다.\n",
    "# 기존에 주어진 카드 뭉치의 단어 순서는 바꿀 수 없습니다.\n",
    "# 예를 들어 첫 번째 카드 뭉치에 순서대로 [\"i\", \"drink\", \"water\"], \n",
    "# 두 번째 카드 뭉치에 순서대로 [\"want\", \"to\"]가 적혀있을 때 \n",
    "# [\"i\", \"want\", \"to\", \"drink\", \"water\"] 순서의 단어 배열을 만들려고 한다면 \n",
    "# 첫 번째 카드 뭉치에서 \"i\"를 사용한 후 두 번째 카드 뭉치에서 \"want\"와 \"to\"를 사용하고 \n",
    "# 첫 번째 카드뭉치에 \"drink\"와 \"water\"를 차례대로 사용하면 원하는 순서의 단어 배열을 만들 수 있습니다.\n",
    "# 문자열로 이루어진 배열 cards1, cards2와 원하는 단어 배열 goal이 매개변수로 주어질 때, \n",
    "# cards1과 cards2에 적힌 단어들로 goal를 만들 있다면 \"Yes\"를, 만들 수 없다면 \"No\"를 return하는 solution 함수를 완성해주세요.\n",
    "\n",
    "# 제한사항\n",
    "# 1 ≤ cards1의 길이, cards2의 길이 ≤ 10\n",
    "# 1 ≤ cards1[i]의 길이, cards2[i]의 길이 ≤ 10\n",
    "# cards1과 cards2에는 서로 다른 단어만 존재합니다.\n",
    "# 2 ≤ goal의 길이 ≤ cards1의 길이 + cards2의 길이\n",
    "# 1 ≤ goal[i]의 길이 ≤ 10\n",
    "# goal의 원소는 cards1과 cards2의 원소들로만 이루어져 있습니다.\n",
    "# cards1, cards2, goal의 문자열들은 모두 알파벳 소문자로만 이루어져 있습니다.\n",
    "\n",
    "# 입출력 예\n",
    "# cards1 cards2 goal result\n",
    "# [\"i\", \"drink\", \"water\"] [\"want\", \"to\"] [\"i\", \"want\", \"to\", \"drink\", \"water\"] \"Yes\"\n",
    "# [\"i\", \"water\", \"drink\"] [\"want\", \"to\"] [\"i\", \"want\", \"to\", \"drink\", \"water\"] \"No\"\n",
    "\n",
    "# 입출력 예 \n",
    "#1\n",
    "# 본문과 같습니다.\n",
    "# https://cafeptthumb-phinf.pstatic.net/MjAyNDA0MDVfMTE3/MDAxNzEyMjk4MjI5MjA3.359AalkQELIPr6b9cY5KBe-G-Itjd2JpOmR1dDvI8TEg.Wv_78H4plbJYpOpBeOfWXyE5KQPC5X9oY7HoOOZW9owg.PNG/image.png?type=w1600\n",
    "#2\n",
    "# cards1에서 \"i\"를 사용하고 cards2에서 \"want\"와 \"to\"를 사용하여 \"i want to\"까지는 만들 수 있지만\n",
    "# \"water\"가 \"drink\"보다 먼저 사용되어야 하기 때문에 해당 문장을 완성시킬 수 없습니다. 따라서 \"No\"를 반환합니다."
   ]
  },
  {
   "cell_type": "code",
   "execution_count": 8,
   "metadata": {},
   "outputs": [
    {
     "name": "stdout",
     "output_type": "stream",
     "text": [
      "i i want\n",
      "want drink want\n",
      "to drink to\n",
      "drink drink \n",
      "water water \n"
     ]
    },
    {
     "data": {
      "text/plain": [
       "'Yes'"
      ]
     },
     "execution_count": 8,
     "metadata": {},
     "output_type": "execute_result"
    }
   ],
   "source": [
    "cards1 = [\"i\", \"drink\", \"water\"]\n",
    "cards2 = [\"want\", \"to\"]\n",
    "goal = [\"i\", \"want\", \"to\",  \"drink\", \"water\"]\n",
    "\n",
    "    \n",
    "def solution(c1, c2, g):\n",
    "    cnt1 = 0\n",
    "    cnt2 = 0\n",
    "    cards1.append('') # 범위 에러방지용\n",
    "    cards2.append('') # 범위 에러방지용\n",
    "    for i in g:\n",
    "        if(i == c1[cnt1]):\n",
    "            cnt1+=1\n",
    "        elif(i == c2[cnt2]):\n",
    "            cnt2+=1\n",
    "        else:\n",
    "            return 'No'\n",
    "    return 'Yes'\n",
    "solution(cards1, cards2, goal)"
   ]
  },
  {
   "cell_type": "code",
   "execution_count": 34,
   "metadata": {},
   "outputs": [
    {
     "name": "stdout",
     "output_type": "stream",
     "text": [
      "Yes\n"
     ]
    }
   ],
   "source": [
    "import re\n",
    "# [\"i\", \"drink\", \"water\"] [\"want\", \"to\"] [\"i\", \"want\", \"to\", \"drink\", \"water\"] \"Yes\"\n",
    "# [\"i\", \"water\", \"drink\"] [\"want\", \"to\"] [\"i\", \"want\", \"to\", \"drink\", \"water\"] \"No\"\n",
    "cards1 = [\"i\", \"drink\", \"water\"]\n",
    "cards2 = [\"want\", \"to\"]\n",
    "goal = [\"i\", \"want\", \"to\", \"drink\", \"water\"]\n",
    "\n",
    "\n",
    "def solution(c1, c2, g):\n",
    "    cnt1 = 0\n",
    "    cnt2 = 0\n",
    "    cards1.append('') # 범위 에러방지용\n",
    "    cards2.append('') # 범위 에러방지용\n",
    "    for i in g:\n",
    "        if(i == c1[cnt1]):\n",
    "            cnt1+=1\n",
    "        elif(i == c2[cnt2]):\n",
    "            cnt2+=1\n",
    "        else:\n",
    "            return 'No'\n",
    "    return 'Yes'\n",
    "\n",
    "# 제한사항\n",
    "cond = True # true를 유지해야됨\n",
    "if(1>len(cards1) or len(cards2)>10   or 2>len(goal) or len(goal) > len(cards1)+len(cards2)):\n",
    "    cond = False\n",
    "else:\n",
    "    for i in cards1:\n",
    "        if(len(i) < 1): # 글자가 0개일때 \n",
    "            cond = False\n",
    "            break\n",
    "\n",
    "    if(cond == True):\n",
    "        for i in cards2:\n",
    "            if(len(i)>10): # 글자가 10개를 넘으면 안됨\n",
    "                cond = False\n",
    "                break\n",
    "        \n",
    "        if(cond == True): # cards2 조건이 합당한지 체크후\n",
    "            all_cards = cards1+cards2 # 카드 전체 통합\n",
    "            if len(set(all_cards)) == len(cards1)+len(cards2): # cards1,2에 중복이 없는가\n",
    "                for i in goal:\n",
    "                    if(len(i)>10 or len(i)<1):\n",
    "                        cond = False\n",
    "                        break\n",
    "                    if(i not in all_cards): # cards1,2에 없는 데이터가 있는가\n",
    "                        cond = False\n",
    "                        break\n",
    "                \n",
    "                if(cond == True):\n",
    "                    for i in all_cards:\n",
    "                        if(re.search('[^a-z]+', i)): # 소문자 이외의 문자가 있으면 조건 미달\n",
    "                            cond = False\n",
    "                            break\n",
    "                    if(cond == True): # 함수 실행\n",
    "                        print(solution(cards1, cards2, goal)) \n",
    "            else:\n",
    "                cond = False"
   ]
  },
  {
   "cell_type": "code",
   "execution_count": null,
   "metadata": {},
   "outputs": [],
   "source": [
    "def check_goal(cards1,cards2,goal):\n",
    "    i = 0\n",
    "    j = 0\n",
    "\n",
    "    for g in range(len(goal)):\n",
    "        if i < len(cards1) and goal[g] == cards1[i]:\n",
    "            i += 1\n",
    "        elif j < len(cards2) and goal[g] == cards2[j]:\n",
    "            j += 1\n",
    "        else:\n",
    "            print('No')\n",
    "            return\n",
    "    else:\n",
    "        if i == len(cards1) and j == len(cards2):\n",
    "            print('Yes')\n",
    "            return\n",
    "        else:\n",
    "            print('No')\n",
    "            return\n",
    "\n",
    "cards1 = input(\"카드 뭉치 1을 입력하세요 (단어 사이에는 공백을 넣어주세요): \").split()\n",
    "cards2 = input(\"카드 뭉치 2를 입력하세요 (단어 사이에는 공백을 넣어주세요): \").split()\n",
    "goal = input(\"목표 단어 배열을 입력하세요 (단어 사이에는 공백을 넣어주세요): \").split()\n",
    "\n",
    "check_goal(cards1,cards2,goal)"
   ]
  }
 ],
 "metadata": {
  "kernelspec": {
   "display_name": "Python 3",
   "language": "python",
   "name": "python3"
  },
  "language_info": {
   "codemirror_mode": {
    "name": "ipython",
    "version": 3
   },
   "file_extension": ".py",
   "mimetype": "text/x-python",
   "name": "python",
   "nbconvert_exporter": "python",
   "pygments_lexer": "ipython3",
   "version": "3.10.9"
  }
 },
 "nbformat": 4,
 "nbformat_minor": 2
}
