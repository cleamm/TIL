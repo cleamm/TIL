{
 "cells": [
  {
   "cell_type": "code",
   "execution_count": 2,
   "metadata": {},
   "outputs": [],
   "source": [
    "from selenium import webdriver\n",
    "from bs4 import BeautifulSoup\n",
    "import pandas as pd\n",
    "\n",
    "driver = webdriver.Chrome()"
   ]
  },
  {
   "cell_type": "code",
   "execution_count": 3,
   "metadata": {},
   "outputs": [],
   "source": [
    "url = 'https://www.starbucks.co.kr/store/store_map.do?disp=locale'\n",
    "driver.get(url)"
   ]
  },
  {
   "cell_type": "code",
   "execution_count": 4,
   "metadata": {},
   "outputs": [],
   "source": [
    "# html = BeautifulSoup(driver, 'html.parser')\n",
    "seoul_btn = '#container > div > form > fieldset > div > section > article.find_store_cont > article > article:nth-child(4) > div.loca_step1 > div.loca_step1_cont > ul > li:nth-child(1) > a'\n",
    "gyonggi_btn = '#container > div > form > fieldset > div > section > article.find_store_cont > article > article:nth-child(4) > div.loca_step1 > div.loca_step1_cont > ul > li:nth-child(2) > a'"
   ]
  },
  {
   "cell_type": "code",
   "execution_count": 5,
   "metadata": {},
   "outputs": [],
   "source": [
    "driver.find_element('css selector', seoul_btn).click() # 서울시 화면\n",
    "# element not interactable 에러가 나올때 = html에서는 요소를 탐색했으나 상호작용은 안될때\n",
    "# from selenium.webdriver.common.keys import Keys\n",
    "# driver.find_element('css selector', seoul_btn).send_keys(Keys.ENTER) # 서울시 화면2\n",
    "# 같은 에러 다른 경우도 있음 = 진짜로 버튼이 없을 때.\n",
    "# 진짜 버튼이 없는 경우는 처음으로 돌아가서 재실행해야됨 = 아니면 페이지 상태를 고려할 것"
   ]
  },
  {
   "cell_type": "code",
   "execution_count": 6,
   "metadata": {},
   "outputs": [],
   "source": [
    "seoul_all_btn = '#mCSB_2_container > ul > li:nth-child(1) > a'\n",
    "driver.find_element('css selector', seoul_all_btn).click() # 서울시 전체 구 전체 화면"
   ]
  },
  {
   "cell_type": "code",
   "execution_count": 7,
   "metadata": {},
   "outputs": [
    {
     "name": "stdout",
     "output_type": "stream",
     "text": [
      "613\n"
     ]
    }
   ],
   "source": [
    "# station_three = '#mCSB_3_container > ul > li:nth-child(1)'\n",
    "html = driver.page_source\n",
    "soup = BeautifulSoup(html, 'html.parser')\n",
    "starbucks_list = soup.select('#mCSB_3_container > ul > li')\n",
    "print(len(starbucks_list))\n",
    "# starbucks_list"
   ]
  },
  {
   "cell_type": "code",
   "execution_count": 31,
   "metadata": {},
   "outputs": [
    {
     "name": "stdout",
     "output_type": "stream",
     "text": [
      "636\n"
     ]
    }
   ],
   "source": [
    "starbucks_list_con=soup.select(\"li.quickResultLstCon\")\n",
    "print(len(starbucks_list_con)) # 위랑 같아야 하는데 왜 다르지?"
   ]
  },
  {
   "cell_type": "code",
   "execution_count": 8,
   "metadata": {},
   "outputs": [
    {
     "name": "stdout",
     "output_type": "stream",
     "text": [
      "37.501087\n",
      "127.043069\n",
      "역삼아레나빌딩\n",
      "서울특별시 강남구 언주로 425 (역삼동)\n",
      "1522-3232\n"
     ]
    }
   ],
   "source": [
    "# print(starbucks_list[0].attrs['data-lat'])\n",
    "# print(starbucks_list[0].attrs['data-long'])\n",
    "# print(starbucks_list[0].attrs['data-name'])\n",
    "# starbucks_list[0].select('strong')[0].string.strip()\n",
    "\n",
    "starbucks_list[0] # Notebook › Output: Word Wrap 이거 체크하면 출력 자동 줄바꿈 설정됨\n",
    "addr_call = starbucks_list[0].select('p')[0].text\n",
    "import re\n",
    "i = re.compile('[0-9]+-[0-9]+')\n",
    "sp = re.search(i, addr_call).span()\n",
    "addr = addr_call[:sp[0]].strip()\n",
    "call = addr_call[sp[0]:sp[1]]\n",
    "call2 = addr_call[sp[0]:]\n",
    "print(addr)\n",
    "print(call)"
   ]
  },
  {
   "cell_type": "code",
   "execution_count": 22,
   "metadata": {},
   "outputs": [
    {
     "data": {
      "text/plain": [
       "<p class=\"result_details\">서울특별시 강남구 언주로 425 (역삼동)<br/>1522-3232</p>"
      ]
     },
     "execution_count": 22,
     "metadata": {},
     "output_type": "execute_result"
    }
   ],
   "source": [
    "# addr_call\n",
    "starbucks_list[0].select('p')[0].split\n",
    "# a, b = starbucks_list[0].select('p')[0].text.split()"
   ]
  },
  {
   "cell_type": "code",
   "execution_count": 26,
   "metadata": {},
   "outputs": [
    {
     "name": "stdout",
     "output_type": "stream",
     "text": [
      "613\n"
     ]
    }
   ],
   "source": [
    "print(len(starbucks_list))\n",
    "starbucks_list_all = []\n",
    "for item in starbucks_list:\n",
    "    name = item.select('strong')[0].text.strip()\n",
    "    lat = item.attrs['data-lat']\n",
    "    lng = item.attrs['data-long']\n",
    "    addr = str(item.select('p')[0]).split('<br/>')[0].split('>')[1]\n",
    "    tel = str(item.select('p')[0]).split('<br/>')[1].split('<')[0]\n",
    "    starbucks_list_all.append([name, lat, lng, addr, tel])"
   ]
  },
  {
   "cell_type": "code",
   "execution_count": 27,
   "metadata": {},
   "outputs": [
    {
     "data": {
      "text/html": [
       "<div>\n",
       "<style scoped>\n",
       "    .dataframe tbody tr th:only-of-type {\n",
       "        vertical-align: middle;\n",
       "    }\n",
       "\n",
       "    .dataframe tbody tr th {\n",
       "        vertical-align: top;\n",
       "    }\n",
       "\n",
       "    .dataframe thead th {\n",
       "        text-align: right;\n",
       "    }\n",
       "</style>\n",
       "<table border=\"1\" class=\"dataframe\">\n",
       "  <thead>\n",
       "    <tr style=\"text-align: right;\">\n",
       "      <th></th>\n",
       "      <th>매장명</th>\n",
       "      <th>위도</th>\n",
       "      <th>경도</th>\n",
       "      <th>주소</th>\n",
       "      <th>전화번호</th>\n",
       "    </tr>\n",
       "  </thead>\n",
       "  <tbody>\n",
       "    <tr>\n",
       "      <th>0</th>\n",
       "      <td>역삼아레나빌딩</td>\n",
       "      <td>37.501087</td>\n",
       "      <td>127.043069</td>\n",
       "      <td>서울특별시 강남구 언주로 425 (역삼동)</td>\n",
       "      <td>1522-3232</td>\n",
       "    </tr>\n",
       "    <tr>\n",
       "      <th>1</th>\n",
       "      <td>논현역사거리</td>\n",
       "      <td>37.510178</td>\n",
       "      <td>127.022223</td>\n",
       "      <td>서울특별시 강남구 강남대로 538 (논현동)</td>\n",
       "      <td>1522-3232</td>\n",
       "    </tr>\n",
       "    <tr>\n",
       "      <th>2</th>\n",
       "      <td>신사역성일빌딩</td>\n",
       "      <td>37.5139309</td>\n",
       "      <td>127.0206057</td>\n",
       "      <td>서울특별시 강남구 강남대로 584 (논현동)</td>\n",
       "      <td>1522-3232</td>\n",
       "    </tr>\n",
       "    <tr>\n",
       "      <th>3</th>\n",
       "      <td>국기원사거리</td>\n",
       "      <td>37.499517</td>\n",
       "      <td>127.031495</td>\n",
       "      <td>서울특별시 강남구 테헤란로 125 (역삼동)</td>\n",
       "      <td>1522-3232</td>\n",
       "    </tr>\n",
       "    <tr>\n",
       "      <th>4</th>\n",
       "      <td>대치재경빌딩</td>\n",
       "      <td>37.494668</td>\n",
       "      <td>127.062583</td>\n",
       "      <td>서울특별시 강남구 남부순환로 2947 (대치동)</td>\n",
       "      <td>1522-3232</td>\n",
       "    </tr>\n",
       "    <tr>\n",
       "      <th>...</th>\n",
       "      <td>...</td>\n",
       "      <td>...</td>\n",
       "      <td>...</td>\n",
       "      <td>...</td>\n",
       "      <td>...</td>\n",
       "    </tr>\n",
       "    <tr>\n",
       "      <th>608</th>\n",
       "      <td>사가정역</td>\n",
       "      <td>37.579594</td>\n",
       "      <td>127.087966</td>\n",
       "      <td>서울특별시 중랑구 면목로 310</td>\n",
       "      <td>1522-3232</td>\n",
       "    </tr>\n",
       "    <tr>\n",
       "      <th>609</th>\n",
       "      <td>상봉역</td>\n",
       "      <td>37.59689</td>\n",
       "      <td>127.08647</td>\n",
       "      <td>서울특별시 중랑구 망우로 307 (상봉동)</td>\n",
       "      <td>1522-3232</td>\n",
       "    </tr>\n",
       "    <tr>\n",
       "      <th>610</th>\n",
       "      <td>묵동</td>\n",
       "      <td>37.615368</td>\n",
       "      <td>127.076633</td>\n",
       "      <td>서울특별시 중랑구 동일로 952 (묵동, 로프트원 태릉입구역) 1층</td>\n",
       "      <td>1522-3232</td>\n",
       "    </tr>\n",
       "    <tr>\n",
       "      <th>611</th>\n",
       "      <td>양원역</td>\n",
       "      <td>37.6066536267232</td>\n",
       "      <td>127.106359790053</td>\n",
       "      <td>서울특별시 중랑구 양원역로10길 3 (망우동)</td>\n",
       "      <td>1522-3232</td>\n",
       "    </tr>\n",
       "    <tr>\n",
       "      <th>612</th>\n",
       "      <td>중화역</td>\n",
       "      <td>37.60170912407773</td>\n",
       "      <td>127.07841136432036</td>\n",
       "      <td>서울특별시 중랑구 봉화산로 35 1층</td>\n",
       "      <td>1522-3232</td>\n",
       "    </tr>\n",
       "  </tbody>\n",
       "</table>\n",
       "<p>613 rows × 5 columns</p>\n",
       "</div>"
      ],
      "text/plain": [
       "         매장명                 위도                  경도  \\\n",
       "0    역삼아레나빌딩          37.501087          127.043069   \n",
       "1     논현역사거리          37.510178          127.022223   \n",
       "2    신사역성일빌딩         37.5139309         127.0206057   \n",
       "3     국기원사거리          37.499517          127.031495   \n",
       "4     대치재경빌딩          37.494668          127.062583   \n",
       "..       ...                ...                 ...   \n",
       "608     사가정역          37.579594          127.087966   \n",
       "609      상봉역           37.59689           127.08647   \n",
       "610       묵동          37.615368          127.076633   \n",
       "611      양원역   37.6066536267232    127.106359790053   \n",
       "612      중화역  37.60170912407773  127.07841136432036   \n",
       "\n",
       "                                        주소       전화번호  \n",
       "0                  서울특별시 강남구 언주로 425 (역삼동)  1522-3232  \n",
       "1                 서울특별시 강남구 강남대로 538 (논현동)  1522-3232  \n",
       "2                 서울특별시 강남구 강남대로 584 (논현동)  1522-3232  \n",
       "3                 서울특별시 강남구 테헤란로 125 (역삼동)  1522-3232  \n",
       "4               서울특별시 강남구 남부순환로 2947 (대치동)  1522-3232  \n",
       "..                                     ...        ...  \n",
       "608                      서울특별시 중랑구 면목로 310  1522-3232  \n",
       "609                서울특별시 중랑구 망우로 307 (상봉동)  1522-3232  \n",
       "610  서울특별시 중랑구 동일로 952 (묵동, 로프트원 태릉입구역) 1층  1522-3232  \n",
       "611              서울특별시 중랑구 양원역로10길 3 (망우동)  1522-3232  \n",
       "612                   서울특별시 중랑구 봉화산로 35 1층  1522-3232  \n",
       "\n",
       "[613 rows x 5 columns]"
      ]
     },
     "execution_count": 27,
     "metadata": {},
     "output_type": "execute_result"
    }
   ],
   "source": [
    "starbucks_list_all\n",
    "sb_df = pd.DataFrame(starbucks_list_all, columns=['매장명', '위도', '경도', '주소', '전화번호'])\n",
    "sb_df"
   ]
  },
  {
   "cell_type": "code",
   "execution_count": 35,
   "metadata": {},
   "outputs": [],
   "source": [
    "sb_df.to_excel('sb_list.xlsx', index=False) # 데이터를 엑셀형식으로 저장"
   ]
  },
  {
   "cell_type": "code",
   "execution_count": 41,
   "metadata": {},
   "outputs": [],
   "source": []
  },
  {
   "cell_type": "code",
   "execution_count": 87,
   "metadata": {},
   "outputs": [
    {
     "data": {
      "text/html": [
       "<div>\n",
       "<style scoped>\n",
       "    .dataframe tbody tr th:only-of-type {\n",
       "        vertical-align: middle;\n",
       "    }\n",
       "\n",
       "    .dataframe tbody tr th {\n",
       "        vertical-align: top;\n",
       "    }\n",
       "\n",
       "    .dataframe thead th {\n",
       "        text-align: right;\n",
       "    }\n",
       "</style>\n",
       "<table border=\"1\" class=\"dataframe\">\n",
       "  <thead>\n",
       "    <tr style=\"text-align: right;\">\n",
       "      <th></th>\n",
       "      <th>매장명</th>\n",
       "      <th>위도</th>\n",
       "      <th>경도</th>\n",
       "      <th>주소</th>\n",
       "      <th>전화번호</th>\n",
       "    </tr>\n",
       "  </thead>\n",
       "  <tbody>\n",
       "    <tr>\n",
       "      <th>0</th>\n",
       "      <td>역삼아레나빌딩</td>\n",
       "      <td>37.501087</td>\n",
       "      <td>127.043069</td>\n",
       "      <td>서울특별시 강남구 언주로 425 (역삼동)</td>\n",
       "      <td>1522-3232</td>\n",
       "    </tr>\n",
       "    <tr>\n",
       "      <th>1</th>\n",
       "      <td>논현역사거리</td>\n",
       "      <td>37.510178</td>\n",
       "      <td>127.022223</td>\n",
       "      <td>서울특별시 강남구 강남대로 538 (논현동)</td>\n",
       "      <td>1522-3232</td>\n",
       "    </tr>\n",
       "    <tr>\n",
       "      <th>2</th>\n",
       "      <td>신사역성일빌딩</td>\n",
       "      <td>37.513931</td>\n",
       "      <td>127.020606</td>\n",
       "      <td>서울특별시 강남구 강남대로 584 (논현동)</td>\n",
       "      <td>1522-3232</td>\n",
       "    </tr>\n",
       "    <tr>\n",
       "      <th>3</th>\n",
       "      <td>국기원사거리</td>\n",
       "      <td>37.499517</td>\n",
       "      <td>127.031495</td>\n",
       "      <td>서울특별시 강남구 테헤란로 125 (역삼동)</td>\n",
       "      <td>1522-3232</td>\n",
       "    </tr>\n",
       "    <tr>\n",
       "      <th>4</th>\n",
       "      <td>대치재경빌딩</td>\n",
       "      <td>37.494668</td>\n",
       "      <td>127.062583</td>\n",
       "      <td>서울특별시 강남구 남부순환로 2947 (대치동)</td>\n",
       "      <td>1522-3232</td>\n",
       "    </tr>\n",
       "    <tr>\n",
       "      <th>...</th>\n",
       "      <td>...</td>\n",
       "      <td>...</td>\n",
       "      <td>...</td>\n",
       "      <td>...</td>\n",
       "      <td>...</td>\n",
       "    </tr>\n",
       "    <tr>\n",
       "      <th>608</th>\n",
       "      <td>사가정역</td>\n",
       "      <td>37.579594</td>\n",
       "      <td>127.087966</td>\n",
       "      <td>서울특별시 중랑구 면목로 310</td>\n",
       "      <td>1522-3232</td>\n",
       "    </tr>\n",
       "    <tr>\n",
       "      <th>609</th>\n",
       "      <td>상봉역</td>\n",
       "      <td>37.596890</td>\n",
       "      <td>127.086470</td>\n",
       "      <td>서울특별시 중랑구 망우로 307 (상봉동)</td>\n",
       "      <td>1522-3232</td>\n",
       "    </tr>\n",
       "    <tr>\n",
       "      <th>610</th>\n",
       "      <td>묵동</td>\n",
       "      <td>37.615368</td>\n",
       "      <td>127.076633</td>\n",
       "      <td>서울특별시 중랑구 동일로 952 (묵동, 로프트원 태릉입구역) 1층</td>\n",
       "      <td>1522-3232</td>\n",
       "    </tr>\n",
       "    <tr>\n",
       "      <th>611</th>\n",
       "      <td>양원역</td>\n",
       "      <td>37.606654</td>\n",
       "      <td>127.106360</td>\n",
       "      <td>서울특별시 중랑구 양원역로10길 3 (망우동)</td>\n",
       "      <td>1522-3232</td>\n",
       "    </tr>\n",
       "    <tr>\n",
       "      <th>612</th>\n",
       "      <td>중화역</td>\n",
       "      <td>37.601709</td>\n",
       "      <td>127.078411</td>\n",
       "      <td>서울특별시 중랑구 봉화산로 35 1층</td>\n",
       "      <td>1522-3232</td>\n",
       "    </tr>\n",
       "  </tbody>\n",
       "</table>\n",
       "<p>613 rows × 5 columns</p>\n",
       "</div>"
      ],
      "text/plain": [
       "         매장명         위도          경도                                     주소  \\\n",
       "0    역삼아레나빌딩  37.501087  127.043069                서울특별시 강남구 언주로 425 (역삼동)   \n",
       "1     논현역사거리  37.510178  127.022223               서울특별시 강남구 강남대로 538 (논현동)   \n",
       "2    신사역성일빌딩  37.513931  127.020606               서울특별시 강남구 강남대로 584 (논현동)   \n",
       "3     국기원사거리  37.499517  127.031495               서울특별시 강남구 테헤란로 125 (역삼동)   \n",
       "4     대치재경빌딩  37.494668  127.062583             서울특별시 강남구 남부순환로 2947 (대치동)   \n",
       "..       ...        ...         ...                                    ...   \n",
       "608     사가정역  37.579594  127.087966                      서울특별시 중랑구 면목로 310   \n",
       "609      상봉역  37.596890  127.086470                서울특별시 중랑구 망우로 307 (상봉동)   \n",
       "610       묵동  37.615368  127.076633  서울특별시 중랑구 동일로 952 (묵동, 로프트원 태릉입구역) 1층   \n",
       "611      양원역  37.606654  127.106360              서울특별시 중랑구 양원역로10길 3 (망우동)   \n",
       "612      중화역  37.601709  127.078411                   서울특별시 중랑구 봉화산로 35 1층   \n",
       "\n",
       "          전화번호  \n",
       "0    1522-3232  \n",
       "1    1522-3232  \n",
       "2    1522-3232  \n",
       "3    1522-3232  \n",
       "4    1522-3232  \n",
       "..         ...  \n",
       "608  1522-3232  \n",
       "609  1522-3232  \n",
       "610  1522-3232  \n",
       "611  1522-3232  \n",
       "612  1522-3232  \n",
       "\n",
       "[613 rows x 5 columns]"
      ]
     },
     "execution_count": 87,
     "metadata": {},
     "output_type": "execute_result"
    }
   ],
   "source": [
    "import time\n",
    "driver = webdriver.Chrome()\n",
    "url = 'https://www.starbucks.co.kr/store/store_map.do?disp=locale'\n",
    "driver.get(url)\n",
    "time.sleep(4)\n",
    "jeju_btn = '#container > div > form > fieldset > div > section > article.find_store_cont > article > article:nth-child(4) > div.loca_step1 > div.loca_step1_cont > ul > li:nth-child(16) > a'\n",
    "driver.find_element('css selector', jeju_btn).click()\n",
    "jeju_all_btn = '#mCSB_2_container > ul > li:nth-child(1) > a'\n",
    "time.sleep(1)\n",
    "driver.find_element('css selector', jeju_all_btn).click()\n",
    "html = driver.page_source\n",
    "soup = BeautifulSoup(html, 'html.parser')\n",
    "\n",
    "jeju_data = soup.select('li.quickResultLstCon')\n",
    "jeju_list = []\n",
    "for i in range(len(jeju_data)):\n",
    "    name = jeju_data[0].select('strong')[0].text.strip()\n",
    "    addr = str(jeju_data[i].select('p')[0]).split('<br/>')[0].split('>')[1]\n",
    "    call = str(jeju_data[i].select('p')[0]).split('<br/>')[1].split('<')[0]\n",
    "    lng = jeju_data[i].attrs['data-long']\n",
    "    lat = jeju_data[i].attrs['data-lat']\n",
    "    jeju_list.append([name, lat, lng, addr, call])\n",
    "\n",
    "sb_jeju_df = pd.DataFrame(starbucks_list_all, columns=['매장명', '위도', '경도', '주소', '전화번호'])\n",
    "sb_jeju_df.to_excel('sb_jeju_df.xlsx', index=False)\n",
    "\n",
    "df = pd.read_excel('sb_jeju_df.xlsx')\n",
    "df"
   ]
  },
  {
   "cell_type": "markdown",
   "metadata": {},
   "source": [
    "# 인스타그램 스크래핑"
   ]
  },
  {
   "cell_type": "code",
   "execution_count": 11,
   "metadata": {},
   "outputs": [],
   "source": [
    "from selenium import webdriver\n",
    "from bs4 import BeautifulSoup\n",
    "import time"
   ]
  },
  {
   "cell_type": "code",
   "execution_count": null,
   "metadata": {},
   "outputs": [],
   "source": [
    "\n",
    "driver = webdriver.Chrome()\n",
    "driver.get(\"https://www.instagram.com/\") #인스타그램 접속\n",
    "time.sleep(2)\n",
    "\n",
    "input_id = '#loginForm > div > div:nth-child(1) > div > label > input'\n",
    "input_pw = '#loginForm > div > div:nth-child(2) > div > label > input'\n",
    "input_id = driver.find_element('css selector', input_id)\n",
    "input_pw = driver.find_element('css selector', input_pw)\n",
    "input_id.send_keys('ehdgus275@naver.com')\n",
    "input_pw.send_keys('zkdhtm12')\n",
    "# input_id.send_keys('ads20240319@gmail.com')\n",
    "# input_pw.send_keys('ads20240319')\n",
    "input_pw.submit() # enter 기능\n",
    "time.sleep(2)"
   ]
  },
  {
   "cell_type": "code",
   "execution_count": 41,
   "metadata": {},
   "outputs": [],
   "source": [
    "def insta_func(word):\n",
    "    url = 'https://www.instagram.com/explore/tags/'+word\n",
    "    return url"
   ]
  },
  {
   "cell_type": "code",
   "execution_count": 48,
   "metadata": {},
   "outputs": [
    {
     "data": {
      "text/plain": [
       "'(리그램) @buon_jeju굴 듬뿍 들어간 카키 온소바까지!냉 / 온 소바 부터 튀김 연어까지 다양하게 한끼 하세요^-^.......#제주도맛집 #제주벚꽃 #제주도여행코스 #제주도민맛집 #제주가볼만한곳 #제주데이트코스 #제주필수코스 #제주핫플 #제주핫플레이스 #제주유채꽃 #연동맛집 #제주여행코스 #제주먹방 #제주맛집투어 #제주맛집추천 #제주여행추천 #제주시청맛집 #제주도핫플레이스 #제주공항맛집 #제주연동맛집 #제주서쪽맛집 #제주동쪽맛집 #구좌맛집 #신제주맛집'"
      ]
     },
     "execution_count": 48,
     "metadata": {},
     "output_type": "execute_result"
    }
   ],
   "source": [
    "word = '제주도맛집'\n",
    "url = insta_func(word)\n",
    "driver.get(url)\n",
    "driver.page_source\n",
    "time.sleep(5)\n",
    "#mount_0_0_sl > div > div > div.x9f619.x1n2onr6.x1ja2u2z > div > div > div.x78zum5.xdt5ytf.x1t2pt76.x1n2onr6.x1ja2u2z.x10cihs4 > div.x9f619.xvbhtw8.x78zum5.x168nmei.x13lgxp2.x5pf9jr.xo71vjh.x1uhb9sk.x1plvlek.xryxfnj.x1c4vz4f.x2lah0s.xdt5ytf.xqjyukv.x1qjc9v5.x1oa3qoh.x1qughib > div.x1gryazu.xh8yej3.x10o80wk.x14k21rp.x17snn68.x6osk4m.x1porb0y > section > main > article > div > div > div > div:nth-child(1) > div:nth-child(1) > a > div._aagu > div._aagw\n",
    "driver.find_element('css selector', 'div._aagw').click()\n",
    "html = driver.page_source\n",
    "soup = BeautifulSoup(html, 'html.parser')\n",
    "title = soup.select('div._a9zr h1')\n",
    "title[0].text"
   ]
  },
  {
   "cell_type": "code",
   "execution_count": 53,
   "metadata": {},
   "outputs": [
    {
     "data": {
      "text/plain": [
       "'(리그램) @buon_jeju굴 듬뿍 들어간 카키 온소바까지!냉 / 온 소바 부터 튀김 연어까지 다양하게 한끼 하세요^-^.......#제주도맛집 #제주벚꽃 #제주도여행코스 #제주도민맛집 #제주가볼만한곳 #제주데이트코스 #제주필수코스 #제주핫플 #제주핫플레이스 #제주유채꽃 #연동맛집 #제주여행코스 #제주먹방 #제주맛집투어 #제주맛집추천 #제주여행추천 #제주시청맛집 #제주도핫플레이스 #제주공항맛집 #제주연동맛집 #제주서쪽맛집 #제주동쪽맛집 #구좌맛집 #신제주맛집'"
      ]
     },
     "execution_count": 53,
     "metadata": {},
     "output_type": "execute_result"
    }
   ],
   "source": [
    "html = driver.page_source\n",
    "soup = BeautifulSoup(html, 'html.parser')\n",
    "title = soup.select('div._a9zr h1')\n",
    "title[0].text\n",
    "# soup.select('br')"
   ]
  },
  {
   "cell_type": "code",
   "execution_count": 36,
   "metadata": {},
   "outputs": [],
   "source": [
    "prev_btn = driver.find_element('css selector', 'body > div.x1n2onr6.xzkaem6 > div.x9f619.x1n2onr6.x1ja2u2z > div > div.x1uvtmcs.x4k7w5x.x1h91t0o.x1beo9mf.xaigb6o.x12ejxvf.x3igimt.xarpa2k.xedcshv.x1lytzrv.x1t2pt76.x7ja8zs.x1n2onr6.x1qrby5j.x1jfb8zj > div > div > div > div > div:nth-child(1) > div > div > div._aaqf._aaqh > button')\n",
    "next_btn = driver.find_element('css selector', \"body > div.x1n2onr6.xzkaem6 > div.x9f619.x1n2onr6.x1ja2u2z > div > div.x1uvtmcs.x4k7w5x.x1h91t0o.x1beo9mf.xaigb6o.x12ejxvf.x3igimt.xarpa2k.xedcshv.x1lytzrv.x1t2pt76.x7ja8zs.x1n2onr6.x1qrby5j.x1jfb8zj > div > div > div > div > div:nth-child(1) > div > div > div._aaqg._aaqh > button\")\n",
    "# next_btn.click()\n",
    "# prev_btn.click()"
   ]
  },
  {
   "cell_type": "markdown",
   "metadata": {},
   "source": [
    "서울시 구별 스타벅스 매장을 나누어 분석\n",
    "1. 스타벅스 매장이 가장 많은 구?\n",
    "2. 스타벅스 매장이 가장 적은 구?\n",
    "3. 서울에 있는 구에는 평균 몇개의 스벅 매장?\n",
    "\n",
    "1. 인스타그램에서 울릉도맛집 검색 후 나온 결과물 스크래핑하여 텍스트만 추출하여 입력할 것\n",
    "2. 게시글 10개 스크래핑하고 게시글 추출\n",
    "3. 댓글도 스크래핑"
   ]
  },
  {
   "cell_type": "code",
   "execution_count": null,
   "metadata": {},
   "outputs": [],
   "source": [
    "# 1)driver.get(\"사이트주소\")\n",
    "# 2-1)driver.find_element('css selector', \"추출 대상 셀렉터\")\n",
    "# 2-2)driver.page_source\n",
    "# 3)BeautifulSoup()\n",
    "# 4)select, ..."
   ]
  },
  {
   "cell_type": "code",
   "execution_count": 5,
   "metadata": {},
   "outputs": [],
   "source": [
    "from selenium import webdriver\n",
    "from bs4 import BeautifulSoup\n",
    "import time\n",
    "# from selenium.webdriver.common.keys import Keys\n",
    "# .send_keys(Keys.ENTER)"
   ]
  },
  {
   "cell_type": "code",
   "execution_count": 11,
   "metadata": {},
   "outputs": [],
   "source": [
    "homepage = 'https://www.starbucks.co.kr/store/store_map.do?disp=locale'\n",
    "driver = webdriver.Chrome()\n",
    "driver.get(homepage)\n",
    "seoul_btn = '#container > div > form > fieldset > div > section > article.find_store_cont > article > article:nth-child(4) > div.loca_step1 > div.loca_step1_cont > ul > li:nth-child(1) > a'\n",
    "time.sleep(2)\n",
    "driver.find_element('css selector', seoul_btn).click() # 서울 선택"
   ]
  },
  {
   "cell_type": "code",
   "execution_count": 66,
   "metadata": {},
   "outputs": [
    {
     "name": "stdout",
     "output_type": "stream",
     "text": [
      "[['강남구'], ['강동구'], ['강북구'], ['강서구'], ['관악구'], ['광진구'], ['구로구'], ['금천구'], ['노원구'], ['도봉구'], ['동대문구'], ['동작구'], ['마포구'], ['서대문구'], ['서초구'], ['성동구'], ['성북구'], ['송파구'], ['양천구'], ['영등포구'], ['용산구'], ['은평구'], ['종로구'], ['중구'], ['중랑구']]\n",
      "91\n",
      "['강남구', 91]\n",
      "17\n",
      "['강동구', 17]\n",
      "6\n",
      "['강북구', 6]\n",
      "27\n",
      "['강서구', 27]\n",
      "12\n",
      "['관악구', 12]\n",
      "19\n",
      "['광진구', 19]\n",
      "14\n",
      "['구로구', 14]\n",
      "13\n",
      "['금천구', 13]\n",
      "14\n",
      "['노원구', 14]\n",
      "7\n",
      "['도봉구', 7]\n",
      "13\n",
      "['동대문구', 13]\n",
      "11\n",
      "['동작구', 11]\n",
      "36\n",
      "['마포구', 36]\n",
      "22\n",
      "['서대문구', 22]\n",
      "48\n",
      "['서초구', 48]\n",
      "14\n",
      "['성동구', 14]\n",
      "15\n",
      "['성북구', 15]\n",
      "36\n",
      "['송파구', 36]\n",
      "17\n",
      "['양천구', 17]\n",
      "41\n",
      "['영등포구', 41]\n",
      "24\n",
      "['용산구', 24]\n",
      "14\n",
      "['은평구', 14]\n",
      "40\n",
      "['종로구', 40]\n",
      "54\n",
      "['중구', 54]\n",
      "[['강남구', 91], ['강동구', 17], ['강북구', 6], ['강서구', 27], ['관악구', 12], ['광진구', 19], ['구로구', 14], ['금천구', 13], ['노원구', 14], ['도봉구', 7], ['동대문구', 13], ['동작구', 11], ['마포구', 36], ['서대문구', 22], ['서초구', 48], ['성동구', 14], ['성북구', 15], ['송파구', 36], ['양천구', 17], ['영등포구', 41], ['용산구', 24], ['은평구', 14], ['종로구', 40], ['중구', 54], ['중랑구']]\n"
     ]
    }
   ],
   "source": [
    "html1 = driver.page_source # 카운트용\n",
    "soup1 = BeautifulSoup(html1, 'html.parser') # 카운트용\n",
    "gu_count =  len(soup1.select('#mCSB_2_container > ul')[0]) # 구의 개수\n",
    "sb_seoul_count_list = []\n",
    "for j in range(gu_count):\n",
    "    if j != 0:\n",
    "        sb_seoul_count_list.append([soup1.select('#mCSB_2_container > ul li')[j].text])   \n",
    "\n",
    "print(sb_seoul_count_list)\n",
    "for i in range(2, gu_count+1):  # 1은 전체이므로 패스\n",
    "    if i != gu_count:\n",
    "        # 바로 아래 코드에서 어떤 경우인지 에러가 나옵니다.\n",
    "        time.sleep(1)\n",
    "        driver.find_element('css selector','#mCSB_2_container > ul > li:nth-child('+str(i)+') > a').click()\n",
    "        time.sleep(2)\n",
    "        html = driver.page_source\n",
    "        soup = BeautifulSoup(html, 'html.parser')\n",
    "        count = len(soup.select('#mCSB_3_container > ul')[0]) # 지역별 매장 개수\n",
    "        # print(count)\n",
    "        sb_seoul_count_list[i-2].append(count)\n",
    "        # print(sb_seoul_count_list[i-2])\n",
    "        time.sleep(1)\n",
    "        driver.find_element('css selector', '#container > div > form > fieldset > div > section > article.find_store_cont > article > header.loca_search > h3 > a').click() # 지역검색 버튼 클릭\n",
    "        driver.find_element('css selector', seoul_btn).click() # 서울 선택\n",
    "\n",
    "print(sb_seoul_count_list)"
   ]
  },
  {
   "cell_type": "code",
   "execution_count": 77,
   "metadata": {},
   "outputs": [
    {
     "name": "stdout",
     "output_type": "stream",
     "text": [
      "[['강남구', 91], ['강동구', 17], ['강북구', 6], ['강서구', 27], ['관악구', 12], ['광진구', 19], ['구로구', 14], ['금천구', 13], ['노원구', 14], ['도봉구', 7], ['동대문구', 13], ['동작구', 11], ['마포구', 36], ['서대문구', 22], ['서초구', 48], ['성동구', 14], ['성북구', 15], ['송파구', 36], ['양천구', 17], ['영등포구', 41], ['용산구', 24], ['은평구', 14], ['종로구', 40], ['중구', 54], ['중랑구']]\n",
      "['강남구', 91]\n",
      "['강북구', 6]\n",
      "24.2\n"
     ]
    }
   ],
   "source": [
    "sb_seoul_count_list\n",
    "print(sb_seoul_count_list)\n",
    "best_gu = ''\n",
    "worst_gu = ''\n",
    "count = 0\n",
    "for i in range(len(sb_seoul_count_list)-1):\n",
    "    if best_gu != '' and worst_gu != '':\n",
    "        if best_gu[1] < sb_seoul_count_list[i][1]:\n",
    "            best_gu = sb_seoul_count_list[i]\n",
    "        elif worst_gu[1] > sb_seoul_count_list[i][1]:\n",
    "            worst_gu = sb_seoul_count_list[i]\n",
    "    else:\n",
    "        best_gu = sb_seoul_count_list[i]\n",
    "        worst_gu = sb_seoul_count_list[i]\n",
    "    count += sb_seoul_count_list[i][1]\n",
    "print(best_gu) # 최고로 많은 구\n",
    "print(worst_gu) # 최고로 적은 구\n",
    "print(count/len(sb_seoul_count_list)) # 평균 매장 수"
   ]
  },
  {
   "cell_type": "markdown",
   "metadata": {},
   "source": [
    "1. 인스타그램에서 울릉도맛집 검색 후 나온 결과물 스크래핑하여 텍스트만 추출하여 입력할 것\n",
    "2. 게시글 10개 스크래핑하고 게시글 추출\n",
    "3. 댓글도 스크래핑"
   ]
  },
  {
   "cell_type": "code",
   "execution_count": null,
   "metadata": {},
   "outputs": [],
   "source": [
    "from selenium import webdriver\n",
    "from bs4 import BeautifulSoup\n",
    "import time"
   ]
  },
  {
   "cell_type": "code",
   "execution_count": 93,
   "metadata": {},
   "outputs": [],
   "source": [
    "driver = webdriver.Chrome()\n",
    "url = 'https://www.instagram.com/'\n",
    "driver.get(url)\n",
    "input_id = '#loginForm > div > div:nth-child(1) > div > label > input'\n",
    "input_pw = '#loginForm > div > div:nth-child(2) > div > label > input'\n",
    "input_id = driver.find_element('css selector', input_id)\n",
    "input_pw = driver.find_element('css selector', input_pw)\n",
    "input_id.send_keys('asf@naver.com')\n",
    "input_pw.send_keys('zasad2')\n",
    "input_pw.submit()\n",
    "time.sleep(3)\n",
    "url = 'https://www.instagram.com/explore/tags/울릉도맛집/'\n",
    "driver.get(url)\n",
    "time.sleep(3)"
   ]
  },
  {
   "cell_type": "code",
   "execution_count": 95,
   "metadata": {},
   "outputs": [],
   "source": [
    "driver.find_element('css selector', '#mount_0_0_xY > div > div > div.x9f619.x1n2onr6.x1ja2u2z > div > div > div.x78zum5.xdt5ytf.x1t2pt76.x1n2onr6.x1ja2u2z.x10cihs4 > div.x9f619.xvbhtw8.x78zum5.x168nmei.x13lgxp2.x5pf9jr.xo71vjh.x1uhb9sk.x1plvlek.xryxfnj.x1c4vz4f.x2lah0s.x1q0g3np.xqjyukv.x1qjc9v5.x1oa3qoh.x1qughib > div.x1gryazu.xh8yej3.x10o80wk.x14k21rp.x17snn68.x6osk4m.x1porb0y > section > main > article > div > div > div > div:nth-child(1) > div:nth-child(1) > a > div._aagu > div._aagw').click()"
   ]
  },
  {
   "cell_type": "code",
   "execution_count": 96,
   "metadata": {},
   "outputs": [
    {
     "name": "stdout",
     "output_type": "stream",
     "text": [
      "['jjungoo.world[#캄인블루프리다이빙] 제목 : 울릉도캠프 오세요~✨  캄인블루 울릉도캠프 모집 시작‼️ 캠프당 최대 인원 10명입니다 6월 캠프 6/6(목) ~ 6/10(월) 8월 캠프 8/7(수) ~ 8/11(일) 9월 캠프 9/5(목) ~ 9/9(월) ▫️참여 조건 : 프리다이빙 자격증 소유한 다이버 누구나 ▫️캠프비 : 85만원 (배값 제외하고 숙박/식비/다이빙비/보팅비 포함) ▫️참여신청 : 카톡 junsh0724 or 인스타 DM - 끝 -저희 ‘캄인블루’ 는 서울/울릉도 모두 프리다이빙 교육이 가능합니다‼️ *울릉도 센터는 5월~10월까지 운영합니다#전성호강사#캄인블루▫️ᗪIᐯEᖇ @s_dong9999 @han__ii6 ▫️ᑭᕼOTO @jjungoo.world수정됨\\xa0·\\xa01주']\n"
     ]
    }
   ],
   "source": [
    "html = driver.page_source\n",
    "soup = BeautifulSoup(html, 'html.parser')\n",
    "post_data = []\n",
    "post_data.append(soup.select('div > div._a9zr')[0].text) # 텍스트 추출\n",
    "print(post_data)"
   ]
  },
  {
   "cell_type": "code",
   "execution_count": null,
   "metadata": {},
   "outputs": [],
   "source": [
    "next_btn = 'body > div.x1n2onr6.xzkaem6 > div.x9f619.x1n2onr6.x1ja2u2z > div > div.x1uvtmcs.x4k7w5x.x1h91t0o.x1beo9mf.xaigb6o.x12ejxvf.x3igimt.xarpa2k.xedcshv.x1lytzrv.x1t2pt76.x7ja8zs.x1n2onr6.x1qrby5j.x1jfb8zj > div > div > div > div > div:nth-child(1) > div > div > div._aaqg._aaqh > button'\n",
    "for i in range(9):\n",
    "    driver.find_element('css selector', next_btn).click()\n",
    "    time.sleep(2)\n",
    "    html = driver.page_source\n",
    "    soup = BeautifulSoup(html, 'html.parser')\n",
    "    post_data.append(soup.select('div > div._a9zr')[0].text) # 텍스트 추출\n",
    "print(post_data) # 게시물 리스트"
   ]
  },
  {
   "cell_type": "code",
   "execution_count": 125,
   "metadata": {},
   "outputs": [
    {
     "name": "stdout",
     "output_type": "stream",
     "text": [
      "사진 대박이네요 우와아아😮\n",
      "@mswater_free ㅋㅋㅋ 짝궁데리고 컴온😍\n",
      "헤헷 우리당🔥 울릉도 최고 🔥 @s_dong9999\n",
      "✨\n",
      "@with_jueun @hyang_73\n"
     ]
    }
   ],
   "source": [
    "# 댓글 추출\n",
    "post_comment = 'body > div.x1n2onr6.xzkaem6 > div.x9f619.x1n2onr6.x1ja2u2z > div > div.x1uvtmcs.x4k7w5x.x1h91t0o.x1beo9mf.xaigb6o.x12ejxvf.x3igimt.xarpa2k.xedcshv.x1lytzrv.x1t2pt76.x7ja8zs.x1n2onr6.x1qrby5j.x1jfb8zj > div > div > div > div > div.xb88tzc.xw2csxc.x1odjw0f.x5fp0pe.x1qjc9v5.xjbqb8w.x1lcm9me.x1yr5g0i.xrt01vj.x10y3i5r.xr1yuqi.xkrivgy.x4ii5y1.x1gryazu.x15h9jz8.x47corl.xh8yej3.xir0mxb.x1juhsu6 > div > article > div > div.x1qjc9v5.x972fbf.xcfux6l.x1qhh985.xm0m39n.x9f619.x78zum5.xdt5ytf.x1iyjqo2.x5wqa0o.xln7xf2.xk390pu.xdj266r.x11i5rnm.xat24cr.x1mh8g0r.x65f84u.x1vq45kp.xexx8yu.x4uap5.x18d9i69.xkhd6sd.x1n2onr6.x11njtxf > div > div > div.x78zum5.xdt5ytf.x1q2y9iw.x1n2onr6.xh8yej3.x9f619.x1iyjqo2.x18l3tf1.x26u7qi.xy80clv.xexx8yu.x4uap5.x18d9i69.xkhd6sd > div.x78zum5.xdt5ytf.x1iyjqo2.xs83m0k.x2lwn1j.x1odjw0f.x1n2onr6.x9ek82g.x6ikm8r.xdj266r.x11i5rnm.x4ii5y1.x1mh8g0r.xexx8yu.x1pi30zi.x18d9i69.x1swvt13 > ul > div:nth-child(3) > div > div'\n",
    "# driver.find_element('css selector', post_comment).click()\n",
    "html = driver.page_source\n",
    "soup = BeautifulSoup(html, 'html.parser')\n",
    "for i in soup.select(post_comment+' li span._ap3a'): # 댓글들 출력\n",
    "    print(i.text)"
   ]
  }
 ],
 "metadata": {
  "kernelspec": {
   "display_name": "Python 3",
   "language": "python",
   "name": "python3"
  },
  "language_info": {
   "codemirror_mode": {
    "name": "ipython",
    "version": 3
   },
   "file_extension": ".py",
   "mimetype": "text/x-python",
   "name": "python",
   "nbconvert_exporter": "python",
   "pygments_lexer": "ipython3",
   "version": "3.10.9"
  }
 },
 "nbformat": 4,
 "nbformat_minor": 2
}
