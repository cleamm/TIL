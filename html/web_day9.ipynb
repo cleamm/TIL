{
 "cells": [
  {
   "cell_type": "code",
   "execution_count": 10,
   "metadata": {},
   "outputs": [
    {
     "name": "stdout",
     "output_type": "stream",
     "text": [
      "computer: 가위\n",
      "computer: 보\n",
      "당신이 졌습니다!\n"
     ]
    }
   ],
   "source": [
    "# 1. 사용자 입력과 random함수를 사용하여, 사용자(User)와 컴퓨터가 대결하는 가위 바위 보 게임을 만들어보자.\n",
    "# 입력: [문자열] \"가위\", \"바위\" 혹은 \"보\" 출력: [문자열] 결과 반환\n",
    "\n",
    "import random\n",
    "res = {1: '가위', 2: '바위', 3:'보'}\n",
    "\n",
    "while True:\n",
    "    computer = random.randint(1,3)\n",
    "    user = input('가위바위보 중 하나를 입력:')\n",
    "    if computer == 1: # 1 = 가위\n",
    "        if user == '바위':\n",
    "            print('computer:', res.get(computer))\n",
    "            print('당신이 이겼습니다!')\n",
    "            break\n",
    "        elif user == '보':\n",
    "            print('computer:', res.get(computer))\n",
    "            print('당신이 졌습니다!')\n",
    "            break\n",
    "        else:\n",
    "            print('computer:', res.get(computer))\n",
    "            \n",
    "    elif computer == 2: # 2 = 바위\n",
    "        if user == '가위':\n",
    "            print('computer:', res.get(computer))\n",
    "            print('당신이 졌습니다!')\n",
    "            break\n",
    "        elif user == '보':\n",
    "            print('computer:', res.get(computer))\n",
    "            print('당신이 이겼습니다!')\n",
    "            break\n",
    "        else:\n",
    "            print('computer:', res.get(computer))\n",
    "    else: #  보\n",
    "        if user == '바위':\n",
    "            print('computer:', res.get(computer))\n",
    "            print('당신이 졌습니다!')\n",
    "            break\n",
    "        elif user == '가위':\n",
    "            print('computer:', res.get(computer))\n",
    "            print('당신이 이겼습니다!')\n",
    "            break\n",
    "        else:\n",
    "            print('computer:', res.get(computer))\n"
   ]
  },
  {
   "cell_type": "code",
   "execution_count": 15,
   "metadata": {},
   "outputs": [
    {
     "name": "stdout",
     "output_type": "stream",
     "text": [
      "1366\n"
     ]
    }
   ],
   "source": [
    "# 2. 2^15 = 32768 의 각 자리수를 더하면 3 + 2 + 7 + 6 + 8 = 26 입니다. \n",
    "# 2^1000의 각 자리수를 모두 더하면 얼마입니까?\n",
    "sq = str(2**1000)\n",
    "res = 0\n",
    "for i in sq:\n",
    "    res+=int(i)\n",
    "print(res)"
   ]
  },
  {
   "cell_type": "code",
   "execution_count": 114,
   "metadata": {},
   "outputs": [
    {
     "name": "stdout",
     "output_type": "stream",
     "text": [
      "2830\n",
      "14\n",
      "0\n",
      "5b0e\n"
     ]
    }
   ],
   "source": [
    "# 3. 10진수를 n진수로 변환하는 프로그램을 작성하시오.. (단, n의 범위는 2 <= n <= 16)\n",
    "# 예)\n",
    "# 2진수로 변환 : 23310 --> 111010012\n",
    "# 8진수로 변환 : 23310 --> 3518\n",
    "# 16진수로 변환 : 23310 --> E916\n",
    "\n",
    "sixteen = {10: 'a', 11: 'b', 12: 'c', 13: 'd', 14: 'e', 15: 'f'}\n",
    "\n",
    "num, n  = 23310, 16\n",
    "\n",
    "i = 1 # 최대 자릿수\n",
    "while(True):\n",
    "    if(n ** i > num):\n",
    "        break\n",
    "    else:\n",
    "        i += 1\n",
    "\n",
    "# for j in range(i-1, -1, -1):\n",
    "#     res = num // n**j\n",
    "#     if res > 0:\n",
    "#         print('res',res)\n",
    "#         num -= n**j\n",
    "#     else:\n",
    "#         print(res)\n",
    "# 위 결과는 2진수만 적용됨\n",
    "\n",
    "num_list = []\n",
    "for j in range(i-1, -1, -1):\n",
    "    res = num // n**j \n",
    "    if res > 0:\n",
    "        num_list.append(res)\n",
    "        num -= n**j*res\n",
    "        print(num)\n",
    "    else:\n",
    "        num_list.append(res)\n",
    "\n",
    "result = ''\n",
    "for j in num_list:\n",
    "    if sixteen.get(j):\n",
    "        result += sixteen.get(j)\n",
    "    else:\n",
    "        result += str(j)\n",
    "print(int(result))\n"
   ]
  },
  {
   "cell_type": "code",
   "execution_count": 21,
   "metadata": {},
   "outputs": [
    {
     "data": {
      "text/plain": [
       "'www.naver.com'"
      ]
     },
     "execution_count": 21,
     "metadata": {},
     "output_type": "execute_result"
    }
   ],
   "source": [
    "# 4. 문자열 하나를 입력받아 인터넷 주소를 반환하는 make_url 함수를 정의하라.\n",
    "# make_url(\"naver\")\n",
    "# www.naver.com\n",
    "\n",
    "def make_url(text):\n",
    "    return 'www.'+text+'.com'\n",
    "make_url('naver')"
   ]
  },
  {
   "cell_type": "code",
   "execution_count": 28,
   "metadata": {},
   "outputs": [
    {
     "data": {
      "text/plain": [
       "['a', 'b', 'c', 'd']"
      ]
     },
     "execution_count": 28,
     "metadata": {},
     "output_type": "execute_result"
    }
   ],
   "source": [
    "# 5. 문자열을 입력받아 각 문자들로 구성된 리스트로 반환하는 make_list 함수를 정의하라.\n",
    "# make_list(\"abcd\")\n",
    "# ['a', 'b', 'c', 'd']\n",
    "\n",
    "# def make_list(text):\n",
    "#     return list(text)\n",
    "\n",
    "# or\n",
    "\n",
    "def make_list(text):\n",
    "    text_list = []\n",
    "    for i in text:\n",
    "        text_list.append(i)\n",
    "    return text_list\n",
    "make_list('abcd')"
   ]
  },
  {
   "cell_type": "code",
   "execution_count": 29,
   "metadata": {},
   "outputs": [
    {
     "data": {
      "text/plain": [
       "[4, 6, 8]"
      ]
     },
     "execution_count": 29,
     "metadata": {},
     "output_type": "execute_result"
    }
   ],
   "source": [
    "# 6. 숫자로 구성된 하나의 리스트를 입력받아, 짝수들을 추출하여 리스트로 반환하는 pickup_even 함수를 구현하라.\n",
    "\n",
    "# pickup_even([3, 4, 5, 6, 7, 8])\n",
    "# [4, 6, 8]\n",
    "\n",
    "def pickup_even(nums):\n",
    "    res = [x for x in nums if x % 2 == 0]\n",
    "    return res\n",
    "\n",
    "pickup_even([3,4,5,6,7,8])"
   ]
  },
  {
   "cell_type": "code",
   "execution_count": 31,
   "metadata": {},
   "outputs": [
    {
     "data": {
      "text/plain": [
       "1234567"
      ]
     },
     "execution_count": 31,
     "metadata": {},
     "output_type": "execute_result"
    }
   ],
   "source": [
    "# 7. 콤마가 포함된 문자열 숫자를 입력받아 정수로 변환하는 convert_int 함수를 정의하라.\n",
    "# convert_int(\"1,234,567\")\n",
    "# 1234567\n",
    "\n",
    "def convert_int(str_num):\n",
    "    nums = str_num.split(',')\n",
    "    num = ''.join(nums)\n",
    "    return int(num)\n",
    "\n",
    "convert_int('1,234,567')"
   ]
  }
 ],
 "metadata": {
  "kernelspec": {
   "display_name": "Python 3",
   "language": "python",
   "name": "python3"
  },
  "language_info": {
   "codemirror_mode": {
    "name": "ipython",
    "version": 3
   },
   "file_extension": ".py",
   "mimetype": "text/x-python",
   "name": "python",
   "nbconvert_exporter": "python",
   "pygments_lexer": "ipython3",
   "version": "3.10.9"
  }
 },
 "nbformat": 4,
 "nbformat_minor": 2
}
