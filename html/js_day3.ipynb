{
 "cells": [
  {
   "cell_type": "code",
   "execution_count": 7,
   "metadata": {},
   "outputs": [
    {
     "data": {
      "text/plain": [
       "[3]"
      ]
     },
     "execution_count": 7,
     "metadata": {},
     "output_type": "execute_result"
    }
   ],
   "source": [
    "# 1. 개의 숫자를 입력으로 받고 3개의 숫자 중에 중간값을 가지는 숫자를 출력하세요. \n",
    "# ex1) 2, 5, 3 => 3 ex2) 4, 6, 4 => 4\n",
    "\n",
    "nums = [2,5,3]\n",
    "nums.remove(max(nums))\n",
    "nums.remove(min(nums))\n",
    "nums"
   ]
  },
  {
   "cell_type": "code",
   "execution_count": 6,
   "metadata": {},
   "outputs": [
    {
     "data": {
      "text/plain": [
       "'1,000'"
      ]
     },
     "execution_count": 6,
     "metadata": {},
     "output_type": "execute_result"
    }
   ],
   "source": [
    "# 2.\n",
    "# 숫자 형태의 문자열을 콤마가 포함된 금액 표기식 문자열로 바꾸어주는 프로그램을 작성하시오.\n",
    "# ※ 단, 프로그래밍 언어에서 지원하는 금액변환 라이브러리는 사용하지 말것\n",
    "# 예)\n",
    "# 숫자\t금액\n",
    "# 1000\t1,000\n",
    "# 20000000\t20,000,000\n",
    "# -3245.24\t-3,245.24\n",
    "\n",
    "# num = '-3245.24'\n",
    "\n",
    "num = 1000\n",
    "num = str(num)\n",
    "m = False # minus\n",
    "dot = ''\n",
    "if('.' in num): # . 분리 \n",
    "    num, dot = num.split('.')\n",
    "num_str = ''\n",
    "\n",
    "if(num[0] == '-'): # 마이너스가 있으면 분리\n",
    "    m, num = True, num[1:]\n",
    "num_leng = len(num) # 길이 구함\n",
    "\n",
    "for i in num:\n",
    "    if(num_leng % 3 == 0): # 세자리마다 콤마를 찍음\n",
    "        num_str += ','+i\n",
    "    else:\n",
    "        num_str += i\n",
    "    num_leng -= 1\n",
    "if(num_str[0] == ','):\n",
    "    num_str = num_str[1:]\n",
    "if(m == True):\n",
    "    num_str = '-'+num_str\n",
    "if(dot):\n",
    "    num_str += '.'+dot\n",
    "num_str"
   ]
  }
 ],
 "metadata": {
  "kernelspec": {
   "display_name": "Python 3",
   "language": "python",
   "name": "python3"
  },
  "language_info": {
   "codemirror_mode": {
    "name": "ipython",
    "version": 3
   },
   "file_extension": ".py",
   "mimetype": "text/x-python",
   "name": "python",
   "nbconvert_exporter": "python",
   "pygments_lexer": "ipython3",
   "version": "3.10.9"
  }
 },
 "nbformat": 4,
 "nbformat_minor": 2
}
