{
 "cells": [
  {
   "cell_type": "code",
   "execution_count": 6,
   "metadata": {},
   "outputs": [
    {
     "name": "stdout",
     "output_type": "stream",
     "text": [
      "5.0\n"
     ]
    }
   ],
   "source": [
    "# 1. 직각삼각형의 밑변이 x, 높이가 y일 때 남은 변(대각선)의 길이를 구하는 함수를 만드시오.\n",
    "x = 3 # 밑변\n",
    "y = 4 # 높이\n",
    "\n",
    "print((x ** 2 + y ** 2)**(1/2))"
   ]
  },
  {
   "cell_type": "code",
   "execution_count": 92,
   "metadata": {},
   "outputs": [
    {
     "name": "stdout",
     "output_type": "stream",
     "text": [
      "['4th', '5th', '6th', '11th', '12th', '13th', '101st', '111th', '112th']\n"
     ]
    }
   ],
   "source": [
    "# 2. 기수(Cardinal)를 입력하면 영어 서수(Ordinal)로 출력하는 함수를 작성합니다.\n",
    "\n",
    "# 1, 21, 31, 41, ... → 1st, 21st, 31st, 41st, ...\n",
    "# 2, 22, 32, 42, ... → 2nd, 22nd, 32nd, 42nd, ...\n",
    "# 3, 23, 33, 43, ... → 3rd, 23rd, 33rd, 43rd, ...\n",
    "# 11, 12, 13, 111, 112, 113, 211, 212, 213, ...  → 11th, 12th, 13th, 111th, 112th, 113th, 211th, 212th, 213th, ...\n",
    "# 4, 5, 6, 11, 12, 13, 101, 111, 112, ... → 4th, 5th, 6th, 11th, 12th, 13th, 101st, 111th, 112th, ...\n",
    "\n",
    "a = [4, 5, 6, 11, 12, 13, 101, 111, 112]\n",
    "res = []\n",
    "for i in a:\n",
    "    if (i>10 and str(i)[-2] != '2' and str(i)[-2] != '3' and 20>int(str(i)[-2:])>10) or 10>i>3:\n",
    "        res.append(str(i)+'th')\n",
    "    elif str(i)[-1] == '3' :\n",
    "        res.append(str(i)+'rd')\n",
    "    elif str(i)[-1] == '2':\n",
    "        res.append(str(i)+'nd')\n",
    "    elif str(i)[-1] == '1':\n",
    "        res.append(str(i)+'st')\n",
    "print(res)"
   ]
  },
  {
   "cell_type": "code",
   "execution_count": 90,
   "metadata": {},
   "outputs": [
    {
     "name": "stdout",
     "output_type": "stream",
     "text": [
      "똘기 떵이 호치 새초미\n"
     ]
    }
   ],
   "source": [
    "# 3.아래 조건에 따라 리스트를 회전하는 프로그램을 작성하시오.\n",
    "# 조건\n",
    "# 입력값은 한 행의 문자열로 주어지며, 각 값은 공백으로 구분된다.\n",
    "# 첫 번째 값은 리스트를 회전하는 양과 방향(음수의 경우 좌측으로, 양수의 경우 우측으로 회전)이다.\n",
    "# 첫 번째 값을 제외한 나머지 값은 리스트의 각 항목의 값이다.\n",
    "# 회전된 리스트를 문자열로 출력한다.\n",
    "# 구현에 이용할 자료구조에 대한 조건이나 제약은 없다.\n",
    "# 입력되는 리스트의 항목의 개수는 유한한다.\n",
    "\n",
    "# 입출력예\n",
    "# 예 1)\n",
    "# 입력: 1 10 20 30 40 50\n",
    "# 출력: 50 10 20 30 40\n",
    "\n",
    "# 예 2)\n",
    "# 입력: 4 가 나 다 라 마 바 사\n",
    "# 출력: 라 마 바 사 가 나 다\n",
    "\n",
    "# 예 3)\n",
    "# 입력: -2 A B C D E F G\n",
    "# 출력: C D E F G A B\n",
    "\n",
    "# 예 4)\n",
    "# 입력: 0 똘기 떵이 호치 새초미\n",
    "# 출력: 똘기 떵이 호치 새초미\n",
    "\n",
    "# lst = '1 10 20 30 40 50'.split()\n",
    "# lst = '4 가 나 다 라 마 바 사'.split()\n",
    "# lst = '-2 A B C D E F G'.split()\n",
    "lst = '0 똘기 떵이 호치 새초미'.split()\n",
    "\n",
    "i, a = int(lst[0]), lst[1:]\n",
    "print(*a[-i:]+a[:-i])"
   ]
  }
 ],
 "metadata": {
  "kernelspec": {
   "display_name": "Python 3",
   "language": "python",
   "name": "python3"
  },
  "language_info": {
   "codemirror_mode": {
    "name": "ipython",
    "version": 3
   },
   "file_extension": ".py",
   "mimetype": "text/x-python",
   "name": "python",
   "nbconvert_exporter": "python",
   "pygments_lexer": "ipython3",
   "version": "3.10.9"
  }
 },
 "nbformat": 4,
 "nbformat_minor": 2
}
