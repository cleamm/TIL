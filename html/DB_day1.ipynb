{
 "cells": [
  {
   "cell_type": "code",
   "execution_count": null,
   "metadata": {},
   "outputs": [],
   "source": [
    "# 1. 친화수란 a와 b라는 서로 다른 두 자연수가 있을 때, a의 자신을 제외한 약수를 모두 더하면 b가 되고, \n",
    "# b의 자신을 제외한 약수를 모두 더하면 a가 되는 두 수의 쌍을 말한다. \n",
    "# 예로 220, 284을 들면 220의 자신을 제외한 약수는 1, 2, 4, 5, 10, 11, 20, 22, 44, 55, 110이고, 이를 모두 더하면 284이다.\n",
    "# 또한 284의 자신을 제외한 약수는 1, 2, 4, 71, 142이고, 이를 모두 더하면 220이 되므로 220과 284는 친화수이다.\n",
    "# 자연수 A를 입력받았을 때, A 이하의 친화수의 쌍의 개수를 출력하는 프로그램을 만들어라."
   ]
  },
  {
   "cell_type": "code",
   "execution_count": 8,
   "metadata": {},
   "outputs": [
    {
     "data": {
      "text/plain": [
       "float"
      ]
     },
     "execution_count": 8,
     "metadata": {},
     "output_type": "execute_result"
    }
   ],
   "source": [
    "type(220/110)"
   ]
  },
  {
   "cell_type": "code",
   "execution_count": 87,
   "metadata": {},
   "outputs": [
    {
     "name": "stdout",
     "output_type": "stream",
     "text": [
      "[1, 2, 3, 4, 5, 6, 10, 12, 15, 20, 25, 30, 50, 60, 75, 100, 150] 568\n",
      "[1, 2, 4, 71, 142] 220\n"
     ]
    }
   ],
   "source": [
    "a, b = 300, 284\n",
    "res1 = [] \n",
    "for i in range(1,a):\n",
    "    cal_res = int(a/i)\n",
    "    if(cal_res == a/i):\n",
    "        res1.append(i)\n",
    "\n",
    "res2 = []\n",
    "for i in range(1,b):\n",
    "    cal_res = int(b/i)\n",
    "    if(cal_res == b/i):\n",
    "        res2.append(i)\n",
    "print(res1, sum(res1))\n",
    "print(res2, sum(res2))"
   ]
  },
  {
   "cell_type": "code",
   "execution_count": 107,
   "metadata": {},
   "outputs": [
    {
     "name": "stdout",
     "output_type": "stream",
     "text": [
      "2개\n"
     ]
    }
   ],
   "source": [
    "a = 2000\n",
    "lst1 = []\n",
    "for j in range(a, 0, -1):\n",
    "    res1 = [] \n",
    "    for i in range(1,j):\n",
    "        cal_res = int(j/i)\n",
    "        if(cal_res == j/i):\n",
    "            res1.append(i)\n",
    "    s = sum(res1)\n",
    "    if(s <= a and j != s and s != 1):\n",
    "        lst1.append([j, s])\n",
    "lst2 = []\n",
    "for i, j in lst1:\n",
    "    res1 = [] \n",
    "    for num in range(1,j):\n",
    "        cal_res = int(j/num)\n",
    "        if(cal_res == j/num):\n",
    "            res1.append(num)\n",
    "    s = sum(res1)\n",
    "    if(s == i):\n",
    "        lst2.append([i, j])\n",
    "print(f'{int(len(lst2)/2)}개')"
   ]
  },
  {
   "cell_type": "code",
   "execution_count": 25,
   "metadata": {},
   "outputs": [
    {
     "name": "stdout",
     "output_type": "stream",
     "text": [
      "없다\n"
     ]
    }
   ],
   "source": [
    "# 2. 리스트에 있는 숫자들의 최빈값을 구하는 프로그램을 만들어라.\n",
    "# [12, 17, 19, 17, 23] = 17\n",
    "# [26, 37, 26, 37, 91] = 26, 37\n",
    "# [28, 30, 32, 34, 144] = 없다\n",
    "\n",
    "# 최빈값 : 자료의 값 중에서 가장 많이 나타난 값 \n",
    "# ① 자료의 값이 모두 같거나 모두 다르면 최빈값은 없다.\n",
    "# ② 자료의 값이 모두 다를 때, 도수가 가장 큰 값이 1개 이상 있으면 그 값은 모두 최빈값이다.\n",
    "\n",
    "\n",
    "# lst = [12,17,19,17,23]\n",
    "# lst = [26,37,26,37,91]\n",
    "lst = [28,30,32,34,144]\n",
    "set_lst = list(set(lst)) # 중복제거\n",
    "common_data = []\n",
    "best_cnt = 0\n",
    "\n",
    "for i in set_lst:\n",
    "    if(lst.count(i) > best_cnt):\n",
    "        common_data = [i]\n",
    "        best_cnt = lst.count(i)\n",
    "    elif(lst.count(i) == best_cnt):\n",
    "        common_data.append(i)\n",
    "if(best_cnt != 1 or len(set_lst) != len(lst)):\n",
    "    print(common_data)\n",
    "else:\n",
    "    print('없다')"
   ]
  }
 ],
 "metadata": {
  "kernelspec": {
   "display_name": "Python 3",
   "language": "python",
   "name": "python3"
  },
  "language_info": {
   "codemirror_mode": {
    "name": "ipython",
    "version": 3
   },
   "file_extension": ".py",
   "mimetype": "text/x-python",
   "name": "python",
   "nbconvert_exporter": "python",
   "pygments_lexer": "ipython3",
   "version": "3.10.9"
  }
 },
 "nbformat": 4,
 "nbformat_minor": 2
}
