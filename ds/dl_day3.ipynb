{
 "cells": [
  {
   "cell_type": "code",
   "execution_count": null,
   "metadata": {},
   "outputs": [],
   "source": [
    "# - 각 팀별 회의실 진행, 팀 별 킥오프 미팅, 프로젝트 주제 검색, 팀장 선출, 팀명 선정, \n",
    "# - 전체 프로젝트 일정, 마일스톤, 데이터 출처, 개발 방법(알고리즘)\n",
    "# - 기획안, 수행일지 작성\n",
    "# 기획안 기준으로 발표를 진행할 것"
   ]
  },
  {
   "cell_type": "code",
   "execution_count": null,
   "metadata": {},
   "outputs": [],
   "source": [
    "# 챗봇으로 사용자의 선호 장르, 최근 본 영화/프로그램 등을 기반으로 새로운 영화나 TV 프로그램을 추천 하는 프로그램 어떨까요??\n",
    "\n",
    "# 예: \"요즘 볼만한 영화 뭐 있어?\" \n",
    "# -> \"최근 개봉한 액션 영화 '어벤져스'를 추천드려요. 아니면 코미디 장르를 좋아하시면 'The Office' 시리즈도 재미있어요.\""
   ]
  },
  {
   "cell_type": "code",
   "execution_count": null,
   "metadata": {},
   "outputs": [],
   "source": [
    "# The Movie Database (TMDb) API:\n",
    "# TMDb API Documentation: https://www.themoviedb.org/documentation/api\n",
    "# API 키 발급: https://www.themoviedb.org/settings/api\n",
    "\n",
    "# MovieLens 데이터셋:\n",
    "# MovieLens Datasets: https://grouplens.org/datasets/movielens/\n",
    "\n",
    "# IMDb Datasets:\n",
    "# IMDb Datasets: https://www.imdb.com/interfaces/\n",
    "\n",
    "# OMDb API (Open Movie Database):\n",
    "# OMDb API Documentation: http://www.omdbapi.com/\n",
    "# API 키 발급: http://www.omdbapi.com/apikey.aspx\n",
    "\n",
    "# JustWatch API (비공식):\n",
    "# GitHub 레포지토리: https://github.com/dawoudt/JustWatchAPI\n",
    "\n",
    "# Trakt.tv API:\n",
    "# Trakt.tv API Documentation: https://trakt.docs.apiary.io/\n",
    "# API 키 발급: https://trakt.tv/oauth/applications"
   ]
  },
  {
   "cell_type": "code",
   "execution_count": null,
   "metadata": {},
   "outputs": [],
   "source": [
    "# 1. The Movie Database (TMDb) API\n",
    "# 제공 데이터:\n",
    "# 영화, TV 프로그램 정보\n",
    "# 배우, 감독 등 인물 정보\n",
    "# 장르별 영화/TV 프로그램 리스트\n",
    "# 영화/TV 프로그램에 대한 사용자 리뷰와 평점\n",
    "# 활용 아이디어:\n",
    "# 장르별 추천: 사용자가 선호하는 장르를 기반으로 최신 영화나 TV 프로그램 추천.\n",
    "# 인기 영화/프로그램 추천: 현재 인기 있는 영화나 TV 프로그램을 추천.\n",
    "# 특정 배우/감독의 작품 추천: 사용자가 좋아하는 배우나 감독의 다른 작품을 추천.\n",
    "\n",
    "# 2. MovieLens 데이터셋\n",
    "# 제공 데이터:\n",
    "# 사용자 평가 데이터 (영화 평점)\n",
    "# 영화 메타데이터 (장르, 제목 등)\n",
    "# 활용 아이디어:\n",
    "# 개인화 추천: 사용자의 평가 데이터를 기반으로 개인화된 영화 추천.\n",
    "# 비슷한 취향의 사용자 추천: 비슷한 취향을 가진 다른 사용자가 좋아한 영화를 추천.\n",
    "\n",
    "# 3. IMDb Datasets\n",
    "# 제공 데이터:\n",
    "# 영화, TV 프로그램 정보\n",
    "# 평점, 리뷰\n",
    "# 캐스트, 크루 정보\n",
    "# 활용 아이디어:\n",
    "# 평점 기반 추천: 높은 평점을 받은 영화나 TV 프로그램 추천.\n",
    "# 리뷰 기반 추천: 긍정적인 리뷰가 많은 작품 추천.\n",
    "\n",
    "# 4. OMDb API\n",
    "# 제공 데이터:\n",
    "# 영화, TV 프로그램 정보\n",
    "# 평점, 리뷰\n",
    "# 활용 아이디어:\n",
    "# 검색 기반 추천: 사용자가 입력한 키워드를 기반으로 영화나 TV 프로그램 추천.\n",
    "# 상세 정보 제공: 추천된 영화나 TV 프로그램의 상세 정보를 제공.\n",
    "\n",
    "# 5. JustWatch API (비공식)\n",
    "# 제공 데이터:\n",
    "# 스트리밍 플랫폼에서 제공하는 영화 및 TV 프로그램 정보\n",
    "# 활용 아이디어:\n",
    "# 스트리밍 플랫폼 추천: 사용자가 이용하는 스트리밍 플랫폼에서 볼 수 있는 영화나 TV 프로그램 추천.\n",
    "# 가격 비교: 동일한 영화나 TV 프로그램이 여러 플랫폼에서 제공될 경우 가격 비교 제공.\n",
    "\n",
    "# 6. Trakt.tv API\n",
    "# 제공 데이터:\n",
    "# 영화, TV 프로그램 정보\n",
    "# 사용자 시청 기록\n",
    "# 평점, 리뷰\n",
    "# 활용 아이디어:\n",
    "# 시청 기록 기반 추천: 사용자의 시청 기록을 기반으로 새로운 영화나 TV 프로그램 추천.\n",
    "# 팔로우 기반 추천: 사용자가 팔로우하는 다른 사용자가 좋아한 작품 추천.\n",
    "\n",
    "# 7. TVmaze API\n",
    "# 제공 데이터:\n",
    "# TV 프로그램 정보\n",
    "# 에피소드 정보\n",
    "# 캐스트 정보\n",
    "# 활용 아이디어:\n",
    "# TV 프로그램 추천: 사용자가 선호하는 장르나 배우를 기반으로 TV 프로그램 추천.\n",
    "# 에피소드 알림: 사용자가 좋아하는 TV 프로그램의 새 에피소드 알림 제공.\n",
    "\n",
    "# 8. YTS API (YIFY Torrents)\n",
    "# 제공 데이터:\n",
    "# 영화 정보\n",
    "# 다운로드 링크\n",
    "# 활용 아이디어:\n",
    "# 다운로드 기반 추천: 사용자가 다운로드한 영화를 기반으로 비슷한 영화 추천.\n",
    "# 품질 선택: 다양한 품질 옵션을 제공하여 사용자가 원하는 품질로 다운로드 가능.\n",
    "\n",
    "# 9. YouTube Data API\n",
    "# 제공 데이터:\n",
    "# 동영상 정보\n",
    "# 채널 정보\n",
    "# 동영상 댓글\n",
    "# 활용 아이디어:\n",
    "# 동영상 추천: 사용자가 좋아하는 주제나 채널을 기반으로 동영상 추천.\n",
    "# 채널 추천: 사용자가 구독할 만한 새로운 채널 추천.\n",
    "\n",
    "# 10. Unofficial Netflix API\n",
    "# 제공 데이터:\n",
    "# 넷플릭스 카탈로그 정보\n",
    "# 활용 아이디어:\n",
    "# 넷플릭스 추천: 넷플릭스에서 볼 수 있는 인기 영화나 TV 프로그램 추천.\n",
    "# 새로운 콘텐츠 알림: 넷플릭스에 추가된 새로운 콘텐츠 알림 제공.\n",
    "\n",
    "# 11. uNoGS (unofficial Netflix Online Global Search)\n",
    "# 제공 데이터:\n",
    "# 글로벌 넷플릭스 카탈로그 정보\n",
    "# 활용 아이디어:\n",
    "# 글로벌 콘텐츠 추천: 특정 국가에서만 제공되는 콘텐츠 추천.\n",
    "# 언어 기반 추천: 사용자가 선호하는 언어로 된 콘텐츠 추천."
   ]
  },
  {
   "cell_type": "code",
   "execution_count": null,
   "metadata": {},
   "outputs": [],
   "source": [
    "# 조 이름 생각한 것\n",
    "# - 데이터 기사단\n",
    "# - 데이터 다이나모\n",
    "# - 코드 크런처스\n",
    "# - 통계 스타\n",
    "# - 알고리즘 어벤저스\n",
    "# - 매트릭스 마법사\n",
    "# - 통찰력 혁신가\n",
    "# - 데이터 탐정단\n",
    "# - 빅데이터 탐험대\n",
    "# - 코드 탐험대\n",
    "# - 통계 스나이퍼\n",
    "# - 데이터 광부들\n",
    "# - 정보 혁명단\n",
    "# - 데이터 판타지아"
   ]
  },
  {
   "cell_type": "code",
   "execution_count": 1,
   "metadata": {},
   "outputs": [],
   "source": [
    "import torch\n",
    "import torchvision\n",
    "import torchvision.transforms as transforms\n",
    "import torch.nn as nn\n",
    "import torch.optim as optim\n",
    "import torch.nn.functional as F"
   ]
  },
  {
   "cell_type": "code",
   "execution_count": 6,
   "metadata": {},
   "outputs": [
    {
     "name": "stdout",
     "output_type": "stream",
     "text": [
      "Active code page: 65001\n"
     ]
    }
   ],
   "source": [
    "!chcp 65001"
   ]
  },
  {
   "cell_type": "code",
   "execution_count": 9,
   "metadata": {},
   "outputs": [
    {
     "name": "stdout",
     "output_type": "stream",
     "text": [
      " Volume in drive C has no label.\n",
      " Volume Serial Number is C0D5-B7CC\n",
      "\n",
      " Directory of c:\\Users\\fkfma\\Desktop\\국비교육-AI웹서비스\\TIL\\ds\\bert\n",
      "\n",
      "[.]                            [..]\n",
      "config.json                    [finetune-t5-ynat-code]\n",
      "finetune-t5-ynat-code.tar.gz   LICENSE.txt\n",
      "pytorch_model.bin              README.txt\n",
      "spiece.model                   tokenizer_config.json\n",
      "               7 File(s)    649,559,342 bytes\n",
      "               3 Dir(s)  242,289,696,768 bytes free\n"
     ]
    }
   ],
   "source": [
    "!dir/w"
   ]
  },
  {
   "cell_type": "code",
   "execution_count": 12,
   "metadata": {},
   "outputs": [
    {
     "name": "stdout",
     "output_type": "stream",
     "text": [
      "c:\\Users\\fkfma\\Desktop\\국비교육-AI웹서비스\\TIL\\ds\n"
     ]
    }
   ],
   "source": [
    "cd .."
   ]
  },
  {
   "cell_type": "code",
   "execution_count": null,
   "metadata": {},
   "outputs": [],
   "source": [
    "# 내일은 아이디어 도출 기법(디자인 씽킹)을 알려주신다고 하심\n",
    "# 개발 방법론이 있음\n",
    "# 애자일 기법으로 산출물을 만들고 지속적 업데이트를 진행함\n"
   ]
  }
 ],
 "metadata": {
  "kernelspec": {
   "display_name": "Python 3",
   "language": "python",
   "name": "python3"
  },
  "language_info": {
   "codemirror_mode": {
    "name": "ipython",
    "version": 3
   },
   "file_extension": ".py",
   "mimetype": "text/x-python",
   "name": "python",
   "nbconvert_exporter": "python",
   "pygments_lexer": "ipython3",
   "version": "3.10.9"
  }
 },
 "nbformat": 4,
 "nbformat_minor": 2
}
