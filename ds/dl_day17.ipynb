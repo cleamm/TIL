{
 "cells": [
  {
   "cell_type": "code",
   "execution_count": null,
   "metadata": {},
   "outputs": [],
   "source": [
    "# 수업 자료\n",
    "# 위키독스\n",
    "# https://wikidocs.net/109251\n",
    "\n",
    "# 블로그\n",
    "# https://jalammar.github.io/illustrated-bert/\n",
    "\n",
    "# 트랜스논문\n",
    "# https://proceedings.neurips.cc/paper_files/paper/2017/file/3f5ee243547dee91fbd053c1c4a845aa-Paper.pdf\n",
    "\n",
    "# Bert 논문\n",
    "# https://arxiv.org/pdf/1810.04805\n",
    "\n",
    "# GPT 논문\n",
    "# https://arxiv.org/pdf/2005.14165\n",
    "\n",
    "# GPT-2\n",
    "# https://jalammar.github.io/illustrated-gpt2/\n",
    "\n",
    "# 수업에 강사님께서 말씀하신 자료들이입니다"
   ]
  }
 ],
 "metadata": {
  "language_info": {
   "name": "python"
  }
 },
 "nbformat": 4,
 "nbformat_minor": 2
}
