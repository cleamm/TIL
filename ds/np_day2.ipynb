{
 "cells": [
  {
   "cell_type": "markdown",
   "metadata": {},
   "source": [
    "지금의 3개월이 앞으로의 업무를 결정할 수 있을 것임;\n",
    "근데 gpt가 3년 경력자와 비슷한 개발 실력이 있다고 함..."
   ]
  },
  {
   "cell_type": "markdown",
   "metadata": {},
   "source": [
    "LLM을 만드는 방법은 배움(직접 만들진 않음)\n",
    "만들어져 있는 모델로 파인튜닝하는 법은 배울 것\n",
    "그리고 강사님은 LLM 수업도 하고 계심(정확히는 LLM의 전문가이심)\n",
    "LLM을 이용해서 문제를 해결하는 능력을 갖춘사람을 기업에서 원함\n",
    "LLM이 비전이 있음\n",
    "그리고 LLM보다는 NLP(자연어처리)로 검색하는 것이 더 범위가 넓음"
   ]
  },
  {
   "cell_type": "markdown",
   "metadata": {},
   "source": [
    "1MB  = 100만 바이트\n",
    "1GB = 10억 바이트\n",
    "32GB = 320억 바이트\n",
    "320억/4 = 80억개 정수를 저장할 수 있음"
   ]
  },
  {
   "cell_type": "code",
   "execution_count": 4,
   "metadata": {},
   "outputs": [
    {
     "data": {
      "text/plain": [
       "dtype('int32')"
      ]
     },
     "execution_count": 4,
     "metadata": {},
     "output_type": "execute_result"
    }
   ],
   "source": [
    "import numpy as np\n",
    "# arr = np.array(list(range(10,90,10))).reshape(2,4)\n",
    "arr = np.array(list(range(1,5))) # 보통은 array를 만들지 않아도 데이터가 있으므로 잘 안사용함\n",
    "arr.dtype"
   ]
  },
  {
   "cell_type": "code",
   "execution_count": 11,
   "metadata": {},
   "outputs": [
    {
     "data": {
      "text/plain": [
       "dtype('<U6')"
      ]
     },
     "execution_count": 11,
     "metadata": {},
     "output_type": "execute_result"
    }
   ],
   "source": [
    "arr = np.array(['APPLE','BANANA','CHERRY'])\n",
    "arr.dtype # '<U6' => unicode"
   ]
  },
  {
   "cell_type": "code",
   "execution_count": 10,
   "metadata": {},
   "outputs": [
    {
     "data": {
      "text/plain": [
       "dtype('<U5')"
      ]
     },
     "execution_count": 10,
     "metadata": {},
     "output_type": "execute_result"
    }
   ],
   "source": [
    "arr = np.array(['APPLE','BANAN','CHERR'])\n",
    "arr.dtype # '<U5' => unicode+가장 큰 길이"
   ]
  },
  {
   "cell_type": "code",
   "execution_count": 29,
   "metadata": {},
   "outputs": [
    {
     "name": "stdout",
     "output_type": "stream",
     "text": [
      "int32\n",
      "float32\n",
      "int64\n",
      "int16\n",
      "int8\n"
     ]
    }
   ],
   "source": [
    "arr = np.array([1,2,3]) # 32bit\n",
    "print(arr.dtype) # 통상적인 크기 4바이트\n",
    "\n",
    "arr = np.array([1,2,3], dtype=np.float32) # 32bit\n",
    "print(arr.dtype)\n",
    "arr = np.array([1,2,3], dtype=np.int64) # 16bit\n",
    "print(arr.dtype)\n",
    "arr = np.array([1,2,3], dtype=np.int16) # 16bit\n",
    "print(arr.dtype)\n",
    "arr = np.array([1,2,3], dtype=np.int8) # 8bit\n",
    "print(arr.dtype)\n",
    "\n",
    "# arr = np.array([1,2,3], dtype=np.float128) # int, float 128bit 는 없음\n"
   ]
  },
  {
   "cell_type": "code",
   "execution_count": 40,
   "metadata": {},
   "outputs": [
    {
     "data": {
      "text/plain": [
       "array([1., 2., 3.], dtype=float32)"
      ]
     },
     "execution_count": 40,
     "metadata": {},
     "output_type": "execute_result"
    }
   ],
   "source": [
    "arr = np.array([1,2,3], dtype=np.float32) # 32bit\n",
    "arr # 실수 타입\n",
    "# 64비트 float 수의 범위 = 4.9 * 10^(-324) ~ 1.79 * 10^308승 이 범위를 벗어나는 수식을 사용할 일은 현재 없음\n",
    "# 32비트 float 수의 범위 = 1.4 * 10^(-45) ~ 3.4 * 10^38승\n",
    "\n",
    "# 32bit in 수의 범위 = -21억 ~ 21억\n",
    "# 32bit in 수의 범위 = -922경 ~ 922경\n",
    "# 만약 위의 범위를 벗어나야 하면 다른 방법을 적용해야됨"
   ]
  },
  {
   "cell_type": "code",
   "execution_count": 62,
   "metadata": {},
   "outputs": [
    {
     "data": {
      "text/plain": [
       "array([  1,   2,   3, 127], dtype=int8)"
      ]
     },
     "execution_count": 62,
     "metadata": {},
     "output_type": "execute_result"
    }
   ],
   "source": [
    "arr = np.array([1,2,3, -129], dtype=np.int8) # 8bit : -128~127\n",
    "arr.dtype\n",
    "arr # 이러면 범위를 벗어나게 되서 보수연산을 진행하게 됨(2의 보수 연산을 찾으면 됨)"
   ]
  },
  {
   "cell_type": "code",
   "execution_count": 54,
   "metadata": {},
   "outputs": [
    {
     "data": {
      "text/plain": [
       "array([1, 2, 3], dtype=int8)"
      ]
     },
     "execution_count": 54,
     "metadata": {},
     "output_type": "execute_result"
    }
   ],
   "source": [
    "arr = np.array([1,2,3], dtype='i1') # i바이트수\n",
    "arr.dtype"
   ]
  },
  {
   "cell_type": "code",
   "execution_count": 52,
   "metadata": {},
   "outputs": [
    {
     "data": {
      "text/plain": [
       "dtype('int32')"
      ]
     },
     "execution_count": 52,
     "metadata": {},
     "output_type": "execute_result"
    }
   ],
   "source": [
    "arr = np.array([1,2,3]) # 32bit\n",
    "arr.dtype # mac os는 64, windows는 32비트로 출력됨"
   ]
  },
  {
   "cell_type": "code",
   "execution_count": 53,
   "metadata": {},
   "outputs": [
    {
     "data": {
      "text/plain": [
       "array([1., 2., 3.], dtype=float32)"
      ]
     },
     "execution_count": 53,
     "metadata": {},
     "output_type": "execute_result"
    }
   ],
   "source": [
    "farr = arr.astype(np.float32) # 타입 변경\n",
    "farr"
   ]
  },
  {
   "cell_type": "code",
   "execution_count": 72,
   "metadata": {},
   "outputs": [
    {
     "data": {
      "text/plain": [
       "array(['1', '2', '3'], dtype='<U11')"
      ]
     },
     "execution_count": 72,
     "metadata": {},
     "output_type": "execute_result"
    }
   ],
   "source": [
    "# 파이썬에서는\n",
    "myList = [1,2,'3']\n",
    "myList\n",
    "# 넘파이에서는\n",
    "my_list = np.array([1,2,'3'])\n",
    "my_list # 문자열로 변환되어 저장"
   ]
  },
  {
   "cell_type": "code",
   "execution_count": 89,
   "metadata": {},
   "outputs": [],
   "source": [
    "arr1 = np.array(list(range(10,14))).reshape(2,2)\n",
    "arr2 = np.array(list(range(10,14))).reshape(2,2)\n",
    "arr3 = np.array(list(range(10,12)))"
   ]
  },
  {
   "cell_type": "code",
   "execution_count": 96,
   "metadata": {},
   "outputs": [
    {
     "name": "stdout",
     "output_type": "stream",
     "text": [
      "[[0 0]\n",
      " [0 0]]\n",
      "[[20 22]\n",
      " [24 26]]\n",
      "[[0 0]\n",
      " [2 2]]\n",
      "[[100 121]\n",
      " [144 169]]\n"
     ]
    }
   ],
   "source": [
    "print(arr1 - arr2) # 넘파이 배열은 요소간 연산 => 동일한 크기의 배열\n",
    "print(arr1 * 2)\n",
    "print(arr1 - arr3) # 개수가 안맞으면 해당하는 행과 열에 대해서만 계산\n",
    "print(arr1 * arr2) # 주의 : 행렬의 곱셈(matrix multiply => arr1 * 2)이 아님, 요소간 곱셈(element-wise product)이 됨\n",
    "# 요소간 곱셈으로 arr1 .(dot) arr2 이렇게 계산함\n"
   ]
  },
  {
   "cell_type": "code",
   "execution_count": 94,
   "metadata": {},
   "outputs": [
    {
     "name": "stdout",
     "output_type": "stream",
     "text": [
      "[[100 121]\n",
      " [144 169]]\n"
     ]
    }
   ],
   "source": [
    "# 2x1 . 1x3 = 2x3 (True)\n",
    "# 3x2 . 2x2 = 3x2 (True)"
   ]
  },
  {
   "cell_type": "code",
   "execution_count": 98,
   "metadata": {},
   "outputs": [],
   "source": [
    "arr1 = np.array(list(range(10,14))).reshape(2,2)\n",
    "arr2 = np.array(list(range(13,17))).reshape(2,2)"
   ]
  },
  {
   "cell_type": "code",
   "execution_count": 105,
   "metadata": {},
   "outputs": [
    {
     "data": {
      "text/plain": [
       "array([[ True,  True],\n",
       "       [ True,  True]])"
      ]
     },
     "execution_count": 105,
     "metadata": {},
     "output_type": "execute_result"
    }
   ],
   "source": [
    "arr1 > arr2\n",
    "arr1 > 10 # 요소간 비교\n",
    "~(arr1 == arr2) # ~는 not 연산자\n",
    "arr1 != arr2 # != 같지 않다"
   ]
  },
  {
   "cell_type": "code",
   "execution_count": 107,
   "metadata": {},
   "outputs": [
    {
     "data": {
      "text/plain": [
       "array([[ True,  True],\n",
       "       [ True,  True]])"
      ]
     },
     "execution_count": 107,
     "metadata": {},
     "output_type": "execute_result"
    }
   ],
   "source": [
    "(~(arr1 == arr2) | (~(arr1!= arr2)))\n",
    "#  행렬         OR      행렬   => 요소간 OR 연산"
   ]
  },
  {
   "cell_type": "code",
   "execution_count": 111,
   "metadata": {},
   "outputs": [
    {
     "data": {
      "text/plain": [
       "array([[[0, 1],\n",
       "        [2, 3]],\n",
       "\n",
       "       [[4, 5],\n",
       "        [6, 7]]])"
      ]
     },
     "execution_count": 111,
     "metadata": {},
     "output_type": "execute_result"
    }
   ],
   "source": [
    "np.arange(10) # np.array(list(range(10)))\n",
    "np.arange(8).reshape(4,2)\n",
    "np.arange(8).reshape(2,2,2)"
   ]
  },
  {
   "cell_type": "code",
   "execution_count": 114,
   "metadata": {},
   "outputs": [
    {
     "data": {
      "text/plain": [
       "array([[[ 1,  2,  3,  4],\n",
       "        [ 5,  6,  7,  8],\n",
       "        [ 9, 10, 11, 12]],\n",
       "\n",
       "       [[13, 14, 15, 16],\n",
       "        [17, 18, 19, 20],\n",
       "        [21, 22, 23, 24]]])"
      ]
     },
     "execution_count": 114,
     "metadata": {},
     "output_type": "execute_result"
    }
   ],
   "source": [
    "# 1~24까지의 값, 2*3*4 행렬 생성해보기\n",
    "np.arange(1,25).reshape(2,3,4)\n",
    "np.array(range(1,25)).reshape(2,3,4)"
   ]
  },
  {
   "cell_type": "code",
   "execution_count": 128,
   "metadata": {},
   "outputs": [
    {
     "name": "stdout",
     "output_type": "stream",
     "text": [
      "(200,)\n",
      "(4, 50)\n",
      "(25, 8)\n"
     ]
    },
    {
     "data": {
      "text/plain": [
       "array([[[  0,   1,   2,   3,   4,   5,   6,   7,   8,   9],\n",
       "        [ 10,  11,  12,  13,  14,  15,  16,  17,  18,  19],\n",
       "        [ 20,  21,  22,  23,  24,  25,  26,  27,  28,  29],\n",
       "        [ 30,  31,  32,  33,  34,  35,  36,  37,  38,  39],\n",
       "        [ 40,  41,  42,  43,  44,  45,  46,  47,  48,  49]],\n",
       "\n",
       "       [[ 50,  51,  52,  53,  54,  55,  56,  57,  58,  59],\n",
       "        [ 60,  61,  62,  63,  64,  65,  66,  67,  68,  69],\n",
       "        [ 70,  71,  72,  73,  74,  75,  76,  77,  78,  79],\n",
       "        [ 80,  81,  82,  83,  84,  85,  86,  87,  88,  89],\n",
       "        [ 90,  91,  92,  93,  94,  95,  96,  97,  98,  99]],\n",
       "\n",
       "       [[100, 101, 102, 103, 104, 105, 106, 107, 108, 109],\n",
       "        [110, 111, 112, 113, 114, 115, 116, 117, 118, 119],\n",
       "        [120, 121, 122, 123, 124, 125, 126, 127, 128, 129],\n",
       "        [130, 131, 132, 133, 134, 135, 136, 137, 138, 139],\n",
       "        [140, 141, 142, 143, 144, 145, 146, 147, 148, 149]],\n",
       "\n",
       "       [[150, 151, 152, 153, 154, 155, 156, 157, 158, 159],\n",
       "        [160, 161, 162, 163, 164, 165, 166, 167, 168, 169],\n",
       "        [170, 171, 172, 173, 174, 175, 176, 177, 178, 179],\n",
       "        [180, 181, 182, 183, 184, 185, 186, 187, 188, 189],\n",
       "        [190, 191, 192, 193, 194, 195, 196, 197, 198, 199]]])"
      ]
     },
     "execution_count": 128,
     "metadata": {},
     "output_type": "execute_result"
    }
   ],
   "source": [
    "data = np.arange(200)\n",
    "print(data.shape)\n",
    "\n",
    "data2 = data.reshape(4,-1) # -1은 알아서 만들라는 의미\n",
    "print(data2.shape)\n",
    "# data2\n",
    "\n",
    "data3 = data.reshape(-1, 8) # 행이든 열이든 한쪽은 -1로 입력할 수 있음\n",
    "print(data3.shape)\n",
    "\n",
    "data.reshape(-1,5, 10) # 4,5,10\n",
    "data.reshape(4,-1, 10)"
   ]
  },
  {
   "cell_type": "code",
   "execution_count": 132,
   "metadata": {},
   "outputs": [
    {
     "data": {
      "text/plain": [
       "array([[10, 12, 14, 16],\n",
       "       [18, 20, 22, 24],\n",
       "       [26, 28, 30, 32]])"
      ]
     },
     "execution_count": 132,
     "metadata": {},
     "output_type": "execute_result"
    }
   ],
   "source": [
    "# data3 = data.reshape(6,-1) 이와 같은 경우 에러가 출력됨 = 200의 약수에 6이 포함되지 않기 때문임\n",
    "# 10부터 시작하여 2스텝으로 증가, 3행 4열\n",
    "np.arange(10, 34, 2).reshape(3,-1)"
   ]
  },
  {
   "cell_type": "code",
   "execution_count": 137,
   "metadata": {},
   "outputs": [
    {
     "data": {
      "text/plain": [
       "array([1, 4])"
      ]
     },
     "execution_count": 137,
     "metadata": {},
     "output_type": "execute_result"
    }
   ],
   "source": [
    "# boolean 참조(팬시참조) 자주 쓰임\n",
    "arr = np.array([1,2,3,4])\n",
    "idx = np.array([True, False, False, True])\n",
    "arr[idx] # true에 해당하는 index값만 남겨서 출력. 단 길이가 같아야 가능함\n",
    "# 위와 같은 것이 boolean참조"
   ]
  },
  {
   "cell_type": "code",
   "execution_count": 150,
   "metadata": {},
   "outputs": [
    {
     "data": {
      "text/plain": [
       "4"
      ]
     },
     "execution_count": 150,
     "metadata": {},
     "output_type": "execute_result"
    }
   ],
   "source": [
    "np.min(arr)\n",
    "np.max(arr)"
   ]
  },
  {
   "cell_type": "code",
   "execution_count": 148,
   "metadata": {},
   "outputs": [
    {
     "data": {
      "text/plain": [
       "array([ True, False, False,  True])"
      ]
     },
     "execution_count": 148,
     "metadata": {},
     "output_type": "execute_result"
    }
   ],
   "source": [
    "(arr == np.min(arr)) | (arr == np.max(arr))"
   ]
  },
  {
   "cell_type": "code",
   "execution_count": 151,
   "metadata": {},
   "outputs": [
    {
     "data": {
      "text/plain": [
       "array([1, 4])"
      ]
     },
     "execution_count": 151,
     "metadata": {},
     "output_type": "execute_result"
    }
   ],
   "source": [
    "arr[(arr == np.min(arr)) | (arr == np.max(arr))] # 이런 사용법이 흔함"
   ]
  },
  {
   "cell_type": "code",
   "execution_count": 144,
   "metadata": {},
   "outputs": [
    {
     "data": {
      "text/plain": [
       "array([1])"
      ]
     },
     "execution_count": 144,
     "metadata": {},
     "output_type": "execute_result"
    }
   ],
   "source": [
    "lst = [1,2,3,4]\n",
    "for i in lst:\n",
    "    if(i == 1):\n",
    "        print(i)\n",
    "# 위의 코드가 아래로 쉽게 작성 가능함\n",
    "arr[arr == 1] # true에 해당하는 값만 출력할 수 있음\n",
    "# res = arr > 2\n",
    "# arr[res]"
   ]
  },
  {
   "cell_type": "code",
   "execution_count": 181,
   "metadata": {},
   "outputs": [],
   "source": [
    "# 11부터 20까지의 수가 저장된 배열 arr을 생성하시오\n",
    "arr = np.arange(11,21)\n",
    "# arr[arr % 2 == 0]"
   ]
  },
  {
   "cell_type": "code",
   "execution_count": 176,
   "metadata": {},
   "outputs": [
    {
     "data": {
      "text/plain": [
       "array([12, 14])"
      ]
     },
     "execution_count": 176,
     "metadata": {},
     "output_type": "execute_result"
    }
   ],
   "source": [
    "# 12, 14를 추출하고 싶을 때\n",
    "# arr[1, 3] # 이렇게 하면 error!\n",
    "arr[np.array([1,3])]\n",
    "arr[np.array([1,3,5,7,9])]\n",
    "# 또는\n",
    "arr[[1,3]]\n",
    "# 속도면에서는 np.array()로 입력하는 것이 대규모일 때 훨씬 빠를 것임"
   ]
  },
  {
   "cell_type": "code",
   "execution_count": 179,
   "metadata": {},
   "outputs": [
    {
     "data": {
      "text/plain": [
       "array([11, 11, 11, 12, 12, 12, 14, 14, 14])"
      ]
     },
     "execution_count": 179,
     "metadata": {},
     "output_type": "execute_result"
    }
   ],
   "source": [
    "# arr = array([11, 12, 13, 14, 15, 16, 17, 18, 19, 20])\n",
    "idx = np.array([0,0,0,1,1,1,3,3,3])\n",
    "arr[idx]"
   ]
  },
  {
   "cell_type": "code",
   "execution_count": 204,
   "metadata": {},
   "outputs": [
    {
     "data": {
      "text/plain": [
       "array([[10, 12, 14],\n",
       "       [16, 18, 20],\n",
       "       [22, 24, 26],\n",
       "       [28, 30, 32],\n",
       "       [34, 36, 38]])"
      ]
     },
     "execution_count": 204,
     "metadata": {},
     "output_type": "execute_result"
    }
   ],
   "source": [
    "arr = np.arange(10,40).reshape(5,-1)\n",
    "arr[:] # 전체 행 추출\n",
    "arr[:, :] # 전체 행에 대해 전체 열 추출\n",
    "arr[:,[True,True,True,False,False,False]]"
   ]
  },
  {
   "cell_type": "code",
   "execution_count": 197,
   "metadata": {},
   "outputs": [
    {
     "data": {
      "text/plain": [
       "array([[10, 10, 10, 11, 11, 11, 13, 13, 13],\n",
       "       [16, 16, 16, 17, 17, 17, 19, 19, 19],\n",
       "       [22, 22, 22, 23, 23, 23, 25, 25, 25],\n",
       "       [28, 28, 28, 29, 29, 29, 31, 31, 31],\n",
       "       [34, 34, 34, 35, 35, 35, 37, 37, 37]])"
      ]
     },
     "execution_count": 197,
     "metadata": {},
     "output_type": "execute_result"
    }
   ],
   "source": [
    "arr[:,idx]"
   ]
  },
  {
   "cell_type": "code",
   "execution_count": 211,
   "metadata": {},
   "outputs": [
    {
     "data": {
      "text/plain": [
       "array([[10, 12, 14],\n",
       "       [16, 18, 20],\n",
       "       [22, 24, 26],\n",
       "       [28, 30, 32],\n",
       "       [34, 36, 38]])"
      ]
     },
     "execution_count": 211,
     "metadata": {},
     "output_type": "execute_result"
    }
   ],
   "source": [
    "# arr에서 1(10~), 3(12~), 5(14~) 번째 열을 출력\n",
    "arr[:,[0,2,4]] # 가장 많이 쓰이는 문법\n",
    "arr[:,[True, False, True, False, True, False]]\n",
    "arr[:, np.arange(0,5,2)]\n",
    "arr[:, np.array([0,2,4])]\n",
    "# 위는 전부 동일한 결과를 보임"
   ]
  },
  {
   "cell_type": "code",
   "execution_count": 213,
   "metadata": {},
   "outputs": [
    {
     "data": {
      "text/plain": [
       "array([[14, 11, 13, 10],\n",
       "       [20, 17, 19, 16],\n",
       "       [26, 23, 25, 22],\n",
       "       [32, 29, 31, 28],\n",
       "       [38, 35, 37, 34]])"
      ]
     },
     "execution_count": 213,
     "metadata": {},
     "output_type": "execute_result"
    }
   ],
   "source": [
    "arr[:,[4,1,3,0]] # 순서를 바꿔서 얻을 수도 있음"
   ]
  },
  {
   "cell_type": "code",
   "execution_count": 215,
   "metadata": {},
   "outputs": [
    {
     "data": {
      "text/plain": [
       "array([[10, 11, 12, 13, 14, 15],\n",
       "       [16, 17, 18, 19, 20, 21],\n",
       "       [22, 23, 24, 25, 26, 27],\n",
       "       [28, 29, 30, 31, 32, 33],\n",
       "       [34, 35, 36, 37, 38, 39]])"
      ]
     },
     "execution_count": 215,
     "metadata": {},
     "output_type": "execute_result"
    }
   ],
   "source": [
    "arr"
   ]
  },
  {
   "cell_type": "code",
   "execution_count": 217,
   "metadata": {},
   "outputs": [
    {
     "data": {
      "text/plain": [
       "array([[22, 23, 24, 25, 26, 27],\n",
       "       [16, 17, 18, 19, 20, 21],\n",
       "       [28, 29, 30, 31, 32, 33]])"
      ]
     },
     "execution_count": 217,
     "metadata": {},
     "output_type": "execute_result"
    }
   ],
   "source": [
    "# arr 에서 3번째 2번째 4번째 행 순서로 데이터 추출하기\n",
    "arr[[2,1,3]]"
   ]
  },
  {
   "cell_type": "code",
   "execution_count": 361,
   "metadata": {},
   "outputs": [
    {
     "name": "stderr",
     "output_type": "stream",
     "text": [
      "C:\\Users\\fkfma\\AppData\\Local\\Temp\\ipykernel_15408\\1325775961.py:2: RuntimeWarning: divide by zero encountered in divide\n",
      "  np.array([1]) / np.array([0]) #\n",
      "C:\\Users\\fkfma\\AppData\\Local\\Temp\\ipykernel_15408\\1325775961.py:3: RuntimeWarning: divide by zero encountered in log\n",
      "  np.log(0)\n",
      "C:\\Users\\fkfma\\AppData\\Local\\Temp\\ipykernel_15408\\1325775961.py:6: RuntimeWarning: invalid value encountered in divide\n",
      "  np.array([0]) / np.array([0]) #\n"
     ]
    },
    {
     "data": {
      "text/plain": [
       "array([nan])"
      ]
     },
     "execution_count": 361,
     "metadata": {},
     "output_type": "execute_result"
    }
   ],
   "source": [
    "# 무한대(infinity) : np.inf\n",
    "np.array([1]) / np.array([0]) # \n",
    "np.log(0)\n",
    "# 즉 과정이 잘못됐을 때 나오기 쉬움\n",
    "# 숫자가아님(not a number): np.nan\n",
    "np.array([0]) / np.array([0]) # 0/0\n"
   ]
  },
  {
   "cell_type": "code",
   "execution_count": 379,
   "metadata": {},
   "outputs": [
    {
     "data": {
      "text/plain": [
       "array([[2., 2.],\n",
       "       [2., 2.],\n",
       "       [2., 2.]])"
      ]
     },
     "execution_count": 379,
     "metadata": {},
     "output_type": "execute_result"
    }
   ],
   "source": [
    "np.zeros(3) # 0으로 채워진 배열 생성\n",
    "np.ones((3,2)) # 1로 채워진 3x2배열 생성\n",
    "np.zeros((3,2), dtype='i') # i = int32, i1 = int8\n",
    "arr = np.ones((3,2))*2 # 곱하여 생성하는 것이 가능하므로 np.zeros와 np.ones만 있음\n",
    "arr # ???근데 *0 을 적용하면 똑같이 0이 되지 않나? => 0이 많이 쓰이기 때문에 따로 만든 거라고 보긴 함"
   ]
  },
  {
   "cell_type": "code",
   "execution_count": 383,
   "metadata": {},
   "outputs": [
    {
     "data": {
      "text/plain": [
       "array([[1., 1.],\n",
       "       [1., 1.],\n",
       "       [1., 1.]])"
      ]
     },
     "execution_count": 383,
     "metadata": {},
     "output_type": "execute_result"
    }
   ],
   "source": [
    "# np.ones_like가 np.ones나 np.zeros보다 더 잘 쓰임. 구조를 복사하기 때문\n",
    "# arr\n",
    "# array([[2., 2.],\n",
    "#        [2., 2.],\n",
    "#        [2., 2.]])\n",
    "np.ones_like(arr) # 아래가 결과\n",
    "# array([[1., 1.],\n",
    "#        [1., 1.],\n",
    "#        [1., 1.]])\n"
   ]
  },
  {
   "cell_type": "code",
   "execution_count": 385,
   "metadata": {},
   "outputs": [
    {
     "data": {
      "text/plain": [
       "array([[ 2,  4,  6],\n",
       "       [ 8, 10, 12],\n",
       "       [14, 16, 18],\n",
       "       [20, 22, 24],\n",
       "       [26, 28, 30]])"
      ]
     },
     "execution_count": 385,
     "metadata": {},
     "output_type": "execute_result"
    }
   ],
   "source": [
    "np.arange(2,31,2).reshape(-1, 3)"
   ]
  },
  {
   "cell_type": "code",
   "execution_count": 389,
   "metadata": {},
   "outputs": [
    {
     "data": {
      "text/plain": [
       "array([ 0. ,  2.5,  5. ,  7.5, 10. ])"
      ]
     },
     "execution_count": 389,
     "metadata": {},
     "output_type": "execute_result"
    }
   ],
   "source": [
    "# np.linspace(시작할 숫자, 마치막 숫자, 총 데이터 개수)\n",
    "np.linspace(0,10,5) # 선형회귀인가?"
   ]
  },
  {
   "cell_type": "code",
   "execution_count": 395,
   "metadata": {},
   "outputs": [
    {
     "data": {
      "text/plain": [
       "array([[1, 4],\n",
       "       [2, 5],\n",
       "       [3, 6]])"
      ]
     },
     "execution_count": 395,
     "metadata": {},
     "output_type": "execute_result"
    }
   ],
   "source": [
    "arr = np.arange(1,7).reshape(2,3)\n",
    "arr.transpose() # 행과 열을 변경 => 2행3열 - 3행2열\n",
    "# arr.transpose().transpose() # 원상복구\n",
    "arr.T # transpose()와 동일함"
   ]
  },
  {
   "cell_type": "code",
   "execution_count": 404,
   "metadata": {},
   "outputs": [
    {
     "name": "stdout",
     "output_type": "stream",
     "text": [
      "[[26000]\n",
      " [36000]\n",
      " [11000]]\n",
      "[[26000]\n",
      " [36000]\n",
      " [11000]]\n"
     ]
    }
   ],
   "source": [
    "# 사과, 배, 딸기\n",
    "data = np.array([[1,5,0],\n",
    "                [5,3,2],\n",
    "                [1,2,0]])\n",
    "price = np.array([[1000], [5000], [8000]])\n",
    "data.shape # 3행 3열\n",
    "price.shape # 3행 1열\n",
    "# data배열과 price배열간에 행렬의 곱셈 연산이 가능한가? => 가능함\n",
    "print(data.dot(price)) # 벡터의 내적\n",
    "print(data@price) # 행렬 연산의 경우 dot == @\n",
    "# CNN할 때 많이 보게 될 것.."
   ]
  },
  {
   "cell_type": "code",
   "execution_count": 419,
   "metadata": {},
   "outputs": [
    {
     "name": "stdout",
     "output_type": "stream",
     "text": [
      "[10 99 12 13 14]\n",
      "[10 99 12 13 14]\n"
     ]
    }
   ],
   "source": [
    "# soft copy\n",
    "arr = np.arange(10,15) # array([10, 11, 12, 13, 14])\n",
    "arr2 = arr # 데이터 공유('뷰'라고도 함)\n",
    "arr2[1] = 99\n",
    "print(arr2)\n",
    "print(arr)"
   ]
  },
  {
   "cell_type": "code",
   "execution_count": 418,
   "metadata": {},
   "outputs": [
    {
     "name": "stdout",
     "output_type": "stream",
     "text": [
      "[10 99 12 13 14]\n",
      "[10 11 12 13 14]\n"
     ]
    }
   ],
   "source": [
    "# deepcopy\n",
    "arr = np.arange(10,15) # array([10, 11, 12, 13, 14])\n",
    "arr3 = arr.copy() # 데이터를 복사 array([10, 11, 12, 13, 14])\n",
    "arr3[1] = 99\n",
    "print(arr3)\n",
    "print(arr)"
   ]
  },
  {
   "cell_type": "code",
   "execution_count": 357,
   "metadata": {},
   "outputs": [
    {
     "data": {
      "text/plain": [
       "1"
      ]
     },
     "execution_count": 357,
     "metadata": {},
     "output_type": "execute_result"
    }
   ],
   "source": [
    "# 뜬금없는데 np에 랜덤도 있음;;"
   ]
  },
  {
   "cell_type": "code",
   "execution_count": null,
   "metadata": {},
   "outputs": [],
   "source": []
  },
  {
   "cell_type": "code",
   "execution_count": null,
   "metadata": {},
   "outputs": [],
   "source": [
    "# 연습문제\n"
   ]
  },
  {
   "cell_type": "code",
   "execution_count": 2,
   "metadata": {},
   "outputs": [
    {
     "data": {
      "text/plain": [
       "array([ 0,  2,  4,  6,  8, 10, 12, 14, 16, 18, 20, 22, 24, 26, 28])"
      ]
     },
     "execution_count": 2,
     "metadata": {},
     "output_type": "execute_result"
    }
   ],
   "source": [
    "# 1. 1차원 numpy 배열을 만들어 결과와 같이 출력하기\n",
    "# [ 0, 2, 4, 6, 8, 10, 12, 14, 16, 18, 20, 22, 24, 26, 28]\n",
    "\n",
    "import numpy as np\n",
    "np.arange(0,30,2)"
   ]
  },
  {
   "cell_type": "code",
   "execution_count": 424,
   "metadata": {},
   "outputs": [
    {
     "data": {
      "text/plain": [
       "array([[10, 20, 30, 40],\n",
       "       [50, 60, 70, 80]])"
      ]
     },
     "execution_count": 424,
     "metadata": {},
     "output_type": "execute_result"
    }
   ],
   "source": [
    "# 2. 2차원 numpy 배열을 만들어 결과와 같이 출력하기\n",
    "# [[10, 20, 30, 40],\n",
    "# 50, 60, 70, 80]]\n",
    "\n",
    "np.arange(10,90,10).reshape(2,4)"
   ]
  },
  {
   "cell_type": "code",
   "execution_count": 475,
   "metadata": {},
   "outputs": [
    {
     "data": {
      "text/plain": [
       "array([[[ 1,  2,  3],\n",
       "        [ 4,  5,  6]],\n",
       "\n",
       "       [[ 7,  8,  9],\n",
       "        [10, 11, 12]],\n",
       "\n",
       "       [[13, 14, 15],\n",
       "        [16, 17, 18]],\n",
       "\n",
       "       [[19, 20, 21],\n",
       "        [22, 23, 24]]])"
      ]
     },
     "execution_count": 475,
     "metadata": {},
     "output_type": "execute_result"
    }
   ],
   "source": [
    "# 3. 3차원 numpy 배열을 만들어 결과와 같이 출력하기\n",
    "# [[[ 1, 2, 3],\n",
    "# [ 4, 5, 6]],\n",
    "# [[ 7, 8, 9],\n",
    "# [10, 11, 12]],\n",
    "# [[13, 14, 15],\n",
    "# [16, 17, 18]],\n",
    "# [[19, 20, 21],\n",
    "# [22, 23, 24]]]\n",
    "\n",
    "np.arange(1,25).reshape(-1,2,3)"
   ]
  },
  {
   "cell_type": "code",
   "execution_count": 429,
   "metadata": {},
   "outputs": [
    {
     "name": "stdout",
     "output_type": "stream",
     "text": [
      "24\n",
      "6\n"
     ]
    }
   ],
   "source": [
    "# 4. 아래와 같은 행렬을 이용하여 조건에 맞는 코드 작성\n",
    "# vector = np.array(range(0, 30, 2))\n",
    "\n",
    "# 값 24 인덱싱\n",
    "#  값 6 인덱싱\n",
    "\n",
    "vector = np.array(range(0, 30, 2))\n",
    "print(vector[-3])\n",
    "print(vector[3])"
   ]
  },
  {
   "cell_type": "code",
   "execution_count": 436,
   "metadata": {},
   "outputs": [
    {
     "name": "stdout",
     "output_type": "stream",
     "text": [
      "8\n",
      "2\n",
      "9\n",
      "15\n"
     ]
    }
   ],
   "source": [
    "# 5. 아래와 같은 행렬을 이용하여 조건에 맞는 코드 작성\n",
    "# matrix = np.array([\n",
    "# [1, 2, 3, 4],\n",
    "# [5, 6, 7, 8],\n",
    "# [9, 10, 11, 12],\n",
    "# [13, 14, 15, 16]\n",
    "# ])\n",
    "\n",
    "# - 값 8 인덱싱\n",
    "# - 값 2 인덱싱\n",
    "# - 값 9 인덱싱\n",
    "# - 값 15 인덱싱\n",
    "\n",
    "matrix = np.array([\n",
    "[1, 2, 3, 4],\n",
    "[5, 6, 7, 8],\n",
    "[9, 10, 11, 12],\n",
    "[13, 14, 15, 16]\n",
    "])\n",
    "print(*matrix[matrix == 8])\n",
    "print(matrix[0,1])\n",
    "print(matrix[2][0])\n",
    "print(matrix[-1,-2])"
   ]
  },
  {
   "cell_type": "code",
   "execution_count": 437,
   "metadata": {},
   "outputs": [
    {
     "data": {
      "text/plain": [
       "array([-1, -2, -3, -4, -5])"
      ]
     },
     "execution_count": 437,
     "metadata": {},
     "output_type": "execute_result"
    }
   ],
   "source": [
    "# 6. 아래와 같은 행렬을 작성해보세요\n",
    "# [-1, -2, -3, -4, -5]\n",
    "np.array([-1, -2, -3, -4, -5])"
   ]
  },
  {
   "cell_type": "code",
   "execution_count": 9,
   "metadata": {},
   "outputs": [
    {
     "name": "stdout",
     "output_type": "stream",
     "text": [
      "[ 3  6  9 12 15 18]\n",
      "[ 1  5  9 13 17]\n",
      "[9]\n",
      "[9]\n"
     ]
    }
   ],
   "source": [
    "# 7.\n",
    "# 다음 행렬과 같은 배열이 있다.\n",
    "\n",
    "# x = np.array([1, 2, 3, 4, 5, 6, 7, 8, 9, 10,\n",
    "#              11, 12, 13, 14, 15, 16, 17, 18, 19, 20])\n",
    "# 이 배열에서 3의 배수를 찾아라.\n",
    "# 이 배열에서 4로 나누면 1이 남는 수를 찾아라.\n",
    "# 이 배열에서 3으로 나누면 나누어지고 4로 나누면 1이 남는 수를 찾아라.\n",
    "\n",
    "x = np.array([1, 2, 3, 4, 5, 6, 7, 8, 9, 10,\n",
    "             11, 12, 13, 14, 15, 16, 17, 18, 19, 20])\n",
    "\n",
    "print(x[x%3 == 0])\n",
    "data = x[x%4==1]\n",
    "print(data)\n",
    "idx = x[x%4==1] % 3 == 0\n",
    "print(data[idx])\n",
    "print(x[(x%3==0) & (x%4==1)])\n"
   ]
  },
  {
   "cell_type": "code",
   "execution_count": 8,
   "metadata": {},
   "outputs": [
    {
     "data": {
      "text/plain": [
       "array([9])"
      ]
     },
     "execution_count": 8,
     "metadata": {},
     "output_type": "execute_result"
    }
   ],
   "source": [
    "x[(x%3==0) & (x%4==1)]"
   ]
  },
  {
   "cell_type": "code",
   "execution_count": 474,
   "metadata": {},
   "outputs": [
    {
     "name": "stdout",
     "output_type": "stream",
     "text": [
      "[[1 2 3]\n",
      " [4 5 6]\n",
      " [7 8 9]]\n",
      "\n",
      "[3 6 9]\n",
      "\n",
      "[[3]\n",
      " [6]\n",
      " [9]]\n",
      "\n",
      "[[4 5 6]\n",
      " [7 8 9]]\n",
      "\n",
      "5\n",
      "\n",
      "[[ 2  4  6]\n",
      " [ 8 10 12]\n",
      " [14 16 18]]\n",
      "\n",
      "[[ 2  4  6]\n",
      " [ 8 10 12]\n",
      " [14 16 18]]\n",
      "\n",
      "[[ 1  2  3]\n",
      " [16 20 24]\n",
      " [49 56 63]]\n",
      "\n",
      "[[1 4 7]]\n"
     ]
    },
    {
     "data": {
      "text/plain": [
       "array([[1, 1, 1],\n",
       "       [1, 1, 1],\n",
       "       [1, 1, 1]])"
      ]
     },
     "execution_count": 474,
     "metadata": {},
     "output_type": "execute_result"
    }
   ],
   "source": [
    "# 8. 다음 배열을 만들고 슬라이싱, 인덱싱 연습하세요\n",
    "# arr2d = np.array([[1, 2, 3], [4, 5, 6], [7, 8, 9]])\n",
    "# arr2d\n",
    "arr2d = np.array([[1, 2, 3], [4, 5, 6], [7, 8, 9]])\n",
    "print(arr2d, end='\\n\\n')\n",
    "print(arr2d[:,2], end='\\n\\n')\n",
    "print(arr2d[:,2:], end='\\n\\n')\n",
    "print(arr2d[1:,:], end='\\n\\n')\n",
    "print(arr2d[1,1], end='\\n\\n')\n",
    "print(arr2d*2, end='\\n\\n')\n",
    "\n",
    "\n",
    "arr2d_2 = np.array([[1], [4], [7]])\n",
    "print(arr2d+arr2d, end='\\n\\n')\n",
    "print(arr2d*arr2d_2, end='\\n\\n')\n",
    "print(arr2d_2.T)\n",
    "arr2d_structure = np.ones_like(arr2d)\n",
    "print(arr2d_structure)"
   ]
  }
 ],
 "metadata": {
  "kernelspec": {
   "display_name": "Python 3",
   "language": "python",
   "name": "python3"
  },
  "language_info": {
   "codemirror_mode": {
    "name": "ipython",
    "version": 3
   },
   "file_extension": ".py",
   "mimetype": "text/x-python",
   "name": "python",
   "nbconvert_exporter": "python",
   "pygments_lexer": "ipython3",
   "version": "3.10.9"
  }
 },
 "nbformat": 4,
 "nbformat_minor": 2
}
