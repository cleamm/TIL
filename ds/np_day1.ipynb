{
 "cells": [
  {
   "cell_type": "code",
   "execution_count": null,
   "id": "c83b2216",
   "metadata": {},
   "outputs": [],
   "source": [
    "\"\"\"\n",
    "넘파이(배열)과 파이썬(리스트) 차이\n",
    "파이썬 리스트는 큰 메모리, 느린 속도\n",
    "배열은 빠르고 메모리 할당이 더 적음\n",
    "동일한 크기의 기억장소가 나열된 것임 즉 배열은 모든 자료형이 동일\n",
    "데이터의 개수를 변경할 수 없음\n",
    "파이썬에서는 배열이 없는 이유로 잘 안쓰이기 때문임. 추가로 리스트가 그 역할을 하기도 함.\n",
    "따라서 파이썬에서 배열을 기본적으로 제공하지 않으므로, 별도로 넘파이 패키지를 설치하여 배열 사용\n",
    "\"\"\""
   ]
  },
  {
   "cell_type": "code",
   "execution_count": null,
   "id": "6639004c",
   "metadata": {},
   "outputs": [],
   "source": [
    "# 행렬? 벡터?\n",
    "\"\"\"\n",
    "벡터 : 숫자를 원소로 갖는 리스트(혹은 배열), 행벡터, 열벡터\n",
    "행벡터 => x = [x1, x2, ...., xn]\n",
    "열벡터 => x = [\n",
    "                [x1],\n",
    "                [x2],\n",
    "                ...,\n",
    "                [xn]\n",
    "                ]\n",
    "공간에서의 한 점을 벡터라고 함.\n",
    "또는 원점으로부터 떨어진 상대적 위치라고도 할 수 있음.\n",
    "벡터에 -를 곱하면 방향이 반대로 가게 됨\n",
    "즉 벡터는 과학으로 따졌을 땐 힘(스칼라)과 방향을 의미하므로\n",
    "방향도 내포되는 표현이기도 함\n",
    "추가로 많은 양의 데이터를 간결하게 표현하는 방법이기도 함\n",
    "\n",
    "행렬은 사각형으로 표현하는 것임\n",
    "행렬: 벡터를 원소로 갖는 2차원 배열\n",
    "공간에서는 여러개의 점\n",
    "행렬 곱셈을 통해 벡터를 다른 차원으로 공간을 이동할 수 있음\n",
    "가로는 행, 세로는 열이라고 부름\n",
    "\"\"\""
   ]
  },
  {
   "cell_type": "code",
   "execution_count": 9,
   "id": "51f125f8",
   "metadata": {},
   "outputs": [],
   "source": [
    "li = [1,'가',True, [1,2], {'a':1}]"
   ]
  },
  {
   "cell_type": "code",
   "execution_count": 21,
   "id": "247f54db",
   "metadata": {},
   "outputs": [
    {
     "data": {
      "text/plain": [
       "list"
      ]
     },
     "execution_count": 21,
     "metadata": {},
     "output_type": "execute_result"
    }
   ],
   "source": [
    "x = [10,20,30]\n",
    "type(x) # 리스트"
   ]
  },
  {
   "cell_type": "code",
   "execution_count": 27,
   "id": "807e0bbe-9825-49fc-83b5-d317d406c2c7",
   "metadata": {},
   "outputs": [
    {
     "name": "stdout",
     "output_type": "stream",
     "text": [
      "<class 'numpy.ndarray'>\n",
      "[10 20 30]\n"
     ]
    }
   ],
   "source": [
    "import numpy as np\n",
    "arr = np.array(x) # 1차원 배열(벡터)\n",
    "print(type(arr)) # 이게 배열임\n",
    "print(arr)"
   ]
  },
  {
   "cell_type": "code",
   "execution_count": null,
   "id": "8ffee593",
   "metadata": {},
   "outputs": [],
   "source": [
    "# 과일가게 장부 관리\n",
    "# 사과:1000, 딸기:2000, 배: 2000, 파인애플:5000, 바나나:3000\n",
    "# 5/1 사과:5, 딸기:2, 바나나:3\n",
    "# 5/2 파인애플:3, 딸기:3, 배:2, 사과:1\n",
    "# 이러면 그 날의 음식 판매 개수를 일일히 계산을 해야되므로 매출액을 확인하기 어려움\n",
    "# 이에 따라 판매품목에 종류에 맞춰서 연산하기 시작\n",
    "# 5/1 사과:5, 딸기:2, 배:0, 파인애플:0, 바나나:3\n",
    "# 5/2 사과:1, 딸기:3, 배:2, 파인애플:3, 바나나:0\n",
    "# 위와 같이 만듦. 위를 벡터로 표기하면\n",
    "# [[5,2,0,0,3],\n",
    "# [1,3,2,3,0]]\n",
    "# 위는 5차원 공간임(사과, 딸기, 배, 파인애플, 바나나)\n",
    "# 5차원 공간에 표현된 한 점\n",
    "# 점하나는 0차원(스칼라)\n",
    "# 점이 여러개 모이면 1차원(선)\n",
    "# 선과 선이 만나서 모이면 2차원(면)\n",
    "# 면과 면이 만나서 모이면 3차원(입체적 모양)\n",
    "# 공간과 공간이 모이면 4차원(??)\n",
    "\n",
    "# 넘파이에서 배열 연산은 C언어로 구현된 반복구조를 사용함.\n",
    "# 그러므로 일반적인 파이썬의 연산보다 속도가 빠름\n",
    "\n",
    "# 1차원 배열(벡터)\n",
    "# 좌표계로 표시할 때(?) x위에 화살표도 같이 표시하는데 이것이 벡터를 의미함"
   ]
  },
  {
   "cell_type": "code",
   "execution_count": 24,
   "id": "b014f309",
   "metadata": {},
   "outputs": [
    {
     "data": {
      "text/plain": [
       "[5, 2, 0, 0, 3, 1, 3, 2, 3, 0]"
      ]
     },
     "execution_count": 24,
     "metadata": {},
     "output_type": "execute_result"
    }
   ],
   "source": [
    "[1,2,3,4,5] * [1,  =  [1, \n",
    "               2,     4, \n",
    "               3,     9, \n",
    "               4,     16, \n",
    "               5]     25]\n",
    "# 위와 같은 행렬의 계산을 적용해서 결과가 나옴\n",
    "\n",
    "[5,2,0,0,3] + [1,3,2,3,0] = [6, 5, 2, 3, 3]"
   ]
  },
  {
   "cell_type": "code",
   "execution_count": 58,
   "id": "95133d3e",
   "metadata": {},
   "outputs": [],
   "source": [
    "# for와 numpy의 속도 비교\n",
    "import time\n",
    "data = list(range(1,100000000))\n",
    "ans = []"
   ]
  },
  {
   "cell_type": "code",
   "execution_count": 59,
   "id": "f7614191",
   "metadata": {},
   "outputs": [
    {
     "name": "stdout",
     "output_type": "stream",
     "text": [
      "9.255799293518066\n"
     ]
    }
   ],
   "source": [
    "start = time.time()\n",
    "for d in data:\n",
    "    ans.append(d*2)\n",
    "end = time.time()\n",
    "print(end-start)"
   ]
  },
  {
   "cell_type": "code",
   "execution_count": 40,
   "id": "65411aec",
   "metadata": {},
   "outputs": [
    {
     "data": {
      "text/plain": [
       "array([       1,        2,        3, ..., 99999997, 99999998, 99999999])"
      ]
     },
     "execution_count": 40,
     "metadata": {},
     "output_type": "execute_result"
    }
   ],
   "source": [
    "arr_data = np.array(data)\n",
    "arr_data"
   ]
  },
  {
   "cell_type": "code",
   "execution_count": 57,
   "id": "48fcac2e",
   "metadata": {},
   "outputs": [
    {
     "name": "stdout",
     "output_type": "stream",
     "text": [
      "0.1442112922668457\n"
     ]
    }
   ],
   "source": [
    "start = time.time()\n",
    "ans2 = 2 * arr_data\n",
    "end = time.time()\n",
    "print(end-start)\n",
    "# for문과 numpy의 단순 연산에서 약 50배의 속도 차이가 생김ㄷㄷ. \n",
    "# 근데 1억의 계산이기 때문에 이렇고 규모가 커질수록 격차가 심해짐"
   ]
  },
  {
   "cell_type": "code",
   "execution_count": 60,
   "id": "f2f144cb",
   "metadata": {},
   "outputs": [
    {
     "data": {
      "text/plain": [
       "[1, 2, 3, 4]"
      ]
     },
     "execution_count": 60,
     "metadata": {},
     "output_type": "execute_result"
    }
   ],
   "source": [
    "x = [1,2]\n",
    "y = [3,4]\n",
    "x + y # 파이썬의 연산"
   ]
  },
  {
   "cell_type": "code",
   "execution_count": 62,
   "id": "68417715",
   "metadata": {},
   "outputs": [
    {
     "data": {
      "text/plain": [
       "array([4, 6])"
      ]
     },
     "execution_count": 62,
     "metadata": {},
     "output_type": "execute_result"
    }
   ],
   "source": [
    "np.array(x) + np.array(y) # numpy의 연산"
   ]
  },
  {
   "cell_type": "code",
   "execution_count": null,
   "id": "ba979709",
   "metadata": {},
   "outputs": [],
   "source": [
    "# 벡터로 만든 이유가 숫자 하나하나가 요소이기 때문\n",
    "# 간단한 문제\n",
    "# 1~100까지 수 중에서 짝수를 even, 홀수를 odd에 저장한 다음 같은 위치의 요소끼리 비교하여 큰 값을 출력\n",
    "# 단, for문을 이용해서\n",
    "nums = list(range(1,101))\n",
    "even = []\n",
    "odd = []\n",
    "[odd.append(i) if i % 2 == 1 else even.append(i) for i in nums]\n",
    "for i in range(len(even)):\n",
    "    print(even[i]) if even[i] > odd[i] else print(odd[i])\n",
    "        "
   ]
  },
  {
   "cell_type": "code",
   "execution_count": 89,
   "id": "61049ea0",
   "metadata": {},
   "outputs": [
    {
     "data": {
      "text/plain": [
       "array([  3,   7,  11,  15,  19,  23,  27,  31,  35,  39,  43,  47,  51,\n",
       "        55,  59,  63,  67,  71,  75,  79,  83,  87,  91,  95,  99, 103,\n",
       "       107, 111, 115, 119, 123, 127, 131, 135, 139, 143, 147, 151, 155,\n",
       "       159, 163, 167, 171, 175, 179, 183, 187, 191, 195, 199])"
      ]
     },
     "execution_count": 89,
     "metadata": {},
     "output_type": "execute_result"
    }
   ],
   "source": [
    "even=[e for e in range(2,101,2)]\n",
    "odd=[o for o in range(1,101,2)]\n",
    "a_even = np.array(even)\n",
    "a_odd = np.array(odd)\n",
    "a_even + a_odd"
   ]
  },
  {
   "cell_type": "code",
   "execution_count": 92,
   "id": "64a8a4d4",
   "metadata": {},
   "outputs": [
    {
     "name": "stdout",
     "output_type": "stream",
     "text": [
      "[False False False False False False False False False False False False\n",
      " False False False False False False False False False False False False\n",
      " False  True  True  True  True  True  True  True  True  True  True  True\n",
      "  True  True  True  True  True  True  True  True  True  True  True  True\n",
      "  True  True]\n",
      "[False False False False False False False False False False False False\n",
      " False False False False False False False False False False False False\n",
      "  True False False False False False False False False False False False\n",
      " False False False False False False False False False False False False\n",
      " False False]\n",
      "[False False False False False False False False False False False False\n",
      " False False False False False False False False False False False False\n",
      " False False False False False  True False False False False  True False\n",
      " False False False  True False False False False  True False False False\n",
      " False  True]\n",
      "[  2   4   6   8  10  12  14  16  18  20  22  24  26  28  30  32  34  36\n",
      "  38  40  42  44  46  48  50  52  54  56  58  60  62  64  66  68  70  72\n",
      "  74  76  78  80  82  84  86  88  90  92  94  96  98 100]\n",
      "[ 1  3  5  7  9 11 13 15 17 19 21 23 25 27 29 31 33 35 37 39 41 43 45 47\n",
      " 49 51 53 55 57 59 61 63 65 67 69 71 73 75 77 79 81 83 85 87 89 91 93 95\n",
      " 97 99]\n",
      "[ True  True  True  True  True  True  True  True  True  True  True  True\n",
      "  True  True  True  True  True  True  True  True  True  True  True  True\n",
      "  True  True  True  True  True  True  True  True  True  True  True  True\n",
      "  True  True  True  True  True  True  True  True  True  True  True  True\n",
      "  True  True]\n",
      "[  2   4   6   8  10  12  14  16  18  20  22  24  26  28  30  32  34  36\n",
      "  38  40  42  44  46  48  50  52  54  56  58  60  62  64  66  68  70  72\n",
      "  74  76  78  80  82  84  86  88  90  92  94  96  98 100]\n"
     ]
    }
   ],
   "source": [
    "print(a_even > 50)\n",
    "print(a_even == 50)\n",
    "print((a_even > 50) & (a_even%5 == 0))\n",
    "print(a_even)\n",
    "print(a_odd)\n",
    "print(a_even>a_odd)\n",
    "print(a_even[a_even>a_odd])"
   ]
  },
  {
   "cell_type": "code",
   "execution_count": null,
   "id": "d016070a",
   "metadata": {},
   "outputs": [],
   "source": [
    "# 위처럼 넘파이를 사용하는 주된 이유는 빠르기 때문임\n",
    "# 파이썬의 리스트의 경우 데이터가 저장될 때 띄엄띄엄 저장됨\n",
    "# 넘파이의 배열은 연속되는 저장을 진행하므로 탐색을 할 필요가 없게 됨. \n",
    "# 더구나 더 효율적인 C언어로 구동하는 방식이므로 훨씬 빠름\n",
    "# 그래서 최적화된 연산을 진행할 수 있음\n",
    "# 넘파이는 대부분 C언어로 구성됨"
   ]
  },
  {
   "cell_type": "code",
   "execution_count": 93,
   "id": "29c43b9e",
   "metadata": {},
   "outputs": [
    {
     "data": {
      "text/plain": [
       "'1.23.5'"
      ]
     },
     "execution_count": 93,
     "metadata": {},
     "output_type": "execute_result"
    }
   ],
   "source": [
    "np.__version__"
   ]
  },
  {
   "cell_type": "code",
   "execution_count": 102,
   "id": "c9b8edc8",
   "metadata": {},
   "outputs": [
    {
     "data": {
      "text/plain": [
       "array(10)"
      ]
     },
     "execution_count": 102,
     "metadata": {},
     "output_type": "execute_result"
    }
   ],
   "source": [
    "np.array((10,20,30)) # tuple도 배열화 가능\n",
    "# 0차원 배열 = 스칼라 = 배열의 각 요소값\n",
    "arr = np.array(10)\n",
    "arr"
   ]
  },
  {
   "cell_type": "code",
   "execution_count": 101,
   "id": "cd1b0647",
   "metadata": {},
   "outputs": [
    {
     "data": {
      "text/plain": [
       "array([10, 20, 30])"
      ]
     },
     "execution_count": 101,
     "metadata": {},
     "output_type": "execute_result"
    }
   ],
   "source": [
    "# 1차원 배열 = 0차원 배열을 요소로 갖는 배열\n",
    "arr = np.array([10,20,30])\n",
    "arr"
   ]
  },
  {
   "cell_type": "code",
   "execution_count": 104,
   "id": "abfdfd58",
   "metadata": {},
   "outputs": [
    {
     "name": "stdout",
     "output_type": "stream",
     "text": [
      "2\n",
      "3\n"
     ]
    },
    {
     "data": {
      "text/plain": [
       "array([[ 10,  20,  30],\n",
       "       [100, 200, 300]])"
      ]
     },
     "execution_count": 104,
     "metadata": {},
     "output_type": "execute_result"
    }
   ],
   "source": [
    "# 2차원 배열 = 1차원 배열을 요소로 갖는 배열 = 행렬\n",
    "arr = np.array([[10,20,30], [100,200,300]])\n",
    "print(len(arr)) # 행의 개수\n",
    "print(len(arr[0])) # 열의 개수\n",
    "arr # 2행 3열"
   ]
  },
  {
   "cell_type": "code",
   "execution_count": 113,
   "id": "bd8315ec",
   "metadata": {},
   "outputs": [
    {
     "name": "stdout",
     "output_type": "stream",
     "text": [
      "2\n",
      "3\n"
     ]
    },
    {
     "data": {
      "text/plain": [
       "array([[[1, 2, 3],\n",
       "        [4, 5, 6]],\n",
       "\n",
       "       [[1, 2, 3],\n",
       "        [4, 5, 6]]])"
      ]
     },
     "execution_count": 113,
     "metadata": {},
     "output_type": "execute_result"
    }
   ],
   "source": [
    "# 3차원(다차원 or n차원) 배열 = 2차원 배열을 요소로 갖는 배열\n",
    "arr = np.array([[[1, 2, 3], [4, 5, 6]], [[1, 2, 3], [4, 5, 6]]])\n",
    "print(arr.ndim) # 몇차원인지 확인 가능\n",
    "print(len(arr)) # ndim-1차원 배열의 개수\n",
    "arr"
   ]
  },
  {
   "cell_type": "code",
   "execution_count": 117,
   "id": "1c2bc322",
   "metadata": {},
   "outputs": [
    {
     "data": {
      "text/plain": [
       "[[[1, 2, 3, 4], [5, 6, 7, 8], [9, 10, 11, 12]],\n",
       " [[13, 14, 15, 16], [17, 18, 19, 20], [21, 22, 23, 24]]]"
      ]
     },
     "execution_count": 117,
     "metadata": {},
     "output_type": "execute_result"
    }
   ],
   "source": [
    "# 아래는 리스트임;;\n",
    "lst = list(range(1,25))\n",
    "res = []\n",
    "for i in range(1,3):\n",
    "    arr1 = []\n",
    "    for j in range(1,4):\n",
    "        arr2 = []\n",
    "        for k in range(1,5):\n",
    "            arr2.append(lst[0])\n",
    "            del lst[0]\n",
    "        arr1.append(arr2)\n",
    "    res.append(arr1)\n",
    "res"
   ]
  },
  {
   "cell_type": "code",
   "execution_count": 124,
   "id": "2c34baf8",
   "metadata": {},
   "outputs": [
    {
     "data": {
      "text/plain": [
       "array([[[ 1,  2,  3],\n",
       "        [ 4,  5,  6],\n",
       "        [ 7,  8,  9],\n",
       "        [10, 11, 12]],\n",
       "\n",
       "       [[13, 14, 15],\n",
       "        [16, 17, 18],\n",
       "        [19, 20, 21],\n",
       "        [22, 23, 24]]])"
      ]
     },
     "execution_count": 124,
     "metadata": {},
     "output_type": "execute_result"
    }
   ],
   "source": [
    "np.array([[[1,2,3],[4,5,6],[7,8,9],[10,11,12]],\n",
    "[[13,14,15],[16,17,18],[19,20,21],[22,23,24]]])"
   ]
  },
  {
   "cell_type": "code",
   "execution_count": 123,
   "id": "3d139124",
   "metadata": {},
   "outputs": [
    {
     "data": {
      "text/plain": [
       "array([[[ 1,  2,  3,  4],\n",
       "        [ 5,  6,  7,  8],\n",
       "        [ 9, 10, 11, 12]],\n",
       "\n",
       "       [[13, 14, 15, 16],\n",
       "        [17, 18, 19, 20],\n",
       "        [21, 22, 23, 24]]])"
      ]
     },
     "execution_count": 123,
     "metadata": {},
     "output_type": "execute_result"
    }
   ],
   "source": [
    "arr = np.array([[[i for i in range(1,5)],[i for i in range(5,9)],[i for i in range(9,13)]],[[i for i in range(13,17)], [i for i in range(17,21)], [i for i in range(21,25)]]])\n",
    "arr"
   ]
  },
  {
   "cell_type": "code",
   "execution_count": 125,
   "id": "02126379",
   "metadata": {},
   "outputs": [],
   "source": [
    "#1~24 요소값으로 2*3*4 3차원 배열 생성\n",
    "\n",
    "ar=np.array([[[ 1, 2, 3, 4],[ 5, 6, 7, 8],[ 9, 10, 11, 12]], \n",
    "         [[ 13, 14, 15, 16 ],[17, 18 ,19, 20 ],[21 ,22, 23, 24]]])"
   ]
  },
  {
   "cell_type": "code",
   "execution_count": 126,
   "id": "32239c2c",
   "metadata": {},
   "outputs": [],
   "source": [
    "li=[[[ 1, 2, 3, 4],[ 5, 6, 7, 8],[ 9, 10, 11, 12]], \n",
    "         [[ 13, 14, 15, 16 ],[17, 18 ,19, 20 ],[21 ,22, 23, 24]]]"
   ]
  },
  {
   "cell_type": "code",
   "execution_count": 134,
   "id": "39d7cf05",
   "metadata": {},
   "outputs": [
    {
     "data": {
      "text/plain": [
       "array([ 1,  2,  3,  4,  5,  6,  7,  8,  9, 10, 11, 12, 13, 14, 15, 16, 17,\n",
       "       18, 19, 20, 21, 22, 23, 24])"
      ]
     },
     "execution_count": 134,
     "metadata": {},
     "output_type": "execute_result"
    }
   ],
   "source": [
    "arr = np.array(list(range(1,25)))\n",
    "arr"
   ]
  },
  {
   "cell_type": "code",
   "execution_count": 143,
   "id": "b5e7c55b",
   "metadata": {},
   "outputs": [
    {
     "name": "stdout",
     "output_type": "stream",
     "text": [
      "(2, 3, 4)\n",
      "3\n"
     ]
    },
    {
     "data": {
      "text/plain": [
       "array([[[ 1,  2,  3,  4],\n",
       "        [ 5,  6,  7,  8],\n",
       "        [ 9, 10, 11, 12]],\n",
       "\n",
       "       [[13, 14, 15, 16],\n",
       "        [17, 18, 19, 20],\n",
       "        [21, 22, 23, 24]]])"
      ]
     },
     "execution_count": 143,
     "metadata": {},
     "output_type": "execute_result"
    }
   ],
   "source": [
    "arr_re = arr.reshape(2,3,4) # 행렬 개수, 행 수, 열 수\n",
    "print(arr_re.shape)\n",
    "print(arr_re.ndim)\n",
    "arr_re"
   ]
  },
  {
   "cell_type": "code",
   "execution_count": 162,
   "id": "e8d33cb6",
   "metadata": {},
   "outputs": [
    {
     "data": {
      "text/plain": [
       "4"
      ]
     },
     "execution_count": 162,
     "metadata": {},
     "output_type": "execute_result"
    }
   ],
   "source": [
    "arr = np.array([1,2,3,4])\n",
    "arr[0]\n",
    "arr[2]+arr[3]\n",
    "arr[-1]"
   ]
  },
  {
   "cell_type": "code",
   "execution_count": 163,
   "id": "aff2d874",
   "metadata": {},
   "outputs": [
    {
     "data": {
      "text/plain": [
       "array([[11, 12, 13, 14, 15],\n",
       "       [16, 17, 18, 19, 20]])"
      ]
     },
     "execution_count": 163,
     "metadata": {},
     "output_type": "execute_result"
    }
   ],
   "source": [
    "arr = np.array([list(range(11,16)), list(range(16,21))])\n",
    "arr"
   ]
  },
  {
   "cell_type": "code",
   "execution_count": 173,
   "id": "aee1aea2",
   "metadata": {},
   "outputs": [
    {
     "data": {
      "text/plain": [
       "array([[11, 12, 13, 14, 15],\n",
       "       [16, 17, 18, 19, 20]])"
      ]
     },
     "execution_count": 173,
     "metadata": {},
     "output_type": "execute_result"
    }
   ],
   "source": [
    "arr = np.array(list(range(11,21))).reshape(2,5)\n",
    "arr"
   ]
  },
  {
   "cell_type": "code",
   "execution_count": 174,
   "id": "d0dff6cb",
   "metadata": {},
   "outputs": [
    {
     "data": {
      "text/plain": [
       "array([16, 17, 18, 19, 20])"
      ]
     },
     "execution_count": 174,
     "metadata": {},
     "output_type": "execute_result"
    }
   ],
   "source": [
    "arr[1]"
   ]
  },
  {
   "cell_type": "code",
   "execution_count": 182,
   "id": "498ec5b6",
   "metadata": {},
   "outputs": [
    {
     "data": {
      "text/plain": [
       "19"
      ]
     },
     "execution_count": 182,
     "metadata": {},
     "output_type": "execute_result"
    }
   ],
   "source": [
    "arr[1][3]\n",
    "arr[1,3] # 이것도 가능함;; 위와 같은 결과로 확인이 가능\n",
    "arr[-1][-2]\n",
    "arr[-1,-2] # 리스트와 동일하게 작동됨"
   ]
  },
  {
   "cell_type": "code",
   "execution_count": 215,
   "id": "c3dc85f8",
   "metadata": {},
   "outputs": [
    {
     "data": {
      "text/plain": [
       "array([[[ 1,  2,  3],\n",
       "        [ 4,  5,  6]],\n",
       "\n",
       "       [[ 7,  8,  9],\n",
       "        [10, 11, 12]]])"
      ]
     },
     "execution_count": 215,
     "metadata": {},
     "output_type": "execute_result"
    }
   ],
   "source": [
    "arr = np.array(list(range(1,13))).reshape(2,2,3)\n",
    "arr"
   ]
  },
  {
   "cell_type": "code",
   "execution_count": 216,
   "id": "82cfa49f",
   "metadata": {},
   "outputs": [
    {
     "data": {
      "text/plain": [
       "6"
      ]
     },
     "execution_count": 216,
     "metadata": {},
     "output_type": "execute_result"
    }
   ],
   "source": [
    "# 그냥해봄\n",
    "# arr[0,:,2]\n",
    "arr[0,1,2]"
   ]
  },
  {
   "cell_type": "code",
   "execution_count": 186,
   "id": "6b7c7ae2",
   "metadata": {},
   "outputs": [],
   "source": [
    "# 대기업에서도 딥러닝 수업할 땐 이틀동안 배열만 다룬다고 함\n",
    "# 데이터 사이언스 직군에서는 넘파이를 사용해야됨. 그리고 주로 사용하도록 만들어 놓음\n",
    "# 인공지능은 일반적인 IT 직군이 아니므로 넘파이와 판다스를 잘 다루는지를 보게 됨"
   ]
  },
  {
   "cell_type": "code",
   "execution_count": null,
   "id": "8fa5fe7e",
   "metadata": {},
   "outputs": [],
   "source": [
    "# array indexing\n",
    "# array slicing  영역을 잡고 추출할 때 => arr[시작:끝:간격]"
   ]
  },
  {
   "cell_type": "code",
   "execution_count": 217,
   "id": "a58e7f82",
   "metadata": {},
   "outputs": [
    {
     "data": {
      "text/plain": [
       "array([1, 2, 3])"
      ]
     },
     "execution_count": 217,
     "metadata": {},
     "output_type": "execute_result"
    }
   ],
   "source": [
    "arr=np.array(list(range(1,8)))\n",
    "arr[1:5] # 리스트와 동일하게 [시작위치 포함, 끝위치 불포함]\n",
    "arr[3:]\n",
    "arr[:3]"
   ]
  },
  {
   "cell_type": "code",
   "execution_count": null,
   "id": "ea5e6803",
   "metadata": {},
   "outputs": [],
   "source": [
    "# 데이터를 가지고 오면 처음에 배열 상태로 가져오므로 배열상태로 다룰 수 있어야 빠른 작업이 가능함"
   ]
  },
  {
   "cell_type": "code",
   "execution_count": 218,
   "id": "04bf4a3c",
   "metadata": {},
   "outputs": [
    {
     "data": {
      "text/plain": [
       "array([1, 2, 3, 4, 5, 6, 7])"
      ]
     },
     "execution_count": 218,
     "metadata": {},
     "output_type": "execute_result"
    }
   ],
   "source": [
    "arr[-3:]\n",
    "arr[-5:-2]\n",
    "arr[:-3]"
   ]
  },
  {
   "cell_type": "code",
   "execution_count": 212,
   "id": "ed04500c",
   "metadata": {},
   "outputs": [],
   "source": [
    "# 그냥 해봄\n",
    "# arr1 = np.array(arr,dtype=str)\n",
    "# arr1"
   ]
  },
  {
   "cell_type": "code",
   "execution_count": 224,
   "id": "c1067de7",
   "metadata": {},
   "outputs": [
    {
     "data": {
      "text/plain": [
       "array([1, 2, 3, 4, 5, 6, 7])"
      ]
     },
     "execution_count": 224,
     "metadata": {},
     "output_type": "execute_result"
    }
   ],
   "source": [
    "arr[:]\n",
    "arr[::]\n",
    "arr[::1]"
   ]
  },
  {
   "cell_type": "code",
   "execution_count": 226,
   "id": "32c61f25",
   "metadata": {},
   "outputs": [],
   "source": [
    "# 우리가 다루는 데이터는 주로 2차원 배열이므로 2차원 슬라이싱을 잘 다뤄야 함.\n",
    "# 리스트는 느리므로 넘파이의 배열을 사용하는 것임. 우리는 빅데이터를 공부하는 것이므로 연산이 빠르게 가야함\n",
    "# 파이썬에는 리스트밖에 없는데 이는 빅데이터를 다루지 않기 때문임"
   ]
  },
  {
   "cell_type": "code",
   "execution_count": 227,
   "id": "3925dc4d",
   "metadata": {},
   "outputs": [
    {
     "data": {
      "text/plain": [
       "array([[ 1,  2,  3,  4,  5],\n",
       "       [ 6,  7,  8,  9, 10]])"
      ]
     },
     "execution_count": 227,
     "metadata": {},
     "output_type": "execute_result"
    }
   ],
   "source": [
    "arr = np.array(list(range(1,11))).reshape(2,5)\n",
    "arr"
   ]
  },
  {
   "cell_type": "code",
   "execution_count": 228,
   "id": "d52c3b54",
   "metadata": {},
   "outputs": [
    {
     "data": {
      "text/plain": [
       "array([ 6,  7,  8,  9, 10])"
      ]
     },
     "execution_count": 228,
     "metadata": {},
     "output_type": "execute_result"
    }
   ],
   "source": [
    "arr[1]"
   ]
  },
  {
   "cell_type": "code",
   "execution_count": 230,
   "id": "55dd82f5",
   "metadata": {},
   "outputs": [
    {
     "data": {
      "text/plain": [
       "array([7, 8, 9])"
      ]
     },
     "execution_count": 230,
     "metadata": {},
     "output_type": "execute_result"
    }
   ],
   "source": [
    "arr[1,1]\n",
    "arr[1,1:4]"
   ]
  },
  {
   "cell_type": "code",
   "execution_count": 232,
   "id": "e779dab4",
   "metadata": {},
   "outputs": [
    {
     "data": {
      "text/plain": [
       "array([[11, 12, 13, 14, 15],\n",
       "       [16, 17, 18, 19, 20],\n",
       "       [21, 22, 23, 24, 25],\n",
       "       [26, 27, 28, 29, 30],\n",
       "       [31, 32, 33, 34, 35],\n",
       "       [36, 37, 38, 39, 40]])"
      ]
     },
     "execution_count": 232,
     "metadata": {},
     "output_type": "execute_result"
    }
   ],
   "source": [
    "arr = np.array(list(range(11,41))).reshape(6,5)\n",
    "arr"
   ]
  },
  {
   "cell_type": "code",
   "execution_count": 239,
   "id": "015e1abf",
   "metadata": {},
   "outputs": [
    {
     "data": {
      "text/plain": [
       "array([[17, 18, 19],\n",
       "       [22, 23, 24]])"
      ]
     },
     "execution_count": 239,
     "metadata": {},
     "output_type": "execute_result"
    }
   ],
   "source": [
    "# 34를 참조하기\n",
    "arr[4,3]\n",
    "# 21, 22, 23 을 추출\n",
    "arr[2,:3]\n",
    "# 17, 18, 19\n",
    "# 22, 23, 24 를 추출\n",
    "arr[1:3,1:4] # 넘파이는 각 인덱스에 대해 범위 지정이 가능해짐\n",
    "arr[1:3][1:4] # 이건 다른 결과가 나옴"
   ]
  },
  {
   "cell_type": "code",
   "execution_count": 246,
   "id": "d29f97b7",
   "metadata": {},
   "outputs": [
    {
     "data": {
      "text/plain": [
       "array([21, 22, 23, 24, 25])"
      ]
     },
     "execution_count": 246,
     "metadata": {},
     "output_type": "execute_result"
    }
   ],
   "source": [
    "arr[1:3][1:4] # 이렇게하면 분리해서 계산을 시도함\n",
    "arr[1:3]\n",
    "# 위 결과는 아래인데\n",
    "# array([[16, 17, 18, 19, 20],\n",
    "#        [21, 22, 23, 24, 25]])\n",
    "# 결과에서 [1:4]까지의 행을 다시 찾으니 결과가  [21, 22, 23, 24, 25]로 출력됨\n",
    "# 즉 결과로는 아래로 나옴\n",
    "arr[2]\n",
    "# 이는 문법 문제가 아닌 논리적 오류라고 할 수 있음"
   ]
  },
  {
   "cell_type": "code",
   "execution_count": 248,
   "id": "6ee31658",
   "metadata": {},
   "outputs": [
    {
     "name": "stdout",
     "output_type": "stream",
     "text": [
      "Collecting finance-datareaderNote: you may need to restart the kernel to use updated packages.\n"
     ]
    },
    {
     "name": "stderr",
     "output_type": "stream",
     "text": [
      "WARNING: Ignoring invalid distribution -rotobuf (c:\\users\\fkfma\\appdata\\local\\programs\\python\\python310\\lib\\site-packages)\n",
      "WARNING: Ignoring invalid distribution -rotobuf (c:\\users\\fkfma\\appdata\\local\\programs\\python\\python310\\lib\\site-packages)\n",
      "WARNING: Ignoring invalid distribution -rotobuf (c:\\users\\fkfma\\appdata\\local\\programs\\python\\python310\\lib\\site-packages)\n",
      "WARNING: Ignoring invalid distribution -rotobuf (c:\\users\\fkfma\\appdata\\local\\programs\\python\\python310\\lib\\site-packages)\n",
      "WARNING: Ignoring invalid distribution -rotobuf (c:\\users\\fkfma\\appdata\\local\\programs\\python\\python310\\lib\\site-packages)\n",
      "WARNING: Ignoring invalid distribution -rotobuf (c:\\users\\fkfma\\appdata\\local\\programs\\python\\python310\\lib\\site-packages)\n",
      "WARNING: Ignoring invalid distribution -rotobuf (c:\\users\\fkfma\\appdata\\local\\programs\\python\\python310\\lib\\site-packages)\n",
      "WARNING: Ignoring invalid distribution -rotobuf (c:\\users\\fkfma\\appdata\\local\\programs\\python\\python310\\lib\\site-packages)\n",
      "\n",
      "[notice] A new release of pip is available: 23.0.1 -> 24.0\n",
      "[notice] To update, run: python.exe -m pip install --upgrade pip\n"
     ]
    },
    {
     "name": "stdout",
     "output_type": "stream",
     "text": [
      "\n",
      "  Downloading finance_datareader-0.9.90-py3-none-any.whl (46 kB)\n",
      "     ---------------------------------------- 0.0/46.6 kB ? eta -:--:--\n",
      "     ---------------------------------------- 46.6/46.6 kB 2.3 MB/s eta 0:00:00\n",
      "Collecting requests-file\n",
      "  Downloading requests_file-2.0.0-py2.py3-none-any.whl (4.2 kB)\n",
      "Requirement already satisfied: tqdm in c:\\users\\fkfma\\appdata\\local\\programs\\python\\python310\\lib\\site-packages (from finance-datareader) (4.65.0)\n",
      "Requirement already satisfied: lxml in c:\\users\\fkfma\\appdata\\local\\programs\\python\\python310\\lib\\site-packages (from finance-datareader) (4.9.2)\n",
      "Requirement already satisfied: pandas>=0.19.2 in c:\\users\\fkfma\\appdata\\local\\programs\\python\\python310\\lib\\site-packages (from finance-datareader) (1.5.3)\n",
      "Requirement already satisfied: requests>=2.3.0 in c:\\users\\fkfma\\appdata\\local\\programs\\python\\python310\\lib\\site-packages (from finance-datareader) (2.28.2)\n",
      "Requirement already satisfied: numpy>=1.21.0 in c:\\users\\fkfma\\appdata\\local\\programs\\python\\python310\\lib\\site-packages (from pandas>=0.19.2->finance-datareader) (1.23.5)\n",
      "Requirement already satisfied: python-dateutil>=2.8.1 in c:\\users\\fkfma\\appdata\\roaming\\python\\python310\\site-packages (from pandas>=0.19.2->finance-datareader) (2.8.2)\n",
      "Requirement already satisfied: pytz>=2020.1 in c:\\users\\fkfma\\appdata\\local\\programs\\python\\python310\\lib\\site-packages (from pandas>=0.19.2->finance-datareader) (2022.7.1)\n",
      "Requirement already satisfied: charset-normalizer<4,>=2 in c:\\users\\fkfma\\appdata\\local\\programs\\python\\python310\\lib\\site-packages (from requests>=2.3.0->finance-datareader) (3.0.1)\n",
      "Requirement already satisfied: idna<4,>=2.5 in c:\\users\\fkfma\\appdata\\local\\programs\\python\\python310\\lib\\site-packages (from requests>=2.3.0->finance-datareader) (3.4)\n",
      "Requirement already satisfied: certifi>=2017.4.17 in c:\\users\\fkfma\\appdata\\local\\programs\\python\\python310\\lib\\site-packages (from requests>=2.3.0->finance-datareader) (2022.12.7)\n",
      "Requirement already satisfied: urllib3<1.27,>=1.21.1 in c:\\users\\fkfma\\appdata\\local\\programs\\python\\python310\\lib\\site-packages (from requests>=2.3.0->finance-datareader) (1.26.14)\n",
      "Requirement already satisfied: colorama in c:\\users\\fkfma\\appdata\\roaming\\python\\python310\\site-packages (from tqdm->finance-datareader) (0.4.6)\n",
      "Requirement already satisfied: six>=1.5 in c:\\users\\fkfma\\appdata\\roaming\\python\\python310\\site-packages (from python-dateutil>=2.8.1->pandas>=0.19.2->finance-datareader) (1.16.0)\n",
      "Installing collected packages: requests-file, finance-datareader\n",
      "Successfully installed finance-datareader-0.9.90 requests-file-2.0.0\n"
     ]
    }
   ],
   "source": [
    "# 금융 라이브러리\n",
    "# https://finance.yahoo.com/\n",
    "!pip install -U finance-datareader"
   ]
  },
  {
   "cell_type": "code",
   "execution_count": null,
   "id": "7157eacb",
   "metadata": {},
   "outputs": [],
   "source": [
    "# https://finance.yahoo.com/\n",
    "# 위 주소에서 kakao를 검색\n",
    "# 좌측 메뉴에 Historical Data 클릭 후 다운로드 클릭\n",
    "# 그럼 035720.KS.csv 파일이 다운로드됨\n"
   ]
  },
  {
   "cell_type": "code",
   "execution_count": 29,
   "id": "9dfabe6f",
   "metadata": {},
   "outputs": [
    {
     "data": {
      "text/plain": [
       "0      58000.0\n",
       "1      57200.0\n",
       "2      57500.0\n",
       "3      57800.0\n",
       "4      57100.0\n",
       "        ...   \n",
       "241    47850.0\n",
       "242    47650.0\n",
       "243    48350.0\n",
       "244    48150.0\n",
       "245    49000.0\n",
       "Name: Open, Length: 246, dtype: float64"
      ]
     },
     "execution_count": 29,
     "metadata": {},
     "output_type": "execute_result"
    }
   ],
   "source": [
    "import pandas as pd\n",
    "df = pd.read_csv('kakao.csv')\n",
    "df['Open']"
   ]
  },
  {
   "cell_type": "code",
   "execution_count": 26,
   "id": "d9366bd3",
   "metadata": {},
   "outputs": [
    {
     "name": "stdout",
     "output_type": "stream",
     "text": [
      "(246, 6)\n"
     ]
    },
    {
     "data": {
      "text/plain": [
       "array([57800., 56000., 57100., 57300., 56300., 56000., 55600., 56100.,\n",
       "       56000., 55600., 56800., 57200., 57600., 57600., 56700., 56300.,\n",
       "       56400., 56400., 56100., 56000., 56000., 57000., 57300., 56300.,\n",
       "       56300., 56400., 56200., 55300., 53700., 53400., 52000., 51500.,\n",
       "       50300., 50100., 49550., 48600., 49350., 48500., 48700., 48400.,\n",
       "       49300., 49900., 48800., 48700., 49750., 49450., 50000., 50200.,\n",
       "       51700., 51600., 52200., 51400., 50100., 50100., 49750., 49400.,\n",
       "       48800., 46650., 47500., 49600., 50000., 51800., 52300., 52300.,\n",
       "       51000., 51200., 51800., 52100., 51900., 50600., 50600., 49850.,\n",
       "       49150., 48200., 48250., 48400., 48450., 48900., 47600., 47800.,\n",
       "       48000., 48750., 48100., 47950., 48400., 48850., 48500., 48600.,\n",
       "       48000., 47900., 48150., 47300., 47450., 48100., 48450., 47800.,\n",
       "       47050., 45600., 44800., 44650., 43400., 43150., 41600., 40700.,\n",
       "       40600., 41200., 41900., 42600., 43050., 42400., 42800., 41800.,\n",
       "       40450., 38850., 37850., 37850., 38850., 37400., 37300., 37600.,\n",
       "       37450., 37450., 37900., 38900., 42300., 42850., 43850., 43450.,\n",
       "       45000., 44900., 45500., 46800., 46850., 47200., 47000., 48300.,\n",
       "       48250., 49600., 50000., 49300., 49800., 50100., 50000., 49650.,\n",
       "       49750., 50200., 50200., 50000., 50700., 51900., 51800., 50700.,\n",
       "       52300., 54000., 53700., 53200., 53000., 52000., 52600., 52100.,\n",
       "       52100., 53300., 54000., 56000., 55600., 55500., 55800., 58300.,\n",
       "       58600., 59400., 59100., 59800., 59400., 56600., 55900., 57100.,\n",
       "       55800., 56600., 56300., 54700., 55600., 55200., 53600., 52200.,\n",
       "       51500., 53700., 54600., 53800., 53600., 53700., 54000., 53200.,\n",
       "       56700., 58300., 58100., 57800., 58000., 57700., 56600., 57000.,\n",
       "       56300., 55200., 53000., 52900., 51600., 51400., 52000., 53000.,\n",
       "       52700., 54800., 54100., 54600., 53900., 52700., 51700., 52300.,\n",
       "       52800., 53300., 53100., 53900., 53900., 54400., 53500., 53600.,\n",
       "       51000., 51000., 49100., 48200., 48300., 48850., 47700., 47650.,\n",
       "       46850., 46600., 46700., 46900., 47700., 48450., 47050., 47850.,\n",
       "       47100., 47150., 47600., 48300., 48050., 49000.], dtype=float32)"
      ]
     },
     "execution_count": 26,
     "metadata": {},
     "output_type": "execute_result"
    }
   ],
   "source": [
    "import numpy as np\n",
    "# np.loadtxt('kakao.csv') # 이렇게 하면 에러가 나옴= 첫번째 행이 문자열인데 읽으려고 해서 안됨\n",
    "# np.loadtxt('kakao.csv', skiprows=1, dtype=np.float32, delimiter=',') # 이렇게 하면 날짜 타입을 변환할 수 없다고 함.\n",
    "# 첫번째 열을 제거해야 읽어올 수 있음. 그러므로 새로 파일을 읽어옴\n",
    "kakao_arr = np.loadtxt('kakao_pre.csv', skiprows=1, dtype=np.float32, delimiter=',')\n",
    "print(kakao_arr.shape)\n",
    "kakao_arr[:5]\n",
    "kakao_arr[:,2]"
   ]
  },
  {
   "cell_type": "code",
   "execution_count": 1,
   "id": "f9d5cf80",
   "metadata": {},
   "outputs": [],
   "source": [
    "import FinanceDataReader as fdr"
   ]
  },
  {
   "cell_type": "code",
   "execution_count": 2,
   "id": "d887566f",
   "metadata": {},
   "outputs": [
    {
     "data": {
      "text/plain": [
       "pandas.core.frame.DataFrame"
      ]
     },
     "execution_count": 2,
     "metadata": {},
     "output_type": "execute_result"
    }
   ],
   "source": [
    "df_krx = fdr.StockListing('KRX')\n",
    "type(df_krx)"
   ]
  },
  {
   "cell_type": "code",
   "execution_count": null,
   "id": "86be1b07",
   "metadata": {},
   "outputs": [],
   "source": [
    "df_krx"
   ]
  },
  {
   "cell_type": "code",
   "execution_count": null,
   "id": "4162d406",
   "metadata": {},
   "outputs": [],
   "source": [
    "# 연습문제"
   ]
  },
  {
   "cell_type": "code",
   "execution_count": 30,
   "id": "007b9fe3",
   "metadata": {},
   "outputs": [
    {
     "data": {
      "text/plain": [
       "array([[10, 20, 30, 40],\n",
       "       [50, 60, 70, 80]])"
      ]
     },
     "execution_count": 30,
     "metadata": {},
     "output_type": "execute_result"
    }
   ],
   "source": [
    "# 1.\n",
    "# 넘파이를 사용하여 다음과 같은 행렬을 만든다.\n",
    "# 10 20 30 40\n",
    "# 50 60 70 80\n",
    "import numpy as np\n",
    "nums = np.array(list(range(10,90,10))).reshape(2,4)\n",
    "nums"
   ]
  },
  {
   "cell_type": "code",
   "execution_count": 35,
   "id": "53a668e3",
   "metadata": {},
   "outputs": [
    {
     "name": "stdout",
     "output_type": "stream",
     "text": [
      "7\n",
      "14\n",
      "[ 7 12]\n",
      "[[3 4]\n",
      " [8 9]]\n"
     ]
    }
   ],
   "source": [
    "# 2.\n",
    "# 다음 행렬과 같은 행렬이 있다.\n",
    "\n",
    "# m = np.array([[ 0,  1,  2,  3,  4],\n",
    "#             [ 5,  6,  7,  8,  9],\n",
    "#             [10, 11, 12, 13, 14]])\n",
    "# 이 행렬에서 값 7 을 인덱싱한다.\n",
    "# 이 행렬에서 값 14 을 인덱싱한다.\n",
    "# 이 행렬에서 배열 [6, 7] 을 슬라이싱한다.\n",
    "# 이 행렬에서 배열 [7, 12] 을 슬라이싱한다.\n",
    "# 이 행렬에서 배열 [[3, 4], [8, 9]] 을 슬라이싱한다.\n",
    "m = np.array([[ 0,  1,  2,  3,  4],\n",
    "            [ 5,  6,  7,  8,  9],\n",
    "            [10, 11, 12, 13, 14]])\n",
    "print(m[1,2])\n",
    "print(m[-1,-1])\n",
    "print(m[1:,2])\n",
    "print(m[:2,3:])"
   ]
  },
  {
   "cell_type": "code",
   "execution_count": 65,
   "id": "27df74b9",
   "metadata": {},
   "outputs": [
    {
     "data": {
      "text/plain": [
       "array([10, 11, 12, 13, 14, 15, 16, 17, 18, 19, 20, 21, 22, 23, 24, 25, 26,\n",
       "       27, 28, 29, 30, 31, 32, 33, 34, 35, 36, 37, 38, 39, 40, 41, 42, 43,\n",
       "       44, 45, 46, 47, 48, 49])"
      ]
     },
     "execution_count": 65,
     "metadata": {},
     "output_type": "execute_result"
    }
   ],
   "source": [
    "# 3. 값이 10에서 49를 원소로 가지고 있는 벡터 만들기\n",
    "# nums = np.array(list(range(10,50))).reshape(5,8)\n",
    "nums = np.array(list(range(10,50)))\n",
    "nums"
   ]
  },
  {
   "cell_type": "code",
   "execution_count": 66,
   "id": "deadb70b",
   "metadata": {},
   "outputs": [
    {
     "name": "stdout",
     "output_type": "stream",
     "text": [
      "[49 48 47 46 45 44 43 42 41 40 39 38 37 36 35 34 33 32 31 30 29 28 27 26\n",
      " 25 24 23 22 21 20 19 18 17 16 15 14 13 12 11 10]\n"
     ]
    }
   ],
   "source": [
    "# 4. 3번 배열의 원소를 뒤집어 출력\n",
    "print(nums[::-1])"
   ]
  },
  {
   "cell_type": "code",
   "execution_count": 69,
   "id": "f48c634e",
   "metadata": {},
   "outputs": [
    {
     "name": "stdout",
     "output_type": "stream",
     "text": [
      "           Date     Open     High      Low    Close  Adj Close    Volume\n",
      "241  2024-04-26  77800.0  77900.0  76500.0  76700.0    76700.0  12755629\n",
      "242  2024-04-29  77400.0  77600.0  76200.0  76700.0    76700.0  14664474\n",
      "243  2024-04-30  77000.0  78500.0  76600.0  77500.0    77500.0  19007007\n",
      "244  2024-05-02  77600.0  78600.0  77300.0  78000.0    78000.0  18900640\n",
      "245  2024-05-03  79000.0  79000.0  77500.0  77700.0    77700.0  11957343\n"
     ]
    },
    {
     "data": {
      "text/plain": [
       "array([[   77600.,    78600.,    77300.,    78000.,    78000., 18900640.],\n",
       "       [   79000.,    79000.,    77500.,    77700.,    77700., 11957343.]],\n",
       "      dtype=float32)"
      ]
     },
     "execution_count": 69,
     "metadata": {},
     "output_type": "execute_result"
    }
   ],
   "source": [
    "# 5. 삼성전자 주가 데이터 다운로드\n",
    "# -날짜 열 제거\n",
    "# -시가, 종가, 고가, 저가, 거래량을 각각 추출\n",
    "# -2024년 5월 1일~ 5월 3일까지 데이터만 추출\n",
    "# -슬라이싱, 인덱싱 연습\n",
    "import pandas as pd\n",
    "df = pd.read_csv('samsung_electronic.csv')\n",
    "print(df.tail()) # 24년 5월은 3일까지의 데이터는 2일밖에 없음\n",
    "df.drop('Date', axis=1, inplace=True)\n",
    "df.to_csv('ss_electronic_stock.csv', index=False, encoding='utf-8')\n",
    "ss_stock = np.loadtxt('ss_electronic_stock.csv', skiprows=1, dtype=np.float32, delimiter=',')\n",
    "ss_stock[-2:]"
   ]
  }
 ],
 "metadata": {
  "kernelspec": {
   "display_name": "Python 3 (ipykernel)",
   "language": "python",
   "name": "python3"
  },
  "language_info": {
   "codemirror_mode": {
    "name": "ipython",
    "version": 3
   },
   "file_extension": ".py",
   "mimetype": "text/x-python",
   "name": "python",
   "nbconvert_exporter": "python",
   "pygments_lexer": "ipython3",
   "version": "3.10.9"
  }
 },
 "nbformat": 4,
 "nbformat_minor": 5
}
