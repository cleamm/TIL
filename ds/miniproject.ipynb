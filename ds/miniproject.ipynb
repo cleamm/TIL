{
 "cells": [
  {
   "cell_type": "markdown",
   "metadata": {},
   "source": [
    "matplotlib\n",
    "- 분석 개요: 9시~9시20분\n",
    "- 분석: 9시20분~오후4시50분\n",
    "- 점심: 11시50분 ~ 오후 1시\n",
    "- 발표: 5시~5시40분(인당 약 5분)\n",
    "\n",
    "미니프로젝트 종류\n",
    "- 타이타닉, pclass = passenger class\n",
    "- 미국 태생 아이들 이름 분석(120년), \n",
    "- 의료데이터(사이트), \n",
    "- 자전거 대여 데이터, \n",
    "- 사회복지 데이터\n",
    "- 졸음운전 교통사고 분석\n",
    "\n",
    "- data.go.kr\n",
    "- aihub.or.kr\n",
    "- kaggle.com\n",
    "- dacon.io\n",
    "- 통계청 등 각 공공기관 open api"
   ]
  },
  {
   "cell_type": "code",
   "execution_count": null,
   "metadata": {},
   "outputs": [],
   "source": [
    "# 빈값을 채우기 위해...\n",
    "# 중위수? 평균값? 같은 클래스의 값? 이전데이터의 값과 동일하게? 아니면 보간법?\n",
    "# 이런 것들은 도메인 날리지(domain knowledge = 분야지식)이 필요함\n",
    "# 데이터 삭제는 하지 않는 쪽으로...ㅎㅎ 그래도 공부하는 건데.."
   ]
  },
  {
   "cell_type": "code",
   "execution_count": 1,
   "metadata": {},
   "outputs": [],
   "source": [
    "# https://opendata.hira.or.kr/op/opc/selectOpenData.do?sno=12800&publDataTpCd=&searchCnd=&searchWrd=&pageIndex=1\n",
    "# https://www.data.go.kr/data/15118810/fileData.do\n",
    "# 위 주소에서 다운로드하여 데이터 분석\n",
    "import pandas as pd\n",
    "import numpy as np"
   ]
  },
  {
   "cell_type": "code",
   "execution_count": 11,
   "metadata": {},
   "outputs": [
    {
     "data": {
      "text/plain": [
       "datetime      0\n",
       "season        0\n",
       "holiday       0\n",
       "workingday    0\n",
       "weather       0\n",
       "temp          0\n",
       "atemp         0\n",
       "humidity      0\n",
       "windspeed     0\n",
       "casual        0\n",
       "registered    0\n",
       "count         0\n",
       "dtype: int64"
      ]
     },
     "execution_count": 11,
     "metadata": {},
     "output_type": "execute_result"
    }
   ],
   "source": [
    "df.isnull().sum()"
   ]
  },
  {
   "cell_type": "code",
   "execution_count": null,
   "metadata": {},
   "outputs": [],
   "source": [
    "# 한글깨짐 현상 방지 코드\n",
    "import matplotlib\n",
    "from matplotlib import font_manager, rc\n",
    "import platform\n",
    "if platform.system()==\"Windows\":\n",
    "    font_name=font_manager.FontProperties(fname=\"c:/Windows/Fonts/malgun.ttf\").get_name()\n",
    "    rc('font', family=font_name)\n",
    "matplotlib.rcParams['axes.unicode_minus']=False\n",
    "\n",
    "import warnings\n",
    "warnings.filterwarnings(\"ignore\")"
   ]
  },
  {
   "cell_type": "code",
   "execution_count": null,
   "metadata": {},
   "outputs": [],
   "source": [
    "df = pd.read_csv('mental/시군구 성별 연령별 주요 정실질환 통계 2018~2022.csv', encoding='cp949')\n",
    "df.상별구분.unique()\n",
    "df\n",
    "# 어떤 질병을 많이 진단받았는가, \n",
    "# 각 질병별 급여비용이 얼마인가? \n",
    "# 입내원일수가 질병별 어느정도고 심각한 입내원일수는 어떤 질병?\n",
    "# 해가 지날수록 늘어나는가?\n",
    "# 어느지역에 많이 분포되는가? 혹은 특정지역이 많이 분포되었으나 다른 지역이 특이점을 보이는가?\n",
    "# 환자수가 어떤 변화를 보이는가?\n",
    "# 성별로는 어떤 차이가 있는가?\n",
    "# 비용은 어떤 추세인가?\n",
    "\n",
    "# 연령대별 질병 분포 및 비용 분석:\n",
    "# 연령대별로 특정 질병이 많이 발생하는지 확인.\n",
    "# 연령대별 요양급여비용이 어떻게 다른지 분석.\n",
    "# 계절별 트렌드 분석:           각 질병의 계절별 발생 패턴을 분석하여 특정 계절에 더 많이 발생하는 질병을 파악.\n",
    "# 환자수 대비 급여비용 비율:    환자수 대비 요양급여비용을 분석하여 비용 효율성을 평가.\n",
    "# 치료 기간 분석:               각 질병별 평균 치료 기간을 계산하고, 치료 기간이 긴 질병을 파악.\n",
    "# 입원 vs 외래 진료 분석:       질병별로 입원 환자와 외래 환자의 비율을 분석.\n",
    "# 재발률 분석:                  같은 환자가 같은 질병으로 여러 번 진단받는 경우를 분석하여 재발률을 평가.\n",
    "# 성별 및 연령대별 질병 특성:   성별 및 연령대별로 특정 질병이 더 많이 진단되는지 파악.\n",
    "# 특정 성별, 연령대에서 치료 비용이 더 많이 드는지 분석.\n",
    "# 지역별 의료 자원 접근성: 특정 지역의 의료 자원 접근성이 질병 진단 및 치료에 미치는 영향을 분석.\n",
    "# 사회경제적 요인 분석: 지역별 사회경제적 지표(예: 소득 수준, 교육 수준)와 질병 발생률 및 치료 비용 간의 상관관계를 분석.\n",
    "# 질병 발생 및 치료의 시간적 추세 분석: 특정 질병의 발생 및 치료가 특정 시간대(예: 월별, 연도별)와 어떤 관계가 있는지 분석.\n",
    "# 비용 대비 효과 분석: 질병별 치료 비용과 치료 효과(예: 완치율, 재발율)를 비교 분석.\n",
    "# 병원 유형별 분석: 병원 유형(예: 대형 병원, 중소 병원, 클리닉 등)에 따른 질병 발생 및 치료 비용 차이 분석.\n",
    "# 의료정책 변화의 영향 분석: 특정 연도에 시행된 의료정책이 질병 진단 및 치료에 미친 영향을 분석.\n",
    "\n",
    "# 데이터 시각화 아이디어\n",
    "# 히트맵:    지역별 질병 발생 분포를 시각화하여 한눈에 지역별 특성을 파악.\n",
    "# 트렌드     라인: 연도별 환자수, 급여비용, 입내원일수 등을 시각화하여 시간적 추세를 파악.\n",
    "# 파이 차트: 성별, 연령대별 질병 분포를 시각화하여 각 그룹의 비율을 파악.\n",
    "# 박스 플롯: 각 질병별 치료 비용의 분포를 시각화하여 비용의 변동성을 파악.\n",
    "# 산점도:    입내원일수와 급여비용 간의 상관관계를 시각화하여 질병의 심각도와 비용 간의 관계를 파악.\n",
    "# 이러한 분석과 시각화 아이디어를 통해 데이터의 다양한 측면을 다각도로 분석할 수 있습니다. 이를 통해 질병의 발생, 치료, 비용 등에 대한 보다 깊은 이해를 도출할 수 있을 것입니다."
   ]
  },
  {
   "cell_type": "code",
   "execution_count": null,
   "metadata": {},
   "outputs": [],
   "source": [
    "df2 = pd.read_csv('mental/시군구 성별 주요정실질환 통계 2018-2022.csv',encoding='cp949')\n",
    "df2.columns"
   ]
  }
 ],
 "metadata": {
  "kernelspec": {
   "display_name": "Python 3",
   "language": "python",
   "name": "python3"
  },
  "language_info": {
   "codemirror_mode": {
    "name": "ipython",
    "version": 3
   },
   "file_extension": ".py",
   "mimetype": "text/x-python",
   "name": "python",
   "nbconvert_exporter": "python",
   "pygments_lexer": "ipython3",
   "version": "3.10.9"
  }
 },
 "nbformat": 4,
 "nbformat_minor": 2
}
