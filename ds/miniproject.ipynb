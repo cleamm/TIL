{
 "cells": [
  {
   "cell_type": "markdown",
   "metadata": {},
   "source": [
    "matplotlib\n",
    "- 분석 개요: 9시~9시20분\n",
    "- 분석: 9시20분~오후4시30분\n",
    "- 점심: 11시50분 ~ 오후 1시\n",
    "- 발표: 4시30분~5시40분(인당 약 5~10분)\n",
    "\n",
    "미니프로젝트 종류\n",
    "- 타이타닉, pclass = passenger class\n",
    "- 미국 태생 아이들 이름 분석(120년), \n",
    "- 의료데이터(사이트), \n",
    "- 자전거 대여 데이터, \n",
    "- 사회복지 데이터\n",
    "- 졸음운전 교통사고 분석\n",
    "\n",
    "- data.go.kr\n",
    "- aihub.or.kr\n",
    "- kaggle.com\n",
    "- dacon.io\n",
    "- 통계청 등 각 공공기관 open api"
   ]
  },
  {
   "cell_type": "code",
   "execution_count": 1,
   "metadata": {},
   "outputs": [],
   "source": [
    "# 빈값을 채우기 위해...\n",
    "# 중위수? 평균값? 같은 클래스의 값? 이전데이터의 값과 동일하게? 아니면 보간법?\n",
    "# 이런 것들은 도메인 날리지(domain knowledge = 분야지식)이 필요함\n",
    "# 데이터 삭제는 하지 않는 쪽으로...ㅎㅎ 그래도 공부하는 건데.."
   ]
  },
  {
   "cell_type": "code",
   "execution_count": 2,
   "metadata": {},
   "outputs": [],
   "source": [
    "# 어떤 질병을 많이 진단받았는가, \n",
    "# 각 질병별 급여비용이 얼마인가? \n",
    "# 입내원일수가 질병별 어느정도고 심각한 입내원일수는 어떤 질병?\n",
    "# 해가 지날수록 늘어나는가?\n",
    "# 어느지역에 많이 분포되는가? 혹은 특정지역이 많이 분포되었으나 다른 지역이 특이점을 보이는가?\n",
    "# 환자수가 어떤 변화를 보이는가?\n",
    "# 성별로는 어떤 차이가 있는가?\n",
    "# 비용은 어떤 추세인가?\n",
    "\n",
    "# 연령대별 질병 분포 및 비용 분석:\n",
    "# 연령대별로 특정 질병이 많이 발생하는지 확인.\n",
    "# 연령대별 요양급여비용이 어떻게 다른지 분석.\n",
    "\n",
    "# 환자수 대비 급여비용 비율:    환자수 대비 요양급여비용을 분석하여 비용 효율성을 평가.\n",
    "# 치료 기간 분석:               각 질병별 평균 치료 기간을 계산하고, 치료 기간이 긴 질병을 파악.\n",
    "# 성별 및 연령대별 질병 특성:   성별 및 연령대별로 특정 질병이 더 많이 진단되는지 파악.\n",
    "# 특정 성별, 연령대에서 치료 비용이 더 많이 드는지 분석.\n",
    "# 지역별 의료 자원 접근성: 특정 지역의 의료 자원 접근성이 질병 진단 및 치료에 미치는 영향을 분석.\n",
    "# 사회경제적 요인 분석: 지역별 사회경제적 지표(예: 소득 수준, 교육 수준)와 질병 발생률 및 치료 비용 간의 상관관계를 분석.\n",
    "# 의료정책 변화의 영향 분석: 특정 연도에 시행된 의료정책이 질병 진단 및 치료에 미친 영향을 분석.\n",
    "\n",
    "# 데이터 시각화 아이디어\n",
    "# 히트맵:       지역별 질병 발생 분포를 시각화하여 한눈에 지역별 특성을 파악.\n",
    "# 트렌드 라인:  연도별 환자수, 급여비용, 입내원일수 등을 시각화하여 시간적 추세를 파악.\n",
    "# 파이 차트:    성별, 연령대별 질병 분포를 시각화하여 각 그룹의 비율을 파악.\n",
    "# 박스 플롯:    각 질병별 치료 비용의 분포를 시각화하여 비용의 변동성을 파악.\n",
    "# 산점도:       입내원일수와 급여비용 간의 상관관계를 시각화하여 질병의 심각도와 비용 간의 관계를 파악."
   ]
  },
  {
   "cell_type": "markdown",
   "metadata": {},
   "source": [
    "<!-- 시군구 성별 연령별 주요 정신질환 통계 데이터 분석 -->\n",
    "데이터셋 선정 이유\n",
    "- 사회적인 현상에 대해서 관심이 있음\n",
    "- 특히 사회가 발전하고 고령화가 진행되는 사회의 원인과 결과를 직접 해석하는 것에 의의를 둠\n",
    "- 재밌어 보임."
   ]
  },
  {
   "cell_type": "markdown",
   "metadata": {},
   "source": [
    "진행내용\n",
    "- 라이브러리 가져오기\n",
    "- 데이터 가져오기\n",
    "- 결측값 확인\n",
    "- \n",
    "- 환자수 증가 추이\n",
    "- 질병별 환자수 추이\n",
    "- 질병별 환자 및 연령에 따른 비용 비교\n",
    "- 성별에 따른 연령별 환자수 확인\n",
    "- 연도와 지역에 따른 인구와 질환자 비율\n",
    "- 치료 기간"
   ]
  },
  {
   "cell_type": "markdown",
   "metadata": {},
   "source": [
    "# 라이브러리 가져오기"
   ]
  },
  {
   "cell_type": "code",
   "execution_count": 3,
   "metadata": {},
   "outputs": [],
   "source": [
    "# https://opendata.hira.or.kr/op/opc/selectOpenData.do?sno=12800&publDataTpCd=&searchCnd=&searchWrd=&pageIndex=1\n",
    "# https://www.data.go.kr/data/15118810/fileData.do\n",
    "# 위 주소에서 다운로드하여 데이터 분석\n",
    "import pandas as pd\n",
    "import numpy as np\n",
    "import matplotlib.pyplot as plt\n",
    "import seaborn as sns"
   ]
  },
  {
   "cell_type": "code",
   "execution_count": 4,
   "metadata": {},
   "outputs": [],
   "source": [
    "# 한글깨짐 현상 방지 코드\n",
    "import matplotlib\n",
    "from matplotlib import font_manager, rc\n",
    "import platform\n",
    "if platform.system()==\"Windows\":\n",
    "    font_name=font_manager.FontProperties(fname=\"c:/Windows/Fonts/malgun.ttf\").get_name()\n",
    "    rc('font', family=font_name)\n",
    "matplotlib.rcParams['axes.unicode_minus']=False\n",
    "\n",
    "import warnings\n",
    "warnings.filterwarnings(\"ignore\")"
   ]
  },
  {
   "cell_type": "markdown",
   "metadata": {},
   "source": [
    "# 데이터 가져오기"
   ]
  },
  {
   "cell_type": "code",
   "execution_count": 5,
   "metadata": {},
   "outputs": [
    {
     "data": {
      "text/html": [
       "<div>\n",
       "<style scoped>\n",
       "    .dataframe tbody tr th:only-of-type {\n",
       "        vertical-align: middle;\n",
       "    }\n",
       "\n",
       "    .dataframe tbody tr th {\n",
       "        vertical-align: top;\n",
       "    }\n",
       "\n",
       "    .dataframe thead th {\n",
       "        text-align: right;\n",
       "    }\n",
       "</style>\n",
       "<table border=\"1\" class=\"dataframe\">\n",
       "  <thead>\n",
       "    <tr style=\"text-align: right;\">\n",
       "      <th></th>\n",
       "      <th>진료년도</th>\n",
       "      <th>상별구분</th>\n",
       "      <th>시도</th>\n",
       "      <th>시군구</th>\n",
       "      <th>성별</th>\n",
       "      <th>연령구분</th>\n",
       "      <th>환자수</th>\n",
       "      <th>입내원일수</th>\n",
       "      <th>요양급여비용</th>\n",
       "    </tr>\n",
       "  </thead>\n",
       "  <tbody>\n",
       "    <tr>\n",
       "      <th>0</th>\n",
       "      <td>2018</td>\n",
       "      <td>ADHD</td>\n",
       "      <td>서울</td>\n",
       "      <td>강남구</td>\n",
       "      <td>남</td>\n",
       "      <td>0~9세</td>\n",
       "      <td>437</td>\n",
       "      <td>3330</td>\n",
       "      <td>188836790</td>\n",
       "    </tr>\n",
       "    <tr>\n",
       "      <th>1</th>\n",
       "      <td>2018</td>\n",
       "      <td>ADHD</td>\n",
       "      <td>서울</td>\n",
       "      <td>강남구</td>\n",
       "      <td>남</td>\n",
       "      <td>10~19세</td>\n",
       "      <td>1111</td>\n",
       "      <td>8869</td>\n",
       "      <td>563498480</td>\n",
       "    </tr>\n",
       "    <tr>\n",
       "      <th>2</th>\n",
       "      <td>2018</td>\n",
       "      <td>ADHD</td>\n",
       "      <td>서울</td>\n",
       "      <td>강남구</td>\n",
       "      <td>남</td>\n",
       "      <td>20~29세</td>\n",
       "      <td>456</td>\n",
       "      <td>3485</td>\n",
       "      <td>213248290</td>\n",
       "    </tr>\n",
       "    <tr>\n",
       "      <th>3</th>\n",
       "      <td>2018</td>\n",
       "      <td>ADHD</td>\n",
       "      <td>서울</td>\n",
       "      <td>강남구</td>\n",
       "      <td>남</td>\n",
       "      <td>30~39세</td>\n",
       "      <td>174</td>\n",
       "      <td>1357</td>\n",
       "      <td>72761750</td>\n",
       "    </tr>\n",
       "    <tr>\n",
       "      <th>4</th>\n",
       "      <td>2018</td>\n",
       "      <td>ADHD</td>\n",
       "      <td>서울</td>\n",
       "      <td>강남구</td>\n",
       "      <td>남</td>\n",
       "      <td>40~49세</td>\n",
       "      <td>55</td>\n",
       "      <td>357</td>\n",
       "      <td>21611080</td>\n",
       "    </tr>\n",
       "  </tbody>\n",
       "</table>\n",
       "</div>"
      ],
      "text/plain": [
       "   진료년도  상별구분  시도  시군구 성별    연령구분   환자수  입내원일수     요양급여비용\n",
       "0  2018  ADHD  서울  강남구  남    0~9세   437   3330  188836790\n",
       "1  2018  ADHD  서울  강남구  남  10~19세  1111   8869  563498480\n",
       "2  2018  ADHD  서울  강남구  남  20~29세   456   3485  213248290\n",
       "3  2018  ADHD  서울  강남구  남  30~39세   174   1357   72761750\n",
       "4  2018  ADHD  서울  강남구  남  40~49세    55    357   21611080"
      ]
     },
     "execution_count": 5,
     "metadata": {},
     "output_type": "execute_result"
    }
   ],
   "source": [
    "df = pd.read_csv('mental/시군구 성별 연령별 주요 정실질환 통계 2018~2022.csv', encoding='cp949')\n",
    "df.head()"
   ]
  },
  {
   "cell_type": "code",
   "execution_count": 6,
   "metadata": {},
   "outputs": [
    {
     "name": "stdout",
     "output_type": "stream",
     "text": [
      "<class 'pandas.core.frame.DataFrame'>\n",
      "RangeIndex: 165000 entries, 0 to 164999\n",
      "Data columns (total 9 columns):\n",
      " #   Column  Non-Null Count   Dtype \n",
      "---  ------  --------------   ----- \n",
      " 0   진료년도    165000 non-null  int64 \n",
      " 1   상별구분    165000 non-null  object\n",
      " 2   시도      165000 non-null  object\n",
      " 3   시군구     165000 non-null  object\n",
      " 4   성별      165000 non-null  object\n",
      " 5   연령구분    165000 non-null  object\n",
      " 6   환자수     165000 non-null  int64 \n",
      " 7   입내원일수   165000 non-null  int64 \n",
      " 8   요양급여비용  165000 non-null  int64 \n",
      "dtypes: int64(4), object(5)\n",
      "memory usage: 11.3+ MB\n"
     ]
    },
    {
     "data": {
      "text/html": [
       "<div>\n",
       "<style scoped>\n",
       "    .dataframe tbody tr th:only-of-type {\n",
       "        vertical-align: middle;\n",
       "    }\n",
       "\n",
       "    .dataframe tbody tr th {\n",
       "        vertical-align: top;\n",
       "    }\n",
       "\n",
       "    .dataframe thead th {\n",
       "        text-align: right;\n",
       "    }\n",
       "</style>\n",
       "<table border=\"1\" class=\"dataframe\">\n",
       "  <thead>\n",
       "    <tr style=\"text-align: right;\">\n",
       "      <th></th>\n",
       "      <th>진료년도</th>\n",
       "      <th>환자수</th>\n",
       "      <th>입내원일수</th>\n",
       "      <th>요양급여비용</th>\n",
       "    </tr>\n",
       "  </thead>\n",
       "  <tbody>\n",
       "    <tr>\n",
       "      <th>count</th>\n",
       "      <td>165000.000000</td>\n",
       "      <td>165000.000000</td>\n",
       "      <td>165000.000000</td>\n",
       "      <td>1.650000e+05</td>\n",
       "    </tr>\n",
       "    <tr>\n",
       "      <th>mean</th>\n",
       "      <td>2020.000000</td>\n",
       "      <td>86.157673</td>\n",
       "      <td>621.043145</td>\n",
       "      <td>3.860845e+07</td>\n",
       "    </tr>\n",
       "    <tr>\n",
       "      <th>std</th>\n",
       "      <td>1.414218</td>\n",
       "      <td>193.002516</td>\n",
       "      <td>1406.831330</td>\n",
       "      <td>1.029413e+08</td>\n",
       "    </tr>\n",
       "    <tr>\n",
       "      <th>min</th>\n",
       "      <td>2018.000000</td>\n",
       "      <td>0.000000</td>\n",
       "      <td>0.000000</td>\n",
       "      <td>0.000000e+00</td>\n",
       "    </tr>\n",
       "    <tr>\n",
       "      <th>25%</th>\n",
       "      <td>2019.000000</td>\n",
       "      <td>0.000000</td>\n",
       "      <td>0.000000</td>\n",
       "      <td>0.000000e+00</td>\n",
       "    </tr>\n",
       "    <tr>\n",
       "      <th>50%</th>\n",
       "      <td>2020.000000</td>\n",
       "      <td>10.000000</td>\n",
       "      <td>21.000000</td>\n",
       "      <td>3.747500e+05</td>\n",
       "    </tr>\n",
       "    <tr>\n",
       "      <th>75%</th>\n",
       "      <td>2021.000000</td>\n",
       "      <td>79.000000</td>\n",
       "      <td>618.000000</td>\n",
       "      <td>3.038176e+07</td>\n",
       "    </tr>\n",
       "    <tr>\n",
       "      <th>max</th>\n",
       "      <td>2022.000000</td>\n",
       "      <td>6311.000000</td>\n",
       "      <td>48418.000000</td>\n",
       "      <td>5.132790e+09</td>\n",
       "    </tr>\n",
       "  </tbody>\n",
       "</table>\n",
       "</div>"
      ],
      "text/plain": [
       "                진료년도            환자수          입내원일수        요양급여비용\n",
       "count  165000.000000  165000.000000  165000.000000  1.650000e+05\n",
       "mean     2020.000000      86.157673     621.043145  3.860845e+07\n",
       "std         1.414218     193.002516    1406.831330  1.029413e+08\n",
       "min      2018.000000       0.000000       0.000000  0.000000e+00\n",
       "25%      2019.000000       0.000000       0.000000  0.000000e+00\n",
       "50%      2020.000000      10.000000      21.000000  3.747500e+05\n",
       "75%      2021.000000      79.000000     618.000000  3.038176e+07\n",
       "max      2022.000000    6311.000000   48418.000000  5.132790e+09"
      ]
     },
     "execution_count": 6,
     "metadata": {},
     "output_type": "execute_result"
    }
   ],
   "source": [
    "df.info()\n",
    "df.describe()"
   ]
  },
  {
   "cell_type": "markdown",
   "metadata": {},
   "source": [
    "# 결측값 확인"
   ]
  },
  {
   "cell_type": "code",
   "execution_count": 7,
   "metadata": {},
   "outputs": [
    {
     "data": {
      "text/plain": [
       "진료년도      0\n",
       "상별구분      0\n",
       "시도        0\n",
       "시군구       0\n",
       "성별        0\n",
       "연령구분      0\n",
       "환자수       0\n",
       "입내원일수     0\n",
       "요양급여비용    0\n",
       "dtype: int64"
      ]
     },
     "execution_count": 7,
     "metadata": {},
     "output_type": "execute_result"
    }
   ],
   "source": [
    "df.isnull().sum()"
   ]
  },
  {
   "cell_type": "code",
   "execution_count": 8,
   "metadata": {},
   "outputs": [
    {
     "data": {
      "text/plain": [
       "진료년도                                               30300000\n",
       "상별구분      ADHDADHDADHDADHDADHDADHDADHDADHDADHDADHDADHDAD...\n",
       "시도        서울서울서울서울서울서울서울서울서울서울서울서울서울서울서울서울서울서울서울서울서울서울서울...\n",
       "시군구       강남구강남구강동구강동구강서구강서구관악구관악구구로구구로구도봉구도봉구동대문구동대문구동작...\n",
       "성별        남여남여남여남여남여남여남여남여남여남여남여남여남여남여남여남여남여남여남여남여남여남여남여...\n",
       "연령구분      100세 이상100세 이상100세 이상100세 이상100세 이상100세 이상100세...\n",
       "환자수                                                       0\n",
       "입내원일수                                                     0\n",
       "요양급여비용                                                    0\n",
       "dtype: object"
      ]
     },
     "execution_count": 8,
     "metadata": {},
     "output_type": "execute_result"
    }
   ],
   "source": [
    "df[df.연령구분 == '100세 이상'].sum() # 100세이상은 없음"
   ]
  },
  {
   "cell_type": "code",
   "execution_count": 9,
   "metadata": {},
   "outputs": [
    {
     "data": {
      "text/html": [
       "<div>\n",
       "<style scoped>\n",
       "    .dataframe tbody tr th:only-of-type {\n",
       "        vertical-align: middle;\n",
       "    }\n",
       "\n",
       "    .dataframe tbody tr th {\n",
       "        vertical-align: top;\n",
       "    }\n",
       "\n",
       "    .dataframe thead th {\n",
       "        text-align: right;\n",
       "    }\n",
       "</style>\n",
       "<table border=\"1\" class=\"dataframe\">\n",
       "  <thead>\n",
       "    <tr style=\"text-align: right;\">\n",
       "      <th></th>\n",
       "      <th>진료년도</th>\n",
       "      <th>상별구분</th>\n",
       "      <th>시도</th>\n",
       "      <th>시군구</th>\n",
       "      <th>성별</th>\n",
       "      <th>연령구분</th>\n",
       "      <th>환자수</th>\n",
       "      <th>입내원일수</th>\n",
       "      <th>요양급여비용</th>\n",
       "    </tr>\n",
       "  </thead>\n",
       "  <tbody>\n",
       "    <tr>\n",
       "      <th>0</th>\n",
       "      <td>2018</td>\n",
       "      <td>ADHD</td>\n",
       "      <td>서울</td>\n",
       "      <td>강남구</td>\n",
       "      <td>남</td>\n",
       "      <td>0~9세</td>\n",
       "      <td>437</td>\n",
       "      <td>3330</td>\n",
       "      <td>188836790</td>\n",
       "    </tr>\n",
       "    <tr>\n",
       "      <th>1</th>\n",
       "      <td>2018</td>\n",
       "      <td>ADHD</td>\n",
       "      <td>서울</td>\n",
       "      <td>강남구</td>\n",
       "      <td>남</td>\n",
       "      <td>10~19세</td>\n",
       "      <td>1111</td>\n",
       "      <td>8869</td>\n",
       "      <td>563498480</td>\n",
       "    </tr>\n",
       "    <tr>\n",
       "      <th>2</th>\n",
       "      <td>2018</td>\n",
       "      <td>ADHD</td>\n",
       "      <td>서울</td>\n",
       "      <td>강남구</td>\n",
       "      <td>남</td>\n",
       "      <td>20~29세</td>\n",
       "      <td>456</td>\n",
       "      <td>3485</td>\n",
       "      <td>213248290</td>\n",
       "    </tr>\n",
       "    <tr>\n",
       "      <th>3</th>\n",
       "      <td>2018</td>\n",
       "      <td>ADHD</td>\n",
       "      <td>서울</td>\n",
       "      <td>강남구</td>\n",
       "      <td>남</td>\n",
       "      <td>30~39세</td>\n",
       "      <td>174</td>\n",
       "      <td>1357</td>\n",
       "      <td>72761750</td>\n",
       "    </tr>\n",
       "    <tr>\n",
       "      <th>4</th>\n",
       "      <td>2018</td>\n",
       "      <td>ADHD</td>\n",
       "      <td>서울</td>\n",
       "      <td>강남구</td>\n",
       "      <td>남</td>\n",
       "      <td>40~49세</td>\n",
       "      <td>55</td>\n",
       "      <td>357</td>\n",
       "      <td>21611080</td>\n",
       "    </tr>\n",
       "    <tr>\n",
       "      <th>...</th>\n",
       "      <td>...</td>\n",
       "      <td>...</td>\n",
       "      <td>...</td>\n",
       "      <td>...</td>\n",
       "      <td>...</td>\n",
       "      <td>...</td>\n",
       "      <td>...</td>\n",
       "      <td>...</td>\n",
       "      <td>...</td>\n",
       "    </tr>\n",
       "    <tr>\n",
       "      <th>164994</th>\n",
       "      <td>2022</td>\n",
       "      <td>조현병</td>\n",
       "      <td>세종</td>\n",
       "      <td>세종시</td>\n",
       "      <td>여</td>\n",
       "      <td>50~59세</td>\n",
       "      <td>41</td>\n",
       "      <td>1647</td>\n",
       "      <td>125813150</td>\n",
       "    </tr>\n",
       "    <tr>\n",
       "      <th>164995</th>\n",
       "      <td>2022</td>\n",
       "      <td>조현병</td>\n",
       "      <td>세종</td>\n",
       "      <td>세종시</td>\n",
       "      <td>여</td>\n",
       "      <td>60~69세</td>\n",
       "      <td>29</td>\n",
       "      <td>597</td>\n",
       "      <td>40381390</td>\n",
       "    </tr>\n",
       "    <tr>\n",
       "      <th>164996</th>\n",
       "      <td>2022</td>\n",
       "      <td>조현병</td>\n",
       "      <td>세종</td>\n",
       "      <td>세종시</td>\n",
       "      <td>여</td>\n",
       "      <td>70~79세</td>\n",
       "      <td>13</td>\n",
       "      <td>550</td>\n",
       "      <td>39400730</td>\n",
       "    </tr>\n",
       "    <tr>\n",
       "      <th>164997</th>\n",
       "      <td>2022</td>\n",
       "      <td>조현병</td>\n",
       "      <td>세종</td>\n",
       "      <td>세종시</td>\n",
       "      <td>여</td>\n",
       "      <td>80~89세</td>\n",
       "      <td>0</td>\n",
       "      <td>0</td>\n",
       "      <td>0</td>\n",
       "    </tr>\n",
       "    <tr>\n",
       "      <th>164998</th>\n",
       "      <td>2022</td>\n",
       "      <td>조현병</td>\n",
       "      <td>세종</td>\n",
       "      <td>세종시</td>\n",
       "      <td>여</td>\n",
       "      <td>90~99세</td>\n",
       "      <td>0</td>\n",
       "      <td>0</td>\n",
       "      <td>0</td>\n",
       "    </tr>\n",
       "  </tbody>\n",
       "</table>\n",
       "<p>150000 rows × 9 columns</p>\n",
       "</div>"
      ],
      "text/plain": [
       "        진료년도  상별구분  시도  시군구 성별    연령구분   환자수  입내원일수     요양급여비용\n",
       "0       2018  ADHD  서울  강남구  남    0~9세   437   3330  188836790\n",
       "1       2018  ADHD  서울  강남구  남  10~19세  1111   8869  563498480\n",
       "2       2018  ADHD  서울  강남구  남  20~29세   456   3485  213248290\n",
       "3       2018  ADHD  서울  강남구  남  30~39세   174   1357   72761750\n",
       "4       2018  ADHD  서울  강남구  남  40~49세    55    357   21611080\n",
       "...      ...   ...  ..  ... ..     ...   ...    ...        ...\n",
       "164994  2022   조현병  세종  세종시  여  50~59세    41   1647  125813150\n",
       "164995  2022   조현병  세종  세종시  여  60~69세    29    597   40381390\n",
       "164996  2022   조현병  세종  세종시  여  70~79세    13    550   39400730\n",
       "164997  2022   조현병  세종  세종시  여  80~89세     0      0          0\n",
       "164998  2022   조현병  세종  세종시  여  90~99세     0      0          0\n",
       "\n",
       "[150000 rows x 9 columns]"
      ]
     },
     "execution_count": 9,
     "metadata": {},
     "output_type": "execute_result"
    }
   ],
   "source": [
    "df = df[df.연령구분 != '100세 이상'] # 100세 이상의 데이터는 전부 제거\n",
    "df"
   ]
  },
  {
   "cell_type": "markdown",
   "metadata": {},
   "source": [
    "# 매해 환자수 변화"
   ]
  },
  {
   "cell_type": "code",
   "execution_count": 10,
   "metadata": {},
   "outputs": [
    {
     "data": {
      "image/png": "[encoded data removed]",
      "text/plain": [
       "<Figure size 640x480 with 1 Axes>"
      ]
     },
     "metadata": {},
     "output_type": "display_data"
    }
   ],
   "source": [
    "plt.plot(df.groupby('진료년도')['환자수'].sum())\n",
    "plt.plot(df[df.성별 == '남'].groupby(['진료년도','성별'])[['환자수']].sum().unstack().loc[:,'환자수']['남'])\n",
    "plt.plot(df[df.성별 == '여'].groupby(['진료년도','성별'])[['환자수']].sum().unstack().loc[:,'환자수']['여'])\n",
    "plt.ylabel('환자수(백만)') # 남녀 총합\n",
    "plt.legend(['남녀총합','남','여'])\n",
    "plt.show()"
   ]
  },
  {
   "cell_type": "markdown",
   "metadata": {},
   "source": [
    "- 매해마다 정신병 환자수가 늘어가고 있음\n",
    "- 특히 여성의 경우는 생물학적으로 감성성이 강한 만큼 정신적인 스트레스에 약한 모습이 보인 것이 아닐까 생각됨. \n",
    "- 혹은 사회적으로 여성에 대한 차별이 부분적으로 존재할 수 있다는 것을 보이기도 함"
   ]
  },
  {
   "cell_type": "markdown",
   "metadata": {},
   "source": [
    "# 정신질환 전체 환자수"
   ]
  },
  {
   "cell_type": "code",
   "execution_count": 11,
   "metadata": {},
   "outputs": [
    {
     "data": {
      "text/plain": [
       "상별구분\n",
       "ADHD     502774\n",
       "불면증     3549496\n",
       "불안장애    4132425\n",
       "우울증     4720207\n",
       "조울증      620314\n",
       "조현병      690800\n",
       "Name: 환자수, dtype: int64"
      ]
     },
     "execution_count": 11,
     "metadata": {},
     "output_type": "execute_result"
    }
   ],
   "source": [
    "df.groupby(df.상별구분)['환자수'].sum() # 18년도부터 22년도까지 우울증이 472만명으로 제일 많은 환자가 있음"
   ]
  },
  {
   "cell_type": "markdown",
   "metadata": {},
   "source": [
    "# 질병별 환자수 추이"
   ]
  },
  {
   "cell_type": "code",
   "execution_count": 12,
   "metadata": {},
   "outputs": [
    {
     "data": {
      "text/plain": [
       "상별구분\n",
       "ADHD     502774\n",
       "불면증     3549496\n",
       "불안장애    4132425\n",
       "우울증     4720207\n",
       "조울증      620314\n",
       "조현병      690800\n",
       "Name: 환자수, dtype: int64"
      ]
     },
     "execution_count": 12,
     "metadata": {},
     "output_type": "execute_result"
    }
   ],
   "source": [
    "df.groupby(df.상별구분)['환자수'].sum()"
   ]
  },
  {
   "cell_type": "code",
   "execution_count": 13,
   "metadata": {},
   "outputs": [
    {
     "data": {
      "text/html": [
       "<div>\n",
       "<style scoped>\n",
       "    .dataframe tbody tr th:only-of-type {\n",
       "        vertical-align: middle;\n",
       "    }\n",
       "\n",
       "    .dataframe tbody tr th {\n",
       "        vertical-align: top;\n",
       "    }\n",
       "\n",
       "    .dataframe thead th {\n",
       "        text-align: right;\n",
       "    }\n",
       "</style>\n",
       "<table border=\"1\" class=\"dataframe\">\n",
       "  <thead>\n",
       "    <tr style=\"text-align: right;\">\n",
       "      <th></th>\n",
       "      <th>2018</th>\n",
       "      <th>2019</th>\n",
       "      <th>2020</th>\n",
       "      <th>2021</th>\n",
       "      <th>2022</th>\n",
       "    </tr>\n",
       "    <tr>\n",
       "      <th>상별구분</th>\n",
       "      <th></th>\n",
       "      <th></th>\n",
       "      <th></th>\n",
       "      <th></th>\n",
       "      <th></th>\n",
       "    </tr>\n",
       "  </thead>\n",
       "  <tbody>\n",
       "    <tr>\n",
       "      <th>ADHD</th>\n",
       "      <td>63501</td>\n",
       "      <td>78230</td>\n",
       "      <td>86969</td>\n",
       "      <td>113285</td>\n",
       "      <td>160789</td>\n",
       "    </tr>\n",
       "    <tr>\n",
       "      <th>불면증</th>\n",
       "      <td>643333</td>\n",
       "      <td>682383</td>\n",
       "      <td>704659</td>\n",
       "      <td>741920</td>\n",
       "      <td>777201</td>\n",
       "    </tr>\n",
       "    <tr>\n",
       "      <th>불안장애</th>\n",
       "      <td>740353</td>\n",
       "      <td>771898</td>\n",
       "      <td>798633</td>\n",
       "      <td>886414</td>\n",
       "      <td>935127</td>\n",
       "    </tr>\n",
       "    <tr>\n",
       "      <th>우울증</th>\n",
       "      <td>826611</td>\n",
       "      <td>877412</td>\n",
       "      <td>912375</td>\n",
       "      <td>1003855</td>\n",
       "      <td>1099954</td>\n",
       "    </tr>\n",
       "    <tr>\n",
       "      <th>조울증</th>\n",
       "      <td>104154</td>\n",
       "      <td>115756</td>\n",
       "      <td>122334</td>\n",
       "      <td>132906</td>\n",
       "      <td>145164</td>\n",
       "    </tr>\n",
       "    <tr>\n",
       "      <th>조현병</th>\n",
       "      <td>138314</td>\n",
       "      <td>138750</td>\n",
       "      <td>137062</td>\n",
       "      <td>138303</td>\n",
       "      <td>138371</td>\n",
       "    </tr>\n",
       "  </tbody>\n",
       "</table>\n",
       "</div>"
      ],
      "text/plain": [
       "        2018    2019    2020     2021     2022\n",
       "상별구분                                          \n",
       "ADHD   63501   78230   86969   113285   160789\n",
       "불면증   643333  682383  704659   741920   777201\n",
       "불안장애  740353  771898  798633   886414   935127\n",
       "우울증   826611  877412  912375  1003855  1099954\n",
       "조울증   104154  115756  122334   132906   145164\n",
       "조현병   138314  138750  137062   138303   138371"
      ]
     },
     "execution_count": 13,
     "metadata": {},
     "output_type": "execute_result"
    }
   ],
   "source": [
    "year1 = df[df.진료년도 == 2018].groupby('상별구분')['환자수'].sum()\n",
    "year2 = df[df.진료년도 == 2019].groupby('상별구분')['환자수'].sum()\n",
    "year3 = df[df.진료년도 == 2020].groupby('상별구분')['환자수'].sum()\n",
    "year4 = df[df.진료년도 == 2021].groupby('상별구분')['환자수'].sum()\n",
    "year5 = df[df.진료년도 == 2022].groupby('상별구분')['환자수'].sum()\n",
    "years = pd.concat([year1,year2,year3,year4,year5],axis=1)\n",
    "years.columns = [2018,2019,2020,2021,2022]\n",
    "years"
   ]
  },
  {
   "cell_type": "code",
   "execution_count": 14,
   "metadata": {},
   "outputs": [
    {
     "name": "stdout",
     "output_type": "stream",
     "text": [
      "14216016\n"
     ]
    },
    {
     "data": {
      "text/plain": [
       "2018    2516266\n",
       "2019    2664429\n",
       "2020    2762032\n",
       "2021    3016683\n",
       "2022    3256606\n",
       "dtype: int64"
      ]
     },
     "execution_count": 14,
     "metadata": {},
     "output_type": "execute_result"
    }
   ],
   "source": [
    "total = years.sum().sum()\n",
    "print(total)\n",
    "years.sum()"
   ]
  },
  {
   "cell_type": "code",
   "execution_count": 15,
   "metadata": {},
   "outputs": [
    {
     "data": {
      "text/plain": [
       "0.04525409932009081"
      ]
     },
     "execution_count": 15,
     "metadata": {},
     "output_type": "execute_result"
    }
   ],
   "source": [
    "years.loc['불면증',2018]/total"
   ]
  },
  {
   "cell_type": "code",
   "execution_count": 16,
   "metadata": {},
   "outputs": [
    {
     "data": {
      "image/png": "[encoded data removed]",
      "text/plain": [
       "<Figure size 1000x700 with 2 Axes>"
      ]
     },
     "metadata": {},
     "output_type": "display_data"
    }
   ],
   "source": [
    "plt.figure(figsize=(10,7))\n",
    "plt.subplot(211)\n",
    "plt.plot(years.loc['불면증',:])\n",
    "plt.plot(years.loc['불안장애',:])\n",
    "plt.plot(years.loc['우울증',:])\n",
    "plt.legend(['불면증','불안장애','우울증'])\n",
    "plt.subplot(212)\n",
    "plt.plot(years.loc['ADHD',:])  \n",
    "plt.plot(years.loc['조울증',:])\n",
    "plt.plot(years.loc['조현병',:])\n",
    "plt.legend(['ADHD','조울증','조현병'])\n",
    "plt.show()"
   ]
  },
  {
   "cell_type": "markdown",
   "metadata": {},
   "source": [
    "- 조현병을 제외한 전체적인 정신병 환자수가 증가하는 추세에 있음\n",
    "- 시기적으로 코로나19가 발생한 뒤로 전체적으로 정신적 스트레스가 커져서 이런 현상이 나타난 것이 아닌가 싶음.\n",
    "- 특히 ADHD의 경우 활발한 상태로 지내던 사람들이 외출을 자제하는 상황이 생기면서 겉으로 드러나기 시작한 것으로 생각됨"
   ]
  },
  {
   "cell_type": "code",
   "execution_count": 17,
   "metadata": {},
   "outputs": [
    {
     "data": {
      "image/png": "[encoded data removed]",
      "text/plain": [
       "<Figure size 1000x500 with 2 Axes>"
      ]
     },
     "metadata": {},
     "output_type": "display_data"
    }
   ],
   "source": [
    "plt.figure(figsize=(10,5))\n",
    "\n",
    "plt.subplot(1,2,1)\n",
    "labels = ['불면증', '불안장애', '우울증', 'ADHD', '조울증', '조현병']\n",
    "sizes = [years.loc['불면증',2018]/total, \n",
    "         years.loc['불안장애',2018]/total, \n",
    "         years.loc['우울증',2018]/total,\n",
    "         years.loc['ADHD',2018]/total,\n",
    "         years.loc['조울증',2018]/total,\n",
    "         years.loc['조현병',2018]/total] # 백분율\n",
    "explode = (0, 0, 0.1, 0, 0 ,0) # 돌출\n",
    "plt.title(\"정신질환 차지율(2018)\")\n",
    "plt.pie(sizes, explode=explode, labels=labels,\n",
    "        autopct='%1.1f%%', shadow=True, startangle=90)\n",
    "plt.axis('equal')\n",
    "\n",
    "plt.subplot(1,2,2)\n",
    "labels = ['불면증', '불안장애', '우울증', 'ADHD', '조울증', '조현병']\n",
    "sizes = [years.loc['불면증',2022]/total, \n",
    "         years.loc['불안장애',2022]/total, \n",
    "         years.loc['우울증',2022]/total,\n",
    "         years.loc['ADHD',2022]/total,\n",
    "         years.loc['조울증',2022]/total,\n",
    "         years.loc['조현병',2022]/total] # 백분율\n",
    "explode = (0, 0, 0.1, 0, 0 ,0) # 돌출\n",
    "plt.title(\"정신질환 차지율(2022)\")\n",
    "plt.pie(sizes, explode=explode, labels=labels,\n",
    "        autopct='%1.1f%%', shadow=True, startangle=90)\n",
    "plt.axis('equal')\n",
    "\n",
    "plt.tight_layout()\n",
    "plt.show()"
   ]
  },
  {
   "cell_type": "markdown",
   "metadata": {},
   "source": [
    "- 위 차트를 보면 비율의 변화가 크지는 않지만 ADHD가 크게 증가하여 조현병과 조울증보다 비율이 커졌고\n",
    "- 다른 정신질환은 비율의 큰 변화가 보이지 않으며 가장 흔한 질병으로는 우우증, 불안장애, 불면증으로 보임"
   ]
  },
  {
   "cell_type": "markdown",
   "metadata": {},
   "source": [
    "# 비용이 많이 들어가는 질병"
   ]
  },
  {
   "cell_type": "markdown",
   "metadata": {},
   "source": [
    "요양급여비용이란\n",
    "- 요양기관에서 환자 진료에 대한 비용를 청구하는 서식으로 환자정보, 진료정보, 비용정보 등 "
   ]
  },
  {
   "cell_type": "code",
   "execution_count": 18,
   "metadata": {},
   "outputs": [
    {
     "data": {
      "text/html": [
       "<div>\n",
       "<style scoped>\n",
       "    .dataframe tbody tr th:only-of-type {\n",
       "        vertical-align: middle;\n",
       "    }\n",
       "\n",
       "    .dataframe tbody tr th {\n",
       "        vertical-align: top;\n",
       "    }\n",
       "\n",
       "    .dataframe thead th {\n",
       "        text-align: right;\n",
       "    }\n",
       "</style>\n",
       "<table border=\"1\" class=\"dataframe\">\n",
       "  <thead>\n",
       "    <tr style=\"text-align: right;\">\n",
       "      <th></th>\n",
       "      <th>요양급여비용</th>\n",
       "      <th>환자수</th>\n",
       "    </tr>\n",
       "    <tr>\n",
       "      <th>상별구분</th>\n",
       "      <th></th>\n",
       "      <th></th>\n",
       "    </tr>\n",
       "  </thead>\n",
       "  <tbody>\n",
       "    <tr>\n",
       "      <th>ADHD</th>\n",
       "      <td>265565672420</td>\n",
       "      <td>502774</td>\n",
       "    </tr>\n",
       "    <tr>\n",
       "      <th>불면증</th>\n",
       "      <td>379991421530</td>\n",
       "      <td>3549496</td>\n",
       "    </tr>\n",
       "    <tr>\n",
       "      <th>조울증</th>\n",
       "      <td>573922768940</td>\n",
       "      <td>620314</td>\n",
       "    </tr>\n",
       "    <tr>\n",
       "      <th>불안장애</th>\n",
       "      <td>1079272821730</td>\n",
       "      <td>4132425</td>\n",
       "    </tr>\n",
       "    <tr>\n",
       "      <th>조현병</th>\n",
       "      <td>1934305345760</td>\n",
       "      <td>690800</td>\n",
       "    </tr>\n",
       "    <tr>\n",
       "      <th>우울증</th>\n",
       "      <td>2137336927040</td>\n",
       "      <td>4720207</td>\n",
       "    </tr>\n",
       "  </tbody>\n",
       "</table>\n",
       "</div>"
      ],
      "text/plain": [
       "             요양급여비용      환자수\n",
       "상별구분                        \n",
       "ADHD   265565672420   502774\n",
       "불면증    379991421530  3549496\n",
       "조울증    573922768940   620314\n",
       "불안장애  1079272821730  4132425\n",
       "조현병   1934305345760   690800\n",
       "우울증   2137336927040  4720207"
      ]
     },
     "execution_count": 18,
     "metadata": {},
     "output_type": "execute_result"
    }
   ],
   "source": [
    "df2 = pd.concat([df.groupby(df.상별구분)['요양급여비용'].sum(), df.groupby(df.상별구분)[['환자수']].sum()], axis=1).sort_values(by='요양급여비용')\n",
    "df2"
   ]
  },
  {
   "cell_type": "code",
   "execution_count": 19,
   "metadata": {},
   "outputs": [
    {
     "data": {
      "text/plain": [
       "상별구분\n",
       "불면증     107055.04\n",
       "불안장애    261171.79\n",
       "우울증     452805.76\n",
       "ADHD    528200.89\n",
       "조울증     925213.31\n",
       "조현병    2800094.59\n",
       "dtype: float64"
      ]
     },
     "execution_count": 19,
     "metadata": {},
     "output_type": "execute_result"
    }
   ],
   "source": [
    "pd.options.display.float_format = '{:.2f}'.format # 숫자표기 변경\n",
    "(df2.요양급여비용 / df2.환자수).sort_values() # 조현병이 제일 인당 280만원으로 비용이 크게 들어감"
   ]
  },
  {
   "cell_type": "markdown",
   "metadata": {},
   "source": [
    "# 연령에 따른 질병비용"
   ]
  },
  {
   "cell_type": "code",
   "execution_count": 20,
   "metadata": {},
   "outputs": [
    {
     "data": {
      "text/html": [
       "<div>\n",
       "<style scoped>\n",
       "    .dataframe tbody tr th:only-of-type {\n",
       "        vertical-align: middle;\n",
       "    }\n",
       "\n",
       "    .dataframe tbody tr th {\n",
       "        vertical-align: top;\n",
       "    }\n",
       "\n",
       "    .dataframe thead th {\n",
       "        text-align: right;\n",
       "    }\n",
       "</style>\n",
       "<table border=\"1\" class=\"dataframe\">\n",
       "  <thead>\n",
       "    <tr style=\"text-align: right;\">\n",
       "      <th></th>\n",
       "      <th>환자수</th>\n",
       "      <th>요양급여비용</th>\n",
       "    </tr>\n",
       "    <tr>\n",
       "      <th>연령구분</th>\n",
       "      <th></th>\n",
       "      <th></th>\n",
       "    </tr>\n",
       "  </thead>\n",
       "  <tbody>\n",
       "    <tr>\n",
       "      <th>0~9세</th>\n",
       "      <td>160054</td>\n",
       "      <td>74050103550</td>\n",
       "    </tr>\n",
       "    <tr>\n",
       "      <th>10~19세</th>\n",
       "      <td>689778</td>\n",
       "      <td>402345409830</td>\n",
       "    </tr>\n",
       "    <tr>\n",
       "      <th>20~29세</th>\n",
       "      <td>1828473</td>\n",
       "      <td>1016405840320</td>\n",
       "    </tr>\n",
       "    <tr>\n",
       "      <th>30~39세</th>\n",
       "      <td>1829280</td>\n",
       "      <td>974469299890</td>\n",
       "    </tr>\n",
       "    <tr>\n",
       "      <th>40~49세</th>\n",
       "      <td>2095411</td>\n",
       "      <td>1057449704330</td>\n",
       "    </tr>\n",
       "    <tr>\n",
       "      <th>50~59세</th>\n",
       "      <td>2366219</td>\n",
       "      <td>1085794938410</td>\n",
       "    </tr>\n",
       "    <tr>\n",
       "      <th>60~69세</th>\n",
       "      <td>2398331</td>\n",
       "      <td>974148488330</td>\n",
       "    </tr>\n",
       "    <tr>\n",
       "      <th>70~79세</th>\n",
       "      <td>1859891</td>\n",
       "      <td>566181517490</td>\n",
       "    </tr>\n",
       "    <tr>\n",
       "      <th>80~89세</th>\n",
       "      <td>914088</td>\n",
       "      <td>205432821510</td>\n",
       "    </tr>\n",
       "    <tr>\n",
       "      <th>90~99세</th>\n",
       "      <td>74491</td>\n",
       "      <td>14116833760</td>\n",
       "    </tr>\n",
       "  </tbody>\n",
       "</table>\n",
       "</div>"
      ],
      "text/plain": [
       "            환자수         요양급여비용\n",
       "연령구분                          \n",
       "0~9세     160054    74050103550\n",
       "10~19세   689778   402345409830\n",
       "20~29세  1828473  1016405840320\n",
       "30~39세  1829280   974469299890\n",
       "40~49세  2095411  1057449704330\n",
       "50~59세  2366219  1085794938410\n",
       "60~69세  2398331   974148488330\n",
       "70~79세  1859891   566181517490\n",
       "80~89세   914088   205432821510\n",
       "90~99세    74491    14116833760"
      ]
     },
     "execution_count": 20,
     "metadata": {},
     "output_type": "execute_result"
    }
   ],
   "source": [
    "age_spend = df.groupby('연령구분')['환자수', '요양급여비용'].sum()\n",
    "age_spend"
   ]
  },
  {
   "cell_type": "code",
   "execution_count": 21,
   "metadata": {},
   "outputs": [
    {
     "data": {
      "image/png": "[encoded data removed]",
      "text/plain": [
       "<Figure size 1500x500 with 2 Axes>"
      ]
     },
     "metadata": {},
     "output_type": "display_data"
    }
   ],
   "source": [
    "plt.figure(figsize=(15,5))\n",
    "plt.subplot(1,2,1)\n",
    "plt.plot(age_spend.환자수)\n",
    "plt.subplot(1,2,2)\n",
    "plt.plot(age_spend.요양급여비용)\n",
    "plt.show()"
   ]
  },
  {
   "cell_type": "code",
   "execution_count": 22,
   "metadata": {},
   "outputs": [
    {
     "data": {
      "image/png": "[encoded data removed]",
      "text/plain": [
       "<Figure size 640x480 with 1 Axes>"
      ]
     },
     "metadata": {},
     "output_type": "display_data"
    }
   ],
   "source": [
    "plt.bar(age_spend.index, age_spend.요양급여비용/age_spend.환자수)\n",
    "plt.show()"
   ]
  },
  {
   "cell_type": "markdown",
   "metadata": {},
   "source": [
    "- 대체적으로 연령과 상관없이 비용은 환자수가 많을수록 많이 들어가는 것으로 보임\n",
    "- 연령별 인당 요양급여비용이 나이가 들수록 비용이 줄어드는 것을 확인할 수 있음. 아마 이는 사회복지의 역할이 잘 하고 있는 것으로 보임."
   ]
  },
  {
   "cell_type": "markdown",
   "metadata": {},
   "source": [
    "# 성별에 따른 질병 진단율"
   ]
  },
  {
   "cell_type": "code",
   "execution_count": 23,
   "metadata": {},
   "outputs": [
    {
     "data": {
      "text/html": [
       "<div>\n",
       "<style scoped>\n",
       "    .dataframe tbody tr th:only-of-type {\n",
       "        vertical-align: middle;\n",
       "    }\n",
       "\n",
       "    .dataframe tbody tr th {\n",
       "        vertical-align: top;\n",
       "    }\n",
       "\n",
       "    .dataframe thead tr th {\n",
       "        text-align: left;\n",
       "    }\n",
       "\n",
       "    .dataframe thead tr:last-of-type th {\n",
       "        text-align: right;\n",
       "    }\n",
       "</style>\n",
       "<table border=\"1\" class=\"dataframe\">\n",
       "  <thead>\n",
       "    <tr>\n",
       "      <th></th>\n",
       "      <th colspan=\"10\" halign=\"left\">환자수</th>\n",
       "    </tr>\n",
       "    <tr>\n",
       "      <th>연령구분</th>\n",
       "      <th>0~9세</th>\n",
       "      <th>10~19세</th>\n",
       "      <th>20~29세</th>\n",
       "      <th>30~39세</th>\n",
       "      <th>40~49세</th>\n",
       "      <th>50~59세</th>\n",
       "      <th>60~69세</th>\n",
       "      <th>70~79세</th>\n",
       "      <th>80~89세</th>\n",
       "      <th>90~99세</th>\n",
       "    </tr>\n",
       "    <tr>\n",
       "      <th>성별</th>\n",
       "      <th></th>\n",
       "      <th></th>\n",
       "      <th></th>\n",
       "      <th></th>\n",
       "      <th></th>\n",
       "      <th></th>\n",
       "      <th></th>\n",
       "      <th></th>\n",
       "      <th></th>\n",
       "      <th></th>\n",
       "    </tr>\n",
       "  </thead>\n",
       "  <tbody>\n",
       "    <tr>\n",
       "      <th>남</th>\n",
       "      <td>128382</td>\n",
       "      <td>352718</td>\n",
       "      <td>737742</td>\n",
       "      <td>712174</td>\n",
       "      <td>831974</td>\n",
       "      <td>859026</td>\n",
       "      <td>827881</td>\n",
       "      <td>675292</td>\n",
       "      <td>318811</td>\n",
       "      <td>16282</td>\n",
       "    </tr>\n",
       "    <tr>\n",
       "      <th>여</th>\n",
       "      <td>31672</td>\n",
       "      <td>337060</td>\n",
       "      <td>1090731</td>\n",
       "      <td>1117106</td>\n",
       "      <td>1263437</td>\n",
       "      <td>1507193</td>\n",
       "      <td>1570450</td>\n",
       "      <td>1184599</td>\n",
       "      <td>595277</td>\n",
       "      <td>58209</td>\n",
       "    </tr>\n",
       "  </tbody>\n",
       "</table>\n",
       "</div>"
      ],
      "text/plain": [
       "         환자수                                                                \\\n",
       "연령구분    0~9세  10~19세   20~29세   30~39세   40~49세   50~59세   60~69세   70~79세   \n",
       "성별                                                                           \n",
       "남     128382  352718   737742   712174   831974   859026   827881   675292   \n",
       "여      31672  337060  1090731  1117106  1263437  1507193  1570450  1184599   \n",
       "\n",
       "                     \n",
       "연령구분  80~89세 90~99세  \n",
       "성별                   \n",
       "남     318811  16282  \n",
       "여     595277  58209  "
      ]
     },
     "execution_count": 23,
     "metadata": {},
     "output_type": "execute_result"
    }
   ],
   "source": [
    "df2 = df.groupby([df.성별, df.연령구분])[['환자수']].sum().unstack() # 여성이 더 많은 질병발병율이 높아보임\n",
    "df2"
   ]
  },
  {
   "cell_type": "code",
   "execution_count": 24,
   "metadata": {},
   "outputs": [
    {
     "data": {
      "text/plain": [
       "array([128382, 352718, 737742, 712174, 831974, 859026, 827881, 675292,\n",
       "       318811, 16282], dtype=object)"
      ]
     },
     "execution_count": 24,
     "metadata": {},
     "output_type": "execute_result"
    }
   ],
   "source": [
    "df2['환자수'].loc['남'].reset_index().to_numpy()[:,1]"
   ]
  },
  {
   "cell_type": "code",
   "execution_count": 25,
   "metadata": {},
   "outputs": [
    {
     "data": {
      "text/plain": [
       "array(['0~9세', '10~19세', '20~29세', '30~39세', '40~49세', '50~59세', '60~69세',\n",
       "       '70~79세', '80~89세', '90~99세'], dtype=object)"
      ]
     },
     "execution_count": 25,
     "metadata": {},
     "output_type": "execute_result"
    }
   ],
   "source": [
    "df2['환자수'].loc['남'].reset_index().to_numpy()[:,0]\n"
   ]
  },
  {
   "cell_type": "code",
   "execution_count": 26,
   "metadata": {},
   "outputs": [
    {
     "data": {
      "image/png": "[encoded data removed]",
      "text/plain": [
       "<Figure size 1000x500 with 1 Axes>"
      ]
     },
     "metadata": {},
     "output_type": "display_data"
    }
   ],
   "source": [
    "plt.figure(figsize=(10,5))\n",
    "plt.plot(df2['환자수'].loc['남'].reset_index().to_numpy()[:,1])\n",
    "plt.plot(df2['환자수'].loc['여'].reset_index().to_numpy()[:,1])\n",
    "plt.ylabel('환자수(100만단위)')\n",
    "plt.xlabel('연령별')\n",
    "plt.legend(['남자', '여자'])\n",
    "plt.xticks([0,1,2,3,4,5,6,7,8,9],df2['환자수'].loc['남'].reset_index().to_numpy()[:,0])\n",
    "plt.show()"
   ]
  },
  {
   "cell_type": "code",
   "execution_count": 27,
   "metadata": {},
   "outputs": [
    {
     "data": {
      "text/html": [
       "<div>\n",
       "<style scoped>\n",
       "    .dataframe tbody tr th:only-of-type {\n",
       "        vertical-align: middle;\n",
       "    }\n",
       "\n",
       "    .dataframe tbody tr th {\n",
       "        vertical-align: top;\n",
       "    }\n",
       "\n",
       "    .dataframe thead tr th {\n",
       "        text-align: left;\n",
       "    }\n",
       "\n",
       "    .dataframe thead tr:last-of-type th {\n",
       "        text-align: right;\n",
       "    }\n",
       "</style>\n",
       "<table border=\"1\" class=\"dataframe\">\n",
       "  <thead>\n",
       "    <tr>\n",
       "      <th></th>\n",
       "      <th colspan=\"6\" halign=\"left\">환자수</th>\n",
       "    </tr>\n",
       "    <tr>\n",
       "      <th>상별구분</th>\n",
       "      <th>ADHD</th>\n",
       "      <th>불면증</th>\n",
       "      <th>불안장애</th>\n",
       "      <th>우울증</th>\n",
       "      <th>조울증</th>\n",
       "      <th>조현병</th>\n",
       "    </tr>\n",
       "    <tr>\n",
       "      <th>성별</th>\n",
       "      <th></th>\n",
       "      <th></th>\n",
       "      <th></th>\n",
       "      <th></th>\n",
       "      <th></th>\n",
       "      <th></th>\n",
       "    </tr>\n",
       "  </thead>\n",
       "  <tbody>\n",
       "    <tr>\n",
       "      <th>남</th>\n",
       "      <td>367367</td>\n",
       "      <td>1385279</td>\n",
       "      <td>1614790</td>\n",
       "      <td>1539661</td>\n",
       "      <td>243631</td>\n",
       "      <td>309554</td>\n",
       "    </tr>\n",
       "    <tr>\n",
       "      <th>여</th>\n",
       "      <td>135407</td>\n",
       "      <td>2164217</td>\n",
       "      <td>2517635</td>\n",
       "      <td>3180546</td>\n",
       "      <td>376683</td>\n",
       "      <td>381246</td>\n",
       "    </tr>\n",
       "  </tbody>\n",
       "</table>\n",
       "</div>"
      ],
      "text/plain": [
       "         환자수                                           \n",
       "상별구분    ADHD      불면증     불안장애      우울증     조울증     조현병\n",
       "성별                                                     \n",
       "남     367367  1385279  1614790  1539661  243631  309554\n",
       "여     135407  2164217  2517635  3180546  376683  381246"
      ]
     },
     "execution_count": 27,
     "metadata": {},
     "output_type": "execute_result"
    }
   ],
   "source": [
    "df3 = df.groupby([df.성별, df.상별구분])[['환자수']].sum().unstack()\n",
    "df3"
   ]
  },
  {
   "cell_type": "code",
   "execution_count": 28,
   "metadata": {},
   "outputs": [
    {
     "data": {
      "image/png": "[encoded data removed]",
      "text/plain": [
       "<Figure size 1000x500 with 1 Axes>"
      ]
     },
     "metadata": {},
     "output_type": "display_data"
    }
   ],
   "source": [
    "val1 = df3['환자수'].loc['남'].reset_index().to_numpy()[:,1]\n",
    "val2 = df3['환자수'].loc['여'].reset_index().to_numpy()[:,1]\n",
    "labels = df3['환자수'].loc['남'].reset_index().to_numpy()[:,0]\n",
    "x = np.arange(len(labels))  # X축 위치 설정\n",
    "width = 0.35  # 막대 폭\n",
    "\n",
    "fig, ax = plt.subplots(figsize=(10, 5))\n",
    "bars1 = ax.bar(x - width/2, val1, width, label='남자')\n",
    "bars2 = ax.bar(x + width/2, val2, width, label='여자')\n",
    "\n",
    "ax.set_ylabel('환자수')\n",
    "ax.set_xlabel('질환')\n",
    "ax.set_title('질환별 환자 수 비교')\n",
    "ax.set_xticks(x)\n",
    "ax.set_xticklabels(labels)\n",
    "ax.legend()\n",
    "\n",
    "for bars in [bars1, bars2]:\n",
    "    for bar in bars:\n",
    "        height = bar.get_height()\n",
    "        ax.annotate(f'{height}',\n",
    "                    xy=(bar.get_x() + bar.get_width() / 2, height),\n",
    "                    xytext=(0, 3),  # 3 points vertical offset\n",
    "                    textcoords=\"offset points\",\n",
    "                    ha='center', va='bottom')\n",
    "\n",
    "plt.show()"
   ]
  },
  {
   "cell_type": "markdown",
   "metadata": {},
   "source": [
    "- 위의 결과를 보면 여성의 정신병 환자수가 훨씬 많은 것을 알 수 있으며 \n",
    "- 노년층에 해당하는 60~69세에 특히 정신병 환자수가 절정에 달하는 것을 알 수 있음\n",
    "- 남성의 경우 여성에 비해 ADHD를 차지하는 비율이 훨씬 높음. 아마 남성이 더 활동성이 높다는 점에서 기인한 게 아닐까 싶기도 함..."
   ]
  },
  {
   "cell_type": "markdown",
   "metadata": {},
   "source": [
    "# 지역에 따른 질환발생률"
   ]
  },
  {
   "cell_type": "code",
   "execution_count": 118,
   "metadata": {},
   "outputs": [
    {
     "name": "stdout",
     "output_type": "stream",
     "text": [
      "['서울' '부산' '인천' '대구' '광주' '대전' '울산' '경기' '강원' '충북' '충남' '전북' '전남' '경북'\n",
      " '경남' '제주' '세종']\n"
     ]
    },
    {
     "data": {
      "text/plain": [
       "(17, 2)"
      ]
     },
     "execution_count": 118,
     "metadata": {},
     "output_type": "execute_result"
    }
   ],
   "source": [
    "print(df.시도.unique())\n",
    "patient = df.groupby('시도')[['환자수']].sum().reset_index()\n",
    "patient.shape"
   ]
  },
  {
   "cell_type": "code",
   "execution_count": 80,
   "metadata": {},
   "outputs": [
    {
     "data": {
      "text/plain": [
       "(17, 2)"
      ]
     },
     "execution_count": 80,
     "metadata": {},
     "output_type": "execute_result"
    }
   ],
   "source": [
    "# 통계청 인구 데이터\n",
    "people_cnt = pd.read_csv('mental\\행정구역_시군구_별__성별_인구수_20240531145403.csv')\n",
    "cnt2018 = people_cnt.loc[0:,['행정구역(시군구)별','2018.12']].drop([0,1]).reset_index(drop=True)\n",
    "cnt2018.columns = ['시도', '인구수']\n",
    "cnt2018.시도 = ['서울','부산','대구','인천','광주','대전','울산','세종','경기','강원','충북','충남','전북','전남','경북','경남','제주']\n",
    "cnt2018.인구수 = cnt2018.인구수.map(int)\n",
    "cnt2018.shape"
   ]
  },
  {
   "cell_type": "code",
   "execution_count": 81,
   "metadata": {},
   "outputs": [
    {
     "data": {
      "text/html": [
       "<div>\n",
       "<style scoped>\n",
       "    .dataframe tbody tr th:only-of-type {\n",
       "        vertical-align: middle;\n",
       "    }\n",
       "\n",
       "    .dataframe tbody tr th {\n",
       "        vertical-align: top;\n",
       "    }\n",
       "\n",
       "    .dataframe thead th {\n",
       "        text-align: right;\n",
       "    }\n",
       "</style>\n",
       "<table border=\"1\" class=\"dataframe\">\n",
       "  <thead>\n",
       "    <tr style=\"text-align: right;\">\n",
       "      <th></th>\n",
       "      <th>시도</th>\n",
       "      <th>인구수</th>\n",
       "      <th>환자수</th>\n",
       "      <th>비율</th>\n",
       "    </tr>\n",
       "  </thead>\n",
       "  <tbody>\n",
       "    <tr>\n",
       "      <th>13</th>\n",
       "      <td>전남</td>\n",
       "      <td>1882970</td>\n",
       "      <td>363007</td>\n",
       "      <td>0.19</td>\n",
       "    </tr>\n",
       "    <tr>\n",
       "      <th>14</th>\n",
       "      <td>경북</td>\n",
       "      <td>2676831</td>\n",
       "      <td>594321</td>\n",
       "      <td>0.22</td>\n",
       "    </tr>\n",
       "    <tr>\n",
       "      <th>6</th>\n",
       "      <td>울산</td>\n",
       "      <td>1155623</td>\n",
       "      <td>256783</td>\n",
       "      <td>0.22</td>\n",
       "    </tr>\n",
       "    <tr>\n",
       "      <th>7</th>\n",
       "      <td>세종</td>\n",
       "      <td>314126</td>\n",
       "      <td>70057</td>\n",
       "      <td>0.22</td>\n",
       "    </tr>\n",
       "    <tr>\n",
       "      <th>15</th>\n",
       "      <td>경남</td>\n",
       "      <td>3373988</td>\n",
       "      <td>764595</td>\n",
       "      <td>0.23</td>\n",
       "    </tr>\n",
       "    <tr>\n",
       "      <th>3</th>\n",
       "      <td>인천</td>\n",
       "      <td>2954642</td>\n",
       "      <td>719175</td>\n",
       "      <td>0.24</td>\n",
       "    </tr>\n",
       "    <tr>\n",
       "      <th>12</th>\n",
       "      <td>전북</td>\n",
       "      <td>1836832</td>\n",
       "      <td>453726</td>\n",
       "      <td>0.25</td>\n",
       "    </tr>\n",
       "    <tr>\n",
       "      <th>4</th>\n",
       "      <td>광주</td>\n",
       "      <td>1459336</td>\n",
       "      <td>365955</td>\n",
       "      <td>0.25</td>\n",
       "    </tr>\n",
       "    <tr>\n",
       "      <th>8</th>\n",
       "      <td>경기</td>\n",
       "      <td>13077153</td>\n",
       "      <td>3300170</td>\n",
       "      <td>0.25</td>\n",
       "    </tr>\n",
       "    <tr>\n",
       "      <th>9</th>\n",
       "      <td>강원</td>\n",
       "      <td>1543052</td>\n",
       "      <td>394346</td>\n",
       "      <td>0.26</td>\n",
       "    </tr>\n",
       "    <tr>\n",
       "      <th>11</th>\n",
       "      <td>충남</td>\n",
       "      <td>2126282</td>\n",
       "      <td>548196</td>\n",
       "      <td>0.26</td>\n",
       "    </tr>\n",
       "    <tr>\n",
       "      <th>16</th>\n",
       "      <td>제주</td>\n",
       "      <td>667191</td>\n",
       "      <td>172955</td>\n",
       "      <td>0.26</td>\n",
       "    </tr>\n",
       "    <tr>\n",
       "      <th>10</th>\n",
       "      <td>충북</td>\n",
       "      <td>1599252</td>\n",
       "      <td>420255</td>\n",
       "      <td>0.26</td>\n",
       "    </tr>\n",
       "    <tr>\n",
       "      <th>5</th>\n",
       "      <td>대전</td>\n",
       "      <td>1489936</td>\n",
       "      <td>479500</td>\n",
       "      <td>0.32</td>\n",
       "    </tr>\n",
       "    <tr>\n",
       "      <th>2</th>\n",
       "      <td>대구</td>\n",
       "      <td>2461769</td>\n",
       "      <td>798730</td>\n",
       "      <td>0.32</td>\n",
       "    </tr>\n",
       "    <tr>\n",
       "      <th>1</th>\n",
       "      <td>부산</td>\n",
       "      <td>3441453</td>\n",
       "      <td>1137682</td>\n",
       "      <td>0.33</td>\n",
       "    </tr>\n",
       "    <tr>\n",
       "      <th>0</th>\n",
       "      <td>서울</td>\n",
       "      <td>9765623</td>\n",
       "      <td>3376563</td>\n",
       "      <td>0.35</td>\n",
       "    </tr>\n",
       "  </tbody>\n",
       "</table>\n",
       "</div>"
      ],
      "text/plain": [
       "    시도       인구수      환자수   비율\n",
       "13  전남   1882970   363007 0.19\n",
       "14  경북   2676831   594321 0.22\n",
       "6   울산   1155623   256783 0.22\n",
       "7   세종    314126    70057 0.22\n",
       "15  경남   3373988   764595 0.23\n",
       "3   인천   2954642   719175 0.24\n",
       "12  전북   1836832   453726 0.25\n",
       "4   광주   1459336   365955 0.25\n",
       "8   경기  13077153  3300170 0.25\n",
       "9   강원   1543052   394346 0.26\n",
       "11  충남   2126282   548196 0.26\n",
       "16  제주    667191   172955 0.26\n",
       "10  충북   1599252   420255 0.26\n",
       "5   대전   1489936   479500 0.32\n",
       "2   대구   2461769   798730 0.32\n",
       "1   부산   3441453  1137682 0.33\n",
       "0   서울   9765623  3376563 0.35"
      ]
     },
     "execution_count": 81,
     "metadata": {},
     "output_type": "execute_result"
    }
   ],
   "source": [
    "patient2018 = pd.merge(cnt2018, patient)\n",
    "patient2018['비율'] = patient2018.환자수 / patient2018.인구수\n",
    "patient2018.sort_values('인구수', ascending=False).reset_index(drop=True, inplace=True)\n",
    "patient2018.sort_values('비율')"
   ]
  },
  {
   "cell_type": "markdown",
   "metadata": {},
   "source": [
    "- 2018년도 데이터로 봤을 때 지역에 따른 질병앓는 비율은 인구에 따라 높낮이가 보이지 않음\n",
    "- 추가적으로 인구는 18년도의 인구변화 평균으로 인구를 추산하였으며 환자수는 1년간 여러사람이 중복되는 데이터가 포함되어있을 <strong>가능성이 높으므로</strong> 인구에 비해 얼마나 많은 환자의 방문이 있었는가로 봐야함"
   ]
  },
  {
   "cell_type": "markdown",
   "metadata": {},
   "source": [
    "# 지역에 따른 요양급여비용"
   ]
  },
  {
   "cell_type": "code",
   "execution_count": 82,
   "metadata": {},
   "outputs": [
    {
     "data": {
      "text/html": [
       "<div>\n",
       "<style scoped>\n",
       "    .dataframe tbody tr th:only-of-type {\n",
       "        vertical-align: middle;\n",
       "    }\n",
       "\n",
       "    .dataframe tbody tr th {\n",
       "        vertical-align: top;\n",
       "    }\n",
       "\n",
       "    .dataframe thead th {\n",
       "        text-align: right;\n",
       "    }\n",
       "</style>\n",
       "<table border=\"1\" class=\"dataframe\">\n",
       "  <thead>\n",
       "    <tr style=\"text-align: right;\">\n",
       "      <th></th>\n",
       "      <th>요양급여비용</th>\n",
       "      <th>환자수</th>\n",
       "      <th>평균비용</th>\n",
       "    </tr>\n",
       "    <tr>\n",
       "      <th>시도</th>\n",
       "      <th></th>\n",
       "      <th></th>\n",
       "      <th></th>\n",
       "    </tr>\n",
       "  </thead>\n",
       "  <tbody>\n",
       "    <tr>\n",
       "      <th>세종</th>\n",
       "      <td>23239245450</td>\n",
       "      <td>70057</td>\n",
       "      <td>331719.11</td>\n",
       "    </tr>\n",
       "    <tr>\n",
       "      <th>제주</th>\n",
       "      <td>66055239680</td>\n",
       "      <td>172955</td>\n",
       "      <td>381921.54</td>\n",
       "    </tr>\n",
       "    <tr>\n",
       "      <th>대전</th>\n",
       "      <td>187569171990</td>\n",
       "      <td>479500</td>\n",
       "      <td>391176.58</td>\n",
       "    </tr>\n",
       "    <tr>\n",
       "      <th>강원</th>\n",
       "      <td>157816768660</td>\n",
       "      <td>394346</td>\n",
       "      <td>400198.73</td>\n",
       "    </tr>\n",
       "    <tr>\n",
       "      <th>충북</th>\n",
       "      <td>170717775110</td>\n",
       "      <td>420255</td>\n",
       "      <td>406224.26</td>\n",
       "    </tr>\n",
       "    <tr>\n",
       "      <th>울산</th>\n",
       "      <td>112180585820</td>\n",
       "      <td>256783</td>\n",
       "      <td>436869.21</td>\n",
       "    </tr>\n",
       "    <tr>\n",
       "      <th>서울</th>\n",
       "      <td>1475401637890</td>\n",
       "      <td>3376563</td>\n",
       "      <td>436953.68</td>\n",
       "    </tr>\n",
       "    <tr>\n",
       "      <th>충남</th>\n",
       "      <td>239944238450</td>\n",
       "      <td>548196</td>\n",
       "      <td>437697.90</td>\n",
       "    </tr>\n",
       "    <tr>\n",
       "      <th>전북</th>\n",
       "      <td>202408804050</td>\n",
       "      <td>453726</td>\n",
       "      <td>446103.60</td>\n",
       "    </tr>\n",
       "    <tr>\n",
       "      <th>경북</th>\n",
       "      <td>265215383130</td>\n",
       "      <td>594321</td>\n",
       "      <td>446249.39</td>\n",
       "    </tr>\n",
       "    <tr>\n",
       "      <th>전남</th>\n",
       "      <td>162653332630</td>\n",
       "      <td>363007</td>\n",
       "      <td>448072.17</td>\n",
       "    </tr>\n",
       "    <tr>\n",
       "      <th>경기</th>\n",
       "      <td>1514718536590</td>\n",
       "      <td>3300170</td>\n",
       "      <td>458981.97</td>\n",
       "    </tr>\n",
       "    <tr>\n",
       "      <th>대구</th>\n",
       "      <td>366928654740</td>\n",
       "      <td>798730</td>\n",
       "      <td>459390.10</td>\n",
       "    </tr>\n",
       "    <tr>\n",
       "      <th>인천</th>\n",
       "      <td>336242360720</td>\n",
       "      <td>719175</td>\n",
       "      <td>467539.00</td>\n",
       "    </tr>\n",
       "    <tr>\n",
       "      <th>경남</th>\n",
       "      <td>361762265660</td>\n",
       "      <td>764595</td>\n",
       "      <td>473142.34</td>\n",
       "    </tr>\n",
       "    <tr>\n",
       "      <th>부산</th>\n",
       "      <td>545068253620</td>\n",
       "      <td>1137682</td>\n",
       "      <td>479104.23</td>\n",
       "    </tr>\n",
       "    <tr>\n",
       "      <th>광주</th>\n",
       "      <td>182472703230</td>\n",
       "      <td>365955</td>\n",
       "      <td>498620.60</td>\n",
       "    </tr>\n",
       "  </tbody>\n",
       "</table>\n",
       "</div>"
      ],
      "text/plain": [
       "           요양급여비용      환자수      평균비용\n",
       "시도                                  \n",
       "세종    23239245450    70057 331719.11\n",
       "제주    66055239680   172955 381921.54\n",
       "대전   187569171990   479500 391176.58\n",
       "강원   157816768660   394346 400198.73\n",
       "충북   170717775110   420255 406224.26\n",
       "울산   112180585820   256783 436869.21\n",
       "서울  1475401637890  3376563 436953.68\n",
       "충남   239944238450   548196 437697.90\n",
       "전북   202408804050   453726 446103.60\n",
       "경북   265215383130   594321 446249.39\n",
       "전남   162653332630   363007 448072.17\n",
       "경기  1514718536590  3300170 458981.97\n",
       "대구   366928654740   798730 459390.10\n",
       "인천   336242360720   719175 467539.00\n",
       "경남   361762265660   764595 473142.34\n",
       "부산   545068253620  1137682 479104.23\n",
       "광주   182472703230   365955 498620.60"
      ]
     },
     "execution_count": 82,
     "metadata": {},
     "output_type": "execute_result"
    }
   ],
   "source": [
    "spend_region = df.groupby('시도')['요양급여비용','환자수'].sum()\n",
    "spend_region['평균비용'] = spend_region.요양급여비용/spend_region.환자수\n",
    "spend_region.sort_values('평균비용', inplace=True)\n",
    "spend_region"
   ]
  },
  {
   "cell_type": "code",
   "execution_count": 34,
   "metadata": {},
   "outputs": [
    {
     "data": {
      "text/plain": [
       "Index(['세종', '제주', '대전', '강원', '충북', '울산', '서울', '충남', '전북', '경북', '전남', '경기',\n",
       "       '대구', '인천', '경남', '부산', '광주'],\n",
       "      dtype='object', name='시도')"
      ]
     },
     "execution_count": 34,
     "metadata": {},
     "output_type": "execute_result"
    }
   ],
   "source": [
    "spend_region.index"
   ]
  },
  {
   "cell_type": "code",
   "execution_count": 83,
   "metadata": {},
   "outputs": [
    {
     "data": {
      "image/png": "[encoded data removed]",
      "text/plain": [
       "<Figure size 1000x500 with 1 Axes>"
      ]
     },
     "metadata": {},
     "output_type": "display_data"
    }
   ],
   "source": [
    "plt.figure(figsize=(10,5))\n",
    "plt.bar(spend_region.index, spend_region.평균비용)\n",
    "plt.show()"
   ]
  },
  {
   "cell_type": "markdown",
   "metadata": {},
   "source": [
    "- 가장 인당 요양급여비용이 낮은 곳은 세종, 이어서 제주, 대전, 강원, 충북 등으로 구성\n",
    "- 가장 비싼곳은 광주이며, 부산, 경남, 인천, 대구 등\n",
    "- 분명 세종은 출산율도 국내에서 제일 높았던 것으로 기억하는데 이와 연관이 있을지도 모름"
   ]
  },
  {
   "cell_type": "code",
   "execution_count": 112,
   "metadata": {},
   "outputs": [
    {
     "data": {
      "text/html": [
       "<div>\n",
       "<style scoped>\n",
       "    .dataframe tbody tr th:only-of-type {\n",
       "        vertical-align: middle;\n",
       "    }\n",
       "\n",
       "    .dataframe tbody tr th {\n",
       "        vertical-align: top;\n",
       "    }\n",
       "\n",
       "    .dataframe thead th {\n",
       "        text-align: right;\n",
       "    }\n",
       "</style>\n",
       "<table border=\"1\" class=\"dataframe\">\n",
       "  <thead>\n",
       "    <tr style=\"text-align: right;\">\n",
       "      <th></th>\n",
       "      <th>시도별</th>\n",
       "      <th>2018</th>\n",
       "    </tr>\n",
       "  </thead>\n",
       "  <tbody>\n",
       "    <tr>\n",
       "      <th>8</th>\n",
       "      <td>세종특별자치시</td>\n",
       "      <td>1.566</td>\n",
       "    </tr>\n",
       "    <tr>\n",
       "      <th>14</th>\n",
       "      <td>전라남도</td>\n",
       "      <td>1.240</td>\n",
       "    </tr>\n",
       "    <tr>\n",
       "      <th>17</th>\n",
       "      <td>제주특별자치도</td>\n",
       "      <td>1.220</td>\n",
       "    </tr>\n",
       "    <tr>\n",
       "      <th>12</th>\n",
       "      <td>충청남도</td>\n",
       "      <td>1.186</td>\n",
       "    </tr>\n",
       "    <tr>\n",
       "      <th>11</th>\n",
       "      <td>충청북도</td>\n",
       "      <td>1.172</td>\n",
       "    </tr>\n",
       "    <tr>\n",
       "      <th>15</th>\n",
       "      <td>경상북도</td>\n",
       "      <td>1.167</td>\n",
       "    </tr>\n",
       "    <tr>\n",
       "      <th>7</th>\n",
       "      <td>울산광역시</td>\n",
       "      <td>1.131</td>\n",
       "    </tr>\n",
       "    <tr>\n",
       "      <th>16</th>\n",
       "      <td>경상남도</td>\n",
       "      <td>1.122</td>\n",
       "    </tr>\n",
       "    <tr>\n",
       "      <th>10</th>\n",
       "      <td>강원도</td>\n",
       "      <td>1.067</td>\n",
       "    </tr>\n",
       "    <tr>\n",
       "      <th>13</th>\n",
       "      <td>전라북도</td>\n",
       "      <td>1.044</td>\n",
       "    </tr>\n",
       "    <tr>\n",
       "      <th>4</th>\n",
       "      <td>인천광역시</td>\n",
       "      <td>1.006</td>\n",
       "    </tr>\n",
       "    <tr>\n",
       "      <th>9</th>\n",
       "      <td>경기도</td>\n",
       "      <td>1.002</td>\n",
       "    </tr>\n",
       "    <tr>\n",
       "      <th>3</th>\n",
       "      <td>대구광역시</td>\n",
       "      <td>0.987</td>\n",
       "    </tr>\n",
       "    <tr>\n",
       "      <th>5</th>\n",
       "      <td>광주광역시</td>\n",
       "      <td>0.972</td>\n",
       "    </tr>\n",
       "    <tr>\n",
       "      <th>6</th>\n",
       "      <td>대전광역시</td>\n",
       "      <td>0.952</td>\n",
       "    </tr>\n",
       "    <tr>\n",
       "      <th>2</th>\n",
       "      <td>부산광역시</td>\n",
       "      <td>0.899</td>\n",
       "    </tr>\n",
       "    <tr>\n",
       "      <th>1</th>\n",
       "      <td>서울특별시</td>\n",
       "      <td>0.761</td>\n",
       "    </tr>\n",
       "  </tbody>\n",
       "</table>\n",
       "</div>"
      ],
      "text/plain": [
       "        시도별   2018\n",
       "8   세종특별자치시  1.566\n",
       "14     전라남도  1.240\n",
       "17  제주특별자치도  1.220\n",
       "12     충청남도  1.186\n",
       "11     충청북도  1.172\n",
       "15     경상북도  1.167\n",
       "7     울산광역시  1.131\n",
       "16     경상남도  1.122\n",
       "10      강원도  1.067\n",
       "13     전라북도  1.044\n",
       "4     인천광역시  1.006\n",
       "9       경기도  1.002\n",
       "3     대구광역시  0.987\n",
       "5     광주광역시  0.972\n",
       "6     대전광역시  0.952\n",
       "2     부산광역시  0.899\n",
       "1     서울특별시  0.761"
      ]
     },
     "execution_count": 112,
     "metadata": {},
     "output_type": "execute_result"
    }
   ],
   "source": [
    "bear = pd.read_csv('mental/시도_합계출산율__모의_연령별_출산율_20240531155819.csv')\n",
    "bear.drop(0, inplace=True)\n",
    "bear = bear.loc[1:, ['시도별','2018']]\n",
    "bear.sort_values('2018', ascending=False, inplace=True)\n",
    "bear"
   ]
  },
  {
   "cell_type": "code",
   "execution_count": 119,
   "metadata": {},
   "outputs": [
    {
     "data": {
      "image/png": "[encoded data removed]",
      "text/plain": [
       "<Figure size 1000x500 with 1 Axes>"
      ]
     },
     "metadata": {},
     "output_type": "display_data"
    }
   ],
   "source": [
    "bear['2018'] = pd.to_numeric(bear['2018'])\n",
    "\n",
    "plt.figure(figsize=(10, 5))\n",
    "plt.bar(bear['시도별'], bear['2018'])\n",
    "plt.ylim(0, 2)\n",
    "plt.xticks(rotation=90)\n",
    "plt.xlabel('시도')\n",
    "plt.ylabel('2018')\n",
    "plt.title('2018 시도별 출산율 데이터')\n",
    "plt.tight_layout()\n",
    "\n",
    "plt.show()"
   ]
  },
  {
   "cell_type": "code",
   "execution_count": 66,
   "metadata": {},
   "outputs": [
    {
     "data": {
      "text/plain": [
       "array(['세종', '제주', '대전', '강원', '충북', '울산', '서울', '충남', '전북', '경북', '전남',\n",
       "       '경기', '대구', '인천', '경남', '부산', '광주'], dtype=object)"
      ]
     },
     "execution_count": 66,
     "metadata": {},
     "output_type": "execute_result"
    }
   ],
   "source": [
    "arr1 = np.array(spend_region.index)\n",
    "arr1"
   ]
  },
  {
   "cell_type": "code",
   "execution_count": 91,
   "metadata": {},
   "outputs": [
    {
     "data": {
      "text/plain": [
       "array(['세종', '충북', '경기', '대구', '부산'], dtype=object)"
      ]
     },
     "execution_count": 91,
     "metadata": {},
     "output_type": "execute_result"
    }
   ],
   "source": [
    "arr2 = np.array(bear.시도별)\n",
    "arr2\n",
    "arr2 = np.array(['세종', '전남', '제주', '충남', '충북', '경북', '울산',\n",
    "       '경남', '강원', '전북', '인천', '경기', '대구', '광주', '대전',\n",
    "       '부산', '서울'])\n",
    "arr1[arr1 == arr2] "
   ]
  },
  {
   "cell_type": "markdown",
   "metadata": {},
   "source": [
    "- 순위가 맞는 것이 몇개 없는 것으로 보아 출산율과는 복지상태의 관계성이 크게 높지 않을 수도 있음.."
   ]
  },
  {
   "cell_type": "markdown",
   "metadata": {},
   "source": [
    "# 입내원일수 최대일수 및 최소일수"
   ]
  },
  {
   "cell_type": "code",
   "execution_count": 40,
   "metadata": {},
   "outputs": [
    {
     "data": {
      "text/html": [
       "<div>\n",
       "<style scoped>\n",
       "    .dataframe tbody tr th:only-of-type {\n",
       "        vertical-align: middle;\n",
       "    }\n",
       "\n",
       "    .dataframe tbody tr th {\n",
       "        vertical-align: top;\n",
       "    }\n",
       "\n",
       "    .dataframe thead th {\n",
       "        text-align: right;\n",
       "    }\n",
       "</style>\n",
       "<table border=\"1\" class=\"dataframe\">\n",
       "  <thead>\n",
       "    <tr style=\"text-align: right;\">\n",
       "      <th></th>\n",
       "      <th>입내원일수</th>\n",
       "      <th>입내원일수</th>\n",
       "    </tr>\n",
       "    <tr>\n",
       "      <th>상별구분</th>\n",
       "      <th></th>\n",
       "      <th></th>\n",
       "    </tr>\n",
       "  </thead>\n",
       "  <tbody>\n",
       "    <tr>\n",
       "      <th>ADHD</th>\n",
       "      <td>16316</td>\n",
       "      <td>0</td>\n",
       "    </tr>\n",
       "    <tr>\n",
       "      <th>불면증</th>\n",
       "      <td>13399</td>\n",
       "      <td>0</td>\n",
       "    </tr>\n",
       "    <tr>\n",
       "      <th>불안장애</th>\n",
       "      <td>15458</td>\n",
       "      <td>0</td>\n",
       "    </tr>\n",
       "    <tr>\n",
       "      <th>우울증</th>\n",
       "      <td>48418</td>\n",
       "      <td>0</td>\n",
       "    </tr>\n",
       "    <tr>\n",
       "      <th>조울증</th>\n",
       "      <td>14223</td>\n",
       "      <td>0</td>\n",
       "    </tr>\n",
       "    <tr>\n",
       "      <th>조현병</th>\n",
       "      <td>15876</td>\n",
       "      <td>0</td>\n",
       "    </tr>\n",
       "  </tbody>\n",
       "</table>\n",
       "</div>"
      ],
      "text/plain": [
       "      입내원일수  입내원일수\n",
       "상별구분              \n",
       "ADHD  16316      0\n",
       "불면증   13399      0\n",
       "불안장애  15458      0\n",
       "우울증   48418      0\n",
       "조울증   14223      0\n",
       "조현병   15876      0"
      ]
     },
     "execution_count": 40,
     "metadata": {},
     "output_type": "execute_result"
    }
   ],
   "source": [
    "pd.concat([df.groupby(df.상별구분)['입내원일수'].max(), df.groupby(df.상별구분)[['입내원일수']].min()], axis=1)"
   ]
  },
  {
   "cell_type": "markdown",
   "metadata": {},
   "source": [
    "위의 값은 여러명의 인원이 총합으로 입원한 기간이므로 사실 인당 어느정도의 기간을 입원해 있었는지 명확히 판단할 수 없음"
   ]
  },
  {
   "cell_type": "code",
   "execution_count": 41,
   "metadata": {},
   "outputs": [
    {
     "data": {
      "text/html": [
       "<div>\n",
       "<style scoped>\n",
       "    .dataframe tbody tr th:only-of-type {\n",
       "        vertical-align: middle;\n",
       "    }\n",
       "\n",
       "    .dataframe tbody tr th {\n",
       "        vertical-align: top;\n",
       "    }\n",
       "\n",
       "    .dataframe thead th {\n",
       "        text-align: right;\n",
       "    }\n",
       "</style>\n",
       "<table border=\"1\" class=\"dataframe\">\n",
       "  <thead>\n",
       "    <tr style=\"text-align: right;\">\n",
       "      <th></th>\n",
       "      <th>진료년도</th>\n",
       "      <th>상별구분</th>\n",
       "      <th>시도</th>\n",
       "      <th>시군구</th>\n",
       "      <th>성별</th>\n",
       "      <th>연령구분</th>\n",
       "      <th>환자수</th>\n",
       "      <th>입내원일수</th>\n",
       "      <th>요양급여비용</th>\n",
       "    </tr>\n",
       "  </thead>\n",
       "  <tbody>\n",
       "    <tr>\n",
       "      <th>0</th>\n",
       "      <td>2018</td>\n",
       "      <td>ADHD</td>\n",
       "      <td>서울</td>\n",
       "      <td>강남구</td>\n",
       "      <td>남</td>\n",
       "      <td>0~9세</td>\n",
       "      <td>437</td>\n",
       "      <td>3330</td>\n",
       "      <td>188836790</td>\n",
       "    </tr>\n",
       "    <tr>\n",
       "      <th>1</th>\n",
       "      <td>2018</td>\n",
       "      <td>ADHD</td>\n",
       "      <td>서울</td>\n",
       "      <td>강남구</td>\n",
       "      <td>남</td>\n",
       "      <td>10~19세</td>\n",
       "      <td>1111</td>\n",
       "      <td>8869</td>\n",
       "      <td>563498480</td>\n",
       "    </tr>\n",
       "    <tr>\n",
       "      <th>2</th>\n",
       "      <td>2018</td>\n",
       "      <td>ADHD</td>\n",
       "      <td>서울</td>\n",
       "      <td>강남구</td>\n",
       "      <td>남</td>\n",
       "      <td>20~29세</td>\n",
       "      <td>456</td>\n",
       "      <td>3485</td>\n",
       "      <td>213248290</td>\n",
       "    </tr>\n",
       "    <tr>\n",
       "      <th>3</th>\n",
       "      <td>2018</td>\n",
       "      <td>ADHD</td>\n",
       "      <td>서울</td>\n",
       "      <td>강남구</td>\n",
       "      <td>남</td>\n",
       "      <td>30~39세</td>\n",
       "      <td>174</td>\n",
       "      <td>1357</td>\n",
       "      <td>72761750</td>\n",
       "    </tr>\n",
       "    <tr>\n",
       "      <th>4</th>\n",
       "      <td>2018</td>\n",
       "      <td>ADHD</td>\n",
       "      <td>서울</td>\n",
       "      <td>강남구</td>\n",
       "      <td>남</td>\n",
       "      <td>40~49세</td>\n",
       "      <td>55</td>\n",
       "      <td>357</td>\n",
       "      <td>21611080</td>\n",
       "    </tr>\n",
       "  </tbody>\n",
       "</table>\n",
       "</div>"
      ],
      "text/plain": [
       "   진료년도  상별구분  시도  시군구 성별    연령구분   환자수  입내원일수     요양급여비용\n",
       "0  2018  ADHD  서울  강남구  남    0~9세   437   3330  188836790\n",
       "1  2018  ADHD  서울  강남구  남  10~19세  1111   8869  563498480\n",
       "2  2018  ADHD  서울  강남구  남  20~29세   456   3485  213248290\n",
       "3  2018  ADHD  서울  강남구  남  30~39세   174   1357   72761750\n",
       "4  2018  ADHD  서울  강남구  남  40~49세    55    357   21611080"
      ]
     },
     "execution_count": 41,
     "metadata": {},
     "output_type": "execute_result"
    }
   ],
   "source": [
    "df.head()"
   ]
  },
  {
   "cell_type": "code",
   "execution_count": 42,
   "metadata": {},
   "outputs": [
    {
     "data": {
      "text/html": [
       "<div>\n",
       "<style scoped>\n",
       "    .dataframe tbody tr th:only-of-type {\n",
       "        vertical-align: middle;\n",
       "    }\n",
       "\n",
       "    .dataframe tbody tr th {\n",
       "        vertical-align: top;\n",
       "    }\n",
       "\n",
       "    .dataframe thead th {\n",
       "        text-align: right;\n",
       "    }\n",
       "</style>\n",
       "<table border=\"1\" class=\"dataframe\">\n",
       "  <thead>\n",
       "    <tr style=\"text-align: right;\">\n",
       "      <th></th>\n",
       "      <th>상별구분</th>\n",
       "      <th>환자수</th>\n",
       "      <th>입내원일수</th>\n",
       "    </tr>\n",
       "  </thead>\n",
       "  <tbody>\n",
       "    <tr>\n",
       "      <th>0</th>\n",
       "      <td>ADHD</td>\n",
       "      <td>437</td>\n",
       "      <td>3330</td>\n",
       "    </tr>\n",
       "    <tr>\n",
       "      <th>1</th>\n",
       "      <td>ADHD</td>\n",
       "      <td>1111</td>\n",
       "      <td>8869</td>\n",
       "    </tr>\n",
       "    <tr>\n",
       "      <th>2</th>\n",
       "      <td>ADHD</td>\n",
       "      <td>456</td>\n",
       "      <td>3485</td>\n",
       "    </tr>\n",
       "    <tr>\n",
       "      <th>3</th>\n",
       "      <td>ADHD</td>\n",
       "      <td>174</td>\n",
       "      <td>1357</td>\n",
       "    </tr>\n",
       "    <tr>\n",
       "      <th>4</th>\n",
       "      <td>ADHD</td>\n",
       "      <td>55</td>\n",
       "      <td>357</td>\n",
       "    </tr>\n",
       "    <tr>\n",
       "      <th>...</th>\n",
       "      <td>...</td>\n",
       "      <td>...</td>\n",
       "      <td>...</td>\n",
       "    </tr>\n",
       "    <tr>\n",
       "      <th>164994</th>\n",
       "      <td>조현병</td>\n",
       "      <td>41</td>\n",
       "      <td>1647</td>\n",
       "    </tr>\n",
       "    <tr>\n",
       "      <th>164995</th>\n",
       "      <td>조현병</td>\n",
       "      <td>29</td>\n",
       "      <td>597</td>\n",
       "    </tr>\n",
       "    <tr>\n",
       "      <th>164996</th>\n",
       "      <td>조현병</td>\n",
       "      <td>13</td>\n",
       "      <td>550</td>\n",
       "    </tr>\n",
       "    <tr>\n",
       "      <th>164997</th>\n",
       "      <td>조현병</td>\n",
       "      <td>0</td>\n",
       "      <td>0</td>\n",
       "    </tr>\n",
       "    <tr>\n",
       "      <th>164998</th>\n",
       "      <td>조현병</td>\n",
       "      <td>0</td>\n",
       "      <td>0</td>\n",
       "    </tr>\n",
       "  </tbody>\n",
       "</table>\n",
       "<p>150000 rows × 3 columns</p>\n",
       "</div>"
      ],
      "text/plain": [
       "        상별구분   환자수  입내원일수\n",
       "0       ADHD   437   3330\n",
       "1       ADHD  1111   8869\n",
       "2       ADHD   456   3485\n",
       "3       ADHD   174   1357\n",
       "4       ADHD    55    357\n",
       "...      ...   ...    ...\n",
       "164994   조현병    41   1647\n",
       "164995   조현병    29    597\n",
       "164996   조현병    13    550\n",
       "164997   조현병     0      0\n",
       "164998   조현병     0      0\n",
       "\n",
       "[150000 rows x 3 columns]"
      ]
     },
     "execution_count": 42,
     "metadata": {},
     "output_type": "execute_result"
    }
   ],
   "source": [
    "df[['상별구분','환자수', '입내원일수']]"
   ]
  },
  {
   "cell_type": "code",
   "execution_count": 43,
   "metadata": {},
   "outputs": [
    {
     "data": {
      "text/html": [
       "<div>\n",
       "<style scoped>\n",
       "    .dataframe tbody tr th:only-of-type {\n",
       "        vertical-align: middle;\n",
       "    }\n",
       "\n",
       "    .dataframe tbody tr th {\n",
       "        vertical-align: top;\n",
       "    }\n",
       "\n",
       "    .dataframe thead th {\n",
       "        text-align: right;\n",
       "    }\n",
       "</style>\n",
       "<table border=\"1\" class=\"dataframe\">\n",
       "  <thead>\n",
       "    <tr style=\"text-align: right;\">\n",
       "      <th></th>\n",
       "      <th>환자수</th>\n",
       "      <th>입내원일수</th>\n",
       "    </tr>\n",
       "    <tr>\n",
       "      <th>상별구분</th>\n",
       "      <th></th>\n",
       "      <th></th>\n",
       "    </tr>\n",
       "  </thead>\n",
       "  <tbody>\n",
       "    <tr>\n",
       "      <th>ADHD</th>\n",
       "      <td>502774</td>\n",
       "      <td>3742737</td>\n",
       "    </tr>\n",
       "    <tr>\n",
       "      <th>불면증</th>\n",
       "      <td>3549496</td>\n",
       "      <td>13317109</td>\n",
       "    </tr>\n",
       "    <tr>\n",
       "      <th>불안장애</th>\n",
       "      <td>4132425</td>\n",
       "      <td>22018186</td>\n",
       "    </tr>\n",
       "    <tr>\n",
       "      <th>우울증</th>\n",
       "      <td>4720207</td>\n",
       "      <td>34951297</td>\n",
       "    </tr>\n",
       "    <tr>\n",
       "      <th>조울증</th>\n",
       "      <td>620314</td>\n",
       "      <td>6987636</td>\n",
       "    </tr>\n",
       "    <tr>\n",
       "      <th>조현병</th>\n",
       "      <td>690800</td>\n",
       "      <td>21455154</td>\n",
       "    </tr>\n",
       "  </tbody>\n",
       "</table>\n",
       "</div>"
      ],
      "text/plain": [
       "          환자수     입내원일수\n",
       "상별구분                   \n",
       "ADHD   502774   3742737\n",
       "불면증   3549496  13317109\n",
       "불안장애  4132425  22018186\n",
       "우울증   4720207  34951297\n",
       "조울증    620314   6987636\n",
       "조현병    690800  21455154"
      ]
     },
     "execution_count": 43,
     "metadata": {},
     "output_type": "execute_result"
    }
   ],
   "source": [
    "# 질병별 환자수 및 입내원일수\n",
    "df4 = df.groupby('상별구분')['환자수', '입내원일수'].sum()\n",
    "df4"
   ]
  },
  {
   "cell_type": "code",
   "execution_count": 44,
   "metadata": {},
   "outputs": [
    {
     "data": {
      "image/png": "[encoded data removed]",
      "text/plain": [
       "<Figure size 640x480 with 1 Axes>"
      ]
     },
     "metadata": {},
     "output_type": "display_data"
    }
   ],
   "source": [
    "plt.bar(df4.index, df4.입내원일수/df4.환자수)\n",
    "plt.show()"
   ]
  },
  {
   "cell_type": "markdown",
   "metadata": {},
   "source": [
    "- 인당 입내원일수가 조현병이 가장 긴 편임을 알 수 있음"
   ]
  },
  {
   "cell_type": "code",
   "execution_count": null,
   "metadata": {},
   "outputs": [],
   "source": []
  }
 ],
 "metadata": {
  "kernelspec": {
   "display_name": "Python 3",
   "language": "python",
   "name": "python3"
  },
  "language_info": {
   "codemirror_mode": {
    "name": "ipython",
    "version": 3
   },
   "file_extension": ".py",
   "mimetype": "text/x-python",
   "name": "python",
   "nbconvert_exporter": "python",
   "pygments_lexer": "ipython3",
   "version": "3.10.9"
  }
 },
 "nbformat": 4,
 "nbformat_minor": 2
}
