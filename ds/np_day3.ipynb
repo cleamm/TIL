{
 "cells": [
  {
   "cell_type": "code",
   "execution_count": 2,
   "metadata": {},
   "outputs": [
    {
     "data": {
      "text/plain": [
       "array([[ 0,  1,  2,  3],\n",
       "       [ 4,  5,  6,  7],\n",
       "       [ 8,  9, 10, 11]])"
      ]
     },
     "execution_count": 2,
     "metadata": {},
     "output_type": "execute_result"
    }
   ],
   "source": [
    "import numpy as np\n",
    "\n",
    "arr = np.arange(12).reshape(3,4)\n",
    "arr"
   ]
  },
  {
   "cell_type": "code",
   "execution_count": 4,
   "metadata": {},
   "outputs": [
    {
     "data": {
      "text/plain": [
       "array([ 0,  1,  2,  3,  4,  5,  6,  7,  8,  9, 10, 11])"
      ]
     },
     "execution_count": 4,
     "metadata": {},
     "output_type": "execute_result"
    }
   ],
   "source": [
    "arr.reshape(12)\n",
    "arr.reshape(3*4)"
   ]
  },
  {
   "cell_type": "code",
   "execution_count": 6,
   "metadata": {},
   "outputs": [
    {
     "data": {
      "text/plain": [
       "array([[ 0,  1,  2,  3],\n",
       "       [ 4,  5,  6,  7],\n",
       "       [ 8,  9, 10, 11]])"
      ]
     },
     "execution_count": 6,
     "metadata": {},
     "output_type": "execute_result"
    }
   ],
   "source": [
    "arr"
   ]
  },
  {
   "cell_type": "code",
   "execution_count": 7,
   "metadata": {},
   "outputs": [
    {
     "data": {
      "text/plain": [
       "array([ 0,  1,  2,  3,  4,  5,  6,  7,  8,  9, 10, 11])"
      ]
     },
     "execution_count": 7,
     "metadata": {},
     "output_type": "execute_result"
    }
   ],
   "source": [
    "arr.flatten() # 다차원 배열을 1차원 배열로 변환 = 평탄화 작업이라고 함\n",
    "arr.ravel() # 풀어내는 작업 = 다차원을 1차원으로... 뭔차이지?"
   ]
  },
  {
   "cell_type": "code",
   "execution_count": 28,
   "metadata": {},
   "outputs": [
    {
     "data": {
      "text/plain": [
       "array([0, 1, 2])"
      ]
     },
     "execution_count": 28,
     "metadata": {},
     "output_type": "execute_result"
    }
   ],
   "source": [
    "x = np.arange(3) # 1차원 배열\n",
    "x"
   ]
  },
  {
   "cell_type": "code",
   "execution_count": 29,
   "metadata": {},
   "outputs": [
    {
     "data": {
      "text/plain": [
       "array([[0, 1, 2]])"
      ]
     },
     "execution_count": 29,
     "metadata": {},
     "output_type": "execute_result"
    }
   ],
   "source": [
    "x.reshape(1,3) # 2차원 배열 (행렬1*3)"
   ]
  },
  {
   "cell_type": "code",
   "execution_count": 30,
   "metadata": {},
   "outputs": [
    {
     "data": {
      "text/plain": [
       "array([[0],\n",
       "       [1],\n",
       "       [2]])"
      ]
     },
     "execution_count": 30,
     "metadata": {},
     "output_type": "execute_result"
    }
   ],
   "source": [
    "x.reshape(3,1) # 2차원 배열 (행렬3*1)"
   ]
  },
  {
   "cell_type": "code",
   "execution_count": 34,
   "metadata": {},
   "outputs": [
    {
     "name": "stdout",
     "output_type": "stream",
     "text": [
      "[[0]\n",
      " [1]\n",
      " [2]]\n",
      "(3, 1)\n"
     ]
    }
   ],
   "source": [
    "print(x[:,np.newaxis]) # 차원이 증가함\n",
    "print(x[:,np.newaxis].shape) # shape = (3,1)"
   ]
  },
  {
   "cell_type": "code",
   "execution_count": 36,
   "metadata": {},
   "outputs": [
    {
     "data": {
      "text/plain": [
       "array([ 0,  1,  2,  3,  4,  5,  6,  7,  8,  9, 10, 11])"
      ]
     },
     "execution_count": 36,
     "metadata": {},
     "output_type": "execute_result"
    }
   ],
   "source": [
    "arr2 = arr.flatten()\n",
    "arr2"
   ]
  },
  {
   "cell_type": "code",
   "execution_count": 40,
   "metadata": {},
   "outputs": [
    {
     "name": "stdout",
     "output_type": "stream",
     "text": [
      "0\n",
      "1\n",
      "2\n",
      "3\n",
      "4\n",
      "5\n",
      "6\n",
      "7\n",
      "8\n",
      "9\n",
      "10\n",
      "11\n"
     ]
    }
   ],
   "source": [
    "for i in arr2:\n",
    "    print(i)"
   ]
  },
  {
   "cell_type": "code",
   "execution_count": 38,
   "metadata": {},
   "outputs": [
    {
     "data": {
      "text/plain": [
       "array([[ 0,  1,  2],\n",
       "       [ 3,  4,  5],\n",
       "       [ 6,  7,  8],\n",
       "       [ 9, 10, 11]])"
      ]
     },
     "execution_count": 38,
     "metadata": {},
     "output_type": "execute_result"
    }
   ],
   "source": [
    "arr3 = arr.reshape(4,3)\n",
    "arr3"
   ]
  },
  {
   "cell_type": "code",
   "execution_count": 39,
   "metadata": {},
   "outputs": [
    {
     "name": "stdout",
     "output_type": "stream",
     "text": [
      "[0 1 2]\n",
      "[3 4 5]\n",
      "[6 7 8]\n",
      "[ 9 10 11]\n"
     ]
    }
   ],
   "source": [
    "for i in arr3:\n",
    "    print(i)"
   ]
  },
  {
   "cell_type": "code",
   "execution_count": 41,
   "metadata": {},
   "outputs": [
    {
     "name": "stdout",
     "output_type": "stream",
     "text": [
      "0\n",
      "1\n",
      "2\n",
      "3\n",
      "4\n",
      "5\n",
      "6\n",
      "7\n",
      "8\n",
      "9\n",
      "10\n",
      "11\n"
     ]
    }
   ],
   "source": [
    "for i in arr3:\n",
    "    for j in i:\n",
    "        print(j)"
   ]
  },
  {
   "cell_type": "code",
   "execution_count": 42,
   "metadata": {},
   "outputs": [
    {
     "data": {
      "text/plain": [
       "array([[[ 0,  1],\n",
       "        [ 2,  3],\n",
       "        [ 4,  5]],\n",
       "\n",
       "       [[ 6,  7],\n",
       "        [ 8,  9],\n",
       "        [10, 11]]])"
      ]
     },
     "execution_count": 42,
     "metadata": {},
     "output_type": "execute_result"
    }
   ],
   "source": [
    "arr4 = arr.reshape(2,3,2)\n",
    "arr4"
   ]
  },
  {
   "cell_type": "code",
   "execution_count": 46,
   "metadata": {},
   "outputs": [
    {
     "name": "stdout",
     "output_type": "stream",
     "text": [
      "0\n",
      "1\n",
      "2\n",
      "3\n",
      "4\n",
      "5\n",
      "6\n",
      "7\n",
      "8\n",
      "9\n",
      "10\n",
      "11\n"
     ]
    }
   ],
   "source": [
    "for i in arr4:\n",
    "    for j in i:\n",
    "        for k in j:\n",
    "            print(k)"
   ]
  },
  {
   "cell_type": "code",
   "execution_count": 48,
   "metadata": {},
   "outputs": [],
   "source": [
    "# 파이썬에서 사용했던 자료구조\n",
    "# 리스트(list), 튜플(tuple), 딕셔너리(dict), 집합(set), \n",
    "\n",
    "# 판다스: 데이터프레임(dataframe), 시리즈(series)\n",
    "# matplotlib, seaborn, plotly, tableau(다른 소프트웨어 프로그램), ...\n",
    "# numpy = 데이터를 전처리하기 위한 용도임(빠른 연산)\n",
    "# 배열(ndarray = n dimension array), \n",
    "# 데이터 수집(크롤링, db) -> 전처리(넘파이, 판다스)\n",
    "# 컬러이미지: 1000, 1000, 3  * 10만장\n",
    "# [\n",
    "#     [\n",
    "#         [200 0 0 255 255 255 0 0 0 ...],    # 행\n",
    "#         [200 0 0 255 255 255 0 0 0 ...],\n",
    "#         ...\n",
    "#         [200 0 0 255 255 255 0 0 0 ...], \n",
    "#     ], # 1채널\n",
    "#     [\n",
    "#         [200 0 0 255 255 255 0 0 0 ...],\n",
    "#         [200 0 0 255 255 255 0 0 0 ...],\n",
    "#         ...\n",
    "#         [200 0 0 255 255 255 0 0 0 ...], \n",
    "#     ],# 2채널\n",
    "#     [\n",
    "#         [200 0 0 255 255 255 0 0 0 ...],\n",
    "#         [200 0 0 255 255 255 0 0 0 ...],\n",
    "#         ...\n",
    "#         [200 0 0 255 255 255 0 0 0 ...], \n",
    "#     ] # 3채널 \n",
    "# ],# 이미지 1개\n",
    "# [...] # 이미지 n개\n",
    "\n"
   ]
  },
  {
   "cell_type": "markdown",
   "metadata": {},
   "source": [
    "배열 합치기"
   ]
  },
  {
   "cell_type": "code",
   "execution_count": 74,
   "metadata": {},
   "outputs": [
    {
     "name": "stdout",
     "output_type": "stream",
     "text": [
      "a1 [[1. 1. 1.]\n",
      " [1. 1. 1.]]\n",
      "a2 [[0. 0.]\n",
      " [0. 0.]]\n",
      "a3 [[0. 0. 0.]\n",
      " [0. 0. 0.]\n",
      " [0. 0. 0.]]\n"
     ]
    }
   ],
   "source": [
    "a1 = np.ones((2,3))\n",
    "a2 = np.zeros((2,2))\n",
    "a3 = np.zeros((3,3))\n",
    "print('a1', a1)\n",
    "print('a2', a2)\n",
    "print('a3', a3)"
   ]
  },
  {
   "cell_type": "code",
   "execution_count": 81,
   "metadata": {},
   "outputs": [
    {
     "data": {
      "text/plain": [
       "array([[0., 0., 0.],\n",
       "       [0., 0., 0.],\n",
       "       [0., 0., 0.]])"
      ]
     },
     "execution_count": 81,
     "metadata": {},
     "output_type": "execute_result"
    }
   ],
   "source": [
    "a3"
   ]
  },
  {
   "cell_type": "code",
   "execution_count": 85,
   "metadata": {},
   "outputs": [
    {
     "data": {
      "text/plain": [
       "array([[[0., 0., 0., 0.],\n",
       "        [0., 0., 0., 0.],\n",
       "        [0., 0., 0., 0.]],\n",
       "\n",
       "       [[0., 0., 0., 0.],\n",
       "        [0., 0., 0., 0.],\n",
       "        [0., 0., 0., 0.]],\n",
       "\n",
       "       [[0., 0., 0., 0.],\n",
       "        [0., 0., 0., 0.],\n",
       "        [0., 0., 0., 0.]]])"
      ]
     },
     "execution_count": 85,
     "metadata": {},
     "output_type": "execute_result"
    }
   ],
   "source": [
    "np.hstack([a1, a2]) # horizental = 수평 : 행 개수가 같아야 함\n",
    "np.vstack([a1, a3]) # vertical = 수직 : 열 개수가 같아야 함\n",
    "np.dstack([a3, a3, a3, a3]) # depth - 깊이 : 행렬이 같아야 함. 합칠수록 열이 늘어나는 것처럼 보이나 열이 아닌 '깊이'가 늘어나는 것임"
   ]
  },
  {
   "cell_type": "code",
   "execution_count": 95,
   "metadata": {},
   "outputs": [
    {
     "name": "stdout",
     "output_type": "stream",
     "text": [
      "(3, 4)\n",
      "(3, 4)\n"
     ]
    },
    {
     "data": {
      "text/plain": [
       "array([[[ 0.,  0.],\n",
       "        [ 1.,  0.],\n",
       "        [ 2.,  0.],\n",
       "        [ 3.,  0.]],\n",
       "\n",
       "       [[ 4.,  0.],\n",
       "        [ 5.,  0.],\n",
       "        [ 6.,  0.],\n",
       "        [ 7.,  0.]],\n",
       "\n",
       "       [[ 8.,  0.],\n",
       "        [ 9.,  0.],\n",
       "        [10.,  0.],\n",
       "        [11.,  0.]]])"
      ]
     },
     "execution_count": 95,
     "metadata": {},
     "output_type": "execute_result"
    }
   ],
   "source": [
    "a1=np.arange(12).reshape(3,4)\n",
    "a2=np.zeros((3,4))\n",
    "print(a1.shape)\n",
    "print(a2.shape)\n",
    "np.dstack([a1,a2]) # 보면 depth에 해당하는 부분은 뒤에 열로 생겨남\n",
    "# 보기가 어렵게 되므로 dstack함수는 잘 사용되지 않으며 stack을 주로 사용함"
   ]
  },
  {
   "cell_type": "code",
   "execution_count": 97,
   "metadata": {},
   "outputs": [
    {
     "name": "stdout",
     "output_type": "stream",
     "text": [
      "(2, 3, 4)\n"
     ]
    },
    {
     "data": {
      "text/plain": [
       "array([[[ 0.,  1.,  2.,  3.],\n",
       "        [ 4.,  5.,  6.,  7.],\n",
       "        [ 8.,  9., 10., 11.]],\n",
       "\n",
       "       [[ 0.,  0.,  0.,  0.],\n",
       "        [ 0.,  0.,  0.,  0.],\n",
       "        [ 0.,  0.,  0.,  0.]]])"
      ]
     },
     "execution_count": 97,
     "metadata": {},
     "output_type": "execute_result"
    }
   ],
   "source": [
    "print(np.stack([a1, a2]).shape) # stack을 사용하면 새로 앞에 shape를 추가하므로 보편적으로 바라보는 형태로 차원이 생성됨\n",
    "np.stack([a1, a2]) # axis(축)를 지정, 기본값은 0"
   ]
  },
  {
   "cell_type": "code",
   "execution_count": 107,
   "metadata": {},
   "outputs": [
    {
     "data": {
      "text/plain": [
       "array([[[ 0.,  1.,  2.,  3.],\n",
       "        [ 0.,  0.,  0.,  0.]],\n",
       "\n",
       "       [[ 4.,  5.,  6.,  7.],\n",
       "        [ 0.,  0.,  0.,  0.]],\n",
       "\n",
       "       [[ 8.,  9., 10., 11.],\n",
       "        [ 0.,  0.,  0.,  0.]]])"
      ]
     },
     "execution_count": 107,
     "metadata": {},
     "output_type": "execute_result"
    }
   ],
   "source": [
    "r1 = np.stack([a1,a2], axis=1) # 순서가 바뀜. axis=2 로 세팅하면 dstack과 동일한 결과 확인 가능\n",
    "r1"
   ]
  },
  {
   "cell_type": "code",
   "execution_count": 108,
   "metadata": {},
   "outputs": [
    {
     "data": {
      "text/plain": [
       "array([[[ 0.,  0.],\n",
       "        [ 1.,  0.],\n",
       "        [ 2.,  0.],\n",
       "        [ 3.,  0.]],\n",
       "\n",
       "       [[ 4.,  0.],\n",
       "        [ 5.,  0.],\n",
       "        [ 6.,  0.],\n",
       "        [ 7.,  0.]],\n",
       "\n",
       "       [[ 8.,  0.],\n",
       "        [ 9.,  0.],\n",
       "        [10.,  0.],\n",
       "        [11.,  0.]]])"
      ]
     },
     "execution_count": 108,
     "metadata": {},
     "output_type": "execute_result"
    }
   ],
   "source": [
    "r2 = np.stack([a1,a2], axis=2) \n",
    "r2"
   ]
  },
  {
   "cell_type": "code",
   "execution_count": null,
   "metadata": {},
   "outputs": [],
   "source": [
    "# 두 행렬 (3,4), (3,4)를 stack함수로 연결할 때 axis값에 따라 shape이 달라짐\n",
    "# axis=0 => 2,3,4\n",
    "# axis=1 => 3,2,4\n",
    "# axis=2 => 3,4,2"
   ]
  },
  {
   "cell_type": "code",
   "execution_count": 120,
   "metadata": {},
   "outputs": [
    {
     "data": {
      "text/plain": [
       "array([[ 1, 11],\n",
       "       [ 2, 12],\n",
       "       [ 3, 13]])"
      ]
     },
     "execution_count": 120,
     "metadata": {},
     "output_type": "execute_result"
    }
   ],
   "source": [
    "# 아래와 같은 배열이 있을 때 \n",
    "a1 = np.array([1,2,3])\n",
    "a2 = np.array([11,12,13])\n",
    "\n",
    "# array([ 1,  2,  3, 11, 12, 13]) 만들기\n",
    "np.hstack([a1,a2])\n",
    "np.r_[a1,a2] # 위와 같은 결과를 보여줌. 인덱서 함수\n",
    "\n",
    "\n",
    "# array([[ 1, 11],\n",
    "#        [ 2, 12],\n",
    "#        [ 3, 13]])\n",
    "np.c_[a1,a2]\n",
    "# np.c_[a1,a2] == np.vstack([a1,a2]).T ( 이런 것도 있구나.. )"
   ]
  },
  {
   "cell_type": "code",
   "execution_count": 143,
   "metadata": {},
   "outputs": [
    {
     "name": "stdout",
     "output_type": "stream",
     "text": [
      "[[0 1 2]\n",
      " [3 4 5]]\n",
      "[[0 1 2 0 1 2 0 1 2]\n",
      " [3 4 5 3 4 5 3 4 5]]\n",
      "[[0 1 2]\n",
      " [3 4 5]\n",
      " [0 1 2]\n",
      " [3 4 5]\n",
      " [0 1 2]\n",
      " [3 4 5]]\n",
      "\n",
      "[[[0 1 2]\n",
      "  [3 4 5]]\n",
      "\n",
      " [[0 1 2]\n",
      "  [3 4 5]]\n",
      "\n",
      " [[0 1 2]\n",
      "  [3 4 5]]]\n",
      "\n"
     ]
    }
   ],
   "source": [
    "# tile : 동일한 배열을 반복해서 연결\n",
    "arr = np.arange(6).reshape(2,3)\n",
    "print(arr)\n",
    "print(np.tile(arr, 3)) # 기본값: (n,1)\n",
    "print(np.tile(arr, (3,1)), end='\\n\\n') # 상하반복 3회, 좌우반복 1회\n",
    "print(np.tile(arr, (3,1,1)), end='\\n\\n')  # 차원을 늘릴수도 있음;;"
   ]
  },
  {
   "cell_type": "code",
   "execution_count": 157,
   "metadata": {},
   "outputs": [
    {
     "data": {
      "text/plain": [
       "array([[0, 0, 0, 1, 1],\n",
       "       [0, 0, 0, 1, 1],\n",
       "       [0, 0, 0, 1, 1]], dtype=int8)"
      ]
     },
     "execution_count": 157,
     "metadata": {},
     "output_type": "execute_result"
    }
   ],
   "source": [
    "# [0, 0, 0, 1, 1],\n",
    "# [0, 0, 0, 1, 1],\n",
    "# [0, 0, 0, 1, 1]] 이와 같은 결과를 만들어라\n",
    "\n",
    "arr1 = np.array([0,0,0,1,1])\n",
    "arr2 = np.zeros(3, dtype=np.int8)\n",
    "arr3 = np.ones(2, dtype=np.int8)\n",
    "np.tile(np.hstack([arr2,arr3]), (3,1))\n",
    "# np.tile(arr1, (3,1))"
   ]
  },
  {
   "cell_type": "code",
   "execution_count": 199,
   "metadata": {},
   "outputs": [],
   "source": [
    "x = np.arange(3)\n",
    "y = np.arange(5)"
   ]
  },
  {
   "cell_type": "code",
   "execution_count": 200,
   "metadata": {},
   "outputs": [
    {
     "data": {
      "text/plain": [
       "array([[0, 1, 2],\n",
       "       [0, 1, 2],\n",
       "       [0, 1, 2],\n",
       "       [0, 1, 2],\n",
       "       [0, 1, 2]])"
      ]
     },
     "execution_count": 200,
     "metadata": {},
     "output_type": "execute_result"
    }
   ],
   "source": [
    "x, y = np.meshgrid(x,y)\n",
    "x"
   ]
  },
  {
   "cell_type": "code",
   "execution_count": 195,
   "metadata": {},
   "outputs": [
    {
     "data": {
      "text/plain": [
       "array([[0, 0, 0],\n",
       "       [1, 1, 1],\n",
       "       [2, 2, 2],\n",
       "       [3, 3, 3],\n",
       "       [4, 4, 4]])"
      ]
     },
     "execution_count": 195,
     "metadata": {},
     "output_type": "execute_result"
    }
   ],
   "source": [
    "y"
   ]
  },
  {
   "cell_type": "code",
   "execution_count": 172,
   "metadata": {},
   "outputs": [],
   "source": [
    "# (x,y) = (0,0),(0,1),..,(1,4),..,(2,4)"
   ]
  },
  {
   "cell_type": "code",
   "execution_count": 201,
   "metadata": {},
   "outputs": [
    {
     "data": {
      "text/plain": [
       "[[(0, 0), (1, 0), (2, 0)],\n",
       " [(0, 1), (1, 1), (2, 1)],\n",
       " [(0, 2), (1, 2), (2, 2)],\n",
       " [(0, 3), (1, 3), (2, 3)],\n",
       " [(0, 4), (1, 4), (2, 4)]]"
      ]
     },
     "execution_count": 201,
     "metadata": {},
     "output_type": "execute_result"
    }
   ],
   "source": [
    "[list(zip(x,y)) for x,y in zip(x,y)]"
   ]
  },
  {
   "cell_type": "code",
   "execution_count": 202,
   "metadata": {},
   "outputs": [
    {
     "data": {
      "text/plain": [
       "[[(0, 0), (1, 0), (2, 0)],\n",
       " [(0, 1), (1, 1), (2, 1)],\n",
       " [(0, 2), (1, 2), (2, 2)],\n",
       " [(0, 3), (1, 3), (2, 3)],\n",
       " [(0, 4), (1, 4), (2, 4)]]"
      ]
     },
     "execution_count": 202,
     "metadata": {},
     "output_type": "execute_result"
    }
   ],
   "source": [
    "[list(zip(x,y)) for x,y in zip(x,y)] # 사각형 만들기...근데 데이터분석하면서 쓸일이 없음(강사님 말씀).."
   ]
  },
  {
   "cell_type": "code",
   "execution_count": 203,
   "metadata": {},
   "outputs": [],
   "source": [
    "arr1 = np.arange(1,4)\n",
    "arr2 = np.arange(11,33,10)"
   ]
  },
  {
   "cell_type": "code",
   "execution_count": 206,
   "metadata": {},
   "outputs": [
    {
     "data": {
      "text/plain": [
       "array([ 1,  2,  3, 11, 21, 31])"
      ]
     },
     "execution_count": 206,
     "metadata": {},
     "output_type": "execute_result"
    }
   ],
   "source": [
    "np.concatenate([arr1, arr2]) # 데이터 합치기 \n",
    "np.concatenate((arr1, arr2)) # 위와 결과 같음"
   ]
  },
  {
   "cell_type": "code",
   "execution_count": null,
   "metadata": {},
   "outputs": [],
   "source": [
    "arr3 = np.array(np.arange(1,4))\n",
    "arr4 = np.array(np.arange(11,33,10))"
   ]
  },
  {
   "cell_type": "code",
   "execution_count": 219,
   "metadata": {},
   "outputs": [
    {
     "data": {
      "text/plain": [
       "array([[ 0,  1,  2,  3,  4,  5],\n",
       "       [10, 11, 12, 13, 14, 15],\n",
       "       [20, 21, 22, 23, 24, 25],\n",
       "       [30, 31, 32, 33, 34, 35],\n",
       "       [40, 41, 42, 43, 44, 45],\n",
       "       [50, 51, 52, 53, 54, 55]])"
      ]
     },
     "execution_count": 219,
     "metadata": {},
     "output_type": "execute_result"
    }
   ],
   "source": [
    "# array([[ 0,  1,  2,  3,  4,  5],\n",
    "#        [10, 11, 12, 13, 14, 15],\n",
    "#        [20, 21, 22, 23, 24, 25],\n",
    "#        [30, 31, 32, 33, 34, 35],\n",
    "#        [40, 41, 42, 43, 44, 45],\n",
    "#        [50, 51, 52, 53, 54, 55]]) 이와 같이 만들어 볼 것\n",
    "# 내 답안\n",
    "arr1 = np.arange(6)\n",
    "arr2 = np.arange(0, 51, 10)\n",
    "n, m = np.meshgrid(arr1, arr2)\n",
    "m + n"
   ]
  },
  {
   "cell_type": "code",
   "execution_count": 230,
   "metadata": {},
   "outputs": [
    {
     "data": {
      "text/plain": [
       "array([[ 0,  1,  2,  3,  4,  5],\n",
       "       [10, 11, 12, 13, 14, 15],\n",
       "       [20, 21, 22, 23, 24, 25],\n",
       "       [30, 31, 32, 33, 34, 35],\n",
       "       [40, 41, 42, 43, 44, 45],\n",
       "       [50, 51, 52, 53, 54, 55]])"
      ]
     },
     "execution_count": 230,
     "metadata": {},
     "output_type": "execute_result"
    }
   ],
   "source": [
    "arr1 = np.arange(6)\n",
    "arr2 = np.arange(0, 56, 10)\n",
    "arr1 + arr2[:, np.newaxis] # 브로드캐스팅을 이용한 방법임"
   ]
  },
  {
   "cell_type": "code",
   "execution_count": 232,
   "metadata": {},
   "outputs": [
    {
     "data": {
      "text/plain": [
       "array([[ 0,  1,  2,  3,  4,  5],\n",
       "       [10, 11, 12, 13, 14, 15],\n",
       "       [20, 21, 22, 23, 24, 25],\n",
       "       [30, 31, 32, 33, 34, 35],\n",
       "       [40, 41, 42, 43, 44, 45],\n",
       "       [50, 51, 52, 53, 54, 55]])"
      ]
     },
     "execution_count": 232,
     "metadata": {},
     "output_type": "execute_result"
    }
   ],
   "source": [
    "arr=np.arange(6)\n",
    "arr_f= [arr + i*10 for i in range(6)]\n",
    "np.array(arr_f)"
   ]
  },
  {
   "cell_type": "code",
   "execution_count": null,
   "metadata": {},
   "outputs": [],
   "source": [
    "arr = np.arange(6)\n",
    "res = arr\n",
    "for i in range(5):\n",
    "    new_arr = res + 10\n",
    "    res = np.vstack([arr, new_arr])\n",
    "res"
   ]
  },
  {
   "cell_type": "code",
   "execution_count": null,
   "metadata": {},
   "outputs": [],
   "source": [
    "arrays = []\n",
    "for i in range(6):\n",
    "    arr = np.arange(0 + i * 10, 6 + i * 10)\n",
    "    arrays.append(arr)\n",
    "res = np.concatenate(arrays)\n",
    "res.reshape(6,6)"
   ]
  },
  {
   "cell_type": "markdown",
   "metadata": {},
   "source": [
    "벡터화 연산"
   ]
  },
  {
   "cell_type": "code",
   "execution_count": 246,
   "metadata": {},
   "outputs": [
    {
     "data": {
      "text/plain": [
       "False"
      ]
     },
     "execution_count": 246,
     "metadata": {},
     "output_type": "execute_result"
    }
   ],
   "source": [
    "a = np.arange(1,5) # 1 2 3 4\n",
    "b = np.array([4,2,2,4])\n",
    "np.all(a>=b) # 배열 모든 요소가 True여야 True를 반환"
   ]
  },
  {
   "cell_type": "code",
   "execution_count": 251,
   "metadata": {},
   "outputs": [],
   "source": [
    "# 벡터(행렬)끼리 연산하려면 크기가 동일해야함\n",
    "# 브로드캐스팅: 벡터(행렬)의 크기가 다르더라도 연산이 가능하도록\n",
    "# 크기를 동일하게 해주는 작업\n",
    "# 벡터    스칼라\n",
    "# 1                 11\n",
    "# 2   +    10   =   12\n",
    "# 3                 13\n",
    "\n",
    "# 간단한 예시로\n",
    "# arr = np.array([1,2,3,4]) + 4\n",
    "# print(arr)\n",
    "# 위의 예제가 브로드캐스팅이라고 할 수 있음"
   ]
  },
  {
   "cell_type": "code",
   "execution_count": 268,
   "metadata": {},
   "outputs": [
    {
     "data": {
      "text/plain": [
       "array([[1, 3, 5],\n",
       "       [2, 4, 6],\n",
       "       [3, 5, 7]])"
      ]
     },
     "execution_count": 268,
     "metadata": {},
     "output_type": "execute_result"
    }
   ],
   "source": [
    "# 행렬(2)    벡터(1)\n",
    "# 0 1 2       10      10 11 12\n",
    "# 1 2 3   +   11   =  12 13 14\n",
    "# 2 3 4       12      14 15 16\n",
    "\n",
    "arr = np.array([np.array([0,1,2]), np.array([1,2,3]), np.array([2,3,4])])\n",
    "arr2 = np.array([np.array([10]), np.array([11]), np.array([12])])\n",
    "arr3 = np.array([1,2,3])\n",
    "arr+arr2\n",
    "arr+arr3"
   ]
  },
  {
   "cell_type": "code",
   "execution_count": 265,
   "metadata": {},
   "outputs": [
    {
     "data": {
      "text/plain": [
       "array([1, 2, 3, 4, 5])"
      ]
     },
     "execution_count": 265,
     "metadata": {},
     "output_type": "execute_result"
    }
   ],
   "source": [
    "x = np.arange(5)\n",
    "y = np.ones_like(x) \n",
    "x + y # x + y == x + 1"
   ]
  },
  {
   "cell_type": "code",
   "execution_count": 269,
   "metadata": {},
   "outputs": [
    {
     "data": {
      "text/plain": [
       "array([0, 1, 2, 3, 4, 5])"
      ]
     },
     "execution_count": 269,
     "metadata": {},
     "output_type": "execute_result"
    }
   ],
   "source": [
    "arr1 = np.arange(6)\n",
    "arr2 = np.arange(0,56,10)"
   ]
  },
  {
   "cell_type": "code",
   "execution_count": 289,
   "metadata": {},
   "outputs": [
    {
     "data": {
      "text/plain": [
       "array([[0, 1, 2],\n",
       "       [1, 2, 3],\n",
       "       [2, 3, 4],\n",
       "       [3, 4, 5],\n",
       "       [4, 5, 6]])"
      ]
     },
     "execution_count": 289,
     "metadata": {},
     "output_type": "execute_result"
    }
   ],
   "source": [
    "# array([[0, 1, 2],\n",
    "#        [1, 2, 3],\n",
    "#        [2, 3, 4],\n",
    "#        [3, 4, 5],\n",
    "#        [4, 5, 6]])\n",
    "# x = np.arange(3)\n",
    "# y = np.array([[0],[1],[2],[3],[4]])\n",
    "# x+y\n",
    "\n",
    "# np.array([np.array([0+i,1+i, 2+i]) for i in range(5)])   \n",
    "\n",
    "x = np.arange(3)\n",
    "y = np.array([np.array([i]) for i in range(5)])\n",
    "x+y"
   ]
  },
  {
   "cell_type": "code",
   "execution_count": 292,
   "metadata": {},
   "outputs": [
    {
     "data": {
      "text/plain": [
       "array([[0],\n",
       "       [1],\n",
       "       [2],\n",
       "       [3],\n",
       "       [4]])"
      ]
     },
     "execution_count": 292,
     "metadata": {},
     "output_type": "execute_result"
    }
   ],
   "source": [
    "y = np.arange(5)\n",
    "y.reshape(5,1)"
   ]
  },
  {
   "cell_type": "code",
   "execution_count": null,
   "metadata": {},
   "outputs": [],
   "source": [
    "x=np.arange(3)\n",
    "y=np.arange(5)\n",
    "x,y=np.meshgrid(x,y)\n",
    "x+y"
   ]
  },
  {
   "cell_type": "code",
   "execution_count": null,
   "metadata": {},
   "outputs": [],
   "source": [
    "arr=np.arange(3)\n",
    "arr_f= [arr + i for i in range(5)]\n",
    "arr_f=np.array(arr_f)\n",
    "arr_f"
   ]
  },
  {
   "cell_type": "code",
   "execution_count": null,
   "metadata": {},
   "outputs": [],
   "source": [
    "x,y=np.meshgrid(np.arange(3),np.arange(5))\n",
    "x+y"
   ]
  },
  {
   "cell_type": "code",
   "execution_count": null,
   "metadata": {},
   "outputs": [],
   "source": [
    "x = np.arange(3)\n",
    "y= np.arange(5).reshape(5,1)\n",
    "x+y"
   ]
  },
  {
   "cell_type": "code",
   "execution_count": 298,
   "metadata": {},
   "outputs": [
    {
     "data": {
      "text/plain": [
       "array([[0, 1, 2],\n",
       "       [1, 2, 3],\n",
       "       [2, 3, 4],\n",
       "       [3, 4, 5],\n",
       "       [4, 5, 6]])"
      ]
     },
     "execution_count": 298,
     "metadata": {},
     "output_type": "execute_result"
    }
   ],
   "source": [
    "# 강사님 풀이\n",
    "np.vstack([range(7) [i:i+3] for i in range(5)])"
   ]
  },
  {
   "cell_type": "code",
   "execution_count": 300,
   "metadata": {},
   "outputs": [],
   "source": []
  },
  {
   "cell_type": "code",
   "execution_count": null,
   "metadata": {},
   "outputs": [],
   "source": [
    "# 안성진 노래나 영화 추천\n",
    "# 김상준 영화흥행예측\n",
    "# 최신기사를 가져와서 텍스트 요약\n"
   ]
  },
  {
   "cell_type": "code",
   "execution_count": 301,
   "metadata": {},
   "outputs": [],
   "source": [
    "# 연습문제"
   ]
  },
  {
   "cell_type": "code",
   "execution_count": null,
   "metadata": {},
   "outputs": [],
   "source": [
    "# 1. \n",
    "# 지금까지 공부한 명령어를 사용하여 다음과 같은 배열을 다양한 방법으로 만드시오.\n",
    "# - tile사용, tile 미사용,...\n",
    "# array([[   0.,    0.,    0.,    1.,    1.],\n",
    "#        [   0.,    0.,    0.,    1.,    1.],\n",
    "#        [   0.,    0.,    0.,    1.,    1.],\n",
    "#        [  10.,   20.,   30.,   40.,   50.],\n",
    "#        [  60.,   70.,   80.,   90.,  100.],\n",
    "#        [ 110.,  120.,  130.,  140.,  150.],\n",
    "#        [   0.,    0.,    0.,    1.,    1.],\n",
    "#        [   0.,    0.,    0.,    1.,    1.],\n",
    "#        [   0.,    0.,    0.,    1.,    1.],\n",
    "#        [  10.,   20.,   30.,   40.,   50.],\n",
    "#        [  60.,   70.,   80.,   90.,  100.],\n",
    "#        [ 110.,  120.,  130.,  140.,  150.]])"
   ]
  },
  {
   "cell_type": "code",
   "execution_count": 390,
   "metadata": {},
   "outputs": [
    {
     "data": {
      "text/plain": [
       "array([[  0.,   0.,   0.,   1.,   1.],\n",
       "       [  0.,   0.,   0.,   1.,   1.],\n",
       "       [  0.,   0.,   0.,   1.,   1.],\n",
       "       [ 10.,  20.,  30.,  40.,  50.],\n",
       "       [ 60.,  70.,  80.,  90., 100.],\n",
       "       [110., 120., 130., 140., 150.],\n",
       "       [  0.,   0.,   0.,   1.,   1.],\n",
       "       [  0.,   0.,   0.,   1.,   1.],\n",
       "       [  0.,   0.,   0.,   1.,   1.],\n",
       "       [ 10.,  20.,  30.,  40.,  50.],\n",
       "       [ 60.,  70.,  80.,  90., 100.],\n",
       "       [110., 120., 130., 140., 150.]])"
      ]
     },
     "execution_count": 390,
     "metadata": {},
     "output_type": "execute_result"
    }
   ],
   "source": [
    "import numpy as np\n",
    "arr1 = np.hstack([np.zeros(3), np.ones(2)]) + np.array([0,0,0]).reshape(3,1)\n",
    "arr2 = np.arange(10, 160, 10).reshape(3,5)\n",
    "arr3 = np.vstack([arr1,arr2])\n",
    "np.vstack([arr3,arr3])"
   ]
  },
  {
   "cell_type": "code",
   "execution_count": 388,
   "metadata": {},
   "outputs": [
    {
     "data": {
      "text/plain": [
       "array([[  0.,   0.,   0.,   1.,   1.],\n",
       "       [  0.,   0.,   0.,   1.,   1.],\n",
       "       [  0.,   0.,   0.,   1.,   1.],\n",
       "       [ 10.,  20.,  30.,  40.,  50.],\n",
       "       [ 60.,  70.,  80.,  90., 100.],\n",
       "       [110., 120., 130., 140., 150.],\n",
       "       [  0.,   0.,   0.,   1.,   1.],\n",
       "       [  0.,   0.,   0.,   1.,   1.],\n",
       "       [  0.,   0.,   0.,   1.,   1.],\n",
       "       [ 10.,  20.,  30.,  40.,  50.],\n",
       "       [ 60.,  70.,  80.,  90., 100.],\n",
       "       [110., 120., 130., 140., 150.]])"
      ]
     },
     "execution_count": 388,
     "metadata": {},
     "output_type": "execute_result"
    }
   ],
   "source": [
    "arr = np.hstack([np.zeros([3,3]), np.ones([3,2])])\n",
    "arr2 = np.arange(10, 160, 10).reshape(3,5)\n",
    "np.vstack([arr, arr2, arr, arr2])"
   ]
  },
  {
   "cell_type": "code",
   "execution_count": 387,
   "metadata": {},
   "outputs": [
    {
     "data": {
      "text/plain": [
       "array([[  0.,   0.,   0.,   1.,   1.],\n",
       "       [  0.,   0.,   0.,   1.,   1.],\n",
       "       [  0.,   0.,   0.,   1.,   1.],\n",
       "       [ 10.,  20.,  30.,  40.,  50.],\n",
       "       [ 60.,  70.,  80.,  90., 100.],\n",
       "       [110., 120., 130., 140., 150.],\n",
       "       [  0.,   0.,   0.,   1.,   1.],\n",
       "       [  0.,   0.,   0.,   1.,   1.],\n",
       "       [  0.,   0.,   0.,   1.,   1.],\n",
       "       [ 10.,  20.,  30.,  40.,  50.],\n",
       "       [ 60.,  70.,  80.,  90., 100.],\n",
       "       [110., 120., 130., 140., 150.]])"
      ]
     },
     "execution_count": 387,
     "metadata": {},
     "output_type": "execute_result"
    }
   ],
   "source": [
    "arr0 = np.array([0])\n",
    "arr1 = np.array([1])\n",
    "r = np.hstack([arr0,arr0,arr0, arr1,arr1])\n",
    "rc = np.vstack([r,r,r])\n",
    "t_arr = np.arange(1,16, dtype=np.float16).reshape(3,5)*10\n",
    "np.vstack([rc,t_arr,rc,t_arr])"
   ]
  },
  {
   "cell_type": "code",
   "execution_count": 399,
   "metadata": {},
   "outputs": [
    {
     "data": {
      "text/plain": [
       "array([[  0.,   0.,   0.,   1.,   1.],\n",
       "       [  0.,   0.,   0.,   1.,   1.],\n",
       "       [  0.,   0.,   0.,   1.,   1.],\n",
       "       [ 10.,  20.,  30.,  40.,  50.],\n",
       "       [ 60.,  70.,  80.,  90., 100.],\n",
       "       [110., 120., 130., 140., 150.],\n",
       "       [  0.,   0.,   0.,   1.,   1.],\n",
       "       [  0.,   0.,   0.,   1.,   1.],\n",
       "       [  0.,   0.,   0.,   1.,   1.],\n",
       "       [ 10.,  20.,  30.,  40.,  50.],\n",
       "       [ 60.,  70.,  80.,  90., 100.],\n",
       "       [110., 120., 130., 140., 150.]])"
      ]
     },
     "execution_count": 399,
     "metadata": {},
     "output_type": "execute_result"
    }
   ],
   "source": [
    "array = np.concatenate([np.zeros(3), np.ones(2)])\n",
    "array = np.vstack([array, array, array])\n",
    "array2 = ((np.arange(15)+1)*10).reshape(3,5)\n",
    "result_array = np.vstack([array, array2, array, array2])\n",
    "result_array"
   ]
  },
  {
   "cell_type": "code",
   "execution_count": 400,
   "metadata": {},
   "outputs": [
    {
     "data": {
      "text/plain": [
       "array([[  0.,   0.,   0.,   1.,   1.],\n",
       "       [  0.,   0.,   0.,   1.,   1.],\n",
       "       [  0.,   0.,   0.,   1.,   1.],\n",
       "       [ 10.,  20.,  30.,  40.,  50.],\n",
       "       [ 60.,  70.,  80.,  90., 100.],\n",
       "       [110., 120., 130., 140., 150.],\n",
       "       [  0.,   0.,   0.,   1.,   1.],\n",
       "       [  0.,   0.,   0.,   1.,   1.],\n",
       "       [  0.,   0.,   0.,   1.,   1.],\n",
       "       [ 10.,  20.,  30.,  40.,  50.],\n",
       "       [ 60.,  70.,  80.,  90., 100.],\n",
       "       [110., 120., 130., 140., 150.]])"
      ]
     },
     "execution_count": 400,
     "metadata": {},
     "output_type": "execute_result"
    }
   ],
   "source": [
    "np.array([[  0.,   0.,   0.,   1.,   1.],\n",
    "       [  0.,   0.,   0.,   1.,   1.],\n",
    "       [  0.,   0.,   0.,   1.,   1.],\n",
    "       [ 10.,  20.,  30.,  40.,  50.],\n",
    "       [ 60.,  70.,  80.,  90., 100.],\n",
    "       [110., 120., 130., 140., 150.],\n",
    "       [  0.,   0.,   0.,   1.,   1.],\n",
    "       [  0.,   0.,   0.,   1.,   1.],\n",
    "       [  0.,   0.,   0.,   1.,   1.],\n",
    "       [ 10.,  20.,  30.,  40.,  50.],\n",
    "       [ 60.,  70.,  80.,  90., 100.],\n",
    "       [110., 120., 130., 140., 150.]])"
   ]
  },
  {
   "cell_type": "code",
   "execution_count": 441,
   "metadata": {},
   "outputs": [
    {
     "name": "stdout",
     "output_type": "stream",
     "text": [
      "[[ 1  2  3  4  5]\n",
      " [10  9  8  7  6]\n",
      " [11 12 13 14 15]\n",
      " [20 19 18 17 16]\n",
      " [21 22 23 24 25]]\n"
     ]
    }
   ],
   "source": [
    "# 2.  아래와 같은 구조의 배열을 생성하시오\n",
    "# 1 2 3 4 5\n",
    "# 10 9 8 7 6\n",
    "# 11 12 13 14 15\n",
    "# 20 19 18 17 16\n",
    "# 21 22 23 24 25\n",
    "\n",
    "arr = np.arange(1,26).reshape(5,5)\n",
    "for i in range(len(arr)):\n",
    "    arr[i] = arr[i] if arr[i][0] % 2 == 1 else arr[i][::-1]\n",
    "print(arr)"
   ]
  },
  {
   "cell_type": "code",
   "execution_count": 440,
   "metadata": {},
   "outputs": [
    {
     "data": {
      "text/plain": [
       "array([[ 1,  2,  3,  4,  5],\n",
       "       [10,  9,  8,  7,  6],\n",
       "       [11, 12, 13, 14, 15],\n",
       "       [20, 19, 18, 17, 16],\n",
       "       [21, 22, 23, 24, 25]])"
      ]
     },
     "execution_count": 440,
     "metadata": {},
     "output_type": "execute_result"
    }
   ],
   "source": [
    "array = np.array([np.arange(5)+1])\n",
    "for i in range(4):\n",
    "    array2 = array[i] + np.arange(9,0,-2) if i % 2 == 0 else array[i] + np.arange(1,10,2)\n",
    "    array = np.vstack([array, array2])\n",
    "print(array)"
   ]
  },
  {
   "cell_type": "code",
   "execution_count": null,
   "metadata": {},
   "outputs": [],
   "source": [
    "주식 데이터 시각화(주식이 내려갈지 올라갈지?)) - 수업에서 할 것임 그래서 패스\n",
    "지역에 따른 집값 예측(다양한 변수를 적용하여 집값이 어떻게 변동이 생기는지) - 예측 모델을 만들 것이므로 패스\n",
    "기후 분석(추후의 기온이나 날씨 등이 어떻게 진행될지) - 우리가 하게 될 주제들임\n",
    "질병 분석(감기라던지 코로나라던지 어느정도의 위험성을 보이고 감염증상이 생기는지) - 패스\n",
    "영화 리뷰 분석(평가가 어느쪽으로 치우치는지) - 패스\n",
    "음악 영화 추천 - 수업에서 배울 것이긴 함...\n",
    "\n",
    "환경 분석(어떤 환경이 개선되는지 오염되는지)\n",
    "영화 흥행 분석\n",
    "\n",
    "\n",
    "강사님은 스크래핑을 자동으로 하는 것이 괜찮을 거 같다고 하심.\n",
    "예를 들어 뉴스기사를 자동으로 스크래핑하는 프로그램을 만들고 그것을 DB에 저장하는 것까지\n",
    "텍스트 정제는 못해도 수집 및 저장까지만 해도 괜찮음.\n",
    "의료 관련 기사라던지 AI관련 타임즈?같은 것도 주기적으로 스크래핑해서 저장한다던지(파이프라인같이 설계해서)\n",
    "윗 내용에 대해서 고민할 점은 과일 가격 관련해서 이슈가 많아서 \n",
    "사과 관련 기사를 스크래핑하고 싶으면 '사과'라는 단어는 맥락을 보고 판단을 해야됨"
   ]
  },
  {
   "cell_type": "code",
   "execution_count": null,
   "metadata": {},
   "outputs": [],
   "source": [
    "# 환경분석은 괜찮아보인다고 하심\n",
    "키워드의 분포 시각화\n",
    "키워드의 트렌드, 어떤 단어가 많이 언급되었는지\n",
    "미세먼지같은 단어는 과거에 사용하지 않았음\n",
    "신문기사가 옛날부터 있는 것들도 있는데\n",
    "텍스트로 된 기사들을 가지고 하면 어떨지. 근데 텍스트 마이닝을 가지고 해봐야됨\n",
    "\n",
    "축사, 악취 이슈가 많음"
   ]
  }
 ],
 "metadata": {
  "kernelspec": {
   "display_name": "Python 3",
   "language": "python",
   "name": "python3"
  },
  "language_info": {
   "codemirror_mode": {
    "name": "ipython",
    "version": 3
   },
   "file_extension": ".py",
   "mimetype": "text/x-python",
   "name": "python",
   "nbconvert_exporter": "python",
   "pygments_lexer": "ipython3",
   "version": "3.10.9"
  }
 },
 "nbformat": 4,
 "nbformat_minor": 2
}
