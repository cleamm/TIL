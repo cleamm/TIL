{
 "cells": [
  {
   "cell_type": "code",
   "execution_count": null,
   "metadata": {},
   "outputs": [],
   "source": [
    "# 멘토링\n"
   ]
  },
  {
   "cell_type": "markdown",
   "metadata": {},
   "source": [
    "대충 정리한 내용\n",
    "- 매너데이터셋 사용해보기\n",
    "https://velog.io/@acdongpgm/NLP.-%ED%95%9C%EA%B5%AD%EC%96%B4-%EC%A1%B4%EB%8C%93%EB%A7%90%EB%B0%98%EB%A7%90-%EB%B6%84%EB%A5%98%EB%AA%A8%EB%8D%B8-formal-classifier\n",
    "\n",
    "- 제작년도 등 넣은 것에 대해서 긍정적임\n",
    "- lag _ 사용 할 정도는 아님\n",
    "- 독성gpt _ 잘 못된 학습을 방지를 위해 사용됨 / 일단 우리와 상관 없다고 말씀하심\n",
    "- 영화 추천시 포스터 정보도 같이 보여지면 좋을 것 같다는 말씀하심\n",
    "- BERT _ 추천영화 사용 하는 부분에서 긍정적하심\n",
    "- 현재 있는 데이터들 괜찮음\n",
    "- 영화 추천하는데에 집중하라는 말씀하심\n",
    "- 일상 대화 없어됨\n",
    "- 추천 _ 전처리처리하기 / 지도학습 하기\n",
    "- 데이터에 집중하기\n",
    "ex)열린 결말의 영화 추천해줘,베드엔딩 영화 알려줘, 사이다 영화알려줘 등\n",
    "=>직접 가공 해야됨"
   ]
  }
 ],
 "metadata": {
  "language_info": {
   "name": "python"
  }
 },
 "nbformat": 4,
 "nbformat_minor": 2
}
