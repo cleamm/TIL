{
 "cells": [
  {
   "cell_type": "code",
   "execution_count": 1,
   "metadata": {},
   "outputs": [
    {
     "data": {
      "text/plain": [
       "array([4, 3, 2, 1])"
      ]
     },
     "execution_count": 1,
     "metadata": {},
     "output_type": "execute_result"
    }
   ],
   "source": [
    "import numpy as np\n",
    "arr = np.array([1,2,3,4,])\n",
    "np.flip(arr) # 배열 뒤집기 == arr[::-1]"
   ]
  },
  {
   "cell_type": "code",
   "execution_count": 13,
   "metadata": {},
   "outputs": [
    {
     "data": {
      "text/plain": [
       "array([[25, 26, 27, 28, 29],\n",
       "       [20, 21, 22, 23, 24],\n",
       "       [15, 16, 17, 18, 19],\n",
       "       [10, 11, 12, 13, 14],\n",
       "       [ 5,  6,  7,  8,  9],\n",
       "       [ 0,  1,  2,  3,  4]])"
      ]
     },
     "execution_count": 13,
     "metadata": {},
     "output_type": "execute_result"
    }
   ],
   "source": [
    "arr2d = np.arange(30).reshape(6,5)\n",
    "arr2d[::-1]"
   ]
  },
  {
   "cell_type": "code",
   "execution_count": 31,
   "metadata": {},
   "outputs": [
    {
     "data": {
      "text/plain": [
       "array([[29, 28, 27, 26, 25],\n",
       "       [24, 23, 22, 21, 20],\n",
       "       [19, 18, 17, 16, 15],\n",
       "       [14, 13, 12, 11, 10],\n",
       "       [ 9,  8,  7,  6,  5],\n",
       "       [ 4,  3,  2,  1,  0]])"
      ]
     },
     "execution_count": 31,
     "metadata": {},
     "output_type": "execute_result"
    }
   ],
   "source": [
    "np.flip(arr2d) # arr2d[::-1,::-1]"
   ]
  },
  {
   "cell_type": "markdown",
   "metadata": {},
   "source": [
    "axis 에러가 나올 때가 있는데 이때는 축을 잘못지정했거나 행 또는 열이 안맞는다는 뜻임\n",
    "\n",
    "axis(축), axes(모든축), axis=0(행 방향 뒤집기)"
   ]
  },
  {
   "cell_type": "code",
   "execution_count": 34,
   "metadata": {},
   "outputs": [
    {
     "data": {
      "text/plain": [
       "array([[ 0,  1,  2,  3,  4],\n",
       "       [ 5,  6,  7,  8,  9],\n",
       "       [10, 11, 12, 13, 14],\n",
       "       [15, 16, 17, 18, 19],\n",
       "       [20, 21, 22, 23, 24],\n",
       "       [25, 26, 27, 28, 29]])"
      ]
     },
     "execution_count": 34,
     "metadata": {},
     "output_type": "execute_result"
    }
   ],
   "source": [
    "arr2d"
   ]
  },
  {
   "cell_type": "code",
   "execution_count": 47,
   "metadata": {},
   "outputs": [
    {
     "data": {
      "text/plain": [
       "array([[ 4,  3,  2,  1,  0],\n",
       "       [ 9,  8,  7,  6,  5],\n",
       "       [14, 13, 12, 11, 10],\n",
       "       [19, 18, 17, 16, 15],\n",
       "       [24, 23, 22, 21, 20],\n",
       "       [29, 28, 27, 26, 25]])"
      ]
     },
     "execution_count": 47,
     "metadata": {},
     "output_type": "execute_result"
    }
   ],
   "source": [
    "arr2d[:, ::-1]"
   ]
  },
  {
   "cell_type": "code",
   "execution_count": 50,
   "metadata": {},
   "outputs": [
    {
     "data": {
      "text/plain": [
       "array([[ 4,  3,  2,  1,  0],\n",
       "       [ 9,  8,  7,  6,  5],\n",
       "       [14, 13, 12, 11, 10],\n",
       "       [19, 18, 17, 16, 15],\n",
       "       [24, 23, 22, 21, 20],\n",
       "       [29, 28, 27, 26, 25]])"
      ]
     },
     "execution_count": 50,
     "metadata": {},
     "output_type": "execute_result"
    }
   ],
   "source": [
    "# array([[ 4,  3,  2,  1,  0],\n",
    "#        [ 9,  8,  7,  6,  5],\n",
    "#        [14, 13, 12, 11, 10],\n",
    "#        [19, 18, 17, 16, 15],\n",
    "#        [24, 23, 22, 21, 20],\n",
    "#        [29, 28, 27, 26, 25]]) 배열 만들기\n",
    "np.flip(arr2d, axis=1)\n",
    "arr2d[::,::-1]"
   ]
  },
  {
   "cell_type": "code",
   "execution_count": 54,
   "metadata": {},
   "outputs": [
    {
     "data": {
      "text/plain": [
       "array([[ 0,  1,  2,  3,  4],\n",
       "       [ 5,  6,  7,  8,  9],\n",
       "       [10, 11, 12, 13, 14],\n",
       "       [15, 16, 17, 18, 19],\n",
       "       [20, 21, 22, 23, 24],\n",
       "       [25, 26, 27, 28, 29]])"
      ]
     },
     "execution_count": 54,
     "metadata": {},
     "output_type": "execute_result"
    }
   ],
   "source": [
    "arr2d"
   ]
  },
  {
   "cell_type": "code",
   "execution_count": 53,
   "metadata": {},
   "outputs": [
    {
     "data": {
      "text/plain": [
       "array([[10, 11, 12, 13, 14],\n",
       "       [15, 16, 17, 18, 19],\n",
       "       [20, 21, 22, 23, 24],\n",
       "       [25, 26, 27, 28, 29]])"
      ]
     },
     "execution_count": 53,
     "metadata": {},
     "output_type": "execute_result"
    }
   ],
   "source": [
    "arr2d[2:]\n"
   ]
  },
  {
   "cell_type": "code",
   "execution_count": 66,
   "metadata": {},
   "outputs": [
    {
     "data": {
      "text/plain": [
       "array([[  0.,   0.,   0.,   1.,   1.],\n",
       "       [  0.,   0.,   0.,   1.,   1.],\n",
       "       [  0.,   0.,   0.,   1.,   1.],\n",
       "       [ 10.,  20.,  30.,  40.,  50.],\n",
       "       [ 60.,  70.,  80.,  90., 100.],\n",
       "       [110., 120., 130., 140., 150.],\n",
       "       [  0.,   0.,   0.,   1.,   1.],\n",
       "       [  0.,   0.,   0.,   1.,   1.],\n",
       "       [  0.,   0.,   0.,   1.,   1.],\n",
       "       [ 10.,  20.,  30.,  40.,  50.],\n",
       "       [ 60.,  70.,  80.,  90., 100.],\n",
       "       [110., 120., 130., 140., 150.]])"
      ]
     },
     "execution_count": 66,
     "metadata": {},
     "output_type": "execute_result"
    }
   ],
   "source": [
    "arr1 = np.zeros((3,3))\n",
    "arr2 = np.ones((3,2))\n",
    "arr12 = np.hstack([arr1, arr2])\n",
    "arr3 = np.arange(10,151,10).reshape(3,-1)\n",
    "arr3\n",
    "np.tile(np.vstack([arr12, arr3]), (2,1))"
   ]
  },
  {
   "cell_type": "code",
   "execution_count": 7,
   "metadata": {},
   "outputs": [],
   "source": [
    "arr1 = np.zeros([3])\n",
    "arr2 = np.ones([2])\n",
    "arr12 = np.hstack([arr1,arr2])\n",
    "\n",
    "arr12_tile = np.tile(arr12, (3,1))\n"
   ]
  },
  {
   "cell_type": "code",
   "execution_count": 15,
   "metadata": {},
   "outputs": [
    {
     "data": {
      "text/plain": [
       "array([[  0.,   0.,   0.,   1.,   1.],\n",
       "       [  0.,   0.,   0.,   1.,   1.],\n",
       "       [  0.,   0.,   0.,   1.,   1.],\n",
       "       [ 10.,  20.,  30.,  40.,  50.],\n",
       "       [ 60.,  70.,  80.,  90., 100.],\n",
       "       [110., 120., 130., 140., 150.],\n",
       "       [  0.,   0.,   0.,   1.,   1.],\n",
       "       [  0.,   0.,   0.,   1.,   1.],\n",
       "       [  0.,   0.,   0.,   1.,   1.],\n",
       "       [ 10.,  20.,  30.,  40.,  50.],\n",
       "       [ 60.,  70.,  80.,  90., 100.],\n",
       "       [110., 120., 130., 140., 150.]])"
      ]
     },
     "execution_count": 15,
     "metadata": {},
     "output_type": "execute_result"
    }
   ],
   "source": [
    "arr3 = np.linspace(10,150, 15).reshape(3,-1)\n",
    "arr123 = np.vstack([arr12_tile, arr3])\n",
    "res = np.tile(arr123,(2,1))\n",
    "res"
   ]
  },
  {
   "cell_type": "code",
   "execution_count": null,
   "metadata": {},
   "outputs": [],
   "source": [
    "arr = np.arange(11,21).reshape(2,-1)\n",
    "arr"
   ]
  },
  {
   "cell_type": "code",
   "execution_count": 54,
   "metadata": {},
   "outputs": [
    {
     "data": {
      "text/plain": [
       "15.5"
      ]
     },
     "execution_count": 54,
     "metadata": {},
     "output_type": "execute_result"
    }
   ],
   "source": [
    "# 많이 쓰는 함수\n",
    "np.sum(arr) # == arr.sum() 이렇게도 사용 가능함...\n",
    "np.min(arr) # == arr.min()\n",
    "np.max(arr) # == arr.max()\n",
    "np.argmin(arr) # 최솟값의 위치\n",
    "np.argmax(arr) # 최댓값의 위치\n",
    "arr.mean() # 평균 - 이상치(극단값같은 것들)에 약한 산술구조임"
   ]
  },
  {
   "cell_type": "code",
   "execution_count": 56,
   "metadata": {},
   "outputs": [
    {
     "data": {
      "text/plain": [
       "15"
      ]
     },
     "execution_count": 56,
     "metadata": {},
     "output_type": "execute_result"
    }
   ],
   "source": [
    "np.sum(arr) \n",
    "np.min(arr)\n",
    "np.max(arr) # 벡터 형태로 잡혀도 전체 데이터에서 계산을 함.\n",
    "np.max(arr[0]) # 물론 인덱스를 지정하면 지정된 인덱스의 데이터에 대해서 계산\n",
    "\n",
    "# 추가로 2차원에 대한 합, 최소값, 최대값 이런식으로 연산을 했는데 이것은 차원 축소 연산임"
   ]
  },
  {
   "cell_type": "code",
   "execution_count": 48,
   "metadata": {},
   "outputs": [
    {
     "data": {
      "text/plain": [
       "1"
      ]
     },
     "execution_count": 48,
     "metadata": {},
     "output_type": "execute_result"
    }
   ],
   "source": [
    "arr[0].argmax() # 9\n",
    "arr[0].argmin() # 0\n",
    "test = np.array([0,5,3,4,1])"
   ]
  },
  {
   "cell_type": "code",
   "execution_count": 62,
   "metadata": {},
   "outputs": [
    {
     "data": {
      "text/plain": [
       "13.0"
      ]
     },
     "execution_count": 62,
     "metadata": {},
     "output_type": "execute_result"
    }
   ],
   "source": [
    "np.median(np.array([1,2,100])) # 중위수를 추출함(홀수개일 때는 중앙값, 짝수일때는 중앙의 2개 평균)\n",
    "np.median(arr[0])"
   ]
  },
  {
   "cell_type": "code",
   "execution_count": 61,
   "metadata": {},
   "outputs": [
    {
     "data": {
      "text/plain": [
       "15.5"
      ]
     },
     "execution_count": 61,
     "metadata": {},
     "output_type": "execute_result"
    }
   ],
   "source": [
    "# 100만 1000만 100억\n",
    "np.median(arr)"
   ]
  },
  {
   "cell_type": "code",
   "execution_count": 66,
   "metadata": {},
   "outputs": [
    {
     "data": {
      "text/plain": [
       "False"
      ]
     },
     "execution_count": 66,
     "metadata": {},
     "output_type": "execute_result"
    }
   ],
   "source": [
    "np.all(2>1)\n",
    "np.all([2>1, 5>3])\n",
    "np.all([2>1, 5>3, 3<1]) # 하나라도 False이면 False를 리턴"
   ]
  },
  {
   "cell_type": "code",
   "execution_count": 70,
   "metadata": {},
   "outputs": [
    {
     "data": {
      "text/plain": [
       "True"
      ]
     },
     "execution_count": 70,
     "metadata": {},
     "output_type": "execute_result"
    }
   ],
   "source": [
    "np.any(1>2)\n",
    "np.any([1>2,3>2]) # 하나라도 True라면 True 리턴"
   ]
  },
  {
   "cell_type": "code",
   "execution_count": 74,
   "metadata": {},
   "outputs": [
    {
     "data": {
      "text/plain": [
       "True"
      ]
     },
     "execution_count": 74,
     "metadata": {},
     "output_type": "execute_result"
    }
   ],
   "source": [
    "np.all([1,2,3]) # True\n",
    "np.all([1,2,0]) # False\n",
    "np.all([1,2,0.1]) # True\n",
    "# 0이면 거짓, 0이 아니면 참"
   ]
  },
  {
   "cell_type": "code",
   "execution_count": 77,
   "metadata": {},
   "outputs": [
    {
     "data": {
      "text/plain": [
       "True"
      ]
     },
     "execution_count": 77,
     "metadata": {},
     "output_type": "execute_result"
    }
   ],
   "source": [
    "np.all(np.arange(5)) # 0이 포함되어 False\n",
    "np.all(np.arange(1,5)) # True"
   ]
  },
  {
   "cell_type": "code",
   "execution_count": 78,
   "metadata": {},
   "outputs": [
    {
     "data": {
      "text/plain": [
       "array([0, 0, 0, 0, 0, 0, 0, 0, 0, 0])"
      ]
     },
     "execution_count": 78,
     "metadata": {},
     "output_type": "execute_result"
    }
   ],
   "source": [
    "a = np.zeros(10, dtype=np.int32)\n",
    "a"
   ]
  },
  {
   "cell_type": "code",
   "execution_count": 79,
   "metadata": {},
   "outputs": [
    {
     "data": {
      "text/plain": [
       "array([ True,  True,  True,  True,  True,  True,  True,  True,  True,\n",
       "        True])"
      ]
     },
     "execution_count": 79,
     "metadata": {},
     "output_type": "execute_result"
    }
   ],
   "source": [
    "a == 0"
   ]
  },
  {
   "cell_type": "code",
   "execution_count": 80,
   "metadata": {},
   "outputs": [
    {
     "data": {
      "text/plain": [
       "True"
      ]
     },
     "execution_count": 80,
     "metadata": {},
     "output_type": "execute_result"
    }
   ],
   "source": [
    "np.all(a==0)"
   ]
  },
  {
   "cell_type": "code",
   "execution_count": 89,
   "metadata": {},
   "outputs": [],
   "source": [
    "# 풀어보기\n",
    "# a에 저장된 값들이 모두 b에 저장된 값보다 작거나 같으면서\n",
    "# b에 저장된 값들이 모두 c에 저장된 값보다 작거나 같은가?\n",
    "# True가 나와야 함\n",
    "a = np.array([1, 2, 3, 2])\n",
    "b = np.array([2, 2, 3, 2])\n",
    "c = np.array([6, 4, 4, 5])"
   ]
  },
  {
   "cell_type": "code",
   "execution_count": 94,
   "metadata": {},
   "outputs": [
    {
     "data": {
      "text/plain": [
       "True"
      ]
     },
     "execution_count": 94,
     "metadata": {},
     "output_type": "execute_result"
    }
   ],
   "source": [
    "np.all(b <= c) & np.all(a<=b)\n",
    "np.all([b<=c, a<=b])\n",
    "np.all((b<=c) & (a<=b))"
   ]
  },
  {
   "cell_type": "code",
   "execution_count": 105,
   "metadata": {},
   "outputs": [
    {
     "data": {
      "text/plain": [
       "array([[0, 1, 2, 3, 4],\n",
       "       [5, 6, 7, 8, 9]])"
      ]
     },
     "execution_count": 105,
     "metadata": {},
     "output_type": "execute_result"
    }
   ],
   "source": [
    "# 2차원 이상 다차원 배열에 대한 연산시엔 axis를 지정할 수 있음\n",
    "# axis = 0(기본값?, 열방향 연산), axis=1(행방향 연산)\n",
    "arr = np.arange(10).reshape(2,5)\n",
    "arr"
   ]
  },
  {
   "cell_type": "code",
   "execution_count": 102,
   "metadata": {},
   "outputs": [
    {
     "name": "stdout",
     "output_type": "stream",
     "text": [
      "[ 5  7  9 11 13]\n",
      "[10 35]\n",
      "45\n"
     ]
    }
   ],
   "source": [
    "print(arr.sum(axis=0))\n",
    "print(arr.sum(axis=1))\n",
    "print(arr.sum())"
   ]
  },
  {
   "cell_type": "code",
   "execution_count": 104,
   "metadata": {},
   "outputs": [
    {
     "data": {
      "text/plain": [
       "array([5, 6, 7, 8, 9])"
      ]
     },
     "execution_count": 104,
     "metadata": {},
     "output_type": "execute_result"
    }
   ],
   "source": [
    "arr.max(axis=0)"
   ]
  },
  {
   "cell_type": "code",
   "execution_count": 167,
   "metadata": {},
   "outputs": [
    {
     "name": "stdout",
     "output_type": "stream",
     "text": [
      "[[ 4  3  5  7]\n",
      " [ 1 12 11  9]\n",
      " [ 2 15  1 14]]\n"
     ]
    }
   ],
   "source": [
    "a = np.array([[4,  3,  5,  7],\n",
    "              [1, 12, 11,  9],\n",
    "              [2, 15,  1, 14]])\n",
    "# a 배열의 각 행 최댓값을 구하라\n",
    "# a.max(axis=1)\n",
    "print(a)"
   ]
  },
  {
   "cell_type": "code",
   "execution_count": 166,
   "metadata": {},
   "outputs": [
    {
     "data": {
      "text/plain": [
       "array([[ 3,  4,  5,  7],\n",
       "       [ 1,  9, 11, 12],\n",
       "       [ 1,  2, 14, 15]])"
      ]
     },
     "execution_count": 166,
     "metadata": {},
     "output_type": "execute_result"
    }
   ],
   "source": [
    "a.sort(axis=1)\n",
    "a"
   ]
  },
  {
   "cell_type": "code",
   "execution_count": 168,
   "metadata": {},
   "outputs": [
    {
     "data": {
      "text/plain": [
       "array([[ 1,  3,  1,  7],\n",
       "       [ 2, 12,  5,  9],\n",
       "       [ 4, 15, 11, 14]])"
      ]
     },
     "execution_count": 168,
     "metadata": {},
     "output_type": "execute_result"
    }
   ],
   "source": [
    "a.sort(axis=0)\n",
    "a"
   ]
  },
  {
   "cell_type": "code",
   "execution_count": 159,
   "metadata": {},
   "outputs": [
    {
     "data": {
      "text/plain": [
       "array([[ 3,  4,  5,  7],\n",
       "       [ 1,  9, 11, 12],\n",
       "       [ 1,  2, 14, 15]])"
      ]
     },
     "execution_count": 159,
     "metadata": {},
     "output_type": "execute_result"
    }
   ],
   "source": [
    "a.sort()\n",
    "a"
   ]
  },
  {
   "cell_type": "code",
   "execution_count": 150,
   "metadata": {},
   "outputs": [
    {
     "data": {
      "text/plain": [
       "array([[ 3,  4,  5,  7],\n",
       "       [ 1,  9, 11, 12],\n",
       "       [ 1,  2, 14, 15]])"
      ]
     },
     "execution_count": 150,
     "metadata": {},
     "output_type": "execute_result"
    }
   ],
   "source": [
    "np.sort(a) # np.sort(a, axis=1) # 왼쪽에서 오른쪽으로 오름차순"
   ]
  },
  {
   "cell_type": "code",
   "execution_count": 152,
   "metadata": {},
   "outputs": [
    {
     "data": {
      "text/plain": [
       "array([[ 1,  3,  1,  7],\n",
       "       [ 2, 12,  5,  9],\n",
       "       [ 4, 15, 11, 14]])"
      ]
     },
     "execution_count": 152,
     "metadata": {},
     "output_type": "execute_result"
    }
   ],
   "source": [
    "np.sort(a, axis=0) # 위에서 아래로 오름차순 정렬"
   ]
  },
  {
   "cell_type": "code",
   "execution_count": 169,
   "metadata": {},
   "outputs": [
    {
     "data": {
      "text/plain": [
       "array([40, 20, 10, 30, 90])"
      ]
     },
     "execution_count": 169,
     "metadata": {},
     "output_type": "execute_result"
    }
   ],
   "source": [
    "arr = np.array([40,20,10,30,90])\n",
    "arr"
   ]
  },
  {
   "cell_type": "code",
   "execution_count": 175,
   "metadata": {},
   "outputs": [
    {
     "data": {
      "text/plain": [
       "array([90, 40, 30, 20, 10])"
      ]
     },
     "execution_count": 175,
     "metadata": {},
     "output_type": "execute_result"
    }
   ],
   "source": [
    "np.sort(arr) # 정렬. 파이썬에서 sorted() 사용했을 때와 동일함(적용이 안되고 결과 반환만)\n",
    "np.sort(arr)[::-1]\n",
    "np.flip(np.sort(arr)) # 바로 위코드와 동일함"
   ]
  },
  {
   "cell_type": "code",
   "execution_count": 185,
   "metadata": {},
   "outputs": [
    {
     "data": {
      "text/plain": [
       "27.85677655436824"
      ]
     },
     "execution_count": 185,
     "metadata": {},
     "output_type": "execute_result"
    }
   ],
   "source": [
    "len(arr)\n",
    "np.mean(arr)# 평균: 주어진 수의 합을 측정개수로 나눔\n",
    "np.var(arr) # 분산(모분산): 편차의 제곱의 평균값.(변수의 흩어진 정도) \n",
    "# 클수록 데이터가 크게 흩뿌려져 있는 상태, 작을수록 밀집상태인 것=비슷한 데이터\n",
    "# 분산에 대해서는 아래에서 서술함\n",
    "np.std(arr) # 표준편차: 분산의 제곱근(**0.5)"
   ]
  },
  {
   "cell_type": "code",
   "execution_count": 205,
   "metadata": {},
   "outputs": [
    {
     "data": {
      "text/plain": [
       "0.25"
      ]
     },
     "execution_count": 205,
     "metadata": {},
     "output_type": "execute_result"
    }
   ],
   "source": [
    "np.var([1,2]) # 평균값은 1.5, x1 = 1(리스트의 첫번째)-평균값, x2 = 2(두번째)-평균값\n",
    "                # (0.5**2)=0.25   +(0.5**2)=0.25   = 0.5\n",
    "            #   0.5/len([1,2]) = 0.25(분산값)\n",
    "            #  추가로 표본분산이라고 하는 것도 있는데 이 경우는 0.5/(len([1,2]) - 1) \n",
    "            # 이렇게 분모를 1깎아서 계산함(모분산에 가깝게 나올 수 있게 한다고 함;)"
   ]
  },
  {
   "cell_type": "markdown",
   "metadata": {},
   "source": [
    "<!-- 요약하면 평균을 구해서 데이터마다 평균을 빼고 각 데이터별로 제곱\n",
    "제곱한 모든 데이터들을 합해서 전체 개수를 나눔 -->\n",
    "<!-- 표준분산의 경우 전체개수-1을 나누면 됨 -->"
   ]
  },
  {
   "cell_type": "code",
   "execution_count": null,
   "metadata": {},
   "outputs": [],
   "source": [
    "# 5월 기온 데이터가 있다고 가정할때, 데이터의 분산과 우리들의 키에 대한 데이터 분산 중 어느쪽이 더 클까\n",
    "# 어떤 상태일 때 데이터의 구분이 쉬워질까?(분산클때? 작을때?) 클때가 정답임\n",
    "# 키가 [160 165 175 190]이렇게 있다면 여기서 평균은 172\n",
    "# -12 -7 3  18 근데 평균으로부터 떨어진 거리를 봐야함\n",
    "# (-12)**2, -7**2, 3**2, 18**2 이렇게 값을 전부 양수로 만든 후\n",
    "# 위의 값을 전부 합한 후 합한 개수(4)를 나눈 값임"
   ]
  },
  {
   "cell_type": "code",
   "execution_count": 209,
   "metadata": {},
   "outputs": [],
   "source": [
    "# x에 대한 표본분산을 구하시오\n",
    "x = np.array([5,10,9,3,8])"
   ]
  },
  {
   "cell_type": "code",
   "execution_count": 245,
   "metadata": {},
   "outputs": [
    {
     "data": {
      "text/plain": [
       "8.5"
      ]
     },
     "execution_count": 245,
     "metadata": {},
     "output_type": "execute_result"
    }
   ],
   "source": [
    "np.sum((x - np.mean(x))**2)/(len(x)-1) # 표본 분산"
   ]
  },
  {
   "cell_type": "code",
   "execution_count": 248,
   "metadata": {},
   "outputs": [
    {
     "data": {
      "text/plain": [
       "8.5"
      ]
     },
     "execution_count": 248,
     "metadata": {},
     "output_type": "execute_result"
    }
   ],
   "source": [
    "np.var(x) # 모분산\n",
    "np.var(x, ddof=1) # 표본분산이 됨;;"
   ]
  },
  {
   "cell_type": "code",
   "execution_count": 249,
   "metadata": {},
   "outputs": [
    {
     "data": {
      "text/plain": [
       "array([  1,   2,   3,   4,   5,   6,   7,   8,   9,  10,  11,  12,  13,\n",
       "        14,  15,  16,  17,  18,  19,  20,  21,  22,  23,  24,  25,  26,\n",
       "        27,  28,  29,  30,  31,  32,  33,  34,  35,  36,  37,  38,  39,\n",
       "        40,  41,  42,  43,  44,  45,  46,  47,  48,  49,  50,  51,  52,\n",
       "        53,  54,  55,  56,  57,  58,  59,  60,  61,  62,  63,  64,  65,\n",
       "        66,  67,  68,  69,  70,  71,  72,  73,  74,  75,  76,  77,  78,\n",
       "        79,  80,  81,  82,  83,  84,  85,  86,  87,  88,  89,  90,  91,\n",
       "        92,  93,  94,  95,  96,  97,  98,  99, 100, 101, 102, 103, 104,\n",
       "       105, 106, 107, 108, 109, 110, 111, 112, 113, 114, 115, 116, 117,\n",
       "       118, 119, 120, 121, 122, 123, 124, 125, 126, 127, 128, 129, 130,\n",
       "       131, 132, 133, 134, 135, 136, 137, 138, 139, 140, 141, 142, 143,\n",
       "       144, 145, 146, 147, 148, 149, 150, 151, 152, 153, 154, 155, 156,\n",
       "       157, 158, 159, 160, 161, 162, 163, 164, 165, 166, 167, 168, 169,\n",
       "       170, 171, 172, 173, 174, 175, 176, 177, 178, 179, 180, 181, 182,\n",
       "       183, 184, 185, 186, 187, 188, 189, 190, 191, 192, 193, 194, 195,\n",
       "       196, 197, 198, 199, 200])"
      ]
     },
     "execution_count": 249,
     "metadata": {},
     "output_type": "execute_result"
    }
   ],
   "source": [
    "x = np.arange(1,201)\n",
    "x"
   ]
  },
  {
   "cell_type": "code",
   "execution_count": 254,
   "metadata": {},
   "outputs": [
    {
     "data": {
      "text/plain": [
       "1.0"
      ]
     },
     "execution_count": 254,
     "metadata": {},
     "output_type": "execute_result"
    }
   ],
   "source": [
    "np.percentile(x,0) # 최소값"
   ]
  },
  {
   "cell_type": "code",
   "execution_count": 256,
   "metadata": {},
   "outputs": [
    {
     "data": {
      "text/plain": [
       "200.0"
      ]
     },
     "execution_count": 256,
     "metadata": {},
     "output_type": "execute_result"
    }
   ],
   "source": [
    "np.percentile(x,100) # 최댓값\n",
    "# 백분위 수: 위치를 100으로 나눈 수\n",
    "# 1사분위수 : 25% 백분위"
   ]
  },
  {
   "cell_type": "code",
   "execution_count": 267,
   "metadata": {},
   "outputs": [
    {
     "name": "stdout",
     "output_type": "stream",
     "text": [
      "1.0\n",
      "50.75\n",
      "100.5\n",
      "150.25\n",
      "200.0\n"
     ]
    }
   ],
   "source": [
    "print(np.percentile(x,0))\n",
    "print(np.percentile(x,25))\n",
    "print(np.percentile(x,50))\n",
    "print(np.percentile(x,75))\n",
    "print(np.percentile(x,100))"
   ]
  },
  {
   "cell_type": "code",
   "execution_count": 276,
   "metadata": {},
   "outputs": [
    {
     "name": "stdout",
     "output_type": "stream",
     "text": [
      "2.5\n",
      "5.0\n",
      "7.5\n",
      "10.0\n"
     ]
    }
   ],
   "source": [
    "data = np.arange(11)\n",
    "print(np.percentile(data,25)) # 1사분위수\n",
    "print(np.percentile(data,50)) # 중위수(2사분위수)\n",
    "print(np.percentile(data,75)) # 3사분위수\n",
    "print(np.percentile(data,100)) # 4사분위수"
   ]
  },
  {
   "cell_type": "code",
   "execution_count": null,
   "metadata": {},
   "outputs": [],
   "source": [
    "스크래핑 자동화 + 기능 추가\n",
    "gpt API를 이용"
   ]
  },
  {
   "cell_type": "code",
   "execution_count": null,
   "metadata": {},
   "outputs": [],
   "source": [
    "# 프로젝트 주제로 함 알아보기\n",
    "\n",
    "# 1. 스크래핑 자동화\n",
    "# 지속적 스크래핑 -> 정제 -> db 테이블 저장 -> 읽기 -> 사용하기(ETL)\n",
    "# 카카오톡 api를 이용하여 나만의 톡 분석\n",
    "# 그냥 gpt API을 이용해서 프로젝트를 진행하는 것이 좋을 거 같기도 함\n",
    "\n",
    "# 2. 게임(지뢰제거, 슈팅)\n",
    "\n",
    "# 3. 주문/관리/예약/추천시스템 구현\n",
    "\n",
    "# 4. 사진 편집 프로그램(포토샵 기능) openCV\n",
    "# https://076923.github.io/posts/Python-opencv-1/#google_vignette\n",
    "# 위 주소 참고\n",
    "\n",
    "# 5. 날씨 등 뉴스 정보 제공 사이트 제작(규모를 크게 하면 파이널 프로젝트로 가야할 것 같음)\n",
    "# 감성분석사전(재밌다(5), 졸렸다(1), 이게영화냐(0)...)\n",
    "\n",
    "# 6. 성격 유형 검사 프로그램\n",
    "\n",
    "# 7. 데이터 전처리 분석 관련 주제\n",
    "# kaggle.com, aihub.or.kr, dacon.io\n",
    "\n",
    "\n",
    "# 기간이 짧은만큼 애자일 기법으로 진행하는 것이 좋음\n"
   ]
  },
  {
   "cell_type": "code",
   "execution_count": 277,
   "metadata": {},
   "outputs": [],
   "source": [
    "# 이전 기수로는 뇌공학을 전공했는데 뇌분석으로 성향분석을 하는 프로젝트를 했었다고 함\n",
    "# 우울증 검사같은 것도..."
   ]
  },
  {
   "cell_type": "code",
   "execution_count": null,
   "metadata": {},
   "outputs": [],
   "source": [
    "# 프로젝트 관해서\n",
    "\n",
    "# 리스트 페이지\n",
    "# 어떤 언론사의 기사를 스크래핑하나? \n",
    "# -> 일단 한군데만 스크래핑 하며 기능 확장시 여러개 혹은 사용자가 지정한 언론사의 사이트 스크래핑하는 것으로...\n",
    "# 뉴스 기사를 스크래핑해옴 -> 스크래핑하는 시간을 정할 필요가 있을 것\n",
    "# 뉴스 기사를 검색 -> 특정 키워드만 검색(키워드의 조건이 있어야 될 듯)\n",
    "\n",
    "\n",
    "# 상세페이지\n",
    "# 1. 뉴스 기사의 요약본이 작성되어 있음(GPT설명 참조)\n",
    "# 2. 원문 링크가 있음\n",
    "# 3. GPT프롬프트\n",
    "\n",
    "\n",
    "# GPT\n",
    "# GPT는 API를 이용해서 어떤 말투, 어떤 대화가 오갈지에 대한 사전정보를 제시할 수 있을 것임\n",
    "# 이에 따라 GPT로 뉴스 기사를 요약해서 데이터를 가져온 것을 바로 GPT에 요약요청하여 요약된 데이터를 DB에 저장\n",
    "# DB에서 불러와 상세페이지 - 요약본 항목에 출력\n",
    "\n",
    "\n",
    "# # 역할\n",
    "# # 장고, 웹 스크래핑, API"
   ]
  },
  {
   "cell_type": "code",
   "execution_count": 6,
   "metadata": {},
   "outputs": [
    {
     "data": {
      "text/plain": [
       "array([[ 0,  1,  2,  3,  4,  5],\n",
       "       [ 6,  7,  8,  9, 10, 11],\n",
       "       [12, 13, 14, 15, 16, 17],\n",
       "       [18, 19, 20, 21, 22, 23],\n",
       "       [24, 25, 26, 27, 28, 29]])"
      ]
     },
     "execution_count": 6,
     "metadata": {},
     "output_type": "execute_result"
    }
   ],
   "source": [
    "# 1.\n",
    "# 실수로 이루어진 5 x 6 형태의 데이터 행렬을 만들고 이 데이터에 대해 다음과 같은 값을 구한다.\n",
    "\n",
    "# 전체의 최댓값\n",
    "\n",
    "# 각 행의 합\n",
    "\n",
    "# 각 행의 최댓값\n",
    "\n",
    "# 각 열의 평균\n",
    "\n",
    "# 각 열의 최솟값\n",
    "\n",
    "import numpy as np\n",
    "data = np.arange(30).reshape(5,6)\n",
    "data"
   ]
  },
  {
   "cell_type": "code",
   "execution_count": 18,
   "metadata": {},
   "outputs": [
    {
     "name": "stdout",
     "output_type": "stream",
     "text": [
      "전체의 최댓값:  29\n",
      "각 행의 합:  15 51 87 123 159\n",
      "각 행의 최댓값:  5 11 17 23 29\n",
      "각 열의 평균값:  12.0 13.0 14.0 15.0 16.0 17.0\n",
      "각 열의 최솟값:  0 1 2 3 4 5\n"
     ]
    }
   ],
   "source": [
    "print('전체의 최댓값: ',np.max(data))\n",
    "print('각 행의 합: ',*np.sum(data, axis=1))\n",
    "print('각 행의 최댓값: ', *np.max(data, axis=1))\n",
    "print('각 열의 평균값: ', *np.mean(data, axis=0))\n",
    "print('각 열의 최솟값: ', *np.min(data, axis=0))"
   ]
  },
  {
   "cell_type": "code",
   "execution_count": 87,
   "metadata": {},
   "outputs": [],
   "source": [
    "# 2.\n",
    "# 다음 배열은 첫번째 행(row)에 학번, 두번째 행에 영어 성적, 세번째 행에 수학 성적을 적은 배열이다. \n",
    "# 영어 성적을 기준으로 각 열(column)을 재정렬하라.\n",
    "\n",
    "# array([[  1,    2,    3,    4],\n",
    "#        [ 46,   99,  100,   71],\n",
    "#        [ 81,   59,   90,  100]])\n",
    "\n",
    "\n",
    "score = np.array([[  1,    2,    3,    4],\n",
    "                [ 46,   99,  100,   71],\n",
    "                [ 81,   59,   90,  100]])"
   ]
  },
  {
   "cell_type": "code",
   "execution_count": 86,
   "metadata": {},
   "outputs": [
    {
     "data": {
      "text/plain": [
       "array([[  1,   4,   2,   3],\n",
       "       [ 46,  71,  99, 100],\n",
       "       [ 81, 100,  59,  90]])"
      ]
     },
     "execution_count": 86,
     "metadata": {},
     "output_type": "execute_result"
    }
   ],
   "source": [
    "eng = np.sort(score[1]) # 영어 점수만 정렬\n",
    "score_t = score.T\n",
    "eng_score_sort = []\n",
    "for i, s in enumerate(eng):\n",
    "    for j in range(len(score_t)):\n",
    "        if s == score_t[j][1]:\n",
    "            eng_score_sort.append([j+1, s, score_t[j][2]])\n",
    "nums = np.array(eng_score_sort)\n",
    "res = nums.T\n",
    "res"
   ]
  },
  {
   "cell_type": "code",
   "execution_count": 97,
   "metadata": {},
   "outputs": [
    {
     "data": {
      "text/plain": [
       "array([[  1,   4,   2,   3],\n",
       "       [ 46,  71,  99, 100],\n",
       "       [ 81, 100,  59,  90]])"
      ]
     },
     "execution_count": 97,
     "metadata": {},
     "output_type": "execute_result"
    }
   ],
   "source": [
    "eng = np.argsort(score[1])\n",
    "score[:,eng]"
   ]
  }
 ],
 "metadata": {
  "kernelspec": {
   "display_name": "Python 3",
   "language": "python",
   "name": "python3"
  },
  "language_info": {
   "codemirror_mode": {
    "name": "ipython",
    "version": 3
   },
   "file_extension": ".py",
   "mimetype": "text/x-python",
   "name": "python",
   "nbconvert_exporter": "python",
   "pygments_lexer": "ipython3",
   "version": "3.10.9"
  }
 },
 "nbformat": 4,
 "nbformat_minor": 2
}
