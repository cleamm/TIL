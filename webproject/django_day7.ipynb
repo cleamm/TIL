{
 "cells": [
  {
   "cell_type": "code",
   "execution_count": null,
   "metadata": {},
   "outputs": [],
   "source": [
    "# 0~9까지의 숫자 카드에서 6장을 뽑았을 때, \n",
    "# 3장의 카드가 연속적인 번호일 경우 run이라고 함.\n",
    "# 3장이 동일하면 triplet이라고 함\n",
    "# 6장의 카드가 run과 triplet이면 baby-gin임"
   ]
  },
  {
   "cell_type": "code",
   "execution_count": 24,
   "metadata": {},
   "outputs": [
    {
     "name": "stdout",
     "output_type": "stream",
     "text": [
      "Not baby-gin\n"
     ]
    }
   ],
   "source": [
    "import random\n",
    "\n",
    "\n",
    "def run(num):\n",
    "    if num[0] == num[1] == num[2]:\n",
    "        return True\n",
    "\n",
    "\n",
    "def triplet(num):\n",
    "    if num[0] + 1 == num[1] and num[1] + 1 == num[2]:\n",
    "        return True\n",
    "\n",
    "\n",
    "# random_num = [random.randint(1, 9) for i in range(6)]\n",
    "# random_num = sorted(random_num)\n",
    "# print(random_num)\n",
    "random_num = [1,1,2,2,3,3]\n",
    "\n",
    "if run(random_num[:3]) or triplet(random_num[:3]):\n",
    "    if run(random_num[3:]) or triplet(random_num[3:]):\n",
    "        print('baby-gin')\n",
    "    else:\n",
    "        print('Not baby-gin')\n",
    "else:\n",
    "    print('Not baby-gin')"
   ]
  },
  {
   "cell_type": "code",
   "execution_count": null,
   "metadata": {},
   "outputs": [],
   "source": [
    "# Baby-gin Game\n",
    "# 설명\n",
    "# 0~9 사이의 숫자 카드에서 임의의 카드 6장을 뽑았을 때, 3장의 카드가\n",
    "# 연속적인 번호를 갖는 경우를 run이라 하고, 3장의 카드가 동일한 번호\n",
    "# 를 갖는 경우를 triplet이라고 한다.\n",
    "# 그리고, 6장의 카드가 run과 triplet로맊 구성된 경우를 baby-gin으로\n",
    "# 부른다.\n",
    "# 6자리의 숫자를 입력 받아 baby-gin 여부를 판단하는 프로그램을 작성\n",
    "# 하라.\n",
    "# APS (Algorithm Problem Solving) 17\n",
    "# APS (Algorithm Problem Solving)\n",
    "# 입력 예\n",
    "# 112233은 두개의 run임(123, 123)\n",
    "# 667767은 두 개의 triplet이므로 baby-gin이다. (666, 777)\n",
    "# 054060은 한 개의 run과 한 개의 triplet이므로 역시 baby-gin이다. \n",
    "# (456, 000)\n",
    "# 101123은 한 개의 triplet가 존재하나, 023이 run이 아니므로 baby-gin \n",
    "# 이 아니다.\n",
    "# (123을 run으로 사용하더라도 011이 run이나 triplet가 아님)\n",
    "# 6자리의 숫자를 입력 받아 어떻게 Baby-gin 여부를 찾을 것인가?\n",
    "# 참고로 삼성 3시간 문제였음"
   ]
  },
  {
   "cell_type": "code",
   "execution_count": 26,
   "metadata": {},
   "outputs": [
    {
     "name": "stdout",
     "output_type": "stream",
     "text": [
      "baby-gin이 아님\n"
     ]
    }
   ],
   "source": [
    "nums = input()\n",
    "nums = list(map(int, nums))\n",
    "nums.sort()\n",
    "check = 0\n",
    "        \n",
    "if(nums[0] == nums[1] == nums[2]):\n",
    "    check += 1\n",
    "elif(nums[0]+2 == nums[1]+1 == nums[2]):\n",
    "    check += 1\n",
    "if(nums[3] == nums[4] == nums[5]):\n",
    "    check += 1\n",
    "elif(nums[3]+2 == nums[4]+1 == nums[5]):\n",
    "    check += 1\n",
    "\n",
    "if(check == 2):\n",
    "    print('Baby-gin')\n",
    "else:\n",
    "    print('baby-gin이 아님')"
   ]
  },
  {
   "cell_type": "code",
   "execution_count": 80,
   "metadata": {},
   "outputs": [
    {
     "name": "stdout",
     "output_type": "stream",
     "text": [
      "Baby-gin\n"
     ]
    }
   ],
   "source": [
    "nums = input()\n",
    "nums = list(map(int, nums))\n",
    "nums.sort()\n",
    "check = 0\n",
    "\n",
    "for i in nums:\n",
    "    if(i+1 in nums and i+2 in nums):\n",
    "        nums.remove(i)\n",
    "        nums.remove(i+1)\n",
    "        nums.remove(i+2)\n",
    "        check += 1\n",
    "        break\n",
    "    elif(nums.count(i) >= 3):\n",
    "        nums.remove(i)\n",
    "        nums.remove(i)\n",
    "        nums.remove(i)\n",
    "        check += 1\n",
    "        break\n",
    "if(nums[0] == nums[1] == nums[2]):\n",
    "    check += 1\n",
    "elif(nums[0]+2 == nums[1]+1 == nums[2]):\n",
    "    check += 1\n",
    "\n",
    "if(check == 2):\n",
    "    print('Baby-gin')\n",
    "else:\n",
    "    print('baby-gin이 아님')"
   ]
  },
  {
   "cell_type": "code",
   "execution_count": 82,
   "metadata": {},
   "outputs": [
    {
     "name": "stdout",
     "output_type": "stream",
     "text": [
      "Baby-gin\n"
     ]
    }
   ],
   "source": [
    "# 유윤태 수강생 코드\n",
    "def triplet(num):\n",
    "    if num[0] == num[1] == num[2]:\n",
    "        return True\n",
    "\n",
    "def run(num):\n",
    "    if num[0] + 1 == num[1] and num[1] + 1 == num[2]:\n",
    "        return True\n",
    "\n",
    "def remain_check(num):\n",
    "    if len(set(num)) == 2:\n",
    "        return True\n",
    "    elif len(set(num)) == 3:\n",
    "        if run(list(set(num))):\n",
    "            return True\n",
    "\n",
    "random_num = [4,4,4,3,4,5]\n",
    "random_num = sorted(random_num)\n",
    "\n",
    "if run(random_num[:3]) or triplet(random_num[:3]):\n",
    "    if run(random_num[3:]) or triplet(random_num[3:]):\n",
    "        cnt = 2\n",
    "    else:\n",
    "        cnt = 1\n",
    "else:\n",
    "    cnt = 0\n",
    "\n",
    "if cnt == 2 or remain_check(random_num):\n",
    "    print('Baby-gin')\n",
    "else:\n",
    "    print('Not Baby-gin')"
   ]
  },
  {
   "cell_type": "code",
   "execution_count": 109,
   "metadata": {},
   "outputs": [
    {
     "name": "stdout",
     "output_type": "stream",
     "text": [
      "[7, 55, 12, 42, 78]\n",
      "[7, 12, 42, 55, 78]\n",
      "[7, 12, 42, 55, 78]\n",
      "[7, 12, 42, 55, 78]\n",
      "[7, 12, 42, 55, 78]\n",
      "버블 정렬 데이터: [7, 12, 42, 55, 78]\n"
     ]
    }
   ],
   "source": [
    "# 버블정렬문제 O(n^2)\n",
    "# 직접 만들기\n",
    "nums = [55,7,78,12,42]\n",
    "# print(len(nums))\n",
    "# for i in range(len(nums)-1):\n",
    "#     for j in range(len(nums)-1):\n",
    "#         if(nums[j] > nums[j+1]):\n",
    "#             nums[j], nums[j+1] = nums[j+1], nums[j]\n",
    "# nums\n",
    "# 위의 버블정렬은 약간 다름\n",
    "# 진짜 버블 정렬은 큰 수가 첫번째 for문에서 맞아 들어가야 하는 것임\n",
    "# 그러므로 진짜 의미의 버블 정렬은 아래와 같다고 볼 수 있음\n",
    "\n",
    "for i in range(len(nums)-1,-1, -1):\n",
    "    for j in range(i):\n",
    "        if(nums[j]>nums[j+1]):\n",
    "            nums[j], nums[j+1] = nums[j+1], nums[j]\n",
    "    print(nums)\n",
    "print('버블 정렬 데이터:', nums)"
   ]
  },
  {
   "cell_type": "code",
   "execution_count": 133,
   "metadata": {},
   "outputs": [
    {
     "name": "stdout",
     "output_type": "stream",
     "text": [
      "[0, 1, 1, 1, 2, 3, 4, 4]\n"
     ]
    }
   ],
   "source": [
    "# 카운팅정렬문제 O(n^2)\n",
    "# 제일 빠른 정렬 알고리즘이지만 범위가 커질 수 있어서 공간복잡도 면으로 손해가 있을 수 있음.\n",
    "\n",
    "# 직접 만들기\n",
    "# nums = [0,4,1,3,1,2,4,1]\n",
    "# data_leng = len(nums)\n",
    "# high = max(nums)\n",
    "# low = min(nums)\n",
    "# lst = []\n",
    "# for i in range(low,high+1):\n",
    "#     for j in range(nums.count(i)):\n",
    "#         lst.append(i)\n",
    "# print(lst)\n",
    "\n",
    "# 위에서 아래 코드로 수정함 O(n)\n",
    "\n",
    "\n",
    "nums = [0,4,1,3,1,2,4,1]\n",
    "high = max(nums) # 원래는 이걸 구현해야함\n",
    "low = min(nums)\n",
    "res = []\n",
    "for i in range(low,high+1):\n",
    "    res += [i] * nums.count(i)\n",
    "print(res)"
   ]
  },
  {
   "cell_type": "code",
   "execution_count": 136,
   "metadata": {},
   "outputs": [
    {
     "name": "stdout",
     "output_type": "stream",
     "text": [
      "[0, 1, 1, 1, 2, 3, 4, 4]\n"
     ]
    }
   ],
   "source": [
    "# 카운팅 정렬 모범답안 (O(n+k)\n",
    "lst = [0, 4, 1, 3, 1, 2, 4, 1]\n",
    "count_lst = []\n",
    "\n",
    "for i in range(5):\n",
    "    count_lst.append(0)\n",
    "\n",
    "for i in lst:\n",
    "    count_lst[i] = count_lst[i] + 1\n",
    "\n",
    "res = []\n",
    "for i, data in enumerate(count_lst):\n",
    "    res += [i]*data\n",
    "print(res)"
   ]
  },
  {
   "cell_type": "code",
   "execution_count": 137,
   "metadata": {},
   "outputs": [
    {
     "data": {
      "text/plain": [
       "[0, 1, 2, 3, 4]"
      ]
     },
     "execution_count": 137,
     "metadata": {},
     "output_type": "execute_result"
    }
   ],
   "source": [
    "import random\n",
    "\n",
    "list(range(5))"
   ]
  },
  {
   "cell_type": "code",
   "execution_count": 150,
   "metadata": {},
   "outputs": [
    {
     "name": "stdout",
     "output_type": "stream",
     "text": [
      "[6, 3, 10, 4, 3]\n",
      "[9, 10, 6, 4, 2]\n",
      "[1, 9, 8, 3, 5]\n",
      "[6, 4, 1, 7, 2]\n",
      "[6, 6, 2, 5, 6]\n"
     ]
    }
   ],
   "source": [
    "\n"
   ]
  },
  {
   "cell_type": "code",
   "execution_count": 154,
   "metadata": {},
   "outputs": [
    {
     "name": "stdout",
     "output_type": "stream",
     "text": [
      "[1, 2, 6, 3, 6]\n",
      "[8, 3, 4, 7, 5]\n",
      "[6, 10, 4, 1, 8]\n",
      "[10, 10, 10, 10, 10]\n",
      "[1, 3, 6, 1, 6]\n",
      "\n",
      "[8, 6, 9, 10, 4]\n",
      "[14, 14, 6, 15, 6]\n",
      "[10, 17, 15, 25, 12]\n",
      "[13, 7, 10, 18, 6]\n",
      "[11, 12, 12, 19, 9]\n"
     ]
    }
   ],
   "source": [
    "# 기출문제\n",
    "# 숫자의 범위는 1부터 10까지로\n",
    "\n",
    "import random\n",
    "\n",
    "# data = [[],[],[],[],[]]\n",
    "# for j in range(5):\n",
    "#     for i in range(5):\n",
    "#         data[j].append(random.randint(1,10))\n",
    "#     print(data[j])\n",
    "data = [[random.randint(1, 10) for _ in range(5)] for _ in range(5)]\n",
    "# data = [[8, 1, 9, 1, 6],\n",
    "# [8, 2, 3, 7, 2],\n",
    "# [10, 7, 6, 4, 2],\n",
    "# [3, 3, 4, 3, 5],\n",
    "# [4, 6, 3, 3, 3]]\n",
    "for i in data:\n",
    "    print(i)\n",
    "print()\n",
    "res = [[],[],[],[],[]]\n",
    "for i in range(5):\n",
    "    for j in range(5):\n",
    "        res_data = 0\n",
    "        if(i-1 >= 0):\n",
    "            res_data += abs(data[i-1][j] - data[i][j])\n",
    "        if(i+1 < 5):\n",
    "            res_data += abs(data[i+1][j] - data[i][j])\n",
    "        if(j-1 >= 0):\n",
    "            res_data += abs(data[i][j-1] - data[i][j])\n",
    "        if(j+1 < 5):\n",
    "            res_data += abs(data[i][j+1] - data[i][j])\n",
    "        res[i].append(res_data)\n",
    "\n",
    "for i in res:\n",
    "    print(i)"
   ]
  },
  {
   "cell_type": "code",
   "execution_count": 152,
   "metadata": {},
   "outputs": [
    {
     "name": "stdout",
     "output_type": "stream",
     "text": [
      "[5, 8, 2, 1, 5]\n",
      "[4, 10, 7, 6, 3]\n",
      "[7, 1, 3, 7, 9]\n",
      "[2, 8, 8, 8, 2]\n",
      "[8, 7, 9, 6, 4]\n",
      "53\n"
     ]
    }
   ],
   "source": [
    "import random\n",
    "array = [[random.randint(1, 10) for _ in range(5)] for _ in range(5)]\n",
    "try:\n",
    "    res=0\n",
    "    for i in range(len(array)):\n",
    "        for j in range(len(array[i])):\n",
    "            factor=array[i][j]\n",
    "            hap=abs(factor-array[i-1][j])+abs(factor-array[i][j+1])+abs(factor-array[i+1][j])+abs(factor-array[i][j-1])\n",
    "            res+=hap\n",
    "except IndexError as eror:\n",
    "    pass\n",
    "\n",
    "print(res)"
   ]
  },
  {
   "cell_type": "code",
   "execution_count": 1,
   "metadata": {},
   "outputs": [
    {
     "name": "stdout",
     "output_type": "stream",
     "text": [
      "2/4\n"
     ]
    }
   ],
   "source": [
    "n = 14 # 1, 1/2, 2/1, 3/1, 2/2, ...\n",
    "num1 = num2 = 2\n",
    "check1 = check2 = False\n",
    "if(n < 6):\n",
    "    if(n == 5):\n",
    "        print('2/2')\n",
    "    elif(n == 4):\n",
    "        print('3/1')\n",
    "    elif(n == 3):\n",
    "        print('2/1')\n",
    "    elif(n == 2):\n",
    "        print('1/2')\n",
    "    else:\n",
    "        print('1/1')\n",
    "else:\n",
    "    for i in range(6, n+1):\n",
    "        if(check2 == False and num2 == 1):\n",
    "            check1, check2 = False, True\n",
    "            num1 += 1\n",
    "        elif(check1 == False and num1 == 1):\n",
    "            check1, check2 =  True, False\n",
    "            num2 += 1\n",
    "        else:\n",
    "            if(check1 == True):\n",
    "                num1 += 1\n",
    "                num2 -= 1\n",
    "            else:\n",
    "                num1 -= 1\n",
    "                num2 += 1\n",
    "    print(str(num1)+'/'+str(num2))\n"
   ]
  },
  {
   "cell_type": "code",
   "execution_count": 16,
   "metadata": {},
   "outputs": [
    {
     "data": {
      "text/plain": [
       "[[24, 12, 17, 16, 14],\n",
       " [1, 19, 20, 15, 6],\n",
       " [13, 25, 5, 3, 11],\n",
       " [21, 8, 22, 7, 9],\n",
       " [4, 10, 23, 18, 2]]"
      ]
     },
     "execution_count": 16,
     "metadata": {},
     "output_type": "execute_result"
    }
   ],
   "source": [
    "# 교재 105페이지\n",
    "import random\n",
    "nums = list(range(1,26))\n",
    "random.shuffle(nums)\n",
    "lst = []\n",
    "for i in range(5):\n",
    "    lst2 = []\n",
    "    for j in range(5):\n",
    "        num = random.choice(nums)\n",
    "        lst2.append(num)\n",
    "        nums.remove(num)\n",
    "    lst.append(lst2)\n",
    "lst"
   ]
  },
  {
   "cell_type": "code",
   "execution_count": 36,
   "metadata": {},
   "outputs": [
    {
     "name": "stdout",
     "output_type": "stream",
     "text": [
      "[1, 2, 3, 4, 5, 6, 7, 8, 9, 10, 11, 12, 13, 14, 15, 16, 17, 18, 19, 20, 21, 22, 23, 24, 25]\n",
      "[]\n"
     ]
    }
   ],
   "source": [
    "lst = [[2, 16, 21, 6, 1],\n",
    " [14, 8, 15, 17, 3],\n",
    " [25, 9, 12, 20, 23],\n",
    " [7, 18, 11, 13, 24],\n",
    " [22, 5, 19, 10, 4]]\n",
    "\n",
    "all_lst = []\n",
    "low_num = 0\n",
    "for i in lst:\n",
    "    all_lst += i\n",
    "all_lst.sort()\n",
    "print(all_lst)\n",
    "\n",
    "res = []\n",
    "direction = ['r', 'd', 'l', 'u'] # 우향, 하향, 좌향, 상향\n",
    "cnt = 5\n",
    "\n",
    "direction_num = 0\n",
    "while(len(all_lst) == 0):\n",
    "    row = []\n",
    "    for j in range(5):\n",
    "        print(j)\n",
    "        if(direction[direction_num] == 'r' and len(row) != 5):\n",
    "            row.append(all_lst[j])\n",
    "        else:\n",
    "            break\n",
    "    res.append(row)\n",
    "print(res)"
   ]
  }
 ],
 "metadata": {
  "kernelspec": {
   "display_name": "Python 3",
   "language": "python",
   "name": "python3"
  },
  "language_info": {
   "codemirror_mode": {
    "name": "ipython",
    "version": 3
   },
   "file_extension": ".py",
   "mimetype": "text/x-python",
   "name": "python",
   "nbconvert_exporter": "python",
   "pygments_lexer": "ipython3",
   "version": "3.10.9"
  }
 },
 "nbformat": 4,
 "nbformat_minor": 2
}
