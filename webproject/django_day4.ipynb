{
 "cells": [
  {
   "cell_type": "code",
   "execution_count": null,
   "metadata": {},
   "outputs": [],
   "source": [
    "# 1.프로그래머스 \n",
    "# 치킨은 치킨을 시켜먹으면 한 마리당 쿠폰을 한 장 발급합니다. \n",
    "# 쿠폰을 열 장 모으면 치킨을 한 마리 서비스로 받을 수 있고, 서비스 치킨에도 쿠폰이 발급됩니다. \n",
    "# 시켜먹은 치킨의 수 chicken이 매개변수로 주어질 때 받을 수 있는 최대 서비스 치킨의 수를 return하도록 solution 함수를 완성해주세요.\n",
    "\n",
    "# 제한사항\n",
    "# chicken은 정수입니다.\n",
    "# 0 ≤ chicken ≤ 1,000,000\n",
    "# 입출력 예\n",
    "# chicken\tresult\n",
    "# 100\t11\n",
    "# 1,081\t120\n",
    "# 입출력 예 설명\n",
    "# 입출력 예 #1\n",
    "\n",
    "# 100마리를 주문하면 쿠폰이 100장 발급되므로 서비스 치킨 10마리를 주문할 수 있습니다.\n",
    "# 10마리를 주문하면 쿠폰이 10장 발급되므로 서비스 치킨 1마리를 주문할 수 있습니다.\n",
    "# 따라서 10 + 1 = 11 을 return합니다.\n",
    "# 입출력 예 #2\n",
    "\n",
    "# 1081마리를 주문하면 쿠폰이 1081장 발급되므로 서비스 치킨 108마리를 주문할 수 있습니다. 그리고 쿠폰이 1장 남습니다.\n",
    "# 108마리를 주문하면 쿠폰이 108장 발급되므로 서비스 치킨 10마리를 주문할 수 있습니다. 그리고 쿠폰이 8장 남습니다.\n",
    "# 10마리를 주문하면 쿠폰이 10장 발급되므로 서비스 치킨 1마리를 주문할 수 있습니다.\n",
    "# 1마리를 주문하면 쿠폰이 1장 발급됩니다.\n",
    "# 가지고 있는 쿠폰이 총 10장이므로 서비스 치킨 1마리를 추가로 주문할 수 있습니다.\n",
    "# 따라서 108 + 10 + 1 + 1 = 120 을 return합니다."
   ]
  },
  {
   "cell_type": "code",
   "execution_count": 37,
   "metadata": {},
   "outputs": [
    {
     "name": "stdout",
     "output_type": "stream",
     "text": [
      "res 10 if 10\n",
      "\n",
      "el 10\n"
     ]
    },
    {
     "data": {
      "text/plain": [
       "11"
      ]
     },
     "execution_count": 37,
     "metadata": {},
     "output_type": "execute_result"
    }
   ],
   "source": [
    "chicken = 100\n",
    "# chicken = 1081\n",
    "\n",
    "def solution(chicken):\n",
    "    res = 0 # 몫\n",
    "    leave_data = str(chicken)[-1] # 나머지만 따로 빼둠\n",
    "    while(True):\n",
    "        if(chicken // 10 >= 10):\n",
    "            res += chicken // 10\n",
    "            chicken = chicken // 10\n",
    "        elif(chicken // 10 > 0):\n",
    "            print()\n",
    "            res += chicken//10\n",
    "            break\n",
    "    return res+int(leave_data)\n",
    "solution(chicken)"
   ]
  },
  {
   "cell_type": "markdown",
   "metadata": {},
   "source": [
    "사실 이게 맞는지 조금 의문"
   ]
  },
  {
   "cell_type": "code",
   "execution_count": 13,
   "metadata": {},
   "outputs": [
    {
     "data": {
      "text/plain": [
       "120"
      ]
     },
     "execution_count": 13,
     "metadata": {},
     "output_type": "execute_result"
    }
   ],
   "source": [
    "# chicken = 100\n",
    "chicken = 1081\n",
    "\n",
    "def solution1(chicken):\n",
    "    res = 0\n",
    "    addi = 0 # 10을 나눈 나머지\n",
    "    while(True):\n",
    "        if(chicken //  10 > 0):\n",
    "            res += chicken // 10\n",
    "            chicken = chicken // 10\n",
    "            addi = chicken % 10\n",
    "        else:\n",
    "            res += chicken // 10\n",
    "            break\n",
    "    return res + addi\n",
    "\n",
    "solution1(chicken)"
   ]
  },
  {
   "cell_type": "code",
   "execution_count": null,
   "metadata": {},
   "outputs": [],
   "source": [
    "# 2.\n",
    "# PROGRAMMERS-962 행성에 불시착한 우주비행사 머쓱이는 외계행성의 언어를 공부하려고 합니다. \n",
    "# 알파벳이 담긴 배열 spell과 외계어 사전 dic이 매개변수로 주어집니다. \n",
    "# spell에 담긴 알파벳을 한번씩만 모두 사용한 단어가 dic에 존재한다면 1, 존재하지 않는다면 2를 return하도록 solution 함수를 완성해주세요.\n",
    "\n",
    "# 제한사항\n",
    "# spell과 dic의 원소는 알파벳 소문자로만 이루어져있습니다.\n",
    "# 2 ≤ spell의 크기 ≤ 10\n",
    "# spell의 원소의 길이는 1입니다.\n",
    "# 1 ≤ dic의 크기 ≤ 10\n",
    "# 1 ≤ dic의 원소의 길이 ≤ 10\n",
    "# spell의 원소를 모두 사용해 단어를 만들어야 합니다.\n",
    "# spell의 원소를 모두 사용해 만들 수 있는 단어는 dic에 두 개 이상 존재하지 않습니다.\n",
    "# dic과 spell 모두 중복된 원소를 갖지 않습니다.\n",
    "# 입출력 예\n",
    "# spell\tdic\tresult\n",
    "# [\"p\", \"o\", \"s\"]\t[\"sod\", \"eocd\", \"qixm\", \"adio\", \"soo\"]\t2\n",
    "# [\"z\", \"d\", \"x\"]\t[\"def\", \"dww\", \"dzx\", \"loveaw\"]\t1\n",
    "# [\"s\", \"o\", \"m\", \"d\"]\t[\"moos\", \"dzx\", \"smm\", \"sunmmo\", \"som\"]\t2\n",
    "# 입출력 예 설명\n",
    "# 입출력 예 #1\n",
    "\n",
    "# \"p\", \"o\", \"s\" 를 조합해 만들 수 있는 단어가 dic에 존재하지 않습니다. 따라서 2를 return합니다.\n",
    "# 입출력 예 #2\n",
    "\n",
    "# \"z\", \"d\", \"x\" 를 조합해 만들 수 있는 단어 \"dzx\"가 dic에 존재합니다. 따라서 1을 return합니다.\n",
    "# 입출력 예 #3\n",
    "\n",
    "# \"s\", \"o\", \"m\", \"d\" 를 조합해 만들 수 있는 단어가 dic에 존재하지 않습니다. 따라서 2을 return합니다.\n",
    "# 유의사항\n",
    "# 입출력 예 #3 에서 \"moos\", \"smm\", \"som\"도 \"s\", \"o\", \"m\", \"d\" 를 조합해 만들 수 있지만 spell의 원소를 모두 사용해야 하기 때문에 정답이 아닙니다.\n"
   ]
  },
  {
   "cell_type": "code",
   "execution_count": 41,
   "metadata": {},
   "outputs": [
    {
     "data": {
      "text/plain": [
       "2"
      ]
     },
     "execution_count": 41,
     "metadata": {},
     "output_type": "execute_result"
    }
   ],
   "source": [
    "# spell = [\"p\", \"o\", \"s\"] # 2\n",
    "# dic = [\"sod\", \"eocd\", \"qixm\", \"adio\", \"soo\"]\n",
    "# spell = [\"z\", \"d\", \"x\"] # 1\n",
    "# dic = [\"def\", \"dww\", \"dzx\", \"loveaw\"]\n",
    "spell = [\"s\", \"o\", \"m\", \"d\"] # 2\n",
    "dic = [\"moos\", \"dzx\", \"smm\", \"sunmmo\", \"som\"]\n",
    "\n",
    "def solution(sp, d):\n",
    "    for i in d:\n",
    "        lst = []\n",
    "        for j in sp:\n",
    "            if(j in i):\n",
    "                lst.append(True)\n",
    "        if(len(lst) == len(sp)):\n",
    "            return 1\n",
    "    return 2\n",
    "solution(spell, dic)"
   ]
  },
  {
   "cell_type": "code",
   "execution_count": null,
   "metadata": {},
   "outputs": [],
   "source": [
    "# 3. \n",
    "# split 함수의 기능과 유사하게 mySplit함수를 구현하세요."
   ]
  },
  {
   "cell_type": "code",
   "execution_count": 71,
   "metadata": {},
   "outputs": [
    {
     "data": {
      "text/plain": [
       "['hello', 'friends!', 'Im', 'choi!!']"
      ]
     },
     "execution_count": 71,
     "metadata": {},
     "output_type": "execute_result"
    }
   ],
   "source": [
    "# split()함수 만들기\n",
    "\n",
    "text = 'hello friends! Im choi!!'\n",
    "pattern = 'h'\n",
    "def mySplit(data, pat=None):\n",
    "    txt = ' '\n",
    "    if(pat != None):\n",
    "        txt = pat # 패턴\n",
    "    res = [] # 결과\n",
    "    input_data = '' # 조합되는 문자열 = 결과에 분리되어 들어갈 문자열\n",
    "    for t in data:\n",
    "        if(txt == t):\n",
    "            res.append(input_data)\n",
    "            input_data = ''\n",
    "        else:\n",
    "            input_data += t\n",
    "    res.append(input_data)\n",
    "    return res\n",
    "\n",
    "mySplit(text)"
   ]
  },
  {
   "cell_type": "code",
   "execution_count": 73,
   "metadata": {},
   "outputs": [
    {
     "data": {
      "text/plain": [
       "['hello', 'friends!', 'Im', 'choi!!']"
      ]
     },
     "execution_count": 73,
     "metadata": {},
     "output_type": "execute_result"
    }
   ],
   "source": [
    "'hello friends! Im choi!!'.split()"
   ]
  }
 ],
 "metadata": {
  "kernelspec": {
   "display_name": "Python 3",
   "language": "python",
   "name": "python3"
  },
  "language_info": {
   "codemirror_mode": {
    "name": "ipython",
    "version": 3
   },
   "file_extension": ".py",
   "mimetype": "text/x-python",
   "name": "python",
   "nbconvert_exporter": "python",
   "pygments_lexer": "ipython3",
   "version": "3.10.9"
  }
 },
 "nbformat": 4,
 "nbformat_minor": 2
}
