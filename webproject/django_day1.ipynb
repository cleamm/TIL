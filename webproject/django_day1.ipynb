{
 "cells": [
  {
   "cell_type": "code",
   "execution_count": null,
   "metadata": {},
   "outputs": [],
   "source": [
    "# 1. 선분 3개가 평행하게 놓여 있습니다. 세 선분의 시작과 끝 좌표가 \n",
    "# [[start, end], [start, end], [start, end]] 형태로 들어있는 2차원 배열 lines가 매개변수로 주어질 때, \n",
    "# 두 개 이상의 선분이 겹치는 부분의 길이를 return 하도록 solution 함수를 완성해보세요.\n",
    "# lines가 [[0, 2], [-3, -1], [-2, 1]]일 때 그림으로 나타내면 다음과 같습니다.\n",
    "# 선분이 두 개 이상 겹친 곳은 [-2, -1], [0, 1]로 길이 2만큼 겹쳐있습니다.\n",
    "\n",
    "# 제한사항\n",
    "# lines의 길이 = 3\n",
    "# lines의 원소의 길이 = 2\n",
    "# 모든 선분은 길이가 1 이상입니다.\n",
    "# lines의 원소는 [a, b] 형태이며, a, b는 각각 선분의 양 끝점 입니다.\n",
    "# -100 ≤ a < b ≤ 100\n",
    "\n",
    "# 입출력 예\n",
    "# lines result\n",
    "# [[0, 1], [2, 5], [3, 9]] 2\n",
    "# [[-1, 1], [1, 3], [3, 9]] 0\n",
    "# [[0, 5], [3, 9], [1, 10]] 8\n",
    "\n",
    "# 입출력 예 설명\n",
    "# 입출력 예 #1\n",
    "# 두 번째, 세 번째 선분 [2, 5], [3, 9]가 [3, 5] 구간에 겹쳐있으므로 2를 return 합니다.\n",
    "# 입출력 예 #2\n",
    "# 겹친 선분이 없으므로 0을 return 합니다.\n",
    "# 입출력 예 #3\n",
    "# 첫 번째와 두 번째 선분이 [3, 5] 구간에서 겹칩니다.\n",
    "# 첫 번째와 세 번째 선분 [1, 5] 구간에서 겹칩니다.\n",
    "# 두 번째와 세 번째 선분 [3, 9] 구간에서 겹칩니다.\n",
    "# 따라서 [1, 9] 구간에 두 개 이상의 선분이 겹쳐있으므로, 8을 return 합니다."
   ]
  },
  {
   "cell_type": "code",
   "execution_count": 39,
   "metadata": {},
   "outputs": [
    {
     "name": "stdout",
     "output_type": "stream",
     "text": [
      "2\n"
     ]
    }
   ],
   "source": [
    "lines = [[0, 1], [2, 5], [3, 9]] # 2\n",
    "# lines = [[-1, 1], [1, 3], [3, 9]] # 0\n",
    "# lines = [[0, 5], [3, 9], [1, 10]] # 8\n",
    "lines_list = []\n",
    "low_num = lines[0][0]\n",
    "high_num = lines[0][0]\n",
    "\n",
    "for i in lines:\n",
    "    if(i[0] < low_num):\n",
    "        low_num = i[0]\n",
    "    if(i[1] > high_num):\n",
    "        high_num = i[1]\n",
    "    line = list(range(i[0],i[1]))\n",
    "    lines_list.append(line)\n",
    "\n",
    "\n",
    "one_list = [] # 하나의 리스트로 통합\n",
    "for i in lines_list: # 통합 작업\n",
    "    one_list += i\n",
    "\n",
    "cnt = 0 # 중복된 길이\n",
    "for i in range(low_num, high_num):\n",
    "    if(one_list.count(i) > 1):\n",
    "        cnt += 1\n",
    "print(cnt)"
   ]
  },
  {
   "cell_type": "code",
   "execution_count": null,
   "metadata": {},
   "outputs": [],
   "source": [
    "# 2.\n",
    "# 첫 번째 분수의 분자와 분모를 뜻하는 numer1, denom1, \n",
    "# 두 번째 분수의 분자와 분모를 뜻하는 numer2, denom2가 매개변수로 주어집니다. \n",
    "# 두 분수를 더한 값을 기약 분수로 나타냈을 때 \n",
    "# 분자와 분모를 순서대로 담은 배열을 return 하도록 solution 함수를 완성해보세요.\n",
    "\n",
    "# 제한사항\n",
    "# 0 <numer1, denom1, numer2, denom2 < 1,000\n",
    "\n",
    "# 입출력 예\n",
    "# numer1 denom1 numer2 denom2 result\n",
    "# 1              2         3          4        [5, 4]\n",
    "# 9             2          1          3        [29, 6]\n",
    "# 입출력 예 설명\n",
    "# 입출력 예 #1\n",
    "# 1 / 2 + 3 / 4 = 5 / 4입니다. 따라서 [5, 4]를 return 합니다.\n",
    "# 입출력 예 #2\n",
    "# 9 / 2 + 1 / 3 = 29 / 6입니다. 따라서 [29, 6]을 return 합니다.\n",
    "# 문제 출처 : 프로그래머"
   ]
  },
  {
   "cell_type": "code",
   "execution_count": 69,
   "metadata": {},
   "outputs": [
    {
     "name": "stdout",
     "output_type": "stream",
     "text": [
      "29 6\n"
     ]
    },
    {
     "data": {
      "text/plain": [
       "[29, 6]"
      ]
     },
     "execution_count": 69,
     "metadata": {},
     "output_type": "execute_result"
    }
   ],
   "source": [
    "numer1 = 9\n",
    "denom1 = 2\n",
    "numer2 = 1\n",
    "denom2 = 3\n",
    "\n",
    "\n",
    "def solution(n1, d1, n2, d2):\n",
    "    denom3 = d1*d2\n",
    "    numer3 = (n1*d2) + (n2*d1)\n",
    "    print(numer3, denom3)\n",
    "    res_n, res_d = 0, 0\n",
    "    for i in range(denom3-1, 1, -1):\n",
    "        if(numer3%i == 0 and denom3%i == 0):\n",
    "            res_n, res_d = int(numer3/i),int(denom3/i)\n",
    "            break\n",
    "    if(res_d == 0):\n",
    "        return [numer3,denom3]\n",
    "    return [res_n, res_d]\n",
    "\n",
    "\n",
    "solution(numer1, denom1, numer2, denom2)"
   ]
  },
  {
   "cell_type": "code",
   "execution_count": 63,
   "metadata": {},
   "outputs": [
    {
     "data": {
      "text/plain": [
       "False"
      ]
     },
     "execution_count": 63,
     "metadata": {},
     "output_type": "execute_result"
    }
   ],
   "source": [
    "8%5 == 0"
   ]
  }
 ],
 "metadata": {
  "kernelspec": {
   "display_name": "Python 3",
   "language": "python",
   "name": "python3"
  },
  "language_info": {
   "codemirror_mode": {
    "name": "ipython",
    "version": 3
   },
   "file_extension": ".py",
   "mimetype": "text/x-python",
   "name": "python",
   "nbconvert_exporter": "python",
   "pygments_lexer": "ipython3",
   "version": "3.10.9"
  }
 },
 "nbformat": 4,
 "nbformat_minor": 2
}
