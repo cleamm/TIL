{
 "cells": [
  {
   "cell_type": "code",
   "execution_count": 5,
   "metadata": {},
   "outputs": [
    {
     "data": {
      "text/plain": [
       "11"
      ]
     },
     "execution_count": 5,
     "metadata": {},
     "output_type": "execute_result"
    }
   ],
   "source": [
    "# 1.문자열의 길이를 구하는 함수를 구현하세요.\n",
    "def myLen(data):\n",
    "    res = 0\n",
    "    for i in data:\n",
    "        res += 1\n",
    "    return res\n",
    "\n",
    "myLen('hello world')"
   ]
  },
  {
   "cell_type": "code",
   "execution_count": 13,
   "metadata": {},
   "outputs": [
    {
     "data": {
      "text/plain": [
       "'hello worl'"
      ]
     },
     "execution_count": 13,
     "metadata": {},
     "output_type": "execute_result"
    }
   ],
   "source": []
  },
  {
   "cell_type": "code",
   "execution_count": 39,
   "metadata": {},
   "outputs": [
    {
     "data": {
      "text/plain": [
       "'hello world'"
      ]
     },
     "execution_count": 39,
     "metadata": {},
     "output_type": "execute_result"
    }
   ],
   "source": [
    "# 2. strip 함수를 구현하세요.\n",
    "def myStrip(data, pat = None):\n",
    "    res = '' # 결과\n",
    "    pattern = ' '    # 패턴\n",
    "    if(pat != None):    # 패턴이 있다면\n",
    "        pattern = pat\n",
    "    for i in range(len(data)): # 들어온 데이터의 앞부분 탐색\n",
    "        if(data[i] != pattern):\n",
    "            res = data[i:]\n",
    "            break\n",
    "    for j in range(len(res)-1, 0, -1): # 들어온 데이터의 뒷부분 탐색\n",
    "        if(res[j] != pattern):\n",
    "            res = res[:j+1]\n",
    "            break\n",
    "    return res\n",
    "\n",
    "myStrip('   hello world   ')"
   ]
  },
  {
   "cell_type": "code",
   "execution_count": 45,
   "metadata": {},
   "outputs": [
    {
     "name": "stdout",
     "output_type": "stream",
     "text": [
      "1\n",
      "0\n"
     ]
    }
   ],
   "source": [
    "# 3. 두 문자열을 전달받아 동일하면 1, 그렇지 않으면 0을 리턴하는 함수를 구현하세요.\n",
    "\n",
    "def isDataSame(text1, text2):\n",
    "    if text1 == text2:\n",
    "        return 1\n",
    "    else:\n",
    "        return 0\n",
    "a = 'text'\n",
    "b = 'text'\n",
    "c = 'txt'\n",
    "print(isDataSame(a,b))\n",
    "print(isDataSame(a,c))"
   ]
  },
  {
   "cell_type": "code",
   "execution_count": null,
   "metadata": {},
   "outputs": [],
   "source": [
    "# 4. \n",
    "# 짝지어 제거하기는, 알파벳 소문자로 이루어진 문자열을 가지고 시작합니다. \n",
    "# 먼저 문자열에서 같은 알파벳이 2개 붙어 있는 짝을 찾습니다. \n",
    "# 그다음, 그 둘을 제거한 뒤, 앞뒤로 문자열을 이어 붙입니다. \n",
    "# 이 과정을 반복해서 문자열을 모두 제거한다면 짝지어 제거하기가 종료됩니다. \n",
    "# 문자열 S가 주어졌을 때, 짝지어 제거하기를 성공적으로 수행할 수 있는지 반환하는 함수를 완성해 주세요. \n",
    "# 성공적으로 수행할 수 있으면 1을, 아닐 경우 0을 리턴해주면 됩니다.\n",
    "\n",
    "# 예를 들어, 문자열 S = baabaa 라면\n",
    "\n",
    "# b aa baa → bb aa → aa →\n",
    "\n",
    "# 의 순서로 문자열을 모두 제거할 수 있으므로 1을 반환합니다.\n",
    "\n",
    "# 제한사항\n",
    "# 문자열의 길이 : 1,000,000이하의 자연수\n",
    "# 문자열은 모두 소문자로 이루어져 있습니다.\n",
    "# 입출력 예\n",
    "# s\tresult\n",
    "# baabaa\t1\n",
    "# cdcd\t0\n",
    "# 입출력 예 설명\n",
    "# 입출력 예 #1\n",
    "# 위의 예시와 같습니다.\n",
    "# 입출력 예 #2\n",
    "# 문자열이 남아있지만 짝지어 제거할 수 있는 문자열이 더 이상 존재하지 않기 때문에 0을 반환합니다."
   ]
  },
  {
   "cell_type": "code",
   "execution_count": 115,
   "metadata": {},
   "outputs": [
    {
     "data": {
      "text/plain": [
       "1"
      ]
     },
     "execution_count": 115,
     "metadata": {},
     "output_type": "execute_result"
    }
   ],
   "source": [
    "def returnResult(text):\n",
    "    res = list(text)\n",
    "    for j in range(len(res)):\n",
    "        for i in range(1,len(text)):\n",
    "            if(res[i] == res[i-1]): # 인덱스는 1부터 시작하여 비교하며 삭제할지 확인\n",
    "                del res[i-1] # res에 있는 인덱스에 해당데이터 삭제\n",
    "                del res[i-1] # 동일 데이터 삭제\n",
    "                break\n",
    "        if(len(res) == 0): # 길이가 없으면 반환\n",
    "            return 1\n",
    "    if(len(res) != 0):\n",
    "        return 0\n",
    "S = 'baabaa'\n",
    "returnResult(S)"
   ]
  },
  {
   "cell_type": "code",
   "execution_count": 72,
   "metadata": {},
   "outputs": [
    {
     "data": {
      "text/plain": [
       "[]"
      ]
     },
     "execution_count": 72,
     "metadata": {},
     "output_type": "execute_result"
    }
   ],
   "source": [
    "\n",
    "['b', 'a', 'a', 'b', 'a', 'a'][:0]"
   ]
  }
 ],
 "metadata": {
  "kernelspec": {
   "display_name": "Python 3",
   "language": "python",
   "name": "python3"
  },
  "language_info": {
   "codemirror_mode": {
    "name": "ipython",
    "version": 3
   },
   "file_extension": ".py",
   "mimetype": "text/x-python",
   "name": "python",
   "nbconvert_exporter": "python",
   "pygments_lexer": "ipython3",
   "version": "3.10.9"
  }
 },
 "nbformat": 4,
 "nbformat_minor": 2
}
