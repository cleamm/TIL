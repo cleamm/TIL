{
 "cells": [
  {
   "cell_type": "code",
   "execution_count": 23,
   "metadata": {},
   "outputs": [
    {
     "name": "stdout",
     "output_type": "stream",
     "text": [
      "91\n"
     ]
    }
   ],
   "source": [
    "# 시간/공간복잡도\n",
    "# n을 입력받아 1~n까지 연속된 숫자에 대한 제곱의 합을 출력하는 프로그램을 작성\n",
    "n = int(input())\n",
    "res = 0\n",
    "for i in range(1, n+1):\n",
    "    res += i**2\n",
    "print(res)\n",
    "# 위는 O(n2)"
   ]
  },
  {
   "cell_type": "code",
   "execution_count": 41,
   "metadata": {},
   "outputs": [
    {
     "name": "stdout",
     "output_type": "stream",
     "text": [
      "55.0\n"
     ]
    }
   ],
   "source": [
    "# 시간복잡도? big O(빅 오 표기법)라고 함 => O(n)\n",
    "n = 5\n",
    "print((n*(n+1)*(2*n+1)) / 6)\n",
    "# 위같이 일정한 시간이 걸리는 것이 정해져 있는 경우\n",
    "# O(1)이 될 수 있음\n",
    "\n",
    "# 좋은 알고리즘이란?\n",
    "# 1. 정확하게 동작\n",
    "# 2. 얼마나 적은 연산으로 구현이 되는가?\n",
    "# 3. 얼마나 적은 메모리?\n",
    "# 4. 얼마나 단순?\n",
    "# 5. 개선의 여지가 없는가?"
   ]
  },
  {
   "cell_type": "code",
   "execution_count": 28,
   "metadata": {},
   "outputs": [
    {
     "name": "stdout",
     "output_type": "stream",
     "text": [
      "1\n"
     ]
    }
   ],
   "source": [
    "# 숫자 n개를 리스트로 전달받아 최솟값을 출력하는 프로그램을 작성(연산(min,max) 혹은 정렬과 관련한 함수 불가)\n",
    "n = list(map(int, input().split()))\n",
    "res = n[0]\n",
    "for i in n:\n",
    "    if res > i:\n",
    "        res = i\n",
    "print(res)"
   ]
  },
  {
   "cell_type": "code",
   "execution_count": 38,
   "metadata": {},
   "outputs": [
    {
     "name": "stdout",
     "output_type": "stream",
     "text": [
      "[['Tom'], ['Tom', 'Mike']]\n"
     ]
    }
   ],
   "source": [
    "# name, name2에 대해 중복 이름을 출력\n",
    "# Tom\n",
    "# Tom, Mike\n",
    "name = [\"Tom\", \"Jerry\", \"Mike\", \"Tom\"]\n",
    "name2 = [\"Tom\", \"Jerry\", \"Mike\", \"Tom\", \"Mike\"]\n",
    "names = [name,name2]\n",
    "lst = [[],[]]\n",
    "res = [[],[]]\n",
    "for i in name:\n",
    "    if(i in lst[0]):\n",
    "        res[0].append(i)\n",
    "    else:\n",
    "        lst[0].append(i)\n",
    "for i in name2:\n",
    "    if(i in lst[1]):\n",
    "        res[1].append(i)\n",
    "    else:\n",
    "        lst[1].append(i)\n",
    "print(res)"
   ]
  },
  {
   "cell_type": "code",
   "execution_count": 49,
   "metadata": {},
   "outputs": [
    {
     "name": "stdout",
     "output_type": "stream",
     "text": [
      "Tom Jerry\n",
      "Tom Mike\n",
      "Jerry Mike\n"
     ]
    }
   ],
   "source": [
    "# n명 중 두명을 뽑아 짝을 지을 수 있는 모든 조합을 출력\n",
    "lst = [\"Tom\", \"Jerry\", \"Mike\"]\n",
    "for i in range(len(lst)):\n",
    "    for j in range(i+1, len(lst)):\n",
    "        print(lst[i], lst[j])"
   ]
  },
  {
   "cell_type": "code",
   "execution_count": 63,
   "metadata": {},
   "outputs": [
    {
     "name": "stdout",
     "output_type": "stream",
     "text": [
      "120\n"
     ]
    }
   ],
   "source": [
    "# # factorial\n",
    "# def hi(): # 재귀함수 = 자기 자신을 호출하는 함수\n",
    "#     print('hi')\n",
    "#     hi()\n",
    "# hi()\n",
    "\n",
    "def fact(n):\n",
    "    if n <= 1:\n",
    "        return 1\n",
    "    return n * fact(n-1)\n",
    "print(fact(5))"
   ]
  },
  {
   "cell_type": "code",
   "execution_count": 72,
   "metadata": {},
   "outputs": [
    {
     "data": {
      "text/plain": [
       "55"
      ]
     },
     "execution_count": 72,
     "metadata": {},
     "output_type": "execute_result"
    }
   ],
   "source": [
    "# 1~10까지의 합을 재귀호출로 작성하여 출력\n",
    "def total(n):\n",
    "    if(n<= 1):\n",
    "        return 1\n",
    "    return n + total(n-1)\n",
    "total(10)"
   ]
  },
  {
   "cell_type": "code",
   "execution_count": 92,
   "metadata": {},
   "outputs": [
    {
     "name": "stdout",
     "output_type": "stream",
     "text": [
      "100\n"
     ]
    }
   ],
   "source": [
    "# print(recursion_max([37,24,56,15,16,23,100,12,13]))\n",
    "# 위 함수를 정의하라\n",
    "res = idx = 0\n",
    "def recursion_max(myList):\n",
    "    global idx, res\n",
    "    if myList[idx] > res:\n",
    "        res = myList[idx]\n",
    "    if idx == len(myList)-1:\n",
    "        return res\n",
    "    idx += 1\n",
    "    return recursion_max(myList) # 재귀함수로 최대값을 반환\n",
    "print(recursion_max([37,24,56,15,16,23,100,12,13]))"
   ]
  },
  {
   "cell_type": "code",
   "execution_count": 89,
   "metadata": {},
   "outputs": [
    {
     "name": "stdout",
     "output_type": "stream",
     "text": [
      "[37, 56, 15, 16, 23, 100, 12, 13]\n",
      "[56, 15, 16, 23, 100, 12, 13]\n",
      "[56, 16, 23, 100, 12, 13]\n",
      "[56, 23, 100, 12, 13]\n",
      "[56, 100, 12, 13]\n",
      "[100, 12, 13]\n",
      "[100, 13]\n",
      "[100]\n"
     ]
    }
   ],
   "source": [
    "li=[37,24,56,15,16,23,100,12,13]\n",
    "#print(min(li[0], li[1]))\n",
    "li.remove(min(li[0], li[1]))\n",
    "print(li)\n",
    "li.remove(min(li[0], li[1]))\n",
    "print(li)\n",
    "li.remove(min(li[0], li[1]))\n",
    "print(li)\n",
    "li.remove(min(li[0], li[1]))\n",
    "print(li)\n",
    "li.remove(min(li[0], li[1]))\n",
    "print(li)\n",
    "li.remove(min(li[0], li[1]))\n",
    "print(li)\n",
    "li.remove(min(li[0], li[1]))\n",
    "print(li)\n",
    "li.remove(min(li[0], li[1]))\n",
    "print(li)\n"
   ]
  },
  {
   "cell_type": "code",
   "execution_count": 91,
   "metadata": {},
   "outputs": [
    {
     "name": "stdout",
     "output_type": "stream",
     "text": [
      "100\n"
     ]
    }
   ],
   "source": [
    "def recursion_max(myList):\n",
    "    if len(myList) == 1:\n",
    "        return myList[0]\n",
    "    myList.remove(min(myList[0], myList[1]))\n",
    "    return recursion_max(myList)\n",
    "print(recursion_max([37,24,56,15,16,23,100,12,13]))"
   ]
  },
  {
   "cell_type": "code",
   "execution_count": null,
   "metadata": {},
   "outputs": [],
   "source": [
    "# 연습문제"
   ]
  },
  {
   "cell_type": "code",
   "execution_count": null,
   "metadata": {},
   "outputs": [],
   "source": [
    "# 1.\n",
    "# 문제\n",
    "# 문제\n",
    "# 알파벳 대소문자로 된 단어가 주어지면, 이 단어에서 가장 많이 사용된 알파벳이 무엇인지 알아내는 프로그램을 작성하시오. \n",
    "# 단, 대문자와 소문자를 구분하지 않는다.\n",
    "\n",
    "# 입력\n",
    "# 첫째 줄에 알파벳 대소문자로 이루어진 단어가 주어진다. 주어지는 단어의 길이는 1,000,000을 넘지 않는다.\n",
    "\n",
    "# 출력\n",
    "# 첫째 줄에 이 단어에서 가장 많이 사용된 알파벳을 대문자로 출력한다. \n",
    "# 단, 가장 많이 사용된 알파벳이 여러 개 존재하는 경우에는 ?를 출력한다.\n",
    "\n",
    "# 예제 입력 1 \n",
    "# Mississipi\n",
    "# 예제 출력 1 \n",
    "# ?\n",
    "# 예제 입력 2 \n",
    "# zZa\n",
    "# 예제 출력 2 \n",
    "# Z\n",
    "# 예제 입력 3 \n",
    "# z\n",
    "# 예제 출력 3 \n",
    "# Z\n",
    "# 예제 입력 4 \n",
    "# baaa\n",
    "# 예제 출력 4 \n",
    "# A\n"
   ]
  },
  {
   "cell_type": "code",
   "execution_count": 125,
   "metadata": {},
   "outputs": [
    {
     "name": "stdout",
     "output_type": "stream",
     "text": [
      "A\n"
     ]
    }
   ],
   "source": [
    "text = input().upper()\n",
    "dict_data = {}\n",
    "for i in text:\n",
    "    if dict_data.get(i):\n",
    "        dict_data[i] = dict_data.get(i)+1\n",
    "    else:\n",
    "        dict_data[i] = 1\n",
    "res = 0\n",
    "eng = text[0]\n",
    "for i in dict_data:\n",
    "    if dict_data.get(i) > res:\n",
    "        res = dict_data.get(i)\n",
    "        eng = i\n",
    "    elif(dict_data.get(i) == res):\n",
    "        eng = '?'\n",
    "        break\n",
    "print(eng)"
   ]
  },
  {
   "cell_type": "code",
   "execution_count": 49,
   "metadata": {},
   "outputs": [
    {
     "name": "stdout",
     "output_type": "stream",
     "text": [
      "Z\n"
     ]
    }
   ],
   "source": [
    "# text = input().upper()\n",
    "text = 'zZa'.upper()\n",
    "lst = []\n",
    "for i in text:\n",
    "    if i not in lst:\n",
    "        lst.append(i)\n",
    "best_cnt = 0\n",
    "best_eng = text[0]\n",
    "for i in lst:\n",
    "    if best_cnt < text.count(i):\n",
    "        best_cnt = text.count(i)\n",
    "        best_eng = i\n",
    "    elif best_cnt == text.count(i):\n",
    "        best_eng = '?'\n",
    "        break\n",
    "print(best_eng)"
   ]
  },
  {
   "cell_type": "code",
   "execution_count": null,
   "metadata": {},
   "outputs": [],
   "source": [
    "# 2. \n",
    "# 문제\n",
    "# A대학교 컴퓨터공학과를 졸업하기 위해서는, 전공평점이 3.3 이상이거나 졸업고사를 통과해야 한다. \n",
    "# 그런데 아뿔싸, 치훈이는 깜빡하고 졸업고사를 응시하지 않았다는 사실을 깨달았다!\n",
    "\n",
    "# 치훈이의 전공평점을 계산해주는 프로그램을 작성해보자.\n",
    "\n",
    "# 전공평점은 전공과목별 (학점 × 과목평점)의 합을 학점의 총합으로 나눈 값이다.\n",
    "\n",
    "# 인하대학교 컴퓨터공학과의 등급에 따른 과목평점은 다음 표와 같다.\n",
    "\n",
    "# A+\t4.5\n",
    "# A0\t4.0\n",
    "# B+\t3.5\n",
    "# B0\t3.0\n",
    "# C+\t2.5\n",
    "# C0\t2.0\n",
    "# D+\t1.5\n",
    "# D0\t1.0\n",
    "# F\t0.0\n",
    "# P/F 과목의 경우 등급이 P또는 F로 표시되는데, 등급이 P인 과목은 계산에서 제외해야 한다.\n",
    "\n",
    "# 과연 치훈이는 무사히 졸업할 수 있을까?\n",
    "\n",
    "# 입력\n",
    "# 20줄에 걸쳐 치훈이가 수강한 전공과목의 과목명, 학점, 등급이 공백으로 구분되어 주어진다.\n",
    "\n",
    "# 출력\n",
    "# 치훈이의 전공평점을 출력한다.\n",
    "\n",
    "# 정답과의 절대오차 또는 상대오차가 \n",
    "# \\(10^{-4}\\) 이하이면 정답으로 인정한다.\n",
    "\n",
    "# 제한\n",
    "# 1 ≤ 과목명의 길이 ≤ 50\n",
    "# 과목명은 알파벳 대소문자 또는 숫자로만 이루어져 있으며, 띄어쓰기 없이 주어진다. \n",
    "# 입력으로 주어지는 모든 과목명은 서로 다르다.\n",
    "# 학점은 1.0,2.0,3.0,4.0중 하나이다.\n",
    "# 등급은 A+,A0,B+,B0,C+,C0,D+,D0,F,P중 하나이다.\n",
    "# 적어도 한 과목은 등급이 P가 아님이 보장된다.\n",
    "\n",
    "# 예제 입력1\n",
    "# ObjectOrientedProgramming1 3.0 A+\n",
    "# IntroductiontoComputerEngineering 3.0 A+\n",
    "# ObjectOrientedProgramming2 3.0 A0\n",
    "# CreativeComputerEngineeringDesign 3.0 A+\n",
    "# AssemblyLanguage 3.0 A+\n",
    "# InternetProgramming 3.0 B0\n",
    "# ApplicationProgramminginJava 3.0 A0\n",
    "# SystemProgramming 3.0 B0\n",
    "# OperatingSystem 3.0 B0\n",
    "# WirelessCommunicationsandNetworking 3.0 C+\n",
    "# LogicCircuits 3.0 B0\n",
    "# DataStructure 4.0 A+\n",
    "# MicroprocessorApplication 3.0 B+\n",
    "# EmbeddedSoftware 3.0 C0\n",
    "# ComputerSecurity 3.0 D+\n",
    "# Database 3.0 C+\n",
    "# Algorithm 3.0 B0\n",
    "# CapstoneDesigninCSE 3.0 B+\n",
    "# CompilerDesign 3.0 D0\n",
    "# ProblemSolving 4.0 P\n",
    "\n",
    "# 예제 출력1\n",
    "# 3.284483\n",
    "\n",
    "# 예제 입력2\n",
    "# BruteForce 3.0 F\n",
    "# Greedy 1.0 F\n",
    "# DivideandConquer 2.0 F\n",
    "# DynamicProgramming 3.0 F\n",
    "# DepthFirstSearch 4.0 F\n",
    "# BreadthFirstSearch 3.0 F\n",
    "# ShortestPath 4.0 F\n",
    "# DisjointSet 2.0 F\n",
    "# MinimumSpanningTree 2.0 F\n",
    "# TopologicalSorting 1.0 F\n",
    "# LeastCommonAncestor 2.0 F\n",
    "# SegmentTree 4.0 F\n",
    "# EulerTourTechnique 3.0 F\n",
    "# StronglyConnectedComponent 2.0 F\n",
    "# BipartiteMatching 2.0 F\n",
    "# MaximumFlowProblem 3.0 F\n",
    "# SuffixArray 1.0 F\n",
    "# HeavyLightDecomposition 4.0 F\n",
    "# CentroidDecomposition 3.0 F\n",
    "# SplayTree 1.0 F\n",
    "\n",
    "# 예제 출력2\n",
    "# 0.000000"
   ]
  },
  {
   "cell_type": "code",
   "execution_count": 157,
   "metadata": {},
   "outputs": [],
   "source": [
    "score = ['ObjectOrientedProgramming1 3.0 A+',\n",
    "'IntroductiontoComputerEngineering 3.0 A+',\n",
    "'ObjectOrientedProgramming2 3.0 A0',\n",
    "'CreativeComputerEngineeringDesign 3.0 A+',\n",
    "'AssemblyLanguage 3.0 A+',\n",
    "'InternetProgramming 3.0 B0',\n",
    "'ApplicationProgramminginJava 3.0 A0',\n",
    "'SystemProgramming 3.0 B0',\n",
    "'OperatingSystem 3.0 B0',\n",
    "'WirelessCommunicationsandNetworking 3.0 C+',\n",
    "'LogicCircuits 3.0 B0',\n",
    "'DataStructure 4.0 A+',\n",
    "'MicroprocessorApplication 3.0 B+',\n",
    "'EmbeddedSoftware 3.0 C0',\n",
    "'ComputerSecurity 3.0 D+',\n",
    "'Database 3.0 C+',\n",
    "'Algorithm 3.0 B0',\n",
    "'CapstoneDesigninCSE 3.0 B+',\n",
    "'CompilerDesign 3.0 D0',\n",
    "'ProblemSolving 4.0 P']"
   ]
  },
  {
   "cell_type": "code",
   "execution_count": 156,
   "metadata": {},
   "outputs": [],
   "source": [
    "score = [\n",
    "'BruteForce 3.0 F',\n",
    "'Greedy 1.0 F',\n",
    "'DivideandConquer 2.0 F',\n",
    "'DynamicProgramming 3.0 F',\n",
    "'DepthFirstSearch 4.0 F',\n",
    "'BreadthFirstSearch 3.0 F',\n",
    "'ShortestPath 4.0 F',\n",
    "'DisjointSet 2.0 F',\n",
    "'MinimumSpanningTree 2.0 F',\n",
    "'TopologicalSorting 1.0 F',\n",
    "'LeastCommonAncestor 2.0 F',\n",
    "'SegmentTree 4.0 F',\n",
    "'EulerTourTechnique 3.0 F',\n",
    "'StronglyConnectedComponent 2.0 F',\n",
    "'BipartiteMatching 2.0 F',\n",
    "'MaximumFlowProblem 3.0 F',\n",
    "'SuffixArray 1.0 F',\n",
    "'HeavyLightDecomposition 4.0 F',\n",
    "'CentroidDecomposition 3.0 F',\n",
    "'SplayTree 1.0 F'\n",
    "]"
   ]
  },
  {
   "cell_type": "code",
   "execution_count": 160,
   "metadata": {},
   "outputs": [
    {
     "name": "stdout",
     "output_type": "stream",
     "text": [
      "3.2844827586206895\n"
     ]
    }
   ],
   "source": [
    "total = 0 # 학점\n",
    "grade = 0 # 과목 평점(등급)\n",
    "res = 0 # (학점 x 과목평점)/total\n",
    "grade_cnt = len(score)\n",
    "for i in score:\n",
    "    _, s, g = i.split()\n",
    "    if g != 'P':\n",
    "        total += float(s)\n",
    "        if g == 'A+':\n",
    "            grade = 4.5\n",
    "        elif g == 'A0':\n",
    "            grade = 4\n",
    "        elif g == 'B+':\n",
    "            grade = 3.5\n",
    "        elif g == 'B0':\n",
    "            grade = 3\n",
    "        elif g == 'C+':\n",
    "            grade = 2.5\n",
    "        elif g == 'C0':\n",
    "            grade = 2\n",
    "        elif g == 'D+':\n",
    "            grade = 1.5\n",
    "        elif g == 'D0':\n",
    "            grade = 1\n",
    "        res += float(s)*grade\n",
    "print(res/total)\n",
    "# print(3.284483) # 정답"
   ]
  },
  {
   "cell_type": "code",
   "execution_count": null,
   "metadata": {},
   "outputs": [],
   "source": [
    "# 3. 재귀호출을 이용하여 풀어보세요.\n",
    "# 문제\n",
    "# 피보나치 수는 0과 1로 시작한다. 0번째 피보나치 수는 0이고, 1번째 피보나치 수는 1이다. \n",
    "# 그 다음 2번째 부터는 바로 앞 두 피보나치 수의 합이 된다.\n",
    "\n",
    "# 이를 식으로 써보면 Fn = Fn-1 + Fn-2 (n ≥ 2)가 된다.\n",
    "\n",
    "# n=17일때 까지 피보나치 수를 써보면 다음과 같다.\n",
    "\n",
    "# 0, 1, 1, 2, 3, 5, 8, 13, 21, 34, 55, 89, 144, 233, 377, 610, 987, 1597\n",
    "\n",
    "# n이 주어졌을 때, n번째 피보나치 수를 구하는 프로그램을 작성하시오.\n",
    "\n",
    "# 입력\n",
    "# 첫째 줄에 n이 주어진다. n은 20보다 작거나 같은 자연수 또는 0이다.\n",
    "\n",
    "# 출력\n",
    "# 첫째 줄에 n번째 피보나치 수를 출력한다.\n",
    "\n",
    "# 예제 입력 1 \n",
    "# 10\n",
    "# 예제 출력 1 \n",
    "# 55"
   ]
  },
  {
   "cell_type": "code",
   "execution_count": 44,
   "metadata": {},
   "outputs": [
    {
     "data": {
      "text/plain": [
       "1597"
      ]
     },
     "execution_count": 44,
     "metadata": {},
     "output_type": "execute_result"
    }
   ],
   "source": [
    "n = 17\n",
    "def fib(n):\n",
    "    if n < 2:\n",
    "        if n == 1:\n",
    "            return 1\n",
    "        elif n == 0:\n",
    "            return 0\n",
    "    n -= 1\n",
    "    return fib(n-1) + fib(n)\n",
    "fib(n)"
   ]
  },
  {
   "cell_type": "code",
   "execution_count": 39,
   "metadata": {},
   "outputs": [
    {
     "name": "stdout",
     "output_type": "stream",
     "text": [
      "1597\n"
     ]
    }
   ],
   "source": [
    "n = 17\n",
    "x, y = 0, 1\n",
    "new_y = 0\n",
    "for i in range(2, n+1):\n",
    "    new_y = x+y\n",
    "    x, y = y, new_y\n",
    "print(new_y)"
   ]
  }
 ],
 "metadata": {
  "kernelspec": {
   "display_name": "Python 3",
   "language": "python",
   "name": "python3"
  },
  "language_info": {
   "codemirror_mode": {
    "name": "ipython",
    "version": 3
   },
   "file_extension": ".py",
   "mimetype": "text/x-python",
   "name": "python",
   "nbconvert_exporter": "python",
   "pygments_lexer": "ipython3",
   "version": "3.10.9"
  }
 },
 "nbformat": 4,
 "nbformat_minor": 2
}
