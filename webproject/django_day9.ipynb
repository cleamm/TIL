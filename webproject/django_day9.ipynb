{
 "cells": [
  {
   "cell_type": "code",
   "execution_count": null,
   "metadata": {},
   "outputs": [],
   "source": [
    "Intermediate 제일 아래(이전에 풀었던 회문 문제와 같은 것들)\n",
    "advance\n",
    "pro => 300명중 한명이 합격할 정도...(결과는 나오는데 시간 내에 결과가 안나와서 실격함)\n",
    "expert"
   ]
  },
  {
   "cell_type": "code",
   "execution_count": null,
   "metadata": {},
   "outputs": [],
   "source": [
    "ㅋㅋㅋ강사님도 6중 for문의 문제를 제출한 적이 있다고 하심ㅋㅋㅋ\n",
    "5월 13일 정도에 프로젝트 (웹까지 이용해서) 진행할 것 같음\n",
    "3명~4명정도로 팀원을 구성하여 프로젝트 진행할 것 같음"
   ]
  },
  {
   "cell_type": "code",
   "execution_count": null,
   "metadata": {},
   "outputs": [],
   "source": [
    "# 문제\n",
    "# 1. 다음과 같은 행렬에서 3*3 영역으로 나누어 요소들을 모두 곱했을때\n",
    "# 최대값이 얼마인가? (영역 이동은 우측으로 1칸, 아래쪽으로 1줄씩 이동)\n",
    "# 3 1 2 -3 1\n",
    "# -2 0 3 5 7\n",
    "# 2 7 8 1 3\n",
    "# 0 2 -1 9 3\n",
    "# 7 1 8 -6 4\n",
    "\n",
    "data = ['3 1 2 -3 1',\n",
    "        '-2 0 3 5 7',\n",
    "        '2 7 8 1 3',\n",
    "        '0 2 -1 9 3',\n",
    "        '7 1 8 -6 4']\n",
    "data = [list(map(int, data[i].split())) for i in range(len(data))]\n",
    "data\n",
    "block_size = 3 # 계산할 사이즈\n",
    "sub_num = len(data)-block_size # 반복해야되는 값\n",
    "res_list = []\n",
    "for i in range(len(data)-sub_num): # 행 이동\n",
    "    res = [1,1,1]\n",
    "    for j in range(len(data[i])-sub_num):\n",
    "        res[0] = res[0] * data[j][i]\n",
    "        for k in range(block_size):\n",
    "            print(res[k])\n",
    "        # print(data[j][i:i+3],  data[j][i:i+3],  data[j][i:i+3]) # 여기서 쓰이는 3은 block_size로 변경해도 됨\n",
    "        # print(data[j+1][i:i+3],data[j+1][i:i+3],data[j+1][i:i+3])\n",
    "        # print(data[j+2][i:i+3],data[j+2][i:i+3],data[j+2][i:i+3])\n",
    "        # print()\n",
    "    res_list.append(res)\n",
    "print(res_list)"
   ]
  },
  {
   "cell_type": "code",
   "execution_count": 73,
   "metadata": {},
   "outputs": [
    {
     "name": "stdout",
     "output_type": "stream",
     "text": [
      "[0, 0, -15120, 0, 0, -68040, 0, 48384, 124416]\n",
      "124416\n"
     ]
    }
   ],
   "source": [
    "# 문제\n",
    "# 1. 다음과 같은 행렬에서 3*3 영역으로 나누어 요소들을 모두 곱했을때\n",
    "# 최대값이 얼마인가? (영역 이동은 우측으로 1칸, 아래쪽으로 1줄씩 이동)\n",
    "# 3 1 2 -3 1\n",
    "# -2 0 3 5 7\n",
    "# 2 7 8 1 3\n",
    "# 0 2 -1 9 3\n",
    "# 7 1 8 -6 4\n",
    "\n",
    "data = ['3 1 2 -3 1',\n",
    "        '-2 0 3 5 7',\n",
    "        '2 7 8 1 3',\n",
    "        '0 2 -1 9 3',\n",
    "        '7 1 8 -6 4']\n",
    "data = [list(map(int, data[i].split())) for i in range(len(data))]\n",
    "block_size = 3 # 계산할 사이즈\n",
    "# len(data[0])-block_size + 1  => 반복해야 하는 횟수\n",
    "lst = []\n",
    "for col in range(len(data[0])-block_size + 1): # 열로 이동\n",
    "    for row in range(len(data)-block_size + 1): # 행으로 이동\n",
    "        res = 1\n",
    "        for i in range(block_size): # 블럭 사이즈만큼(3x3)\n",
    "            for j in range(block_size): # 블럭 사이즈만큼(3x3)\n",
    "                if(data[i+col][j+row] == 0): # 안에 들어있는 값이 0일 경우 중단\n",
    "                    res = 0\n",
    "                    break\n",
    "                res *=  data[i+col][j+row]                \n",
    "            if(res == 0): # 값이 0이면 탈출\n",
    "                break\n",
    "        lst.append(res)\n",
    "print(lst)\n",
    "print(max(lst))"
   ]
  },
  {
   "cell_type": "code",
   "execution_count": 74,
   "metadata": {},
   "outputs": [
    {
     "data": {
      "text/plain": [
       "124416"
      ]
     },
     "execution_count": 74,
     "metadata": {},
     "output_type": "execute_result"
    }
   ],
   "source": [
    "8 *1 *3*-1* 9* 3*8 *-6 *4"
   ]
  }
 ],
 "metadata": {
  "kernelspec": {
   "display_name": "Python 3",
   "language": "python",
   "name": "python3"
  },
  "language_info": {
   "codemirror_mode": {
    "name": "ipython",
    "version": 3
   },
   "file_extension": ".py",
   "mimetype": "text/x-python",
   "name": "python",
   "nbconvert_exporter": "python",
   "pygments_lexer": "ipython3",
   "version": "3.10.9"
  }
 },
 "nbformat": 4,
 "nbformat_minor": 2
}
