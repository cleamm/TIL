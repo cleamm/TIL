{
 "cells": [
  {
   "cell_type": "code",
   "execution_count": null,
   "metadata": {},
   "outputs": [],
   "source": [
    "# 1.\n",
    "# 문제 설명\n",
    "# 문자열 my_string이 매개변수로 주어집니다. \n",
    "# my_string에서 중복된 문자를 제거하고 하나의 문자만 남긴 문자열을 return하도록 solution 함수를 완성해주세요.\n",
    "\n",
    "# 제한사항\n",
    "# 1 ≤ my_string ≤ 110\n",
    "# my_string은 대문자, 소문자, 공백으로 구성되어 있습니다.\n",
    "# 대문자와 소문자를 구분합니다.\n",
    "# 공백(\" \")도 하나의 문자로 구분합니다.\n",
    "# 중복된 문자 중 가장 앞에 있는 문자를 남깁니다.\n",
    "# 입출력 예\n",
    "# my_string\tresult\n",
    "# \"people\"\t\"peol\"\n",
    "# \"We are the world\"\t\"We arthwold\"\n",
    "# 입출력 예 설명\n",
    "# 입출력 예 #1\n",
    "\n",
    "# \"people\"에서 중복된 문자 \"p\"와 \"e\"을 제거한 \"peol\"을 return합니다.\n",
    "# 입출력 예 #2\n",
    "\n",
    "# \"We are the world\"에서 중복된 문자 \"e\", \" \", \"r\" 들을 제거한 \"We arthwold\"을 return합니다."
   ]
  },
  {
   "cell_type": "code",
   "execution_count": 32,
   "metadata": {},
   "outputs": [
    {
     "data": {
      "text/plain": [
       "'We arthwold'"
      ]
     },
     "execution_count": 32,
     "metadata": {},
     "output_type": "execute_result"
    }
   ],
   "source": [
    "my_string = \"We are the world\"\n",
    "def solution(text):\n",
    "    res = []\n",
    "    list_text = list(text)\n",
    "    for i in list_text:\n",
    "        if i not in res:\n",
    "            res.append(i)\n",
    "    res = ''.join(res)\n",
    "    return res\n",
    "solution(my_string)"
   ]
  },
  {
   "cell_type": "code",
   "execution_count": null,
   "metadata": {},
   "outputs": [],
   "source": [
    "# 2.\n",
    "# 문제 설명\n",
    "# 덧셈, 뺄셈 수식들이 'X [연산자] Y = Z' 형태로 들어있는 문자열 배열 quiz가 매개변수로 주어집니다. \n",
    "# 수식이 옳다면 \"O\"를 틀리다면 \"X\"를 순서대로 담은 배열을 return하도록 solution 함수를 완성해주세요.\n",
    "\n",
    "# 제한사항\n",
    "# 연산 기호와 숫자 사이는 항상 하나의 공백이 존재합니다. 단 음수를 표시하는 마이너스 기호와 숫자 사이에는 공백이 존재하지 않습니다.\n",
    "# 1 ≤ quiz의 길이 ≤ 10\n",
    "# X, Y, Z는 각각 0부터 9까지 숫자로 이루어진 정수를 의미하며, 각 숫자의 맨 앞에 마이너스 기호가 하나 있을 수 있고 이는 음수를 의미합니다.\n",
    "# X, Y, Z는 0을 제외하고는 0으로 시작하지 않습니다.\n",
    "# -10,000 ≤ X, Y ≤ 10,000\n",
    "# -20,000 ≤ Z ≤ 20,000\n",
    "# [연산자]는 + 와 - 중 하나입니다.\n",
    "# 입출력 예\n",
    "# quiz\tresult\n",
    "# [\"3 - 4 = -3\", \"5 + 6 = 11\"]\t[\"X\", \"O\"]\n",
    "# [\"19 - 6 = 13\", \"5 + 66 = 71\", \"5 - 15 = 63\", \"3 - 1 = 2\"]\t[\"O\", \"O\", \"X\", \"O\"]\n",
    "# 입출력 예 설명\n",
    "# 입출력 예 #1\n",
    "# 3 - 4 = -3 은 틀린 수식이므로 \"X\", 5 + 6 = 11 은 옳은 수식이므로 \"O\" 입니다. 따라서 [\"X\", \"O\"]를 return합니다.\n",
    "# 입출력 예 #2\n",
    "\n",
    "# 19 - 6 = 13 은 옳은 수식이므로 \"O\", 5 + 66 = 71 은 옳은 수식이므로 \"O\", 5 - 15 = 63 은 틀린 수식이므로 \"X\", 3 - 1 = 2는 옳은 수식이므로 \"O\" 따라서 [\"O\", \"O\", \"X\", \"O\"]를 return합니다."
   ]
  },
  {
   "cell_type": "code",
   "execution_count": 31,
   "metadata": {},
   "outputs": [
    {
     "data": {
      "text/plain": [
       "['O', 'O']"
      ]
     },
     "execution_count": 31,
     "metadata": {},
     "output_type": "execute_result"
    }
   ],
   "source": [
    "# quiz =  [\"3 - 4 = -3\", \"5 + 6 = 11\"] # ['X', 'O']\n",
    "quiz = [\"19 - 6 = 13\", \"5 + 66 = 71\", \"5 - 15 = 63\", \"3 - 1 = 2\"] # [\"O\", \"O\", \"X\", \"O\"]\n",
    "\n",
    "quiz = input().split()\n",
    "\n",
    "def solution(cal):\n",
    "    res = []\n",
    "    for i in cal:\n",
    "        q, a = i.split('=')\n",
    "        if(eval(q) == int(a)):\n",
    "            res.append('O')\n",
    "        else:\n",
    "            res.append('X')\n",
    "    return res\n",
    "\n",
    "solution(quiz)"
   ]
  },
  {
   "cell_type": "code",
   "execution_count": null,
   "metadata": {},
   "outputs": [],
   "source": [
    "# 3.\n",
    "# 문자열 \"hello\"에서 각 문자를 오른쪽으로 한 칸씩 밀고 마지막 문자는 맨 앞으로 이동시키면 \"ohell\"이 됩니다. \n",
    "# 이것을 문자열을 민다고 정의한다면 문자열 A와 B가 매개변수로 주어질 때, \n",
    "# A를 밀어서 B가 될 수 있다면 밀어야 하는 최소 횟수를 return하고 \n",
    "# 밀어서 B가 될 수 없으면 -1을 return 하도록 solution 함수를 완성해보세요.\n",
    "\n",
    "# 제한사항\n",
    "# 0 < A의 길이 = B의 길이 < 100\n",
    "# A, B는 알파벳 소문자로 이루어져 있습니다.\n",
    "# 입출력 예\n",
    "# A\tB\tresult\n",
    "# \"hello\"\t\"ohell\"\t1\n",
    "# \"apple\"\t\"elppa\"\t-1\n",
    "# \"atat\"\t\"tata\"\t1\n",
    "# \"abc\"\t\"abc\"\t0\n",
    "# 입출력 예 설명\n",
    "# 입출력 예 #1\n",
    "\n",
    "# \"hello\"를 오른쪽으로 한 칸 밀면 \"ohell\"가 됩니다.\n",
    "# 입출력 예 #2\n",
    "\n",
    "# \"apple\"은 몇 번을 밀어도 \"elppa\"가 될 수 없습니다.\n",
    "# 입출력 예 #3\n",
    "\n",
    "# \"atat\"는 오른쪽으로 한 칸, 세 칸을 밀면 \"tata\"가 되므로 최소 횟수인 1을 반환합니다.\n",
    "# 입출력 예 #4\n",
    "\n",
    "# \"abc\"는 밀지 않아도 \"abc\"이므로 0을 반환합니다.\n"
   ]
  },
  {
   "cell_type": "code",
   "execution_count": 57,
   "metadata": {},
   "outputs": [
    {
     "data": {
      "text/plain": [
       "0"
      ]
     },
     "execution_count": 57,
     "metadata": {},
     "output_type": "execute_result"
    }
   ],
   "source": [
    "a,b = \"hello\", 'ohell' # 1\n",
    "a,b = 'apple', 'elppa' # -1\n",
    "a,b = 'atat', 'tata' # 1\n",
    "a,b = 'abc', 'abc' # 0\n",
    "\n",
    "def solution(text1, text2):\n",
    "    res = 1\n",
    "    if a == b:\n",
    "        res = 0\n",
    "    else:\n",
    "        for i in range(1, len(text1)):\n",
    "            new_word = text1[-i:]+text1[:-i]\n",
    "            if(new_word == text2):\n",
    "                break\n",
    "            else:\n",
    "                res += 1\n",
    "    if(res == len(text2)):\n",
    "        res = -1\n",
    "    return res\n",
    "\n",
    "solution(a, b)"
   ]
  }
 ],
 "metadata": {
  "kernelspec": {
   "display_name": "Python 3",
   "language": "python",
   "name": "python3"
  },
  "language_info": {
   "codemirror_mode": {
    "name": "ipython",
    "version": 3
   },
   "file_extension": ".py",
   "mimetype": "text/x-python",
   "name": "python",
   "nbconvert_exporter": "python",
   "pygments_lexer": "ipython3",
   "version": "3.10.9"
  }
 },
 "nbformat": 4,
 "nbformat_minor": 2
}
