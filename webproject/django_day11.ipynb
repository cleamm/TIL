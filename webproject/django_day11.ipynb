{
 "cells": [
  {
   "cell_type": "code",
   "execution_count": 13,
   "metadata": {},
   "outputs": [
    {
     "name": "stdout",
     "output_type": "stream",
     "text": [
      "1\n",
      "2\n",
      "3\n",
      "4\n",
      "5\n",
      "6\n",
      "7\n",
      "8\n",
      "9\n",
      "10\n",
      "\n"
     ]
    }
   ],
   "source": [
    "# 1. 1부터 10까지의 숫자를 각 라인 단위로 파일에 출력하는 프로그램을 작성하세요.\n",
    "# 생성되는 파일의 이름은 number.txt 이다.\n",
    "with open('number.txt', 'w', encoding='utf-8') as f:\n",
    "    for i in range(1,11):\n",
    "        f.write(str(i)+'\\n')\n",
    "f = open('number.txt', 'r', encoding='utf-8')\n",
    "print(f.read())"
   ]
  },
  {
   "cell_type": "code",
   "execution_count": 16,
   "metadata": {},
   "outputs": [
    {
     "data": {
      "text/plain": [
       "['Seo', 'Dae', 'Kwa', 'Jej']"
      ]
     },
     "execution_count": 16,
     "metadata": {},
     "output_type": "execute_result"
    }
   ],
   "source": [
    "# 2. 함수의 인자로 문자열을 포함하는 리스트가 입력될 때 \n",
    "# 각 문자열의 첫 세 글자로만 구성된 리스트를 반환하는 함수를 작성하세요. \n",
    "# 예를 들어, 함수의 입력으로 ['Seoul', 'Daegu', 'Kwangju', 'Jeju']가 입력될 때 \n",
    "# 함수의 반환값은 ['Seo', 'Dae', 'Kwa', 'Jej']입니다.\n",
    "lst = ['Seoul', 'Daegu', 'Kwangju', 'Jeju']\n",
    "def threeString(text_list):\n",
    "    res = []\n",
    "    for i in text_list:\n",
    "        res.append(i[:3])\n",
    "    return res\n",
    "threeString(lst)"
   ]
  },
  {
   "cell_type": "code",
   "execution_count": null,
   "metadata": {},
   "outputs": [],
   "source": [
    "# 3. \n",
    "# 수 l과 r이 주어졌을 때, \n",
    "# l 이상 r이하의 정수 중에서 숫자 \"0\"과 \"5\"로만 이루어진 모든 정수를 오름차순으로 저장한 배열을 return 하는 \n",
    "# solution 함수를 완성해 주세요.\n",
    "\n",
    "# 만약 그러한 정수가 없다면, -1이 담긴 배열을 return 합니다.\n",
    "\n",
    "# 제한사항\n",
    "# 1 ≤ l ≤ r ≤ 1,000,000\n",
    "# 입출력 예\n",
    "# l\tr\tresult\n",
    "# 5\t555\t[5, 50, 55, 500, 505, 550, 555]\n",
    "# 10\t20\t[-1]\n",
    "# 입출력 예 설명\n",
    "# 입출력 예 #1\n",
    "\n",
    "# 5 이상 555 이하의 0과 5로만 이루어진 정수는 작은 수부터 5, 50, 55, 500, 505, 550, 555가 있습니다. \n",
    "# 따라서 [5, 50, 55, 500, 505, 550, 555]를 return 합니다.\n",
    "# 입출력 예 #2\n",
    "\n",
    "# 10 이상 20 이하이면서 0과 5로만 이루어진 정수는 없습니다. 따라서 [-1]을 return 합니다.\n"
   ]
  },
  {
   "cell_type": "code",
   "execution_count": 74,
   "metadata": {},
   "outputs": [
    {
     "data": {
      "text/plain": [
       "<re.Match object; span=(0, 1), match='1'>"
      ]
     },
     "execution_count": 74,
     "metadata": {},
     "output_type": "execute_result"
    }
   ],
   "source": [
    "import re"
   ]
  },
  {
   "cell_type": "code",
   "execution_count": 77,
   "metadata": {},
   "outputs": [
    {
     "data": {
      "text/plain": [
       "[5, 50, 55, 500, 505, 550]"
      ]
     },
     "execution_count": 77,
     "metadata": {},
     "output_type": "execute_result"
    }
   ],
   "source": [
    "l = 5\n",
    "r = 555\n",
    "\n",
    "# def solution(start_num, end_num):\n",
    "#     res = []\n",
    "#     for i in range(start_num, end_num):\n",
    "#         if all(['1' not in str(i), \n",
    "#            '2' not in str(i),\n",
    "#            '3' not in str(i), \n",
    "#            '4' not in str(i),\n",
    "#            '6' not in str(i),\n",
    "#            '7' not in str(i),\n",
    "#            '8' not in str(i),\n",
    "#            '9' not in str(i)]):\n",
    "#             res.append(i)\n",
    "#     return res\n",
    "\n",
    "def solution(start_num, end_num):\n",
    "    res = []\n",
    "    import re\n",
    "    for i in range(start_num, end_num):\n",
    "        if not re.search('[1-46-9]', str(i)):\n",
    "            res.append(i)\n",
    "    return res\n",
    "solution(l, r)"
   ]
  },
  {
   "cell_type": "code",
   "execution_count": null,
   "metadata": {},
   "outputs": [],
   "source": [
    "# 4.\n",
    "# 문제 설명\n",
    "# 영어에선 a, e, i, o, u 다섯 가지 알파벳을 모음으로 분류합니다. \n",
    "# 문자열 my_string이 매개변수로 주어질 때 모음을 제거한 문자열을 return하도록 solution 함수를 완성해주세요.\n",
    "\n",
    "# 제한사항\n",
    "# my_string은 소문자와 공백으로 이루어져 있습니다.\n",
    "# 1 ≤ my_string의 길이 ≤ 1,000\n",
    "# 입출력 예\n",
    "# my_string\tresult\n",
    "# \"bus\"\t\"bs\"\n",
    "# \"nice to meet you\"\t\"nc t mt y\"\n",
    "# 입출력 예 설명\n",
    "# 입출력 예 #1\n",
    "\n",
    "# \"bus\"에서 모음 u를 제거한 \"bs\"를 return합니다.\n",
    "# 입출력 예 #1\n",
    "\n",
    "# \"nice to meet you\"에서 모음 i, o, e, u를 모두 제거한 \"nc t mt y\"를 return합니다.\n"
   ]
  },
  {
   "cell_type": "code",
   "execution_count": 30,
   "metadata": {},
   "outputs": [
    {
     "data": {
      "text/plain": [
       "'nc t mt y'"
      ]
     },
     "execution_count": 30,
     "metadata": {},
     "output_type": "execute_result"
    }
   ],
   "source": [
    "# my_string = 'bus'\n",
    "my_string = 'nice to meet you'\n",
    "def solution(text):\n",
    "    import re\n",
    "    res = re.sub('[aeiou]','',text)\n",
    "    return res\n",
    "\n",
    "solution(my_string)"
   ]
  },
  {
   "cell_type": "code",
   "execution_count": null,
   "metadata": {},
   "outputs": [],
   "source": [
    "# 5.\n",
    "# 문제 설명\n",
    "# 덧셈, 뺄셈 수식들이 'X [연산자] Y = Z' 형태로 들어있는 문자열 배열 quiz가 매개변수로 주어집니다. \n",
    "# 수식이 옳다면 \"O\"를 틀리다면 \"X\"를 순서대로 담은 배열을 return하도록 solution 함수를 완성해주세요.\n",
    "\n",
    "# 제한사항\n",
    "# 연산 기호와 숫자 사이는 항상 하나의 공백이 존재합니다. \n",
    "# 단 음수를 표시하는 마이너스 기호와 숫자 사이에는 공백이 존재하지 않습니다.\n",
    "# 1 ≤ quiz의 길이 ≤ 10\n",
    "# X, Y, Z는 각각 0부터 9까지 숫자로 이루어진 정수를 의미하며, \n",
    "# 각 숫자의 맨 앞에 마이너스 기호가 하나 있을 수 있고 이는 음수를 의미합니다.\n",
    "# X, Y, Z는 0을 제외하고는 0으로 시작하지 않습니다.\n",
    "# -10,000 ≤ X, Y ≤ 10,000\n",
    "# -20,000 ≤ Z ≤ 20,000\n",
    "# [연산자]는 + 와 - 중 하나입니다.\n",
    "# 입출력 예\n",
    "# quiz\tresult\n",
    "# [\"3 - 4 = -3\", \"5 + 6 = 11\"]\t[\"X\", \"O\"]\n",
    "# [\"19 - 6 = 13\", \"5 + 66 = 71\", \"5 - 15 = 63\", \"3 - 1 = 2\"]\t[\"O\", \"O\", \"X\", \"O\"]\n",
    "# 입출력 예 설명\n",
    "# 입출력 예 #1\n",
    "\n",
    "# 3 - 4 = -3 은 틀린 수식이므로 \"X\", 5 + 6 = 11 은 옳은 수식이므로 \"O\" 입니다. 따라서 [\"X\", \"O\"]를 return합니다.\n",
    "# 입출력 예 #2\n",
    "\n",
    "# 19 - 6 = 13 은 옳은 수식이므로 \"O\", 5 + 66 = 71 은 옳은 수식이므로 \"O\", 5 - 15 = 63 은 틀린 수식이므로 \"X\", 3 - 1 = 2는 옳은 수식이므로 \"O\" 따라서 [\"O\", \"O\", \"X\", \"O\"]를 return합니다.\n",
    "\n"
   ]
  },
  {
   "cell_type": "code",
   "execution_count": 53,
   "metadata": {},
   "outputs": [
    {
     "data": {
      "text/plain": [
       "['X', 'O']"
      ]
     },
     "execution_count": 53,
     "metadata": {},
     "output_type": "execute_result"
    }
   ],
   "source": [
    "quiz = '[\"3 - 4 = -3\", \"5 + 6 = 11\"]'\n",
    "\n",
    "def solution(quiz):\n",
    "    cals = quiz[1:-1].replace('\"', '')\n",
    "    lst = cals.split(',')\n",
    "    res = []\n",
    "    for i in lst:\n",
    "        cal, ans = i.split('=')\n",
    "        res.append('O' if eval(cal) == int(ans.strip()) else 'X')\n",
    "    return res\n",
    "\n",
    "solution(quiz)"
   ]
  }
 ],
 "metadata": {
  "kernelspec": {
   "display_name": "Python 3",
   "language": "python",
   "name": "python3"
  },
  "language_info": {
   "codemirror_mode": {
    "name": "ipython",
    "version": 3
   },
   "file_extension": ".py",
   "mimetype": "text/x-python",
   "name": "python",
   "nbconvert_exporter": "python",
   "pygments_lexer": "ipython3",
   "version": "3.10.9"
  }
 },
 "nbformat": 4,
 "nbformat_minor": 2
}
