{
 "cells": [
  {
   "cell_type": "markdown",
   "metadata": {},
   "source": [
    "DBMS, DB(둘은 거의 동일한 표현임)\n",
    "파일시스템 -> 데이터베이스\n",
    "데이터 레이크(lake) : 정형/비정형 다양한 형태의 데이터 저장소 집합\n",
    "데이터 웨어하우스(warehouse): 데이터 창고\n",
    "데이터 마트: 데이터 웨어하우스의 부분(특정 목적/작업/부서에서 사용되는 부분) 규모로는 데이터 웨어하우스보다 작음\n",
    "\n",
    "정형데이터 : 데이터베이스에 저장되는 데이터들\n",
    "비정형데이터 : 이미지, 동영상, 센서, 음성 등등... 불규칙적인 데이터\n",
    "\n",
    "데이터베이스 종류 : 관계형, 계층형, 그래프형 등\n",
    "관계형 데이터베이스 : 일반적인 데이터베이스\n",
    "SQLite : IoT, 데이터 분석, 임베디드, 적은 규모 웹사이트 사용\n",
    "오라클, PostgreSQL, 마리아DB...\n",
    "계층형 : 데이터를 트리구조로(계층) 표현.\n",
    "그래프형 : 데이터를 그래프로 표현\n",
    "NoSQL: 몽고DB, 카산드라...\n",
    "\n",
    "테이블 = 관계 = 릴레이션 = relation\n",
    "레코드 = 행 = row = tuple(튜플)\n",
    "필드(field) = 열 = 컬럼(column) = 속성(attribute)\n",
    "아래 테이블에서는 열이 4개, 행이 3개 있음\n",
    "<html>\n",
    "    <body>\n",
    "        <table>\n",
    "            <tr>\n",
    "                <td>1</td>\n",
    "                <td>2</td>\n",
    "                <td>3</td>\n",
    "                <td>4</td>\n",
    "            </tr>\n",
    "            <tr>\n",
    "                <td>5</td>\n",
    "                <td>6</td>\n",
    "                <td>7</td>\n",
    "                <td>8</td>\n",
    "            </tr>\n",
    "            <tr>\n",
    "                <td>9</td>\n",
    "                <td>10</td>\n",
    "                <td>11</td>\n",
    "                <td>12</td>\n",
    "            </tr>\n",
    "        </table>\n",
    "    </body>\n",
    "<html>"
   ]
  },
  {
   "cell_type": "markdown",
   "metadata": {},
   "source": [
    "SQL을 사용하여 DB접근(검색, 추가, 수정, 삭제)\n",
    "SQL은 RDBMS 구조의 데이터를 다루기 위해 사용하는 언어\n",
    "DDL, DML, DCL 이렇게 3가지 언어로 구성됨\n",
    "\n",
    "SQLite는 DBMS임(관리 도구?인듯)"
   ]
  },
  {
   "cell_type": "markdown",
   "metadata": {},
   "source": [
    "NN = Not Null\n",
    "PK = Primary Key\n",
    "AI = Auto Increment(자동 증가) = ID같은 고유값은 계속 늘어나므로 주로 여기에 적용됨"
   ]
  },
  {
   "cell_type": "markdown",
   "metadata": {},
   "source": []
  },
  {
   "cell_type": "markdown",
   "metadata": {},
   "source": [
    "1. 데이터 정의어(Data Definition Language?)\n",
    "   - create\n",
    "   - rename\n",
    "   - drop\n",
    "   - alter\n",
    "   - truncate\n",
    "2. 데이터 조작어(Data Modify Language)\n",
    "   - select\n",
    "   - insert\n",
    "   - update\n",
    "   - delete\n",
    "3. 데이터 제어어(Data Control Language)\n",
    "4. 트랜잭션 제어어(Transaction Control Language)\n",
    "   - DCL\n",
    "     - grant\n",
    "     - revoke\n",
    "   - TCL\n",
    "     - commit\n",
    "     - rollback"
   ]
  }
 ],
 "metadata": {
  "kernelspec": {
   "display_name": "Python 3",
   "language": "python",
   "name": "python3"
  },
  "language_info": {
   "codemirror_mode": {
    "name": "ipython",
    "version": 3
   },
   "file_extension": ".py",
   "mimetype": "text/x-python",
   "name": "python",
   "nbconvert_exporter": "python",
   "pygments_lexer": "ipython3",
   "version": "3.10.9"
  }
 },
 "nbformat": 4,
 "nbformat_minor": 2
}
