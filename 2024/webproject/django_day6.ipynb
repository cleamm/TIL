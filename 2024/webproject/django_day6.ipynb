{
 "cells": [
  {
   "cell_type": "code",
   "execution_count": 3,
   "metadata": {},
   "outputs": [
    {
     "data": {
      "text/plain": [
       "123124"
      ]
     },
     "execution_count": 3,
     "metadata": {},
     "output_type": "execute_result"
    }
   ],
   "source": [
    "# 1. 절대값을 리턴해주는 abs 함수를 구현하세요\n",
    "def myAbs(digit):\n",
    "    if(digit < 0):\n",
    "        return -1*digit\n",
    "    return digit\n",
    "myAbs(-123124)"
   ]
  },
  {
   "cell_type": "code",
   "execution_count": 20,
   "metadata": {},
   "outputs": [
    {
     "data": {
      "text/plain": [
       "21"
      ]
     },
     "execution_count": 20,
     "metadata": {},
     "output_type": "execute_result"
    }
   ],
   "source": [
    "# 2.\n",
    "# 효진이는 멀리 뛰기를 연습하고 있습니다. 효진이는 한번에 1칸, 또는 2칸을 뛸 수 있습니다. \n",
    "# 칸이 총 4개 있을 때, 효진이는\n",
    "# (1칸, 1칸, 1칸, 1칸)\n",
    "# (1칸, 2칸, 1칸)\n",
    "# (1칸, 1칸, 2칸)\n",
    "# (2칸, 1칸, 1칸)\n",
    "# (2칸, 2칸)\n",
    "# 의 5가지 방법으로 맨 끝 칸에 도달할 수 있습니다. \n",
    "# 멀리뛰기에 사용될 칸의 수 n이 주어질 때, 효진이가 끝에 도달하는 방법이 몇 가지인지 알아내, \n",
    "# 여기에 1234567를 나눈 나머지를 리턴하는 함수, solution을 완성하세요. \n",
    "# 예를 들어 4가 입력된다면, 5를 return하면 됩니다.\n",
    "\n",
    "# 제한 사항\n",
    "# n은 1 이상, 2000 이하인 정수입니다.\n",
    "# 입출력 예\n",
    "# n\tresult\n",
    "# 4\t5\n",
    "# 3\t3\n",
    "# 입출력 예 설명\n",
    "# 입출력 예 #1\n",
    "# 위에서 설명한 내용과 같습니다.\n",
    "\n",
    "# 입출력 예 #2\n",
    "# (2칸, 1칸)\n",
    "# (1칸, 2칸)\n",
    "# (1칸, 1칸, 1칸)\n",
    "# 총 3가지 방법으로 멀리 뛸 수 있습니다.\n",
    "\n",
    "n = 7\n",
    "def solution(num):\n",
    "    res = 0\n",
    "    if(num > 2):\n",
    "        lst = [1, 2]\n",
    "        for i in range(3, num+1):\n",
    "            res = lst[0]+lst[1]\n",
    "            lst = [lst[1], res]\n",
    "        return res\n",
    "    elif(num == 2):\n",
    "        return 2\n",
    "    else:\n",
    "        return 1\n",
    "solution(n)"
   ]
  },
  {
   "cell_type": "code",
   "execution_count": null,
   "metadata": {},
   "outputs": [],
   "source": [
    "# 3.\n",
    "# 한국중학교에 다니는 학생들은 각자 정수 번호를 갖고 있습니다. \n",
    "# 이 학교 학생 3명의 정수 번호를 더했을 때 0이 되면 3명의 학생은 삼총사라고 합니다. \n",
    "# 예를 들어, 5명의 학생이 있고, \n",
    "# 각각의 정수 번호가 순서대로 -2, 3, 0, 2, -5일 때, \n",
    "# 첫 번째, 세 번째, 네 번째 학생의 정수 번호를 더하면 0이므로 세 학생은 삼총사입니다. \n",
    "# 또한, 두 번째, 네 번째, 다섯 번째 학생의 정수 번호를 더해도 0이므로 세 학생도 삼총사입니다. \n",
    "# 따라서 이 경우 한국중학교에서는 두 가지 방법으로 삼총사를 만들 수 있습니다.\n",
    "\n",
    "# 한국중학교 학생들의 번호를 나타내는 정수 배열 number가 매개변수로 주어질 때, \n",
    "# 학생들 중 삼총사를 만들 수 있는 방법의 수를 return 하도록 solution 함수를 완성하세요.\n",
    "\n",
    "# 제한사항\n",
    "# 3 ≤ number의 길이 ≤ 13\n",
    "# -1,000 ≤ number의 각 원소 ≤ 1,000\n",
    "# 서로 다른 학생의 정수 번호가 같을 수 있습니다.\n",
    "# 입출력 예\n",
    "# number\tresult\n",
    "# [-2, 3, 0, 2, -5]\t2\n",
    "# [-3, -2, -1, 0, 1, 2, 3]\t5\n",
    "# [-1, 1, -1, 1]\t0\n",
    "# 입출력 예 설명\n",
    "# 입출력 예 #1\n",
    "\n",
    "# 문제 예시와 같습니다.\n",
    "# 입출력 예 #2\n",
    "\n",
    "# 학생들의 정수 번호 쌍 (-3, 0, 3), (-2, 0, 2), (-1, 0, 1), (-2, -1, 3), (-3, 1, 2) 이 삼총사가 될 수 있으므로, 5를 return 합니다.\n",
    "# 입출력 예 #3\n",
    "\n",
    "# 삼총사가 될 수 있는 방법이 없습니다."
   ]
  },
  {
   "cell_type": "code",
   "execution_count": 32,
   "metadata": {},
   "outputs": [
    {
     "data": {
      "text/plain": [
       "5"
      ]
     },
     "execution_count": 32,
     "metadata": {},
     "output_type": "execute_result"
    }
   ],
   "source": [
    "# nums = [-2, 3, 0, 2, -5] # 2\n",
    "num_lst = [-3, -2, -1, 0, 1, 2, 3]\t# 5\n",
    "# nums = [-1, 1, -1, 1] # 0\n",
    "\n",
    "def solution(nums):\n",
    "    res = 0\n",
    "    for i in range(len(nums)-2):\n",
    "        for j in range(i+1,len(nums)-1):\n",
    "            for k in range(j+1, len(nums)):\n",
    "                if(nums[i]+nums[j]+nums[k] == 0):\n",
    "                    res += 1\n",
    "    return res\n",
    "solution(num_lst)"
   ]
  }
 ],
 "metadata": {
  "kernelspec": {
   "display_name": "Python 3",
   "language": "python",
   "name": "python3"
  },
  "language_info": {
   "codemirror_mode": {
    "name": "ipython",
    "version": 3
   },
   "file_extension": ".py",
   "mimetype": "text/x-python",
   "name": "python",
   "nbconvert_exporter": "python",
   "pygments_lexer": "ipython3",
   "version": "3.10.9"
  }
 },
 "nbformat": 4,
 "nbformat_minor": 2
}
