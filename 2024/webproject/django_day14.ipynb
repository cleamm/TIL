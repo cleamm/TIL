{
 "cells": [
  {
   "cell_type": "code",
   "execution_count": null,
   "metadata": {},
   "outputs": [],
   "source": [
    "# 1.\n",
    "# 문제\n",
    "# 상근이는 세계적인 소프트웨어 회사 기글에서 일한다. 이 회사의 가장 큰 특징은 자유로운 출퇴근 시간이다. \n",
    "# 따라서, 직원들은 반드시 9시부터 6시까지 회사에 있지 않아도 된다.\n",
    "\n",
    "# 각 직원은 자기가 원할 때 출근할 수 있고, 아무때나 퇴근할 수 있다.\n",
    "\n",
    "# 상근이는 모든 사람의 출입카드 시스템의 로그를 가지고 있다. \n",
    "# 이 로그는 어떤 사람이 회사에 들어왔는지, 나갔는지가 기록되어져 있다. \n",
    "# 로그가 주어졌을 때, 현재 회사에 있는 모든 사람을 구하는 프로그램을 작성하시오.\n",
    "\n",
    "# 입력\n",
    "# 첫째 줄에 로그에 기록된 출입 기록의 수 n이 주어진다. \n",
    "# (2 ≤ n ≤ 106) 다음 n개의 줄에는 출입 기록이 순서대로 주어지며, \n",
    "# 각 사람의 이름이 주어지고 \"enter\"나 \"leave\"가 주어진다. \"enter\"인 경우는 출근, \"leave\"인 경우는 퇴근이다.\n",
    "\n",
    "# 회사에는 동명이인이 없으며, 대소문자가 다른 경우에는 다른 이름이다. \n",
    "# 사람들의 이름은 알파벳 대소문자로 구성된 5글자 이하의 문자열이다.\n",
    "\n",
    "# 출력\n",
    "# 현재 회사에 있는 사람의 이름을 사전 순의 역순으로 한 줄에 한 명씩 출력한다.\n",
    "\n",
    "# 예제 입력1\n",
    "# 4\n",
    "# Baha enter\n",
    "# Askar enter\n",
    "# Baha leave\n",
    "# Artem enter\n",
    "\n",
    "# 예제 출력 1 \n",
    "# Askar\n",
    "# Artem\n",
    "\n",
    "n = int(input())\n",
    "names = []\n",
    "n = 4\n",
    "for i in range(n):\n",
    "    name, io = input().split()\n",
    "    if name in names:\n",
    "        names.remove(name)\n",
    "    else:\n",
    "        names.append(name)\n",
    "names.sort(reverse=True)\n",
    "print(names)"
   ]
  },
  {
   "cell_type": "code",
   "execution_count": null,
   "metadata": {},
   "outputs": [],
   "source": [
    "# 2.\n",
    "# 문제\n",
    "# 도현이는 바구니를 총 N개 가지고 있고, 각각의 바구니에는 1번부터 N번까지 번호가 매겨져 있다. \n",
    "# 바구니에는 공이 1개씩 들어있고, 처음에는 바구니에 적혀있는 번호와 같은 번호가 적힌 공이 들어있다.\n",
    "\n",
    "# 도현이는 앞으로 M번 공을 바꾸려고 한다. \n",
    "# 도현이는 공을 바꿀 바구니 2개를 선택하고, 두 바구니에 들어있는 공을 서로 교환한다.\n",
    "\n",
    "# 공을 어떻게 바꿀지가 주어졌을 때, \n",
    "# M번 공을 바꾼 이후에 각 바구니에 어떤 공이 들어있는지 구하는 프로그램을 작성하시오.\n",
    "\n",
    "# 입력\n",
    "# 첫째 줄에 N (1 ≤ N ≤ 100)과 M (1 ≤ M ≤ 100)이 주어진다.\n",
    "\n",
    "# 둘째 줄부터 M개의 줄에 걸쳐서 공을 교환할 방법이 주어진다. \n",
    "# 각 방법은 두 정수 i j로 이루어져 있으며, i번 바구니와 j번 바구니에 들어있는 공을 교환한다는 뜻이다. \n",
    "# (1 ≤ i ≤ j ≤ N)\n",
    "\n",
    "# 도현이는 입력으로 주어진 순서대로 공을 교환한다.\n",
    "\n",
    "# 출력\n",
    "# 1번 바구니부터 N번 바구니에 들어있는 공의 번호를 공백으로 구분해 출력한다.\n",
    "\n",
    "# 예제 입력 1 \n",
    "# 5 4\n",
    "# 1 2\n",
    "# 3 4\n",
    "# 1 4\n",
    "# 2 2\n",
    "# 예제 출력 1 \n",
    "# 3 1 4 2 5\n",
    "\n",
    "N, M = map(int,input().split())\n",
    "lst = [i for i in range(1,N+1)]\n",
    "print(lst)\n",
    "for cnt in range(M):\n",
    "    i, j = map(int, input().split())\n",
    "    lst[i-1], lst[j-1] = lst[j-1], lst[i-1]\n",
    "print(*lst)"
   ]
  },
  {
   "cell_type": "code",
   "execution_count": null,
   "metadata": {},
   "outputs": [],
   "source": [
    "# 3. \n",
    "# 1 - 날씨 뉴스를 모두 뽑아서 온도에 해당되는 수치 자료를 모두 추출하여 온도 정보를 요약해보세요.\n",
    "# 2 - 교통사고 뉴스를 모두 뽑아서 어느 지역(시,도)에서 발생했는지 출력하시오."
   ]
  },
  {
   "cell_type": "code",
   "execution_count": 30,
   "metadata": {},
   "outputs": [],
   "source": [
    "from selenium import webdriver\n",
    "from bs4 import BeautifulSoup\n",
    "import re\n",
    "wd = webdriver.Chrome()\n",
    "wd.get('https://www.naver.com') # 네이버에서 정보수집"
   ]
  },
  {
   "cell_type": "code",
   "execution_count": 33,
   "metadata": {},
   "outputs": [],
   "source": [
    "input_research = wd.find_element('css selector', '#query')\n",
    "input_research.send_keys('전국날씨')\n",
    "input_research.submit()"
   ]
  },
  {
   "cell_type": "code",
   "execution_count": 145,
   "metadata": {},
   "outputs": [],
   "source": [
    "import time\n",
    "weather = []\n",
    "\n",
    "for i in range(1,30):\n",
    "    try:\n",
    "        num = '{:0>2}'.format(i)\n",
    "        wd.find_element('css selector', f'#main_pack > section.sc_new.cs_kb_weather._cs_kb_weather > div > div.content_wrap > div.weather_box._weather_box > div.weather_map > div.wt_map_area._panel_wrapper > div:nth-child(1) > div > a.lcl_a.local_{num}._marker').click()        \n",
    "        time.sleep(0.5)\n",
    "        html = wd.page_source\n",
    "        soup = BeautifulSoup(html, 'html.parser')\n",
    "        region = soup.select('#main_pack > section.sc_new.cs_kb_weather._cs_kb_weather > div > div.content_wrap > div.weather_box._weather_box > div.weather_info._weather_info_panel_wrapper > div > div.table_area > div.mflick._weather_info_inner')[0].text\n",
    "        region = re.findall('[가-힣 0-9.°]+', region)\n",
    "        for i in region:\n",
    "            if('오전' not in i) and ('오후' not in i) and ('지역' not in i):\n",
    "                weather.append(i)\n",
    "\n",
    "    except:\n",
    "        break"
   ]
  },
  {
   "cell_type": "code",
   "execution_count": 166,
   "metadata": {},
   "outputs": [
    {
     "name": "stdout",
     "output_type": "stream",
     "text": [
      "['구름많음', '흐림', '맑음'] 22\n",
      "전국적으로 맑음이며 전국적 평균 기온은 22\n"
     ]
    }
   ],
   "source": [
    "avg_temperatures = 0\n",
    "state_weather = []\n",
    "cnt = 0\n",
    "for i in range(0,len(weather), 7):\n",
    "    # print(weather[i:i+7])\n",
    "    state_weather.append(weather[i+1])\n",
    "    avg_temperatures += float(weather[i+2][:-1])\n",
    "    cnt += 1 # 지역 개수 카운트\n",
    "# print(state_weather, avg_temperatures, cnt)\n",
    "state_type = list(set(state_weather))\n",
    "avg_temperatures  = round(avg_temperatures/cnt)\n",
    "print(state_type, avg_temperatures)\n",
    "best_weather = '' # 제일 많은 날씨\n",
    "best_cnt = 0\n",
    "for i in range(len(state_type)):\n",
    "    if best_cnt < state_weather.count(state_type[i]):\n",
    "        best_cnt = state_weather.count(state_type[i])\n",
    "        best_weather = state_type[i]\n",
    "    # print(state_type[i],':',state_weather.count(state_type[i]))\n",
    "\n",
    "print(f'전국적으로 {best_weather}이며 전국적 평균 기온은 {avg_temperatures}')"
   ]
  },
  {
   "cell_type": "code",
   "execution_count": null,
   "metadata": {},
   "outputs": [],
   "source": []
  },
  {
   "cell_type": "code",
   "execution_count": null,
   "metadata": {},
   "outputs": [],
   "source": []
  },
  {
   "cell_type": "code",
   "execution_count": null,
   "metadata": {},
   "outputs": [],
   "source": []
  },
  {
   "cell_type": "code",
   "execution_count": null,
   "metadata": {},
   "outputs": [],
   "source": []
  },
  {
   "cell_type": "code",
   "execution_count": 19,
   "metadata": {},
   "outputs": [],
   "source": [
    "input_research = wd.find_element('css selector', '#query')\n",
    "input_research.send_keys('2023 전국 교통사고 현황')\n",
    "input_research.submit()"
   ]
  },
  {
   "cell_type": "code",
   "execution_count": 20,
   "metadata": {},
   "outputs": [],
   "source": [
    "# wd.find_element('css selector', '#main_pack > section.sc_new.sp_ntotal._sp_ntotal._prs_web_gen._fe_root_web_gend > div > ul > li:nth-child(2) > div.total_wrap > div.total_group > div.total_tit > a').click()\n",
    "# wd.find_element('css selector','')"
   ]
  },
  {
   "cell_type": "code",
   "execution_count": 29,
   "metadata": {},
   "outputs": [
    {
     "name": "stdout",
     "output_type": "stream",
     "text": [
      "['2023 전국 교통사고 현황 ', '2023 전국 교통사고 현황', '2023 전국 교통사고 현황', '2023 전국 교통사고 현황 ', '2023 전국 교통사고 현황', '2023 전국 교통사고 현황', '2023 전국 교통사고 현황', '2023 전국 교통사고 현황', '2023 전국 교통사고 현황 통합검색 결과', '2023 전국 교통사고 현황', '2023년', '2023년', '2023년']\n"
     ]
    }
   ],
   "source": [
    "html = wd.page_source\n",
    "word_lst = re.findall('2023[가-힣 ]+',html)\n",
    "\n",
    "print(word_lst)"
   ]
  },
  {
   "cell_type": "code",
   "execution_count": null,
   "metadata": {},
   "outputs": [],
   "source": [
    "\n",
    "soup = BeautifulSoup(html, 'html.parser')\n",
    "soup.select('.store')[0].get_text().strip()"
   ]
  }
 ],
 "metadata": {
  "kernelspec": {
   "display_name": "Python 3",
   "language": "python",
   "name": "python3"
  },
  "language_info": {
   "codemirror_mode": {
    "name": "ipython",
    "version": 3
   },
   "file_extension": ".py",
   "mimetype": "text/x-python",
   "name": "python",
   "nbconvert_exporter": "python",
   "pygments_lexer": "ipython3",
   "version": "3.10.9"
  }
 },
 "nbformat": 4,
 "nbformat_minor": 2
}
