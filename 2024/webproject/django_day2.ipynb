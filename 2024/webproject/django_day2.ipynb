{
 "cells": [
  {
   "cell_type": "code",
   "execution_count": 8,
   "metadata": {},
   "outputs": [],
   "source": [
    "# 1. 영어권 뉴스 사이트에 접속하여 기사를 스크랩한 다음, 공백 및 마침표 등으로 구분하여 리스트에 저장하세요.\n",
    "from bs4 import BeautifulSoup\n",
    "from selenium import webdriver\n",
    "url = 'https://edition.cnn.com/'"
   ]
  },
  {
   "cell_type": "code",
   "execution_count": 13,
   "metadata": {},
   "outputs": [],
   "source": [
    "wd = webdriver.Chrome()\n",
    "wd.get(url)"
   ]
  },
  {
   "cell_type": "code",
   "execution_count": 15,
   "metadata": {},
   "outputs": [],
   "source": [
    "# https://edition.cnn.com/2024/04/14/middleeast/israel-air-missile-defense-iran-attack-intl-hnk-ml/index.html\n",
    "# 위 주소에서 스크래핑 작업 시작됨\n",
    "wd.find_element('css selector','body > div.layout__content-wrapper.layout-homepage__content-wrapper > section.layout__wrapper.layout-homepage__wrapper > section > div > section > div > div > div > div.zone.zone--t-light.zone-2-observer > div > div.zone__items.layout--5-4-3 > div.stack_condensed > div > div.stack_condensed__items > div > div.container__title.container_lead-package__title.container__title--emphatic.hover.container__title--emphatic-size-l1 > a > h2').click()\n",
    "html = wd.page_source\n",
    "soup = BeautifulSoup(html, 'html.parser')"
   ]
  },
  {
   "cell_type": "code",
   "execution_count": 26,
   "metadata": {},
   "outputs": [
    {
     "name": "stdout",
     "output_type": "stream",
     "text": [
      "['How', 'Israel', 'and', 'allied', 'defenses', 'intercepted', 'more', 'than', '300', 'Iranian']\n"
     ]
    }
   ],
   "source": [
    "# print(soup.text)\n",
    "text_list = soup.text.split()\n",
    "cnt = 0\n",
    "for i in range(len(text_list)):\n",
    "    if('.' in text_list[i]):\n",
    "        text_list[i].replace('.', '')\n",
    "    elif(',' in text_list[i]):\n",
    "        text_list[i].replace(',', '')\n",
    "print(text_list[:10])"
   ]
  },
  {
   "cell_type": "code",
   "execution_count": 6,
   "metadata": {},
   "outputs": [
    {
     "name": "stdout",
     "output_type": "stream",
     "text": [
      "AbCdEfG\n"
     ]
    }
   ],
   "source": [
    "# 2. 영어 알파벳으로 이루어진 문자열 str이 주어집니다. 각 알파벳을 대문자는 소문자로 소문자는 대문자로 변환해서 출력하는 코드를 작성해 보세요.\n",
    "\n",
    "# 제한사항\n",
    "# 1 ≤ str의 길이 ≤ 20\n",
    "# str은 알파벳으로 이루어진 문자열입니다.\n",
    "\n",
    "# 입출력 예\n",
    "# 입력 #1\n",
    "# aBcDeFg\n",
    "# 출력 #1\n",
    "# AbCdEfG\n",
    "\n",
    "# input()\n",
    "import re\n",
    "\n",
    "text = 'aBcDeFg'\n",
    "res = ''\n",
    "for i in text:\n",
    "    if(re.match('[a-z]', i)):\n",
    "        res += i.upper()\n",
    "    elif(re.match('[A-Z]', i)):\n",
    "        res += i.lower()\n",
    "print(res)"
   ]
  },
  {
   "cell_type": "code",
   "execution_count": null,
   "metadata": {},
   "outputs": [],
   "source": [
    "# >>> from pybo.models import Question, Answer\n",
    "# >>> from django.utils import timezone\n",
    "# >>> q = Question(subject= '오늘 배운 것은 무엇인가요??', content='오늘 배운것이 무엇인지 알고 싶습니다.' create_date = timezone.now())\n",
    "#   File \"<console>\", line 1\n",
    "#     q = Question(subject= '오늘 배운 것은 무엇인가요??', content='오늘 배운것이 무엇인지 알고 싶습니다.' create_date = timezone.now())\n",
    "#                                                       ^^^^^^^^^^^^^^^^^^^^^^^^^^^^^^^^^^^\n",
    "# SyntaxError: invalid syntax. Perhaps you forgot a comma?\n",
    "# >>> q = Question(subject= '오늘 배운 것은 무엇인가요??', content='오늘 배운것이 무엇인지 알고 싶습니다.', create_date = timezone.now())\n",
    "# >>> q\n",
    "# <Question: 오늘 배운 것은 무엇인가요??>\n",
    "# >>> q.save())\n",
    "#   File \"<console>\", line 1\n",
    "#     q.save())\n",
    "#             ^\n",
    "# SyntaxError: unmatched ')'\n",
    "# >>> q.save()\n",
    "# >>> Question.objects.all()\n",
    "# <QuerySet [<Question: Django Model Question>, <Question: 오늘 배운 것은 무엇인가요??>]>\n",
    "# >>> Question.objects.get(id=3)\n",
    "# <Question: 오늘 배운 것은 무엇인가요??>\n",
    "# >>> q = Question.objects.get(id=3)\n",
    "# >>> from Question.utils import timezone\n",
    "# Traceback (most recent call last):\n",
    "#   File \"<console>\", line 1, in <module>\n",
    "# ModuleNotFoundError: No module named 'Question'\n",
    "# >>> Question\n",
    "# <class 'pybo.models.Question'>\n",
    "# >>> from Question.utils import timezone\n",
    "# Traceback (most recent call last):\n",
    "#   File \"<console>\", line 1, in <module>\n",
    "# ModuleNotFoundError: No module named 'Question'\n",
    "# >>> from django.utils import timezone\n",
    "# >>> a = Answer(question = q, content = '금일 배운 내용은 게시판에서 요긴하게 사용될 질문 및 답변 테이블이며 내용의 추가 및 수정, 삭제 기능이 탑재되어 기초적인 기능을 만들 수 있도록 배웠습니다 ^^.', create_date = timezone.now())\n",
    "# >>> a\n",
    "# <Answer: Answer object (None)>\n",
    "# >>> a.save\n",
    "# <bound method Model.save of <Answer: Answer object (None)>>\n",
    "# >>> a = Answer(question = q, content = '금일 배운 내용은 게시판에서 요긴하게 사용될 질문 및 답변 테이블이며 내용의 추가 및 수정, 삭제 기능이 탑재되어 기초적인 기능을 만들 수 있도록 배웠습니다 ^^.', create_date = timezone.now())\n",
    "# >>> a\n",
    "# <Answer: Answer object (None)>\n",
    "# >>> a.save()\n",
    "# >>> Answer.objects.all()\n",
    "# <QuerySet [<Answer: Answer object (1)>, <Answer: Answer object (2)>]>\n",
    "# >>> Answer.objects.get(id = 2)\n",
    "# <Answer: Answer object (2)>\n",
    "# >>> Answer.objects.get(id = 1)\n",
    "# <Answer: Answer object (1)>\n",
    "# >>> a.question\n",
    "# <Question: 오늘 배운 것은 무엇인가요??>"
   ]
  }
 ],
 "metadata": {
  "kernelspec": {
   "display_name": "Python 3",
   "language": "python",
   "name": "python3"
  },
  "language_info": {
   "codemirror_mode": {
    "name": "ipython",
    "version": 3
   },
   "file_extension": ".py",
   "mimetype": "text/x-python",
   "name": "python",
   "nbconvert_exporter": "python",
   "pygments_lexer": "ipython3",
   "version": "3.10.9"
  }
 },
 "nbformat": 4,
 "nbformat_minor": 2
}
