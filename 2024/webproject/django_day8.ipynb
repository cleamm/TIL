{
 "cells": [
  {
   "cell_type": "code",
   "execution_count": 10,
   "metadata": {},
   "outputs": [
    {
     "name": "stdout",
     "output_type": "stream",
     "text": [
      "[5, 7, 4, 3, 5, 6, 7, 7, 3, 3, 4]\n",
      "4\n"
     ]
    }
   ],
   "source": [
    "data = [5,8,3,1,5,6,9,9,2,2,4]\n",
    "dump = 5\n",
    "for i in range(dump):\n",
    "    high_data = max(data)\n",
    "    low_data = min(data)\n",
    "    data[data.index(low_data)] += 1\n",
    "    data[data.index(high_data)] -= 1\n",
    "print(data)\n",
    "print(max(data)-min(data))"
   ]
  },
  {
   "cell_type": "code",
   "execution_count": 14,
   "metadata": {},
   "outputs": [
    {
     "name": "stdout",
     "output_type": "stream",
     "text": [
      "9 1\n"
     ]
    },
    {
     "data": {
      "text/plain": [
       "2"
      ]
     },
     "execution_count": 14,
     "metadata": {},
     "output_type": "execute_result"
    }
   ],
   "source": [
    "# 오후에 별도 계산 해볼 문제\n",
    "# 위 문제를 더 간단하게 풀어보는 방법??\n",
    "data = [5,8,3,1,5,6,9,9,2,2,4]\n",
    "dump = 5\n",
    "high_data = max(data)\n",
    "low_data = min(data)\n",
    "print(high_data, low_data)\n",
    "high_cnt = 0\n",
    "low_cnt = 0\n",
    "data.count(high_data)"
   ]
  },
  {
   "cell_type": "code",
   "execution_count": 56,
   "metadata": {},
   "outputs": [
    {
     "name": "stdout",
     "output_type": "stream",
     "text": [
      "5\n"
     ]
    }
   ],
   "source": [
    "# 빌딩의 층수를 수치로 표현, 1000개가 입력됨\n",
    "# 예시 = [0,0,3,5,2,4,8,0,6,4,0,6,0,0]\n",
    "# 빌딩 높이는 0~255\n",
    "# 맨 왼쪽 두 칸과 오른쪽 두 칸에는 빌딩이 지어지지 않음\n",
    "# 강변에 있는 빌딩 밀집지역에서 왼쪽 또는 오른쪽 창문을 열었을 때,\n",
    "# 양쪽 모두 2 이상의 공간이 확보되는 세대의 수를 반환한다.\n",
    "# 예시와 같이 강변에 8채의 빌딩이 있을 때, \n",
    "# 연두색으로 색칠된 여섯세대에서는 좌우로 2칸 이상의 공백이 존재하므로 조망권이 확보됨.\n",
    "# 실제 시험에서 3시간짜리 문제였다고 함;;(실화냐)\n",
    "data = [0,0,3,5,2,4,8,0,6,4,0,6,0,0]\n",
    "res = 0\n",
    "for i in range(2,len(data)-2):\n",
    "    # high = 0\n",
    "    # if(max(data[i-2:i]) > max(data[i+1:i+3])):\n",
    "    #     high = max(data[i-2:i])\n",
    "    # else:\n",
    "    #     high = max(data[i+1:i+3])\n",
    "    # 아래 한줄 코드는 위의 5줄을 하나로 줄임\n",
    "    high = max(data[i-2:i]) if max(data[i-2:i]) > max(data[i+1:i+3]) else max(data[i+1:i+3])\n",
    "\n",
    "    if(data[i] > high):\n",
    "        res += (data[i]-high)\n",
    "print(res)"
   ]
  },
  {
   "cell_type": "code",
   "execution_count": 52,
   "metadata": {},
   "outputs": [
    {
     "name": "stdout",
     "output_type": "stream",
     "text": [
      "5\n"
     ]
    }
   ],
   "source": [
    "# 지승환 수강생 코드\n",
    "lst = [0,0,3,5,2,4,8,0,6,4,0,6,0,0]\n",
    "res = 0\n",
    "for i, v in enumerate(lst):\n",
    "    if v != 0:\n",
    "        if (v > lst[i-1]) and (v > lst[i-2]) and (v > lst[i+1]) and (v > lst[i+2]):\n",
    "            res += (v - max(lst[i-1], lst[i-2], lst[i+1], lst[i+2]))\n",
    "print(res)"
   ]
  },
  {
   "cell_type": "code",
   "execution_count": 77,
   "metadata": {},
   "outputs": [
    {
     "name": "stdout",
     "output_type": "stream",
     "text": [
      "[10, 25, 64, 22, 11]\n",
      "[10, 11, 64, 22, 25]\n",
      "[10, 11, 22, 64, 25]\n",
      "[10, 11, 22, 25, 64]\n"
     ]
    }
   ],
   "source": [
    "# 선택 정렬\n",
    "# 리스트 혹은 배열이 하나만 존재하며 하나의 리스트(배열) 안에서만 동작해야됨\n",
    "# lst = [64,25,10,22,11]\n",
    "# res = []\n",
    "# for i in range(len(lst)):\n",
    "#     res.append(min(lst))\n",
    "#     lst.remove(min(lst))\n",
    "# res\n",
    "# 위는 다른 개념임...\n",
    "\n",
    "lst = [64,25,10,22,11]\n",
    "\n",
    "for i in range(len(lst)-1):\n",
    "    min_num = i\n",
    "    for j in range(i+1, len(lst)):\n",
    "        if(lst[min_num] > lst[j]):\n",
    "            min_num = j\n",
    "    lst[i], lst[min_num] = lst[min_num], lst[i]\n",
    "    print(lst)\n"
   ]
  },
  {
   "cell_type": "code",
   "execution_count": 75,
   "metadata": {},
   "outputs": [
    {
     "name": "stdout",
     "output_type": "stream",
     "text": [
      "[10, 25, 64, 22, 11]\n",
      "[10, 11, 64, 22, 25]\n",
      "[10, 11, 22, 64, 25]\n",
      "[10, 11, 22, 25, 64]\n"
     ]
    }
   ],
   "source": [
    "# 강사님 답안\n",
    "lst = [64, 25, 10, 22, 11]\n",
    "\n",
    "for i in range(len(lst)-1): #기준위치, i=0 to 3\n",
    "    min_value=lst[i] #64\n",
    "    for j in range(i, len(lst)): #최소값 검색 범위\n",
    "        if min_value > lst[j]:\n",
    "            min_value=lst[j] #최소값\n",
    "            min_idx=j #최소값의 위치\n",
    "    if(lst[i]>min_value):\n",
    "        lst[i],lst[min_idx]=lst[min_idx],lst[i]\n",
    "\n",
    "    print(lst)"
   ]
  },
  {
   "cell_type": "code",
   "execution_count": 119,
   "metadata": {},
   "outputs": [
    {
     "name": "stdout",
     "output_type": "stream",
     "text": [
      "29\n"
     ]
    }
   ],
   "source": [
    "# 배열을 이용하여 푸는 문제\n",
    "\n",
    "f = open('sum_arr.txt', 'r', encoding='utf-8')\n",
    "array = f.read().split('\\n')[:-1]\n",
    "lst = []\n",
    "for i in array:\n",
    "    lst.append(list(map(int, i.split())))\n",
    "\n",
    "\n",
    "# res = 0\n",
    "# for i in range(len(lst)):\n",
    "#     sum_row = sum(lst[i])\n",
    "#     if(sum_row > res):\n",
    "#         res = sum_row\n",
    "# for i in range(len(lst)):\n",
    "#     total = 0\n",
    "#     for j in range(len(lst)):\n",
    "#         total += lst[j][i]\n",
    "#     if(total > res):\n",
    "#         res = total\n",
    "# total1 = 0\n",
    "# total2 = 0\n",
    "# for i in range(len(lst)):\n",
    "#     total1 += lst[i][i]\n",
    "#     total2 += lst[-i][i]\n",
    "# if(total1 > res):\n",
    "#     res = total1\n",
    "# if(total2 > res):\n",
    "#     res = total2\n",
    "print(res)\n",
    "res = 0\n",
    "total1 = 0\n",
    "total2 = 0\n",
    "for i in range(len(lst)):\n",
    "    sum_row = sum(lst[i]) # 행 계산\n",
    "    total = 0 # 열 계산\n",
    "    total1 += lst[i][i] # 대각1\n",
    "    total2 += lst[-i][i] # 대각2\n",
    "    for j in range(len(lst)):\n",
    "        total += lst[j][i]\n",
    "    if(sum_row > res):\n",
    "        res = sum_row\n",
    "    if(total > res):\n",
    "        res = total\n",
    "    \n",
    "if(total1 > res):\n",
    "    res = total1\n",
    "if(total2 > res):\n",
    "    res = total2\n",
    "print(res)\n"
   ]
  },
  {
   "cell_type": "code",
   "execution_count": 123,
   "metadata": {},
   "outputs": [
    {
     "name": "stdout",
     "output_type": "stream",
     "text": [
      "4\n"
     ]
    }
   ],
   "source": [
    "# 1. 문자열 찾기\n",
    "# 주어진 영어 문장에서 특정 문자열의 개수를 구하는 문제이다.\n",
    "# 아래의 예시에서 ti는 총 4번 나오게 되므로 4가 답이다.\n",
    "# 대소문자는 구분한다.\n",
    "# Start eating well with these eight tips for healthy eating, which cover the basics of a healthy diet and good nutrition.\n",
    "text = 'Start eating well with these eight tips for healthy eating, which cover the basics of a healthy diet and good nutrition.'\n",
    "import re\n",
    "pat = 'ti'\n",
    "print(len(re.findall(pat, text)))"
   ]
  },
  {
   "cell_type": "code",
   "execution_count": 12,
   "metadata": {},
   "outputs": [
    {
     "name": "stdout",
     "output_type": "stream",
     "text": [
      "['C', 'B', 'C', 'A', 'B', 'B', 'A']\n",
      "['B', 'B', 'A', 'B', 'C', 'A', 'B']\n",
      "['A', 'B', 'C', 'B', 'C', 'A', 'C']\n",
      "['B', 'A', 'C', 'C', 'A', 'A', 'B']\n",
      "['B', 'C', 'B', 'C', 'A', 'C', 'B']\n",
      "['C', 'A', 'B', 'A', 'C', 'C', 'C']\n",
      "['C', 'A', 'A', 'A', 'C', 'C', 'A']\n"
     ]
    },
    {
     "data": {
      "text/plain": [
       "1"
      ]
     },
     "execution_count": 12,
     "metadata": {},
     "output_type": "execute_result"
    }
   ],
   "source": [
    "# 2. 가장 긴 회문 길이 구하기\n",
    "# 회문: “기러기”또는 “level”과 같이 거꾸로 읽어도 제대로 읽은 것과 같은 문장이나 낱말을 회문(回文, palindrome)이라 한다. \n",
    "# 주어진 글자판에서 가로,세로를 모두 보아 가장 긴 직선 회문(Palindrome)을 찾아 그 길이를 리턴하는 함수를 구현하시오..\n",
    "# 답은 6으로 5번째 열 세로로 ccaacc \n",
    "f = open('palin.txt', 'r', encoding='utf-8')\n",
    "text = f.read().split('\\n')\n",
    "text_lst = [i.split() for i in text]\n",
    "for i in text_lst: # 데이터 출력\n",
    "    print(i)\n",
    "\n",
    "rows = [''.join(i) for i in text_lst]\n",
    "cols = [''.join([text_lst[j][i] for j in range(len(text))]) for i in range(len(text_lst))]\n",
    "all_data = rows + cols\n",
    "\n",
    "def longPalindrome(text_list):\n",
    "    res = 0 # 결과값\n",
    "    for j in range(len(text_list)):\n",
    "        best_len = 0\n",
    "        now_word = text_list[j][:-j] # 전체길이부터 검사하여 전체 길이가 회문이 아니면 점차 단어길이 감소 \n",
    "        if(j == 0): # 길이가 없어지므로 0은 전체길이로 취급\n",
    "            now_word = text_list[j]\n",
    "        half_word = len(now_word)//2 # 한개 데이터의 길이 절반\n",
    "        if(half_word % 2 != half_word // 2): # 소수점이라면\n",
    "            half_word = half_word // 2\n",
    "            best_len += 1 # 소수점을 없애는 대신 회문값을 1추가\n",
    "\n",
    "        for i in range(half_word): # 데이터의 절반만큼 비교 반복\n",
    "            if(now_word[i] == now_word[-i-1]):\n",
    "                best_len += 2\n",
    "            else:\n",
    "                best_len = 0\n",
    "                break\n",
    "        if(res < best_len):\n",
    "            res = best_len\n",
    "            break\n",
    "    return res\n",
    "longPalindrome(all_data)"
   ]
  },
  {
   "cell_type": "code",
   "execution_count": 4,
   "metadata": {},
   "outputs": [
    {
     "name": "stdout",
     "output_type": "stream",
     "text": [
      "['C', 'B', 'C', 'A', 'B', 'B', 'A']\n",
      "['B', 'B', 'A', 'B', 'C', 'A', 'B']\n",
      "['A', 'B', 'C', 'B', 'C', 'A', 'C']\n",
      "['B', 'A', 'C', 'C', 'A', 'A', 'B']\n",
      "['B', 'C', 'B', 'C', 'A', 'C', 'B']\n",
      "['C', 'A', 'B', 'A', 'C', 'C', 'C']\n",
      "['C', 'A', 'A', 'A', 'C', 'C', 'A']\n"
     ]
    }
   ],
   "source": [
    "f = open('palin.txt', 'r', encoding='utf-8')\n",
    "text = f.read().split('\\n')\n",
    "text_lst = [i.split() for i in text]\n",
    "for i in text_lst: # 데이터 출력\n",
    "    print(i)\n",
    "\n",
    "rows = [''.join(i) for i in text_lst]\n",
    "cols = [''.join([text_lst[j][i] for j in range(len(text))]) for i in range(len(text_lst))]\n",
    "all_data = rows + cols"
   ]
  },
  {
   "cell_type": "code",
   "execution_count": 30,
   "metadata": {},
   "outputs": [
    {
     "name": "stdout",
     "output_type": "stream",
     "text": [
      "6 CCAACC\n"
     ]
    }
   ],
   "source": [
    "# 지승환 수강생 코드2\n",
    "arr = []\n",
    "\n",
    "with open(\"palin.txt\", \"r\") as f:\n",
    "    line = f.read().split(\"\\n\")\n",
    "\n",
    "for i in line:\n",
    "    arr.append(i.split())\n",
    "\n",
    "palindrome = \"\" # 가장 긴 회문\n",
    "palindrome_length = 1 # 길이\n",
    "\n",
    "# 가로 회문 조회\n",
    "for row in range(len(arr)):\n",
    "    for col in range(len(arr[0])):\n",
    "        strs = \"\"\n",
    "        for i in range(col, len(arr[0])): # 현재 열 부터 끝 열까지 알파벳을 더함\n",
    "            strs += arr[row][i]\n",
    "            len_strs = len(strs)\n",
    "            if len_strs > palindrome_length:\n",
    "                middle = len_strs // 2\n",
    "                if strs[:middle] == strs[-1:middle:-1] or strs[:middle] == strs[-1:middle-1:-1]: # 짝수길이 회문조건 or 홀수길이 회문조건\n",
    "                    palindrome = strs\n",
    "                    palindrome_length = len_strs\n",
    "\n",
    "# 세로 회문 조회\n",
    "for col in range(len(arr[0])):\n",
    "    for row in range(len(arr)):\n",
    "        strs = \"\"\n",
    "        for i in range(row, len(arr)): # 현재 행 부터 끝 행까지 알파벳을 더함\n",
    "            strs += arr[i][col]\n",
    "            len_strs = len(strs)\n",
    "            if len_strs > palindrome_length:\n",
    "                middle = len_strs // 2\n",
    "                if strs[:middle] == strs[-1:middle:-1] or strs[:middle] == strs[-1:middle-1:-1]: # 짝수길이 회문조건 or 홀수길이 회문조건\n",
    "                    palindrome = strs\n",
    "                    palindrome_length = len_strs\n",
    "\n",
    "print(palindrome_length, palindrome)"
   ]
  },
  {
   "cell_type": "code",
   "execution_count": 31,
   "metadata": {},
   "outputs": [
    {
     "name": "stdout",
     "output_type": "stream",
     "text": [
      "9  A C C A \n"
     ]
    }
   ],
   "source": [
    "# 지승환 수강생 코드1\n",
    "arr = []\n",
    "with open(\"palin.txt\", \"r\") as f:\n",
    "    line = f.read().split(\"\\n\")\n",
    "\n",
    "for i in line:\n",
    "    arr.append(i)\n",
    "palindrome = \"\" # 가장 긴 회문\n",
    "palindrome_length = 1 # 길이\n",
    "\n",
    "# 가로 회문 조회\n",
    "for row in range(len(arr)):\n",
    "    for col in range(len(arr[0])):\n",
    "        strs = \"\"\n",
    "        for i in range(col, len(arr[0])): # 현재 열 부터 끝 열까지 알파벳을 더함\n",
    "            strs += arr[row][i]\n",
    "            len_strs = len(strs)\n",
    "            if len_strs != 1:\n",
    "                middle = len_strs // 2\n",
    "                if strs[:middle] == strs[-1:middle:-1] or strs[:middle] == strs[-1:middle-1:-1]: # 회문이면\n",
    "                    if len_strs > palindrome_length:\n",
    "                        palindrome = strs\n",
    "                        palindrome_length = len_strs\n",
    "\n",
    "# 세로 회문 조회\n",
    "for col in range(len(arr[0])):\n",
    "    for row in range(len(arr)):\n",
    "        strs = \"\"\n",
    "        for i in range(row, len(arr)): # 현재 행 부터 끝 행까지 알파벳을 더함\n",
    "            strs += arr[i][col]\n",
    "            len_strs = len(strs)\n",
    "            if len_strs != 1:\n",
    "                middle = len_strs // 2\n",
    "                if strs[:middle] == strs[-1:middle:-1] or strs[:middle] == strs[-1:middle-1:-1]: # 회문이면\n",
    "                    if len_strs > palindrome_length:\n",
    "                        palindrome = strs\n",
    "                        palindrome_length = len_strs\n",
    "\n",
    "print(palindrome_length, palindrome)"
   ]
  },
  {
   "cell_type": "code",
   "execution_count": null,
   "metadata": {},
   "outputs": [],
   "source": [
    "# 002\n",
    "'''\n",
    "가장 긴 회문 길이 구하기\n",
    "회문: “기러기”또는 “level”과 같이 거꾸로 읽어도 제대로 읽은 것과 \n",
    "같은 문장이나 낱말을 회문(回文, palindrome)이라 한다. \n",
    "주어진 글자판에서 가로,세로를 모두 보아 \n",
    "가장 긴 직선 회문(Palindrome)을 찾아 그 길이를 리턴하는 함수를 구현하시오.\n",
    "\n",
    "'''\n",
    "\n",
    "def longest_length(board):\n",
    "    rows = len(board) \n",
    "    cols = len(board[0])\n",
    "    max_length = 0\n",
    "\n",
    "    # 가로 방향 검사\n",
    "    for i in range(rows):\n",
    "        for j in range(cols): \n",
    "            for k in range(j + 1, cols + 1):# 현재 칸을 시작점으로 하여 가능한 모든 회문을 검사\n",
    "                if is_palindrome(board[i][j:k]): # 현재 칸부터 k까지의 문자열이 회문인지 확인\n",
    "                    max_length = max(max_length, k - j) # 회문인 경우 최대 길이 업데이트\n",
    "\n",
    "    # 세로 방향 검사\n",
    "    for j in range(cols):\n",
    "        for i in range(rows):\n",
    "            for k in range(i + 1, rows + 1):\n",
    "                if is_palindrome(''.join(board[m][j] for m in range(i,k))):\n",
    "                    max_length = max(max_length, k - i)\n",
    "\n",
    "    return max_length\n",
    "\n",
    "board = [\n",
    "    ['C', 'B', 'C', 'A', 'B', 'B', 'A'],\n",
    "    ['B', 'B', 'A', 'B', 'C', 'A', 'B'],\n",
    "    ['A', 'B', 'C', 'B', 'C', 'A', 'C'],\n",
    "    ['B', 'A', 'C', 'C', 'A', 'A', 'B'],\n",
    "    ['B', 'C', 'B', 'C', 'A', 'C', 'B'],\n",
    "    ['C', 'A', 'B', 'A', 'C', 'C', 'C'],\n",
    "    ['C', 'A', 'A', 'A', 'C', 'C', 'A']\n",
    "]\n",
    "\n",
    "print(\"가장 긴 회문의 길이 : \", longest_length(board), \"입니다.\")"
   ]
  },
  {
   "cell_type": "code",
   "execution_count": 38,
   "metadata": {},
   "outputs": [
    {
     "name": "stdout",
     "output_type": "stream",
     "text": [
      "['C', 'B', 'C', 'A', 'B', 'B', 'A']\n",
      "['B', 'B', 'A', 'B', 'C', 'A', 'B']\n",
      "['A', 'B', 'C', 'B', 'C', 'A', 'C']\n",
      "['B', 'A', 'C', 'C', 'A', 'A', 'B']\n",
      "['B', 'C', 'B', 'C', 'A', 'C', 'B']\n",
      "['C', 'A', 'B', 'A', 'C', 'C', 'C']\n",
      "['C', 'A', 'A', 'A', 'C', 'C', 'A']\n",
      "[4, 2, 3, 3, 3, 2, 2, 5, 3, 3, 3, 2, 2, 3, 4, 2, 3, 2, 2, 3, 2, 3, 2, 2, 2, 6, 2, 4, 3, 2, 2, 3, 2, 4, 3]\n",
      "6\n"
     ]
    }
   ],
   "source": [
    "# 최종코드(회문 잘 됨)\n",
    "# 2. 가장 긴 회문 길이 구하기\n",
    "# 회문: “기러기”또는 “level”과 같이 거꾸로 읽어도 제대로 읽은 것과 같은 문장이나 낱말을 회문(回文, palindrome)이라 한다. \n",
    "# 주어진 글자판에서 가로,세로를 모두 보아 가장 긴 직선 회문(Palindrome)을 찾아 그 길이를 리턴하는 함수를 구현하시오..\n",
    "# 답은 6으로 5번째 열 세로로 ccaacc \n",
    "f = open('palin.txt', 'r', encoding='utf-8')\n",
    "text = f.read().split('\\n')\n",
    "text_lst = [i.split() for i in text]\n",
    "for i in text_lst: # 데이터 출력\n",
    "    print(i)\n",
    "\n",
    "rows = [''.join(i) for i in text_lst]\n",
    "cols = [''.join([text_lst[j][i] for j in range(len(text))]) for i in range(len(text_lst))]\n",
    "all_data = rows + cols\n",
    "lst = [] # 길이가 2 이상이 나온 값들\n",
    "\n",
    "for word in all_data: # 전체 단어\n",
    "    for k in range(len(word)): # 단어 길이\n",
    "        if(k != 0):\n",
    "            word = word[:-k]\n",
    "        for j in range(len(word)-1): # 회문 길이\n",
    "            res = 0\n",
    "            t = word[j:]\n",
    "            if t == t[::-1]: # 뒤집었을 때 텍스트가 같은지 비교\n",
    "                res += len(t)\n",
    "            else:\n",
    "                res = 0\n",
    "            if(res > 1):\n",
    "                lst.append(res)\n",
    "print(lst)\n",
    "print(max(lst))\n",
    "\n",
    "# 1) abcba 회문?\n",
    "# 2) kabcbaji 문자열 속 회문 존재?\n",
    "# 3) 여러 줄 문자열 속 회문 존재? 가장 긴 길이 회문?\n",
    "# 4) 여러 칸 문자열 속 회문 존재? 가장 긴 길이 회문?\n",
    "# 5) 코드 최적화(튜닝, 효율적인 코드)"
   ]
  },
  {
   "cell_type": "code",
   "execution_count": 26,
   "metadata": {},
   "outputs": [
    {
     "name": "stdout",
     "output_type": "stream",
     "text": [
      "6\n"
     ]
    }
   ],
   "source": [
    "# 추희정 수강생 코드\n",
    "# 2. 가장 긴 회문 길이 구하기\n",
    "# 회문: “기러기”또는 “level”과 같이 거꾸로 읽어도 제대로 읽은 것과 같은 문장이나 낱말을 회문(回文, palindrome)이라 한다. \n",
    "# 주어진 글자판에서 가로,세로를 모두 보아 가장 긴 직선 회문(Palindrome)을 찾아 그 길이를 리턴하는 함수를 구현하시오..\n",
    "\n",
    "with open(\"palin.txt\", \"r\") as f:\n",
    "    lines = f.readlines()\n",
    "\n",
    "data=[]   # data만들기\n",
    "for line in lines:\n",
    "    alpa=line.strip().split()\n",
    "    data.append(alpa)\n",
    "\n",
    "def check_palindrome(word):   # 회문이면 true 반환\n",
    "    is_palindrome = True\n",
    "    for i in range(len(word) // 2):\n",
    "        if word[i] != word[-1 - i]:\n",
    "            is_palindrome = False\n",
    "            break\n",
    "    return is_palindrome\n",
    "\n",
    "word_garo=[''.join(row) for row in data] # 가로 문자열\n",
    "word_sero=[''.join([row[i] for row in data]) for i in range(len(data[0]))]  # 세로문자열\n",
    "words=word_garo+word_sero  # 나올수있는 모든 문자열\n",
    "\n",
    "# result = []      # 나올수 있는 모든 경우의 회문을 result에 저장\n",
    "# for word in words:\n",
    "#     for num in range(3,len(word)+1):\n",
    "#         for i in range(len(word)-num+1):\n",
    "#             w = word[i:i+num]\n",
    "#             if check_palindrome(w):\n",
    "#                 result.append((w))\n",
    "        \n",
    "\n",
    "# res_max=0\n",
    "# for res in result:\n",
    "#     print(result)\n",
    "#     if len(res)>res_max:\n",
    "#         res_max=len(res)\n",
    "\n",
    "# print(res_max)\n",
    "\n",
    "\n",
    "result=[]\n",
    "max_result = 0     # 나올수 있는 모든 경우의 회문을 result에 저장\n",
    "for word in words:\n",
    "    for num in range(3,len(word)+1):\n",
    "        for i in range(len(word)-num+1):\n",
    "            w = word[i:i+num]\n",
    "            if check_palindrome(w):\n",
    "                result.append((w))\n",
    "                if len(w)>max_result:  # 최대길이만 추적\n",
    "                    max_result=len(w)\n",
    "                break  # 길이가 num인 회문 찾으면 다음 길이의 회문을 찾으러 넘어감.\n",
    "\n",
    "print(max_result)"
   ]
  },
  {
   "cell_type": "code",
   "execution_count": null,
   "metadata": {},
   "outputs": [],
   "source": [
    "# 3.\n",
    "# html/css/javascript를 사용하여\n",
    "# 회원가입페이지를 만드시오.(자유폼)"
   ]
  }
 ],
 "metadata": {
  "kernelspec": {
   "display_name": "Python 3",
   "language": "python",
   "name": "python3"
  },
  "language_info": {
   "codemirror_mode": {
    "name": "ipython",
    "version": 3
   },
   "file_extension": ".py",
   "mimetype": "text/x-python",
   "name": "python",
   "nbconvert_exporter": "python",
   "pygments_lexer": "ipython3",
   "version": "3.10.9"
  }
 },
 "nbformat": 4,
 "nbformat_minor": 2
}
