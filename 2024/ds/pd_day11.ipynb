{
 "cells": [
  {
   "cell_type": "markdown",
   "metadata": {},
   "source": [
    "https://datascienceschool.net/02%20mathematics/07.01%20%ED%99%95%EB%A5%A0%EC%A0%81%20%EB%8D%B0%EC%9D%B4%ED%84%B0%EC%99%80%20%ED%99%95%EB%A5%A0%EB%B3%80%EC%88%98.html\n",
    "\n",
    "위 주소를 참고하여 공부하면 좋을 듯"
   ]
  },
  {
   "cell_type": "markdown",
   "metadata": {},
   "source": [
    "통계: 판단, 의사결정\n",
    "- 탐색적 데이터 분석(EDA) : 데이터 이해 과정\n",
    "- 확인적 데이터 분석(CDA) : 타당성을 조사하는 과정(회귀분석 등)\n",
    "EDA를 통해 데이터를 이해, 가설 생성\n",
    "CDA를 통해 가설 검증\n",
    "- 머신러닝 : 데이터의 통계적 패턴을 학습\n",
    "- 딥러닝 : 머신러닝의 부분 집합. 머신러닝의 신경망을 개선한 학습 기법\n",
    "- 데이터마이닝 : 대규모 데이터셋에서 숨겨진 패턴, 추세, 관계를 찾아내는 과정\n",
    "data mining(데이터 캐내기)\n",
    "\n",
    "빅데이터 : 3V(Volume규모, Velocity속도, Variety다양성)<br>\n",
    "데이터분석도구: 파이썬(으로 통계분석이 '가능'하다임), 판다스, 태블로, R, 엑셀, 비주얼 베이직,...\n",
    "\n",
    "CASE(사례): 데이터 수집 단위(상품가격, 고객 나이, 방문 시기)<br>\n",
    "케이스는 보통 테이블에서 하나의 행(데이터)으로 취급됨\n",
    "변수는 테이블에서 열이 됨\n",
    "\n",
    "데이터(자료) 종류: 연속형, 범주형\n",
    "- 연속형: 연속적인 값으로 나타낸 자료 (나이, 키, 무게, 가격, 점수, (물건)개수, ...)\n",
    "- 범주(category)형: 서로 다른 것으로 구분되는 자료(혈액형, 성별, 가족구성원) + 연산이 불가능\n",
    "\n",
    "척도(scale): 수집된 데이터의 수준\n",
    "질적척도\n",
    "- 명명(명목)척도: 혈액형(순서x, 연산x, 빈도수o)\n",
    "- 서열척도: 직급(사원,대리,과장,... 순서o, 연산x, 빈도수o 데이터간격이 일정하지 않음)\n",
    "ex) 어린이, 청소년, 청년, 장년, 노년..\n",
    "양적척도\n",
    "- 등간척도: 온도(순서o, 연산o, 영점의 기준의 임의적)\n",
    "ex) 섭씨 20도는 섭씨 5도의 4배(수치상으로), 4배 따뜻한가?(아님)\n",
    "- 비율척도: 등간척도 + 영점의 기준이 절대적(절대영점) => 명명, 서열, 등간 척도의 성격을 모두 갖춤\n",
    "ex) 길이 20미터는 길이 5미터의 4배(수치상), 실제로도 4배 긺\n",
    "\n",
    "척도에 따라 분석방법이 달라지므로 알아둘 필요가 있음\n"
   ]
  },
  {
   "cell_type": "markdown",
   "metadata": {},
   "source": [
    "https://communities.sas.com/t5/SAS-Tech-Tip/SAS-%ED%94%84%EB%A1%9C%EA%B7%B8%EB%9E%98%EB%B0%8D-2-%ED%91%9C%EB%B3%B8%EC%B6%94%EC%B6%9C%EB%B0%A9%EB%B2%95-%EA%B3%84%ED%86%B5-%EC%B6%94%EC%B6%9C-%EC%B8%B5%ED%99%94-%EC%B6%94%EC%B6%9C/ta-p/663069\n",
    "\n",
    "모집단: 분석 대상의 전체\n",
    "표본: 모집단의 부분 집합\n",
    "sampling: 표본추출\n",
    "sample: 표본\n",
    "\n",
    "표본추출 방법\n",
    "- 단순 무작위 추출: 동일한 확률로 랜덤 추출\n",
    "- 계통 추출 : 첫번째 데이터를 랜덤 추출 => x번쨰 데이터를 계속하여 추출 \n",
    "ex) 출구 조사: 5번째 투표자 추출\n",
    "- 층화(stratified random) 추출: 층 구분 + 층별 랜덤 추출\n",
    "ex) 여론 조사: 연령별 구분 + 각 연령별 데이터 랜덤 추출\n",
    "- 군집(cluster random) 추출 : 모집단 -> 군집으로 나눔 -> 군집 내에서 랜덤 추출\n",
    "ex) 동일한 도시 내에 있는 중학교를 랜덤하게 추출 -> 중학생들을 조사"
   ]
  },
  {
   "cell_type": "markdown",
   "metadata": {},
   "source": [
    "독립변수 : 원인\n",
    "종속변수 : 결과, 독립변수에 의해 값이 결정되는 변수\n",
    "\n",
    "도수분포표 : 데이터를 구간 나눔, 각 구간별 빈도수 표<br>\n",
    "히스토그램 : 도수분포표 -> 그래프"
   ]
  },
  {
   "cell_type": "code",
   "execution_count": 1,
   "metadata": {},
   "outputs": [],
   "source": [
    "import pandas as pd\n",
    "import numpy as np\n",
    "import matplotlib.pyplot as plt\n",
    "import seaborn as sns"
   ]
  },
  {
   "cell_type": "code",
   "execution_count": 2,
   "metadata": {},
   "outputs": [],
   "source": [
    "blood = ['A', 'A', 'A', 'B', 'B', 'AB', 'O']"
   ]
  },
  {
   "cell_type": "code",
   "execution_count": 5,
   "metadata": {},
   "outputs": [
    {
     "data": {
      "text/plain": [
       "(array(['A', 'AB', 'B', 'O'], dtype='<U2'), array([3, 1, 2, 1], dtype=int64))"
      ]
     },
     "execution_count": 5,
     "metadata": {},
     "output_type": "execute_result"
    }
   ],
   "source": [
    "np.unique(blood, return_counts=True) # 빈도수와 함께 출력함"
   ]
  },
  {
   "cell_type": "code",
   "execution_count": 6,
   "metadata": {},
   "outputs": [
    {
     "data": {
      "text/plain": [
       "A     3\n",
       "B     2\n",
       "AB    1\n",
       "O     1\n",
       "dtype: int64"
      ]
     },
     "execution_count": 6,
     "metadata": {},
     "output_type": "execute_result"
    }
   ],
   "source": [
    "pd.value_counts(blood)"
   ]
  },
  {
   "cell_type": "code",
   "execution_count": 19,
   "metadata": {},
   "outputs": [
    {
     "data": {
      "image/png": "[encoded data removed]",
      "text/plain": [
       "<Figure size 640x480 with 1 Axes>"
      ]
     },
     "metadata": {},
     "output_type": "display_data"
    }
   ],
   "source": [
    "# sns.countplot(blood) # 기존에 되던 코드임\n",
    "sns.countplot(x=blood)\n",
    "plt.show()"
   ]
  },
  {
   "cell_type": "code",
   "execution_count": 14,
   "metadata": {},
   "outputs": [
    {
     "name": "stdout",
     "output_type": "stream",
     "text": [
      "(array([4, 1, 2, 3], dtype=int64), array([1., 3., 5., 7., 9.]))\n"
     ]
    }
   ],
   "source": [
    "x = [1, 1, 1, 2, 3, 5, 5, 7, 8, 9]\n",
    "print(np.histogram(x, 4)) # 데이터를 4번 분리(총 5개의 데이터로 분리됨)\n",
    "hist, edge = np.histogram(x, 4)"
   ]
  },
  {
   "cell_type": "code",
   "execution_count": 16,
   "metadata": {},
   "outputs": [
    {
     "data": {
      "text/plain": [
       "array([4, 1, 2, 3], dtype=int64)"
      ]
     },
     "execution_count": 16,
     "metadata": {},
     "output_type": "execute_result"
    }
   ],
   "source": [
    "hist"
   ]
  },
  {
   "cell_type": "code",
   "execution_count": 17,
   "metadata": {},
   "outputs": [
    {
     "data": {
      "text/plain": [
       "array([1., 3., 5., 7., 9.])"
      ]
     },
     "execution_count": 17,
     "metadata": {},
     "output_type": "execute_result"
    }
   ],
   "source": [
    "edge"
   ]
  },
  {
   "cell_type": "code",
   "execution_count": 20,
   "metadata": {},
   "outputs": [
    {
     "data": {
      "text/plain": [
       "260.0"
      ]
     },
     "execution_count": 20,
     "metadata": {},
     "output_type": "execute_result"
    }
   ],
   "source": [
    "x = [100, 100, 200, 400, 500]\n",
    "np.mean(x)"
   ]
  },
  {
   "cell_type": "markdown",
   "metadata": {},
   "source": [
    "중심경향치 : 자료의 중심이 되는 숫자(평균, 중위수, 최빈수 등)\n",
    "- 무엇을 중심으로 모여있나(흩어져있나)?\n",
    "\n",
    "변산성측정치 : 자료가 흩어진 정도를 나타낸 값(분산, 표준편차, 범위, 사분위수 등)\n",
    "- 모여있는 정도(흩어진 정도)"
   ]
  },
  {
   "cell_type": "code",
   "execution_count": 21,
   "metadata": {},
   "outputs": [
    {
     "data": {
      "text/plain": [
       "460.0"
      ]
     },
     "execution_count": 21,
     "metadata": {},
     "output_type": "execute_result"
    }
   ],
   "source": [
    "y = [100, 100, 200, 400, 1500]\n",
    "np.mean(y)"
   ]
  },
  {
   "cell_type": "code",
   "execution_count": 22,
   "metadata": {},
   "outputs": [
    {
     "data": {
      "text/plain": [
       "200.0"
      ]
     },
     "execution_count": 22,
     "metadata": {},
     "output_type": "execute_result"
    }
   ],
   "source": [
    "np.median(x) # 중위수 구하기"
   ]
  },
  {
   "cell_type": "markdown",
   "metadata": {},
   "source": [
    "- 중위수를 구한다면 명명척도x, 서열/등간/비율o"
   ]
  },
  {
   "cell_type": "code",
   "execution_count": 23,
   "metadata": {},
   "outputs": [
    {
     "data": {
      "text/plain": [
       "[100, 100, 200, 400, 500]"
      ]
     },
     "execution_count": 23,
     "metadata": {},
     "output_type": "execute_result"
    }
   ],
   "source": [
    "x"
   ]
  },
  {
   "cell_type": "code",
   "execution_count": 26,
   "metadata": {},
   "outputs": [
    {
     "data": {
      "text/plain": [
       "ModeResult(mode=array([100]), count=array([2]))"
      ]
     },
     "execution_count": 26,
     "metadata": {},
     "output_type": "execute_result"
    }
   ],
   "source": [
    "from scipy.stats import mode\n",
    "mode(x, keepdims=True) # 최빈값 구하기 및 몇회의 빈도인지 추출"
   ]
  },
  {
   "cell_type": "markdown",
   "metadata": {},
   "source": [
    "범위(range) : 최대값과 최소값의 차이, 자료의 퍼짐 정도"
   ]
  },
  {
   "cell_type": "code",
   "execution_count": 29,
   "metadata": {},
   "outputs": [
    {
     "data": {
      "text/plain": [
       "6"
      ]
     },
     "execution_count": 29,
     "metadata": {},
     "output_type": "execute_result"
    }
   ],
   "source": [
    "x = [1, 1, 2, 3, 3, 3, 4, 5, 5, 7]\n",
    "np.min(x)\n",
    "np.max(x)\n",
    "np.max(x) - np.min(x)"
   ]
  },
  {
   "cell_type": "markdown",
   "metadata": {},
   "source": [
    "분산(variance) : 표준편차의 제곱\n",
    "S^2 = 1/N* [for i in range(1,N) (i - 평균)]\n",
    "코드로 그대로 풀면\n",
    "\n",
    "summation(기호로는 시그마를 사용. 반복하여 전부 더하라는 의미를 가짐) = 0\n",
    "\n",
    "N = list(123456789)\n",
    "\n",
    "for i in N:\n",
    "    summation += (i-np.mean(N))**2\n",
    "res = summation/len(N)\n",
    "\n",
    "res가 결과임.\n",
    "\n",
    "위의 내용은 전부 모분산임.\n",
    "\n",
    "res = summation/(len(N)-1)\n",
    "\n",
    "위와같이 작성되면 표본분산임.\n",
    "\n",
    "표본분산은 표본에 대한 분산임\n",
    "\n",
    "분산이 크다면?= 데이터가 평균에서 많이 벗어나 있다\n",
    "분산이 작다면?= 데이터가 평균 주변에 모여 있다\n",
    "\n",
    "np.sqrt(res) = 표준편차(분산의 제곱근)\n"
   ]
  },
  {
   "cell_type": "markdown",
   "metadata": {},
   "source": [
    "n개만큼의 모집단이 있고 그 중 하나를 추출하여 집단을 사용한다면 표본분산은 한개의 데이터는 값이 확정되므로 이미 알고 있다는 전제가 깔리므로 나누기를 할 때 자유도 때문에 1을 먼저 뺀다."
   ]
  },
  {
   "cell_type": "code",
   "execution_count": 31,
   "metadata": {},
   "outputs": [
    {
     "data": {
      "text/plain": [
       "3.2399999999999998"
      ]
     },
     "execution_count": 31,
     "metadata": {},
     "output_type": "execute_result"
    }
   ],
   "source": [
    "np.var(x)"
   ]
  },
  {
   "cell_type": "code",
   "execution_count": 32,
   "metadata": {},
   "outputs": [
    {
     "data": {
      "text/plain": [
       "3.4"
      ]
     },
     "execution_count": 32,
     "metadata": {},
     "output_type": "execute_result"
    }
   ],
   "source": [
    "np.mean(x)"
   ]
  },
  {
   "cell_type": "code",
   "execution_count": 34,
   "metadata": {},
   "outputs": [
    {
     "data": {
      "text/plain": [
       "3.2399999999999998"
      ]
     },
     "execution_count": 34,
     "metadata": {},
     "output_type": "execute_result"
    }
   ],
   "source": [
    "# 분산 코드 작성하기\n",
    "summation = 0\n",
    "for n in x:\n",
    "    summation+=(n-np.mean(x))**2\n",
    "summation/len(x)\n",
    "# sum((x-np.mean(x))**2)/len(x)\n",
    "# np.sum((x-np.mean(x))**2)/len(x)"
   ]
  },
  {
   "cell_type": "markdown",
   "metadata": {},
   "source": [
    "개인면담도 할 것임.\n",
    "취업, 커리큘럼 관련해서도..."
   ]
  },
  {
   "cell_type": "markdown",
   "metadata": {},
   "source": [
    "공분산: 두 변수가 함께 변화하는 정도\n",
    "공분산 > 0 : 두 변수가 같은 방향으로 변화\n",
    "공분산 <> 0 : 두 변수가 반대 방향으로 변화\n",
    "공분산 = 0 : 두 변수가 독립(무상관)\n",
    "\n",
    "공분산의 크기가 클때: 두 변수가 함께 많이 변화함\n",
    "공분산의 크기는 단위의 영향을 받음 -> 절대적 크기로 판단 x => -1 ~ +1 로 표준화 => 상관계수\n",
    "공분산은 선형적인 관계 측정\n",
    "\n",
    "상관계수 : 두 변수가 함께 변화하는 정도를 -1~1 사이로 나타낸 수\n",
    "상관계수 0= 공분산 / 각 변수의 표준편차 곱\n",
    "-1 <= 상관계수 <= 1\n",
    "\n",
    "피어슨 상관계수 : 일반적인 상관계수\n",
    "스피어만, 켄달, ...\n",
    "\n",
    "공부시간(독립변수), 성적(종속변수): 공부시간에 따라 성적이 결정됨\n",
    "공부시간 => 성적예상\n",
    "\n",
    "출석일수(독립변수), 성적(종속변수): 출석일수에 따라 성적이 결정됨\n",
    "출석일수 => 성적예상\n",
    "\n",
    "이와 같은 것이 양의 상관관계라고 할 수 있음\n",
    "\n",
    "결석일수(독립변수), 성적(종속변수): 결석일수에 따라 성적 결정\n",
    "결석일수 => 성적예상\n",
    "\n",
    "위는 음의 상관관계라고 할 수 있음\n",
    "\n",
    "셔츠색상(독립변수), 성적(종속변수): 셔츠 색상에 따라 성적이 결정, 무상관\n",
    "x1,x2, ..., xn 열매수확 길이\n",
    "\n",
    "x-ray사진을 통해 질병을 볼 때 질병(암)인지 아닌지 여부를 알고 싶을때\n",
    "xray의 이미지를 구성하는 픽셀값이 있을 것임. 그리고 흑백이므로 0~255까지의 숫자값을 가지게 됨\n",
    "그럼 이 픽셀중에서 어떤 픽셀이 암인지를 알고 싶은 것임.\n",
    "이럴 때 상관분석을 해볼 수 있음. 이에 대해선 전제가 있어야 하는데 xray의 해상도가 같으며 위치도 같아야함\n",
    "\n",
    "\n",
    "주가가 궁금한데 데이터는 유가, 뉴스, 환율, 날씨,.. 수천수만개의 변수가 있으면 어떤 변수가 주가와 가장 관련이 있나?\n",
    "이런 경우에도 상관분석을 하게 됨.\n",
    "만약 초록색 옷을 입고 있는데 주가가 오를지? 이런 내용에 대해서는 상관이 전혀 없을 것임.\n",
    "\n",
    "@통상적으로는 장바구니 분석이라고 했던 것으로 기억함@\n",
    "\n",
    "상관분석을 하기 전에 공분산을 먼저 진행해야 함\n"
   ]
  },
  {
   "cell_type": "code",
   "execution_count": 47,
   "metadata": {},
   "outputs": [],
   "source": [
    "x = [8, 3, 6, 6, 9, 4, 3, 9, 3, 4]  # 부모 키\n",
    "y = [6, 2, 4, 6, 10, 5, 1, 8, 4, 5] # 자식 키\n",
    "# 5를 기준으로 보면 양의 상관관계를 가지는 것처럼 보임"
   ]
  },
  {
   "cell_type": "code",
   "execution_count": 50,
   "metadata": {},
   "outputs": [
    {
     "data": {
      "text/plain": [
       "[<matplotlib.lines.Line2D at 0x273ca1cf8b0>]"
      ]
     },
     "execution_count": 50,
     "metadata": {},
     "output_type": "execute_result"
    },
    {
     "data": {
      "image/png": "[encoded data removed]",
      "text/plain": [
       "<Figure size 640x480 with 1 Axes>"
      ]
     },
     "metadata": {},
     "output_type": "display_data"
    }
   ],
   "source": [
    "plt.plot(x,y,'o') # 선형적인 모습을 보임"
   ]
  },
  {
   "cell_type": "code",
   "execution_count": 51,
   "metadata": {},
   "outputs": [
    {
     "data": {
      "text/plain": [
       "array([[6.05555556, 5.61111111],\n",
       "       [5.61111111, 6.98888889]])"
      ]
     },
     "execution_count": 51,
     "metadata": {},
     "output_type": "execute_result"
    }
   ],
   "source": [
    "np.cov(x,y) # 공분산구하기"
   ]
  },
  {
   "cell_type": "code",
   "execution_count": 54,
   "metadata": {},
   "outputs": [
    {
     "data": {
      "text/plain": [
       "5.61111111111111"
      ]
     },
     "execution_count": 54,
     "metadata": {},
     "output_type": "execute_result"
    }
   ],
   "source": [
    "np.cov(x,y)[0,1] # 이 데이터가 공분산 값임"
   ]
  },
  {
   "cell_type": "code",
   "execution_count": 55,
   "metadata": {},
   "outputs": [],
   "source": [
    "z = [-3, -2, -1, 0, 1, 2, 3]\n",
    "w = [9, 4, 1, 0, 1, 4, 9]"
   ]
  },
  {
   "cell_type": "code",
   "execution_count": 56,
   "metadata": {},
   "outputs": [
    {
     "data": {
      "text/plain": [
       "[<matplotlib.lines.Line2D at 0x273ca3b8790>]"
      ]
     },
     "execution_count": 56,
     "metadata": {},
     "output_type": "execute_result"
    },
    {
     "data": {
      "image/png": "[encoded data removed]",
      "text/plain": [
       "<Figure size 640x480 with 1 Axes>"
      ]
     },
     "metadata": {},
     "output_type": "display_data"
    }
   ],
   "source": [
    "plt.plot(z,w,'o')"
   ]
  },
  {
   "cell_type": "code",
   "execution_count": 58,
   "metadata": {},
   "outputs": [
    {
     "data": {
      "text/plain": [
       "0.0"
      ]
     },
     "execution_count": 58,
     "metadata": {},
     "output_type": "execute_result"
    }
   ],
   "source": [
    "np.cov(z,w)[0,1]"
   ]
  },
  {
   "cell_type": "code",
   "execution_count": 59,
   "metadata": {},
   "outputs": [
    {
     "data": {
      "text/plain": [
       "[8, 3, 6, 6, 9, 4, 3, 9, 3, 4]"
      ]
     },
     "execution_count": 59,
     "metadata": {},
     "output_type": "execute_result"
    }
   ],
   "source": [
    "x"
   ]
  },
  {
   "cell_type": "code",
   "execution_count": 60,
   "metadata": {},
   "outputs": [
    {
     "data": {
      "text/plain": [
       "[6, 2, 4, 6, 10, 5, 1, 8, 4, 5]"
      ]
     },
     "execution_count": 60,
     "metadata": {},
     "output_type": "execute_result"
    }
   ],
   "source": [
    "y"
   ]
  },
  {
   "cell_type": "code",
   "execution_count": 62,
   "metadata": {},
   "outputs": [
    {
     "data": {
      "text/plain": [
       "0.8625172792135779"
      ]
     },
     "execution_count": 62,
     "metadata": {},
     "output_type": "execute_result"
    }
   ],
   "source": [
    "np.corrcoef(x,y)[0,1] # 상관계수 구하는 함수\n",
    "# 양의 상관관계이므로 x와 y는 밀접한 관련이 있다고 볼 수 있음"
   ]
  },
  {
   "cell_type": "code",
   "execution_count": 66,
   "metadata": {},
   "outputs": [
    {
     "data": {
      "text/plain": [
       "0.8625172792135778"
      ]
     },
     "execution_count": 66,
     "metadata": {},
     "output_type": "execute_result"
    }
   ],
   "source": [
    "# 공분산/x표준편차 * y표준편차\n",
    "np.cov(x,y)[0,1] # 공분산\n",
    "xsd = np.std(x, ddof=1) # 표본표준편차\n",
    "ysd = np.std(y, ddof=1)\n",
    "np.cov(x,y)[0,1] / (xsd*ysd)"
   ]
  },
  {
   "cell_type": "markdown",
   "metadata": {},
   "source": [
    "https://archive.ics.uci.edu/datasets\n",
    "데이터 분석 가공 등 연습하기 좋은 데이터셋 사이트\n",
    "간혹 502에러나오는데 이건 잠시 있다가 들어가면 됨"
   ]
  },
  {
   "cell_type": "code",
   "execution_count": null,
   "metadata": {},
   "outputs": [],
   "source": [
    "# Breast Cancer Wisconsin (Diagnostic)\n",
    "# 유방암 환자의 실제 데이터\n",
    "# 데이터 사이언티스트가 거쳐가는 입문 데이터임\n",
    "# 보통 데이터의 컬럼명은 변수라고도 하지만 명확하게는 피쳐(feature)라고 불러야함"
   ]
  },
  {
   "cell_type": "code",
   "execution_count": 67,
   "metadata": {},
   "outputs": [
    {
     "name": "stdout",
     "output_type": "stream",
     "text": [
      "Collecting ucimlrepo\n",
      "  Downloading ucimlrepo-0.0.7-py3-none-any.whl (8.0 kB)\n",
      "Requirement already satisfied: certifi>=2020.12.5 in c:\\users\\fkfma\\appdata\\local\\programs\\python\\python310\\lib\\site-packages (from ucimlrepo) (2022.12.7)\n",
      "Requirement already satisfied: pandas>=1.0.0 in c:\\users\\fkfma\\appdata\\local\\programs\\python\\python310\\lib\\site-packages (from ucimlrepo) (1.5.3)\n",
      "Requirement already satisfied: pytz>=2020.1 in c:\\users\\fkfma\\appdata\\local\\programs\\python\\python310\\lib\\site-packages (from pandas>=1.0.0->ucimlrepo) (2022.7.1)\n",
      "Requirement already satisfied: python-dateutil>=2.8.1 in c:\\users\\fkfma\\appdata\\roaming\\python\\python310\\site-packages (from pandas>=1.0.0->ucimlrepo) (2.8.2)\n",
      "Requirement already satisfied: numpy>=1.21.0 in c:\\users\\fkfma\\appdata\\local\\programs\\python\\python310\\lib\\site-packages (from pandas>=1.0.0->ucimlrepo) (1.23.5)\n",
      "Requirement already satisfied: six>=1.5 in c:\\users\\fkfma\\appdata\\roaming\\python\\python310\\site-packages (from python-dateutil>=2.8.1->pandas>=1.0.0->ucimlrepo) (1.16.0)\n",
      "Installing collected packages: ucimlrepo\n",
      "Successfully installed ucimlrepo-0.0.7\n"
     ]
    },
    {
     "name": "stderr",
     "output_type": "stream",
     "text": [
      "WARNING: Ignoring invalid distribution -rotobuf (c:\\users\\fkfma\\appdata\\local\\programs\\python\\python310\\lib\\site-packages)\n",
      "WARNING: Ignoring invalid distribution -rotobuf (c:\\users\\fkfma\\appdata\\local\\programs\\python\\python310\\lib\\site-packages)\n",
      "WARNING: Ignoring invalid distribution -rotobuf (c:\\users\\fkfma\\appdata\\local\\programs\\python\\python310\\lib\\site-packages)\n",
      "WARNING: Ignoring invalid distribution -rotobuf (c:\\users\\fkfma\\appdata\\local\\programs\\python\\python310\\lib\\site-packages)\n",
      "WARNING: Ignoring invalid distribution -rotobuf (c:\\users\\fkfma\\appdata\\local\\programs\\python\\python310\\lib\\site-packages)\n",
      "WARNING: Ignoring invalid distribution -rotobuf (c:\\users\\fkfma\\appdata\\local\\programs\\python\\python310\\lib\\site-packages)\n",
      "WARNING: Ignoring invalid distribution -rotobuf (c:\\users\\fkfma\\appdata\\local\\programs\\python\\python310\\lib\\site-packages)\n",
      "\n",
      "[notice] A new release of pip is available: 23.0.1 -> 24.0\n",
      "[notice] To update, run: python.exe -m pip install --upgrade pip\n"
     ]
    }
   ],
   "source": [
    "!pip install ucimlrepo"
   ]
  },
  {
   "cell_type": "code",
   "execution_count": 72,
   "metadata": {},
   "outputs": [
    {
     "name": "stdout",
     "output_type": "stream",
     "text": [
      "(569, 30)\n"
     ]
    },
    {
     "data": {
      "text/html": [
       "<div>\n",
       "<style scoped>\n",
       "    .dataframe tbody tr th:only-of-type {\n",
       "        vertical-align: middle;\n",
       "    }\n",
       "\n",
       "    .dataframe tbody tr th {\n",
       "        vertical-align: top;\n",
       "    }\n",
       "\n",
       "    .dataframe thead th {\n",
       "        text-align: right;\n",
       "    }\n",
       "</style>\n",
       "<table border=\"1\" class=\"dataframe\">\n",
       "  <thead>\n",
       "    <tr style=\"text-align: right;\">\n",
       "      <th></th>\n",
       "      <th>radius1</th>\n",
       "      <th>texture1</th>\n",
       "      <th>perimeter1</th>\n",
       "      <th>area1</th>\n",
       "      <th>smoothness1</th>\n",
       "      <th>compactness1</th>\n",
       "      <th>concavity1</th>\n",
       "      <th>concave_points1</th>\n",
       "      <th>symmetry1</th>\n",
       "      <th>fractal_dimension1</th>\n",
       "      <th>...</th>\n",
       "      <th>radius3</th>\n",
       "      <th>texture3</th>\n",
       "      <th>perimeter3</th>\n",
       "      <th>area3</th>\n",
       "      <th>smoothness3</th>\n",
       "      <th>compactness3</th>\n",
       "      <th>concavity3</th>\n",
       "      <th>concave_points3</th>\n",
       "      <th>symmetry3</th>\n",
       "      <th>fractal_dimension3</th>\n",
       "    </tr>\n",
       "  </thead>\n",
       "  <tbody>\n",
       "    <tr>\n",
       "      <th>0</th>\n",
       "      <td>17.99</td>\n",
       "      <td>10.38</td>\n",
       "      <td>122.80</td>\n",
       "      <td>1001.0</td>\n",
       "      <td>0.11840</td>\n",
       "      <td>0.27760</td>\n",
       "      <td>0.3001</td>\n",
       "      <td>0.14710</td>\n",
       "      <td>0.2419</td>\n",
       "      <td>0.07871</td>\n",
       "      <td>...</td>\n",
       "      <td>25.38</td>\n",
       "      <td>17.33</td>\n",
       "      <td>184.60</td>\n",
       "      <td>2019.0</td>\n",
       "      <td>0.1622</td>\n",
       "      <td>0.6656</td>\n",
       "      <td>0.7119</td>\n",
       "      <td>0.2654</td>\n",
       "      <td>0.4601</td>\n",
       "      <td>0.11890</td>\n",
       "    </tr>\n",
       "    <tr>\n",
       "      <th>1</th>\n",
       "      <td>20.57</td>\n",
       "      <td>17.77</td>\n",
       "      <td>132.90</td>\n",
       "      <td>1326.0</td>\n",
       "      <td>0.08474</td>\n",
       "      <td>0.07864</td>\n",
       "      <td>0.0869</td>\n",
       "      <td>0.07017</td>\n",
       "      <td>0.1812</td>\n",
       "      <td>0.05667</td>\n",
       "      <td>...</td>\n",
       "      <td>24.99</td>\n",
       "      <td>23.41</td>\n",
       "      <td>158.80</td>\n",
       "      <td>1956.0</td>\n",
       "      <td>0.1238</td>\n",
       "      <td>0.1866</td>\n",
       "      <td>0.2416</td>\n",
       "      <td>0.1860</td>\n",
       "      <td>0.2750</td>\n",
       "      <td>0.08902</td>\n",
       "    </tr>\n",
       "    <tr>\n",
       "      <th>2</th>\n",
       "      <td>19.69</td>\n",
       "      <td>21.25</td>\n",
       "      <td>130.00</td>\n",
       "      <td>1203.0</td>\n",
       "      <td>0.10960</td>\n",
       "      <td>0.15990</td>\n",
       "      <td>0.1974</td>\n",
       "      <td>0.12790</td>\n",
       "      <td>0.2069</td>\n",
       "      <td>0.05999</td>\n",
       "      <td>...</td>\n",
       "      <td>23.57</td>\n",
       "      <td>25.53</td>\n",
       "      <td>152.50</td>\n",
       "      <td>1709.0</td>\n",
       "      <td>0.1444</td>\n",
       "      <td>0.4245</td>\n",
       "      <td>0.4504</td>\n",
       "      <td>0.2430</td>\n",
       "      <td>0.3613</td>\n",
       "      <td>0.08758</td>\n",
       "    </tr>\n",
       "    <tr>\n",
       "      <th>3</th>\n",
       "      <td>11.42</td>\n",
       "      <td>20.38</td>\n",
       "      <td>77.58</td>\n",
       "      <td>386.1</td>\n",
       "      <td>0.14250</td>\n",
       "      <td>0.28390</td>\n",
       "      <td>0.2414</td>\n",
       "      <td>0.10520</td>\n",
       "      <td>0.2597</td>\n",
       "      <td>0.09744</td>\n",
       "      <td>...</td>\n",
       "      <td>14.91</td>\n",
       "      <td>26.50</td>\n",
       "      <td>98.87</td>\n",
       "      <td>567.7</td>\n",
       "      <td>0.2098</td>\n",
       "      <td>0.8663</td>\n",
       "      <td>0.6869</td>\n",
       "      <td>0.2575</td>\n",
       "      <td>0.6638</td>\n",
       "      <td>0.17300</td>\n",
       "    </tr>\n",
       "    <tr>\n",
       "      <th>4</th>\n",
       "      <td>20.29</td>\n",
       "      <td>14.34</td>\n",
       "      <td>135.10</td>\n",
       "      <td>1297.0</td>\n",
       "      <td>0.10030</td>\n",
       "      <td>0.13280</td>\n",
       "      <td>0.1980</td>\n",
       "      <td>0.10430</td>\n",
       "      <td>0.1809</td>\n",
       "      <td>0.05883</td>\n",
       "      <td>...</td>\n",
       "      <td>22.54</td>\n",
       "      <td>16.67</td>\n",
       "      <td>152.20</td>\n",
       "      <td>1575.0</td>\n",
       "      <td>0.1374</td>\n",
       "      <td>0.2050</td>\n",
       "      <td>0.4000</td>\n",
       "      <td>0.1625</td>\n",
       "      <td>0.2364</td>\n",
       "      <td>0.07678</td>\n",
       "    </tr>\n",
       "  </tbody>\n",
       "</table>\n",
       "<p>5 rows × 30 columns</p>\n",
       "</div>"
      ],
      "text/plain": [
       "   radius1  texture1  perimeter1   area1  smoothness1  compactness1  \\\n",
       "0    17.99     10.38      122.80  1001.0      0.11840       0.27760   \n",
       "1    20.57     17.77      132.90  1326.0      0.08474       0.07864   \n",
       "2    19.69     21.25      130.00  1203.0      0.10960       0.15990   \n",
       "3    11.42     20.38       77.58   386.1      0.14250       0.28390   \n",
       "4    20.29     14.34      135.10  1297.0      0.10030       0.13280   \n",
       "\n",
       "   concavity1  concave_points1  symmetry1  fractal_dimension1  ...  radius3  \\\n",
       "0      0.3001          0.14710     0.2419             0.07871  ...    25.38   \n",
       "1      0.0869          0.07017     0.1812             0.05667  ...    24.99   \n",
       "2      0.1974          0.12790     0.2069             0.05999  ...    23.57   \n",
       "3      0.2414          0.10520     0.2597             0.09744  ...    14.91   \n",
       "4      0.1980          0.10430     0.1809             0.05883  ...    22.54   \n",
       "\n",
       "   texture3  perimeter3   area3  smoothness3  compactness3  concavity3  \\\n",
       "0     17.33      184.60  2019.0       0.1622        0.6656      0.7119   \n",
       "1     23.41      158.80  1956.0       0.1238        0.1866      0.2416   \n",
       "2     25.53      152.50  1709.0       0.1444        0.4245      0.4504   \n",
       "3     26.50       98.87   567.7       0.2098        0.8663      0.6869   \n",
       "4     16.67      152.20  1575.0       0.1374        0.2050      0.4000   \n",
       "\n",
       "   concave_points3  symmetry3  fractal_dimension3  \n",
       "0           0.2654     0.4601             0.11890  \n",
       "1           0.1860     0.2750             0.08902  \n",
       "2           0.2430     0.3613             0.08758  \n",
       "3           0.2575     0.6638             0.17300  \n",
       "4           0.1625     0.2364             0.07678  \n",
       "\n",
       "[5 rows x 30 columns]"
      ]
     },
     "execution_count": 72,
     "metadata": {},
     "output_type": "execute_result"
    }
   ],
   "source": [
    "from ucimlrepo import fetch_ucirepo \n",
    "  \n",
    "# fetch dataset \n",
    "breast_cancer_wisconsin_diagnostic = fetch_ucirepo(id=17) \n",
    "  \n",
    "# data (as pandas dataframes) \n",
    "X = breast_cancer_wisconsin_diagnostic.data.features \n",
    "y = breast_cancer_wisconsin_diagnostic.data.targets \n",
    "\n",
    "print(X.shape)\n",
    "X.head()\n",
    "# metadata \n",
    "# print(breast_cancer_wisconsin_diagnostic.metadata) \n",
    "  \n",
    "# variable information \n",
    "# print(breast_cancer_wisconsin_diagnostic.variables) \n"
   ]
  },
  {
   "cell_type": "code",
   "execution_count": null,
   "metadata": {},
   "outputs": [],
   "source": [
    "# 연습문제\n",
    "# 3~12번 열까지 총 10개에 해당되는 데이터를 추출하고 각 열에 대한 이름을 a~j까지 열거된 이름으로 설정한다\n",
    "# a~j열까지 10개 열 상호간에 상관계수를 구했을 때, 가장 상관계수가 높고 낮은 변수(feature)들을 구하시오."
   ]
  },
  {
   "cell_type": "code",
   "execution_count": 73,
   "metadata": {},
   "outputs": [],
   "source": [
    "import numpy as np\n",
    "import pandas as pd"
   ]
  },
  {
   "cell_type": "code",
   "execution_count": 144,
   "metadata": {},
   "outputs": [
    {
     "data": {
      "text/html": [
       "<div>\n",
       "<style scoped>\n",
       "    .dataframe tbody tr th:only-of-type {\n",
       "        vertical-align: middle;\n",
       "    }\n",
       "\n",
       "    .dataframe tbody tr th {\n",
       "        vertical-align: top;\n",
       "    }\n",
       "\n",
       "    .dataframe thead th {\n",
       "        text-align: right;\n",
       "    }\n",
       "</style>\n",
       "<table border=\"1\" class=\"dataframe\">\n",
       "  <thead>\n",
       "    <tr style=\"text-align: right;\">\n",
       "      <th></th>\n",
       "      <th>radius</th>\n",
       "      <th>texture</th>\n",
       "      <th>perimeter</th>\n",
       "      <th>area</th>\n",
       "      <th>smoothness</th>\n",
       "      <th>compactness</th>\n",
       "      <th>concavity</th>\n",
       "      <th>concave_points</th>\n",
       "      <th>symmetry</th>\n",
       "      <th>fractal_dimension</th>\n",
       "    </tr>\n",
       "  </thead>\n",
       "  <tbody>\n",
       "    <tr>\n",
       "      <th>0</th>\n",
       "      <td>17.99</td>\n",
       "      <td>10.38</td>\n",
       "      <td>122.80</td>\n",
       "      <td>1001.0</td>\n",
       "      <td>0.11840</td>\n",
       "      <td>0.27760</td>\n",
       "      <td>0.3001</td>\n",
       "      <td>0.14710</td>\n",
       "      <td>0.2419</td>\n",
       "      <td>0.07871</td>\n",
       "    </tr>\n",
       "    <tr>\n",
       "      <th>1</th>\n",
       "      <td>20.57</td>\n",
       "      <td>17.77</td>\n",
       "      <td>132.90</td>\n",
       "      <td>1326.0</td>\n",
       "      <td>0.08474</td>\n",
       "      <td>0.07864</td>\n",
       "      <td>0.0869</td>\n",
       "      <td>0.07017</td>\n",
       "      <td>0.1812</td>\n",
       "      <td>0.05667</td>\n",
       "    </tr>\n",
       "    <tr>\n",
       "      <th>2</th>\n",
       "      <td>19.69</td>\n",
       "      <td>21.25</td>\n",
       "      <td>130.00</td>\n",
       "      <td>1203.0</td>\n",
       "      <td>0.10960</td>\n",
       "      <td>0.15990</td>\n",
       "      <td>0.1974</td>\n",
       "      <td>0.12790</td>\n",
       "      <td>0.2069</td>\n",
       "      <td>0.05999</td>\n",
       "    </tr>\n",
       "    <tr>\n",
       "      <th>3</th>\n",
       "      <td>11.42</td>\n",
       "      <td>20.38</td>\n",
       "      <td>77.58</td>\n",
       "      <td>386.1</td>\n",
       "      <td>0.14250</td>\n",
       "      <td>0.28390</td>\n",
       "      <td>0.2414</td>\n",
       "      <td>0.10520</td>\n",
       "      <td>0.2597</td>\n",
       "      <td>0.09744</td>\n",
       "    </tr>\n",
       "    <tr>\n",
       "      <th>4</th>\n",
       "      <td>20.29</td>\n",
       "      <td>14.34</td>\n",
       "      <td>135.10</td>\n",
       "      <td>1297.0</td>\n",
       "      <td>0.10030</td>\n",
       "      <td>0.13280</td>\n",
       "      <td>0.1980</td>\n",
       "      <td>0.10430</td>\n",
       "      <td>0.1809</td>\n",
       "      <td>0.05883</td>\n",
       "    </tr>\n",
       "  </tbody>\n",
       "</table>\n",
       "</div>"
      ],
      "text/plain": [
       "   radius  texture  perimeter    area  smoothness  compactness  concavity  \\\n",
       "0   17.99    10.38     122.80  1001.0     0.11840      0.27760     0.3001   \n",
       "1   20.57    17.77     132.90  1326.0     0.08474      0.07864     0.0869   \n",
       "2   19.69    21.25     130.00  1203.0     0.10960      0.15990     0.1974   \n",
       "3   11.42    20.38      77.58   386.1     0.14250      0.28390     0.2414   \n",
       "4   20.29    14.34     135.10  1297.0     0.10030      0.13280     0.1980   \n",
       "\n",
       "   concave_points  symmetry  fractal_dimension  \n",
       "0         0.14710    0.2419            0.07871  \n",
       "1         0.07017    0.1812            0.05667  \n",
       "2         0.12790    0.2069            0.05999  \n",
       "3         0.10520    0.2597            0.09744  \n",
       "4         0.10430    0.1809            0.05883  "
      ]
     },
     "execution_count": 144,
     "metadata": {},
     "output_type": "execute_result"
    }
   ],
   "source": [
    "df = pd.read_csv('data/breast+cancer+wisconsin+diagnostic/wdbc.data', header=None).iloc[:,2:12]\n",
    "df.columns = ['radius', 'texture', 'perimeter','area', 'smoothness','compactness','concavity','concave_points','symmetry','fractal_dimension']\n",
    "df.head()"
   ]
  },
  {
   "cell_type": "code",
   "execution_count": 168,
   "metadata": {},
   "outputs": [
    {
     "data": {
      "text/html": [
       "<div>\n",
       "<style scoped>\n",
       "    .dataframe tbody tr th:only-of-type {\n",
       "        vertical-align: middle;\n",
       "    }\n",
       "\n",
       "    .dataframe tbody tr th {\n",
       "        vertical-align: top;\n",
       "    }\n",
       "\n",
       "    .dataframe thead th {\n",
       "        text-align: right;\n",
       "    }\n",
       "</style>\n",
       "<table border=\"1\" class=\"dataframe\">\n",
       "  <thead>\n",
       "    <tr style=\"text-align: right;\">\n",
       "      <th></th>\n",
       "      <th>radius</th>\n",
       "      <th>texture</th>\n",
       "      <th>perimeter</th>\n",
       "      <th>area</th>\n",
       "      <th>smoothness</th>\n",
       "      <th>compactness</th>\n",
       "      <th>concavity</th>\n",
       "      <th>concave_points</th>\n",
       "      <th>symmetry</th>\n",
       "      <th>fractal_dimension</th>\n",
       "    </tr>\n",
       "  </thead>\n",
       "  <tbody>\n",
       "    <tr>\n",
       "      <th>max_feature</th>\n",
       "      <td>perimeter</td>\n",
       "      <td>perimeter</td>\n",
       "      <td>radius</td>\n",
       "      <td>radius</td>\n",
       "      <td>compactness</td>\n",
       "      <td>concavity</td>\n",
       "      <td>concave_points</td>\n",
       "      <td>concavity</td>\n",
       "      <td>compactness</td>\n",
       "      <td>smoothness</td>\n",
       "    </tr>\n",
       "    <tr>\n",
       "      <th>max_values</th>\n",
       "      <td>0.997855</td>\n",
       "      <td>0.329533</td>\n",
       "      <td>0.997855</td>\n",
       "      <td>0.987357</td>\n",
       "      <td>0.659123</td>\n",
       "      <td>0.883121</td>\n",
       "      <td>0.921391</td>\n",
       "      <td>0.921391</td>\n",
       "      <td>0.602641</td>\n",
       "      <td>0.584792</td>\n",
       "    </tr>\n",
       "    <tr>\n",
       "      <th>min_feature</th>\n",
       "      <td>fractal_dimension</td>\n",
       "      <td>fractal_dimension</td>\n",
       "      <td>fractal_dimension</td>\n",
       "      <td>fractal_dimension</td>\n",
       "      <td>texture</td>\n",
       "      <td>texture</td>\n",
       "      <td>texture</td>\n",
       "      <td>fractal_dimension</td>\n",
       "      <td>texture</td>\n",
       "      <td>radius</td>\n",
       "    </tr>\n",
       "    <tr>\n",
       "      <th>min_values</th>\n",
       "      <td>-0.311631</td>\n",
       "      <td>-0.076437</td>\n",
       "      <td>-0.261477</td>\n",
       "      <td>-0.28311</td>\n",
       "      <td>-0.023389</td>\n",
       "      <td>0.236702</td>\n",
       "      <td>0.302418</td>\n",
       "      <td>0.166917</td>\n",
       "      <td>0.071401</td>\n",
       "      <td>-0.311631</td>\n",
       "    </tr>\n",
       "  </tbody>\n",
       "</table>\n",
       "</div>"
      ],
      "text/plain": [
       "                        radius            texture          perimeter  \\\n",
       "max_feature          perimeter          perimeter             radius   \n",
       "max_values            0.997855           0.329533           0.997855   \n",
       "min_feature  fractal_dimension  fractal_dimension  fractal_dimension   \n",
       "min_values           -0.311631          -0.076437          -0.261477   \n",
       "\n",
       "                          area   smoothness compactness       concavity  \\\n",
       "max_feature             radius  compactness   concavity  concave_points   \n",
       "max_values            0.987357     0.659123    0.883121        0.921391   \n",
       "min_feature  fractal_dimension      texture     texture         texture   \n",
       "min_values            -0.28311    -0.023389    0.236702        0.302418   \n",
       "\n",
       "                concave_points     symmetry fractal_dimension  \n",
       "max_feature          concavity  compactness        smoothness  \n",
       "max_values            0.921391     0.602641          0.584792  \n",
       "min_feature  fractal_dimension      texture            radius  \n",
       "min_values            0.166917     0.071401         -0.311631  "
      ]
     },
     "execution_count": 168,
     "metadata": {},
     "output_type": "execute_result"
    }
   ],
   "source": [
    "# np.corrcoef(radius,texture)[0,1] # 상관계수 구하기\n",
    "# 상관계수가 큰 것과 작은 것 구하기\n",
    "df_corr = df.corr()\n",
    "def min_max_corr(col):\n",
    "    return col.sort_values().index[-2], col.sort_values()[-2], col.sort_values().index[0], col.sort_values()[0]# 각 열별 상관계수가 큰 데이터끼리 묶음\n",
    "min_max_corr_df = df_corr.apply(min_max_corr)\n",
    "min_max_corr_df.index = ['max_feature', 'max_values','min_feature', 'min_values']\n",
    "min_max_corr_df"
   ]
  },
  {
   "cell_type": "code",
   "execution_count": 169,
   "metadata": {},
   "outputs": [
    {
     "data": {
      "text/html": [
       "<div>\n",
       "<style scoped>\n",
       "    .dataframe tbody tr th:only-of-type {\n",
       "        vertical-align: middle;\n",
       "    }\n",
       "\n",
       "    .dataframe tbody tr th {\n",
       "        vertical-align: top;\n",
       "    }\n",
       "\n",
       "    .dataframe thead th {\n",
       "        text-align: right;\n",
       "    }\n",
       "</style>\n",
       "<table border=\"1\" class=\"dataframe\">\n",
       "  <thead>\n",
       "    <tr style=\"text-align: right;\">\n",
       "      <th></th>\n",
       "      <th>radius</th>\n",
       "      <th>texture</th>\n",
       "      <th>perimeter</th>\n",
       "      <th>area</th>\n",
       "      <th>smoothness</th>\n",
       "      <th>compactness</th>\n",
       "      <th>concavity</th>\n",
       "      <th>concave_points</th>\n",
       "      <th>symmetry</th>\n",
       "      <th>fractal_dimension</th>\n",
       "    </tr>\n",
       "  </thead>\n",
       "  <tbody>\n",
       "    <tr>\n",
       "      <th>independence_feature</th>\n",
       "      <td>symmetry</td>\n",
       "      <td>smoothness</td>\n",
       "      <td>symmetry</td>\n",
       "      <td>symmetry</td>\n",
       "      <td>texture</td>\n",
       "      <td>texture</td>\n",
       "      <td>texture</td>\n",
       "      <td>fractal_dimension</td>\n",
       "      <td>texture</td>\n",
       "      <td>texture</td>\n",
       "    </tr>\n",
       "    <tr>\n",
       "      <th>values</th>\n",
       "      <td>0.147741</td>\n",
       "      <td>0.023389</td>\n",
       "      <td>0.183027</td>\n",
       "      <td>0.151293</td>\n",
       "      <td>0.023389</td>\n",
       "      <td>0.236702</td>\n",
       "      <td>0.302418</td>\n",
       "      <td>0.166917</td>\n",
       "      <td>0.071401</td>\n",
       "      <td>0.076437</td>\n",
       "    </tr>\n",
       "  </tbody>\n",
       "</table>\n",
       "</div>"
      ],
      "text/plain": [
       "                        radius     texture perimeter      area smoothness  \\\n",
       "independence_feature  symmetry  smoothness  symmetry  symmetry    texture   \n",
       "values                0.147741    0.023389  0.183027  0.151293   0.023389   \n",
       "\n",
       "                     compactness concavity     concave_points  symmetry  \\\n",
       "independence_feature     texture   texture  fractal_dimension   texture   \n",
       "values                  0.236702  0.302418           0.166917  0.071401   \n",
       "\n",
       "                     fractal_dimension  \n",
       "independence_feature           texture  \n",
       "values                        0.076437  "
      ]
     },
     "execution_count": 169,
     "metadata": {},
     "output_type": "execute_result"
    }
   ],
   "source": [
    "# 가장 독립적인 피처 구하기\n",
    "def independence_corr(col):\n",
    "    return abs(col).sort_values().index[0],abs(col).sort_values()[0]\n",
    "zero_corr = df_corr.apply(independence_corr)\n",
    "zero_corr.index = ['independence_feature', 'values']\n",
    "zero_corr"
   ]
  },
  {
   "cell_type": "code",
   "execution_count": 189,
   "metadata": {},
   "outputs": [
    {
     "data": {
      "text/plain": [
       "max_feature      radius\n",
       "max_values     0.997855\n",
       "Name: perimeter, dtype: object"
      ]
     },
     "execution_count": 189,
     "metadata": {},
     "output_type": "execute_result"
    }
   ],
   "source": [
    "# 가장 상관계수가 큰 피처 짝\n",
    "max_df=min_max_corr_df.loc['max_values'].sort_values()\n",
    "min_max_corr_df[max_df.index[-1]].iloc[:2]"
   ]
  },
  {
   "cell_type": "code",
   "execution_count": 165,
   "metadata": {},
   "outputs": [
    {
     "data": {
      "text/html": [
       "<div>\n",
       "<style scoped>\n",
       "    .dataframe tbody tr th:only-of-type {\n",
       "        vertical-align: middle;\n",
       "    }\n",
       "\n",
       "    .dataframe tbody tr th {\n",
       "        vertical-align: top;\n",
       "    }\n",
       "\n",
       "    .dataframe thead th {\n",
       "        text-align: right;\n",
       "    }\n",
       "</style>\n",
       "<table border=\"1\" class=\"dataframe\">\n",
       "  <thead>\n",
       "    <tr style=\"text-align: right;\">\n",
       "      <th></th>\n",
       "      <th>texture</th>\n",
       "    </tr>\n",
       "  </thead>\n",
       "  <tbody>\n",
       "    <tr>\n",
       "      <th>independence_feature</th>\n",
       "      <td>smoothness</td>\n",
       "    </tr>\n",
       "    <tr>\n",
       "      <th>values</th>\n",
       "      <td>0.023389</td>\n",
       "    </tr>\n",
       "  </tbody>\n",
       "</table>\n",
       "</div>"
      ],
      "text/plain": [
       "                         texture\n",
       "independence_feature  smoothness\n",
       "values                  0.023389"
      ]
     },
     "execution_count": 165,
     "metadata": {},
     "output_type": "execute_result"
    }
   ],
   "source": [
    "# 가장 독립적인 피처\n",
    "zero_corr[[zero_corr.loc['values'].sort_values().index[0]]]"
   ]
  }
 ],
 "metadata": {
  "kernelspec": {
   "display_name": "Python 3",
   "language": "python",
   "name": "python3"
  },
  "language_info": {
   "codemirror_mode": {
    "name": "ipython",
    "version": 3
   },
   "file_extension": ".py",
   "mimetype": "text/x-python",
   "name": "python",
   "nbconvert_exporter": "python",
   "pygments_lexer": "ipython3",
   "version": "3.10.9"
  }
 },
 "nbformat": 4,
 "nbformat_minor": 2
}
