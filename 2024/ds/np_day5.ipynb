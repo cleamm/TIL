{
 "cells": [
  {
   "cell_type": "code",
   "execution_count": null,
   "metadata": {},
   "outputs": [],
   "source": [
    "감성분석: 감성사전\n",
    "1-gram(유니그램)\n",
    "2-gram(???)\n",
    "       \n",
    "영어는 nltk 패키지\n",
    "한국어 konlpy\n",
    "http://api.openhangul.com/overview?m=sentiment"
   ]
  },
  {
   "cell_type": "code",
   "execution_count": 43,
   "metadata": {},
   "outputs": [
    {
     "data": {
      "text/plain": [
       "array([0.24432338, 0.63551756, 0.67221731, 0.8370985 , 0.3230404 ,\n",
       "       0.66728613, 0.99852928, 0.95145872, 0.36059922, 0.68687786])"
      ]
     },
     "execution_count": 43,
     "metadata": {},
     "output_type": "execute_result"
    }
   ],
   "source": [
    "import numpy as np\n",
    "np.random.seed(20240510)\n",
    "np.random.rand(10)\n"
   ]
  },
  {
   "cell_type": "code",
   "execution_count": 70,
   "metadata": {},
   "outputs": [
    {
     "name": "stdout",
     "output_type": "stream",
     "text": [
      "[0 1 2 3 4 5 6 7 8 9]\n",
      "[2 5 6 4 7 9 3 1 0 8]\n"
     ]
    }
   ],
   "source": [
    "x = np.arange(10)\n",
    "print(x)\n",
    "np.random.shuffle(x) # 변수에 바로 적용됨\n",
    "print(x)"
   ]
  },
  {
   "cell_type": "code",
   "execution_count": 88,
   "metadata": {},
   "outputs": [
    {
     "data": {
      "text/plain": [
       "array([5, 4])"
      ]
     },
     "execution_count": 88,
     "metadata": {},
     "output_type": "execute_result"
    }
   ],
   "source": [
    "# choice : 표본 추출 함수\n",
    "np.random.choice(x,2) # (배열, 추출 개수)\n"
   ]
  },
  {
   "cell_type": "code",
   "execution_count": 128,
   "metadata": {},
   "outputs": [
    {
     "data": {
      "text/plain": [
       "array([[2, 2, 3, 3, 2],\n",
       "       [2, 3, 3, 2, 3]])"
      ]
     },
     "execution_count": 128,
     "metadata": {},
     "output_type": "execute_result"
    }
   ],
   "source": [
    "# np.random.rand() : 0<= 난수<1\n",
    "np.random.randn() #: 평균은 0에 근접, 표준편차는 1에 수렴하는 데이터를 추출\n",
    "np.mean(np.random.randn(10)) # 평균\n",
    "np.std(np.random.randn(10)) # 표준편차\n",
    "np.random.randint(2) # 입력된 값이 자연수라면 미만의 0과 자연수를 추출\n",
    "# '[0, 5)'개구간이라고 하는데 '[0' 은 0을 포함, '5)'라고 하면 5미만 이라는 의미가 됨\n",
    "np.random.randint(2,4)\n",
    "np.random.randint(2,4, size=10) # size는 추출할 개수를 의미함\n",
    "np.random.randint(2,4, size=(2,5)) # 튜플형식으로 입력하여 배열을 만들어 추출할 수도 있음"
   ]
  },
  {
   "cell_type": "code",
   "execution_count": 130,
   "metadata": {},
   "outputs": [],
   "source": [
    "data = np.random.randint(5,11, size=10)"
   ]
  },
  {
   "cell_type": "code",
   "execution_count": 131,
   "metadata": {},
   "outputs": [
    {
     "data": {
      "text/plain": [
       "array([ 9,  6, 10,  8, 10,  5,  7,  5,  7, 10])"
      ]
     },
     "execution_count": 131,
     "metadata": {},
     "output_type": "execute_result"
    }
   ],
   "source": [
    "data"
   ]
  },
  {
   "cell_type": "code",
   "execution_count": 133,
   "metadata": {},
   "outputs": [
    {
     "data": {
      "text/plain": [
       "array([ 5,  6,  7,  8,  9, 10])"
      ]
     },
     "execution_count": 133,
     "metadata": {},
     "output_type": "execute_result"
    }
   ],
   "source": [
    "np.unique(data) # set과 같은 효과를 보여주나 집합 형태가 아닌 배열 형태로 반환"
   ]
  },
  {
   "cell_type": "code",
   "execution_count": 134,
   "metadata": {},
   "outputs": [
    {
     "data": {
      "text/plain": [
       "(array([ 5,  6,  7,  8,  9, 10]), array([2, 1, 2, 1, 1, 3], dtype=int64))"
      ]
     },
     "execution_count": 134,
     "metadata": {},
     "output_type": "execute_result"
    }
   ],
   "source": [
    "np.unique(data, return_counts=True) # 각 데이터별로 빈도가 어떻게 되는지를 같이 출력해줌"
   ]
  },
  {
   "cell_type": "code",
   "execution_count": 138,
   "metadata": {},
   "outputs": [
    {
     "data": {
      "text/plain": [
       "array([2, 1, 2, 1, 1, 3], dtype=int64)"
      ]
     },
     "execution_count": 138,
     "metadata": {},
     "output_type": "execute_result"
    }
   ],
   "source": [
    "np.unique(data, return_counts=True)[0]\n",
    "np.unique(data, return_counts=True)[1]"
   ]
  },
  {
   "cell_type": "code",
   "execution_count": 142,
   "metadata": {},
   "outputs": [
    {
     "data": {
      "text/plain": [
       "array([0, 0, 0, 0, 0, 2, 1, 2, 1, 1, 3, 0], dtype=int64)"
      ]
     },
     "execution_count": 142,
     "metadata": {},
     "output_type": "execute_result"
    }
   ],
   "source": [
    "np.bincount(data, minlength=12) # 0부터 시작하여 가장 큰 수까지 데이터의 빈도를 출력함.\n",
    "# minlength를 입력하면 최소 출력개수를 지정할 수 있음\n",
    "# minlength가 11이면 0부터 10까지(총11개) 빈도수를 추출할 수 있음\n",
    "#결과 : array([0, 0, 0, 0, 0, 3, 0, 1, 2, 1, 3], dtype=int64)\n",
    "            # 0  1  2  3  4  5  6  7  8  9  10"
   ]
  },
  {
   "cell_type": "code",
   "execution_count": 196,
   "metadata": {},
   "outputs": [
    {
     "name": "stdout",
     "output_type": "stream",
     "text": [
      "[ 7 27 20 25 11 10]\n",
      "[ 1  8 17 36 22 31]\n",
      "[10 40  4 16 11 16]\n",
      "[ 8 18 18 27 22  1]\n",
      "[37 13  1 25 13  5]\n",
      "[0 0 1 0 1 1 1 1 0 1]\n",
      "3.4\n"
     ]
    }
   ],
   "source": [
    "# 로또 수 5개 출력\n",
    "for i in range(5):\n",
    "    print(np.random.randint(1,46, size=6))\n",
    "# 동전 10번 던져 앞뒷면 가상 실험\n",
    "print(np.random.randint(2, size=10))\n",
    "# 주사위 109번 던져 나온 숫자 평균\n",
    "print(np.mean(np.random.randint(1,7, 100)))"
   ]
  },
  {
   "cell_type": "code",
   "execution_count": 192,
   "metadata": {},
   "outputs": [
    {
     "data": {
      "text/plain": [
       "3.34"
      ]
     },
     "execution_count": 192,
     "metadata": {},
     "output_type": "execute_result"
    }
   ],
   "source": [
    "# 4시부터 프로젝트 초안 발표 및 질의응답 \n",
    "# = 질문 및 가능한지 문제점 등을 설명할 것임(5~10분)\n",
    "\n",
    "# - 프로젝트 팀명, 팀 구성원\n",
    "# - 목표(목적), 일정, 예상 산출물 개요\n",
    "# - 사용 기술(툴), 구현 방법, 데이터 출처\n",
    "# - 향후 개선 방향(일정)\n",
    "# 5시부터 평가시험"
   ]
  },
  {
   "cell_type": "code",
   "execution_count": null,
   "metadata": {},
   "outputs": [],
   "source": [
    "# 오후 5시 ~ 평가\n",
    "# 오후 4시 ~ 프로젝트 발표 및 질의응답(5분~10분)\n",
    "# -프로젝트 팀명, 팀 구성원(역할), \n",
    "# -목표(목적), 일정, 예상 산출물 개요\n",
    "# -사용 기술(툴), 구현 방법, 데이터 출처\n",
    "# -향후 개선 방향(일정)\n",
    "# 1시 30분부터 3시 50분까지 회의후 플젝 설명"
   ]
  },
  {
   "cell_type": "code",
   "execution_count": null,
   "metadata": {},
   "outputs": [],
   "source": [
    "# 스크래핑을 한곳에서 할 것인데, 그날 나온 스크래핑, 스크래핑출력 시 화면에 사진도 나와야 함\n",
    "\n",
    "# 스크래핑 데이터가 큰지 작은지에 따라 요약한 글자 수를 조절해야될 것 같음\n",
    "\n",
    "# 키워드"
   ]
  },
  {
   "cell_type": "code",
   "execution_count": null,
   "metadata": {},
   "outputs": [],
   "source": [
    "# 장고 페이지에서 게시글 보는 것은 아무나 볼 수 있으나 세팅을 저장하기 위해서는 저장하고 보는 것이 좋음\n",
    "\n",
    "# 로그인시 혜택 = 이건 나중에 개선사항으로 남겨두는 것으로...\n",
    "# - 키워드 검색, 요약 분량, 알림?(지정한 키워드의 뉴스가 나왔을 때 플로팅?)"
   ]
  }
 ],
 "metadata": {
  "kernelspec": {
   "display_name": "Python 3",
   "language": "python",
   "name": "python3"
  },
  "language_info": {
   "codemirror_mode": {
    "name": "ipython",
    "version": 3
   },
   "file_extension": ".py",
   "mimetype": "text/x-python",
   "name": "python",
   "nbconvert_exporter": "python",
   "pygments_lexer": "ipython3",
   "version": "3.10.9"
  }
 },
 "nbformat": 4,
 "nbformat_minor": 2
}
