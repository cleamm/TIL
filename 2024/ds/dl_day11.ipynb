{
 "cells": [
  {
   "cell_type": "markdown",
   "metadata": {},
   "source": [
    "https://wikidocs.net/22647"
   ]
  },
  {
   "cell_type": "code",
   "execution_count": null,
   "metadata": {},
   "outputs": [],
   "source": [
    "# 토큰은 보통 단어로 보지만 글자나 문장이 토큰이 될 수도 있음\n",
    "# 토큰화 과정에서 구두점(.?!+띄어쓰기 등)을 분리하는 작업을 진행함\n",
    "# 다만 구두점이나 특수문자를 전부 제거하면 토큰이 의미를 잃어버릴 수도 있으므로 주의해야함\n",
    "# nltk는 자연어 처리만을 위한 도구들이 존재함"
   ]
  },
  {
   "cell_type": "code",
   "execution_count": 1,
   "metadata": {},
   "outputs": [],
   "source": [
    "from nltk.tokenize import word_tokenize\n",
    "from nltk.tokenize import WordPunctTokenizer\n",
    "from tensorflow.keras.preprocessing.text import text_to_word_sequence\n"
   ]
  },
  {
   "cell_type": "code",
   "execution_count": 2,
   "metadata": {},
   "outputs": [
    {
     "name": "stderr",
     "output_type": "stream",
     "text": [
      "[nltk_data] Downloading package punkt to\n",
      "[nltk_data]     C:\\Users\\fkfma\\AppData\\Roaming\\nltk_data...\n",
      "[nltk_data]   Unzipping tokenizers\\punkt.zip.\n"
     ]
    },
    {
     "data": {
      "text/plain": [
       "True"
      ]
     },
     "execution_count": 2,
     "metadata": {},
     "output_type": "execute_result"
    }
   ],
   "source": [
    "import nltk\n",
    "nltk.download('punkt') # 아래꺼 실행하면 에러가 나올 것임"
   ]
  },
  {
   "cell_type": "code",
   "execution_count": 3,
   "metadata": {},
   "outputs": [
    {
     "name": "stdout",
     "output_type": "stream",
     "text": [
      "단어 토큰화1 : ['Do', \"n't\", 'be', 'fooled', 'by', 'the', 'dark', 'sounding', 'name', ',', 'Mr.', 'Jone', \"'s\", 'Orphanage', 'is', 'as', 'cheery', 'as', 'cheery', 'goes', 'for', 'a', 'pastry', 'shop', '.']\n"
     ]
    }
   ],
   "source": [
    "print('단어 토큰화1 :',word_tokenize(\"Don't be fooled by the dark sounding name, Mr. Jone's Orphanage is as cheery as cheery goes for a pastry shop.\"))\n",
    "# Do n't로 분리"
   ]
  },
  {
   "cell_type": "code",
   "execution_count": 5,
   "metadata": {},
   "outputs": [
    {
     "name": "stdout",
     "output_type": "stream",
     "text": [
      "단어 토큰화2 : ['Don', \"'\", 't', 'be', 'fooled', 'by', 'the', 'dark', 'sounding', 'name', ',', 'Mr', '.', 'Jone', \"'\", 's', 'Orphanage', 'is', 'as', 'cheery', 'as', 'cheery', 'goes', 'for', 'a', 'pastry', 'shop', '.']\n"
     ]
    }
   ],
   "source": [
    "print('단어 토큰화2 :',WordPunctTokenizer().tokenize(\"Don't be fooled by the dark sounding name, Mr. Jone's Orphanage is as cheery as cheery goes for a pastry shop.\"))\n",
    "# Don ' t로 분리"
   ]
  },
  {
   "cell_type": "code",
   "execution_count": 6,
   "metadata": {},
   "outputs": [
    {
     "name": "stdout",
     "output_type": "stream",
     "text": [
      "단어 토큰화3 : [\"don't\", 'be', 'fooled', 'by', 'the', 'dark', 'sounding', 'name', 'mr', \"jone's\", 'orphanage', 'is', 'as', 'cheery', 'as', 'cheery', 'goes', 'for', 'a', 'pastry', 'shop']\n"
     ]
    }
   ],
   "source": [
    "print('단어 토큰화3 :',text_to_word_sequence(\"Don't be fooled by the dark sounding name, Mr. Jone's Orphanage is as cheery as cheery goes for a pastry shop.\"))\n",
    "# don't 를 통째로 쓰되 D->d로 소문자화가 진행됨\n",
    "# don't나 jone's와 같은 아포스트로피는 보존함"
   ]
  },
  {
   "cell_type": "code",
   "execution_count": 7,
   "metadata": {},
   "outputs": [
    {
     "name": "stdout",
     "output_type": "stream",
     "text": [
      "트리뱅크 워드토크나이저 : ['Starting', 'a', 'home-based', 'restaurant', 'may', 'be', 'an', 'ideal.', 'it', 'does', \"n't\", 'have', 'a', 'food', 'chain', 'or', 'restaurant', 'of', 'their', 'own', '.']\n"
     ]
    }
   ],
   "source": [
    "from nltk.tokenize import TreebankWordTokenizer\n",
    "\n",
    "tokenizer = TreebankWordTokenizer()\n",
    "\n",
    "text = \"Starting a home-based restaurant may be an ideal. it doesn't have a food chain or restaurant of their own.\"\n",
    "print('트리뱅크 워드토크나이저 :',tokenizer.tokenize(text))\n",
    "# 하이픈으로 구성된 단어는 하나로 유지"
   ]
  },
  {
   "cell_type": "code",
   "execution_count": 14,
   "metadata": {},
   "outputs": [
    {
     "name": "stdout",
     "output_type": "stream",
     "text": [
      "문장 토큰화1 : ['His barber kept his word.', 'But keeping such a huge secret to himself was driving him crazy.', 'Finally, the barber went up a mountain and almost to the edge of a cliff.', 'He dug a hole in the midst of some reeds.', 'He looked about, to make sure no one was near.']\n"
     ]
    }
   ],
   "source": [
    "from nltk.tokenize import sent_tokenize\n",
    "\n",
    "text = \"His barber kept his word. But keeping such a huge secret to himself was driving him crazy. Finally, the barber went up a mountain and almost to the edge of a cliff. He dug a hole in the midst of some reeds. He looked about, to make sure no one was near.\"\n",
    "print('문장 토큰화1 :',sent_tokenize(text))\n",
    "# 문장 토큰화"
   ]
  },
  {
   "cell_type": "code",
   "execution_count": 15,
   "metadata": {},
   "outputs": [
    {
     "name": "stdout",
     "output_type": "stream",
     "text": [
      "Collecting kss\n",
      "  Downloading kss-6.0.4.tar.gz (1.1 MB)\n",
      "     ---------------------------------------- 0.0/1.1 MB ? eta -:--:--\n",
      "     ------- -------------------------------- 0.2/1.1 MB 4.4 MB/s eta 0:00:01\n",
      "     -------------------- ------------------- 0.6/1.1 MB 5.9 MB/s eta 0:00:01\n",
      "     ---------------------------------- ----- 1.0/1.1 MB 6.7 MB/s eta 0:00:01\n",
      "     ---------------------------------------- 1.1/1.1 MB 6.4 MB/s eta 0:00:00\n",
      "  Preparing metadata (setup.py): started\n",
      "  Preparing metadata (setup.py): finished with status 'done'\n",
      "Collecting emoji==1.2.0\n",
      "  Downloading emoji-1.2.0-py3-none-any.whl (131 kB)\n",
      "     ---------------------------------------- 0.0/131.3 kB ? eta -:--:--\n",
      "     -------------------------------------- 131.3/131.3 kB 7.6 MB/s eta 0:00:00\n",
      "Collecting pecab\n",
      "  Downloading pecab-1.0.8.tar.gz (26.4 MB)\n",
      "     ---------------------------------------- 0.0/26.4 MB ? eta -:--:--\n",
      "     ---------------------------------------- 0.3/26.4 MB 8.6 MB/s eta 0:00:04\n",
      "      --------------------------------------- 0.6/26.4 MB 8.0 MB/s eta 0:00:04\n",
      "     - -------------------------------------- 0.9/26.4 MB 7.2 MB/s eta 0:00:04\n",
      "     - -------------------------------------- 1.2/26.4 MB 7.0 MB/s eta 0:00:04\n",
      "     -- ------------------------------------- 1.5/26.4 MB 7.0 MB/s eta 0:00:04\n",
      "     -- ------------------------------------- 1.9/26.4 MB 7.1 MB/s eta 0:00:04\n",
      "     --- ------------------------------------ 2.2/26.4 MB 7.5 MB/s eta 0:00:04\n",
      "     --- ------------------------------------ 2.4/26.4 MB 7.2 MB/s eta 0:00:04\n",
      "     --- ------------------------------------ 2.4/26.4 MB 6.1 MB/s eta 0:00:04\n",
      "     ---- ----------------------------------- 2.7/26.4 MB 6.2 MB/s eta 0:00:04\n",
      "     ---- ----------------------------------- 3.1/26.4 MB 6.1 MB/s eta 0:00:04\n",
      "     ----- ---------------------------------- 3.4/26.4 MB 6.3 MB/s eta 0:00:04\n",
      "     ----- ---------------------------------- 3.9/26.4 MB 6.7 MB/s eta 0:00:04\n",
      "     ------ --------------------------------- 4.4/26.4 MB 6.8 MB/s eta 0:00:04\n",
      "     ------- -------------------------------- 4.6/26.4 MB 7.0 MB/s eta 0:00:04\n",
      "     ------- -------------------------------- 5.2/26.4 MB 7.2 MB/s eta 0:00:03\n",
      "     -------- ------------------------------- 5.7/26.4 MB 7.5 MB/s eta 0:00:03\n",
      "     --------- ------------------------------ 6.6/26.4 MB 8.1 MB/s eta 0:00:03\n",
      "     ----------- ---------------------------- 7.4/26.4 MB 8.6 MB/s eta 0:00:03\n",
      "     ------------ --------------------------- 8.1/26.4 MB 8.9 MB/s eta 0:00:03\n",
      "     ------------- -------------------------- 8.8/26.4 MB 9.2 MB/s eta 0:00:02\n",
      "     -------------- ------------------------- 9.6/26.4 MB 9.5 MB/s eta 0:00:02\n",
      "     --------------- ------------------------ 10.2/26.4 MB 9.7 MB/s eta 0:00:02\n",
      "     ---------------- ---------------------- 10.8/26.4 MB 10.1 MB/s eta 0:00:02\n",
      "     ----------------- --------------------- 11.5/26.4 MB 10.9 MB/s eta 0:00:02\n",
      "     ------------------ -------------------- 12.2/26.4 MB 11.5 MB/s eta 0:00:02\n",
      "     ------------------ -------------------- 12.8/26.4 MB 13.1 MB/s eta 0:00:02\n",
      "     ------------------- ------------------- 13.5/26.4 MB 13.6 MB/s eta 0:00:01\n",
      "     --------------------- ----------------- 14.4/26.4 MB 14.6 MB/s eta 0:00:01\n",
      "     ---------------------- ---------------- 15.2/26.4 MB 15.6 MB/s eta 0:00:01\n",
      "     ----------------------- --------------- 15.7/26.4 MB 16.0 MB/s eta 0:00:01\n",
      "     ------------------------ -------------- 16.5/26.4 MB 16.0 MB/s eta 0:00:01\n",
      "     ------------------------- ------------- 17.4/26.4 MB 15.6 MB/s eta 0:00:01\n",
      "     -------------------------- ------------ 18.2/26.4 MB 15.6 MB/s eta 0:00:01\n",
      "     --------------------------- ----------- 18.8/26.4 MB 16.0 MB/s eta 0:00:01\n",
      "     ---------------------------- ---------- 19.2/26.4 MB 15.2 MB/s eta 0:00:01\n",
      "     ---------------------------- ---------- 19.4/26.4 MB 14.5 MB/s eta 0:00:01\n",
      "     ----------------------------- --------- 19.7/26.4 MB 14.2 MB/s eta 0:00:01\n",
      "     ------------------------------ -------- 20.6/26.4 MB 14.2 MB/s eta 0:00:01\n",
      "     ------------------------------- ------- 21.5/26.4 MB 14.9 MB/s eta 0:00:01\n",
      "     -------------------------------- ------ 22.3/26.4 MB 14.9 MB/s eta 0:00:01\n",
      "     ---------------------------------- ---- 23.4/26.4 MB 15.2 MB/s eta 0:00:01\n",
      "     ----------------------------------- --- 23.7/26.4 MB 14.9 MB/s eta 0:00:01\n",
      "     ----------------------------------- --- 24.1/26.4 MB 14.6 MB/s eta 0:00:01\n",
      "     ------------------------------------ -- 24.7/26.4 MB 14.2 MB/s eta 0:00:01\n",
      "     --------------------------------------  26.0/26.4 MB 14.9 MB/s eta 0:00:01\n",
      "     --------------------------------------  26.4/26.4 MB 14.9 MB/s eta 0:00:01\n",
      "     --------------------------------------- 26.4/26.4 MB 13.6 MB/s eta 0:00:00\n",
      "  Preparing metadata (setup.py): started\n",
      "  Preparing metadata (setup.py): finished with status 'done'\n",
      "Requirement already satisfied: networkx in c:\\users\\fkfma\\appdata\\local\\programs\\python\\python310\\lib\\site-packages (from kss) (3.0)\n",
      "Collecting jamo\n",
      "  Downloading jamo-0.4.1-py3-none-any.whl (9.5 kB)\n",
      "Collecting hangul-jamo\n",
      "  Downloading hangul_jamo-1.0.1-py3-none-any.whl (4.4 kB)\n",
      "Collecting tossi\n",
      "  Downloading tossi-0.3.1.tar.gz (11 kB)\n",
      "  Preparing metadata (setup.py): started\n",
      "  Preparing metadata (setup.py): finished with status 'done'\n",
      "Collecting distance\n",
      "  Downloading Distance-0.1.3.tar.gz (180 kB)\n",
      "     ---------------------------------------- 0.0/180.3 kB ? eta -:--:--\n",
      "     ------------------------------------- 180.3/180.3 kB 10.6 MB/s eta 0:00:00\n",
      "  Preparing metadata (setup.py): started\n",
      "  Preparing metadata (setup.py): finished with status 'done'\n",
      "Requirement already satisfied: pyyaml==6.0 in c:\\users\\fkfma\\appdata\\local\\programs\\python\\python310\\lib\\site-packages (from kss) (6.0)\n",
      "Collecting unidecode\n",
      "  Downloading Unidecode-1.3.8-py3-none-any.whl (235 kB)\n",
      "     ---------------------------------------- 0.0/235.5 kB ? eta -:--:--\n",
      "     ---------------------------------------- 235.5/235.5 kB ? eta 0:00:00\n",
      "Collecting cmudict\n",
      "  Downloading cmudict-1.0.24-py3-none-any.whl (939 kB)\n",
      "     ---------------------------------------- 0.0/939.4 kB ? eta -:--:--\n",
      "     ------------------------------------  931.8/939.4 kB 29.7 MB/s eta 0:00:01\n",
      "     ------------------------------------- 939.4/939.4 kB 20.2 MB/s eta 0:00:00\n",
      "Collecting koparadigm\n",
      "  Downloading koparadigm-0.10.0-py3-none-any.whl (1.6 MB)\n",
      "     ---------------------------------------- 0.0/1.6 MB ? eta -:--:--\n",
      "     --------------------------- ------------ 1.1/1.6 MB 23.3 MB/s eta 0:00:01\n",
      "     ---------------------------------------- 1.6/1.6 MB 20.1 MB/s eta 0:00:00\n",
      "Collecting kollocate\n",
      "  Downloading kollocate-0.0.2-py3-none-any.whl (72.2 MB)\n",
      "     ---------------------------------------- 0.0/72.2 MB ? eta -:--:--\n",
      "      --------------------------------------- 1.0/72.2 MB 32.0 MB/s eta 0:00:03\n",
      "     - -------------------------------------- 2.2/72.2 MB 28.2 MB/s eta 0:00:03\n",
      "     - -------------------------------------- 3.3/72.2 MB 26.6 MB/s eta 0:00:03\n",
      "     -- ------------------------------------- 4.5/72.2 MB 26.0 MB/s eta 0:00:03\n",
      "     --- ------------------------------------ 5.6/72.2 MB 25.5 MB/s eta 0:00:03\n",
      "     --- ------------------------------------ 6.6/72.2 MB 24.9 MB/s eta 0:00:03\n",
      "     ---- ----------------------------------- 7.8/72.2 MB 24.9 MB/s eta 0:00:03\n",
      "     ---- ----------------------------------- 8.9/72.2 MB 24.7 MB/s eta 0:00:03\n",
      "     ----- --------------------------------- 10.0/72.2 MB 24.6 MB/s eta 0:00:03\n",
      "     ----- --------------------------------- 10.7/72.2 MB 25.2 MB/s eta 0:00:03\n",
      "     ----- --------------------------------- 10.7/72.2 MB 21.8 MB/s eta 0:00:03\n",
      "     ----- --------------------------------- 10.8/72.2 MB 19.8 MB/s eta 0:00:04\n",
      "     ----- --------------------------------- 11.0/72.2 MB 18.7 MB/s eta 0:00:04\n",
      "     ------ -------------------------------- 11.3/72.2 MB 17.7 MB/s eta 0:00:04\n",
      "     ------ -------------------------------- 12.1/72.2 MB 16.8 MB/s eta 0:00:04\n",
      "     ------- ------------------------------- 13.3/72.2 MB 16.8 MB/s eta 0:00:04\n",
      "     ------- ------------------------------- 14.3/72.2 MB 16.8 MB/s eta 0:00:04\n",
      "     -------- ------------------------------ 15.3/72.2 MB 16.8 MB/s eta 0:00:04\n",
      "     -------- ------------------------------ 16.0/72.2 MB 16.8 MB/s eta 0:00:04\n",
      "     -------- ------------------------------ 16.3/72.2 MB 15.6 MB/s eta 0:00:04\n",
      "     -------- ------------------------------ 16.6/72.2 MB 14.6 MB/s eta 0:00:04\n",
      "     --------- ----------------------------- 16.8/72.2 MB 14.9 MB/s eta 0:00:04\n",
      "     --------- ----------------------------- 16.9/72.2 MB 13.9 MB/s eta 0:00:04\n",
      "     --------- ----------------------------- 17.0/72.2 MB 13.1 MB/s eta 0:00:05\n",
      "     --------- ----------------------------- 17.0/72.2 MB 12.1 MB/s eta 0:00:05\n",
      "     --------- ----------------------------- 17.2/72.2 MB 11.7 MB/s eta 0:00:05\n",
      "     --------- ----------------------------- 17.4/72.2 MB 10.9 MB/s eta 0:00:06\n",
      "     --------- ----------------------------- 17.7/72.2 MB 10.6 MB/s eta 0:00:06\n",
      "     ---------- ---------------------------- 18.7/72.2 MB 10.6 MB/s eta 0:00:06\n",
      "     ---------- ---------------------------- 19.8/72.2 MB 10.6 MB/s eta 0:00:05\n",
      "     ----------- --------------------------- 20.9/72.2 MB 10.4 MB/s eta 0:00:05\n",
      "     ----------- --------------------------- 21.2/72.2 MB 11.7 MB/s eta 0:00:05\n",
      "     ----------- --------------------------- 21.3/72.2 MB 11.5 MB/s eta 0:00:05\n",
      "     ----------- --------------------------- 21.5/72.2 MB 11.3 MB/s eta 0:00:05\n",
      "     ----------- --------------------------- 21.8/72.2 MB 10.9 MB/s eta 0:00:05\n",
      "     ------------ -------------------------- 22.6/72.2 MB 10.7 MB/s eta 0:00:05\n",
      "     ------------ -------------------------- 23.7/72.2 MB 10.9 MB/s eta 0:00:05\n",
      "     ------------- ------------------------- 24.8/72.2 MB 10.9 MB/s eta 0:00:05\n",
      "     -------------- ------------------------ 25.9/72.2 MB 10.9 MB/s eta 0:00:05\n",
      "     -------------- ------------------------ 27.0/72.2 MB 11.9 MB/s eta 0:00:04\n",
      "     --------------- ----------------------- 28.0/72.2 MB 17.7 MB/s eta 0:00:03\n",
      "     --------------- ----------------------- 28.7/72.2 MB 16.8 MB/s eta 0:00:03\n",
      "     --------------- ----------------------- 29.0/72.2 MB 16.4 MB/s eta 0:00:03\n",
      "     ---------------- ---------------------- 29.9/72.2 MB 16.0 MB/s eta 0:00:03\n",
      "     ---------------- ---------------------- 31.0/72.2 MB 16.0 MB/s eta 0:00:03\n",
      "     ----------------- --------------------- 32.2/72.2 MB 21.1 MB/s eta 0:00:02\n",
      "     ----------------- --------------------- 33.2/72.2 MB 21.1 MB/s eta 0:00:02\n",
      "     ------------------ -------------------- 34.4/72.2 MB 21.9 MB/s eta 0:00:02\n",
      "     ------------------- ------------------- 35.5/72.2 MB 21.9 MB/s eta 0:00:02\n",
      "     ------------------- ------------------- 36.6/72.2 MB 21.8 MB/s eta 0:00:02\n",
      "     -------------------- ------------------ 37.8/72.2 MB 21.8 MB/s eta 0:00:02\n",
      "     -------------------- ------------------ 38.0/72.2 MB 19.8 MB/s eta 0:00:02\n",
      "     -------------------- ------------------ 38.1/72.2 MB 18.2 MB/s eta 0:00:02\n",
      "     -------------------- ------------------ 38.3/72.2 MB 17.7 MB/s eta 0:00:02\n",
      "     -------------------- ------------------ 38.6/72.2 MB 16.4 MB/s eta 0:00:03\n",
      "     --------------------- ----------------- 39.7/72.2 MB 17.7 MB/s eta 0:00:02\n",
      "     ---------------------- ---------------- 40.8/72.2 MB 18.2 MB/s eta 0:00:02\n",
      "     ---------------------- ---------------- 41.7/72.2 MB 18.2 MB/s eta 0:00:02\n",
      "     ----------------------- --------------- 42.9/72.2 MB 17.7 MB/s eta 0:00:02\n",
      "     ----------------------- --------------- 43.9/72.2 MB 18.2 MB/s eta 0:00:02\n",
      "     ------------------------ -------------- 45.0/72.2 MB 17.7 MB/s eta 0:00:02\n",
      "     ------------------------ -------------- 46.0/72.2 MB 17.7 MB/s eta 0:00:02\n",
      "     ------------------------- ------------- 47.1/72.2 MB 17.7 MB/s eta 0:00:02\n",
      "     -------------------------- ------------ 48.2/72.2 MB 18.7 MB/s eta 0:00:02\n",
      "     -------------------------- ------------ 49.2/72.2 MB 23.4 MB/s eta 0:00:01\n",
      "     --------------------------- ----------- 50.2/72.2 MB 23.4 MB/s eta 0:00:01\n",
      "     --------------------------- ----------- 51.4/72.2 MB 23.4 MB/s eta 0:00:01\n",
      "     ---------------------------- ---------- 52.3/72.2 MB 22.6 MB/s eta 0:00:01\n",
      "     ---------------------------- ---------- 53.4/72.2 MB 22.6 MB/s eta 0:00:01\n",
      "     ----------------------------- --------- 54.5/72.2 MB 23.4 MB/s eta 0:00:01\n",
      "     ----------------------------- --------- 55.5/72.2 MB 22.6 MB/s eta 0:00:01\n",
      "     ------------------------------ -------- 56.6/72.2 MB 23.4 MB/s eta 0:00:01\n",
      "     ------------------------------- ------- 57.4/72.2 MB 22.6 MB/s eta 0:00:01\n",
      "     ------------------------------- ------- 58.6/72.2 MB 23.4 MB/s eta 0:00:01\n",
      "     -------------------------------- ------ 59.7/72.2 MB 23.4 MB/s eta 0:00:01\n",
      "     -------------------------------- ------ 60.9/72.2 MB 23.4 MB/s eta 0:00:01\n",
      "     --------------------------------- ----- 61.1/72.2 MB 22.6 MB/s eta 0:00:01\n",
      "     --------------------------------- ----- 61.5/72.2 MB 20.5 MB/s eta 0:00:01\n",
      "     --------------------------------- ----- 62.1/72.2 MB 19.9 MB/s eta 0:00:01\n",
      "     --------------------------------- ----- 62.2/72.2 MB 19.9 MB/s eta 0:00:01\n",
      "     --------------------------------- ----- 62.7/72.2 MB 17.2 MB/s eta 0:00:01\n",
      "     ---------------------------------- ---- 63.9/72.2 MB 17.2 MB/s eta 0:00:01\n",
      "     ---------------------------------- ---- 64.1/72.2 MB 17.2 MB/s eta 0:00:01\n",
      "     ---------------------------------- ---- 64.6/72.2 MB 15.6 MB/s eta 0:00:01\n",
      "     ----------------------------------- --- 65.7/72.2 MB 16.0 MB/s eta 0:00:01\n",
      "     ------------------------------------ -- 66.6/72.2 MB 16.0 MB/s eta 0:00:01\n",
      "     ------------------------------------ -- 67.3/72.2 MB 16.0 MB/s eta 0:00:01\n",
      "     ------------------------------------ -- 67.5/72.2 MB 14.5 MB/s eta 0:00:01\n",
      "     ------------------------------------ -- 68.3/72.2 MB 14.6 MB/s eta 0:00:01\n",
      "     ------------------------------------- - 69.3/72.2 MB 14.2 MB/s eta 0:00:01\n",
      "     ------------------------------------- - 70.2/72.2 MB 14.2 MB/s eta 0:00:01\n",
      "     --------------------------------------  71.0/72.2 MB 13.9 MB/s eta 0:00:01\n",
      "     --------------------------------------  71.6/72.2 MB 14.9 MB/s eta 0:00:01\n",
      "     --------------------------------------  71.9/72.2 MB 14.9 MB/s eta 0:00:01\n",
      "     --------------------------------------  72.2/72.2 MB 13.9 MB/s eta 0:00:01\n",
      "     --------------------------------------  72.2/72.2 MB 13.9 MB/s eta 0:00:01\n",
      "     --------------------------------------  72.2/72.2 MB 13.9 MB/s eta 0:00:01\n",
      "     --------------------------------------- 72.2/72.2 MB 11.3 MB/s eta 0:00:00\n",
      "Requirement already satisfied: bs4 in c:\\users\\fkfma\\appdata\\local\\programs\\python\\python310\\lib\\site-packages (from kss) (0.0.2)\n",
      "Requirement already satisfied: numpy in c:\\users\\fkfma\\appdata\\local\\programs\\python\\python310\\lib\\site-packages (from kss) (1.23.5)\n",
      "Collecting pytest\n",
      "  Downloading pytest-8.2.2-py3-none-any.whl (339 kB)\n",
      "     ---------------------------------------- 0.0/339.9 kB ? eta -:--:--\n",
      "     ------------------------------------- 339.9/339.9 kB 20.6 MB/s eta 0:00:00\n",
      "Requirement already satisfied: scipy in c:\\users\\fkfma\\appdata\\local\\programs\\python\\python310\\lib\\site-packages (from kss) (1.10.1)\n",
      "Requirement already satisfied: beautifulsoup4 in c:\\users\\fkfma\\appdata\\local\\programs\\python\\python310\\lib\\site-packages (from bs4->kss) (4.11.2)\n",
      "Requirement already satisfied: importlib-metadata>=5 in c:\\users\\fkfma\\appdata\\local\\programs\\python\\python310\\lib\\site-packages (from cmudict->kss) (6.6.0)\n",
      "Requirement already satisfied: importlib-resources>=5 in c:\\users\\fkfma\\appdata\\local\\programs\\python\\python310\\lib\\site-packages (from cmudict->kss) (5.12.0)\n",
      "Collecting whoosh\n",
      "  Downloading Whoosh-2.7.4-py2.py3-none-any.whl (468 kB)\n",
      "     ---------------------------------------- 0.0/468.8 kB ? eta -:--:--\n",
      "     ------------------------------------- 468.8/468.8 kB 14.8 MB/s eta 0:00:00\n",
      "Collecting xlrd==1.2.0\n",
      "  Downloading xlrd-1.2.0-py2.py3-none-any.whl (103 kB)\n",
      "     ---------------------------------------- 0.0/103.3 kB ? eta -:--:--\n",
      "     -------------------------------------- 103.3/103.3 kB 5.8 MB/s eta 0:00:00\n",
      "Requirement already satisfied: pyarrow in c:\\users\\fkfma\\appdata\\local\\programs\\python\\python310\\lib\\site-packages (from pecab->kss) (16.1.0)\n",
      "Requirement already satisfied: regex in c:\\users\\fkfma\\appdata\\local\\programs\\python\\python310\\lib\\site-packages (from pecab->kss) (2023.3.23)\n",
      "Collecting tomli>=1\n",
      "  Downloading tomli-2.0.1-py3-none-any.whl (12 kB)\n",
      "Requirement already satisfied: colorama in c:\\users\\fkfma\\appdata\\roaming\\python\\python310\\site-packages (from pytest->kss) (0.4.6)\n",
      "Requirement already satisfied: packaging in c:\\users\\fkfma\\appdata\\roaming\\python\\python310\\site-packages (from pytest->kss) (23.0)\n",
      "Requirement already satisfied: exceptiongroup>=1.0.0rc8 in c:\\users\\fkfma\\appdata\\local\\programs\\python\\python310\\lib\\site-packages (from pytest->kss) (1.2.0)\n",
      "Collecting iniconfig\n",
      "  Downloading iniconfig-2.0.0-py3-none-any.whl (5.9 kB)\n",
      "Collecting pluggy<2.0,>=1.5\n",
      "  Downloading pluggy-1.5.0-py3-none-any.whl (20 kB)\n",
      "Requirement already satisfied: bidict in c:\\users\\fkfma\\appdata\\local\\programs\\python\\python310\\lib\\site-packages (from tossi->kss) (0.22.1)\n",
      "Requirement already satisfied: six in c:\\users\\fkfma\\appdata\\roaming\\python\\python310\\site-packages (from tossi->kss) (1.16.0)\n",
      "Requirement already satisfied: zipp>=0.5 in c:\\users\\fkfma\\appdata\\local\\programs\\python\\python310\\lib\\site-packages (from importlib-metadata>=5->cmudict->kss) (3.15.0)\n",
      "Requirement already satisfied: soupsieve>1.2 in c:\\users\\fkfma\\appdata\\local\\programs\\python\\python310\\lib\\site-packages (from beautifulsoup4->bs4->kss) (2.4)\n",
      "Building wheels for collected packages: kss, distance, pecab, tossi\n",
      "  Building wheel for kss (setup.py): started\n",
      "  Building wheel for kss (setup.py): finished with status 'done'\n",
      "  Created wheel for kss: filename=kss-6.0.4-cp310-cp310-win_amd64.whl size=1148754 sha256=b74d4d5ec21cb11c8bbf41c71cf4dc78006074259a0441f82cf9b38ba38176e7\n",
      "  Stored in directory: c:\\users\\fkfma\\appdata\\local\\pip\\cache\\wheels\\dd\\70\\d5\\c9308346829b1eb9e7267d74696919d2453aee6ce350f98b3b\n",
      "  Building wheel for distance (setup.py): started\n",
      "  Building wheel for distance (setup.py): finished with status 'done'\n",
      "  Created wheel for distance: filename=Distance-0.1.3-py3-none-any.whl size=16282 sha256=7d1f263bb4b51462df2334fe58fb471a559621f7baa5ac0024ba34ce6bbade0e\n",
      "  Stored in directory: c:\\users\\fkfma\\appdata\\local\\pip\\cache\\wheels\\e8\\bb\\de\\f71bf63559ea9a921059a5405806f7ff6ed612a9231c4a9309\n",
      "  Building wheel for pecab (setup.py): started\n",
      "  Building wheel for pecab (setup.py): finished with status 'done'\n",
      "  Created wheel for pecab: filename=pecab-1.0.8-py3-none-any.whl size=26646701 sha256=b29830d8c9aea9d3648e9ae4cd639061b4af1f204ced3a8ab330b25797a7cc60\n",
      "  Stored in directory: c:\\users\\fkfma\\appdata\\local\\pip\\cache\\wheels\\5c\\6f\\b4\\ab61b8863d7d8b1409def8ae31adcaa089fa91b8d022ec309d\n",
      "  Building wheel for tossi (setup.py): started\n",
      "  Building wheel for tossi (setup.py): finished with status 'done'\n",
      "  Created wheel for tossi: filename=tossi-0.3.1-py3-none-any.whl size=12140 sha256=43c9e6999351924ea855ee1b3e2168c01e9de343aceeb91d556c3ca2027ff398\n",
      "  Stored in directory: c:\\users\\fkfma\\appdata\\local\\pip\\cache\\wheels\\a7\\18\\60\\1094a6fe93c8063efcd3e6700d09328216682e495a3c51af9f\n",
      "Successfully built kss distance pecab tossi\n",
      "Installing collected packages: whoosh, jamo, hangul-jamo, emoji, distance, xlrd, unidecode, tossi, tomli, pluggy, kollocate, iniconfig, pytest, koparadigm, cmudict, pecab, kss\n",
      "  Attempting uninstall: xlrd\n",
      "    Found existing installation: xlrd 2.0.1\n",
      "    Uninstalling xlrd-2.0.1:\n",
      "      Successfully uninstalled xlrd-2.0.1\n",
      "Successfully installed cmudict-1.0.24 distance-0.1.3 emoji-1.2.0 hangul-jamo-1.0.1 iniconfig-2.0.0 jamo-0.4.1 kollocate-0.0.2 koparadigm-0.10.0 kss-6.0.4 pecab-1.0.8 pluggy-1.5.0 pytest-8.2.2 tomli-2.0.1 tossi-0.3.1 unidecode-1.3.8 whoosh-2.7.4 xlrd-1.2.0\n",
      "Note: you may need to restart the kernel to use updated packages.\n"
     ]
    },
    {
     "name": "stderr",
     "output_type": "stream",
     "text": [
      "WARNING: Ignoring invalid distribution -rotobuf (c:\\users\\fkfma\\appdata\\local\\programs\\python\\python310\\lib\\site-packages)\n",
      "WARNING: Ignoring invalid distribution -rotobuf (c:\\users\\fkfma\\appdata\\local\\programs\\python\\python310\\lib\\site-packages)\n",
      "WARNING: Ignoring invalid distribution -rotobuf (c:\\users\\fkfma\\appdata\\local\\programs\\python\\python310\\lib\\site-packages)\n",
      "    WARNING: Ignoring invalid distribution -rotobuf (c:\\users\\fkfma\\appdata\\local\\programs\\python\\python310\\lib\\site-packages)\n",
      "WARNING: Ignoring invalid distribution -rotobuf (c:\\users\\fkfma\\appdata\\local\\programs\\python\\python310\\lib\\site-packages)\n",
      "WARNING: Ignoring invalid distribution -rotobuf (c:\\users\\fkfma\\appdata\\local\\programs\\python\\python310\\lib\\site-packages)\n",
      "WARNING: Ignoring invalid distribution -rotobuf (c:\\users\\fkfma\\appdata\\local\\programs\\python\\python310\\lib\\site-packages)\n",
      "WARNING: Ignoring invalid distribution -rotobuf (c:\\users\\fkfma\\appdata\\local\\programs\\python\\python310\\lib\\site-packages)\n",
      "WARNING: Ignoring invalid distribution -rotobuf (c:\\users\\fkfma\\appdata\\local\\programs\\python\\python310\\lib\\site-packages)\n",
      "WARNING: Ignoring invalid distribution -rotobuf (c:\\users\\fkfma\\appdata\\local\\programs\\python\\python310\\lib\\site-packages)\n",
      "WARNING: Ignoring invalid distribution -rotobuf (c:\\users\\fkfma\\appdata\\local\\programs\\python\\python310\\lib\\site-packages)\n",
      "WARNING: Ignoring invalid distribution -rotobuf (c:\\users\\fkfma\\appdata\\local\\programs\\python\\python310\\lib\\site-packages)\n",
      "WARNING: Ignoring invalid distribution -rotobuf (c:\\users\\fkfma\\appdata\\local\\programs\\python\\python310\\lib\\site-packages)\n",
      "WARNING: Ignoring invalid distribution -rotobuf (c:\\users\\fkfma\\appdata\\local\\programs\\python\\python310\\lib\\site-packages)\n",
      "WARNING: Ignoring invalid distribution -rotobuf (c:\\users\\fkfma\\appdata\\local\\programs\\python\\python310\\lib\\site-packages)\n",
      "WARNING: Ignoring invalid distribution -rotobuf (c:\\users\\fkfma\\appdata\\local\\programs\\python\\python310\\lib\\site-packages)\n",
      "WARNING: Ignoring invalid distribution -rotobuf (c:\\users\\fkfma\\appdata\\local\\programs\\python\\python310\\lib\\site-packages)\n",
      "WARNING: Ignoring invalid distribution -rotobuf (c:\\users\\fkfma\\appdata\\local\\programs\\python\\python310\\lib\\site-packages)\n",
      "WARNING: Ignoring invalid distribution -rotobuf (c:\\users\\fkfma\\appdata\\local\\programs\\python\\python310\\lib\\site-packages)\n",
      "WARNING: Ignoring invalid distribution -rotobuf (c:\\users\\fkfma\\appdata\\local\\programs\\python\\python310\\lib\\site-packages)\n",
      "WARNING: Ignoring invalid distribution -rotobuf (c:\\users\\fkfma\\appdata\\local\\programs\\python\\python310\\lib\\site-packages)\n",
      "WARNING: Ignoring invalid distribution -rotobuf (c:\\users\\fkfma\\appdata\\local\\programs\\python\\python310\\lib\\site-packages)\n",
      "WARNING: Ignoring invalid distribution -rotobuf (c:\\users\\fkfma\\appdata\\local\\programs\\python\\python310\\lib\\site-packages)\n",
      "WARNING: Ignoring invalid distribution -rotobuf (c:\\users\\fkfma\\appdata\\local\\programs\\python\\python310\\lib\\site-packages)\n",
      "\n",
      "[notice] A new release of pip is available: 23.0.1 -> 24.1.1\n",
      "[notice] To update, run: python.exe -m pip install --upgrade pip\n"
     ]
    }
   ],
   "source": [
    "pip install kss"
   ]
  },
  {
   "cell_type": "code",
   "execution_count": 16,
   "metadata": {},
   "outputs": [
    {
     "name": "stderr",
     "output_type": "stream",
     "text": [
      "[Kss]: Oh! You have mecab in your environment. Kss will take this as a backend! :D\n",
      "\n"
     ]
    },
    {
     "name": "stdout",
     "output_type": "stream",
     "text": [
      "한국어 문장 토큰화 : ['딥 러닝 자연어 처리가 재미있기는 합니다.', '그런데 문제는 영어보다 한국어로 할 때 너무 어렵습니다.', '이제 해보면 알걸요?']\n"
     ]
    }
   ],
   "source": [
    "import kss\n",
    "\n",
    "text = '딥 러닝 자연어 처리가 재미있기는 합니다. 그런데 문제는 영어보다 한국어로 할 때 너무 어렵습니다. 이제 해보면 알걸요?'\n",
    "print('한국어 문장 토큰화 :',kss.split_sentences(text))\n"
   ]
  },
  {
   "cell_type": "code",
   "execution_count": null,
   "metadata": {},
   "outputs": [],
   "source": [
    "# 한국어는 토큰화가 어려움\n",
    "# 영어의 경우, 합성어와 he's같은 줄임말에 대한 예외처리한 뒤 띄어쓰기 기준으로 토큰화를 진행하면 단어 토큰화가 잘됨\n",
    "# 하지만 한국어는 띄어쓰기만으로 토큰화하기에 부족함\n",
    "# 띄어쓰기 단위가 되는 것을 '어절'이라고 하는데 어절 토큰화는 한국어 NLP에서 지양되고 있음\n",
    "# 어절 토큰화와 단어 토큰화는 다르기 때문임\n",
    "# 한국어는 '교착어'라는 점이 문제인데 교착어는 조사, 어미 등을 붙여서 말을 만드는 언어를 말함\n",
    "# 한국어는 조사등의 것들을 전부 분리해야됨\n",
    "# 형태소는 가장 작은 말의 단위를 뜻함\n",
    "# 추가로 한국어는 띄어쓰기가 영어보다 잘 안지켜짐\n",
    "# '품사 태깅'이란 단어 토큰화 과정에서 각 단어가 어떤 품사로 쓰였는지 구분해놓는 작업"
   ]
  },
  {
   "cell_type": "code",
   "execution_count": 18,
   "metadata": {},
   "outputs": [
    {
     "name": "stderr",
     "output_type": "stream",
     "text": [
      "[nltk_data] Downloading package averaged_perceptron_tagger to\n",
      "[nltk_data]     C:\\Users\\fkfma\\AppData\\Roaming\\nltk_data...\n",
      "[nltk_data]   Unzipping taggers\\averaged_perceptron_tagger.zip.\n"
     ]
    },
    {
     "data": {
      "text/plain": [
       "True"
      ]
     },
     "execution_count": 18,
     "metadata": {},
     "output_type": "execute_result"
    }
   ],
   "source": [
    "nltk.download('averaged_perceptron_tagger')"
   ]
  },
  {
   "cell_type": "code",
   "execution_count": 19,
   "metadata": {},
   "outputs": [
    {
     "name": "stdout",
     "output_type": "stream",
     "text": [
      "단어 토큰화 : ['I', 'am', 'actively', 'looking', 'for', 'Ph.D.', 'students', '.', 'and', 'you', 'are', 'a', 'Ph.D.', 'student', '.']\n",
      "품사 태깅 : [('I', 'PRP'), ('am', 'VBP'), ('actively', 'RB'), ('looking', 'VBG'), ('for', 'IN'), ('Ph.D.', 'NNP'), ('students', 'NNS'), ('.', '.'), ('and', 'CC'), ('you', 'PRP'), ('are', 'VBP'), ('a', 'DT'), ('Ph.D.', 'NNP'), ('student', 'NN'), ('.', '.')]\n"
     ]
    }
   ],
   "source": [
    "from nltk.tokenize import word_tokenize\n",
    "from nltk.tag import pos_tag\n",
    "\n",
    "text = \"I am actively looking for Ph.D. students. and you are a Ph.D. student.\"\n",
    "tokenized_sentence = word_tokenize(text)\n",
    "\n",
    "print('단어 토큰화 :',tokenized_sentence)\n",
    "print('품사 태깅 :',pos_tag(tokenized_sentence))\n"
   ]
  },
  {
   "cell_type": "code",
   "execution_count": 20,
   "metadata": {},
   "outputs": [
    {
     "name": "stdout",
     "output_type": "stream",
     "text": [
      "OKT 형태소 분석 : ['열심히', '코딩', '한', '당신', ',', '연휴', '에는', '여행', '을', '가봐요']\n",
      "OKT 품사 태깅 : [('열심히', 'Adverb'), ('코딩', 'Noun'), ('한', 'Josa'), ('당신', 'Noun'), (',', 'Punctuation'), ('연휴', 'Noun'), ('에는', 'Josa'), ('여행', 'Noun'), ('을', 'Josa'), ('가봐요', 'Verb')]\n",
      "OKT 명사 추출 : ['코딩', '당신', '연휴', '여행']\n"
     ]
    }
   ],
   "source": [
    "from konlpy.tag import Okt\n",
    "from konlpy.tag import Kkma\n",
    "\n",
    "okt = Okt()\n",
    "kkma = Kkma()\n",
    "\n",
    "print('OKT 형태소 분석 :',okt.morphs(\"열심히 코딩한 당신, 연휴에는 여행을 가봐요\"))\n",
    "print('OKT 품사 태깅 :',okt.pos(\"열심히 코딩한 당신, 연휴에는 여행을 가봐요\"))\n",
    "print('OKT 명사 추출 :',okt.nouns(\"열심히 코딩한 당신, 연휴에는 여행을 가봐요\")) \n"
   ]
  },
  {
   "cell_type": "code",
   "execution_count": 21,
   "metadata": {},
   "outputs": [
    {
     "name": "stdout",
     "output_type": "stream",
     "text": [
      "꼬꼬마 형태소 분석 : ['열심히', '코딩', '하', 'ㄴ', '당신', ',', '연휴', '에', '는', '여행', '을', '가보', '아요']\n",
      "꼬꼬마 품사 태깅 : [('열심히', 'MAG'), ('코딩', 'NNG'), ('하', 'XSV'), ('ㄴ', 'ETD'), ('당신', 'NP'), (',', 'SP'), ('연휴', 'NNG'), ('에', 'JKM'), ('는', 'JX'), ('여행', 'NNG'), ('을', 'JKO'), ('가보', 'VV'), ('아요', 'EFN')]\n",
      "꼬꼬마 명사 추출 : ['코딩', '당신', '연휴', '여행']\n"
     ]
    }
   ],
   "source": [
    "print('꼬꼬마 형태소 분석 :',kkma.morphs(\"열심히 코딩한 당신, 연휴에는 여행을 가봐요\"))\n",
    "print('꼬꼬마 품사 태깅 :',kkma.pos(\"열심히 코딩한 당신, 연휴에는 여행을 가봐요\"))\n",
    "print('꼬꼬마 명사 추출 :',kkma.nouns(\"열심히 코딩한 당신, 연휴에는 여행을 가봐요\"))  "
   ]
  },
  {
   "cell_type": "code",
   "execution_count": 22,
   "metadata": {},
   "outputs": [],
   "source": [
    "# 위의 사용같은 경우는 konlpy를 사용했지만 메캅을 이용하면 속도가 더 빠름.\n",
    "# 다만 용도에 따라 적절하다고 판단하는 것을 사용해야됨"
   ]
  },
  {
   "cell_type": "code",
   "execution_count": null,
   "metadata": {},
   "outputs": [],
   "source": [
    "# 정제 과정은 반드시 해야됨\n",
    "# 정제는 불필요한 단어를 제거하는 작업(코퍼스로부터 노이즈 데이터를 제거)\n",
    "# 정규화: 표현 방법이 다른 단어를 통합시켜 같은 단어로 만드는 것(반드시 통일해야 하며 안할경우 전혀 다른 의미가 되기도 함)\n",
    "# 정규화가 돼야 하는 예시로, '한국', '대한민국', '조선' 등은 같은 국가를 의미하므로 정규화가 필요함\n",
    "# 그러나 완벽한 정규화는 어려우므로 합의점을 탐색하기도 함\n",
    "\n",
    "# 영어권에서는 대,소문자를 통합하는 것은 단어를 줄일 수 있음\n",
    "# 물론 예외상황도 있는데 us(우리)와 US(미국)는 전혀 다른 언어이므로 대소문자 구분이 필요할 수 있음\n",
    "# 그리고 사람 이름같은 경우도 트럼프라는 전 대통령을 생각하면 카드게임종류와 구분될 필요 있음\n",
    "\n",
    "# 노이즈 데이터는 '불용어'라고도 함\n",
    "# 등장 빈도가 적은 단어, 불용어 등을 제거하는 것이 좋음(차원을 줄이기 위해서 필요)\n",
    "# 길이가 짧은 단어의 경우도 의미가 없는 경우도 많음(영미권에서는 거의 불용어라고는 함...)\n",
    "# 길이가 1인 단어를 제거하면 대부분 주어로 쓰이는 I, 관사 a가 제거됨\n",
    "# 길이가 2인 단어를 제거한다면 it, at, to, on, in, by,... 등과 같은 불용어에 해당되는 단어들이 제거될 수 있음(물론 주의해야함)\n",
    "# 길이가 3인 단어도 제거할 수 있지만 car, fox, dog, car 등의 명사가 제거될 수 있으므로 주의해야함"
   ]
  },
  {
   "cell_type": "code",
   "execution_count": 23,
   "metadata": {},
   "outputs": [
    {
     "name": "stdout",
     "output_type": "stream",
     "text": [
      " was wondering anyone out there could enlighten this car.\n"
     ]
    }
   ],
   "source": [
    "import re\n",
    "text = \"I was wondering if anyone out there could enlighten me on this car.\"\n",
    "\n",
    "# 길이가 1~2인 단어들을 정규 표현식을 이용하여 삭제\n",
    "shortword = re.compile(r'\\W*\\b\\w{1,2}\\b')\n",
    "print(shortword.sub('', text))"
   ]
  },
  {
   "cell_type": "code",
   "execution_count": null,
   "metadata": {},
   "outputs": [],
   "source": [
    "# 어간 추출\n",
    "# 서로 다르지만 하나의 단어로 일반화시킬 수 있다면 하나의 단어로 일반화시켜 문서 내의 단어 수를 줄임(다만 가급적이면 안 줄이는 것이 좋음)\n",
    "# 위는 코퍼스로부터 복잡성을 줄이는 일임"
   ]
  },
  {
   "cell_type": "code",
   "execution_count": 25,
   "metadata": {},
   "outputs": [
    {
     "name": "stderr",
     "output_type": "stream",
     "text": [
      "[nltk_data] Downloading package wordnet to\n",
      "[nltk_data]     C:\\Users\\fkfma\\AppData\\Roaming\\nltk_data...\n"
     ]
    },
    {
     "data": {
      "text/plain": [
       "True"
      ]
     },
     "execution_count": 25,
     "metadata": {},
     "output_type": "execute_result"
    }
   ],
   "source": [
    "nltk.download('wordnet')"
   ]
  },
  {
   "cell_type": "code",
   "execution_count": 26,
   "metadata": {},
   "outputs": [
    {
     "name": "stdout",
     "output_type": "stream",
     "text": [
      "표제어 추출 전 : ['policy', 'doing', 'organization', 'have', 'going', 'love', 'lives', 'fly', 'dies', 'watched', 'has', 'starting']\n",
      "표제어 추출 후 : ['policy', 'doing', 'organization', 'have', 'going', 'love', 'life', 'fly', 'dy', 'watched', 'ha', 'starting']\n"
     ]
    }
   ],
   "source": [
    "from nltk.stem import WordNetLemmatizer\n",
    "\n",
    "lemmatizer = WordNetLemmatizer()\n",
    "\n",
    "words = ['policy', 'doing', 'organization', 'have', 'going', 'love', 'lives', 'fly', 'dies', 'watched', 'has', 'starting']\n",
    "\n",
    "print('표제어 추출 전 :',words)\n",
    "print('표제어 추출 후 :',[lemmatizer.lemmatize(word) for word in words])"
   ]
  },
  {
   "cell_type": "code",
   "execution_count": 27,
   "metadata": {},
   "outputs": [],
   "source": [
    "# 표제어는 '기본 사전형 단어' 라는 의미를 가짐\n",
    "# 표제어 추출은 단어들이 다른 형태를 가지더라도 그 뿌리 단어를 찾아가서 단어의 개수를 줄일 수 있는지 판단함\n",
    "# am, are, is 는 be가 뿌리라고 볼수 있듯, 이 단어들의 표제어는 be라고 함\n",
    "\n",
    "# 어간은 단어의 의미를 담고 있는 단어의 핵심 부분\n",
    "# 접사는 단어에 추가적인 의미를 주는 부분\n",
    "# 형태학적 파싱은 두 가지 구성 요소를 분리하는 작업"
   ]
  },
  {
   "cell_type": "code",
   "execution_count": 28,
   "metadata": {},
   "outputs": [
    {
     "name": "stdout",
     "output_type": "stream",
     "text": [
      "표제어 추출 전 : ['policy', 'doing', 'organization', 'have', 'going', 'love', 'lives', 'fly', 'dies', 'watched', 'has', 'starting']\n",
      "표제어 추출 후 : ['policy', 'doing', 'organization', 'have', 'going', 'love', 'life', 'fly', 'dy', 'watched', 'ha', 'starting']\n"
     ]
    }
   ],
   "source": [
    "from nltk.stem import WordNetLemmatizer\n",
    "\n",
    "lemmatizer = WordNetLemmatizer()\n",
    "\n",
    "words = ['policy', 'doing', 'organization', 'have', 'going', 'love', 'lives', 'fly', 'dies', 'watched', 'has', 'starting']\n",
    "\n",
    "print('표제어 추출 전 :',words)\n",
    "print('표제어 추출 후 :',[lemmatizer.lemmatize(word) for word in words])"
   ]
  },
  {
   "cell_type": "code",
   "execution_count": 29,
   "metadata": {},
   "outputs": [],
   "source": [
    "# 다만 위와 같이 dies를 dy로 추출되거나 has를 ha로 추출하는 등 불완전한 요소도 존재함"
   ]
  },
  {
   "cell_type": "code",
   "execution_count": 30,
   "metadata": {},
   "outputs": [
    {
     "data": {
      "text/plain": [
       "'die'"
      ]
     },
     "execution_count": 30,
     "metadata": {},
     "output_type": "execute_result"
    }
   ],
   "source": [
    "lemmatizer.lemmatize('dies', 'v') # 입력 단어가 동사 품사라는 사실을 알려줌"
   ]
  },
  {
   "cell_type": "code",
   "execution_count": 31,
   "metadata": {},
   "outputs": [
    {
     "data": {
      "text/plain": [
       "'have'"
      ]
     },
     "execution_count": 31,
     "metadata": {},
     "output_type": "execute_result"
    }
   ],
   "source": [
    "lemmatizer.lemmatize('has', 'v')"
   ]
  },
  {
   "cell_type": "code",
   "execution_count": 32,
   "metadata": {},
   "outputs": [
    {
     "name": "stdout",
     "output_type": "stream",
     "text": [
      "어간 추출 전 : ['This', 'was', 'not', 'the', 'map', 'we', 'found', 'in', 'Billy', 'Bones', \"'s\", 'chest', ',', 'but', 'an', 'accurate', 'copy', ',', 'complete', 'in', 'all', 'things', '--', 'names', 'and', 'heights', 'and', 'soundings', '--', 'with', 'the', 'single', 'exception', 'of', 'the', 'red', 'crosses', 'and', 'the', 'written', 'notes', '.']\n",
      "어간 추출 후 : ['thi', 'wa', 'not', 'the', 'map', 'we', 'found', 'in', 'billi', 'bone', \"'s\", 'chest', ',', 'but', 'an', 'accur', 'copi', ',', 'complet', 'in', 'all', 'thing', '--', 'name', 'and', 'height', 'and', 'sound', '--', 'with', 'the', 'singl', 'except', 'of', 'the', 'red', 'cross', 'and', 'the', 'written', 'note', '.']\n"
     ]
    }
   ],
   "source": [
    "from nltk.stem import PorterStemmer\n",
    "from nltk.tokenize import word_tokenize\n",
    "\n",
    "stemmer = PorterStemmer()\n",
    "\n",
    "sentence = \"This was not the map we found in Billy Bones's chest, but an accurate copy, complete in all things--names and heights and soundings--with the single exception of the red crosses and the written notes.\"\n",
    "tokenized_sentence = word_tokenize(sentence)\n",
    "\n",
    "print('어간 추출 전 :', tokenized_sentence)\n",
    "print('어간 추출 후 :',[stemmer.stem(word) for word in tokenized_sentence])"
   ]
  },
  {
   "cell_type": "code",
   "execution_count": null,
   "metadata": {},
   "outputs": [],
   "source": [
    "# 위는 porter 알고리즘이라고 함"
   ]
  },
  {
   "cell_type": "code",
   "execution_count": 33,
   "metadata": {},
   "outputs": [
    {
     "name": "stdout",
     "output_type": "stream",
     "text": [
      "어간 추출 전 : ['formalize', 'allowance', 'electricical']\n",
      "어간 추출 후 : ['formal', 'allow', 'electric']\n"
     ]
    }
   ],
   "source": [
    "words = ['formalize', 'allowance', 'electricical']\n",
    "\n",
    "print('어간 추출 전 :',words)\n",
    "print('어간 추출 후 :',[stemmer.stem(word) for word in words])"
   ]
  },
  {
   "cell_type": "code",
   "execution_count": null,
   "metadata": {},
   "outputs": [],
   "source": [
    "# 포터 어간 추출기는 정확도가 높고 빠르므로 영어 자연어 처리에서 어간 추출한다면 좋은 선택지임"
   ]
  },
  {
   "cell_type": "code",
   "execution_count": 34,
   "metadata": {},
   "outputs": [],
   "source": [
    "from nltk.corpus import stopwords\n",
    "from nltk.tokenize import word_tokenize \n",
    "from konlpy.tag import Okt"
   ]
  },
  {
   "cell_type": "code",
   "execution_count": 36,
   "metadata": {},
   "outputs": [
    {
     "name": "stderr",
     "output_type": "stream",
     "text": [
      "[nltk_data] Downloading package stopwords to\n",
      "[nltk_data]     C:\\Users\\fkfma\\AppData\\Roaming\\nltk_data...\n",
      "[nltk_data]   Unzipping corpora\\stopwords.zip.\n"
     ]
    },
    {
     "data": {
      "text/plain": [
       "True"
      ]
     },
     "execution_count": 36,
     "metadata": {},
     "output_type": "execute_result"
    }
   ],
   "source": [
    "nltk.download('stopwords')"
   ]
  },
  {
   "cell_type": "code",
   "execution_count": 37,
   "metadata": {},
   "outputs": [
    {
     "name": "stdout",
     "output_type": "stream",
     "text": [
      "불용어 개수 : 179\n",
      "불용어 10개 출력 : ['i', 'me', 'my', 'myself', 'we', 'our', 'ours', 'ourselves', 'you', \"you're\"]\n"
     ]
    }
   ],
   "source": [
    "stop_words_list = stopwords.words('english')\n",
    "print('불용어 개수 :', len(stop_words_list))\n",
    "print('불용어 10개 출력 :',stop_words_list[:10])"
   ]
  },
  {
   "cell_type": "code",
   "execution_count": 38,
   "metadata": {},
   "outputs": [
    {
     "data": {
      "text/plain": [
       "['i',\n",
       " 'me',\n",
       " 'my',\n",
       " 'myself',\n",
       " 'we',\n",
       " 'our',\n",
       " 'ours',\n",
       " 'ourselves',\n",
       " 'you',\n",
       " \"you're\",\n",
       " \"you've\",\n",
       " \"you'll\",\n",
       " \"you'd\",\n",
       " 'your',\n",
       " 'yours',\n",
       " 'yourself',\n",
       " 'yourselves',\n",
       " 'he',\n",
       " 'him',\n",
       " 'his',\n",
       " 'himself',\n",
       " 'she',\n",
       " \"she's\",\n",
       " 'her',\n",
       " 'hers',\n",
       " 'herself',\n",
       " 'it',\n",
       " \"it's\",\n",
       " 'its',\n",
       " 'itself',\n",
       " 'they',\n",
       " 'them',\n",
       " 'their',\n",
       " 'theirs',\n",
       " 'themselves',\n",
       " 'what',\n",
       " 'which',\n",
       " 'who',\n",
       " 'whom',\n",
       " 'this',\n",
       " 'that',\n",
       " \"that'll\",\n",
       " 'these',\n",
       " 'those',\n",
       " 'am',\n",
       " 'is',\n",
       " 'are',\n",
       " 'was',\n",
       " 'were',\n",
       " 'be',\n",
       " 'been',\n",
       " 'being',\n",
       " 'have',\n",
       " 'has',\n",
       " 'had',\n",
       " 'having',\n",
       " 'do',\n",
       " 'does',\n",
       " 'did',\n",
       " 'doing',\n",
       " 'a',\n",
       " 'an',\n",
       " 'the',\n",
       " 'and',\n",
       " 'but',\n",
       " 'if',\n",
       " 'or',\n",
       " 'because',\n",
       " 'as',\n",
       " 'until',\n",
       " 'while',\n",
       " 'of',\n",
       " 'at',\n",
       " 'by',\n",
       " 'for',\n",
       " 'with',\n",
       " 'about',\n",
       " 'against',\n",
       " 'between',\n",
       " 'into',\n",
       " 'through',\n",
       " 'during',\n",
       " 'before',\n",
       " 'after',\n",
       " 'above',\n",
       " 'below',\n",
       " 'to',\n",
       " 'from',\n",
       " 'up',\n",
       " 'down',\n",
       " 'in',\n",
       " 'out',\n",
       " 'on',\n",
       " 'off',\n",
       " 'over',\n",
       " 'under',\n",
       " 'again',\n",
       " 'further',\n",
       " 'then',\n",
       " 'once',\n",
       " 'here',\n",
       " 'there',\n",
       " 'when',\n",
       " 'where',\n",
       " 'why',\n",
       " 'how',\n",
       " 'all',\n",
       " 'any',\n",
       " 'both',\n",
       " 'each',\n",
       " 'few',\n",
       " 'more',\n",
       " 'most',\n",
       " 'other',\n",
       " 'some',\n",
       " 'such',\n",
       " 'no',\n",
       " 'nor',\n",
       " 'not',\n",
       " 'only',\n",
       " 'own',\n",
       " 'same',\n",
       " 'so',\n",
       " 'than',\n",
       " 'too',\n",
       " 'very',\n",
       " 's',\n",
       " 't',\n",
       " 'can',\n",
       " 'will',\n",
       " 'just',\n",
       " 'don',\n",
       " \"don't\",\n",
       " 'should',\n",
       " \"should've\",\n",
       " 'now',\n",
       " 'd',\n",
       " 'll',\n",
       " 'm',\n",
       " 'o',\n",
       " 're',\n",
       " 've',\n",
       " 'y',\n",
       " 'ain',\n",
       " 'aren',\n",
       " \"aren't\",\n",
       " 'couldn',\n",
       " \"couldn't\",\n",
       " 'didn',\n",
       " \"didn't\",\n",
       " 'doesn',\n",
       " \"doesn't\",\n",
       " 'hadn',\n",
       " \"hadn't\",\n",
       " 'hasn',\n",
       " \"hasn't\",\n",
       " 'haven',\n",
       " \"haven't\",\n",
       " 'isn',\n",
       " \"isn't\",\n",
       " 'ma',\n",
       " 'mightn',\n",
       " \"mightn't\",\n",
       " 'mustn',\n",
       " \"mustn't\",\n",
       " 'needn',\n",
       " \"needn't\",\n",
       " 'shan',\n",
       " \"shan't\",\n",
       " 'shouldn',\n",
       " \"shouldn't\",\n",
       " 'wasn',\n",
       " \"wasn't\",\n",
       " 'weren',\n",
       " \"weren't\",\n",
       " 'won',\n",
       " \"won't\",\n",
       " 'wouldn',\n",
       " \"wouldn't\"]"
      ]
     },
     "execution_count": 38,
     "metadata": {},
     "output_type": "execute_result"
    }
   ],
   "source": [
    "stopwords.words('english') # 여기서 출력되는 내용들은 전부 제거하는 단어들임"
   ]
  },
  {
   "cell_type": "code",
   "execution_count": 39,
   "metadata": {},
   "outputs": [
    {
     "name": "stdout",
     "output_type": "stream",
     "text": [
      "불용어 제거 전 : ['Family', 'is', 'not', 'an', 'important', 'thing', '.', 'It', \"'s\", 'everything', '.']\n",
      "불용어 제거 후 : ['Family', 'important', 'thing', '.', 'It', \"'s\", 'everything', '.']\n"
     ]
    }
   ],
   "source": [
    "example = \"Family is not an important thing. It's everything.\"\n",
    "stop_words = set(stopwords.words('english')) \n",
    "\n",
    "word_tokens = word_tokenize(example)\n",
    "\n",
    "result = []\n",
    "for word in word_tokens: \n",
    "    if word not in stop_words: \n",
    "        result.append(word) \n",
    "\n",
    "print('불용어 제거 전 :',word_tokens) \n",
    "print('불용어 제거 후 :',result)"
   ]
  },
  {
   "cell_type": "code",
   "execution_count": 40,
   "metadata": {},
   "outputs": [
    {
     "name": "stdout",
     "output_type": "stream",
     "text": [
      "불용어 제거 전 : ['고기', '를', '아무렇게나', '구', '우려', '고', '하면', '안', '돼', '.', '고기', '라고', '다', '같은', '게', '아니거든', '.', '예컨대', '삼겹살', '을', '구울', '때', '는', '중요한', '게', '있지', '.']\n",
      "불용어 제거 후 : ['고기', '하면', '.', '고기', '라고', '다', '아니거든', '.', '예컨대', '삼겹살', '을', '중요한', '있지', '.']\n"
     ]
    }
   ],
   "source": [
    "okt = Okt()\n",
    "\n",
    "example = \"고기를 아무렇게나 구우려고 하면 안 돼. 고기라고 다 같은 게 아니거든. 예컨대 삼겹살을 구울 때는 중요한 게 있지.\"\n",
    "stop_words = \"를 아무렇게나 구 우려 고 안 돼 같은 게 구울 때 는\"\n",
    "\n",
    "stop_words = set(stop_words.split(' '))\n",
    "word_tokens = okt.morphs(example)\n",
    "\n",
    "result = [word for word in word_tokens if not word in stop_words]\n",
    "\n",
    "print('불용어 제거 전 :',word_tokens) \n",
    "print('불용어 제거 후 :',result)"
   ]
  },
  {
   "cell_type": "code",
   "execution_count": 41,
   "metadata": {},
   "outputs": [],
   "source": [
    "from nltk.tokenize import sent_tokenize\n",
    "from nltk.tokenize import word_tokenize\n",
    "from nltk.corpus import stopwords"
   ]
  },
  {
   "cell_type": "code",
   "execution_count": 43,
   "metadata": {},
   "outputs": [],
   "source": [
    "raw_text = \"A barber is a person. a barber is good person. a barber is huge person. he Knew A Secret! The Secret He Kept is huge secret. Huge secret. His barber kept his word. a barber kept his word. His barber kept his secret. But keeping and keeping such a huge secret to himself was driving the barber crazy. the barber went up a huge mountain.\"\n"
   ]
  },
  {
   "cell_type": "code",
   "execution_count": 44,
   "metadata": {},
   "outputs": [
    {
     "name": "stdout",
     "output_type": "stream",
     "text": [
      "['A barber is a person.', 'a barber is good person.', 'a barber is huge person.', 'he Knew A Secret!', 'The Secret He Kept is huge secret.', 'Huge secret.', 'His barber kept his word.', 'a barber kept his word.', 'His barber kept his secret.', 'But keeping and keeping such a huge secret to himself was driving the barber crazy.', 'the barber went up a huge mountain.']\n"
     ]
    }
   ],
   "source": [
    "# 문장 토큰화\n",
    "sentences = sent_tokenize(raw_text)\n",
    "print(sentences)"
   ]
  },
  {
   "cell_type": "code",
   "execution_count": 45,
   "metadata": {},
   "outputs": [
    {
     "name": "stdout",
     "output_type": "stream",
     "text": [
      "[['barber', 'person'], ['barber', 'good', 'person'], ['barber', 'huge', 'person'], ['knew', 'secret'], ['secret', 'kept', 'huge', 'secret'], ['huge', 'secret'], ['barber', 'kept', 'word'], ['barber', 'kept', 'word'], ['barber', 'kept', 'secret'], ['keeping', 'keeping', 'huge', 'secret', 'driving', 'barber', 'crazy'], ['barber', 'went', 'huge', 'mountain']]\n"
     ]
    }
   ],
   "source": [
    "vocab = {}\n",
    "preprocessed_sentences = []\n",
    "stop_words = set(stopwords.words('english'))\n",
    "\n",
    "for sentence in sentences:\n",
    "    # 단어 토큰화\n",
    "    tokenized_sentence = word_tokenize(sentence)\n",
    "    result = []\n",
    "\n",
    "    for word in tokenized_sentence: \n",
    "        word = word.lower() # 모든 단어를 소문자화하여 단어의 개수를 줄인다.\n",
    "        if word not in stop_words: # 단어 토큰화 된 결과에 대해서 불용어를 제거한다.\n",
    "            if len(word) > 2: # 단어 길이가 2이하인 경우에 대하여 추가로 단어를 제거한다.\n",
    "                result.append(word)\n",
    "                if word not in vocab:\n",
    "                    vocab[word] = 0 \n",
    "                vocab[word] += 1\n",
    "    preprocessed_sentences.append(result) \n",
    "print(preprocessed_sentences)"
   ]
  },
  {
   "cell_type": "code",
   "execution_count": 46,
   "metadata": {},
   "outputs": [
    {
     "name": "stdout",
     "output_type": "stream",
     "text": [
      "단어 집합 : {'barber': 8, 'person': 3, 'good': 1, 'huge': 5, 'knew': 1, 'secret': 6, 'kept': 4, 'word': 2, 'keeping': 2, 'driving': 1, 'crazy': 1, 'went': 1, 'mountain': 1}\n"
     ]
    }
   ],
   "source": [
    "print('단어 집합 :',vocab)"
   ]
  },
  {
   "cell_type": "code",
   "execution_count": 48,
   "metadata": {},
   "outputs": [
    {
     "name": "stdout",
     "output_type": "stream",
     "text": [
      "[('barber', 8), ('secret', 6), ('huge', 5), ('kept', 4), ('person', 3), ('word', 2), ('keeping', 2), ('good', 1), ('knew', 1), ('driving', 1), ('crazy', 1), ('went', 1), ('mountain', 1)]\n"
     ]
    }
   ],
   "source": [
    "# 빈도수 출력\n",
    "vocab_sorted = sorted(vocab.items(), key = lambda x:x[1], reverse = True)\n",
    "print(vocab_sorted)"
   ]
  },
  {
   "cell_type": "code",
   "execution_count": 49,
   "metadata": {},
   "outputs": [
    {
     "name": "stdout",
     "output_type": "stream",
     "text": [
      "{'barber': 1, 'secret': 2, 'huge': 3, 'kept': 4, 'person': 5, 'word': 6, 'keeping': 7}\n"
     ]
    }
   ],
   "source": [
    "word_to_index = {}\n",
    "i = 0\n",
    "for (word, frequency) in vocab_sorted :\n",
    "    if frequency > 1 : # 빈도수가 작은 단어는 제외.\n",
    "        i = i + 1\n",
    "        word_to_index[word] = i\n",
    "\n",
    "print(word_to_index)\n",
    "# 보통 이렇게는 잘 안하는 듯함"
   ]
  },
  {
   "cell_type": "code",
   "execution_count": 50,
   "metadata": {},
   "outputs": [],
   "source": [
    "# 결론적으로 현재까지 raw_text의 문장에서 단어로 분리, 단어에서 불용어 제거, 이후 빈도수가 낮으면 삭제, 이외에 단어들을 인코딩을 진행함\n",
    "# 근데 이런 진행은 보통 잘 안함"
   ]
  },
  {
   "cell_type": "code",
   "execution_count": 51,
   "metadata": {},
   "outputs": [
    {
     "name": "stdout",
     "output_type": "stream",
     "text": [
      "{'barber': 1, 'secret': 2, 'huge': 3, 'kept': 4, 'person': 5}\n"
     ]
    }
   ],
   "source": [
    "vocab_size = 5\n",
    "\n",
    "# 인덱스가 5 초과인 단어 제거\n",
    "words_frequency = [word for word, index in word_to_index.items() if index >= vocab_size + 1]\n",
    "\n",
    "# 해당 단어에 대한 인덱스 정보를 삭제\n",
    "for w in words_frequency:\n",
    "    del word_to_index[w]\n",
    "print(word_to_index)"
   ]
  },
  {
   "cell_type": "code",
   "execution_count": null,
   "metadata": {},
   "outputs": [],
   "source": [
    "# word_to_index에는 빈도수가 높은 상위 5개 단어만 저장됨\n",
    "# sentences에 들어있는 문장을 인코딩하는 작업을 진행\n",
    "# 단어별로 인덱스가 부여되어 있는 사전에 sentences에 들어있지만 word_to_index에 없는 단어는 Out-Of-Vocabulary(OOV)라고 함"
   ]
  },
  {
   "cell_type": "code",
   "execution_count": 53,
   "metadata": {},
   "outputs": [
    {
     "name": "stdout",
     "output_type": "stream",
     "text": [
      "{'barber': 1, 'secret': 2, 'huge': 3, 'kept': 4, 'person': 5, 'OOV': 6}\n"
     ]
    }
   ],
   "source": [
    "word_to_index['OOV'] = len(word_to_index) + 1\n",
    "print(word_to_index)"
   ]
  },
  {
   "cell_type": "code",
   "execution_count": 54,
   "metadata": {},
   "outputs": [
    {
     "name": "stdout",
     "output_type": "stream",
     "text": [
      "[[1, 5], [1, 6, 5], [1, 3, 5], [6, 2], [2, 4, 3, 2], [3, 2], [1, 4, 6], [1, 4, 6], [1, 4, 2], [6, 6, 3, 2, 6, 1, 6], [1, 6, 3, 6]]\n"
     ]
    }
   ],
   "source": [
    "encoded_sentences = []\n",
    "for sentence in preprocessed_sentences:\n",
    "    encoded_sentence = []\n",
    "    for word in sentence:\n",
    "        try:\n",
    "            # 단어 집합에 있는 단어라면 해당 단어의 정수를 리턴.\n",
    "            encoded_sentence.append(word_to_index[word])\n",
    "        except KeyError:\n",
    "            # 만약 단어 집합에 없는 단어라면 'OOV'의 정수를 리턴.\n",
    "            encoded_sentence.append(word_to_index['OOV'])\n",
    "    encoded_sentences.append(encoded_sentence)\n",
    "print(encoded_sentences)\n"
   ]
  },
  {
   "cell_type": "code",
   "execution_count": 55,
   "metadata": {},
   "outputs": [],
   "source": [
    "# 위와 같이, 사전에 없는 단어는 OOV라고 하는 6번으로 인코딩을 진행함\n",
    "# 사전에 없는 단어를 위와 같은 처리를 할 수도 있지만 버릴 수도 있음(선택사항일뿐)"
   ]
  },
  {
   "cell_type": "code",
   "execution_count": 56,
   "metadata": {},
   "outputs": [
    {
     "name": "stdout",
     "output_type": "stream",
     "text": [
      "[['barber', 'person'], ['barber', 'good', 'person'], ['barber', 'huge', 'person'], ['knew', 'secret'], ['secret', 'kept', 'huge', 'secret'], ['huge', 'secret'], ['barber', 'kept', 'word'], ['barber', 'kept', 'word'], ['barber', 'kept', 'secret'], ['keeping', 'keeping', 'huge', 'secret', 'driving', 'barber', 'crazy'], ['barber', 'went', 'huge', 'mountain']]\n"
     ]
    }
   ],
   "source": [
    "from collections import Counter\n",
    "print(preprocessed_sentences)"
   ]
  },
  {
   "cell_type": "code",
   "execution_count": 57,
   "metadata": {},
   "outputs": [
    {
     "name": "stdout",
     "output_type": "stream",
     "text": [
      "['barber', 'person', 'barber', 'good', 'person', 'barber', 'huge', 'person', 'knew', 'secret', 'secret', 'kept', 'huge', 'secret', 'huge', 'secret', 'barber', 'kept', 'word', 'barber', 'kept', 'word', 'barber', 'kept', 'secret', 'keeping', 'keeping', 'huge', 'secret', 'driving', 'barber', 'crazy', 'barber', 'went', 'huge', 'mountain']\n"
     ]
    }
   ],
   "source": [
    "# words = np.hstack(preprocessed_sentences)으로도 수행 가능.\n",
    "all_words_list = sum(preprocessed_sentences, [])\n",
    "print(all_words_list)"
   ]
  },
  {
   "cell_type": "code",
   "execution_count": 58,
   "metadata": {},
   "outputs": [
    {
     "name": "stdout",
     "output_type": "stream",
     "text": [
      "Counter({'barber': 8, 'secret': 6, 'huge': 5, 'kept': 4, 'person': 3, 'word': 2, 'keeping': 2, 'good': 1, 'knew': 1, 'driving': 1, 'crazy': 1, 'went': 1, 'mountain': 1})\n"
     ]
    }
   ],
   "source": [
    "# 파이썬의 Counter 모듈을 이용하여 단어의 빈도수 카운트\n",
    "vocab = Counter(all_words_list)\n",
    "print(vocab)"
   ]
  },
  {
   "cell_type": "code",
   "execution_count": 59,
   "metadata": {},
   "outputs": [
    {
     "data": {
      "text/plain": [
       "[('barber', 8), ('secret', 6), ('huge', 5), ('kept', 4), ('person', 3)]"
      ]
     },
     "execution_count": 59,
     "metadata": {},
     "output_type": "execute_result"
    }
   ],
   "source": [
    "vocab_size = 5\n",
    "vocab = vocab.most_common(vocab_size) # 등장 빈도수가 높은 상위 5개의 단어만 저장\n",
    "vocab"
   ]
  },
  {
   "cell_type": "code",
   "execution_count": 60,
   "metadata": {},
   "outputs": [
    {
     "name": "stdout",
     "output_type": "stream",
     "text": [
      "{'barber': 1, 'secret': 2, 'huge': 3, 'kept': 4, 'person': 5}\n"
     ]
    }
   ],
   "source": [
    "word_to_index = {}\n",
    "i = 0\n",
    "for (word, frequency) in vocab :\n",
    "    i = i + 1\n",
    "    word_to_index[word] = i\n",
    "\n",
    "print(word_to_index)"
   ]
  },
  {
   "cell_type": "code",
   "execution_count": 61,
   "metadata": {},
   "outputs": [],
   "source": [
    "from nltk import FreqDist\n",
    "import numpy as np"
   ]
  },
  {
   "cell_type": "code",
   "execution_count": 62,
   "metadata": {},
   "outputs": [],
   "source": [
    "# np.hstack으로 문장 구분을 제거\n",
    "vocab = FreqDist(np.hstack(preprocessed_sentences))"
   ]
  },
  {
   "cell_type": "code",
   "execution_count": 63,
   "metadata": {},
   "outputs": [
    {
     "data": {
      "text/plain": [
       "FreqDist({'barber': 8, 'secret': 6, 'huge': 5, 'kept': 4, 'person': 3, 'word': 2, 'keeping': 2, 'good': 1, 'knew': 1, 'driving': 1, ...})"
      ]
     },
     "execution_count": 63,
     "metadata": {},
     "output_type": "execute_result"
    }
   ],
   "source": [
    "vocab"
   ]
  },
  {
   "cell_type": "code",
   "execution_count": 64,
   "metadata": {},
   "outputs": [
    {
     "name": "stdout",
     "output_type": "stream",
     "text": [
      "[('barber', 8), ('secret', 6), ('huge', 5), ('kept', 4), ('person', 3)]\n"
     ]
    }
   ],
   "source": [
    "vocab_size = 5\n",
    "vocab = vocab.most_common(vocab_size) # 등장 빈도수가 높은 상위 5개의 단어만 저장\n",
    "print(vocab)"
   ]
  },
  {
   "cell_type": "code",
   "execution_count": 65,
   "metadata": {},
   "outputs": [
    {
     "name": "stdout",
     "output_type": "stream",
     "text": [
      "{'barber': 1, 'secret': 2, 'huge': 3, 'kept': 4, 'person': 5}\n"
     ]
    }
   ],
   "source": [
    "word_to_index = {word[0] : index + 1 for index, word in enumerate(vocab)}\n",
    "print(word_to_index)"
   ]
  },
  {
   "cell_type": "code",
   "execution_count": 66,
   "metadata": {},
   "outputs": [],
   "source": [
    "from tensorflow.keras.preprocessing.text import Tokenizer"
   ]
  },
  {
   "cell_type": "code",
   "execution_count": 67,
   "metadata": {},
   "outputs": [],
   "source": [
    "preprocessed_sentences = [['barber', 'person'], ['barber', 'good', 'person'], ['barber', 'huge', 'person'], ['knew', 'secret'], ['secret', 'kept', 'huge', 'secret'], ['huge', 'secret'], ['barber', 'kept', 'word'], ['barber', 'kept', 'word'], ['barber', 'kept', 'secret'], ['keeping', 'keeping', 'huge', 'secret', 'driving', 'barber', 'crazy'], ['barber', 'went', 'huge', 'mountain']]\n"
   ]
  },
  {
   "cell_type": "code",
   "execution_count": 68,
   "metadata": {},
   "outputs": [],
   "source": [
    "tokenizer = Tokenizer()\n",
    "\n",
    "# fit_on_texts()안에 코퍼스를 입력으로 하면 빈도수를 기준으로 단어 집합을 생성.\n",
    "tokenizer.fit_on_texts(preprocessed_sentences) "
   ]
  },
  {
   "cell_type": "code",
   "execution_count": 69,
   "metadata": {},
   "outputs": [
    {
     "name": "stdout",
     "output_type": "stream",
     "text": [
      "{'barber': 1, 'secret': 2, 'huge': 3, 'kept': 4, 'person': 5, 'word': 6, 'keeping': 7, 'good': 8, 'knew': 9, 'driving': 10, 'crazy': 11, 'went': 12, 'mountain': 13}\n"
     ]
    }
   ],
   "source": [
    "print(tokenizer.word_index)"
   ]
  },
  {
   "cell_type": "code",
   "execution_count": 70,
   "metadata": {},
   "outputs": [
    {
     "name": "stdout",
     "output_type": "stream",
     "text": [
      "OrderedDict([('barber', 8), ('person', 3), ('good', 1), ('huge', 5), ('knew', 1), ('secret', 6), ('kept', 4), ('word', 2), ('keeping', 2), ('driving', 1), ('crazy', 1), ('went', 1), ('mountain', 1)])\n"
     ]
    }
   ],
   "source": [
    "print(tokenizer.word_counts)"
   ]
  },
  {
   "cell_type": "code",
   "execution_count": 72,
   "metadata": {},
   "outputs": [
    {
     "name": "stdout",
     "output_type": "stream",
     "text": [
      "[[1, 5], [1, 8, 5], [1, 3, 5], [9, 2], [2, 4, 3, 2], [3, 2], [1, 4, 6], [1, 4, 6], [1, 4, 2], [7, 7, 3, 2, 10, 1, 11], [1, 12, 3, 13]]\n"
     ]
    }
   ],
   "source": [
    "print(tokenizer.texts_to_sequences(preprocessed_sentences))"
   ]
  },
  {
   "cell_type": "code",
   "execution_count": 73,
   "metadata": {},
   "outputs": [],
   "source": [
    "vocab_size = 5\n",
    "tokenizer = Tokenizer(num_words = vocab_size + 1) # 상위 5개 단어만 사용\n",
    "tokenizer.fit_on_texts(preprocessed_sentences)"
   ]
  },
  {
   "cell_type": "code",
   "execution_count": 74,
   "metadata": {},
   "outputs": [
    {
     "name": "stdout",
     "output_type": "stream",
     "text": [
      "{'barber': 1, 'secret': 2, 'huge': 3, 'kept': 4, 'person': 5, 'word': 6, 'keeping': 7, 'good': 8, 'knew': 9, 'driving': 10, 'crazy': 11, 'went': 12, 'mountain': 13}\n"
     ]
    }
   ],
   "source": [
    "print(tokenizer.word_index)"
   ]
  },
  {
   "cell_type": "code",
   "execution_count": 75,
   "metadata": {},
   "outputs": [
    {
     "name": "stdout",
     "output_type": "stream",
     "text": [
      "OrderedDict([('barber', 8), ('person', 3), ('good', 1), ('huge', 5), ('knew', 1), ('secret', 6), ('kept', 4), ('word', 2), ('keeping', 2), ('driving', 1), ('crazy', 1), ('went', 1), ('mountain', 1)])\n"
     ]
    }
   ],
   "source": [
    "print(tokenizer.word_counts)"
   ]
  },
  {
   "cell_type": "code",
   "execution_count": 76,
   "metadata": {},
   "outputs": [],
   "source": [
    "# 숫자 0과 OOV를 고려해서 단어 집합의 크기는 +2\n",
    "vocab_size = 5\n",
    "tokenizer = Tokenizer(num_words = vocab_size + 2, oov_token = 'OOV')\n",
    "tokenizer.fit_on_texts(preprocessed_sentences)"
   ]
  },
  {
   "cell_type": "code",
   "execution_count": 77,
   "metadata": {},
   "outputs": [
    {
     "name": "stdout",
     "output_type": "stream",
     "text": [
      "단어 OOV의 인덱스 : 1\n"
     ]
    }
   ],
   "source": [
    "print('단어 OOV의 인덱스 : {}'.format(tokenizer.word_index['OOV']))"
   ]
  },
  {
   "cell_type": "code",
   "execution_count": 78,
   "metadata": {},
   "outputs": [
    {
     "name": "stdout",
     "output_type": "stream",
     "text": [
      "[[2, 6], [2, 1, 6], [2, 4, 6], [1, 3], [3, 5, 4, 3], [4, 3], [2, 5, 1], [2, 5, 1], [2, 5, 3], [1, 1, 4, 3, 1, 2, 1], [2, 1, 4, 1]]\n"
     ]
    }
   ],
   "source": [
    "print(tokenizer.texts_to_sequences(preprocessed_sentences))"
   ]
  },
  {
   "cell_type": "code",
   "execution_count": 79,
   "metadata": {},
   "outputs": [],
   "source": [
    "# 텍스트 수집후 전처리 과정 진행 (불용어 및 특수문자제거, 일반화, 고유명사 처리 등)\n",
    "# 위의 정제된 상태에서 정수 인코딩 작업을 진행\n",
    "# 글자의 길이를 동일하게 맞추는 과정 = 패딩\n",
    "# 패딩 중 넘파이로도 할 수 있는데 하지 않는 것을 권장"
   ]
  },
  {
   "cell_type": "code",
   "execution_count": 80,
   "metadata": {},
   "outputs": [],
   "source": [
    "from tensorflow.keras.preprocessing.sequence import pad_sequences"
   ]
  },
  {
   "cell_type": "code",
   "execution_count": 81,
   "metadata": {},
   "outputs": [
    {
     "name": "stdout",
     "output_type": "stream",
     "text": [
      "[[2, 6], [2, 1, 6], [2, 4, 6], [1, 3], [3, 5, 4, 3], [4, 3], [2, 5, 1], [2, 5, 1], [2, 5, 3], [1, 1, 4, 3, 1, 2, 1], [2, 1, 4, 1]]\n"
     ]
    }
   ],
   "source": [
    "encoded = tokenizer.texts_to_sequences(preprocessed_sentences)\n",
    "print(encoded)"
   ]
  },
  {
   "cell_type": "code",
   "execution_count": 82,
   "metadata": {},
   "outputs": [
    {
     "data": {
      "text/plain": [
       "array([[0, 0, 0, 0, 0, 2, 6],\n",
       "       [0, 0, 0, 0, 2, 1, 6],\n",
       "       [0, 0, 0, 0, 2, 4, 6],\n",
       "       [0, 0, 0, 0, 0, 1, 3],\n",
       "       [0, 0, 0, 3, 5, 4, 3],\n",
       "       [0, 0, 0, 0, 0, 4, 3],\n",
       "       [0, 0, 0, 0, 2, 5, 1],\n",
       "       [0, 0, 0, 0, 2, 5, 1],\n",
       "       [0, 0, 0, 0, 2, 5, 3],\n",
       "       [1, 1, 4, 3, 1, 2, 1],\n",
       "       [0, 0, 0, 2, 1, 4, 1]])"
      ]
     },
     "execution_count": 82,
     "metadata": {},
     "output_type": "execute_result"
    }
   ],
   "source": [
    "padded = pad_sequences(encoded)\n",
    "padded"
   ]
  },
  {
   "cell_type": "code",
   "execution_count": 83,
   "metadata": {},
   "outputs": [
    {
     "data": {
      "text/plain": [
       "array([[2, 6, 0, 0, 0, 0, 0],\n",
       "       [2, 1, 6, 0, 0, 0, 0],\n",
       "       [2, 4, 6, 0, 0, 0, 0],\n",
       "       [1, 3, 0, 0, 0, 0, 0],\n",
       "       [3, 5, 4, 3, 0, 0, 0],\n",
       "       [4, 3, 0, 0, 0, 0, 0],\n",
       "       [2, 5, 1, 0, 0, 0, 0],\n",
       "       [2, 5, 1, 0, 0, 0, 0],\n",
       "       [2, 5, 3, 0, 0, 0, 0],\n",
       "       [1, 1, 4, 3, 1, 2, 1],\n",
       "       [2, 1, 4, 1, 0, 0, 0]])"
      ]
     },
     "execution_count": 83,
     "metadata": {},
     "output_type": "execute_result"
    }
   ],
   "source": [
    "padded = pad_sequences(encoded, padding='post')\n",
    "padded"
   ]
  },
  {
   "cell_type": "code",
   "execution_count": null,
   "metadata": {},
   "outputs": [],
   "source": [
    "# (padded == padded_np).all()"
   ]
  },
  {
   "cell_type": "code",
   "execution_count": 84,
   "metadata": {},
   "outputs": [
    {
     "data": {
      "text/plain": [
       "array([[2, 6, 0, 0, 0],\n",
       "       [2, 1, 6, 0, 0],\n",
       "       [2, 4, 6, 0, 0],\n",
       "       [1, 3, 0, 0, 0],\n",
       "       [3, 5, 4, 3, 0],\n",
       "       [4, 3, 0, 0, 0],\n",
       "       [2, 5, 1, 0, 0],\n",
       "       [2, 5, 1, 0, 0],\n",
       "       [2, 5, 3, 0, 0],\n",
       "       [4, 3, 1, 2, 1],\n",
       "       [2, 1, 4, 1, 0]])"
      ]
     },
     "execution_count": 84,
     "metadata": {},
     "output_type": "execute_result"
    }
   ],
   "source": [
    "padded = pad_sequences(encoded, padding='post', maxlen=5) # padding=pre로 하면 0이 앞으로 이동됨\n",
    "padded # 대체로는 pre로 설정함(결정에 영향을 크게 줌)"
   ]
  },
  {
   "cell_type": "code",
   "execution_count": null,
   "metadata": {},
   "outputs": [],
   "source": [
    "# 위에서 보면 0이 뒤로 가는데 0이 앞이거나 뒤인것에 차이가 있는가?\n",
    "# = 0부터 시작하면 뒤에서는 의미가 있는 글자가 생기므로 꽤 큰 영향을 미칠 수 있으므로 성능적으로 영향을 크게 미침\n",
    "# 그렇다고 뒤에 0이 있어도 나쁘진 않음"
   ]
  },
  {
   "cell_type": "code",
   "execution_count": 85,
   "metadata": {},
   "outputs": [
    {
     "data": {
      "text/plain": [
       "array([[2, 6, 0, 0, 0],\n",
       "       [2, 1, 6, 0, 0],\n",
       "       [2, 4, 6, 0, 0],\n",
       "       [1, 3, 0, 0, 0],\n",
       "       [3, 5, 4, 3, 0],\n",
       "       [4, 3, 0, 0, 0],\n",
       "       [2, 5, 1, 0, 0],\n",
       "       [2, 5, 1, 0, 0],\n",
       "       [2, 5, 3, 0, 0],\n",
       "       [1, 1, 4, 3, 1],\n",
       "       [2, 1, 4, 1, 0]])"
      ]
     },
     "execution_count": 85,
     "metadata": {},
     "output_type": "execute_result"
    }
   ],
   "source": [
    "# 데이터가 손실될 때 뒤의 단어가 삭제되도록 하고싶을 때 truncating=post를 적용\n",
    "padded = pad_sequences(encoded, padding='post', truncating='post', maxlen=5)\n",
    "padded"
   ]
  },
  {
   "cell_type": "code",
   "execution_count": 86,
   "metadata": {},
   "outputs": [],
   "source": [
    "# 패딩은 관례적으로 0으로 설정함"
   ]
  },
  {
   "cell_type": "code",
   "execution_count": 95,
   "metadata": {},
   "outputs": [
    {
     "name": "stdout",
     "output_type": "stream",
     "text": [
      "['나', '는', '자연어', '처리', '를', '배운다']\n"
     ]
    }
   ],
   "source": [
    "# 원핫인코딩\n",
    "from konlpy.tag import Okt  \n",
    "\n",
    "okt = Okt()  \n",
    "tokens = okt.morphs(\"나는 자연어 처리를 배운다\")  \n",
    "print(tokens)"
   ]
  },
  {
   "cell_type": "code",
   "execution_count": 88,
   "metadata": {},
   "outputs": [
    {
     "name": "stdout",
     "output_type": "stream",
     "text": [
      "단어 집합 : {'나': 0, '는': 1, '자연어': 2, '처리': 3, '를': 4, '배운다': 5}\n"
     ]
    }
   ],
   "source": [
    "word_to_index = {word : index for index, word in enumerate(tokens)}\n",
    "print('단어 집합 :',word_to_index)"
   ]
  },
  {
   "cell_type": "code",
   "execution_count": 89,
   "metadata": {},
   "outputs": [],
   "source": [
    "def one_hot_encoding(word, word_to_index):\n",
    "  one_hot_vector = [0]*(len(word_to_index))\n",
    "  index = word_to_index[word]\n",
    "  one_hot_vector[index] = 1\n",
    "  return one_hot_vector"
   ]
  },
  {
   "cell_type": "code",
   "execution_count": 90,
   "metadata": {},
   "outputs": [
    {
     "data": {
      "text/plain": [
       "[0, 0, 1, 0, 0, 0]"
      ]
     },
     "execution_count": 90,
     "metadata": {},
     "output_type": "execute_result"
    }
   ],
   "source": [
    "one_hot_encoding('자연어', word_to_index)"
   ]
  },
  {
   "cell_type": "code",
   "execution_count": 91,
   "metadata": {},
   "outputs": [],
   "source": [
    "text = \"나랑 점심 먹으러 갈래 점심 메뉴는 햄버거 갈래 갈래 햄버거 최고야\""
   ]
  },
  {
   "cell_type": "code",
   "execution_count": 94,
   "metadata": {},
   "outputs": [
    {
     "name": "stdout",
     "output_type": "stream",
     "text": [
      "단어 집합 : {'갈래': 1, '점심': 2, '햄버거': 3, '나랑': 4, '먹으러': 5, '메뉴는': 6, '최고야': 7}\n"
     ]
    }
   ],
   "source": [
    "from tensorflow.keras.preprocessing.text import Tokenizer\n",
    "from tensorflow.keras.utils import to_categorical\n",
    "\n",
    "# 코퍼스\n",
    "text = \"나랑 점심 먹으러 갈래 점심 메뉴는 햄버거 갈래 갈래 햄버거 최고야\"\n",
    "\n",
    "tokenizer = Tokenizer()\n",
    "tokenizer.fit_on_texts([text])\n",
    "print('단어 집합 :',tokenizer.word_index) # 코퍼스로부터 단어집합을 만듦"
   ]
  },
  {
   "cell_type": "code",
   "execution_count": 93,
   "metadata": {},
   "outputs": [
    {
     "name": "stdout",
     "output_type": "stream",
     "text": [
      "[2, 5, 1, 6, 3, 7]\n"
     ]
    }
   ],
   "source": [
    "sub_text = \"점심 먹으러 갈래 메뉴는 햄버거 최고야\"\n",
    "encoded = tokenizer.texts_to_sequences([sub_text])[0]\n",
    "print(encoded)"
   ]
  }
 ],
 "metadata": {
  "kernelspec": {
   "display_name": "Python 3",
   "language": "python",
   "name": "python3"
  },
  "language_info": {
   "codemirror_mode": {
    "name": "ipython",
    "version": 3
   },
   "file_extension": ".py",
   "mimetype": "text/x-python",
   "name": "python",
   "nbconvert_exporter": "python",
   "pygments_lexer": "ipython3",
   "version": "3.10.9"
  }
 },
 "nbformat": 4,
 "nbformat_minor": 2
}
