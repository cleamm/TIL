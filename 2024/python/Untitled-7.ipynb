{
 "cells": [
  {
   "cell_type": "code",
   "execution_count": 6,
   "metadata": {},
   "outputs": [
    {
     "name": "stdout",
     "output_type": "stream",
     "text": [
      "990101-*******\n"
     ]
    }
   ],
   "source": [
    "# 정규표현식 - regular expressions: 복잡한 문자열을 처리\n",
    "import re\n",
    "\n",
    "# 정규표현식 없이 사용한 나의 방법\n",
    "# hgd = '990101-1234567'\n",
    "# hgd = hgd.split('-')[0] + '-' + len(hgd.split('-')[1])*'*'\n",
    "# print(hgd)\n",
    "# data = 'hgd 990101-1234567'\n",
    "\n",
    "\n",
    "# indigit() - 안의 데이터가 전부 숫자인지 확인\n",
    "\n",
    "data=\"hgd 990101-1234567\"\n",
    "s_data = data.split(' ')\n",
    "if(len(s_data[1]) == 14 and s_data[1][:6].isdigit() and s_data[1][7:].isdigit()):\n",
    "    jumin = s_data[1][:6]+'-*******'\n",
    "print(jumin)\n",
    "# s_data[1][:6].isdigit()"
   ]
  },
  {
   "cell_type": "code",
   "execution_count": 30,
   "metadata": {},
   "outputs": [
    {
     "name": "stdout",
     "output_type": "stream",
     "text": [
      "990101-*******\n",
      "950101-*******\n"
     ]
    }
   ],
   "source": [
    "data = \"\"\"\n",
    "hgd 990101-1234567\n",
    "kgd 950101-1567222\n",
    "\"\"\"\n",
    "\n",
    "for line in data.split('\\n'):\n",
    "    for w in line.split():\n",
    "        if(len(w) == 14 and w[:6].isdigit() and w[7:].isdigit()):\n",
    "            jumin = w[:6]+'-*******'\n",
    "            print(jumin)"
   ]
  },
  {
   "cell_type": "code",
   "execution_count": 31,
   "metadata": {},
   "outputs": [
    {
     "name": "stdout",
     "output_type": "stream",
     "text": [
      "\n",
      "hgd 990101-*******\n",
      "kgd 950101-*******\n",
      "\n"
     ]
    }
   ],
   "source": [
    "# 정규표현식 사용한 경우\n",
    "import re\n",
    "pat = re.compile('(\\d{6})[-]\\d{7}')\n",
    "print(pat.sub('\\g<1>-*******', data))"
   ]
  },
  {
   "cell_type": "code",
   "execution_count": 66,
   "metadata": {},
   "outputs": [
    {
     "name": "stdout",
     "output_type": "stream",
     "text": [
      "<re.Match object; span=(0, 2), match='he'>\n",
      "None\n",
      "<re.Match object; span=(1, 3), match='el'>\n",
      "<re.Match object; span=(2, 3), match='l'>\n",
      "['l', 'l', 'l']\n",
      "['h', 'h']\n"
     ]
    }
   ],
   "source": [
    "# re.match 잘 안쓰임\n",
    "print(re.match(\"he\", 'hello')) # 첫글자가 맞아야 인지함\n",
    "print(re.match('e', 'hello')) # 중간에 있는 패턴을 탐색하지 못하는듯함\n",
    "# re.search\n",
    "print(re.search('el', 'hello')) # match와 달리 중간도 탐색함.\n",
    "print(re.search('l', 'hello')) # 다만 같은 패턴이 여러개 나와도 한번 탐색하고 종료\n",
    "# re.findall == in 이것도 in 때문에 잘 안쓰일듯?\n",
    "print(re.findall('l', 'hellohelp')) # 다만 같은 패턴이 여러개 나와도 한번 탐색하고 종료\n",
    "print(re.findall('h', 'hellohelp')) # 다만 같은 패턴이 여러개 나와도 한번 탐색하고 종료\n"
   ]
  },
  {
   "cell_type": "code",
   "execution_count": 104,
   "metadata": {},
   "outputs": [
    {
     "data": {
      "text/plain": [
       "<re.Match object; span=(0, 4), match='aabb'>"
      ]
     },
     "execution_count": 104,
     "metadata": {},
     "output_type": "execute_result"
    }
   ],
   "source": [
    "re.search('^he', 'hello world') # ^(꺾쇠)를 붙이고 패턴을 찾을 땐 꺾쇠 옆의 패턴으로 시작해야만 탐색함.\n",
    "re.search('world$', 'hello world!') # 반대로 $를 사용하면 마지막 문자열에 패턴이 속해야만 탐색이 됨.\n",
    "\n",
    "re.match('hi|bye|hh', 'hhihello') # |를 이용해서 두가지 이상의 문자열을 탐색할 수도 있음\n",
    "\n",
    "re.match('[h]','hhhi') # 대괄호를 이용해서도 탐색가능\n",
    "\n",
    "re.match('h+', 'hhhhhi') # 패턴뒤에 +를 붙이면 같은 글자가 이어지는 한 끝까지 탐색\n",
    "re.match('h+i', 'hhhhiii') # 패턴 + 패턴 의 패턴을 탐색시 첫번째 패턴 탐색후 두번째 패턴을 탐색\n",
    "re.match('h+i', 'hhhhhkhhhhelloi') # 패턴 + 패턴의 경우는 첫번째 패턴 다음 두번째 패턴이 반복되야만 탐색 가능\n",
    "re.match(\"h+i+k\", 'hhhiikkk') # 물론 패턴 + 패턴 + ... 도 가능함\n",
    "\n",
    "re.match(\"h*\", 'ahhiii') # *을 추가하면 0개 이상의 패턴이 탐색되면 출력\n",
    "re.match('a*b', 'aabbc') # a는 0~개, 뒤에 b가 있는지를 탐색함.\n",
    "re.match('a*b', 'aabbc') # a는 0~개, 뒤에 b가 있는지를 탐색함.\n",
    "re.match('a*b*', 'aabbc')"
   ]
  },
  {
   "cell_type": "code",
   "execution_count": 130,
   "metadata": {},
   "outputs": [
    {
     "data": {
      "text/plain": [
       "<re.Match object; span=(0, 6), match='bbccda'>"
      ]
     },
     "execution_count": 130,
     "metadata": {},
     "output_type": "execute_result"
    }
   ],
   "source": [
    "re.match('5','56')\n",
    "re.match('4|5','456')\n",
    "re.match('[0-9]*', '1922434') # []안의 데이터를 하나라고 보면 됨. 이에 따라 뒤에 붙는 기호는 추가적으로 작동\n",
    "re.match('[0-9]+', '1922434')\n",
    "re.match('[0-9]+', 'asdf') # 숫자가 아니므로 출력이 안됨\n",
    "re.match('[a-z]+', 'asdf')\n",
    "re.match('[a]+', 'aasdaf')\n",
    "re.match('a*b', 'bsdaf') # a뒤에 b만 있으면 되고 a는 *이 붙었으므로 없어도 됨 = b로 시작하면 됨\n",
    "re.match('a*b+c*da', 'bbccda') # a뒤에 b만 있으면 되고 a는 *이 붙었으므로 없어도 됨 = b로 시작하면 됨"
   ]
  },
  {
   "cell_type": "code",
   "execution_count": 139,
   "metadata": {},
   "outputs": [],
   "source": [
    "# 3도 매치\n",
    "# 28도 매치\n",
    "# -7도 매치\n",
    "# 30mm 매치x\n",
    "re.search('-[0-9]+도', '내일은 기온은 -39도입니다.')\n",
    "'-[0-9]+도' in '내일은 기온은 -39도입니다.' # in과의 차이점이라고 할 수 있음\n",
    "re.match('[0-9]*도', '36도')\n",
    "re.match('[0-9]*도 ', '10도임') # 공백 때문에 탐색 실패함"
   ]
  }
 ],
 "metadata": {
  "kernelspec": {
   "display_name": "Python 3",
   "language": "python",
   "name": "python3"
  },
  "language_info": {
   "codemirror_mode": {
    "name": "ipython",
    "version": 3
   },
   "file_extension": ".py",
   "mimetype": "text/x-python",
   "name": "python",
   "nbconvert_exporter": "python",
   "pygments_lexer": "ipython3",
   "version": "3.10.9"
  }
 },
 "nbformat": 4,
 "nbformat_minor": 2
}
