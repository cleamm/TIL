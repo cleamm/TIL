{
 "cells": [
  {
   "cell_type": "code",
   "execution_count": 12,
   "metadata": {},
   "outputs": [
    {
     "name": "stdout",
     "output_type": "stream",
     "text": [
      "hi 3\n",
      "hi 2\n",
      "hi 1\n",
      "after hi 0\n",
      "after hi 1\n",
      "after hi 2\n"
     ]
    }
   ],
   "source": [
    "def hi(cnt):\n",
    "    if cnt==0:\n",
    "        return # 함수를 호출한 곳으로 되돌아감\n",
    "    print(\"hi\", cnt)\n",
    "    cnt-=1\n",
    "    hi(cnt)\n",
    "    print(\"after hi\", cnt)\n",
    "hi(3)"
   ]
  },
  {
   "cell_type": "code",
   "execution_count": 18,
   "metadata": {},
   "outputs": [
    {
     "data": {
      "text/plain": [
       "24"
      ]
     },
     "execution_count": 18,
     "metadata": {},
     "output_type": "execute_result"
    }
   ],
   "source": [
    "def factorial(n):\n",
    "    if n==1:\n",
    "        return 1\n",
    "    return n*factorial(n-1)\n",
    "factorial(4)"
   ]
  },
  {
   "cell_type": "code",
   "execution_count": 35,
   "metadata": {},
   "outputs": [],
   "source": [
    "# def 미로찾기(현재위치):\n",
    "#     미로찾기(오른쪽)\n",
    "#     미로찾기(왼쪽)\n",
    "#     미로찾기(왼쪽)\n",
    "#     미로찾기(아래쪽) 무려 재귀가 4개!!.. 한개만 해도 어려운데..."
   ]
  },
  {
   "cell_type": "markdown",
   "metadata": {},
   "source": [
    "재귀호출은 모든 경로 탐색을 위함. = 백트래킹   \n",
    "삼성은 두 문제 출시함(대신 난이도가 높은듯)"
   ]
  },
  {
   "cell_type": "markdown",
   "metadata": {},
   "source": [
    "lambda 식으로 작성하는 방법"
   ]
  },
  {
   "cell_type": "code",
   "execution_count": 62,
   "metadata": {},
   "outputs": [
    {
     "name": "stdout",
     "output_type": "stream",
     "text": [
      "6\n",
      "6\n",
      "6\n"
     ]
    }
   ],
   "source": [
    "# def 방식\n",
    "def func1(x):\n",
    "    return x+1\n",
    "\n",
    "# lambda 방식 = 익명으로 함수정의\n",
    "lambda x: x+1\n",
    "\n",
    "# lambda식 함수정의\n",
    "func2 = lambda x: x+1\n",
    "x = 5\n",
    "\n",
    "print(func2(x))\n",
    "print((lambda x: x+1)(5))\n",
    "print(func1(x))\n",
    "\n",
    "# lambda식의 기본 형식은 내부에 새로 변수를 생성할 수 없음\n",
    "# (lambda 매개변수들: 변수) (수식)) <= 람다식에 새로운 변수를 만들 수 없음"
   ]
  },
  {
   "cell_type": "markdown",
   "metadata": {},
   "source": [
    "# 람다식 사용 예시"
   ]
  },
  {
   "cell_type": "code",
   "execution_count": 72,
   "metadata": {},
   "outputs": [
    {
     "data": {
      "text/plain": [
       "[11, 21, 31]"
      ]
     },
     "execution_count": 72,
     "metadata": {},
     "output_type": "execute_result"
    }
   ],
   "source": [
    "def add_one(x):\n",
    "    res=[]\n",
    "    for i in x:\n",
    "        res.append(i+1)\n",
    "    return res\n",
    "# add_one(10)\n",
    "i = [10,20,30]\n",
    "add_one(i)"
   ]
  },
  {
   "cell_type": "code",
   "execution_count": 76,
   "metadata": {},
   "outputs": [
    {
     "data": {
      "text/plain": [
       "[11, 21, 31]"
      ]
     },
     "execution_count": 76,
     "metadata": {},
     "output_type": "execute_result"
    }
   ],
   "source": [
    "i = [10,20,30]\n",
    "def add_one_2(x):\n",
    "    return x+1\n",
    "list(map(add_one_2,i))"
   ]
  },
  {
   "cell_type": "code",
   "execution_count": 78,
   "metadata": {},
   "outputs": [
    {
     "name": "stdout",
     "output_type": "stream",
     "text": [
      "[10, 20, 30]\n"
     ]
    },
    {
     "data": {
      "text/plain": [
       "[11, 21, 31]"
      ]
     },
     "execution_count": 78,
     "metadata": {},
     "output_type": "execute_result"
    }
   ],
   "source": [
    "i = list(range(10,31,10))\n",
    "print(i)\n",
    "list(map(lambda x:x+1, i))"
   ]
  },
  {
   "cell_type": "code",
   "execution_count": 88,
   "metadata": {},
   "outputs": [
    {
     "data": {
      "text/plain": [
       "['1', '2', '3', '4', '5', '6', '7', '8', '9', '10']"
      ]
     },
     "execution_count": 88,
     "metadata": {},
     "output_type": "execute_result"
    }
   ],
   "source": [
    "nums = list(range(1,11))\n",
    "list(map(lambda x: str(x), nums))"
   ]
  },
  {
   "cell_type": "code",
   "execution_count": 91,
   "metadata": {},
   "outputs": [
    {
     "data": {
      "text/plain": [
       "[1, '2', 3, '4', 5, '6', 7, '8', 9, '10']"
      ]
     },
     "execution_count": 91,
     "metadata": {},
     "output_type": "execute_result"
    }
   ],
   "source": [
    "# x에 저장된 값이 짝수면 str으로, 홀수이면 x값을 입력\n",
    "list(map(lambda x: str(x) if x%2 == 0 else x, nums))"
   ]
  },
  {
   "cell_type": "code",
   "execution_count": 100,
   "metadata": {},
   "outputs": [
    {
     "data": {
      "text/plain": [
       "[1, 2, 3, 4, 5, 12, 14, 16, 18, 20]"
      ]
     },
     "execution_count": 100,
     "metadata": {},
     "output_type": "execute_result"
    }
   ],
   "source": [
    "a = list(range(1,11))\n",
    "list(map(lambda x: x if x <= 5 else x*2, a))\n",
    "# map함수는 map(함수=적용할 사항, 데이터=적용될 내용물) 이렇게 이해해야됨"
   ]
  },
  {
   "cell_type": "code",
   "execution_count": 109,
   "metadata": {},
   "outputs": [
    {
     "data": {
      "text/plain": [
       "[1, 2, 3.0, 4, 5, 6, 7, 8, 9, 10]"
      ]
     },
     "execution_count": 109,
     "metadata": {},
     "output_type": "execute_result"
    }
   ],
   "source": [
    "# 3만 float이 되도록.\n",
    "list(map(lambda x: float(x) if x == 3 else x, a))"
   ]
  },
  {
   "cell_type": "code",
   "execution_count": 114,
   "metadata": {},
   "outputs": [
    {
     "data": {
      "text/plain": [
       "['1', 2.0, 13, 14, 15, 16, 17, 18, 19, 20]"
      ]
     },
     "execution_count": 114,
     "metadata": {},
     "output_type": "execute_result"
    }
   ],
   "source": [
    "#[1, 2, 3, 4, 5, 6, 7, 8, 9, 10]\n",
    "#1은 문자로 변환, 2는 실수로 변환, 3 이상은 10을 더하시오\n",
    "#['1', 2.0, 13, 14, 15, 16, 17, 18, 19, 20]\n",
    "i = [1,2,3]\n",
    "# 내꺼\n",
    "list(map(lambda x: str(x) if x==1 else float(x) if x==2 else x+10 if x>=3 else x, a))\n",
    "\n",
    "# 강사님꺼\n",
    "list(map(lambda x: str(x) if x==1 else float(x) if x==2 else x+10 ,a))"
   ]
  },
  {
   "cell_type": "code",
   "execution_count": 133,
   "metadata": {},
   "outputs": [
    {
     "name": "stdout",
     "output_type": "stream",
     "text": [
      "[1, 2, 3, 4, 5]\n",
      "[11, 12, 13, 14, 15]\n"
     ]
    }
   ],
   "source": [
    "# 리스트 2개 -> 입력 -> 람다함수 연산 -> 리스트 1개 출력\n",
    "a = list(range(1,6))\n",
    "b = list(range(11,16))\n",
    "print(a)\n",
    "print(b)"
   ]
  },
  {
   "cell_type": "code",
   "execution_count": 144,
   "metadata": {},
   "outputs": [
    {
     "name": "stdout",
     "output_type": "stream",
     "text": [
      "[12, 14, 16, 18, 20]\n",
      "[11, 24, 39, 56, 75]\n"
     ]
    }
   ],
   "source": [
    "print(list(map(lambda x,y:x+y, a,b)))\n",
    "print(list(map(lambda x,y:x*y, a,b)))"
   ]
  },
  {
   "cell_type": "code",
   "execution_count": 158,
   "metadata": {},
   "outputs": [
    {
     "data": {
      "text/plain": [
       "[3, 4]"
      ]
     },
     "execution_count": 158,
     "metadata": {},
     "output_type": "execute_result"
    }
   ],
   "source": [
    "# filter = map = (함수, 데이터=리스트)\n",
    "list(filter(lambda x: x>2, a))\n",
    "# map은 하나씩 데이터를 변환\n",
    "list(filter(lambda x: 5>x>2, a))\n",
    "# filter는 조건에 따른 변환 추출(True만 추출, False는 삭제)"
   ]
  },
  {
   "cell_type": "code",
   "execution_count": 160,
   "metadata": {},
   "outputs": [
    {
     "data": {
      "text/plain": [
       "15"
      ]
     },
     "execution_count": 160,
     "metadata": {},
     "output_type": "execute_result"
    }
   ],
   "source": [
    "def cum(x, y):\n",
    "    return x+y\n",
    "from functools import reduce\n",
    "reduce(cum,a) # 누적된 결과. a에 저장된 데이터에 대해 cum함수를 수행한 누적결과\n",
    "# 1 2 -> 3 3 -> 6 4 -> 10 5-> 15\n",
    "# 근데 reduce는 잘 안쓰임"
   ]
  },
  {
   "cell_type": "code",
   "execution_count": 190,
   "metadata": {},
   "outputs": [
    {
     "data": {
      "text/plain": [
       "[0, 0, 0, 0, 10, 12, 14, 0, 0]"
      ]
     },
     "execution_count": 190,
     "metadata": {},
     "output_type": "execute_result"
    }
   ],
   "source": [
    "a = list(range(2,20,2))\n",
    "# print(a)\n",
    "list(filter(lambda x: 10<=x<=14, a))\n",
    "b = list(map(lambda x: x if x==10 or x == 12 or x == 14 else 0, a))\n",
    "b\n",
    "# [i for i in a if 10 <= i <= 14]"
   ]
  },
  {
   "cell_type": "code",
   "execution_count": 191,
   "metadata": {},
   "outputs": [
    {
     "data": {
      "text/plain": [
       "[0, 0, 0, 0, 10, 12, 14, 0, 0]"
      ]
     },
     "execution_count": 191,
     "metadata": {},
     "output_type": "execute_result"
    }
   ],
   "source": [
    "list(map(lambda x: x if x in [10, 12, 14] else 0, a))\n"
   ]
  },
  {
   "cell_type": "code",
   "execution_count": 187,
   "metadata": {},
   "outputs": [
    {
     "name": "stdout",
     "output_type": "stream",
     "text": [
      "5\n"
     ]
    }
   ],
   "source": [
    "def bbb():\n",
    "    k = 5\n",
    "    print(k)\n",
    "bbb()\n",
    "# print(k) 지역변수이므로 k값을 출력할 수 없음."
   ]
  },
  {
   "cell_type": "code",
   "execution_count": 195,
   "metadata": {},
   "outputs": [
    {
     "name": "stdout",
     "output_type": "stream",
     "text": [
      "hello\n"
     ]
    }
   ],
   "source": [
    "def ddd():\n",
    "    msg=\"hello\"\n",
    "    def eee(): # 함수 안에 함수를 정의함\n",
    "        print(msg)\n",
    "    eee()\n",
    "ddd()"
   ]
  },
  {
   "cell_type": "code",
   "execution_count": null,
   "metadata": {},
   "outputs": [],
   "source": [
    "# 클래스 : 공통된 특성을 갖는 객체들의 모임\n",
    "# 자동차 : 그랜저, 소나타, ... (ex-타이어, 마력, 탈것 등의 특성을 가짐)"
   ]
  },
  {
   "cell_type": "code",
   "execution_count": 201,
   "metadata": {},
   "outputs": [
    {
     "name": "stdout",
     "output_type": "stream",
     "text": [
      "자동차가 달립니다\n"
     ]
    }
   ],
   "source": [
    "class Car:\n",
    "    def drive(self):\n",
    "        print('자동차가 달립니다')\n",
    "    hp = 30000\n",
    "Car.drive('hungry')"
   ]
  },
  {
   "cell_type": "code",
   "execution_count": 204,
   "metadata": {},
   "outputs": [
    {
     "name": "stdout",
     "output_type": "stream",
     "text": [
      "자동차가 달립니다\n"
     ]
    },
    {
     "data": {
      "text/plain": [
       "30000"
      ]
     },
     "execution_count": 204,
     "metadata": {},
     "output_type": "execute_result"
    }
   ],
   "source": [
    "gran = Car()\n",
    "gran.drive()\n",
    "gran.hp"
   ]
  },
  {
   "cell_type": "code",
   "execution_count": 206,
   "metadata": {},
   "outputs": [
    {
     "data": {
      "text/plain": [
       "__main__.Car"
      ]
     },
     "execution_count": 206,
     "metadata": {},
     "output_type": "execute_result"
    }
   ],
   "source": [
    "a = 10\n",
    "type(gran)"
   ]
  },
  {
   "cell_type": "code",
   "execution_count": 207,
   "metadata": {},
   "outputs": [],
   "source": [
    "#클래스 정의\n",
    "class  Car:\n",
    "    def drive(self):\n",
    "        print(\"자동차가 달립니다\")\n",
    "    def print_msg(self):\n",
    "        self.drive()\n",
    "    hp=3000"
   ]
  },
  {
   "cell_type": "code",
   "execution_count": 210,
   "metadata": {},
   "outputs": [
    {
     "name": "stdout",
     "output_type": "stream",
     "text": [
      "자동차가 달립니다\n",
      "자동차가 달립니다\n"
     ]
    }
   ],
   "source": [
    "car_class = Car()\n",
    "car_class.print_msg()\n",
    "car_class.drive()"
   ]
  },
  {
   "cell_type": "code",
   "execution_count": 211,
   "metadata": {},
   "outputs": [
    {
     "name": "stdout",
     "output_type": "stream",
     "text": [
      "<__main__.Person object at 0x0000020FFA403400>\n"
     ]
    }
   ],
   "source": [
    "class Person(): \n",
    "    def hello(self):\n",
    "        print(\"hello 함수 호출 완료\")\n",
    "print(Person())"
   ]
  },
  {
   "cell_type": "code",
   "execution_count": 231,
   "metadata": {},
   "outputs": [
    {
     "name": "stdout",
     "output_type": "stream",
     "text": [
      "hello 함수를 호출했습니다\n",
      "저의 이름은 홍길동이며, 나이는 25입니다.\n"
     ]
    }
   ],
   "source": [
    "class Person:\n",
    "    def hello(self):\n",
    "        print(\"hello 함수를 호출했습니다\")\n",
    "        print('저의 이름은 {0}이며, 나이는 {1}입니다.'.format(self.name, self.age))\n",
    "    def __init__(self, na, ag, addr):\n",
    "        self.name = na\n",
    "        self.mymsg=\"반갑습니다\"\n",
    "        self.age = ag\n",
    "        self.addr = addr\n",
    "p = Person(na='홍길동', ag=25, addr='seoul')\n",
    "p.hello()"
   ]
  },
  {
   "cell_type": "code",
   "execution_count": 232,
   "metadata": {},
   "outputs": [
    {
     "name": "stdout",
     "output_type": "stream",
     "text": [
      "hello 함수를 호출했습니다\n",
      "저의 이름은 홍길동이며, 나이는 25입니다.\n"
     ]
    }
   ],
   "source": [
    "hgd = Person(na='홍길동', ag=25, addr='seoul')\n",
    "hgd.age\n",
    "hgd.hello()"
   ]
  },
  {
   "cell_type": "code",
   "execution_count": 234,
   "metadata": {},
   "outputs": [],
   "source": [
    "class Animal:\n",
    "    def __init__(self,n_l, age, sp):\n",
    "        self.num_leg = n_l\n",
    "        self.age = age\n",
    "        self.species = sp\n",
    "    def sleep(self):\n",
    "        print('{0} 종류의 동물은 {1}개의 다리를 가지고 있습니다.'.format(self.species ,self.num_leg))"
   ]
  },
  {
   "cell_type": "code",
   "execution_count": 236,
   "metadata": {},
   "outputs": [
    {
     "name": "stdout",
     "output_type": "stream",
     "text": [
      "Mammalia 종류의 동물은 4개의 다리를 가지고 있습니다.\n",
      "Mammalia 종류의 동물은 4개의 다리를 가지고 있습니다.\n"
     ]
    }
   ],
   "source": [
    "puppy = Animal(4,20, 'Mammalia')\n",
    "puppy.sleep()\n",
    "baduki = Animal(4,20, \"Mammalia\")\n",
    "baduki.sleep()"
   ]
  }
 ],
 "metadata": {
  "kernelspec": {
   "display_name": "Python 3",
   "language": "python",
   "name": "python3"
  },
  "language_info": {
   "codemirror_mode": {
    "name": "ipython",
    "version": 3
   },
   "file_extension": ".py",
   "mimetype": "text/x-python",
   "name": "python",
   "nbconvert_exporter": "python",
   "pygments_lexer": "ipython3",
   "version": "3.10.9"
  }
 },
 "nbformat": 4,
 "nbformat_minor": 2
}
