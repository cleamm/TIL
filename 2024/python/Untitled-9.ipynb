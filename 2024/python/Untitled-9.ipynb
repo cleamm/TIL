{
 "cells": [
  {
   "cell_type": "code",
   "execution_count": 8,
   "metadata": {},
   "outputs": [
    {
     "name": "stdout",
     "output_type": "stream",
     "text": [
      "3.1370967741935485\n",
      "3.1370967741935485\n",
      "194.5\n",
      "62.0\n",
      "62.0 학점 총합\n"
     ]
    }
   ],
   "source": [
    "data = ['ObjectOrientedProgramming1 3.0 A+',\n",
    "'IntroductiontoComputerEngineering 3.0 A+',\n",
    "'ObjectOrientedProgramming2 3.0 A0',\n",
    "'CreativeComputerEngineeringDesign 3.0 A+',\n",
    "'AssemblyLanguage 3.0 A+',\n",
    "'InternetProgramming 3.0 B0',\n",
    "'ApplicationProgramminginJava 3.0 A0',\n",
    "'SystemProgramming 3.0 B0',\n",
    "'OperatingSystem 3.0 B0',\n",
    "'WirelessCommunicationsandNetworking 3.0 C+',\n",
    "'LogicCircuits 3.0 B0',\n",
    "'DataStructure 4.0 A+',\n",
    "'MicroprocessorApplication 3.0 B+',\n",
    "'EmbeddedSoftware 3.0 C0',\n",
    "'ComputerSecurity 3.0 D+',\n",
    "'Database 3.0 C+',\n",
    "'Algorithm 3.0 B0',\n",
    "'CapstoneDesigninCSE 3.0 B+',\n",
    "'CompilerDesign 3.0 D0',\n",
    "'ProblemSolving 4.0 P']\n",
    "\n",
    "score_sum = 0\n",
    "grade_sum = 0\n",
    "temp = 0\n",
    "i_sum = 0\n",
    "for d in range(20):\n",
    "    _, i, j = data[d].split()\n",
    "    i_sum += float(i)\n",
    "    if(j == 'A+'):\n",
    "        score_sum += 4.5\n",
    "        temp = 4.5\n",
    "    if(j == 'A0'):\n",
    "        score_sum += 4.0\n",
    "        temp = 4.0\n",
    "    elif(j == 'B+'):\n",
    "        score_sum += 3.5\n",
    "        temp = 3.5\n",
    "    elif(j == 'B0'):\n",
    "        score_sum += 3.0\n",
    "        temp = 3.0\n",
    "    elif(j == 'C+'):\n",
    "        score_sum += 2.5\n",
    "        temp = 2.5\n",
    "    elif(j == 'C0'):\n",
    "        score_sum += 2.0\n",
    "        temp = 2.0\n",
    "    elif(j == 'D+'):\n",
    "        score_sum += 1.5\n",
    "        temp = 1.5\n",
    "    elif(j == 'D0'):\n",
    "        score_sum += 1.0\n",
    "        temp = 1.0\n",
    "    elif(j == 'F'):\n",
    "        score_sum += 0.0\n",
    "        temp = 0.0\n",
    "    elif(j == 'P'):\n",
    "        pass\n",
    "    grade_sum += (float(temp) * float(i))\n",
    "\n",
    "print(grade_sum/i_sum)\n",
    "print(grade_sum/score_sum)\n",
    "print(grade_sum)\n",
    "print(score_sum)\n",
    "print(i_sum,'학점 총합')"
   ]
  },
  {
   "cell_type": "code",
   "execution_count": 11,
   "metadata": {},
   "outputs": [
    {
     "name": "stdout",
     "output_type": "stream",
     "text": [
      "3.2844827586206895\n"
     ]
    }
   ],
   "source": [
    "data = ['ObjectOrientedProgramming1 3.0 A+',\n",
    "'IntroductiontoComputerEngineering 3.0 A+',\n",
    "'ObjectOrientedProgramming2 3.0 A0',\n",
    "'CreativeComputerEngineeringDesign 3.0 A+',\n",
    "'AssemblyLanguage 3.0 A+',\n",
    "'InternetProgramming 3.0 B0',\n",
    "'ApplicationProgramminginJava 3.0 A0',\n",
    "'SystemProgramming 3.0 B0',\n",
    "'OperatingSystem 3.0 B0',\n",
    "'WirelessCommunicationsandNetworking 3.0 C+',\n",
    "'LogicCircuits 3.0 B0',\n",
    "'DataStructure 4.0 A+',\n",
    "'MicroprocessorApplication 3.0 B+',\n",
    "'EmbeddedSoftware 3.0 C0',\n",
    "'ComputerSecurity 3.0 D+',\n",
    "'Database 3.0 C+',\n",
    "'Algorithm 3.0 B0',\n",
    "'CapstoneDesigninCSE 3.0 B+',\n",
    "'CompilerDesign 3.0 D0',\n",
    "'ProblemSolving 4.0 P']\n",
    "\n",
    "abc = ['A+', 'A0', 'B+', 'B0', 'C+', 'C0', 'D+', 'D0', 'F']\n",
    "grade = [4.5, 4.0, 3.5, 3.0, 2.5, 2.0, 1.5, 1.0, 0]\n",
    "\n",
    "total = 0\t\n",
    "res = 0\n",
    "for num in range(20) :\n",
    "    _, i, j = input().split()\n",
    "    i = float(i)\n",
    "    if j != 'P' :\n",
    "        total += i\n",
    "        res += i * grade[abc.index(j)]\n",
    "\n",
    "print(res / total)"
   ]
  }
 ],
 "metadata": {
  "kernelspec": {
   "display_name": "Python 3",
   "language": "python",
   "name": "python3"
  },
  "language_info": {
   "codemirror_mode": {
    "name": "ipython",
    "version": 3
   },
   "file_extension": ".py",
   "mimetype": "text/x-python",
   "name": "python",
   "nbconvert_exporter": "python",
   "pygments_lexer": "ipython3",
   "version": "3.10.9"
  }
 },
 "nbformat": 4,
 "nbformat_minor": 2
}
