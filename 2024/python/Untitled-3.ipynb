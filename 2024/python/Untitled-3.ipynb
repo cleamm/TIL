{
 "cells": [
  {
   "cell_type": "code",
   "execution_count": 2,
   "metadata": {},
   "outputs": [
    {
     "name": "stdout",
     "output_type": "stream",
     "text": [
      "딸기주스\n"
     ]
    }
   ],
   "source": [
    "def myfunc1():\n",
    "    print('test')\n",
    "def getJuice(x):\n",
    "    return x+'주스'\n",
    "v = getJuice('딸기')\n",
    "print(v)"
   ]
  },
  {
   "cell_type": "code",
   "execution_count": 11,
   "metadata": {},
   "outputs": [
    {
     "data": {
      "text/plain": [
       "7"
      ]
     },
     "execution_count": 11,
     "metadata": {},
     "output_type": "execute_result"
    }
   ],
   "source": [
    "# 기본적으로 함수 내에서 설명문을 작성시 이와 같이 #주석이 아닌 따옴표 주석을 달아놓는 것이 원칙임\n",
    "# help(함수명) 이렇게 입력하면 함수의 설명문을 확인할 수 있음.\n",
    "def abc(x,y,z=10): # 함수에 대해 기본 파라미터 설정이 가능함\n",
    "    \"\"\"\n",
    "    z의 값을 따로 입력하지 않아서 파라미터에 기본설정인 z=10이 적용됨\n",
    "    \"\"\"\n",
    "    return z-x-y\n",
    "abc(1,2)"
   ]
  },
  {
   "cell_type": "code",
   "execution_count": 12,
   "metadata": {},
   "outputs": [
    {
     "name": "stdout",
     "output_type": "stream",
     "text": [
      "Help on function abc in module __main__:\n",
      "\n",
      "abc(x, y, z=10)\n",
      "    z의 값을 따로 입력하지 않아서 파라미터에 기본설정인 z=10이 적용됨\n",
      "\n"
     ]
    }
   ],
   "source": [
    "help(abc)"
   ]
  },
  {
   "cell_type": "code",
   "execution_count": 15,
   "metadata": {},
   "outputs": [
    {
     "name": "stdout",
     "output_type": "stream",
     "text": [
      "100\n"
     ]
    }
   ],
   "source": [
    "def myfunc():\n",
    "    return 100\n",
    "h = myfunc()\n",
    "print(h)"
   ]
  },
  {
   "cell_type": "code",
   "execution_count": 19,
   "metadata": {},
   "outputs": [
    {
     "name": "stdout",
     "output_type": "stream",
     "text": [
      "2\n"
     ]
    }
   ],
   "source": [
    "def myfunc2(x):\n",
    "    if x==1:\n",
    "        return # 함수를 호출한 위치로 되돌아감\n",
    "    print(x)\n",
    "myfunc2(2)"
   ]
  },
  {
   "cell_type": "code",
   "execution_count": 30,
   "metadata": {},
   "outputs": [
    {
     "name": "stdout",
     "output_type": "stream",
     "text": [
      "3 2\n",
      "합:5\n",
      "차:1\n",
      "곱:6\n",
      "나눔:1.5\n"
     ]
    }
   ],
   "source": [
    "\"\"\"\n",
    "두 수를 입력받는 함수를 만들어 4가지 결과를 출력하는 코드를 작성하라.\n",
    "두 수를 입력하세요 : 3 2\n",
    "합:5\n",
    "차:1\n",
    "곱:6\n",
    "나눔:1.5\n",
    "\"\"\"\n",
    "def res(x,y):\n",
    "    print('합:'+str(x+y))\n",
    "    print('차:'+str(x-y))\n",
    "    print('곱:'+str(x*y))\n",
    "    print('나눔:'+str(x/y))\n",
    "a, b = map(int,input(\"두 수를 입력하세요 : \").split())\n",
    "res(a, b)"
   ]
  },
  {
   "cell_type": "code",
   "execution_count": 37,
   "metadata": {},
   "outputs": [
    {
     "name": "stdout",
     "output_type": "stream",
     "text": [
      "(1, 2, 3, 4, 5, 6)\n",
      "add\n"
     ]
    }
   ],
   "source": [
    "def func(op, *v): # *을 달면 여러 파라미터를 입력받을 수 있음.\n",
    "    print(v)\n",
    "    print(op)\n",
    "func('add',1,2,3,4,5,6)"
   ]
  },
  {
   "cell_type": "code",
   "execution_count": 44,
   "metadata": {},
   "outputs": [
    {
     "name": "stdout",
     "output_type": "stream",
     "text": [
      "v =  (1, 2, 3, 4) type =  <class 'tuple'>\n",
      "-10\n",
      "v =  (1, 2, 3, 4) type =  <class 'tuple'>\n"
     ]
    },
    {
     "data": {
      "text/plain": [
       "10"
      ]
     },
     "execution_count": 44,
     "metadata": {},
     "output_type": "execute_result"
    }
   ],
   "source": [
    "def addOrSub(op, *v):\n",
    "    res = 0\n",
    "    print('v = ',v, 'type = ',type(v))\n",
    "    if op == 'add':\n",
    "        for i in v:\n",
    "            res += i\n",
    "    elif op == 'sub':\n",
    "        for i in v:\n",
    "            res -= i\n",
    "    return res\n",
    "print(addOrSub('sub', 1,2,3,4))\n",
    "addOrSub('add', 1,2,3,4)"
   ]
  },
  {
   "cell_type": "code",
   "execution_count": 49,
   "metadata": {},
   "outputs": [
    {
     "name": "stdout",
     "output_type": "stream",
     "text": [
      "name : hong\n",
      "age : 20\n",
      "man\n",
      "name : hong\n",
      "age : 20\n",
      "man\n",
      "name : hong\n",
      "age : 20\n",
      "woman\n"
     ]
    }
   ],
   "source": [
    "def myfunc2(n, a, man=True):\n",
    "    print('name : %s' %n)\n",
    "    print('age : %d' %a)\n",
    "    if(man):\n",
    "        print('man')\n",
    "    else:\n",
    "        print(\"woman\")\n",
    "\n",
    "myfunc2('hong', 20)\n",
    "myfunc2('hong', 20, True)\n",
    "myfunc2('hong', 20, False)"
   ]
  },
  {
   "cell_type": "code",
   "execution_count": 51,
   "metadata": {},
   "outputs": [
    {
     "ename": "SyntaxError",
     "evalue": "non-default argument follows default argument (3186595471.py, line 1)",
     "output_type": "error",
     "traceback": [
      "\u001b[1;36m  Cell \u001b[1;32mIn[51], line 1\u001b[1;36m\u001b[0m\n\u001b[1;33m    def myfunc3(n, man=True, a):\u001b[0m\n\u001b[1;37m                             ^\u001b[0m\n\u001b[1;31mSyntaxError\u001b[0m\u001b[1;31m:\u001b[0m non-default argument follows default argument\n"
     ]
    }
   ],
   "source": [
    "def myfunc3(n, man=True, a): # 이 함수는 default 매개변수를 뒤에 두지 않았으므로 에러를 호출함\n",
    "    print('name : %s' %n)\n",
    "    print('age : %d' %a)\n",
    "    if(man):\n",
    "        print('man')\n",
    "    else:\n",
    "        print(\"woman\")\n",
    "\n",
    "myfunc3('hong', 20)\n",
    "myfunc3('hong', True, 20)\n",
    "myfunc3('hong', False, 20)"
   ]
  },
  {
   "cell_type": "code",
   "execution_count": 57,
   "metadata": {},
   "outputs": [
    {
     "name": "stdout",
     "output_type": "stream",
     "text": [
      "1 2? ?3\n",
      "3\n"
     ]
    }
   ],
   "source": [
    "def prn_nums(a,b,c):\n",
    "    print(a, end=' ')\n",
    "    print(b, c, sep='? ?')\n",
    "    print(c)\n",
    "prn_nums(1,2,3)"
   ]
  },
  {
   "cell_type": "code",
   "execution_count": 67,
   "metadata": {},
   "outputs": [
    {
     "name": "stdout",
     "output_type": "stream",
     "text": [
      "1 2? ?3\n",
      "3\n",
      "1 2? ?3\n",
      "3\n",
      "1 2? ?3\n",
      "3\n"
     ]
    }
   ],
   "source": [
    "#아래와 같은 방법도 가능하나 파라미터 개수는 일치해야함\n",
    "li = [1,2,3]\n",
    "prn_nums(*li)\n",
    "tu = (1,2,3)\n",
    "prn_nums(*tu)\n",
    "prn_nums(*[1,2,3])"
   ]
  },
  {
   "cell_type": "code",
   "execution_count": 66,
   "metadata": {},
   "outputs": [
    {
     "name": "stdout",
     "output_type": "stream",
     "text": [
      "1 2 3 4 5 "
     ]
    }
   ],
   "source": [
    "def prn_nums2(*n):\n",
    "    for i in n:\n",
    "        print(i, end=' ')\n",
    "prn_nums2(1,2,3,4,5)"
   ]
  },
  {
   "cell_type": "code",
   "execution_count": 70,
   "metadata": {},
   "outputs": [],
   "source": [
    "def myfunc(op, *num):\n",
    "    res = 0\n",
    "    if(op == 'add'):\n",
    "        for i in num:\n",
    "            res += i\n",
    "    elif(op == 'sub'):\n",
    "        for i in num:\n",
    "            res -= i\n",
    "    return res\n",
    "\n",
    "nums1 = [1,2,3]\n",
    "nums2 = [1,2,3,4]\n",
    "prn1 = myfunc('add', *nums1)\n",
    "prn2 = myfunc('sub', *nums2)\n",
    "print(prn1)\n",
    "print(prn2)"
   ]
  },
  {
   "cell_type": "code",
   "execution_count": 72,
   "metadata": {},
   "outputs": [
    {
     "name": "stdout",
     "output_type": "stream",
     "text": [
      "홍길동\n",
      "20\n",
      "서울\n",
      "홍길동\n",
      "20\n",
      "서울\n"
     ]
    }
   ],
   "source": [
    "def per(n, a, addr):\n",
    "    print(n)\n",
    "    print(a)\n",
    "    print(addr)\n",
    "dic = {'n': '홍길동', 'a':20, 'addr': '서울'}\n",
    "per(**dic)\n",
    "per(**{'n': '홍길동', 'a':20, 'addr': '서울'})"
   ]
  }
 ],
 "metadata": {
  "kernelspec": {
   "display_name": "Python 3",
   "language": "python",
   "name": "python3"
  },
  "language_info": {
   "codemirror_mode": {
    "name": "ipython",
    "version": 3
   },
   "file_extension": ".py",
   "mimetype": "text/x-python",
   "name": "python",
   "nbconvert_exporter": "python",
   "pygments_lexer": "ipython3",
   "version": "3.10.9"
  }
 },
 "nbformat": 4,
 "nbformat_minor": 2
}
