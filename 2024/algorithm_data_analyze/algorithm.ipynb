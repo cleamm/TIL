{
 "cells": [
  {
   "cell_type": "code",
   "execution_count": 24,
   "metadata": {},
   "outputs": [
    {
     "name": "stdout",
     "output_type": "stream",
     "text": [
      "[1, 2, 3, 4, 5]\n"
     ]
    }
   ],
   "source": [
    "lst = [3,2,1,5,4]\n",
    "for i in range(len(lst)):\n",
    "    idx = i\n",
    "    temp = lst[i]\n",
    "    for j in range(i+1, len(lst)):\n",
    "        if temp > lst[j]:\n",
    "            temp = lst[j]\n",
    "            idx = j\n",
    "    lst[i], lst[idx] = lst[idx], lst[i]\n",
    "print(lst)"
   ]
  },
  {
   "cell_type": "code",
   "execution_count": 45,
   "metadata": {},
   "outputs": [
    {
     "name": "stdout",
     "output_type": "stream",
     "text": [
      "[6, 16, 34, 38, 36, 28, 19, 41, 43, 45, 49]\n",
      "[6, 16, 34, 36, 28, 19, 38, 41, 43, 45, 49]\n",
      "[6, 16, 34, 28, 19, 36, 38, 41, 43, 45, 49]\n",
      "[6, 16, 28, 19, 34, 36, 38, 41, 43, 45, 49]\n",
      "[6, 16, 19, 28, 34, 36, 38, 41, 43, 45, 49]\n"
     ]
    }
   ],
   "source": [
    "lst = [34,6,16,41,38,36,28,19,45,43,49]\n",
    "\n",
    "for i in range(len(lst)):\n",
    "    check = False\n",
    "    for j in range(1,len(lst)-i):\n",
    "        if(lst[j-1] > lst[j]):\n",
    "            check = True\n",
    "            lst[j-1], lst[j] = lst[j], lst[j-1]\n",
    "    if check == False:\n",
    "        break\n",
    "    print(lst)"
   ]
  }
 ],
 "metadata": {
  "kernelspec": {
   "display_name": "Python 3",
   "language": "python",
   "name": "python3"
  },
  "language_info": {
   "codemirror_mode": {
    "name": "ipython",
    "version": 3
   },
   "file_extension": ".py",
   "mimetype": "text/x-python",
   "name": "python",
   "nbconvert_exporter": "python",
   "pygments_lexer": "ipython3",
   "version": "3.10.9"
  }
 },
 "nbformat": 4,
 "nbformat_minor": 2
}
