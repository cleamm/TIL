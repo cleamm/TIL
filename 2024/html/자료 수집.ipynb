{
 "cells": [
  {
   "cell_type": "markdown",
   "metadata": {},
   "source": [
    "# 자료 수집"
   ]
  },
  {
   "cell_type": "code",
   "execution_count": null,
   "metadata": {},
   "outputs": [],
   "source": [
    "from bs4 import BeautifulSoup\n",
    "from selenium import webdriver\n",
    "import re\n",
    "import time\n",
    "\n",
    "url = 'https://www.google.co.kr/?hl=ko'\n",
    "wd = webdriver.Chrome()\n",
    "wd.get(url)\n",
    "input_research = wd.find_element('css selector', '#APjFqb')\n",
    "input_research.send_keys('출산율')\n",
    "input_research.submit()"
   ]
  },
  {
   "cell_type": "code",
   "execution_count": null,
   "metadata": {},
   "outputs": [],
   "source": [
    "# https://news.kbs.co.kr/news/view.do?ncd=7901707\n",
    "wd.find_element('css selector','#arc-srp_110 > div > div:nth-child(7) > div > div > div.kb0PBd.cvP2Ce.A9Y9g.jGGQ5e > div > div > span > a > h3').click()\n",
    "html = wd.page_source\n",
    "soup = BeautifulSoup(html, 'html.parser')\n",
    "kbs_text = soup.select('#cont_newstext')[0].text # kbs"
   ]
  },
  {
   "cell_type": "code",
   "execution_count": null,
   "metadata": {},
   "outputs": [],
   "source": [
    "wd.back() # 뒤로가기 \n",
    "time.sleep(2)\n",
    "# https://www.joongang.co.kr/article/25231996\n",
    "wd.find_element('css selector','#arc-srp_110 > div > div:nth-child(8) > div > div > div.kb0PBd.cvP2Ce.A9Y9g.jGGQ5e > div > div > span > a > h3').click()\n",
    "time.sleep(2)\n",
    "html = wd.page_source\n",
    "soup = BeautifulSoup(html, 'html.parser')\n",
    "joongang_text = soup.select('#article_body')[0].text # 중앙일보"
   ]
  },
  {
   "cell_type": "code",
   "execution_count": null,
   "metadata": {},
   "outputs": [],
   "source": [
    "wd.back() # 뒤로가기 \n",
    "time.sleep(2)\n",
    "# https://www.donga.com/news/Economy/article/all/20240229/123746418/1\n",
    "wd.find_element('css selector','#arc-srp_110 > div > div:nth-child(9) > div > div > div.kb0PBd.cvP2Ce.A9Y9g.jGGQ5e > div > div > span > a > h3').click()\n",
    "time.sleep(2)\n",
    "html = wd.page_source\n",
    "soup = BeautifulSoup(html, 'html.parser')\n",
    "donga_text = soup.select('#contents > div.view_body > div > div.main_view > section.news_view')[0].text # 동아일보"
   ]
  },
  {
   "cell_type": "code",
   "execution_count": null,
   "metadata": {},
   "outputs": [],
   "source": [
    "media_list = [kbs_text, joongang_text, donga_text]\n",
    "print('띄어쓰기를 제외:',len(kbs_text.split()))\n",
    "print('중복 제외:',len(set(kbs_text.split())))\n",
    "\n",
    "a_lot_of_wording=[[],[],[]]\n",
    "for j in range(len(media_list)):\n",
    "    not_space = media_list[j].split()\n",
    "    unique_wording = list(set(media_list[j].split()))\n",
    "    counts = []\n",
    "    for i in unique_wording:\n",
    "        counts.append(not_space.count(i))\n",
    "        if not_space.count(i)>1: # 1회 이상 출현한 단어\n",
    "            a_lot_of_wording[j].append(i)\n",
    "\n",
    "print(a_lot_of_wording[0]) # kbs 기사에서 2회 이상 출한한 단어\n",
    "print(a_lot_of_wording[1]) # 중앙일보 기사에서 2회 이상 출한한 단어\n",
    "print(a_lot_of_wording[2]) # 동아일보 기사에서 2회 이상 출한한 단어"
   ]
  },
  {
   "cell_type": "code",
   "execution_count": null,
   "metadata": {},
   "outputs": [],
   "source": [
    "media_list = [kbs_text, joongang_text, donga_text]\n",
    "\n",
    "# 공백분리\n",
    "rm_kbs_space = kbs_text.split()\n",
    "rm_joongang_space = joongang_text.split()\n",
    "rm_donga_space = donga_text.split()\n",
    "\n",
    "rm_space = rm_kbs_space + rm_donga_space + rm_joongang_space\n",
    "len(rm_space)\n",
    "set_rm_space = list(set(rm_space))\n",
    "len(set_rm_space)\n",
    "\n",
    "sum_text = kbs_text + joongang_text + donga_text\n",
    "sum_unique_wording = []\n",
    "many_wording = []\n",
    "two_speling = []\n",
    "for i in set_rm_space:\n",
    "    c = sum_text.count(i)\n",
    "    if(c > 2): # 중복 단어 2회 이상\n",
    "        many_wording.append([c,i])\n",
    "        if(len(i) > 1): # 2글자 이상\n",
    "            two_speling.append([c, i]) \n",
    "\n",
    "many_wording.sort()\n",
    "two_speling.sort(reverse=True)\n",
    "print(len(many_wording)) # 중복된 적이 있는 단어의 개수\n",
    "# many_wording[-1:-40:-1] # 의미가 있는 단어를 찾기는 어려움...\n",
    "two_speling\n"
   ]
  },
  {
   "cell_type": "markdown",
   "metadata": {},
   "source": [
    "1. 위의 결과에서 단어의 출현 빈도가 출산율과 관련된 직간접 단어가 된다고 찾기는 다소 어렵게 보임..\n",
    "2. 그나마 의미가 있는 단어로 보이는 것은 <strong>'육아', '서울', '기준', '4분기', '휴직', '연령', '정책', '가정', '육아휴직', '양육'</strong> 정도로 보임\n",
    "3. 위 사항은 추측에 불과하며 직관적으로 직접적 관련이 있는 단어는 <strong>'휴직', '정책', '양육', '육아휴직'</strong> 정도로 보이며\n",
    "4. 직접적 관련이 있는 단어인 '휴직' 과 '정책'은 5회의 출현빈도를 가지므로 중요하게 거론되지 않았을 가능성 또한 있을 것 같음\n",
    "5. 단어 자체가 직접적인 연관은 있으나 해결책이나 과정, 문제점을 짚어주는 역할이 없는 '출산', '출산율' 등의 단어가 가장 많이 언급되는 것으로 보았을 때 <strong>보편적인 취재만 진행된 기사</strong>일 것으로 보임."
   ]
  },
  {
   "cell_type": "markdown",
   "metadata": {},
   "source": [
    "<h3> 조사에 따른 결론</h3>\n",
    "<div>\n",
    "1. 조사한 데이터가 부족함.<br>\n",
    "2. 데이터 전처리, 후처리 등의 작업이 부족함 <br>\n",
    "3. 뉴스보다 통계가 더 수식을 적용한 계산으로 객관성의 확보가 수월할 것이라고 생각됨 <br>\n",
    "</div>"
   ]
  }
 ],
 "metadata": {
  "language_info": {
   "name": "python"
  }
 },
 "nbformat": 4,
 "nbformat_minor": 2
}
