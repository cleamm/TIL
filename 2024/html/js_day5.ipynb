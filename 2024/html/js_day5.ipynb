{
 "cells": [
  {
   "cell_type": "code",
   "execution_count": 32,
   "metadata": {},
   "outputs": [],
   "source": [
    "# 1. 아래는 괄호를 이용한 연산식이다.\n",
    "\n",
    "# (5+6)∗(7+8)/(4+3)\n",
    "\n",
    "# 우리는 여는 괄호가 있으면 닫는 괄호가 반드시 있어야 한다는 것을 잘 알고 있다.\n",
    "\n",
    "# 다음은 정상적인(balanced) 괄호 사용의 예이다.\n",
    "\n",
    "# (()()()())\n",
    "# (((())))\n",
    "# (()((())()))\n",
    "# 다음은 비정상적인(not balanced) 괄호 사용의 예이다.\n",
    "\n",
    "# ((((((())\n",
    "# ()))\n",
    "# (()()(()\n",
    "# (()))(\n",
    "# ())(()\n",
    "# 괄호의 사용이 잘 되었는지 잘못 되었는지 판별 해 주는 프로그램을 작성하시오.\n",
    "\n",
    "s = '(()()()())'\n",
    "res = 0\n",
    "if(s.count('(') == s.count(')')):\n",
    "    for i in s:\n",
    "        if(i == '('):\n",
    "            res += 1\n",
    "        else:\n",
    "            res -= 1\n",
    "        if(res < 0):\n",
    "            print('its over')\n",
    "            break\n",
    "else:\n",
    "    print('its over')"
   ]
  },
  {
   "cell_type": "code",
   "execution_count": 18,
   "metadata": {},
   "outputs": [
    {
     "name": "stdout",
     "output_type": "stream",
     "text": [
      "2024-04-02 00:00:00\n",
      "2024\n",
      "1\n",
      "2\n",
      "4\n",
      "1 day, 0:00:00\n"
     ]
    }
   ],
   "source": [
    "import datetime\n",
    "print(datetime.datetime(2024, 4, 2))\n",
    "today=datetime.datetime(2024, 4, 2)\n",
    "print(today.year)\n",
    "print(today.weekday())#0:월요일, 1:화요, ...\n",
    "print(today.day)#2일\n",
    "print(today.month) #4월\n",
    "#매월 1일이 일요일인 경우는 총 몇 번\n",
    "#1900년 1월 1일 ~ 1999년 12월 31일\n",
    "s=datetime.datetime(1900, 1, 1)\n",
    "d=datetime.timedelta(days=1)\n",
    "print(d)"
   ]
  },
  {
   "cell_type": "code",
   "execution_count": 51,
   "metadata": {},
   "outputs": [
    {
     "name": "stdout",
     "output_type": "stream",
     "text": [
      "False\n",
      "172\n"
     ]
    }
   ],
   "source": [
    "days=['Sun','Mon','Tue','Wed','Thu','Fri','Sat']\n",
    "isLeafYear=lambda y:y%400==0 or y%100!=0 and y%4==0\n",
    "print(isLeafYear(2100))\n",
    "day=1\n",
    "cnt=0\n",
    "for y in range(1900,2000):\n",
    "    a=isLeafYear(y)#true(윤년):1, false(평년):0\n",
    "    dayOfMonth=[0, 31, 28+a,31,30,31,30,31,31,30,31,30,31]\n",
    "    for m in range(1,13):\n",
    "        cnt+=days[day]=='Sun' #1900년 1월 1일은 월요일\n",
    "        day=(day+dayOfMonth[m])%7\n",
    "print(cnt)"
   ]
  },
  {
   "cell_type": "code",
   "execution_count": null,
   "metadata": {},
   "outputs": [],
   "source": [
    "# 2.\n",
    "# 다음은 달력에 관한 몇 가지 일반적인 정보입니다 (파이썬 날짜 함수를 활용하세요).\n",
    "\n",
    "# 1900년 1월 1일은 월요일이다.\n",
    "# 4월, 6월, 9월, 11월은 30일까지 있고, 1월, 3월, 5월, 7월, 8월, 10월, 12월은 31일까지 있다.\n",
    "# 2월은 28일이지만, 윤년에는 29일까지 있다.\n",
    "# 윤년은 연도를 4로 나누어 떨어지는 해를 말한다. 하지만 400으로 나누어 떨어지지 않는 매 100년째는 윤년이 아니며, 400으로 나누어 떨어지면 윤년이다.\n",
    "# 1900년 1월 1일 ~ 1999년 12월 31일에서, 매월 1일이 일요일인 경우는 총 몇 번입니까?"
   ]
  },
  {
   "cell_type": "code",
   "execution_count": 17,
   "metadata": {},
   "outputs": [
    {
     "name": "stdout",
     "output_type": "stream",
     "text": [
      "172\n"
     ]
    }
   ],
   "source": [
    "import datetime\n",
    "\n",
    "# s = datetime.datetime(1900,1,7)\n",
    "# s.weekday() # 0: 월요일 6: 일요일\n",
    "for i in range(1900, 2000):\n",
    "    for j in range(1, 13):\n",
    "        if(datetime.datetime(i,j,1).weekday() == 6):\n",
    "            res += 1\n",
    "\n",
    "print(res)"
   ]
  },
  {
   "cell_type": "code",
   "execution_count": 33,
   "metadata": {},
   "outputs": [],
   "source": [
    "# 3.\n",
    "# 텍스트가 입력으로 주어질 때, 단어의 개수를 세는 프로그램을 작성한다.\n",
    "\n",
    "# 입력\n",
    "# 아래 내용을 가진 텍스트파일을 미리 만들어 두고, 프로그램을 실행하면 파일 내용을 읽어들인다(출처: Wikipedia).\n",
    "text = 'As the country became embroiled in a domestic crisis, the first government was dislodged and succeeded by several different administrations. Bolikango served as Deputy Prime Minister in one of the new governments before a partial state of stability was reestablished in 1961. He mediated between warring factions in the Congo and briefly served once again as Deputy Prime Minister in 1962 before returning to the parliamentary opposition. After Joseph-Desire Mobutu took power in 1965, Bolikango became a minister in his government. Mobutu soon dismissed him but appointed him to the political bureau of the Mouvement Populaire de la Revolution. Bolikango left the bureau in 1970. He left Parliament in 1975 and died seven years later. His grandson created the Jean Bolikango Foundation in his memory to promote social progress. The President of the Congo posthumously awarded Bolikango a medal in 2005 for his long career in public service.'\n",
    "# 출력\n",
    "# 구분자(Separator)는 마침표 '.', 쉼표 ',', 공백 ' ' 이다.\n",
    "# 가장 많이 나온 순서대로 단어 10개와 그 단어의 빈도를 출력한다.\n",
    "# 빈도가 같은 단어들 사이의 순서는 무시한다.\n",
    "\n",
    "text_list = text.split()"
   ]
  },
  {
   "cell_type": "code",
   "execution_count": 64,
   "metadata": {},
   "outputs": [
    {
     "name": "stdout",
     "output_type": "stream",
     "text": [
      "in 12\n",
      "the 10\n",
      "Bolikango 5\n",
      "of 4\n",
      "a 4\n",
      "his 3\n",
      "to 3\n",
      "and 3\n",
      "served 2\n",
      "Mobutu 2\n"
     ]
    }
   ],
   "source": [
    "# 쉬운 풀이를 생각하면 collections - Counter 함수를 이용하면 많이 사용된 개수를 구하기에 굉장히 쉬워짐\n",
    "\n",
    "for i in range(len(text_list)):\n",
    "    if(',' in text_list[i] or '.' in text_list[i]):\n",
    "        text_list[i] = text_list[i][:-1]\n",
    "        print(text_list[i])\n",
    "set_text = list(set(text_list))\n",
    "counting = []\n",
    "best_count = 0\n",
    "for i in set_text:\n",
    "    counting.append(text_list.count(i))\n",
    "    if(text_list.count(i) > best_count):\n",
    "        best_count = text_list.count(i)\n",
    "res = []\n",
    "dict_word = dict(zip(set_text, counting))\n",
    "\n",
    "print_cnt = 0\n",
    "cnt_ten = False\n",
    "for i in range(best_count,0,-1):\n",
    "    for k, v in dict_word.items():\n",
    "        if(print_cnt == 10):\n",
    "            cnt_ten = True\n",
    "            break\n",
    "        if v == i:\n",
    "            print(k, v)\n",
    "            print_cnt += 1"
   ]
  },
  {
   "cell_type": "code",
   "execution_count": 76,
   "metadata": {},
   "outputs": [
    {
     "name": "stdout",
     "output_type": "stream",
     "text": [
      "[('in', 12), ('the', 10), ('Bolikango', 5), ('a', 4), ('of', 4), ('and', 3), ('to', 3), ('his', 3), ('became', 2), ('government', 2)]\n"
     ]
    }
   ],
   "source": [
    "# 위 문제를 아래와 같이 풀이할 수 있음.... 왤케 코드가 짧아짐\n",
    "from collections import Counter\n",
    "\n",
    "with open('readtext.txt', 'r') as f:\n",
    "    words = [w.strip(',.') for w in f.read().split()]\n",
    "print(Counter(words).most_common(10))"
   ]
  }
 ],
 "metadata": {
  "kernelspec": {
   "display_name": "Python 3",
   "language": "python",
   "name": "python3"
  },
  "language_info": {
   "codemirror_mode": {
    "name": "ipython",
    "version": 3
   },
   "file_extension": ".py",
   "mimetype": "text/x-python",
   "name": "python",
   "nbconvert_exporter": "python",
   "pygments_lexer": "ipython3",
   "version": "3.10.9"
  }
 },
 "nbformat": 4,
 "nbformat_minor": 2
}
