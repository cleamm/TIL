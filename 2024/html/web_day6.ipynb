{
 "cells": [
  {
   "cell_type": "code",
   "execution_count": 5,
   "metadata": {},
   "outputs": [
    {
     "name": "stdout",
     "output_type": "stream",
     "text": [
      "[4, 9]\n"
     ]
    },
    {
     "data": {
      "text/plain": [
       "[1, 2, 3, 4]"
      ]
     },
     "execution_count": 5,
     "metadata": {},
     "output_type": "execute_result"
    }
   ],
   "source": [
    "# 1. 연속된 세 개의 정수를 더해 12가 되는 경우는 3, 4, 5입니다. 두 정수 num과 total이 주어집니다. \n",
    "# 연속된 수 num개를 더한 값이 total이 될 때, 정수 배열을 오름차순으로 담아 return하도록 solution함수를 완성해보세요.\n",
    "\n",
    "# 제한사항\n",
    "# 1 ≤ num ≤ 10\n",
    "# 0 ≤ total ≤ 100\n",
    "# num개의 연속된 수를 더하여 total이 될 수 없는 테스트 케이스는 없습니다.\n",
    "# 입출력 예\n",
    "# num\ttotal\tresult\n",
    "# 3\t12\t[3, 4, 5]\n",
    "# 5\t15\t[1, 2, 3, 4, 5]\n",
    "# 4\t14\t[2, 3, 4, 5]\n",
    "# 5\t5\t[-1, 0, 1, 2, 3]\n",
    "# 2\t7\t[3,4]\n",
    "# 1\t5\t[5]\n",
    "\n",
    "\n",
    "def solution(num_list):\n",
    "    leng = num_list[0]\n",
    "    average = int(num_list[1]/leng)\n",
    "    res = []\n",
    "    for i in range(1, int(leng/2)+1):\n",
    "        res.append(average+i)\n",
    "        res.append(average-i)\n",
    "    res.append(average)\n",
    "    res.sort()\n",
    "    if len(res) != leng:\n",
    "        res = res[1:]\n",
    "    return res\n",
    "while True: # 제한사항 충족 조건\n",
    "    nums = list(map(int, input('num, total : ').split()))\n",
    "    if 1<=nums[0]<=10 and 0<nums[1]<=100:\n",
    "        break\n",
    "\n",
    "print(nums)\n",
    "solution(nums)"
   ]
  },
  {
   "cell_type": "code",
   "execution_count": 67,
   "metadata": {},
   "outputs": [
    {
     "name": "stdout",
     "output_type": "stream",
     "text": [
      "18\n"
     ]
    }
   ],
   "source": [
    "# 2. 네이버 글자수세기 등 특정 글의 글자를 세는 프로그램은 일반적으로 공백을 제외한 글자수만을 세는 기능도 가지고 있다.\n",
    "# 어떠한 문자열을 입력받았을 때 줄바꿈과 공백을 제외한 글자수만을 리턴하는 코드를 작성하시오.\n",
    "\n",
    "# 입력 예시\n",
    "# 공백을 제외한\n",
    "# 글자수만을 세는 코드 테스트\n",
    "\n",
    "# 출력 예시\n",
    "# 18\n",
    "\n",
    "import re\n",
    "\n",
    "text = '''공백을 제외한\n",
    "글자수만을 세는 코드 테스트'''\n",
    "space_count = re.findall(' ', text)\n",
    "enter_count = re.findall('\\n', text)\n",
    "print(len(text) - len(space_count) - len(enter_count))"
   ]
  },
  {
   "cell_type": "code",
   "execution_count": 77,
   "metadata": {},
   "outputs": [
    {
     "name": "stdout",
     "output_type": "stream",
     "text": [
      "cmia ho\n",
      "91061\n"
     ]
    }
   ],
   "source": [
    "# 3. 문자와 숫자가섞인 문자열을 입력받을때 구별하여출력해라\n",
    "\n",
    "# 입력 예시\n",
    "# \"c910m6ia 1ho\"\n",
    "\n",
    "# 출력 예시\n",
    "# str : cma ho\n",
    "# int : 91061\n",
    "\n",
    "import re\n",
    "string_text = re.findall('[\\D]+', \"c910m6ia 1ho\")\n",
    "int_text = re.findall('[0-9]+', \"c910m6ia 1ho\")\n",
    "sum_string = ''\n",
    "sum_int = ''\n",
    "for i in string_text:\n",
    "    sum_string+=i\n",
    "for i in int_text:\n",
    "    sum_int+=i\n",
    "print(sum_string)\n",
    "print(sum_int)"
   ]
  }
 ],
 "metadata": {
  "kernelspec": {
   "display_name": "Python 3",
   "language": "python",
   "name": "python3"
  },
  "language_info": {
   "codemirror_mode": {
    "name": "ipython",
    "version": 3
   },
   "file_extension": ".py",
   "mimetype": "text/x-python",
   "name": "python",
   "nbconvert_exporter": "python",
   "pygments_lexer": "ipython3",
   "version": "3.10.9"
  }
 },
 "nbformat": 4,
 "nbformat_minor": 2
}
