{
 "cells": [
  {
   "cell_type": "code",
   "execution_count": 7,
   "metadata": {},
   "outputs": [
    {
     "name": "stdout",
     "output_type": "stream",
     "text": [
      "3\n"
     ]
    }
   ],
   "source": [
    "# 1.A씨는 게시판 프로그램을 작성하고 있다.\n",
    "\n",
    "# A씨는 게시물의 총 건수와 한 페이지에 보여줄 게시물수를 입력으로 주었을 때 총 페이지수를 리턴하는 프로그램이 필요하다고 한다.\n",
    "\n",
    "# 입력 : 총건수(m), 한페이지에 보여줄 게시물수(n) (단 n은 1보다 크거나 같다. n >= 1)\n",
    "# 출력 : 총페이지수\n",
    "\n",
    "# A씨가 필요한 프로그램을 작성하시오.\n",
    "\n",
    "# 예) 프로그램 수행 시 다음과 같은 결과값이 나와야 함.\n",
    "\n",
    "# m\t    n\t출력\n",
    "# 0\t    1\t0\n",
    "# 1\t    1\t1\n",
    "# 2\t    1\t2\n",
    "# 1\t    10\t1\n",
    "# 10\t10\t1\n",
    "# 11\t10\t2\n",
    "\n",
    "m, n = map(int, input('총건수, 보여줄 게시물 수:').split())\n",
    "if m%n >0:\n",
    "    print(m//n+1)\n",
    "else:\n",
    "    print(m//n)"
   ]
  },
  {
   "cell_type": "code",
   "execution_count": 20,
   "metadata": {},
   "outputs": [
    {
     "name": "stdout",
     "output_type": "stream",
     "text": [
      "KIBG\n"
     ]
    }
   ],
   "source": [
    "# 2,시저 암호는, 고대 로마의 황제 줄리어스 시저가 만들어 낸 암호인데,\n",
    "# 예를 들어 알파벳 A를 입력했을 때, \n",
    "# 그 알파벳의 n개 뒤에 오는(여기서는 예를 들 때 3으로 지정하였다)알파벳이 출력되는 것이다. \n",
    "# 예를 들어 바꾸려는 단어가 'CAT\"고, n을 5로 지정하였을 때 \"HFY\"가 되는 것이다.\n",
    "\n",
    "# 어떠한 암호를 만들 문장과 n을 입력했을 때 암호를 만들어 출력하는 프로그램을 작성해라.\n",
    "\n",
    "# chr타입으로 계산하면 될 듯함.\n",
    "\n",
    "word, n = input().split()\n",
    "res = ''\n",
    "n = int(n)\n",
    "for i in word:\n",
    "    pat_value = chr(ord(i)+n)\n",
    "    if 123>ord(pat_value)>97 or 90>=ord(pat_value)>=65:\n",
    "        res += pat_value\n",
    "    else:\n",
    "        res += chr(ord(pat_value)-26)\n",
    "print(res)"
   ]
  },
  {
   "cell_type": "code",
   "execution_count": 31,
   "metadata": {},
   "outputs": [
    {
     "name": "stdout",
     "output_type": "stream",
     "text": [
      "KIBG\n"
     ]
    }
   ],
   "source": [
    "code = 'CATY'\n",
    "n = 60\n",
    "nn = 60 % 26 # 나머지값\n",
    "ceasar = lambda a:chr(ord(a) + nn if 64 < (ord(a) + nn) < 91 else ord(a) + nn - 26)\n",
    "print(''.join(ceasar(c) for c in code))"
   ]
  },
  {
   "cell_type": "code",
   "execution_count": 160,
   "metadata": {},
   "outputs": [
    {
     "name": "stdout",
     "output_type": "stream",
     "text": [
      ".... .sp... .-.. . . .--. ...sp. .- .-. .-.. -.--\n",
      "a ['....', '.sp...', '.-..', '.', '.', '.--.', '...sp.', '.-', '.-.', '.-..', '-.--']\n",
      "he sleeps early\n"
     ]
    }
   ],
   "source": [
    "# 3.문자열 형식으로 입력 받은 모스코드(dot: . dash:-)를 해독하여 영어 문장으로 출력하는 프로그램을 작성하시오.\n",
    "\n",
    "# 글자와 글자 사이는 공백 하나, 단어와 단어 사이는 공백 두개로 구분한다.\n",
    "\n",
    "# 예를 들어 다음 모스부호는 \"he sleeps early\"로 해석해야 한다.\n",
    "\n",
    "# .... .  ... .-.. . . .--. ...  . .- .-. .-.. -.--\n",
    "# 모스부호 규칙 표\n",
    "\n",
    "# 문자\t부호\t문자\t부호\n",
    "# A\t    .-\t    N\t    -.\n",
    "# B\t    -...    O\t    ---\n",
    "# C\t    -.-.    P\t    .--.\n",
    "# D\t    -..\t    Q       --.-\n",
    "# E\t    .\t    R       .-.\n",
    "# F\t    ..-.    S\t    ...\n",
    "# G\t    --.\t    T\t    -\n",
    "# H\t    ....    U   \t..-\n",
    "# I\t    ..\t    V\t    ...-\n",
    "# J\t    .---    W\t    .--\n",
    "# K\t    -.-\t    X\t    -..-\n",
    "# L\t    .-..    Y   \t-.--\n",
    "# M\t    --\t    Z\t    --..\n",
    "\n",
    "\n",
    "import re\n",
    "mos = ['.-','-...', '-.-.', '-..', '.','..-.', '--.',\n",
    "       '....','..','.---', '-.-','.-..', '--','-.',\n",
    "       '---','.--.','--.-','.-.','...', '-', '..-',\n",
    "       '...-', '.--', '-..-', '-.--', '--..']\n",
    "\n",
    "print(len(mos)) # 모스부호가 전부 담겼는지 개수 체크\n",
    "res = ''\n",
    "mos_data = '.... .  ... .-.. . . .--. ...  . .- .-. .-.. -.--'\n",
    "mos_data = re.sub('  ', 'sp', mos_data)\n",
    "print(mos_data)\n",
    "datas = mos_data.split()\n",
    "print('a',datas)\n",
    "\n",
    "for eng in datas:\n",
    "    if('sp' in eng):\n",
    "        eng = eng.split('sp')\n",
    "        a, b = False, False # 첫번째 모스 두번째 모스 분리\n",
    "        for j in range(len(mos)): # 모스 패턴만큼 반복\n",
    "            if(mos[j] == eng[0]):\n",
    "                aa = chr(j+97) # 결과에 적용할 글자\n",
    "                a = True\n",
    "            if(mos[j] == eng[1]):\n",
    "                bb = chr(j+97) # 결과에 적용할 글자\n",
    "                b = True\n",
    "            if(a == True and b == True):\n",
    "                res += aa+' '+bb\n",
    "                break\n",
    "\n",
    "    else:\n",
    "        for j in range(len(mos)):\n",
    "           if(mos[j] == eng):\n",
    "                res += chr(j+97)\n",
    "                break\n",
    "    \n",
    "print(res)"
   ]
  },
  {
   "cell_type": "code",
   "execution_count": 3,
   "metadata": {},
   "outputs": [
    {
     "name": "stdout",
     "output_type": "stream",
     "text": [
      "['....', '.', '', '...', '.-..', '.', '.', '.--.', '...', '', '.', '.-', '.-.', '.-..', '-.--']\n",
      "HE SLEEPS EARLY\n"
     ]
    }
   ],
   "source": [
    "mos_dic={'.-':'A', '-.':'N', '-...':'B', '---':'O', '-.-.':'C', '.--.':'P', '-..':'D', '--.-':'Q', '.':'E', '.-.':'R','..-.':'F', \n",
    "         '...':'S', '--.':'G', '-':'T', '....':'H', '..-':'U', '..':'I', '...-':'V', '.---':'J', '.--':'W', '-.-':'K', '-..-':'X', \n",
    "         '.-..':'L', '-.--':'Y', '--':'M', '--..':'Z'}\n",
    "\n",
    "mos=\".... .  ... .-.. . . .--. ...  . .- .-. .-.. -.--\"\n",
    "mos_list=mos.split(' ')\n",
    "res=''\n",
    "for m in mos_list:\n",
    "    if m=='':  # 빈칸이면 공백 출력\n",
    "        res+=' '\n",
    "    else:\n",
    "        solution=mos_dic.get(m)\n",
    "        res+=solution\n",
    "print(res)"
   ]
  }
 ],
 "metadata": {
  "kernelspec": {
   "display_name": "Python 3",
   "language": "python",
   "name": "python3"
  },
  "language_info": {
   "codemirror_mode": {
    "name": "ipython",
    "version": 3
   },
   "file_extension": ".py",
   "mimetype": "text/x-python",
   "name": "python",
   "nbconvert_exporter": "python",
   "pygments_lexer": "ipython3",
   "version": "3.10.9"
  }
 },
 "nbformat": 4,
 "nbformat_minor": 2
}
