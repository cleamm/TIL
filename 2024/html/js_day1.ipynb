{
 "cells": [
  {
   "cell_type": "code",
   "execution_count": 48,
   "metadata": {},
   "outputs": [
    {
     "name": "stdout",
     "output_type": "stream",
     "text": [
      "3\n",
      "6\n",
      "9\n",
      "num [1, 2, 4, 5, 7, 8, 10]\n",
      "2\n",
      "7\n",
      "num [1, 4, 5, 8, 10]\n",
      "1\n",
      "8\n",
      "num [4, 5, 10]\n",
      "10\n",
      "num [4, 5]\n",
      "4 5\n"
     ]
    }
   ],
   "source": [
    "# 1. 약 2,000년 전에는 전쟁에서 병사들이 적들에 의해 동굴에 갇히게 되는 경우가 종종 있었다고 한다.\n",
    "\n",
    "# 그들은 포로가 되는것을 방지하기 위해 동그랗게 서서 마지막 한 사람이 남을 때 까지 순서대로 돌아가며 세번째에 해당되는 사람을 죽여 나갔다고 한다.\n",
    "\n",
    "# 마지막으로 남게되는 사람은 자살하기로 약속되어 있었지만 보통 적들에게 항복을 하는 경우가 많았다고 한다.\n",
    "\n",
    "# 여러분이 풀어야 할 문제는 총 인원수(N)와 간격(K)이 주어졌을 때 가장 마지막에 살아남는 병사의 위치(the safe position)를 알아내는 것이다.\n",
    "\n",
    "# 예를 들어 병사수가 총 10명이고 돌아가며 세번째에 해당되는 병사를 제거하는 경우는 다음과 같다:\n",
    "\n",
    "# N = 10, K = 3\n",
    "\n",
    "# 위의 경우 다음과 같은 순서로 병사들이 제거된다. (괄호는 제거되는 병사를 의미한다)\n",
    "\n",
    "# 1st round: 1 2 (3) 4 5 (6) 7 8 (9) 10\n",
    "# 2nd round:                            1 (2) 4 5 (7) 8 10\n",
    "# 3rd round:                                                (1) 4 5 (8) 10\n",
    "# 4th round:                                                               4 (5) 10\n",
    "# 5th round:                                                                        4 (10)\n",
    "# 위 예에서 끝가지 살아남는 병사는 4, 즉 4번째 병사이다.\n",
    "\n",
    "# 입력 데이터는 총 병사수 N과 간격 K이다.\n",
    "# 출력 데이터는 마지막까지 살아남는 병사의 위치이다.\n",
    "\n",
    "# (단, 최초 시작은 1번 병사부터이다.)\n",
    "\n",
    "# 입출력 예는 다음과 같다:\n",
    "\n",
    "# initial data:\n",
    "# 10 3\n",
    "\n",
    "# answer:\n",
    "# 4\n",
    "\n",
    "N = 10\n",
    "K = 3\n",
    "added = 0\n",
    "num = [i for i in range(1,N+1)]\n",
    "if N%K>0:\n",
    "    added = N%K\n",
    "remove_list = []\n",
    "minus = 1\n",
    "brk = False\n",
    "while brk == False:\n",
    "    for i in range(K-minus, len(num), K):\n",
    "        remove_list.append(num[i])\n",
    "    \n",
    "    for j in remove_list:\n",
    "        if(len(num)==2):\n",
    "            brk = True\n",
    "            break\n",
    "        print(j)\n",
    "        num.remove(j)\n",
    "    print('num',num)\n",
    "    remove_list = []\n",
    "    minus += added\n",
    "# del num[added]\n",
    "print(*num)\n",
    "\n",
    "# 근데 어딘가 잘못되서 에러가 남"
   ]
  },
  {
   "cell_type": "code",
   "execution_count": 36,
   "metadata": {},
   "outputs": [
    {
     "name": "stdout",
     "output_type": "stream",
     "text": [
      "인원 : 10, 간격 : 4, 살아남은 병사의 위치 : 2\n"
     ]
    }
   ],
   "source": [
    "## 유윤태 학생\n",
    "def last_soldier(n, k):    # n : 총 인원, k : 간격\n",
    "    soldier_n = list(n for n in range(1, n+1))  # 병사들 구분을 위해 번호 부여\n",
    "    cnt = 1                         # 반복한 횟수 체크\n",
    "\n",
    "    while True:\n",
    "        if len(soldier_n) == 1:     # 1명 남으면\n",
    "            # print(soldier_n)\n",
    "            break\n",
    "        else:                       # 여러명이면\n",
    "            for i in range(len(soldier_n)):\n",
    "                if cnt != k:        # 반복 횟수가 간격이 아니면\n",
    "                    cnt += 1        # 횟수 +1\n",
    "                else:\n",
    "                    del soldier_n[i]      # 해당 인원 제거\n",
    "                    cnt = 0\n",
    "\n",
    "    return print(f'인원 : {n}, 간격 : {k}, 살아남은 병사의 위치 : {soldier_n[0]}')\n",
    "\n",
    "\n",
    "last_soldier(10, 4)"
   ]
  },
  {
   "cell_type": "code",
   "execution_count": 39,
   "metadata": {},
   "outputs": [
    {
     "name": "stdout",
     "output_type": "stream",
     "text": [
      "인원 : 10, 간격 : 4, 살아남은 병사의 위치 : 5\n"
     ]
    }
   ],
   "source": [
    "## 유윤태 학생 개선\n",
    "def last_soldier(n, k):    # n : 총 인원, k : 간격\n",
    "    soldier_n = list(n for n in range(1, n+1))  # 병사들 구분을 위해 번호 부여\n",
    "    dead = []                                   # 죽은 병사체크\n",
    "    cnt = 0                         # 반복한 횟수 체크\n",
    "\n",
    "    while True:\n",
    "        if len(soldier_n) == 1:     # 1명 남으면\n",
    "            # print(soldier_n)\n",
    "            break\n",
    "        else:                       # 여러명이면\n",
    "            for i in range(len(soldier_n)):\n",
    "                cnt += 1  # 횟수 +1\n",
    "                if cnt != k:        # 반복 횟수가 간격이 아니면\n",
    "                    # print(cnt)\n",
    "                    pass\n",
    "                else:\n",
    "                    dead.append(soldier_n[i])   # 해당 인원 제거\n",
    "                    cnt = 0\n",
    "            soldier_n = [item for item in soldier_n if item not in dead]\n",
    "\n",
    "    return print(f'인원 : {n}, 간격 : {k}, 살아남은 병사의 위치 : {soldier_n[0]}')\n",
    "\n",
    "\n",
    "last_soldier(10, 4)"
   ]
  },
  {
   "cell_type": "code",
   "execution_count": 43,
   "metadata": {},
   "outputs": [
    {
     "name": "stdout",
     "output_type": "stream",
     "text": [
      "<10,20,30,11,22,3,15,27,9,24,7,23,8,26,14,2,21,16,6,4,1,5,13,19,12,29,18,25,17,28>\n"
     ]
    }
   ],
   "source": [
    "#001 김상준\n",
    "n,k = map(int, input().split())\n",
    "a = [i for i in range(1,n+1)]\n",
    "\n",
    "answer=[] #제거된 사람들의 배열\n",
    "num = 0 #제거된 사람의 번호\n",
    "\n",
    "for j in range(n):\n",
    "    num += k-1\n",
    "    if num >= len(a):\n",
    "        num =num%len(a)\n",
    "    \n",
    "    answer.append(str(a.pop(num)))\n",
    "\n",
    "print('<',','.join(answer)[:],'>',sep='')"
   ]
  },
  {
   "cell_type": "code",
   "execution_count": 185,
   "metadata": {},
   "outputs": [
    {
     "name": "stdout",
     "output_type": "stream",
     "text": [
      "232792560\n"
     ]
    }
   ],
   "source": [
    "# 2. 1부터 10까지의 어떤 수로도 나누어 떨어지는 가장 작은 수는 2520입니다.\n",
    "\n",
    "# 그렇다면 1부터 20까지의 어떤 수로도 나누어 떨어지는 가장 작은 수는 얼마입니까?\n",
    "\n",
    "num = 20 #  가장 큰 수는 되어야 함\n",
    "\n",
    "brk = False\n",
    "while brk == False:\n",
    "    for i in range(1,21):\n",
    "        if(int(num/i) != num/i):\n",
    "            num += 20\n",
    "            break\n",
    "        elif(i == 20):\n",
    "            brk = True\n",
    "            break\n",
    "print(num)"
   ]
  },
  {
   "cell_type": "code",
   "execution_count": 18,
   "metadata": {},
   "outputs": [
    {
     "name": "stdout",
     "output_type": "stream",
     "text": [
      "9534330\n"
     ]
    }
   ],
   "source": [
    "# 3. 음수가 아닌 수들이 주어졌을 때 그 수들을 이어서 만들 수 있는 가장 큰 수를 구하시오. \n",
    "# 예를 들어 [1,2,3]이 주어졌을 때 만들 수 있는 가장 큰 수는 321이고, \n",
    "# [3, 30, 34, 5, 9] 가 주어지면 만들 수 있는 가장 큰 수는 9534330이다.\n",
    "nums = [3, 30, 34, 5, 9]\n",
    "\n",
    "for i in range(len(nums)):\n",
    "    nums[i] = str(nums[i])\n",
    "nums.sort(reverse=True)\n",
    "# print(nums)\n",
    "new_nums = dict(zip([i for i in range(len(nums))], nums))\n",
    "\n",
    "best_length = 0\n",
    "for i in nums:\n",
    "    if (len(i) > best_length):\n",
    "        best_length = len(i)\n",
    "# print(best_length)  최대 길이 구하기\n",
    "\n",
    "for i in range(len(nums)):\n",
    "    if(len(nums[i]) < best_length): # 숫자의 길이가 같아질 때까지 반복\n",
    "        while len(nums[i])<best_length: # 반복하는 이유로 비교하는 숫자는 반복되기 때문임\n",
    "            nums[i] = nums[i]+nums[i]\n",
    "\n",
    "new_nums2 = dict(zip([i for i in range(len(nums))], nums))\n",
    "nums.sort(reverse=True)\n",
    "# print('new_nums2',new_nums2)\n",
    "# print(nums)\n",
    "# print(new_nums)\n",
    "res = []\n",
    "for i in nums:\n",
    "    for j in range(len(nums)):\n",
    "        if(new_nums2.get(j) == i):\n",
    "            res.append(j)\n",
    "# print(res) # 순서를 출력함\n",
    "\n",
    "result = ''\n",
    "new_nums\n",
    "for i in res:\n",
    "    result += new_nums.get(i)\n",
    "print(result)"
   ]
  },
  {
   "cell_type": "code",
   "execution_count": null,
   "metadata": {},
   "outputs": [],
   "source": [
    "# ## 김선우 학생꺼.. 자스임\n",
    "# function findSafePosition(n, k) {\n",
    "#     let soldiers = Array.from({ length: n }, (_, i) => i + 1); // 1부터 N까지 병사 생성\n",
    "#     let idx = 0; // 시작 인덱스\n",
    "\n",
    "#     while (soldiers.length > 1) {\n",
    "#         idx = (idx + k - 1) % soldiers.length; \n",
    "#         soldiers.delete(idx, 1); \n",
    "#     }\n",
    "\n",
    "#     // 마지막으로 남은 병사의 번호 반환\n",
    "#     return soldiers[0];\n",
    "# }\n",
    "\n",
    "# const n = 10;\n",
    "# const k = 3;"
   ]
  },
  {
   "cell_type": "code",
   "execution_count": 65,
   "metadata": {},
   "outputs": [
    {
     "name": "stdout",
     "output_type": "stream",
     "text": [
      "9534330\n"
     ]
    }
   ],
   "source": [
    "# 조한영 학생\n",
    "# 3. 음수가 아닌 수들이 주어졌을 때 그 수들을 이어서 만들 수 있는 가장 큰 수를 구하시오. 예를 들어 [1,2,3]이 주어졌을 때 만들 수 있는 가장 큰 수는 321이고, [3, 30, 34, 5, 9] 가 주어지면 만들 수 있는 가장 큰 수는 9534330이다.\n",
    "\n",
    "\n",
    "#  가 주어지면 만들 수 있는 가장 큰 수는 9534330이다.\n",
    "\n",
    "soo=[3, 30, 34, 5, 9]\n",
    "test=[]\n",
    "max_len = max(len(str(i)) for i in soo)\n",
    "for i in soo:\n",
    "    test.append(str(i)) #문자열을 비교하기 위해 문자열로 변환\n",
    "    test=sorted(test,key=lambda x:x*max_len,reverse=True) #문자열을 비교시 아스키 코드로 비교되서 결과가 나오는것을 이용하기 위해 문자열로 바꾼후 30,3 과 같은 수중 뭐가 앞에 나와야할지 결정하기 위해 같은 문자를 max_len번 곱하여 앞에 나와야 할 수를 정하고 오름차순을 내림차순으로 바꿔 제일 큰 수 완성\n",
    "print(\"\".join(test))"
   ]
  },
  {
   "cell_type": "code",
   "execution_count": 63,
   "metadata": {},
   "outputs": [
    {
     "ename": "TypeError",
     "evalue": "ord() expected a character, but string of length 2 found",
     "output_type": "error",
     "traceback": [
      "\u001b[1;31m---------------------------------------------------------------------------\u001b[0m",
      "\u001b[1;31mTypeError\u001b[0m                                 Traceback (most recent call last)",
      "Cell \u001b[1;32mIn[63], line 1\u001b[0m\n\u001b[1;32m----> 1\u001b[0m \u001b[38;5;28;43mord\u001b[39;49m\u001b[43m(\u001b[49m\u001b[38;5;124;43m'\u001b[39;49m\u001b[38;5;124;43m34\u001b[39;49m\u001b[38;5;124;43m'\u001b[39;49m\u001b[43m)\u001b[49m\n",
      "\u001b[1;31mTypeError\u001b[0m: ord() expected a character, but string of length 2 found"
     ]
    }
   ],
   "source": [
    "ord('34')"
   ]
  }
 ],
 "metadata": {
  "kernelspec": {
   "display_name": "Python 3",
   "language": "python",
   "name": "python3"
  },
  "language_info": {
   "codemirror_mode": {
    "name": "ipython",
    "version": 3
   },
   "file_extension": ".py",
   "mimetype": "text/x-python",
   "name": "python",
   "nbconvert_exporter": "python",
   "pygments_lexer": "ipython3",
   "version": "3.10.9"
  }
 },
 "nbformat": 4,
 "nbformat_minor": 2
}
