{
 "cells": [
  {
   "cell_type": "code",
   "execution_count": 1,
   "id": "28131278",
   "metadata": {},
   "outputs": [
    {
     "name": "stdout",
     "output_type": "stream",
     "text": [
      "Collecting oracledb\n",
      "  Downloading oracledb-3.2.0-cp312-cp312-win_amd64.whl.metadata (6.7 kB)\n",
      "Collecting cryptography>=3.2.1 (from oracledb)\n",
      "  Downloading cryptography-45.0.5-cp311-abi3-win_amd64.whl.metadata (5.7 kB)\n",
      "Collecting cffi>=1.14 (from cryptography>=3.2.1->oracledb)\n",
      "  Using cached cffi-1.17.1-cp312-cp312-win_amd64.whl.metadata (1.6 kB)\n",
      "Collecting pycparser (from cffi>=1.14->cryptography>=3.2.1->oracledb)\n",
      "  Using cached pycparser-2.22-py3-none-any.whl.metadata (943 bytes)\n",
      "Downloading oracledb-3.2.0-cp312-cp312-win_amd64.whl (1.9 MB)\n",
      "   ---------------------------------------- 0.0/1.9 MB ? eta -:--:--\n",
      "   ---------------------------------------- 1.9/1.9 MB 33.8 MB/s eta 0:00:00\n",
      "Downloading cryptography-45.0.5-cp311-abi3-win_amd64.whl (3.4 MB)\n",
      "   ---------------------------------------- 0.0/3.4 MB ? eta -:--:--\n",
      "   ---------------------------------------- 3.4/3.4 MB 66.8 MB/s eta 0:00:00\n",
      "Using cached cffi-1.17.1-cp312-cp312-win_amd64.whl (181 kB)\n",
      "Using cached pycparser-2.22-py3-none-any.whl (117 kB)\n",
      "Installing collected packages: pycparser, cffi, cryptography, oracledb\n",
      "Successfully installed cffi-1.17.1 cryptography-45.0.5 oracledb-3.2.0 pycparser-2.22\n"
     ]
    },
    {
     "name": "stderr",
     "output_type": "stream",
     "text": [
      "\n",
      "[notice] A new release of pip is available: 25.0.1 -> 25.1.1\n",
      "[notice] To update, run: python.exe -m pip install --upgrade pip\n"
     ]
    }
   ],
   "source": [
    "!pip install oracledb"
   ]
  },
  {
   "cell_type": "code",
   "execution_count": 5,
   "id": "7606ed94",
   "metadata": {},
   "outputs": [
    {
     "ename": "NameError",
     "evalue": "name '__version__' is not defined",
     "output_type": "error",
     "traceback": [
      "\u001b[31m---------------------------------------------------------------------------\u001b[39m",
      "\u001b[31mNameError\u001b[39m                                 Traceback (most recent call last)",
      "\u001b[36mCell\u001b[39m\u001b[36m \u001b[39m\u001b[32mIn[5]\u001b[39m\u001b[32m, line 1\u001b[39m\n\u001b[32m----> \u001b[39m\u001b[32m1\u001b[39m \u001b[38;5;28mprint\u001b[39m(\u001b[43m__version__\u001b[49m)\n",
      "\u001b[31mNameError\u001b[39m: name '__version__' is not defined"
     ]
    }
   ],
   "source": [
    "print(__version__)"
   ]
  },
  {
   "cell_type": "code",
   "execution_count": 6,
   "id": "f7a84020",
   "metadata": {},
   "outputs": [
    {
     "name": "stdout",
     "output_type": "stream",
     "text": [
      "3.12.10 (tags/v3.12.10:0cc8128, Apr  8 2025, 12:21:36) [MSC v.1943 64 bit (AMD64)]\n"
     ]
    },
    {
     "data": {
      "text/plain": [
       "(100,\n",
       " 'Steven',\n",
       " 'King',\n",
       " 'SKING',\n",
       " '515.123.4567',\n",
       " datetime.datetime(2003, 6, 17, 0, 0),\n",
       " 'AD_PRES',\n",
       " 24000.0,\n",
       " None,\n",
       " None,\n",
       " 90)"
      ]
     },
     "execution_count": 6,
     "metadata": {},
     "output_type": "execute_result"
    }
   ],
   "source": [
    "import oracledb, sys\n",
    "print(sys.version)\n",
    "oracledb.init_oracle_client()\n",
    "# DB에 연결 (호스트이름 대신 IP주소 가능)\n",
    "con = oracledb.connect(user=\"hr\", password=\"hr\", dsn=\"localhost:1521/XE\")\n",
    "cursor = con.cursor()\n",
    "cursor.execute(\"select * from EMPLOYEES\")\n",
    "res = cursor.fetchall()\n",
    "res[0]"
   ]
  },
  {
   "cell_type": "code",
   "execution_count": null,
   "id": "fb5f0959",
   "metadata": {},
   "outputs": [],
   "source": []
  }
 ],
 "metadata": {
  "kernelspec": {
   "display_name": "Python 3",
   "language": "python",
   "name": "python3"
  },
  "language_info": {
   "codemirror_mode": {
    "name": "ipython",
    "version": 3
   },
   "file_extension": ".py",
   "mimetype": "text/x-python",
   "name": "python",
   "nbconvert_exporter": "python",
   "pygments_lexer": "ipython3",
   "version": "3.12.10"
  }
 },
 "nbformat": 4,
 "nbformat_minor": 5
}
